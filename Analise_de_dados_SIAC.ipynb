{
 "cells": [
  {
   "cell_type": "markdown",
   "id": "74849c21",
   "metadata": {},
   "source": [
    "## Análise de Dados dos Crimes Contra a Mulher em Belém"
   ]
  },
  {
   "cell_type": "markdown",
   "id": "73b022ac",
   "metadata": {},
   "source": [
    "### 1. Seleção e tratamento de dados"
   ]
  },
  {
   "cell_type": "code",
   "execution_count": 1,
   "id": "d04dbdd3",
   "metadata": {},
   "outputs": [
    {
     "ename": "ModuleNotFoundError",
     "evalue": "No module named 'seaborn'",
     "output_type": "error",
     "traceback": [
      "\u001b[0;31m---------------------------------------------------------------------------\u001b[0m",
      "\u001b[0;31mModuleNotFoundError\u001b[0m                       Traceback (most recent call last)",
      "Cell \u001b[0;32mIn[1], line 5\u001b[0m\n\u001b[1;32m      3\u001b[0m \u001b[38;5;28;01mimport\u001b[39;00m \u001b[38;5;21;01mnumpy\u001b[39;00m \u001b[38;5;28;01mas\u001b[39;00m \u001b[38;5;21;01mnp\u001b[39;00m\n\u001b[1;32m      4\u001b[0m \u001b[38;5;28;01mimport\u001b[39;00m \u001b[38;5;21;01mmatplotlib\u001b[39;00m\u001b[38;5;21;01m.\u001b[39;00m\u001b[38;5;21;01mpyplot\u001b[39;00m \u001b[38;5;28;01mas\u001b[39;00m \u001b[38;5;21;01mplt\u001b[39;00m\n\u001b[0;32m----> 5\u001b[0m \u001b[38;5;28;01mimport\u001b[39;00m \u001b[38;5;21;01mseaborn\u001b[39;00m \u001b[38;5;28;01mas\u001b[39;00m \u001b[38;5;21;01msns\u001b[39;00m\n",
      "\u001b[0;31mModuleNotFoundError\u001b[0m: No module named 'seaborn'"
     ]
    }
   ],
   "source": [
    "import pandas as pd\n",
    "\n",
    "import numpy as np\n",
    "import matplotlib.pyplot as plt\n",
    "import seaborn as sns"
   ]
  },
  {
   "cell_type": "code",
   "execution_count": 25,
   "id": "bb7ab151",
   "metadata": {},
   "outputs": [],
   "source": [
    "df = pd.read_csv(r\"C:\\\\Users\\\\carlo\\\\Downloads\\\\crimes_2019_a_2022.csv\", low_memory=False)"
   ]
  },
  {
   "cell_type": "code",
   "execution_count": 26,
   "id": "b57bb513",
   "metadata": {},
   "outputs": [],
   "source": [
    "df_2023 = pd.read_excel(\"C:\\\\Users\\\\carlo\\\\Downloads\\\\BASE 2023 - DEAM.xlsx\")"
   ]
  },
  {
   "cell_type": "code",
   "execution_count": 27,
   "id": "3c4e06e5",
   "metadata": {},
   "outputs": [
    {
     "data": {
      "text/plain": [
       "(1842040, 81)"
      ]
     },
     "execution_count": 27,
     "metadata": {},
     "output_type": "execute_result"
    }
   ],
   "source": [
    "df.shape"
   ]
  },
  {
   "cell_type": "code",
   "execution_count": 28,
   "id": "2864359c",
   "metadata": {},
   "outputs": [
    {
     "data": {
      "text/plain": [
       "ano_fato\n",
       "2021    475486\n",
       "2019    471446\n",
       "2022    465571\n",
       "2020    421113\n",
       "2018      8408\n",
       "2016         4\n",
       "2013         3\n",
       "2012         2\n",
       "2015         2\n",
       "2011         2\n",
       "2017         2\n",
       "2010         1\n",
       "Name: count, dtype: int64"
      ]
     },
     "execution_count": 28,
     "metadata": {},
     "output_type": "execute_result"
    }
   ],
   "source": [
    "df.ano_fato.value_counts()"
   ]
  },
  {
   "cell_type": "code",
   "execution_count": 31,
   "id": "0124a326",
   "metadata": {},
   "outputs": [
    {
     "data": {
      "text/plain": [
       "(499999, 71)"
      ]
     },
     "execution_count": 31,
     "metadata": {},
     "output_type": "execute_result"
    }
   ],
   "source": [
    "df_2023.shape"
   ]
  },
  {
   "cell_type": "code",
   "execution_count": 32,
   "id": "6faf7c53",
   "metadata": {},
   "outputs": [
    {
     "data": {
      "text/plain": [
       "ano_fato\n",
       "2023    499999\n",
       "Name: count, dtype: int64"
      ]
     },
     "execution_count": 32,
     "metadata": {},
     "output_type": "execute_result"
    }
   ],
   "source": [
    "df_2023.ano_fato.value_counts()"
   ]
  },
  {
   "cell_type": "code",
   "execution_count": 33,
   "id": "cf14570e",
   "metadata": {},
   "outputs": [],
   "source": [
    "df.drop(df[df['ano_fato'].isin([2010, 2017, 2011,2015,2012,2013,2016,2018])].index, inplace=True)"
   ]
  },
  {
   "cell_type": "code",
   "execution_count": 34,
   "id": "4f29c37b",
   "metadata": {},
   "outputs": [
    {
     "data": {
      "text/plain": [
       "'2019-01-01'"
      ]
     },
     "execution_count": 34,
     "metadata": {},
     "output_type": "execute_result"
    }
   ],
   "source": [
    "df.data_fato.min()"
   ]
  },
  {
   "cell_type": "code",
   "execution_count": 35,
   "id": "83441094",
   "metadata": {},
   "outputs": [
    {
     "data": {
      "text/plain": [
       "'2022-12-31 00:00:00'"
      ]
     },
     "execution_count": 35,
     "metadata": {},
     "output_type": "execute_result"
    }
   ],
   "source": [
    "df.data_fato.max()"
   ]
  },
  {
   "cell_type": "code",
   "execution_count": 36,
   "id": "852ee3fc",
   "metadata": {},
   "outputs": [
    {
     "data": {
      "text/plain": [
       "Timestamp('2023-01-01 00:00:00')"
      ]
     },
     "execution_count": 36,
     "metadata": {},
     "output_type": "execute_result"
    }
   ],
   "source": [
    "df_2023.data_fato.min()"
   ]
  },
  {
   "cell_type": "code",
   "execution_count": 37,
   "id": "85c33d98",
   "metadata": {},
   "outputs": [
    {
     "data": {
      "text/plain": [
       "Timestamp('2023-12-31 00:00:00')"
      ]
     },
     "execution_count": 37,
     "metadata": {},
     "output_type": "execute_result"
    }
   ],
   "source": [
    "df_2023.data_fato.max()"
   ]
  },
  {
   "cell_type": "markdown",
   "id": "5efd7520",
   "metadata": {},
   "source": [
    "Concatenação das bases"
   ]
  },
  {
   "cell_type": "code",
   "execution_count": 38,
   "id": "54fcd6de",
   "metadata": {},
   "outputs": [],
   "source": [
    "df_concatenado = pd.concat([df, df_2023], ignore_index=True)"
   ]
  },
  {
   "cell_type": "code",
   "execution_count": 39,
   "id": "d3fc3bcf",
   "metadata": {},
   "outputs": [
    {
     "data": {
      "text/plain": [
       "(2333615, 81)"
      ]
     },
     "execution_count": 39,
     "metadata": {},
     "output_type": "execute_result"
    }
   ],
   "source": [
    "df_concatenado.shape"
   ]
  },
  {
   "cell_type": "code",
   "execution_count": 40,
   "id": "e0565963",
   "metadata": {},
   "outputs": [
    {
     "data": {
      "text/html": [
       "<div>\n",
       "<style scoped>\n",
       "    .dataframe tbody tr th:only-of-type {\n",
       "        vertical-align: middle;\n",
       "    }\n",
       "\n",
       "    .dataframe tbody tr th {\n",
       "        vertical-align: top;\n",
       "    }\n",
       "\n",
       "    .dataframe thead th {\n",
       "        text-align: right;\n",
       "    }\n",
       "</style>\n",
       "<table border=\"1\" class=\"dataframe\">\n",
       "  <thead>\n",
       "    <tr style=\"text-align: right;\">\n",
       "      <th></th>\n",
       "      <th>nro_bop</th>\n",
       "      <th>nro_bop_aditado</th>\n",
       "      <th>nro_tombo</th>\n",
       "      <th>tipo_tombo</th>\n",
       "      <th>unidade_origem</th>\n",
       "      <th>unidade_responsavel</th>\n",
       "      <th>data_registro</th>\n",
       "      <th>hora_registro</th>\n",
       "      <th>data_fato</th>\n",
       "      <th>dia_semana</th>\n",
       "      <th>hora_fato</th>\n",
       "      <th>fx_4_hor</th>\n",
       "      <th>fx_12_hr</th>\n",
       "      <th>data_inst_proc</th>\n",
       "      <th>data_concl_proc</th>\n",
       "      <th>sit_proc</th>\n",
       "      <th>classe_motivo</th>\n",
       "      <th>mes_registro</th>\n",
       "      <th>mes_fato</th>\n",
       "      <th>ano_registro</th>\n",
       "      <th>ano_fato</th>\n",
       "      <th>registros</th>\n",
       "      <th>consolidado</th>\n",
       "      <th>fato_real</th>\n",
       "      <th>especificacao_crime</th>\n",
       "      <th>meio_emp_deac</th>\n",
       "      <th>latitude</th>\n",
       "      <th>longitude</th>\n",
       "      <th>causa_presumivel</th>\n",
       "      <th>especializacao_fato</th>\n",
       "      <th>grupo_ocorrencia</th>\n",
       "      <th>sub_grupo</th>\n",
       "      <th>meio_empregado_sisp</th>\n",
       "      <th>distrito</th>\n",
       "      <th>municipios</th>\n",
       "      <th>regionais</th>\n",
       "      <th>bairros</th>\n",
       "      <th>reg_integracao</th>\n",
       "      <th>risp</th>\n",
       "      <th>aisp</th>\n",
       "      <th>rua_fato</th>\n",
       "      <th>empresa</th>\n",
       "      <th>linha</th>\n",
       "      <th>tipo_transporte</th>\n",
       "      <th>complemento</th>\n",
       "      <th>local_ocorrencia</th>\n",
       "      <th>identificacao_fato</th>\n",
       "      <th>relato</th>\n",
       "      <th>vit_dt_nasc</th>\n",
       "      <th>vit_idade</th>\n",
       "      <th>vit_fx_etaria</th>\n",
       "      <th>vit_nro_doc</th>\n",
       "      <th>vit_tipo_doc</th>\n",
       "      <th>vit_pai</th>\n",
       "      <th>vit_mae</th>\n",
       "      <th>vit_tipo</th>\n",
       "      <th>vit_sexo</th>\n",
       "      <th>vit_cor_pele</th>\n",
       "      <th>vit_grau_inst</th>\n",
       "      <th>vit_profissao</th>\n",
       "      <th>vit_situacao_emprego</th>\n",
       "      <th>vit_estado_civil</th>\n",
       "      <th>aut_data_nasc</th>\n",
       "      <th>aut_idade</th>\n",
       "      <th>aut_fx_etaria</th>\n",
       "      <th>aut_tipo</th>\n",
       "      <th>aut_sexo</th>\n",
       "      <th>grau_de_relacionamento</th>\n",
       "      <th>aut_cor_pele</th>\n",
       "      <th>aut_grau_inst</th>\n",
       "      <th>aut_profissao</th>\n",
       "      <th>aut_sit_emprego</th>\n",
       "      <th>aut_est_civil</th>\n",
       "      <th>meio_locomocao</th>\n",
       "      <th>cor_veiculo</th>\n",
       "      <th>marca_veic_fuga</th>\n",
       "      <th>modelo_do_veic_fuga</th>\n",
       "      <th>qtd_autor</th>\n",
       "      <th>relatorio</th>\n",
       "      <th>ident_autoria</th>\n",
       "      <th>atuacao</th>\n",
       "    </tr>\n",
       "  </thead>\n",
       "  <tbody>\n",
       "    <tr>\n",
       "      <th>0</th>\n",
       "      <td>277/2019.255548-2</td>\n",
       "      <td>/.-</td>\n",
       "      <td>NAO INSTAURADO</td>\n",
       "      <td>NAO INSTAURADO</td>\n",
       "      <td>DEL.VIRTUAL - 277</td>\n",
       "      <td>SAO FELIX DO XINGU - UNIDADE POLICIAL 212</td>\n",
       "      <td>2019-12-12</td>\n",
       "      <td>1970-01-01 14:43:00</td>\n",
       "      <td>2019-12-11</td>\n",
       "      <td>QUA</td>\n",
       "      <td>1970-01-01 15:30:00</td>\n",
       "      <td>12 |-- 18</td>\n",
       "      <td>14 |-- 16</td>\n",
       "      <td>1900-09-09</td>\n",
       "      <td>1900-09-09</td>\n",
       "      <td>NAO INSTAURADO</td>\n",
       "      <td>CRIMES CONTRA O PATRIMONIO</td>\n",
       "      <td>DEZEMBRO</td>\n",
       "      <td>DEZEMBRO</td>\n",
       "      <td>2019</td>\n",
       "      <td>2019</td>\n",
       "      <td>ART.155 - FURTO</td>\n",
       "      <td>FURTO</td>\n",
       "      <td>NaN</td>\n",
       "      <td>NaN</td>\n",
       "      <td>NaN</td>\n",
       "      <td>NaN</td>\n",
       "      <td>NaN</td>\n",
       "      <td>IMPERICIA / IMPRUDENCIA / NEGLIGENCIA</td>\n",
       "      <td>CRIMES DE FURTO E ROUBO</td>\n",
       "      <td>BOPS NA DELEGACIA VIRTUAL</td>\n",
       "      <td>EXT.,FURTO E ROUBO DE DOC.,CH. E CEL.</td>\n",
       "      <td>SEM INSTRUMENTO</td>\n",
       "      <td>SAO FELIX DO XINGU</td>\n",
       "      <td>SAO FELIX DO XINGU</td>\n",
       "      <td>ALTO XINGU</td>\n",
       "      <td>ZONA RURAL</td>\n",
       "      <td>REGIAO ARAGUAIA</td>\n",
       "      <td>14ª RISP</td>\n",
       "      <td>NaN</td>\n",
       "      <td>RUA PRINCIPAL</td>\n",
       "      <td>NaN</td>\n",
       "      <td>NaN</td>\n",
       "      <td>NaN</td>\n",
       "      <td>NaN</td>\n",
       "      <td>ESTABELECIMENTO BANCARIO</td>\n",
       "      <td>FURTO IP: 177.23.224.122</td>\n",
       "      <td>O RELATOR ACIMA QUALIFICADO COMUNICA, ATRAVÉS ...</td>\n",
       "      <td>1943-06-24 00:00:00</td>\n",
       "      <td>76.0</td>\n",
       "      <td>IDOSO (65 ANOS OU MAIS)</td>\n",
       "      <td>18637744834</td>\n",
       "      <td>CPF</td>\n",
       "      <td>ANTONIO ALVES DA SILVA</td>\n",
       "      <td>MARIA MARTINS DA SILVA</td>\n",
       "      <td>NaN</td>\n",
       "      <td>M</td>\n",
       "      <td>NaN</td>\n",
       "      <td>NaN</td>\n",
       "      <td>NaN</td>\n",
       "      <td>NaN</td>\n",
       "      <td>CASADO(A)</td>\n",
       "      <td>1900-09-09 00:00:00</td>\n",
       "      <td>99999.0</td>\n",
       "      <td>NAO INFORMADO</td>\n",
       "      <td>NaN</td>\n",
       "      <td>NI</td>\n",
       "      <td>NaN</td>\n",
       "      <td>NaN</td>\n",
       "      <td>NaN</td>\n",
       "      <td>NaN</td>\n",
       "      <td>NaN</td>\n",
       "      <td>NaN</td>\n",
       "      <td>NaN</td>\n",
       "      <td>NaN</td>\n",
       "      <td>NaN</td>\n",
       "      <td>NaN</td>\n",
       "      <td>NaN</td>\n",
       "      <td>NaN</td>\n",
       "      <td>NaN</td>\n",
       "      <td>NaN</td>\n",
       "    </tr>\n",
       "    <tr>\n",
       "      <th>1</th>\n",
       "      <td>277/2019.257206-7</td>\n",
       "      <td>/.-</td>\n",
       "      <td>NAO INSTAURADO</td>\n",
       "      <td>NAO INSTAURADO</td>\n",
       "      <td>DEL.VIRTUAL - 277</td>\n",
       "      <td>MARAMBAIA - PATRIMONIO 248 - 1º RISP- 9ª AISP</td>\n",
       "      <td>2019-12-16</td>\n",
       "      <td>1970-01-01 10:38:00</td>\n",
       "      <td>2019-12-10</td>\n",
       "      <td>TER</td>\n",
       "      <td>1970-01-01 15:00:00</td>\n",
       "      <td>12 |-- 18</td>\n",
       "      <td>14 |-- 16</td>\n",
       "      <td>1900-09-09</td>\n",
       "      <td>1900-09-09</td>\n",
       "      <td>NAO INSTAURADO</td>\n",
       "      <td>CRIMES CONTRA O PATRIMONIO</td>\n",
       "      <td>DEZEMBRO</td>\n",
       "      <td>DEZEMBRO</td>\n",
       "      <td>2019</td>\n",
       "      <td>2019</td>\n",
       "      <td>ART.155 - FURTO</td>\n",
       "      <td>FURTO</td>\n",
       "      <td>NaN</td>\n",
       "      <td>NaN</td>\n",
       "      <td>NaN</td>\n",
       "      <td>NaN</td>\n",
       "      <td>NaN</td>\n",
       "      <td>IMPERICIA / IMPRUDENCIA / NEGLIGENCIA</td>\n",
       "      <td>CRIMES DE FURTO E ROUBO</td>\n",
       "      <td>BOPS NA DELEGACIA VIRTUAL</td>\n",
       "      <td>EXT.,FURTO E ROUBO DE DOC.,CH. E CEL.</td>\n",
       "      <td>SEM INSTRUMENTO</td>\n",
       "      <td>BELEM</td>\n",
       "      <td>BELEM</td>\n",
       "      <td>CAPITAL</td>\n",
       "      <td>MANGUEIRAO</td>\n",
       "      <td>REGIAO GUAJARA</td>\n",
       "      <td>01ª RISP</td>\n",
       "      <td>10ª AISP</td>\n",
       "      <td>CONJ. CATALINA</td>\n",
       "      <td>NaN</td>\n",
       "      <td>NaN</td>\n",
       "      <td>NaN</td>\n",
       "      <td>NaN</td>\n",
       "      <td>VIA PUBLICA</td>\n",
       "      <td>FURTO IP: 189.40.106.250</td>\n",
       "      <td>O RELATOR ACIMA QUALIFICADO COMUNICA, ATRAVÉS ...</td>\n",
       "      <td>1969-11-14 00:00:00</td>\n",
       "      <td>50.0</td>\n",
       "      <td>ADULTO IV (35 A 64 ANOS)</td>\n",
       "      <td>NaN</td>\n",
       "      <td>NaN</td>\n",
       "      <td>NaN</td>\n",
       "      <td>MARIA DAS GRA?AS ARAUJO SANTOS</td>\n",
       "      <td>NaN</td>\n",
       "      <td>F</td>\n",
       "      <td>NaN</td>\n",
       "      <td>NaN</td>\n",
       "      <td>NaN</td>\n",
       "      <td>NaN</td>\n",
       "      <td>UNIAO ESTAVEL</td>\n",
       "      <td>1900-09-09 00:00:00</td>\n",
       "      <td>99999.0</td>\n",
       "      <td>NAO INFORMADO</td>\n",
       "      <td>NaN</td>\n",
       "      <td>NI</td>\n",
       "      <td>NaN</td>\n",
       "      <td>NaN</td>\n",
       "      <td>NaN</td>\n",
       "      <td>NaN</td>\n",
       "      <td>NaN</td>\n",
       "      <td>NaN</td>\n",
       "      <td>NaN</td>\n",
       "      <td>NaN</td>\n",
       "      <td>NaN</td>\n",
       "      <td>NaN</td>\n",
       "      <td>NaN</td>\n",
       "      <td>NaN</td>\n",
       "      <td>NaN</td>\n",
       "      <td>NaN</td>\n",
       "    </tr>\n",
       "    <tr>\n",
       "      <th>2</th>\n",
       "      <td>277/2019.161968-6</td>\n",
       "      <td>/.-</td>\n",
       "      <td>NAO INSTAURADO</td>\n",
       "      <td>NAO INSTAURADO</td>\n",
       "      <td>DEL.VIRTUAL - 277</td>\n",
       "      <td>TUCURUI - PESSOA 454</td>\n",
       "      <td>2019-08-10</td>\n",
       "      <td>1970-01-01 10:55:00</td>\n",
       "      <td>2019-08-06</td>\n",
       "      <td>TER</td>\n",
       "      <td>1970-01-01 13:30:00</td>\n",
       "      <td>12 |-- 18</td>\n",
       "      <td>12 |-- 14</td>\n",
       "      <td>1900-09-09</td>\n",
       "      <td>1900-09-09</td>\n",
       "      <td>NAO INSTAURADO</td>\n",
       "      <td>REGISTROS QUE NAO GERAM PROCEDIMENTO</td>\n",
       "      <td>AGOSTO</td>\n",
       "      <td>AGOSTO</td>\n",
       "      <td>2019</td>\n",
       "      <td>2019</td>\n",
       "      <td>DANO CULPOSO (CIVIL)</td>\n",
       "      <td>DANO NO TRANSITO</td>\n",
       "      <td>NaN</td>\n",
       "      <td>NaN</td>\n",
       "      <td>NaN</td>\n",
       "      <td>NaN</td>\n",
       "      <td>NaN</td>\n",
       "      <td>IMPERICIA / IMPRUDENCIA / NEGLIGENCIA</td>\n",
       "      <td>DELITO DE TRANSITO</td>\n",
       "      <td>BOPS NA DELEGACIA VIRTUAL</td>\n",
       "      <td>EXT.,FURTO E ROUBO DE DOC.,CH. E CEL.</td>\n",
       "      <td>SEM INSTRUMENTO</td>\n",
       "      <td>TUCURUI</td>\n",
       "      <td>TUCURUI</td>\n",
       "      <td>LAGO DE TUCURUI</td>\n",
       "      <td>CENTRO</td>\n",
       "      <td>REGIAO LAGO TUCURUI</td>\n",
       "      <td>09ª RISP</td>\n",
       "      <td>NaN</td>\n",
       "      <td>PRINCIPAL, RUA</td>\n",
       "      <td>NaN</td>\n",
       "      <td>NaN</td>\n",
       "      <td>NaN</td>\n",
       "      <td>NaN</td>\n",
       "      <td>OUTROS</td>\n",
       "      <td>ACIDENTE DE TRANSITO IP: 131.255.227.254</td>\n",
       "      <td>EXCLUSIVAMENTE PARA FINS DE DIREITO, O RELATOR...</td>\n",
       "      <td>1986-04-17 00:00:00</td>\n",
       "      <td>33.0</td>\n",
       "      <td>ADULTO III (30 A 34 ANOS)</td>\n",
       "      <td>03981094984</td>\n",
       "      <td>CNH</td>\n",
       "      <td>NaN</td>\n",
       "      <td>RAIMUNDA OLIVEIRA DA SILVA</td>\n",
       "      <td>NaN</td>\n",
       "      <td>M</td>\n",
       "      <td>NaN</td>\n",
       "      <td>NaN</td>\n",
       "      <td>NaN</td>\n",
       "      <td>NaN</td>\n",
       "      <td>CASADO(A)</td>\n",
       "      <td>1900-09-09 00:00:00</td>\n",
       "      <td>99999.0</td>\n",
       "      <td>NAO INFORMADO</td>\n",
       "      <td>NaN</td>\n",
       "      <td>NI</td>\n",
       "      <td>NaN</td>\n",
       "      <td>NaN</td>\n",
       "      <td>NaN</td>\n",
       "      <td>NaN</td>\n",
       "      <td>NaN</td>\n",
       "      <td>NaN</td>\n",
       "      <td>NaN</td>\n",
       "      <td>NaN</td>\n",
       "      <td>NaN</td>\n",
       "      <td>NaN</td>\n",
       "      <td>NaN</td>\n",
       "      <td>NaN</td>\n",
       "      <td>NaN</td>\n",
       "      <td>NaN</td>\n",
       "    </tr>\n",
       "    <tr>\n",
       "      <th>3</th>\n",
       "      <td>277/2019.162974-0</td>\n",
       "      <td>/.-</td>\n",
       "      <td>NAO INSTAURADO</td>\n",
       "      <td>NAO INSTAURADO</td>\n",
       "      <td>DEL.VIRTUAL - 277</td>\n",
       "      <td>GUAMA - PATRIMONIO 326 - 1º RISP- 5ª AISP</td>\n",
       "      <td>2019-08-12</td>\n",
       "      <td>1970-01-01 13:00:00</td>\n",
       "      <td>2019-08-10</td>\n",
       "      <td>SAB</td>\n",
       "      <td>1970-01-01 19:30:00</td>\n",
       "      <td>18 |-- 24</td>\n",
       "      <td>18 |-- 20</td>\n",
       "      <td>1900-09-09</td>\n",
       "      <td>1900-09-09</td>\n",
       "      <td>NAO INSTAURADO</td>\n",
       "      <td>CRIMES CONTRA O PATRIMONIO</td>\n",
       "      <td>AGOSTO</td>\n",
       "      <td>AGOSTO</td>\n",
       "      <td>2019</td>\n",
       "      <td>2019</td>\n",
       "      <td>ART.155 - FURTO</td>\n",
       "      <td>FURTO</td>\n",
       "      <td>NaN</td>\n",
       "      <td>NaN</td>\n",
       "      <td>NaN</td>\n",
       "      <td>NaN</td>\n",
       "      <td>NaN</td>\n",
       "      <td>IMPERICIA / IMPRUDENCIA / NEGLIGENCIA</td>\n",
       "      <td>CRIMES DE FURTO E ROUBO</td>\n",
       "      <td>BOPS NA DELEGACIA VIRTUAL</td>\n",
       "      <td>EXT.,FURTO E ROUBO DE DOC.,CH. E CEL.</td>\n",
       "      <td>SEM INSTRUMENTO</td>\n",
       "      <td>BELEM</td>\n",
       "      <td>BELEM</td>\n",
       "      <td>CAPITAL</td>\n",
       "      <td>GUAMA</td>\n",
       "      <td>REGIAO GUAJARA</td>\n",
       "      <td>01ª RISP</td>\n",
       "      <td>05ª AISP</td>\n",
       "      <td>BARAO DE IGARAPE MIRI, RUA</td>\n",
       "      <td>NaN</td>\n",
       "      <td>NaN</td>\n",
       "      <td>NaN</td>\n",
       "      <td>NaN</td>\n",
       "      <td>VIA PUBLICA</td>\n",
       "      <td>FURTO IP: 177.194.148.73</td>\n",
       "      <td>O RELATOR ACIMA QUALIFICADO COMUNICA, ATRAVÉS ...</td>\n",
       "      <td>1979-04-13 00:00:00</td>\n",
       "      <td>40.0</td>\n",
       "      <td>ADULTO IV (35 A 64 ANOS)</td>\n",
       "      <td>NaN</td>\n",
       "      <td>NaN</td>\n",
       "      <td>NaN</td>\n",
       "      <td>MARIA VEREDIANA DA SILVA SANTOS</td>\n",
       "      <td>NaN</td>\n",
       "      <td>F</td>\n",
       "      <td>NaN</td>\n",
       "      <td>NaN</td>\n",
       "      <td>NaN</td>\n",
       "      <td>NaN</td>\n",
       "      <td>SOLTEIRO(A)</td>\n",
       "      <td>1900-09-09 00:00:00</td>\n",
       "      <td>99999.0</td>\n",
       "      <td>NAO INFORMADO</td>\n",
       "      <td>NaN</td>\n",
       "      <td>NI</td>\n",
       "      <td>NaN</td>\n",
       "      <td>NaN</td>\n",
       "      <td>NaN</td>\n",
       "      <td>NaN</td>\n",
       "      <td>NaN</td>\n",
       "      <td>NaN</td>\n",
       "      <td>NaN</td>\n",
       "      <td>NaN</td>\n",
       "      <td>NaN</td>\n",
       "      <td>NaN</td>\n",
       "      <td>NaN</td>\n",
       "      <td>NaN</td>\n",
       "      <td>NaN</td>\n",
       "      <td>NaN</td>\n",
       "    </tr>\n",
       "    <tr>\n",
       "      <th>4</th>\n",
       "      <td>277/2019.166170-0</td>\n",
       "      <td>/.-</td>\n",
       "      <td>NAO INSTAURADO</td>\n",
       "      <td>NAO INSTAURADO</td>\n",
       "      <td>DEL.VIRTUAL - 277</td>\n",
       "      <td>PARAUAPEBAS - 20ª SECCIONAL 71</td>\n",
       "      <td>2019-08-16</td>\n",
       "      <td>1970-01-01 13:12:00</td>\n",
       "      <td>2019-07-23</td>\n",
       "      <td>TER</td>\n",
       "      <td>1970-01-01 22:00:00</td>\n",
       "      <td>18 |-- 24</td>\n",
       "      <td>22 |-- 24</td>\n",
       "      <td>1900-09-09</td>\n",
       "      <td>1900-09-09</td>\n",
       "      <td>NAO INSTAURADO</td>\n",
       "      <td>CRIMES CONTRA O PATRIMONIO</td>\n",
       "      <td>AGOSTO</td>\n",
       "      <td>JULHO</td>\n",
       "      <td>2019</td>\n",
       "      <td>2019</td>\n",
       "      <td>ART.155 - FURTO</td>\n",
       "      <td>FURTO</td>\n",
       "      <td>NaN</td>\n",
       "      <td>NaN</td>\n",
       "      <td>NaN</td>\n",
       "      <td>NaN</td>\n",
       "      <td>NaN</td>\n",
       "      <td>IMPERICIA / IMPRUDENCIA / NEGLIGENCIA</td>\n",
       "      <td>CRIMES DE FURTO E ROUBO</td>\n",
       "      <td>BOPS NA DELEGACIA VIRTUAL</td>\n",
       "      <td>EXT.,FURTO E ROUBO DE DOC.,CH. E CEL.</td>\n",
       "      <td>SEM INSTRUMENTO</td>\n",
       "      <td>PARAUAPEBAS</td>\n",
       "      <td>PARAUAPEBAS</td>\n",
       "      <td>CARAJAS</td>\n",
       "      <td>ALTAMIRA</td>\n",
       "      <td>REGIAO CARAJAS</td>\n",
       "      <td>10ª RISP</td>\n",
       "      <td>NaN</td>\n",
       "      <td>ITACAIUNA, RUA</td>\n",
       "      <td>NaN</td>\n",
       "      <td>NaN</td>\n",
       "      <td>NaN</td>\n",
       "      <td>NaN</td>\n",
       "      <td>CONDOMINIO RESIDENCIAL</td>\n",
       "      <td>FURTO IP: 177.87.166.138</td>\n",
       "      <td>O RELATOR ACIMA QUALIFICADO COMUNICA, ATRAVÉS ...</td>\n",
       "      <td>1972-08-09 00:00:00</td>\n",
       "      <td>46.0</td>\n",
       "      <td>ADULTO IV (35 A 64 ANOS)</td>\n",
       "      <td>9187965</td>\n",
       "      <td>IDENTIDADE</td>\n",
       "      <td>NaN</td>\n",
       "      <td>BEATRIZ MONTEIRO MAGALH?ES DE JESUS</td>\n",
       "      <td>NaN</td>\n",
       "      <td>F</td>\n",
       "      <td>NaN</td>\n",
       "      <td>NaN</td>\n",
       "      <td>NaN</td>\n",
       "      <td>NaN</td>\n",
       "      <td>CASADO(A)</td>\n",
       "      <td>1900-09-09 00:00:00</td>\n",
       "      <td>99999.0</td>\n",
       "      <td>NAO INFORMADO</td>\n",
       "      <td>NaN</td>\n",
       "      <td>NI</td>\n",
       "      <td>NaN</td>\n",
       "      <td>NaN</td>\n",
       "      <td>NaN</td>\n",
       "      <td>NaN</td>\n",
       "      <td>NaN</td>\n",
       "      <td>NaN</td>\n",
       "      <td>NaN</td>\n",
       "      <td>NaN</td>\n",
       "      <td>NaN</td>\n",
       "      <td>NaN</td>\n",
       "      <td>NaN</td>\n",
       "      <td>NaN</td>\n",
       "      <td>NaN</td>\n",
       "      <td>NaN</td>\n",
       "    </tr>\n",
       "  </tbody>\n",
       "</table>\n",
       "</div>"
      ],
      "text/plain": [
       "             nro_bop nro_bop_aditado       nro_tombo      tipo_tombo  \\\n",
       "0  277/2019.255548-2             /.-  NAO INSTAURADO  NAO INSTAURADO   \n",
       "1  277/2019.257206-7             /.-  NAO INSTAURADO  NAO INSTAURADO   \n",
       "2  277/2019.161968-6             /.-  NAO INSTAURADO  NAO INSTAURADO   \n",
       "3  277/2019.162974-0             /.-  NAO INSTAURADO  NAO INSTAURADO   \n",
       "4  277/2019.166170-0             /.-  NAO INSTAURADO  NAO INSTAURADO   \n",
       "\n",
       "      unidade_origem                            unidade_responsavel  \\\n",
       "0  DEL.VIRTUAL - 277      SAO FELIX DO XINGU - UNIDADE POLICIAL 212   \n",
       "1  DEL.VIRTUAL - 277  MARAMBAIA - PATRIMONIO 248 - 1º RISP- 9ª AISP   \n",
       "2  DEL.VIRTUAL - 277                           TUCURUI - PESSOA 454   \n",
       "3  DEL.VIRTUAL - 277      GUAMA - PATRIMONIO 326 - 1º RISP- 5ª AISP   \n",
       "4  DEL.VIRTUAL - 277                 PARAUAPEBAS - 20ª SECCIONAL 71   \n",
       "\n",
       "  data_registro        hora_registro   data_fato dia_semana  \\\n",
       "0    2019-12-12  1970-01-01 14:43:00  2019-12-11        QUA   \n",
       "1    2019-12-16  1970-01-01 10:38:00  2019-12-10        TER   \n",
       "2    2019-08-10  1970-01-01 10:55:00  2019-08-06        TER   \n",
       "3    2019-08-12  1970-01-01 13:00:00  2019-08-10        SAB   \n",
       "4    2019-08-16  1970-01-01 13:12:00  2019-07-23        TER   \n",
       "\n",
       "             hora_fato   fx_4_hor   fx_12_hr data_inst_proc data_concl_proc  \\\n",
       "0  1970-01-01 15:30:00  12 |-- 18  14 |-- 16     1900-09-09      1900-09-09   \n",
       "1  1970-01-01 15:00:00  12 |-- 18  14 |-- 16     1900-09-09      1900-09-09   \n",
       "2  1970-01-01 13:30:00  12 |-- 18  12 |-- 14     1900-09-09      1900-09-09   \n",
       "3  1970-01-01 19:30:00  18 |-- 24  18 |-- 20     1900-09-09      1900-09-09   \n",
       "4  1970-01-01 22:00:00  18 |-- 24  22 |-- 24     1900-09-09      1900-09-09   \n",
       "\n",
       "         sit_proc                         classe_motivo mes_registro  \\\n",
       "0  NAO INSTAURADO            CRIMES CONTRA O PATRIMONIO     DEZEMBRO   \n",
       "1  NAO INSTAURADO            CRIMES CONTRA O PATRIMONIO     DEZEMBRO   \n",
       "2  NAO INSTAURADO  REGISTROS QUE NAO GERAM PROCEDIMENTO       AGOSTO   \n",
       "3  NAO INSTAURADO            CRIMES CONTRA O PATRIMONIO       AGOSTO   \n",
       "4  NAO INSTAURADO            CRIMES CONTRA O PATRIMONIO       AGOSTO   \n",
       "\n",
       "   mes_fato  ano_registro  ano_fato             registros       consolidado  \\\n",
       "0  DEZEMBRO          2019      2019       ART.155 - FURTO             FURTO   \n",
       "1  DEZEMBRO          2019      2019       ART.155 - FURTO             FURTO   \n",
       "2    AGOSTO          2019      2019  DANO CULPOSO (CIVIL)  DANO NO TRANSITO   \n",
       "3    AGOSTO          2019      2019       ART.155 - FURTO             FURTO   \n",
       "4     JULHO          2019      2019       ART.155 - FURTO             FURTO   \n",
       "\n",
       "  fato_real especificacao_crime meio_emp_deac latitude longitude  \\\n",
       "0       NaN                 NaN           NaN      NaN       NaN   \n",
       "1       NaN                 NaN           NaN      NaN       NaN   \n",
       "2       NaN                 NaN           NaN      NaN       NaN   \n",
       "3       NaN                 NaN           NaN      NaN       NaN   \n",
       "4       NaN                 NaN           NaN      NaN       NaN   \n",
       "\n",
       "                        causa_presumivel      especializacao_fato  \\\n",
       "0  IMPERICIA / IMPRUDENCIA / NEGLIGENCIA  CRIMES DE FURTO E ROUBO   \n",
       "1  IMPERICIA / IMPRUDENCIA / NEGLIGENCIA  CRIMES DE FURTO E ROUBO   \n",
       "2  IMPERICIA / IMPRUDENCIA / NEGLIGENCIA       DELITO DE TRANSITO   \n",
       "3  IMPERICIA / IMPRUDENCIA / NEGLIGENCIA  CRIMES DE FURTO E ROUBO   \n",
       "4  IMPERICIA / IMPRUDENCIA / NEGLIGENCIA  CRIMES DE FURTO E ROUBO   \n",
       "\n",
       "            grupo_ocorrencia                              sub_grupo  \\\n",
       "0  BOPS NA DELEGACIA VIRTUAL  EXT.,FURTO E ROUBO DE DOC.,CH. E CEL.   \n",
       "1  BOPS NA DELEGACIA VIRTUAL  EXT.,FURTO E ROUBO DE DOC.,CH. E CEL.   \n",
       "2  BOPS NA DELEGACIA VIRTUAL  EXT.,FURTO E ROUBO DE DOC.,CH. E CEL.   \n",
       "3  BOPS NA DELEGACIA VIRTUAL  EXT.,FURTO E ROUBO DE DOC.,CH. E CEL.   \n",
       "4  BOPS NA DELEGACIA VIRTUAL  EXT.,FURTO E ROUBO DE DOC.,CH. E CEL.   \n",
       "\n",
       "  meio_empregado_sisp            distrito          municipios  \\\n",
       "0     SEM INSTRUMENTO  SAO FELIX DO XINGU  SAO FELIX DO XINGU   \n",
       "1     SEM INSTRUMENTO               BELEM               BELEM   \n",
       "2     SEM INSTRUMENTO             TUCURUI             TUCURUI   \n",
       "3     SEM INSTRUMENTO               BELEM               BELEM   \n",
       "4     SEM INSTRUMENTO         PARAUAPEBAS         PARAUAPEBAS   \n",
       "\n",
       "         regionais     bairros       reg_integracao      risp      aisp  \\\n",
       "0       ALTO XINGU  ZONA RURAL      REGIAO ARAGUAIA  14ª RISP       NaN   \n",
       "1          CAPITAL  MANGUEIRAO       REGIAO GUAJARA  01ª RISP  10ª AISP   \n",
       "2  LAGO DE TUCURUI      CENTRO  REGIAO LAGO TUCURUI  09ª RISP       NaN   \n",
       "3          CAPITAL       GUAMA       REGIAO GUAJARA  01ª RISP  05ª AISP   \n",
       "4          CARAJAS    ALTAMIRA       REGIAO CARAJAS  10ª RISP       NaN   \n",
       "\n",
       "                     rua_fato empresa linha tipo_transporte complemento  \\\n",
       "0               RUA PRINCIPAL     NaN   NaN             NaN         NaN   \n",
       "1              CONJ. CATALINA     NaN   NaN             NaN         NaN   \n",
       "2              PRINCIPAL, RUA     NaN   NaN             NaN         NaN   \n",
       "3  BARAO DE IGARAPE MIRI, RUA     NaN   NaN             NaN         NaN   \n",
       "4              ITACAIUNA, RUA     NaN   NaN             NaN         NaN   \n",
       "\n",
       "           local_ocorrencia                        identificacao_fato  \\\n",
       "0  ESTABELECIMENTO BANCARIO                  FURTO IP: 177.23.224.122   \n",
       "1               VIA PUBLICA                  FURTO IP: 189.40.106.250   \n",
       "2                    OUTROS  ACIDENTE DE TRANSITO IP: 131.255.227.254   \n",
       "3               VIA PUBLICA                  FURTO IP: 177.194.148.73   \n",
       "4    CONDOMINIO RESIDENCIAL                  FURTO IP: 177.87.166.138   \n",
       "\n",
       "                                              relato          vit_dt_nasc  \\\n",
       "0  O RELATOR ACIMA QUALIFICADO COMUNICA, ATRAVÉS ...  1943-06-24 00:00:00   \n",
       "1  O RELATOR ACIMA QUALIFICADO COMUNICA, ATRAVÉS ...  1969-11-14 00:00:00   \n",
       "2  EXCLUSIVAMENTE PARA FINS DE DIREITO, O RELATOR...  1986-04-17 00:00:00   \n",
       "3  O RELATOR ACIMA QUALIFICADO COMUNICA, ATRAVÉS ...  1979-04-13 00:00:00   \n",
       "4  O RELATOR ACIMA QUALIFICADO COMUNICA, ATRAVÉS ...  1972-08-09 00:00:00   \n",
       "\n",
       "   vit_idade              vit_fx_etaria  vit_nro_doc vit_tipo_doc  \\\n",
       "0       76.0    IDOSO (65 ANOS OU MAIS)  18637744834          CPF   \n",
       "1       50.0   ADULTO IV (35 A 64 ANOS)          NaN          NaN   \n",
       "2       33.0  ADULTO III (30 A 34 ANOS)  03981094984          CNH   \n",
       "3       40.0   ADULTO IV (35 A 64 ANOS)          NaN          NaN   \n",
       "4       46.0   ADULTO IV (35 A 64 ANOS)      9187965   IDENTIDADE   \n",
       "\n",
       "                  vit_pai                              vit_mae vit_tipo  \\\n",
       "0  ANTONIO ALVES DA SILVA               MARIA MARTINS DA SILVA      NaN   \n",
       "1                     NaN       MARIA DAS GRA?AS ARAUJO SANTOS      NaN   \n",
       "2                     NaN           RAIMUNDA OLIVEIRA DA SILVA      NaN   \n",
       "3                     NaN      MARIA VEREDIANA DA SILVA SANTOS      NaN   \n",
       "4                     NaN  BEATRIZ MONTEIRO MAGALH?ES DE JESUS      NaN   \n",
       "\n",
       "  vit_sexo vit_cor_pele vit_grau_inst vit_profissao vit_situacao_emprego  \\\n",
       "0        M          NaN           NaN           NaN                  NaN   \n",
       "1        F          NaN           NaN           NaN                  NaN   \n",
       "2        M          NaN           NaN           NaN                  NaN   \n",
       "3        F          NaN           NaN           NaN                  NaN   \n",
       "4        F          NaN           NaN           NaN                  NaN   \n",
       "\n",
       "  vit_estado_civil        aut_data_nasc  aut_idade  aut_fx_etaria aut_tipo  \\\n",
       "0        CASADO(A)  1900-09-09 00:00:00    99999.0  NAO INFORMADO      NaN   \n",
       "1    UNIAO ESTAVEL  1900-09-09 00:00:00    99999.0  NAO INFORMADO      NaN   \n",
       "2        CASADO(A)  1900-09-09 00:00:00    99999.0  NAO INFORMADO      NaN   \n",
       "3      SOLTEIRO(A)  1900-09-09 00:00:00    99999.0  NAO INFORMADO      NaN   \n",
       "4        CASADO(A)  1900-09-09 00:00:00    99999.0  NAO INFORMADO      NaN   \n",
       "\n",
       "  aut_sexo grau_de_relacionamento aut_cor_pele aut_grau_inst aut_profissao  \\\n",
       "0       NI                    NaN          NaN           NaN           NaN   \n",
       "1       NI                    NaN          NaN           NaN           NaN   \n",
       "2       NI                    NaN          NaN           NaN           NaN   \n",
       "3       NI                    NaN          NaN           NaN           NaN   \n",
       "4       NI                    NaN          NaN           NaN           NaN   \n",
       "\n",
       "  aut_sit_emprego aut_est_civil meio_locomocao cor_veiculo marca_veic_fuga  \\\n",
       "0             NaN           NaN            NaN         NaN             NaN   \n",
       "1             NaN           NaN            NaN         NaN             NaN   \n",
       "2             NaN           NaN            NaN         NaN             NaN   \n",
       "3             NaN           NaN            NaN         NaN             NaN   \n",
       "4             NaN           NaN            NaN         NaN             NaN   \n",
       "\n",
       "  modelo_do_veic_fuga  qtd_autor relatorio ident_autoria atuacao  \n",
       "0                 NaN        NaN       NaN           NaN     NaN  \n",
       "1                 NaN        NaN       NaN           NaN     NaN  \n",
       "2                 NaN        NaN       NaN           NaN     NaN  \n",
       "3                 NaN        NaN       NaN           NaN     NaN  \n",
       "4                 NaN        NaN       NaN           NaN     NaN  "
      ]
     },
     "execution_count": 40,
     "metadata": {},
     "output_type": "execute_result"
    }
   ],
   "source": [
    "pd.set_option('display.max_columns', None)\n",
    "df_concatenado.head()"
   ]
  },
  {
   "cell_type": "markdown",
   "id": "1e522f56",
   "metadata": {},
   "source": [
    "A coluna \"data_fato\" será padronizada para o formato de data"
   ]
  },
  {
   "cell_type": "code",
   "execution_count": 41,
   "id": "83c26578",
   "metadata": {},
   "outputs": [],
   "source": [
    "df_concatenado[\"data_fato\"] = pd.to_datetime(df_concatenado[\"data_fato\"],format='mixed')"
   ]
  },
  {
   "cell_type": "code",
   "execution_count": 43,
   "id": "6fd1c001",
   "metadata": {},
   "outputs": [
    {
     "data": {
      "text/plain": [
       "Timestamp('2019-01-01 00:00:00')"
      ]
     },
     "execution_count": 43,
     "metadata": {},
     "output_type": "execute_result"
    }
   ],
   "source": [
    "df_concatenado.data_fato.min()"
   ]
  },
  {
   "cell_type": "code",
   "execution_count": 44,
   "id": "f997d622",
   "metadata": {},
   "outputs": [
    {
     "data": {
      "text/plain": [
       "Timestamp('2023-12-31 00:00:00')"
      ]
     },
     "execution_count": 44,
     "metadata": {},
     "output_type": "execute_result"
    }
   ],
   "source": [
    "df_concatenado.data_fato.max()"
   ]
  },
  {
   "cell_type": "markdown",
   "id": "52114623",
   "metadata": {},
   "source": [
    "#### Filtrar apenas as colunas que interessam para a análise:\n",
    "- Informações gerais:                  \n",
    "    - 'unidade_origem'\n",
    "    - 'unidade_responsavel'\n",
    "    - 'municipios'\n",
    "    - 'dia_semana'\n",
    "    - 'fx_4_hor'\n",
    "    - 'mes_fato'\n",
    "    - 'ano_fato'\n",
    "    - 'data_fato'\n",
    "    - 'consolidado'\n",
    "    - 'especificacao_crime'\n",
    "    - 'causa_presumivel'\n",
    "    - 'meio_empregado_sisp'\n",
    "    - 'bairros' \n",
    "    - 'local_ocorrencia'\n",
    "    - 'grau_de_relacionamento'\n",
    "    - 'relato'\n",
    "- Dados das vitimas:\n",
    "   - 'vit_idade'\n",
    "   - 'vit_fx_etaria'\n",
    "   - 'vit_sexo'\n",
    "   - 'vit_cor_pele'\n",
    "   - 'vit_grau_inst'\n",
    " - Dados das vitimas:\n",
    "   - 'aut_sexo'\n",
    "\n"
   ]
  },
  {
   "cell_type": "code",
   "execution_count": 45,
   "id": "cbd35ad3",
   "metadata": {},
   "outputs": [],
   "source": [
    "crimes_df=df_concatenado[['unidade_origem','unidade_responsavel','dia_semana','fx_4_hor','mes_fato', 'municipios',\n",
    "                    'ano_fato','data_fato','consolidado','especificacao_crime','causa_presumivel',\n",
    "                    'meio_empregado_sisp','bairros','local_ocorrencia','vit_idade',\n",
    "                    'vit_fx_etaria','vit_sexo','vit_cor_pele','vit_grau_inst',\n",
    "                    'grau_de_relacionamento', 'relato', 'aut_sexo']]"
   ]
  },
  {
   "cell_type": "code",
   "execution_count": 46,
   "id": "3ad33765",
   "metadata": {},
   "outputs": [
    {
     "data": {
      "text/plain": [
       "(2333615, 22)"
      ]
     },
     "execution_count": 46,
     "metadata": {},
     "output_type": "execute_result"
    }
   ],
   "source": [
    "crimes_df.shape"
   ]
  },
  {
   "cell_type": "markdown",
   "id": "20c63ace",
   "metadata": {},
   "source": [
    "##### Filtros para crimes contra a mulher que ocorreram somente na capital Belém\n",
    "* Para delimitar o escopo da análise, serão consideradas apenas as ocorrências registradas na cidade de Belém e os crimes que se enquadram em crimes contra a mulher"
   ]
  },
  {
   "cell_type": "code",
   "execution_count": 47,
   "id": "be3ea82e",
   "metadata": {},
   "outputs": [],
   "source": [
    "crimes_df = crimes_df[crimes_df['municipios'] == 'BELEM']\n",
    "crimes_df.reset_index(drop=True, inplace=True)\n",
    "crimes_df.drop(columns=['municipios'], inplace=True)"
   ]
  },
  {
   "cell_type": "markdown",
   "id": "5db455e3",
   "metadata": {},
   "source": [
    "#### Definição de crimes contra a mulher"
   ]
  },
  {
   "cell_type": "markdown",
   "id": "5865b9cb",
   "metadata": {},
   "source": [
    "Um crime contra a mulher é caracterizado quando uma mulher é vítima de violência ou discriminação com base em seu gênero. Isso pode incluir uma ampla gama de comportamentos prejudiciais, que vão desde violência física e sexual até formas mais sutis de discriminação, como o assédio moral ou sexual no ambiente de trabalho."
   ]
  },
  {
   "cell_type": "markdown",
   "id": "fb3246cc",
   "metadata": {},
   "source": [
    "- Tipos de Violência\n",
    "    - Violência física (visual)\n",
    "    - Violência psicológica (não-visual, mas muito extensa)\n",
    "    - Violência sexual (visual)\n",
    "    - Violência patrimonial (visual-material)\n",
    "    - Violência moral (não-visual)"
   ]
  },
  {
   "cell_type": "code",
   "execution_count": 49,
   "id": "32cb80e9",
   "metadata": {},
   "outputs": [
    {
     "name": "stdout",
     "output_type": "stream",
     "text": [
      "Valores unicos em consolidado: 806\n"
     ]
    },
    {
     "data": {
      "text/plain": [
       "array(['FURTO', 'TRAFICO DE DROGAS', 'DESACATO',\n",
       "       'CONDUZIR VEICULO SOB INFLUENCIA DE ALCOOL', 'ROUBO', 'JA LANCADO',\n",
       "       'PARA FINS DE DIREITO', 'LESAO CORPORAL', 'DANO NO TRANSITO',\n",
       "       'COMUNICACAO DE OBITO', 'OUTROS FATOS ATIPICOS',\n",
       "       'APRESENTACAO - MANDADO DE PRISAO', 'CONFLITOS VICINAIS', 'AMEACA',\n",
       "       'DISPOSICOES GERAIS', 'DANO', 'HOMICIDIO', 'DANO CIVIL',\n",
       "       'RECUPERACAO DE VEICULOS', 'INJURIA',\n",
       "       'PERTURBACAO DO SOSSEGO ALHEIOS', 'CONFLITOS FAMILIARES',\n",
       "       'ACIDENTE DE TRANSITO SEM VITIMA', 'ESTELIONATO',\n",
       "       'FALSIDADE IDEOLOGICA', 'CONSUMO PESSOAL DE DROGAS',\n",
       "       'POLUICAO SONORA', 'LESAO NO TRANSITO', 'FRAUDE A EXECUCAO',\n",
       "       'DISPOSICAO DE COISAS ALHEIAS COMO PROPRIAS',\n",
       "       'ESTUPRO DE VULNERAVEL', 'TRANSACOES BANCARIAS',\n",
       "       'ROUBO DE VEICULO', 'APRESENTACAO - PRESO FORAGIDO',\n",
       "       'DESCUMPRIMENTO DE MEDIDAS PROTETIVAS', 'ACIDENTE FORTUITO',\n",
       "       'INVASAO DE DISPOSITIVO INFORMATICO', 'VIOLACAO DE DOMICILIO',\n",
       "       'EXERCICIO ARBITRARIO DAS PROPRIAS RAZOES',\n",
       "       'ATITUDE SUSPEITA E/OU APRESENTACAO', 'CONSTRANGIMENTO ILEGAL',\n",
       "       'VIAS DE FATO', 'EXTORSAO', 'PROPRIEDADE', 'CALUNIA',\n",
       "       'ABANDONO DE LAR', 'DIFAMACAO', 'APROPRIACAO INDEBITA',\n",
       "       'TENTATIVA DE ROUBO', 'CONFLITOS CONJUGAIS',\n",
       "       'APRESENTACAO SUSPEITO DE ROUBO', 'AFOGAMENTO COM MORTE',\n",
       "       'VENDA DE VEICULO SEM TRANSFERENCIA DE PROPRIEDADE',\n",
       "       'ASSISTENCIA SOCIAL',\n",
       "       'POSSE IRREGULAR DE ARMA DE FOGO DE USO PERMITIDO',\n",
       "       'DISCRIMINAR, DESDENHAR,  HUMILHAR, MENOSPREZAR PESSOA IDOSA',\n",
       "       'FALSA IDENTIDADE', 'PERTURBACAO DO TRABALHO OU SOSSEGO ALHEIOS',\n",
       "       'MAUS TRATOS', 'RECEPTACAO', 'FALSIFICACAO DE DOCUMENTO PUBLICO',\n",
       "       'ADQUIRIR, ARMAZENAR, POR QUALQUER MEIO, FOTOGRAFIA, VIDEO OU OUTRA FORMA DE REGISTRO QUE CONTENHA CENA DE SEXO EXPLICITO ENVOLVENDO CRIANCA OU ADOLESCENTE',\n",
       "       'OUTRAS FRAUDES - FRAUDE A EXECUCAO', 'APREENSAO DE OBJETOS',\n",
       "       'INVASAO DE ESTABELECIMENTO INDUSTRIAL, COMERCIAL OU AGRICOLA',\n",
       "       'ESBULHO POSSESSORIO', 'ESTUPRO', 'ACIDENTE DE TRABALHO COM MORTE',\n",
       "       'FRAUDE A CREDORES', 'DESOBEDIENCIA', 'DILIGENCIA DE MANDADO',\n",
       "       'DESAPARECIMENTO DE PESSOA', 'TENTATIVA DE ESTUPRO',\n",
       "       'JOGO DE AZAR',\n",
       "       'CONDUCAO SOB INFLUENCIA DE SUBSTANCIA QUE ALTERA A CONDICAO PSICOMOTORA',\n",
       "       'CONFLITO DE GUARDA', 'MORTE A ESCLARECER',\n",
       "       'COMUNICACAO FALSA DE CRIME OU DE CONTRAVENCAO',\n",
       "       'TENTATIVA DE HOMICIDIO', 'ABANDONO DE INCAPAZ', 'FUGA DE ABRIGO',\n",
       "       'MORTE ACIDENTAL', 'FRAUDE NA ENTREGA DE COISA',\n",
       "       'DIRIGIR SEM HABILITACAO',\n",
       "       'PORTE ILEGAL DE ARMA DE FOGO DE USO PERMITIDO',\n",
       "       'MORTE POR INTERVENCAO DE AGENTE DO ESTADO', 'ASSEDIO SEXUAL',\n",
       "       'ACIDENTE FORTUITO COM DANO',\n",
       "       'ENTREGAR DIRECAO DE VEICULO A PESSOA NAO HABILITADA',\n",
       "       'DESOBEDIENCIA A DECISAO JUDICIAL', 'USO DE DOCUMENTO FALSO',\n",
       "       'CORRUPCAO DE MENORES',\n",
       "       'SUBMETER CRIANCA OU ADOLESCENTE A EXPLORACAO SEXUAL',\n",
       "       'ALIENACAO OU ONERACAO FRAUDULENTA DE COISA PROPRIA',\n",
       "       'PARA FINS DE PROCEDIMENTO', 'ACIDENTE DE TRABALHO COM LESAO',\n",
       "       'OUTRAS FRAUDES', 'HOMICIDIO NO TRANSITO', 'SUICIDIO',\n",
       "       'VENDER BEBIDA ALCOOLICA A MENOR DE IDADE', 'MORTE NO TRANSITO',\n",
       "       'RETENCAO DE DOCUMENTO', 'PREVARICACAO', 'LATROCINIO',\n",
       "       'INFORMACAO FALSA A AUTORIDADE FAZENDARIA',\n",
       "       'POSSE OU PORTE ILEGAL DE ARMA FOGO DE USO RESTRITO ',\n",
       "       'IMPORTUNACAO SEXUAL',\n",
       "       'PICHAR OU CONSPURCAR EDIFICACAO OU MONUMENTO URBANO',\n",
       "       'FUGA DO LAR', 'FRAUDE NO COMERCIO', 'INCENDIO',\n",
       "       'VENDER, FORNECER AINDA QUE GRATUITAMENTE, ENTREGAR, DE QUALQUER FORMA, A CRIANCA OU ADOLESCENTE, PRODUTOS CUJOS COMPONENTES POSSAM CAUSAR DEPENDENCIA FISICA OU PSIQUICA',\n",
       "       'FALSIFICACAO DE CARTAO DE CREDITO OU DEBITO\\xa0\\xa0\\xa0\\xa0',\n",
       "       'HOMICIDIO CULPOSO', 'APRESENTACAO TENTATIVA DE ROUBO',\n",
       "       'DISCRIMINAR PESSOA IDOSA',\n",
       "       'DESCUMPRIR PRAZO FIXADO EM LEI, BENEFICIO DE ADOLESCENTE PRIVADO DE LIBERDADE',\n",
       "       'LESAO CORPORAL CULPOSA',\n",
       "       'CUMPRIMENTO DE MANDADO DE BUSCA E APREENSAO',\n",
       "       'MORTE A ESCLARECER COM INDICIO DE CRIME',\n",
       "       'ADULTERACAO DE SINAL IDENTIFICADOR DE VEICULO AUTOMOTOR',\n",
       "       'APOLOGIA AO CRIME OU CRIMINOSO',\n",
       "       'PRODUZIR,REPRODUZIR,DIRIGIR,FOTOGRAFAR,FILMAR',\n",
       "       'DAR INDICACOES OU FAZER AFIRMACOES FALSAS EM PROSPECTOS OU ANUNCIOS',\n",
       "       'FUGA DE INSTITUICAO', 'TRAFICO DE INFLUENCIA\\xa0',\n",
       "       'APREENSAO DE VEICULOS',\n",
       "       'INTRODUZIR NO PAIS, BILHETE DE LOTERIA, RIFA OU TOMBOLA ESTRANGEIRAS',\n",
       "       'LAVAGEM DE DINHEIRO',\n",
       "       'ALICIAR, ASSEDIAR, INSTIGAR POR QUALQUER MEIO DE COMUNICACAO, CRIANCA, COM O FIM DE COM ELA PRATICAR ATO LIBIDINOSO',\n",
       "       'IMPEDIR O ACESSO OU RECUSAR ATENDIMENTO EM SALOES DE CABELEIREIROS',\n",
       "       'OMISSAO DE SOCORRO',\n",
       "       'ABANDONAR SUBSTANCIA TOXICA, PERIGOSA AO MEIO AMBIENTE, EM DESACORDO COM AS EXIGENCIAS LEGAIS',\n",
       "       'PROVOCACAO DE TUMULTO', 'JOGO DO BICHO', 'DEFRAUDACAO DE PENHOR',\n",
       "       'VIOLENCIA PSICOLOGICA',\n",
       "       'FRUSTRACAO DE DIREITO ASSEGURADO POR LEI TRABALHISTA',\n",
       "       'CONFIGURACAO DO CRIME INDEPENDENTEMENTE DA COMPETENCIA CIVIL OU CRIMINAL PARA DECRETACAO DAS MEDIDAS',\n",
       "       'FUGA DE PRESO', 'SUBTRACAO DE INCAPAZ',\n",
       "       'LESAO CORPORAL SEGUIDA DE MORTE',\n",
       "       'ABORTO PROVOCADO PELA GESTANTE OU COM O SEU CONSENTIMENTO',\n",
       "       'DIRECAO PERIGOSA DE VEICULO EM VIA PUBLICA',\n",
       "       'ACIDENTE AEREO COM MORTE', 'ACIDENTE FORTUITO COM MORTE',\n",
       "       'FALSIDADE DE ATESTADO MEDICO', 'ATO OBSCENO',\n",
       "       'SEQUESTRO E CARCERE PRIVADO',\n",
       "       'TRAFEGAR EM VELOCIDADE INCOMPATIVEL C/ A SEGURANCA',\n",
       "       'DEIXAR DE RECOLHER TRIBUTOS',\n",
       "       'PERIGO DE CONTAGIO DE MOLESTIA GRAVE',\n",
       "       'CORRESPONDENCIA COMERCIAL',\n",
       "       'SEM PERMISSAO AUTORIDADE COMPETENTE - VENDA DE ANIMAIS',\n",
       "       'CAUSAR POLUICAO DE QUALQUER NATUREZA',\n",
       "       'A INCOLUMIDADE FISICA DO INDIVIDUO',\n",
       "       'FALSIDADE MATERIAL DE ATESTADO OU CERTIDAO',\n",
       "       'MAUS TRATOS A ANIMAIS - RESULTADO MORTE',\n",
       "       'COMERCIALIZA EM RECIPIENTE DE OUTREM, PRODUTO FALSIFICADO',\n",
       "       'PESCA EM PERIODO DEFESO -  TAMANHOS INFERIORES AOS PERMITIDOS',\n",
       "       'EXPOR A PERIGO A INTEGRIDADE E A SAUDE DO IDOSO',\n",
       "       'TENTATIVA DE SEQUESTRO',\n",
       "       'SE O CRIME FOR PRATICADO CONTRA PESSOA COM DEFICIENCIA MENOR DE 18 (DEZOITO) ANOS, A PENA E AGRAVADA EM 1/3 (UM TERCO)',\n",
       "       'INTRODUCAO OU ABANDONO DE ANIMAIS EM PROPRIEDADE ALHEIA',\n",
       "       'FRAUDE NO PAGAMENTO POR MEIO DE CHEQUE', 'ABANDONO INTELECTUAL',\n",
       "       'SUPRESSAO DE DOCUMENTO PUBLICO',\n",
       "       'SUSPEITO DE ESTUPRO DE VULNERAVEL', 'SUSPEITO DE ESTUPRO',\n",
       "       'DESAPARECIMENTO DE ANIMAIS', 'ACIDENTE FORTUITO COM LESAO',\n",
       "       'DISPARO DE ARMA DE FOGO', 'QUEBRA DE CONTRATO',\n",
       "       'EXERCIC.ILEGAL DA MEDICINA/ODONTO/FARMACIA',\n",
       "       'TENTATIVA DE EXTORSAO', 'CONTROLE DE MUNICAO',\n",
       "       'AUTO-ACUSACAO FALSA', 'PERTURBACAO DO DO SOSSEGO ALHEIOS',\n",
       "       'TENTATIVA DE ESTUPRO DE VULNERAVEL', 'FUGA DE HOSPITAL',\n",
       "       'VIOLENCIA MORAL, QUALQUER CONDUTA QUE CONFIGURE CALUNIA, DIFAMACAO OU INJURIA',\n",
       "       'MOEDA FALSA', 'DIVULGAR A CONDICAO DO PORTADOR DO HIV',\n",
       "       'FABRICO, COMERCIO OU DETENCAO DE ARMAS OU MUNICAO',\n",
       "       'FRAUDAR ESCRITURACOES', 'VIOLENCIA ARBITRARIA',\n",
       "       'CRIMES CONTRA A ORDEM TRIBUTARIA', 'ABANDONO MATERIAL',\n",
       "       'OMISSAO NA GUARDA DE ANIMAIS', 'ESTATUTO DO TORCEDOR',\n",
       "       'ATENTADO CONTRA A SEGURANCA DE OUTRO MEIO DE TRANSPORTE',\n",
       "       'AOS DIREITOS E GARANTIAS LEGAIS ASSEGURADOS AO EXERCICIO PROFISSIONAL',\n",
       "       'DESTRUIR BEM PROTEGIDO POR LEI', 'DEFICIENCIA',\n",
       "       'PROPAGANDA ENGANOSA', 'CORRUPCAO PASSIVA', 'RACISMO',\n",
       "       'OBTER, MEDIANTE FRAUDE, FINANCIAMENTO EM INSTITUICAO FINANCEIRA',\n",
       "       'APRESENTACAO DE MENOR INFRATOR',\n",
       "       'SONEGACAO DE PAPEL OU OBJETO DE VALOR PROBATORIO',\n",
       "       'FRAUDES EM CONCURSO PUBLICO',\n",
       "       'PRODUTO ASSINALADO COM MARCA ILICITAMENTE REPRODUZIDA',\n",
       "       'VIOLENCIA DOMESTICA', 'FALSIFICACAO DE DOCUMENTO PARTICULAR',\n",
       "       'MAUS TRATOS A ANIMAIS - RESULTADO MUTILACAO',\n",
       "       'COMERCIALIZAR DERIVADOS DE PETROLEO EM DESACORDO COM AS NORMAS LEGAIS',\n",
       "       'ABORTO',\n",
       "       'CRIMES CONTRA A ORDEM ECONOMICA E AS RELACOES DE CONSUMO',\n",
       "       'SUBMETER CRIANCA OU ADOLESCENTE A VEXAME OU A CONSTRANGIMENTO',\n",
       "       'ACIDENTE DE TRABALHO COM DANO', 'USURPACAO',\n",
       "       'MAUS TRATOS COM RESULTADO MORTE',\n",
       "       'FRAUDE PARA RECEBIMENTO DE INDENIZACAO OU VALOR DE SEGURO',\n",
       "       'RESISTENCIA A PRISAO', 'LOCALIZACAO DE VEICULO',\n",
       "       'INVASAO DE TERRAS DA UNIAO, DOS ESTADOS E DOS MUNICIPIOS',\n",
       "       'DANO AO PATRIMONIO PUBLICO',\n",
       "       'CONDICIONAMENTO DE ATENDIMENTO MEDICO-HOSPITALAR EMERGENCIAL',\n",
       "       'TORTURA', 'PORTE DE ARMA BRANCA', 'PLACA CLONADA',\n",
       "       'VIOLACAO DE CORRESPONDENCIA',\n",
       "       'INVASAO DE TERRENO CONSTRUIDO  OBJETO DE FINANCIAMENTO DO SFHABITACAO',\n",
       "       'OMISSAO DE CAUTELA', 'SUPRESSAO DE DOCUMENTOS',\n",
       "       'EXTORSAO MEDIANTE SEQUESTRO',\n",
       "       'PARTICIPACAO EM CORRIDA, DISPUTA OU COMPETICAO AUTOMOBILISTICA NAO AUTORIZADA',\n",
       "       'FALSIFICACAO, CORRUPCAO, ADULTERACAO OU ALTERACAO DE PRODUTO DESTINADO A FINS TERAPEUTICOS OU MEDICINAIS',\n",
       "       'NEGAR EMISSAO DE NOTA FISCAL', 'VIOLACAO SEXUAL MEDIANTE FRAUDE',\n",
       "       'CORRUPCAO ATIVA', 'FUGA DE MENOR INFRATOR',\n",
       "       'ASSOCIACAO CRIMINOSA',\n",
       "       'VENDER INGRESSOS DE EVENTO ESPORTIVO, POR PRECO SUPERIOR AO ESTAMPADO NO BILHETE',\n",
       "       'FALSIFICAR DOCUMENTO RELATIVO A OPERACAO TRIBUTAVEL',\n",
       "       'DESMATAR FLORESTA, PLANTADA OU NATIVA, EM TERRAS DE DOMINIO PUBLICO OU DEVOLUTAS',\n",
       "       'VIOLACAO DE COMUNICACAO COM ABUSO DE FUNCAO',\n",
       "       'OFERECER, DISPONIBILIZAR, TRANSMITIR, PUBLICAR POR QUALQUER MEIO, INCLUSIVE SISTEMA DE INFORMATICA OU TELEMATICO, FOTOGRAFIA, VIDEO OU OUTRO REGISTRO QUE CONTENHA CENA DE SEXO EXPLICITO ENVOLVENDO CRIANCA OU ADOLESCENTE:',\n",
       "       'BAIXA DE ALIENACAO FIDUCIARIA DE VEICULO',\n",
       "       'FRAUDES EM AVALIACAO OU EXAMES PUBLICOS', 'ABUSO DE AUTORIDADE',\n",
       "       'RETER CARTAO MAGNETICO DE CONTA BANCARIA',\n",
       "       'PERTURBACAO DA TRANQUILIDADE', 'EXERCICIO ILEGAL DA MEDICINA',\n",
       "       'DEIXAR DE CUMPRIR EXECUCAO DE ORDEM JUDICIAL EXPEDIDA EM ACAO CIVIL',\n",
       "       'EXERCICIO ILEGAL DE PROFISSAO OU ATIVIDADE',\n",
       "       'A INVIOLABILIDADE DO DOMICILIO',\n",
       "       'SINISTRO EM TRANSPORTE MARITIMO, FLUVIAL OU AEREO',\n",
       "       'VIOLACA DE DOMICILIO', 'DISPARO DE ARMA DE FOGO COM DANO',\n",
       "       'POLUICAO ATMOSFERICA',\n",
       "       'APROPRIA-SE DE BENS OU RENDIMENTO DO IDOSO',\n",
       "       'INSTRUMENTO DE EMPREGO USUAL NA PRATICA DE FURTO',\n",
       "       'SATISFACAO DE LASCIVIA MEDIANTE PRESENCA DE CRIANCA OU ADOLESCENTE',\n",
       "       'DEIXAR DE FORNECER NOTA FISCAL DE VENDA OU DE SERVICO',\n",
       "       'VIOLENCIA FISICA, QUALQUER CONDUTA QUE OFENDA SUA INTEGRIDADE OU SAUDE CORPORAL',\n",
       "       'FALSIFICACAO DE PAPEIS PUBLICOS',\n",
       "       'DEIXAR DE CUMPRIR OBRIGACAO DE RELEVANTE INTERESSE AMBIENTAL',\n",
       "       'TENTATIVA DE FURTO',\n",
       "       'GERIR FRAUDULENTAMENTE INSTITUICAO FINANCEIRA',\n",
       "       'PARALISACAO DE TRABALHO DE INTERESSE COLETIVO',\n",
       "       'INCENDIO COM MORTE',\n",
       "       'SERVIR BEBIDAS ALCOOLICAS - QUEM SE ACHA EM ESTADO DE EMBRIAGUEZ',\n",
       "       'EXTORSAO MEDIANTE SEQUESTRO COM RESULTADO MORTE',\n",
       "       'CRUELDADE CONTRA ANIMAIS',\n",
       "       'ADQUIRIR OU RECEBER MADEIRA, LENHA SEM EXIGIR A EXIBICAO DE LICENCA DO VENDEDOR',\n",
       "       'DESCUMP.DEVERES INERENTE ...OU DECORRENT.DE TUTELA',\n",
       "       'FAVORECIMENTO REAL', 'FRAUDAR PRECOS',\n",
       "       'EXERCICIO ARBITRARIO OU ABUSO DE PODER', 'ASSEDIO MORAL',\n",
       "       'CARCERE PRIVADO', 'MORTE COM EXCLUDENTE DE ILICITUDE',\n",
       "       'INDUZIMENTO DE CONSUMIDOR OU USUARIO A ERRO',\n",
       "       'ATO LESIVO DA HONRA DE PESSOA NATURAL OU JURIDICA, SEM COMPETENCIA LEGAL',\n",
       "       'MANDADO DE PRISAO', 'CERTIDAO OU ATESTADO IDEOLOGICAMENTE FALSO',\n",
       "       'NEGAR EMPREGO POR MOTIVO DE DISCRIMINACAO DE RACA E COR',\n",
       "       'INCITACAO AO CRIME', 'PATROCINIO INFIEL',\n",
       "       'DESCAMINHO OU CONTRABANDO',\n",
       "       'PORTE ILEGAL DE ARMA DE FOGO DE USO RESTRITO',\n",
       "       'LESAO POR QUEIMADURAS',\n",
       "       'APRENTACAO DE SUSPEITO DE TENTATIVA DE HOMICIDIO',\n",
       "       'ESTUPRO COM RESULTADO MORTE',\n",
       "       'PRATICAR A DISCRIMINACAO OU PRECONCEITO DE RACA, COR, ETNIA, RELIGIAO OU PROCEDENCIA NACIONAL.\\xa0',\n",
       "       'DEIXAR DE PRESTAR ASSISTENCIA AO IDOSO',\n",
       "       'CONTRABANDO OU DESCAMINHO',\n",
       "       'USO DE MARCA DE FORMA QUE INDIQUE PROCEDENCIA QUE NAO A VERDADEIRA',\n",
       "       'DESCUMPRIMENTO DOS DEVERES INERENTES AO PODER FAMILIAR, DE TUTELA OU DE GUARDA',\n",
       "       'DANO CULPOSO', 'CRIMES ASSIMILADOS AO DE MOEDA FALSA',\n",
       "       'DIVULGACAO DE CENA DE ESTUPRO OU DE CENA DE ESTUPRO DE VULNERAVEL, DE CENA DE SEXO OU DE PORNOGRAFIA',\n",
       "       'INDUZIR PESSOA IDOSA A OUTORGAR PROCURACAO PARA FINS DE ADMINISTRACAO DE BENS OU DELES DISPOR LIVREMENTE',\n",
       "       'PECULATO', 'MORTE A ESCLARECER SEM INDICIO DE CRIME',\n",
       "       'FAVORECIMENTO A PROSTITUICAO', 'TENTATIVA DE SUICIDIO',\n",
       "       'SUBMETER PESSOA SOB SUA GUARDA A VEXAME OU A CONSTRANGIMENTO NAO AUTORIZADO EM LEI',\n",
       "       'APREENSAO DE CELULAR EM PRESIDIO', 'APREENSAO DE CELULAR',\n",
       "       'USURA PECUNIARIA OU REAL - COBERANCA DE JUROS SUPERIORES A TAXA PERMITIDA POR LEI',\n",
       "       'EXIBIR POR QUALQUER MEIO DE COMUNICACAO, INFORMACOES DEPRECIATIVAS OU INJURIOSAS A PESSOA DO IDOSO',\n",
       "       'FRAUDE A CREDORES - INDUCAO A ERRO',\n",
       "       'INTERRUPCAO DE FORNECIMENTO DE UTILIDADE PUBLICA',\n",
       "       'VIOLAR CONTRATO DE VENDA A PRESTACOES, FRAUDANDO SORTEIOS OU DEIXANDO DE ENTREGAR A COISA VENDIDA',\n",
       "       'VIOLACAO SEXUAL', 'FAVORECIMENTO PESSOAL',\n",
       "       'ATENTADO CONTRA A LIBERDADE DE TRABALHO',\n",
       "       'DESTRUIR PLANTAS DE ORNAMENTACAO DE LOGRADOUROS PUBLICOS OU EM PROPRIEDADE PRIVADA ALHEIA',\n",
       "       'APREENSAO DE MUNICAO', 'VIOLACAO DE DIREITO AUTORAL',\n",
       "       'INDUZIMENTO A FUGA',\n",
       "       'DESCUMPRIR DEVERES INERENTES AO PODER FAMILIAR',\n",
       "       'PERIGO PARA VIDA E SAUDE DE OUTREM',\n",
       "       'FALSO TESTEMUNHO OU FALSA PERICIA', 'FRAUDE PROCESSUAL',\n",
       "       'ESTUPRO DE VULNERAVEL COM RESULTADO MORTE',\n",
       "       'SUBMETER CRIANCA OU ADOLESCENTE, A PROSTITUICAO OU A EXPLORACAO SEXUAL',\n",
       "       'POSSE IRREGULAR DE ARMA DE FOGO DE USO RESTRITO ',\n",
       "       'USURPACAO DE FUNCAO PUBLICA', 'APREENSAO DE DROGAS', 'CONCUSSAO',\n",
       "       'VENDER FOTOGRAFIA, VIDEO OU OUTRO REGISTRO QUE CONTENHA CENA DE SEXO EXPLICITO ENVOLVENDO CRIANCA OU ADOLESCENTE:',\n",
       "       'INJURIA RACIAL',\n",
       "       'VENDA, DEPOSITO, EXPOSICAO A VENDA, OU ENTREGA DE MATERIA-PRIMA OU MERCADORIA IMPROPRIA PARA CONSUMO',\n",
       "       'CUMPRIMENTO - MANDADO DE PRISAO', 'APRESENTACAO ATITUDE SUSPEITA',\n",
       "       'VIOLACAO DE SIGILO FUNCIONAL',\n",
       "       'SIMULACAO DA QUALIDADE DE FUNCIONARIO',\n",
       "       'EMISSAO IRREGULAR DE CONHECIMENTO DE DEPOSITO',\n",
       "       'APREENSAO DE ARMA DE FOGO', 'EMBRIAGUEZ',\n",
       "       'ALTERAR O ASPECTO OU ESTRUTURA DE EDIFICACAO OU LOCAL ESPECIALMENTE PROTEGIDO POR LEI',\n",
       "       'DESTRUIR OU DANIFICAR FLORESTA PRESERVADA',\n",
       "       'VENDER INGRESSOS POR PRECO SUPERIOR AO DO BILHETE\\xa0',\n",
       "       'ULTRAJE A CULTO E IMPEDIMENTO OU PERTURBACAO DE ATO A ELE RELATIVO',\n",
       "       'AFIRMACAO FALSA OU ENGANOSA SOBRE A NATUREZA DE PRODUTOS OU SERVICOS',\n",
       "       'EXPLOSAO', 'APRESENTACAO SUSPEITO DE HOMICIDIO',\n",
       "       'VENDER PRODUTOS IMPROPRIOS PARA CONSUMO',\n",
       "       'FALSIFICACAO, CORRUPCAO, ADULTERACAO OU ALTERACAO DE SUBSTANCIA OU PRODUTOS ALIMENTICIOS',\n",
       "       'COACAO NO CURSO DO PROCESSO',\n",
       "       'INSERCAO DE DADOS FALSOS EM SISTEMA DE INFORMACOES\\xa0',\n",
       "       'FRAUDAR LICITACAO INSTAURADA PARA AQUISICAO OU VENDA DE BENS OU MERCADORIAS',\n",
       "       'APREENSAO DE BICICLETA',\n",
       "       'ADQUIRIR BENS, SERVICOS E OBRAS SEM LICITACAO',\n",
       "       'IMPEDIMENTO OU PERTURBACAO DE CERIMONIA FUNERARIA',\n",
       "       'INTERCEPTACAO TELEFONICA', 'SUSPEITA DE ESTUPRO DE VULNERAVEL',\n",
       "       'TENTATIVA DE ESTELIONATO',\n",
       "       'FALTA DE COMUNICACAO AOS CONSUMIDORES SOBRE PERICULOSIDADE DE PRODUTO',\n",
       "       'SIMULAR A PARTICIPACAO DE CRIANCA OU ADOLESCENTE EM CENA DE SEXO EXPLICITO POR MEIO DE ADULTERACAO, MONTAGEM OU MODIFICACAO DE FOTOGRAFIA, VIDEO OU QUALQUER OUTRA FORMA DE REPRESENTACAO VISUAL',\n",
       "       'POLUICAO A NATUREZA', 'PERIGO DE CONTAGIO VEMEREO',\n",
       "       'DISPARO ACIDENTAL DE ARMA DE FOGO',\n",
       "       'DISPARO DE ARMA DE FOGO COM LESAO',\n",
       "       'FRAUDES EM CERTAMES DE INTERESSE PUBLICO',\n",
       "       'REGISTRO NAO AUTORIZADO DA INTIMIDADE SEXUAL',\n",
       "       'INCENDIO CRIMINOSO',\n",
       "       'IMPRESSAO DE BILHETES, LISTA DE SORTEIO E OUTROS',\n",
       "       'PROMOVER PUBLICIDADE CAPAZ DE INDUZIR CONSUMIDOR A SE COMPORTAR DE FORMA PREJUDICIAL A SUA SAUDE OU SEGURANCA',\n",
       "       'DANO AMBIENTAL',\n",
       "       'FRUSTRAR OU FRAUDAR O CARATER COMPETITIVO DO PROCEDIMENTO LICITATORIO',\n",
       "       'CONDUZIR VEIC.SOB INFLUENCIA DE ALCOOL',\n",
       "       'INFRACAO DE MEDIDA SANITARIA PREVENTIVA',\n",
       "       'POSSE OU PORTE ILEGAL DE ARMA DE FOGO DE USO RESTRITO',\n",
       "       'DESCUMPRIMENTO DE MEDIDAS PROTETIVAS DE URGENCIA',\n",
       "       'PERTURBACAO DO SOSSEGO ALHEIO',\n",
       "       'VIOLACAO DA SUSPENSAO OU PROIBICAO DE SE OBTER A PERMISSAO OU HABILITACAO PARA DIRIGIR VEICULO AUTOMOTOR',\n",
       "       'APRESENTACAO SUSPEITO DE TRAFICO DE DROGAS',\n",
       "       'APRESENTACAO - ATITUDE SUSPEITA',\n",
       "       'LESAO POR ACIDENTE DE TRABALHO',\n",
       "       'CAUSAR POLUICAO DE QUALQUER NATUREZA, RESULTANTE EM DANOS A SAUDE HUMANA',\n",
       "       'APROPRIAR-SE DE BENS OU RENDIMENTO DO IDOSO', 'NI', 'EXTRAVIO',\n",
       "       'TERMO DE GARANTIA NAO PERMITIDO',\n",
       "       'MERCADORIA EM DESACORDO COM DESCRICAO LEGAL',\n",
       "       'INDUZIMENTO DO CONSUMIDOR A ERRO',\n",
       "       'VENDER, FORNECER AINDA QUE GRATUITAMENTE, DE QUALQUER FORMA, A CRIANCA OU ADOLESCENTE ARMA, MUNICAO OU EXPLOSIVO',\n",
       "       'FALSO ALARME',\n",
       "       'OFERECER, DISPONIBILIZAR, TRANSMITIR, PUBLICAR POR QUALQUER MEIO, INCLUSIVE SISTEMA DE INFORMATICA OU TELEMATICO, FOTOGRAFIA, VIDEO OU OUTRO REGISTRO QUE CONTENHA CENA DE SEXO EXPLICITO ENVOLVENDO CRIANCA OU ADOLESCENTE',\n",
       "       'PERDA OU EXTRAVIO DE ARMA DE FOGO', 'CRIME AMBIENTAL',\n",
       "       'MANDADO DE BUSCA E APREENSAO', 'ELEVAR O VALOR DE VENDA A PRAZO',\n",
       "       'SONEGAR MERCADORIAS', 'SONEGAR INSUMOS OU BENS',\n",
       "       'EMISSAO IRREGULAR DE CONHECIMENTO DE DEPOSITO OU \"WARRANT\"',\n",
       "       'MISTURAR GENEROS E MERCADORIAS',\n",
       "       'MANDADO DE BUSCA E APREENSAO DE ADOLESCENTE',\n",
       "       'FRAUDES E ABUSOS NA FUNDACAO OU ADMINISTRACAO DE SOCIEDADE POR ACOES',\n",
       "       'DESOBEDIENCIA A DECISAO JUDICIAL SOBRE PERDA OU SUSPENSAO DE DIREITO',\n",
       "       'LESAO DECORRENTE DE INTERVENCAO DE AGENTE DO ESTADO',\n",
       "       'DENUNCIACAO CALUNIOSA', 'MULTA INDEVIDA',\n",
       "       'CORTAR ARVORE CONSIDERADA PRESERVADA', 'CARTAO CLONADO',\n",
       "       'REPARACAO COM PECAS USADAS',\n",
       "       'INUTILIZAR MATERIA PRIMA OU MERCADORIA',\n",
       "       'ACIDENTE MARITIMO COM LESAO',\n",
       "       'CELEBRAR AJUSTE PARA IMPOR DETERMINADO PRECO DE REVENDA',\n",
       "       'DIVULGACAO DE SEGREDO - BANCO DE DADOS DA ADMINISTRACAO PUBLICA',\n",
       "       'VIOLACAO DE SEGREDO PROFISSIONAL',\n",
       "       'ATENTADO CONTRA A SEGURANCA DE SERVICO DE UTILIDADE PUBLICA',\n",
       "       'DISPENSAR LICITACAO FORA DAS PREVISTAS EM LEI',\n",
       "       'PETRECHOS PARA FALSIFICACAO DE MOEDA',\n",
       "       'ABANDONAR IDOSO EM HOSPITAIS',\n",
       "       'SEM PERMISSAO AUTORIDADE COMPETENTE - ABUSO DE LICENCA',\n",
       "       'FALSIFICACAO DE ASSINATURA',\n",
       "       'EXERCICIO ILEGAL DA MEDICINA, ARTE DENTARIA OU FARMACEUTICA',\n",
       "       'INCENDIO CULPOSO',\n",
       "       'POSSIBILIDADE DE APLICACAO CUMULATIVA DE OUTRAS SANCOES',\n",
       "       'APRESENTACAO TENTATIVA DE FURTO', 'INVASAO DE DOMICILIO',\n",
       "       'SERVIR BEBIDAS ALCOOLICAS - A PESSOA JUDICIALMENTE PROIBIDA DE CONSUMIR',\n",
       "       'A ARREGIMENTACAO DE ELEITOR OU A PROPAGANDA DE BOCA DE URNA',\n",
       "       'EXERCICIO ILEGAL DE PROFISSAO', 'FRAUDE TROCANDO MERCADORIA',\n",
       "       'APREENSAO DE ARMA DE FOGO DE USO PERMITIDO', 'INTERCEPTACAO ',\n",
       "       'ABORTO PROVOCADO POR TERCEIRO COM O CONSENTIMENTO DA GESTANTE',\n",
       "       'INDUZIMENTO, INSTIGACAO OU AUXILIO A SUICIDIO',\n",
       "       'FALSIFICACAO DO SELO OU SINAL PUBLICO', 'FUGA DE LOCAL DE CRIME',\n",
       "       'PERIGO PARA A VIDA OU SAUDE DE OUTREM',\n",
       "       'DIVULGACAO DE SEGREDO - DOCUMENTO PARTICULAR',\n",
       "       'PRODUZIR, FOTOGRAFAR, FILMAR POR QUALQUER MEIO, CENA DE SEXO EXPLICITO ENVOLVENDO CRIANCA OU ADOLESCENTE',\n",
       "       'VENDA ILEGAL DE COMBUSTIVEL', 'RIXA',\n",
       "       'VIOLENCIA DOMESTICA E FAMILIAR CONTRA A MULHER - DEFINICAO',\n",
       "       'CULTIVO DE DROGAS',\n",
       "       'FABRICO DE PRODUTO QUE INCORPORE DESENHO INDUSTRIAL REGISTRADO',\n",
       "       'MEDICAMENTO EM DESACORDO COM RECEITA MEDICA',\n",
       "       'FALSIFICACAO DE DOCUMENTO', 'DESCAMINHO', 'CONTRABANDO',\n",
       "       'FRAUDES EM EXAME OU PROCESSO SELETIVO PREVISTOS EM LEI',\n",
       "       'VIOLACAO DE COMUNICACAO TELEGRAFICA, RADIOELETRICA OU TELEFONICA',\n",
       "       'APROPRIACAO DE COISA ACHADA', 'INUNDACAO',\n",
       "       'CONSTRUCAO DE ESTABELECIMENTOS, OBRAS OU SERVICOS POTENCIALMENTE POLUIDORES, SEM LICENCA OU AUTORIZACAO LEGAL',\n",
       "       'OMISSAO DE COMUNICACAO DE CRIME DE ACAO PUBLICA EXERCICIO DE MEDICINA OU VIGILANCIA SANITARIA',\n",
       "       'VENDA OU EXPOSICAO A VENDA DE MERCADORIA COM EMBALAGEM EM DESACORDO COM AS PRESCRICOES LEGAIS - MODALIDADE CULPOSA',\n",
       "       'ACIDENTE MARITIMO COM DANO',\n",
       "       'FRAUDE A PRECOS MEDIANTE ALTERACAO, SEM MODIFICACAO ESSENCIAL OU DE QUALIDADE NO PRODUTO',\n",
       "       'ABORTO PROVOCADO PELA GESTANTE OU COM SEU CONSENTIMENTO',\n",
       "       'BUSCA E APREENSAO',\n",
       "       'MANIPULAR SUBSTANCIA TOXICA, PERIGOSA AO MEIO AMBIENTE, EM DESACORDO COM AS EXIGENCIAS LEGAIS',\n",
       "       'PRATICA ABUSIVA NOS PRECOS', 'APROPRIACAO',\n",
       "       'TRANSFERENCIA IRREGULAR DE GUARDA',\n",
       "       'SEM PERMISSAO AUTORIDADE COMPETENTE - MATAR ANIMAIS',\n",
       "       'DESTRUIR FLORESTAS NATIVAS DE VEGETACAO FIXADORA DE DUNAS, MANGUES, OBJETO DE PRESERVACAO',\n",
       "       'RESISTENCIA', 'APRESENTACAO - SUSPEITO DE FURTO',\n",
       "       'DEIXAR DE CUMPRIR, RETARDAR OU FRUSTRAR EXECUCAO DE ORDEM JUDICIAL EXPEDIDA NA ACAO CIVIL A QUE ALUDE ESTA LEI',\n",
       "       'MORTE NATURAL',\n",
       "       'VOTAR OU TENTAR VOTAR MAIS DE UMA VEZ, OU EM LUGAR DE OUTREM',\n",
       "       'FAVORECER PROSTITUICAO OU EXPLORACAO SEXUAL DE CRIANCA, ADOLESCENTE OU VULNERAVEL',\n",
       "       'MANTER CASA DE PROSTITUICAO',\n",
       "       'RECUSAR, COBRAR VALORES ADICIONAIS, SUSPENDER, PROCRASTINAR, CANCELAR OU FAZER CESSAR INSCRICAO DE ALUNO EM ESTABELECIMENTO DE ENSINO DE QUALQUER CURSO OU GRAU, PUBLICO OU PRIVADO, EM RAZAO DE SUA DEFICIENCIA',\n",
       "       'INDUZIMENTO A FUGA, ENTREGA ARBITRARIA OU SONEGACAO DE INCAPAZES',\n",
       "       'IMPEDIR ACESSO DO CONSUMIDOR AS INFORMACOES QUE SOBRE ELE CONSTEM EM CADASTROS',\n",
       "       'RETER CARTAO MAGNETICO DE CONTA BANCARIA COM OBJETIVO DE ASSEGURAR RECEBIMENTO DE DIVIDA',\n",
       "       'PROVOCAR A ALTA OU BAIXA DE PRECOS DE MERCADORIAS, TITULOS PUBLICOS, OU SALARIOS POR MEIO DE NOTICIAS FALSAS',\n",
       "       'AFASTAR-SE O CONDUTOR DO LOCAL DO ACIDENTE',\n",
       "       'MORTE POR AFOGAMENTO', 'EMISSAO DE FUMACA, VAPOR OU GAS',\n",
       "       'DIVULGAR, PRODUZIR, VENDER, FORNECER, BEBIDA ALCOOLICA A MENOR DE IDADE',\n",
       "       'RECUSA DE MOEDA DE CURSO LEGAL',\n",
       "       'OMISSAO DE SOCORRO COM RESULTADO MORTE', 'MEDIDAS PROTETIVAS',\n",
       "       'COBRANCA ILEGAL DE CUSTAS OU QUALQUER OUTRA DESPESA',\n",
       "       'PROMOVER, CONSTITUIR, FINANCIAR OU INTEGRAR, PESSOALMENTE OU POR INTERPOSTA PESSOA, ORGANIZACAO CRIMINOSA',\n",
       "       'ASSEDIO', 'CRIMES CONTRA A ADMINISTRACAO',\n",
       "       'ARREMESSO OU COLOCACAO PERIGOSA', 'VIOLACAO DE SEPULTURA',\n",
       "       'PERICLITACAO DA SAUDE', 'EVASAO HOSPITALAR', 'MOTIM',\n",
       "       'MANDADO DE PRISAO CIVIL', 'MAUS TRATOS A ANIMAIS',\n",
       "       'POSSE IRREGULAR DE ARMA DE FOGO DE USO PERMITIDO\\r',\n",
       "       'VENDER, FORNECER,  BEBIDA ALCOOLICA A MENOR DE IDADE',\n",
       "       'DESAPARECIMENTO', 'TENTATIVA DE LESAO CORPORAL',\n",
       "       'NAO OBSERVAR A ORDEM EM QUE OS ELEITORES DEVEM SER CHAMADOS A VOTAR',\n",
       "       'DISPARO ACIDENTAL DE ARMA DE FOGO COM LESAO',\n",
       "       'APRESENTACAO DE PRESO', 'PERSEGUICAO',\n",
       "       'A VIOLENCIA PATRIMONIAL, ENTENDIDA COMO QUALQUER CONDUTA QUE CONFIGURE RETENCAO, SUBTRACAO, DESTRUICAO PARCIAL OU TOTAL DE SEUS OBJETOS, INSTRUMENTOS DE TRABALHO, DOCUMENTOS PESSOAIS, BENS, VALORES E DIREITOS OU RECURSOS ECONOMICOS, INCLUINDO OS DEST',\n",
       "       'PARA FINS DE INVESTIGACAO', 'CONFLITOS DE GUARDA', 'VANDALISMO',\n",
       "       'APREENSAO DE SIMULACRO',\n",
       "       'APRESENTACAO - MANDADO DE BUSCA E APREENSAO',\n",
       "       'PRATICAR A DISCRIMINACAO OU PRECONCEITO DE RACA, COR, ETNIA, RELIGIAO OU PROCEDENCIA NACIONAL',\n",
       "       'PARA FINS DE INSTAURACAO',\n",
       "       'FALSIFICACAO DO SELO OU SINAL PUBLICO - ORGAOS OFICIAIS - ALTERAR OU FAZER USO DE SIMBOLOS DE ORGAOS PUBLICOS',\n",
       "       'A PENA E AUMENTADA DE 1/3 (UM TERCO) A 2/3 (DOIS TERCOS) SE O CRIME E PRATICADO POR AGENTE QUE MANTEM OU TENHA MANTIDO RELACAO INTIMA DE AFETO COM A VITIMA OU COM O FIM DE VINGANCA OU HUMILHACAO.',\n",
       "       'PRATICAR A DISCRIMINACAO OU PRECONCEITO DE RACA, COR, ETNIA, RELIGIAO OU PROCEDENCIA NACIONAL.',\n",
       "       'EXPOR A PERIGO A INTEGRIDADE E A SAUDE, FISICA OU PSIQUICA, DO IDOSO',\n",
       "       'COMUNICACAO DE FUGA DE PRESO',\n",
       "       'ASSEDIO SEXUAL POR SUPERIOR HIERARQUICO OU ASCENDENTE',\n",
       "       'FRAUDE A CREDORES -  EXERCICIO ILEGAL DE ATIVIDADE',\n",
       "       'APREENSAO DE ARMA BRANCA', 'COMUNICACAO PARA FINS DE DIREITO',\n",
       "       'ALTERACAO DE LIMITES',\n",
       "       'CONDUZIR VEICULO AUTOMOTOR EM VIA PUBLICA, DE CORRIDA, DISPUTA OU COMPETICAO AUTOMOBILISTICA',\n",
       "       'PERIGO DE CONTAGIO VENEREO', 'TURBACAO',\n",
       "       'SOLICITACAO DE MEDIDAS PROTETIVAS', 'MOTIM DE PRESOS',\n",
       "       'FAVORECER PROSTITUICAO OU EXPLORACAO SEXUAL DE CRIANCA, ADOLESCENTE OU VULNERAVEL.',\n",
       "       'FRAUDE A PRECOS MEDIANTE ALTERACAO, SEM MODIFICAO ESSENCIAL OU DE QUALIDADE NO PRODUTO',\n",
       "       'TENTATIVA DE MOTIM', 'POSSE OU PORTE ILEGAL DE ARMA DE FOGO',\n",
       "       'COMERCIO ILEGAL DE MADEIRA', 'USO INDEVIDO DE NOME COMERCIAL',\n",
       "       'RECUSA DE DADOS SOBRE A PROPRIA IDENTIDADE',\n",
       "       'SEM PERMISSAO AUTORIDADE COMPETENTE - CACA EM UNIDADE DE CONSERVACAO',\n",
       "       'OUTRAS SUBSTANCIAS NOCIVAS A SAUDE PUBLICA',\n",
       "       'USAR UNIFORME OU DISTINTIVO DE FUNCAO PUBLICA QUE NAO EXERCE LEGITIMAMENTE',\n",
       "       'PRESO FORAGIDO', 'EVASAO', 'FRAUDES EM CONCURSO',\n",
       "       'PESCA EM PERIODO DEFESO', 'COMFLITOS FAMILIARES',\n",
       "       'PARA FINS DO DIREITO', 'INVASAO DE TERRENO CONSTRUIDO',\n",
       "       'SEM PERMISSAO AUTORIDADE COMPETENTE - CRIAR ANIMAIS',\n",
       "       'PROMOVER TUMULTO, PRATICAR OU INCITAR A VIOLENCIA',\n",
       "       'FRUTRACAO DE DIREITO ASSEGURADO POR LEI TRABALHISTA',\n",
       "       'VENDER, FORNECER, BEBIDA ALCOOLICA A MENOR DE IDADE',\n",
       "       'ACIDENTE MARITIMO COM MORTE', 'APOLOGIA DE CRIME OU CRIMINOSO',\n",
       "       'TENTATIVA DE EXTORSAO MEDIANTE SEQUESTRO',\n",
       "       'FALSIFICACAO, CORRUPCAO, ADULTERACAO OU ALTERACAO DE PRODUTO DESTINADO A FINS TERAPEUTICOS OU MEDICINAIS - CONCURSO DE AGENTES',\n",
       "       'COMERCIALIZAR MOTOSSERRA OU UTILIZA-LA EM FLORESTAS',\n",
       "       'POSSE OU PORTE ILEGAL DE ARMA DE FOGO DE USO RESTRITO - CONCURSO DE PESSOAS',\n",
       "       'PROMOVER TUMULTO, PRATICAR OU INCITAR A VIOLENCIA, OU INVADIR LOCAL RESTRITO AOS COMPETIDORES EM EVENTOS ESPORTIVOS',\n",
       "       'JA  LANCADO',\n",
       "       'EXERCICIO ARBITRARIO OU ABUSO DE PODER - SUBMISSAO A VEXAME OU CONSTRANGIMENTO',\n",
       "       'CONTRABANDO - COMERCIALIZACAO MERCADORIA DEPENDENTE DE REGISTRO ORGAO PUBLICO',\n",
       "       'EXAME(S) PARA CONCURSO', 'LEITURA', 'ESTELIONATO SIMPLES',\n",
       "       'DROGAS - TRAFICO', 'ALIENACAO PARENTAL',\n",
       "       'CONSUMO DE PESSOAS DE DROGAS', nan, 'JA LANCADO ',\n",
       "       'INVASAO DE TERRENO CONSTRUIDO  OBJETO DE FINANCIAMENTO DO SFHABITACAO.',\n",
       "       'ACIDENTE DE TRANSITO', 'VILIPENDIO A CADAVER',\n",
       "       'ABANDONO DE IDOSO COM RESULTADO MORTE', 'ATROPELAMENTO DE ANIMAL',\n",
       "       'VIOLENCIA DOMESTICA E FAMILIAR CONTRA A MULHER',\n",
       "       'ABANDONO DE IDOSO', 'LGBTFOBIA', 'PESSOA LOCALIZADA',\n",
       "       'COMUNICACAO FUGA DE PRESO',\n",
       "       'PERMITIR, CONFIAR OU ENTREGAR VEICULO AUTOMOTOR A PESSOA NAO HABILITADA',\n",
       "       'OMISSAO NA GUARDA DE ANIMAL PERIGOSO',\n",
       "       'ELABORAR RELATORIO AMBIENTAL FALSO OU ENGANOSO, INCLUSIVE POR OMISSAO - MODALIDADE CULPOSA',\n",
       "       'JA LACADO', 'EXCLUIR',\n",
       "       'SEM PERMISSAO AUTORIDADE COMPETENTE - ESPECIE AMEACADA DE EXTINCAO',\n",
       "       'IMPEDIR O USO DE TRANSPORTES PUBLICOS',\n",
       "       'OBTER OU TENTAR OBTER GANHOS ILICITOS EM DETRIMENTO DO POVO EM PROCESSOS FRAUDULENTOS',\n",
       "       'VIOLENCIA PSICOLOGICA, QUALQUER CONDUTA QUE LHE CAUSE DANO EMOCIONAL, DIMINUICAO DA AUTO-ESTIMA, LHE PREJUDIQUE E PERTURBE O PLENO DESENVOLVIMENTO, VISE DEGRADAR OU CONTROLAR SUAS ACOES, COMPORTAMENTOS, CRENCAS E DECISOES, MEDIANTE AMEACA, CONSTRANGIMENTO',\n",
       "       'ABUSAR DO PODER ECONOMICO', 'DANOS MATERIAIS PESSOAIS',\n",
       "       'COAGIR O IDOSO',\n",
       "       'ADQUIRIR, DISTRIBUIR OU REVENDER COMBUSTIVEL EM DESACORDO',\n",
       "       'TENTATIVA DE SEQUESTRO E CARCERE PRIVADO',\n",
       "       'DESCUMPRIMENTO DE ORDEM JUDICIAL',\n",
       "       'INFORMACAO FALSA SOBRE PRODUTO OU SERVICO',\n",
       "       'FALSIFICACAO DE CARTAO DE CREDITO OU DEBITO',\n",
       "       'TRAFEGAR EM VELOCIDADE INCOMPATIVEL COM A SEGURANCA',\n",
       "       'ERRO MEDICO',\n",
       "       'INDUZIMENTO A ERRO ESSENCIAL E OCULTACAO DE IMPEDIMENTO',\n",
       "       'OBSTAR ACESSO A PESSOA IDOSA', 'ACAO PENAL',\n",
       "       'TENTATIVA DE LATROCINIO', 'IMPEDIR ACAO DE AUTORIDADE JUDICIARIA',\n",
       "       'VIOLACAO DE CONTRATO',\n",
       "       'AOS DIREITOS E GARANTIAS LEGAIS ASSEGURADOS AO EXERCICIO PROFISSIONAL.',\n",
       "       'VILIPENDIO DE CADAVER',\n",
       "       'INSERCAO DE DADOS FALSOS EM SISTEMA DE INFORMACOES',\n",
       "       'ENTREGA DE FILHO MENOR A PESSOA INIDONEA',\n",
       "       'PARA FINS DE TOMBAMENTO',\n",
       "       'DEIXAR DE PRESTAR ASSISTENCIA  AO IDOSO',\n",
       "       'AUMENTO DE PENA SE A VIOLENCIA OU AMEACA E EXERCIDA COM ARMA DE FOGO - MAJORADO',\n",
       "       'VIOLACAO DE LACRE DE INSTITUICOES PUBLICAS', 'ABUSO DE INCAPAZ',\n",
       "       'FUERTO', 'VIOLENCIA PATRIMONIAL',\n",
       "       'MEDIACAO PARA SERVIR A LASCIVIA DE OUTREM',\n",
       "       'CRIMES DE CONCORRENCIA DESLEAL',\n",
       "       'IMPEDIR O ACESSO OU RECUSAR ATENDIMENTO EM ESTABELECIMENTOS ESPORTIVOS,',\n",
       "       'OUTROS CRIMES DE DISCRIMINACAO', 'RECUPERACAO DE VEICULO',\n",
       "       'DIVULGACAO DE CENA DE ESTUPRO OU DE CENA DE ESTUPRO DE VULNERAVEL, DE CENA DE SEXO OU DE PORNOGRAFIA\\t',\n",
       "       'TRAFICO INTERNO DE PESSOA', 'PICHAR, ESCREVER OU RABISCAR',\n",
       "       'ESTELIONATO CONTRA IDOSO', 'LESAO CORPORAL DOLOSA',\n",
       "       'TRANSITO - LESAO CORPORAL CULPOSA', 'TRANSITO - LESAO CORPORAL',\n",
       "       'VIOLENCIA SEXUAL, QUALQUER CONDUTA QUE A CONSTRANJA A PRESENCIAR, A MANTER OU A PARTICIPAR DE RELACAO SEXUAL NAO DESEJADA, MEDIANTE INTIMIDACAO, AMEACA, COACAO OU USO DA FORCA, INDUZA A COMERCIALIZAR OU A UTILIZAR, DE QUALQUER MODO, A SUA SEXUALIDADE, IMP',\n",
       "       'MANDADO DE PRISAO PREVENTIVA',\n",
       "       'DEIXAR DE PRESTAR ASSISTENCIA A SAUDE AO IDOSO',\n",
       "       'MANDADO DE PRISAO PARA CUMPRIMENTO DE PENA', 'FALSO ALARMA',\n",
       "       'DESABAMENTO OU DESMORONAMENTO', 'INURIA',\n",
       "       'TENTATIVA DE VIOLACAO DE DOMICILIO', 'PESSOA ENCONTRADA',\n",
       "       'CRIME CONTRA O PATRIMONIO - USURPACAO',\n",
       "       'SUPRESSAO DE DOCUMENTO PARTICULAR',\n",
       "       'INVASAO DE DISPOSITIVO INFORMATICO VENDA, DIVULGACAO OU DISTRIBUICAO',\n",
       "       'DESTRUICAO, INUTILIZACAO OU DANIFICACAO DE MATERIA-PRIMA OU DE MERCADORIA',\n",
       "       'FATO ATIPICO',\n",
       "       'ENTREGAR DIRECAO DE VEICULO A PESSOA NAO HABILITADA\\t',\n",
       "       'CRUELDADE CONTRA OS ANIMAIS',\n",
       "       'CONDUCAO DE VEICULO AUTOMOTOR SOB A INFLUENCIA DE ALCOOL OU QUALQUER OUTRA SUBSTANCIA PSICOATIVA QUE DETERMINE DEPENDENCIA',\n",
       "       'VENDA OU EXPOSICAO A VENDA DE MERCADORIA COM EMBALAGEM EM DESACORDO COM AS PRESCRICOES LEGAIS',\n",
       "       'DESCUMPRIMENTO DE MEDIDA PROTETIVA DE URGENCIA DEFERIDA JUDICIALMENTE',\n",
       "       'VIOLACAO DE DIREITO AUTORAL QUALIFICADA - INTUITO DE LUCRO DIRETO OU INDIRETO COM A DISTRIBUICAO, VENDA POR MEIO ELETRONICO - INTERNET',\n",
       "       'INCENDIO EM EDIFICACOES', 'MANDADO DE PRISAO TEMPORARIO',\n",
       "       'ELEVACAO DO VALOR DE VENDAS A PRAZO MEDIANTE COMISSAO OU TAXA DE JUROS ILEGAIS',\n",
       "       'ENVENENAMENTO DE AGUA POTAVEL OU DE SUBSTANCIA ALIMENTICIA OU MEDICINAL',\n",
       "       'RECEPTACAO QUALIFICADA - EXERCICIO DE ATIVIDADE CORMERCIAL OU INDUSTRIAL EQUIPARADA',\n",
       "       'INCENDIO EM EDIFICIO PUBLICO', 'COMUNICADO DE OBITO',\n",
       "       'CONCURSO DE AGENTES', 'INDUZIMENTO DO CUNSUMIDOR A ERRO',\n",
       "       'SONEGACAO DE BENS OU DE INSUMOS',\n",
       "       'SEM PERMISSAO AUTORIDADE COMPETENTE - DESTRUIR NINHO OU ABRIGO',\n",
       "       'ABANDONO MATERIAL SIMPLES',\n",
       "       'DESCUMPRIMENTO DE MEDIDA PROTETIVA DE URGENCIA',\n",
       "       'SUBTRACAO DE INCAPAZES',\n",
       "       'CAUSAR POLUICAO DE QUALQUER NATUREZA, RESULTANTE EM DANOS A SAUDE HUMANA - POLUICAO ATMOSFERICA',\n",
       "       'USURA PECUNIARIA OU REAL',\n",
       "       'IMPEDIR OU OBSTAR O ACESSO  A QUALQUER CARGO DA ADMINISTRACAO DIRETA OU INDIRETA E CONCESSIONARIAS DE SERVICOS PUBLICOS.',\n",
       "       'USURA PECUNIARIA',\n",
       "       'ESTATUTO DA CRIANCA E DO ADOLESCENTE - DESCUMPRIMENTO DOS DEVERES INERENTES AO PODER FAMILIAR, DE TUTELTA OU DE GUARDA',\n",
       "       'DISCRIMINACAO HIV',\n",
       "       'DANO EM COISA DE VALOR ARTISTICO, ARQUEOLOGICO OU HISTORICO',\n",
       "       'VIOLACAO DE CORRESPONDENCIA - CAPUT',\n",
       "       'RECUSAR OU IMPEDIR ACESSO A ESTABELECIMENTO COMERCIAL',\n",
       "       'FUGA COM NAMORADO(A)',\n",
       "       'COBRAR DE DIVIDAS COM AMEACAS EXPONDO CONSUMIDOR A RIDICULO OU COM INTERFERENCIA EM SEU TRABALHO, DESCANSO OU LAZER',\n",
       "       'ATENTADO CONTRA A SEGURANCA DE TRANSPORTE MARITIMO, FLUVIAL OU AEREO',\n",
       "       'MOEDA FALSA - CIRCULACAO NAO AUTORIZADA',\n",
       "       'RECUSAR, RETARDAR OU DIFICULTAR INTERNACAO OU DEIXAR DE PRESTAR ASSISTENCIA MEDICO-HOSPITALAR E AMBULATORIAL A PESSOA COM DEFICIENCIA',\n",
       "       'ABANDONO DE FUNCAO - RESULTADO PREJUIZO PUBLICO',\n",
       "       'APRESENTACAO DE VEICULO',\n",
       "       'OBTER, MEDIANTE FRAUDE, FINANCIAMENTO EM INSTITUICAO FINANCEIRA:',\n",
       "       'TRANSITO - PERMITIR, CONFIAR OU ENTREGAR VEICULO AUTOMOTOR A PESSOA NAO HABILITADA',\n",
       "       'DISCRIMINAR, DESDENHAR, HUMILHAR, MENOSPREZAR PESSOA IDOSA',\n",
       "       'APREENSAO DE VEICULO', 'VIOLAR DIREITOS DE AUTOR',\n",
       "       'INCENDIO EM CASA HABITADA OU DESTINADA A HABITACAO',\n",
       "       'INCENDIO PARA OBTER VANTAGEM EM PROVEITO PROPRIO',\n",
       "       'FALSIDADE DE ATESTADO MEDICO - FIANLIDADE DE LUCRO',\n",
       "       'FRANDE NO PAGAMENTO POR MEIO DE CHEQUE',\n",
       "       'VENDA, DEPOSITO, EXPOSICAO A VENDA, OU ENTREGA DE MATERIA-PRIMA OU MERCADORIA IMPROPRIA PARA CONSUMO - MODALIDADE CULPOSA',\n",
       "       'VIOLAR SIGILO DE OPERACAO FINANCEIRA, EM RAZAO DE OFICIO:',\n",
       "       'CORRUPCAO PASSIVA - DEIXA DE PRATICAR ATO DE OFICIO',\n",
       "       'LESAO DECORRENTE DE AGENTE DO ESTADO',\n",
       "       'OMISSAO DE COMUNICACAO DE VIOLENCIA, DE TRATAMENTO CRUEL OU DEGRADANTE OU FORMAS VIOLENTAS DE EDUCACAO, CORRECAO OU DISCIPLINA, OU DE ABANDONO DE INCAPAZ',\n",
       "       'DIVULGAR SEM AUTORIZACAO, INFORMACOES CONFIDENCIAIS, UTILIZAVEIS NAS EMPRESAS',\n",
       "       'INDUZIR A PRATICA DE ESTERILIZACAO CIRURGICA',\n",
       "       'IMPEDIR OU OBSTAR O CASAMENTO OU CONVIVENCIA FAMILIAR E SOCIAL.',\n",
       "       'DIVULGAR SEM AUTORIZACAO, INFORMACOES OBTIDAS POR MEIOS ILICITOS',\n",
       "       'OFERECE, TROCAR, DISPONIBILIZAR,TRANSMITIR, VENDER OU EXPOR A VENDA, SEM O CONSENTIMENTO DA VITIMA, CENA DE SEXO, NUDEZ OU PORNOGRAFIA',\n",
       "       'IMPEDIR ACAO DE AUTORIDADE JUDICIARIA, CONSELHO TUTELAR OU REPRESENTANTE DO MP NO EXERCICIO DE FUNCAO LEGAL',\n",
       "       'COAGIR IDOSO A DOAR, CONTRATAR, TESTAR OU OUTORGAR PROCURACAO',\n",
       "       'FABRICO DE PRODUTO PATENTEADO SEM AUTORIZACAO DO TITULAR DA PATENTE',\n",
       "       'DIVULGACAO DE SEGREDO',\n",
       "       'DEIXAR DE COLOCAR NA VIA PUBLICA, SINAL ALERTA DESTINADO A EVITAR PERIGO A TRANSEUNTES:',\n",
       "       'LESAO COR', 'PECULATO \"CAPUT',\n",
       "       'FAVORECIMENTO DE COMPRADOR OU FREGUES',\n",
       "       'ESTELIONATO - DEFRAUDACAO DE PENHOR', 'ABUSO SEXUAL',\n",
       "       'FALSIFICACAO DO SINAL EMPREGADO NO CONTRASTE DE METAL PRECIOSO OU NA FISCALIZACAO ALFANDEGARIA, OU PARA OUTROS FINS - USO DA AUTORIDADE PUBLICA',\n",
       "       'FUGA COM NAMORADO',\n",
       "       'GERIR FRAUDULENTA OU TEMERARIAMENTE BANCOS OU ESTABELECIMENTOS BANCARIOS',\n",
       "       'IMPEDIR CASAMENTO OU CONVIVENCIA FAMILIRAR',\n",
       "       'CRIMES CONTRA A FAUNA', 'MANDADO DE PRISAO PARA RECAPTURA',\n",
       "       'MAUS TRATOS A ANIMAIS ', 'ART.163 - DANO',\n",
       "       'TRAFEGAR EM VELOCIDADE INCOMPATIVEL COM A SEGERANCA',\n",
       "       'RACA OU COR',\n",
       "       'FABRICAR, SIMBOLOS, EMBLEMAS, ORNAMENTOS, DISTINTIVOS OU PROPAGANDA COM A CRUZ SUASTICA',\n",
       "       'ABANDONO DE FUNCAO',\n",
       "       'FRAUDAR OU CONTRIBUIR PARA QUE SE FRAUDE, O RESULTADO DE COMPETICAO ESPORTIVA OU EVENTO A ELA ASSOCIADO',\n",
       "       'INVASAO DE TERRAS DE ORGAOS OU ENTIDADES FEDERAIS, ESTADUAIS OU MUNICIPAIS DESTINADAS A REFORMA AGRARIA',\n",
       "       'IMPEDIMENTO, PERTURBACAO OU FRAUDE DE CONCORRENCIA',\n",
       "       'DESABAMENTO DE CONSTRUCAO', 'CRIMES CONTRA A FLORA',\n",
       "       'APROPRIACAO OU DESVIO DE BENS OU DE REDIMENTOS DE PESSOA COM DEFICIENCIA',\n",
       "       'DEIXAR DE PROMOVER AS MEDIDAS NECESSARIAS DE PROTECAO A SAUDE E AO MEIO AMBIENTE',\n",
       "       'ADULTERACAO DE SINAL IDENTIFICADOR DE VEICULO AUTOMOTOR - SERVIDOR PUBLICO OCNTRIBUI PARA REGISTRO DE VEICULO ADULTERADO',\n",
       "       'COBRANCA INDEVIDA', 'FRAUDE ELETRONICA',\n",
       "       'DESCUMPRIMENTO DOS DEVERES INERENTES AO PODER FAMILIAR, DE TUTELTA OU DE GUARDA',\n",
       "       'ATENTADO CONTRA A LIBERDADE DE TRABALHO MEDIANTE VIOLENCIA OU GRAVE AMEACA',\n",
       "       'FAVORECIMENTO DA PROSTITUICAO OU DE OUTRA FORMA DE EXPLORACAO SEXUAL DE CRIANCA OU ADOLESCENTE OU DE VULNERAVEL.',\n",
       "       'DESCUMPRIMENTO DE MEDIDA PROTETIVA',\n",
       "       'FALSIFICACAO, CORRUPCAO, ADULTERACAO OU ALTERACAO DE PRODUTO DESTINADO A FINS TERAPEUTICOS OU MEDICINAIS - PRODUTO SEM REGISTRO',\n",
       "       'DISCRIMINACAO DE PESSOA COM DEFICIENCIA',\n",
       "       'ABUSO DE AUTORIDADE, TAMBEM:',\n",
       "       'GERIR FRAUDULENTAMENTE INSTITUICAO FINANCEIRA:',\n",
       "       'PROMOCAO DE TUMULTO, INCITACAO A VIOLENCIA OU INVASAO DE LOCAL RESTRITO A COMPETIDORES OU A ARBITROS',\n",
       "       'VENDER INGRESSOS POR PRECO SUPERIOR AO DO BILHETE',\n",
       "       'VENDA OU PORTE DE INGRESSO DE EVENTO ESPORTIVO, POR PRECO SUPERIOR OU ESTAMPADO NO BILHETE',\n",
       "       'PORTE, DETENCAO OU TRANSPORTE DE INSTRUMENTOS PARA A PRATICA DE VIOLENCIA',\n",
       "       'PORTAR ARMA FORA DA RESIDENCIA',\n",
       "       'TRAFICO INTERNACIONAL DE ARMA DE FOGO',\n",
       "       'TENTATIVA DE IMPORTUNACAO SEXUAL',\n",
       "       'VENDER INGRESSO POR PRECO SUPERIOR',\n",
       "       'EXERCICIO DE ATIVIDADE COM INFRACAO DE DECISAO ADMINISTRATIVA',\n",
       "       'INCORRE NAS MESMAS PENAS QUEM IMPEDE OU DIFICULTA O INGRESSO DE PESSOA COM DEFICIENCIA EM PLANOS PRIVADOS DE ASSISTENCIA A SAUDE, INCLUSIVE COM VALORES DIFERENCIADOS',\n",
       "       'DEIXAR DE PRESTAR ASSISTENCIA AO FILHO MENOR',\n",
       "       'EXTRAVIAR, SONEGAR OU INUTILIZAR LIVRO OU DOCUMENTO GERANDO PAGAMENTO INDEVIDO',\n",
       "       'FRAUDAR A FISCALIZACAO TRIBUTARIA',\n",
       "       'PROMOVER OU FACILITAR A FUGA DE PESSOA LEGALMENTE PRESA',\n",
       "       'RACISMO EM CONTEXTOS CULTURAIS PUBLICOS',\n",
       "       'ATENTADO VIOLENTO AO PUDOR', 'INJURIA PRECONCEITUOSA',\n",
       "       'CONDUZIR VEICULO AUTOMOTOR EM VIA PUBLICA, DE CORRIDA, DISPUTA OU COMPETICAO AUTOMOBILISTICA OU AINDA EXIBICAO OU DEMONSTRACAO NAO AUTORIZADA PELA AUTORIDADE COMPETENTE',\n",
       "       'COBRANCA ANTECIPADA DE ALUGUEL (EXCETO LOCACAO DE TEMPORADA)',\n",
       "       'PRESCRICAO OU MINISTRACAO CULPOSA',\n",
       "       'FRAUDAR ESCRITURACOES, LANCAMENTOS, REGISTROS, RELATORIOS, PARECERES E OUTRAS INFORMACOES DEVIDAS A SOCIOS DE SOCIEDADES CIVIS OU COMERCIAIS',\n",
       "       'INFANTICIDIO',\n",
       "       'INJURIAR > VIOLENCIA OU VIAS DE FATO > PERDAO JUDICIAL',\n",
       "       'POSSE IRREGULAR DE ARMA DE FOGO DE USO RESTRITO',\n",
       "       'PRATICAR DISCRIMINACAO/PRECONCEITO',\n",
       "       'OUTRAS FRAUDES - EMISSAO IRREGULAR DE CONHECIMENTO DE DEPOSITO OU \"WARRANT\"',\n",
       "       'FALSIFICACAO DE DOCUMENTO PUBLICO - AGENTE SERVIDOR PUBLICO',\n",
       "       'REGISTRO DE NASCIMENTO INEXISTENTE',\n",
       "       'FALSIFICAR, NO TODO OU EM PARTE, DOCUMENTO PARTICULAR VERDADEIRO, OU ALTERA-LO PARA FINS ELEITORAIS',\n",
       "       'FALSO TESTEMUNHO OU FALSA PERICIA - PROMESSA DE DINHEIRO OU VANTAGEM - SE PARTE FOR ADMINISTRACAO PUBLICA',\n",
       "       'IMPEDIR O ACESSO AS ENTRADAS SOCIAIS EM EDIFICIOS PUBLICOS',\n",
       "       'CRIMES CONTRA AS RELACOES DE CONSUMO',\n",
       "       'PROMOVER TUMUTO,  INCITAR A VIOLENCIA',\n",
       "       'PECULATO MEDIANTE ERRO DE OUTREM',\n",
       "       'FALSIFICACAO, CORRUPCAO, ADULTERACAO OU ALTERACAO DE SUBSTANCIA OU PRODUTOS ALIMENTICIOS - CONCURSO DE AGENTES - RELACAO A BEBIDAS, COM OU SEM TEOR ALCOOLICO',\n",
       "       'INUTILIZACAO DE EDITAL OU DE SINAL',\n",
       "       'SERVIR BEBIDAS ALCOOLICAS A PESSOA JUDICIALMENTE PROIBIDA DE CONSUMIR',\n",
       "       'EXIGIR VANTAGEM SOBRE PRECO TABELADO',\n",
       "       'EXERCICIO ILEGAL DA MEDICINA, ARTE DENTARIA OU FARMACEUTICA - FIM DE LUCRO',\n",
       "       'FALSIFICACAO, CORRUPCAO, ADULTERACAO OU ALTERACAO DE PRODUTO DESTINADO A FINS TERAPEUTICOS OU MEDICINAIS - CONCURSO DE AGENTES - MODALIDADE CULPOSA',\n",
       "       'DESTRUICAO, SUBTRACAO OU OCULTACAO DE CADAVER',\n",
       "       'ABORTO PROVOCADO POR TERCEIRO SEM O CONSENTIMENTO DA GESTANTE',\n",
       "       'ENVENENAMENTO DE AGUA POTAVEL OU DE SUBSTANCIA ALIMENTICIA OU MEDICINAL - AGUA OU SUBSTANCIA ENVENENADA',\n",
       "       'EMISSAO IRREGULAR DE CONHECIMENTO DE DEPOSITO OU WARRANT',\n",
       "       'ELABORAR DOCUMENTO FALSO OU INEXATO', 'TRAFICO DE INFLUENCIA',\n",
       "       'EXTRACAO ILEGAL DE MADEIRA',\n",
       "       'SUBTRAIR CRIANCA OU ADOLESCENTE AO PODER DE QUEM O TEM SOB SUA GUARDA',\n",
       "       'PRATICA CONJUNCAO CARNAL OU ATO LIBIDINOSO COM > 14 < 18 ANOS',\n",
       "       'FORNECER, DESVIAR OU FACILITAR A DISTRIBUICAO DE INGRESSOS PARA VENDA POR PRECO SUPERIOR AO ESTAMPADO NO BILHETE',\n",
       "       'VIOLENCIA OU FRAUDE EM ARREMATACAO JUDICIAL',\n",
       "       'FAVORECIMENTO DA PROSTITUICAO OU OUTRA FORMA DE EXPLORACAO SEXUAL',\n",
       "       'PORTE ILEGAL DE ARMA DE FOGO', 'EXPLORACAO DE PRESTIGIO',\n",
       "       'FALSIFICACAO, CORRUPCAO, ADULTERACAO OU ALTERACAO DE PRODUTO DESTINADO A FINS TERAPEUTICOS OU MEDICINAIS - PRODUTOS SEM LICENCA DE AUTORIDADE SANITARIA',\n",
       "       'DECLARACAO FALSA EM DECLARACAO SOBRE ENDAS',\n",
       "       'PATROCINIO INFIEL \"CAPUT\"',\n",
       "       'VENDA OU EXPOSICAO A VENDA DE MISTURA DE GENEROS OU DE MERCADORIAS DE ESPECIES DIFERENTES COMO PUROS',\n",
       "       'INVASAO DE DISPOSITIVO INFORMATICO - § 1º',\n",
       "       'JOGO DE AZAR - PRESENCA DE PARTICIPANTE PONTEIRO OU APOSTADOR',\n",
       "       'DANO - ALTERACAO DE LOCAL ESPECIALMENTE PROTEGIDO',\n",
       "       'PROVOCAR PERECIMENTO DE ESPECIMES - DEGRADACAO EM VIVEIROS',\n",
       "       'EXTRACAO DE AREIA, CAL, OU QUALQUER OUTRO MINERAL',\n",
       "       'DOCUMENTO PARTICULAR', 'BIGAMIA SIMPLES',\n",
       "       'COMERCIALIZAR DERIVADOS DE PETROLEO EM DESACORDO COM AS NORMAS LEGAIS;',\n",
       "       'REDUCAO A CONDICAO ANALOGA A DE ESCRAVO CAPUT',\n",
       "       'RETENCAO OU UTILIZACAO DE CARTAO MAGNETICO, DE QUALQUER MEIO ELETRONICO OU DE DOCUMENTO PARA RECEBIMENTO DE BENEFICIOS OU PROVENTOS DE PESSOA COM DEFICIENCIA',\n",
       "       'CRIMES AMBIENTAIS', 'SITUACAO DE RUA',\n",
       "       'DESTRUIR PLANTAS DE ORNAMENTACAO DE LOGRADOUROS PUBLICOS OU EM PROPRIEDADE PRIVADA ALHEIA - MODALIDADE CULPOSA',\n",
       "       'COMERCIO ILEGAL DE ARMA DE FOGO',\n",
       "       'INCENDIO EM LAVOURA, PASTAGEM, MATA OU FLORESTA',\n",
       "       'FALSIFICACAO, CORRUPCAO, ADULTERACAO OU ALTERACAO DE PRODUTO DESTINADO A FINS TERAPEUTICOS OU MEDICINAIS -PRODUTO DE PROCEDENCIA IGNORADA',\n",
       "       'FALSIFICACAO DE DOCUMENTO PUBLICO - INSERCAO FALSA EM FOLHA DE PAGAMENTO, CTPS, DOCUMENTO CONTABIL',\n",
       "       'CALUNIA CONTRA OS MORTOS',\n",
       "       'MODIFICACAO OU ALTERACAO NAO AUTORIZADA DE SISTEMA DE INFORMACOES',\n",
       "       'FABRICO, FORNECIMENTO, AQUISICAO POSSE OU TRANSPORTE DE EXPLOSIVOS OU GAS TOXICO, OU ASFIXIANTE',\n",
       "       'PUNE-SE A CALUNIA, DIFAMACAO E INJURIA CONTRA A MEMORIA DOS MORTOS',\n",
       "       'CONFLITOS FAMILIAR',\n",
       "       'PRODUZIR, FOTOGRAFAR, FILMAR O REGISTRAR, POR QUALQUER MEIO, CONTEUDO COM CENA DE NUDEZ OU ATO SEXUAL OU LIBIDINOSO DE CARATER INTIMO E PRIVADO SEM AUTORIZACAO DOS PARTICIPANTES',\n",
       "       'IMPRISSAO DE BILHETES, LISTA DE SORTEIO E OUTROS',\n",
       "       'ESTELIONATO - INDUZIMENTO A ESPECULACAO',\n",
       "       'ABANDONO MATERIAL - FRUSTACAO DE PAGAMENTO'], dtype=object)"
      ]
     },
     "execution_count": 49,
     "metadata": {},
     "output_type": "execute_result"
    }
   ],
   "source": [
    "crimes_consolidados_belem = crimes_df[\"consolidado\"].unique()\n",
    "print(\"Valores unicos em consolidado:\", len(crimes_consolidados_belem))\n",
    "crimes_consolidados_belem"
   ]
  },
  {
   "cell_type": "code",
   "execution_count": 50,
   "id": "649aa9f3",
   "metadata": {},
   "outputs": [
    {
     "data": {
      "text/plain": [
       "consolidado\n",
       "FURTO                                                        142957\n",
       "ROUBO                                                        127135\n",
       "AMEACA                                                        47912\n",
       "ESTELIONATO                                                   43348\n",
       "DANO NO TRANSITO                                              41163\n",
       "                                                              ...  \n",
       "ABUSAR DO PODER ECONOMICO                                         1\n",
       "DANOS MATERIAIS PESSOAIS                                          1\n",
       "COAGIR O IDOSO                                                    1\n",
       "ADQUIRIR, DISTRIBUIR OU REVENDER COMBUSTIVEL EM DESACORDO         1\n",
       "ABANDONO MATERIAL - FRUSTACAO DE PAGAMENTO                        1\n",
       "Name: count, Length: 805, dtype: int64"
      ]
     },
     "execution_count": 50,
     "metadata": {},
     "output_type": "execute_result"
    }
   ],
   "source": [
    "crimes_df.consolidado.value_counts()"
   ]
  },
  {
   "cell_type": "markdown",
   "id": "e179e54b",
   "metadata": {},
   "source": [
    "Para conseguir um resultado mais direcionado, na culuna consolidado serão selecionados apenas crimes que se enquadram como crimes contra a mulher"
   ]
  },
  {
   "cell_type": "code",
   "execution_count": 68,
   "id": "f7707819",
   "metadata": {},
   "outputs": [
    {
     "data": {
      "text/plain": [
       "(700104, 21)"
      ]
     },
     "execution_count": 68,
     "metadata": {},
     "output_type": "execute_result"
    }
   ],
   "source": [
    "crimes_df.shape"
   ]
  },
  {
   "cell_type": "code",
   "execution_count": 69,
   "id": "c43e86bf",
   "metadata": {},
   "outputs": [],
   "source": [
    "crimes_df = crimes_df[crimes_df['consolidado'].isin(['AMEACA', 'LESAO CORPORAL', 'LESAO CORPORAL CULPOSA', 'LESAO CORPORAL SEGUIDA DE MORTE', 'TENTATIVA DE LESAO CORPORAL', 'LESAO CORPORAL DOLOSA', 'HOMICIDIO',  'HOMICIDIO CULPOSO','ESTUPRO DE VULNERAVEL', 'SUSPEITO DE ESTUPRO DE VULNERAVEL','TENTATIVA DE ESTUPRO DE VULNERAVEL', 'ESTUPRO DE VULNERAVEL COM RESULTADO MORTE', 'SUSPEITA DE ESTUPRO DE VULNERAVEL','DESCUMPRIMENTO DE MEDIDAS PROTETIVAS',  'DESCUMPRIMENTO DE MEDIDA PROTETIVA', 'MEDIDAS PROTETIVAS', 'TENTATIVA DE HOMICIDIO', 'ASSEDIO SEXUAL','ASSEDIO', 'ASSEDIO SEXUAL POR SUPERIOR HIERARQUICO OU ASCENDENTE',  'IMPORTUNACAO SEXUAL', 'IMPORTUNACAO OFENSIVA AO PUDOR', 'VIOLENCIA PSICOLOGICA', 'VIOLENCIA PSICOLOGICA, QUALQUER CONDUTA QUE LHE CAUSE DANO EMOCIONAL, DIMINUICAO DA AUTO-ESTIMA, LHE PREJUDIQUE E PERTURBE O PLENO DESENVOLVIMENTO, VISE DEGRADAR OU CONTROLAR SUAS ACOES, COMPORTAMENTOS, CRENCAS E DECISOES, MEDIANTE AMEACA, CONSTRANGIMENTO', 'VIOLENCIA MORAL, QUALQUER CONDUTA QUE CONFIGURE CALUNIA, DIFAMACAO OU INJURIA', 'VIOLENCIA DOMESTICA', 'VIOLENCIA DOMESTICA E FAMILIAR CONTRA A MULHER - DEFINICAO', 'VIOLENCIA DOMESTICA E FAMILIAR CONTRA A MULHER', 'VIOLACAO SEXUAL MEDIANTE FRAUDE', 'VIOLACAO SEXUAL', 'VIOLENCIA FISICA, QUALQUER CONDUTA QUE OFENDA SUA INTEGRIDADE OU SAUDE CORPORAL', 'ESTUPRO COM RESULTADO MORTE', 'ESTUPRO' 'DESCUMPRIMENTO DE MEDIDAS PROTETIVAS DE URGENCIA', 'DESCUMPRIMENTO DE MEDIDA PROTETIVA DE URGENCIA DEFERIDA JUDICIALMENTE', 'DESCUMPRIMENTO DE MEDIDA PROTETIVA DE URGENCIA', 'A VIOLENCIA PATRIMONIAL, ENTENDIDA COMO QUALQUER CONDUTA QUE CONFIGURE RETENCAO, SUBTRACAO, DESTRUICAO PARCIAL OU TOTAL DE SEUS OBJETOS, INSTRUMENTOS DE TRABALHO, DOCUMENTOS PESSOAIS, BENS, VALORES E DIREITOS OU RECURSOS ECONOMICOS, INCLUINDO OS DEST', 'VIOLENCIA PATRIMONIAL', 'VIOLENCIA SEXUAL, QUALQUER CONDUTA QUE A CONSTRANJA A PRESENCIAR, A MANTER OU A PARTICIPAR DE RELACAO SEXUAL NAO DESEJADA, MEDIANTE INTIMIDACAO, AMEACA, COACAO OU USO DA FORCA, INDUZA A COMERCIALIZAR OU A UTILIZAR, DE QUALQUER MODO, A SUA SEXUALIDADE, IMP'])]\n",
    "crimes_df.reset_index(drop=True, inplace=True)"
   ]
  },
  {
   "cell_type": "code",
   "execution_count": 70,
   "id": "effc510a",
   "metadata": {},
   "outputs": [
    {
     "data": {
      "text/plain": [
       "(80335, 21)"
      ]
     },
     "execution_count": 70,
     "metadata": {},
     "output_type": "execute_result"
    }
   ],
   "source": [
    "crimes_df.shape"
   ]
  },
  {
   "cell_type": "markdown",
   "id": "bb5ad9f1",
   "metadata": {},
   "source": [
    "Verificar tipos de dados em cada coluna, a quantidade de valores não nulos (não missing), e a quantidade total de memória utilizada pelo DataFrame."
   ]
  },
  {
   "cell_type": "code",
   "execution_count": 71,
   "id": "ef8fa34f",
   "metadata": {},
   "outputs": [
    {
     "name": "stdout",
     "output_type": "stream",
     "text": [
      "<class 'pandas.core.frame.DataFrame'>\n",
      "RangeIndex: 80335 entries, 0 to 80334\n",
      "Data columns (total 21 columns):\n",
      " #   Column                  Non-Null Count  Dtype         \n",
      "---  ------                  --------------  -----         \n",
      " 0   unidade_origem          31138 non-null  object        \n",
      " 1   unidade_responsavel     31138 non-null  object        \n",
      " 2   dia_semana              80335 non-null  object        \n",
      " 3   fx_4_hor                80335 non-null  object        \n",
      " 4   mes_fato                80335 non-null  object        \n",
      " 5   ano_fato                80335 non-null  int64         \n",
      " 6   data_fato               80335 non-null  datetime64[ns]\n",
      " 7   consolidado             80335 non-null  object        \n",
      " 8   especificacao_crime     23533 non-null  object        \n",
      " 9   causa_presumivel        80332 non-null  object        \n",
      " 10  meio_empregado_sisp     80333 non-null  object        \n",
      " 11  bairros                 80335 non-null  object        \n",
      " 12  local_ocorrencia        80335 non-null  object        \n",
      " 13  vit_idade               80306 non-null  float64       \n",
      " 14  vit_fx_etaria           80322 non-null  object        \n",
      " 15  vit_sexo                80335 non-null  object        \n",
      " 16  vit_cor_pele            69930 non-null  object        \n",
      " 17  vit_grau_inst           75018 non-null  object        \n",
      " 18  grau_de_relacionamento  17541 non-null  object        \n",
      " 19  relato                  80310 non-null  object        \n",
      " 20  aut_sexo                70497 non-null  object        \n",
      "dtypes: datetime64[ns](1), float64(1), int64(1), object(18)\n",
      "memory usage: 12.9+ MB\n"
     ]
    }
   ],
   "source": [
    "crimes_df.info()"
   ]
  },
  {
   "cell_type": "code",
   "execution_count": 72,
   "id": "549b0ffd",
   "metadata": {},
   "outputs": [
    {
     "data": {
      "text/plain": [
       "unidade_origem            49197\n",
       "unidade_responsavel       49197\n",
       "dia_semana                    0\n",
       "fx_4_hor                      0\n",
       "mes_fato                      0\n",
       "ano_fato                      0\n",
       "data_fato                     0\n",
       "consolidado                   0\n",
       "especificacao_crime       56802\n",
       "causa_presumivel              3\n",
       "meio_empregado_sisp           2\n",
       "bairros                       0\n",
       "local_ocorrencia              0\n",
       "vit_idade                    29\n",
       "vit_fx_etaria                13\n",
       "vit_sexo                      0\n",
       "vit_cor_pele              10405\n",
       "vit_grau_inst              5317\n",
       "grau_de_relacionamento    62794\n",
       "relato                       25\n",
       "aut_sexo                   9838\n",
       "dtype: int64"
      ]
     },
     "execution_count": 72,
     "metadata": {},
     "output_type": "execute_result"
    }
   ],
   "source": [
    "crimes_df.isnull().sum()"
   ]
  },
  {
   "cell_type": "code",
   "execution_count": 73,
   "id": "bd19b6e8",
   "metadata": {},
   "outputs": [
    {
     "data": {
      "text/html": [
       "<div>\n",
       "<style scoped>\n",
       "    .dataframe tbody tr th:only-of-type {\n",
       "        vertical-align: middle;\n",
       "    }\n",
       "\n",
       "    .dataframe tbody tr th {\n",
       "        vertical-align: top;\n",
       "    }\n",
       "\n",
       "    .dataframe thead th {\n",
       "        text-align: right;\n",
       "    }\n",
       "</style>\n",
       "<table border=\"1\" class=\"dataframe\">\n",
       "  <thead>\n",
       "    <tr style=\"text-align: right;\">\n",
       "      <th></th>\n",
       "      <th>dtypes</th>\n",
       "      <th>Absoluto</th>\n",
       "      <th>Porcentagem</th>\n",
       "    </tr>\n",
       "  </thead>\n",
       "  <tbody>\n",
       "    <tr>\n",
       "      <th>grau_de_relacionamento</th>\n",
       "      <td>object</td>\n",
       "      <td>62794</td>\n",
       "      <td>78.165183</td>\n",
       "    </tr>\n",
       "    <tr>\n",
       "      <th>especificacao_crime</th>\n",
       "      <td>object</td>\n",
       "      <td>56802</td>\n",
       "      <td>70.706417</td>\n",
       "    </tr>\n",
       "    <tr>\n",
       "      <th>unidade_origem</th>\n",
       "      <td>object</td>\n",
       "      <td>49197</td>\n",
       "      <td>61.239808</td>\n",
       "    </tr>\n",
       "    <tr>\n",
       "      <th>unidade_responsavel</th>\n",
       "      <td>object</td>\n",
       "      <td>49197</td>\n",
       "      <td>61.239808</td>\n",
       "    </tr>\n",
       "    <tr>\n",
       "      <th>vit_cor_pele</th>\n",
       "      <td>object</td>\n",
       "      <td>10405</td>\n",
       "      <td>12.952013</td>\n",
       "    </tr>\n",
       "    <tr>\n",
       "      <th>aut_sexo</th>\n",
       "      <td>object</td>\n",
       "      <td>9838</td>\n",
       "      <td>12.246219</td>\n",
       "    </tr>\n",
       "    <tr>\n",
       "      <th>vit_grau_inst</th>\n",
       "      <td>object</td>\n",
       "      <td>5317</td>\n",
       "      <td>6.618535</td>\n",
       "    </tr>\n",
       "    <tr>\n",
       "      <th>vit_idade</th>\n",
       "      <td>float64</td>\n",
       "      <td>29</td>\n",
       "      <td>0.036099</td>\n",
       "    </tr>\n",
       "    <tr>\n",
       "      <th>relato</th>\n",
       "      <td>object</td>\n",
       "      <td>25</td>\n",
       "      <td>0.031120</td>\n",
       "    </tr>\n",
       "    <tr>\n",
       "      <th>vit_fx_etaria</th>\n",
       "      <td>object</td>\n",
       "      <td>13</td>\n",
       "      <td>0.016182</td>\n",
       "    </tr>\n",
       "    <tr>\n",
       "      <th>causa_presumivel</th>\n",
       "      <td>object</td>\n",
       "      <td>3</td>\n",
       "      <td>0.003734</td>\n",
       "    </tr>\n",
       "    <tr>\n",
       "      <th>meio_empregado_sisp</th>\n",
       "      <td>object</td>\n",
       "      <td>2</td>\n",
       "      <td>0.002490</td>\n",
       "    </tr>\n",
       "  </tbody>\n",
       "</table>\n",
       "</div>"
      ],
      "text/plain": [
       "                         dtypes  Absoluto  Porcentagem\n",
       "grau_de_relacionamento   object     62794    78.165183\n",
       "especificacao_crime      object     56802    70.706417\n",
       "unidade_origem           object     49197    61.239808\n",
       "unidade_responsavel      object     49197    61.239808\n",
       "vit_cor_pele             object     10405    12.952013\n",
       "aut_sexo                 object      9838    12.246219\n",
       "vit_grau_inst            object      5317     6.618535\n",
       "vit_idade               float64        29     0.036099\n",
       "relato                   object        25     0.031120\n",
       "vit_fx_etaria            object        13     0.016182\n",
       "causa_presumivel         object         3     0.003734\n",
       "meio_empregado_sisp      object         2     0.002490"
      ]
     },
     "execution_count": 73,
     "metadata": {},
     "output_type": "execute_result"
    }
   ],
   "source": [
    "missing_by_column = crimes_df.isnull().sum()\n",
    "absol_miss = missing_by_column[missing_by_column > 0].sort_values(ascending=False)\n",
    "perce_miss = absol_miss / crimes_df.shape[0] * 100\n",
    "dtype_miss = pd.Series({x: crimes_df[x].dtype for x in absol_miss.index})\n",
    "\n",
    "missing = pd.concat([dtype_miss, absol_miss, perce_miss], axis=1)\n",
    "missing.columns = [\"dtypes\", \"Absoluto\", \"Porcentagem\"]\n",
    "missing"
   ]
  },
  {
   "cell_type": "code",
   "execution_count": 74,
   "id": "98d6c3d7",
   "metadata": {},
   "outputs": [
    {
     "data": {
      "image/png": "[encoded data removed]",
      "text/plain": [
       "<Figure size 2000x500 with 1 Axes>"
      ]
     },
     "metadata": {},
     "output_type": "display_data"
    }
   ],
   "source": [
    "plt.figure(figsize=(20,5))\n",
    "sns.barplot(x=missing.index, y=missing[\"Porcentagem\"])\n",
    "plt.xticks(rotation='vertical')\n",
    "plt.title(f\"Porcentagem de valores ausentes por coluna\")\n",
    "plt.show()"
   ]
  },
  {
   "cell_type": "markdown",
   "id": "fa78c92d",
   "metadata": {},
   "source": [
    "- Como as colunas \"local_ocorrencia\", \"consolidado\", \"causa_presumivel\", \"vit_sexo\", \"relato\" e \"meio_empregado_sisp\"  tem poucos valores missing, serao removidas apenas as linhas com valores faltantes. As colunas vit_idade e vit_fx_etaria serão usadas posteriormente para tratamento da coluna vit_fx_etaria, portanto não é interessante a remoção de linhas nesta etapa."
   ]
  },
  {
   "cell_type": "code",
   "execution_count": 75,
   "id": "81e211de",
   "metadata": {},
   "outputs": [],
   "source": [
    "crimes_df.dropna(subset=[\"local_ocorrencia\",\"meio_empregado_sisp\", \"consolidado\", \"causa_presumivel\", \"vit_sexo\", \"relato\"], inplace=True)"
   ]
  },
  {
   "cell_type": "code",
   "execution_count": 76,
   "id": "95e1049c",
   "metadata": {},
   "outputs": [],
   "source": [
    "crimes_df.reset_index(drop=True, inplace=True)"
   ]
  },
  {
   "cell_type": "code",
   "execution_count": 77,
   "id": "d7f870ed",
   "metadata": {},
   "outputs": [
    {
     "data": {
      "text/html": [
       "<div>\n",
       "<style scoped>\n",
       "    .dataframe tbody tr th:only-of-type {\n",
       "        vertical-align: middle;\n",
       "    }\n",
       "\n",
       "    .dataframe tbody tr th {\n",
       "        vertical-align: top;\n",
       "    }\n",
       "\n",
       "    .dataframe thead th {\n",
       "        text-align: right;\n",
       "    }\n",
       "</style>\n",
       "<table border=\"1\" class=\"dataframe\">\n",
       "  <thead>\n",
       "    <tr style=\"text-align: right;\">\n",
       "      <th></th>\n",
       "      <th>dtypes</th>\n",
       "      <th>Absoluto</th>\n",
       "      <th>Porcentagem</th>\n",
       "    </tr>\n",
       "  </thead>\n",
       "  <tbody>\n",
       "    <tr>\n",
       "      <th>grau_de_relacionamento</th>\n",
       "      <td>object</td>\n",
       "      <td>62771</td>\n",
       "      <td>78.163796</td>\n",
       "    </tr>\n",
       "    <tr>\n",
       "      <th>especificacao_crime</th>\n",
       "      <td>object</td>\n",
       "      <td>56778</td>\n",
       "      <td>70.701184</td>\n",
       "    </tr>\n",
       "    <tr>\n",
       "      <th>unidade_origem</th>\n",
       "      <td>object</td>\n",
       "      <td>49178</td>\n",
       "      <td>61.237501</td>\n",
       "    </tr>\n",
       "    <tr>\n",
       "      <th>unidade_responsavel</th>\n",
       "      <td>object</td>\n",
       "      <td>49178</td>\n",
       "      <td>61.237501</td>\n",
       "    </tr>\n",
       "    <tr>\n",
       "      <th>vit_cor_pele</th>\n",
       "      <td>object</td>\n",
       "      <td>10405</td>\n",
       "      <td>12.956529</td>\n",
       "    </tr>\n",
       "    <tr>\n",
       "      <th>aut_sexo</th>\n",
       "      <td>object</td>\n",
       "      <td>9829</td>\n",
       "      <td>12.239282</td>\n",
       "    </tr>\n",
       "    <tr>\n",
       "      <th>vit_grau_inst</th>\n",
       "      <td>object</td>\n",
       "      <td>5317</td>\n",
       "      <td>6.620843</td>\n",
       "    </tr>\n",
       "    <tr>\n",
       "      <th>vit_idade</th>\n",
       "      <td>float64</td>\n",
       "      <td>29</td>\n",
       "      <td>0.036111</td>\n",
       "    </tr>\n",
       "    <tr>\n",
       "      <th>vit_fx_etaria</th>\n",
       "      <td>object</td>\n",
       "      <td>13</td>\n",
       "      <td>0.016188</td>\n",
       "    </tr>\n",
       "  </tbody>\n",
       "</table>\n",
       "</div>"
      ],
      "text/plain": [
       "                         dtypes  Absoluto  Porcentagem\n",
       "grau_de_relacionamento   object     62771    78.163796\n",
       "especificacao_crime      object     56778    70.701184\n",
       "unidade_origem           object     49178    61.237501\n",
       "unidade_responsavel      object     49178    61.237501\n",
       "vit_cor_pele             object     10405    12.956529\n",
       "aut_sexo                 object      9829    12.239282\n",
       "vit_grau_inst            object      5317     6.620843\n",
       "vit_idade               float64        29     0.036111\n",
       "vit_fx_etaria            object        13     0.016188"
      ]
     },
     "execution_count": 77,
     "metadata": {},
     "output_type": "execute_result"
    }
   ],
   "source": [
    "missing_by_column_after = crimes_df.isnull().sum()\n",
    "absol_miss_after = missing_by_column_after[missing_by_column_after > 0].sort_values(ascending=False)\n",
    "perce_miss_after = absol_miss_after / crimes_df.shape[0] * 100\n",
    "dtype_miss_after = pd.Series({x: crimes_df[x].dtype for x in absol_miss_after.index})\n",
    "\n",
    "missing_after = pd.concat([dtype_miss_after, absol_miss_after, perce_miss_after], axis=1)\n",
    "missing_after.columns = [\"dtypes\", \"Absoluto\", \"Porcentagem\"]\n",
    "missing_after"
   ]
  },
  {
   "cell_type": "markdown",
   "id": "0ed7e9d3",
   "metadata": {},
   "source": [
    "Salvando as alterações em um novo dataframe"
   ]
  },
  {
   "cell_type": "code",
   "execution_count": 78,
   "id": "8492ae21",
   "metadata": {},
   "outputs": [],
   "source": [
    "crimes_df.to_csv('C:\\\\Users\\\\carlo\\\\Downloads\\\\crimes_selecionados_belem.csv', index=False)"
   ]
  },
  {
   "cell_type": "code",
   "execution_count": 79,
   "id": "ddc905fe",
   "metadata": {},
   "outputs": [
    {
     "name": "stderr",
     "output_type": "stream",
     "text": [
      "C:\\Users\\carlo\\AppData\\Local\\Temp\\ipykernel_9620\\569967415.py:1: DtypeWarning: Columns (0,1) have mixed types. Specify dtype option on import or set low_memory=False.\n",
      "  crimes_selecionados_belem = pd.read_csv('C:\\\\Users\\\\carlo\\\\Downloads\\\\crimes_selecionados_belem.csv')\n"
     ]
    }
   ],
   "source": [
    "crimes_selecionados_belem = pd.read_csv('C:\\\\Users\\\\carlo\\\\Downloads\\\\crimes_selecionados_belem.csv')"
   ]
  },
  {
   "cell_type": "markdown",
   "id": "650e8a70",
   "metadata": {},
   "source": [
    "### Tratamento de valores NaN"
   ]
  },
  {
   "cell_type": "markdown",
   "id": "f1c5e166",
   "metadata": {},
   "source": [
    "Dada a considerável presença de dados nulos, excedendo 50% em várias colunas, a abordagem adotada para mitigar essa lacuna consistirá na substituição dos valores NaN por meio do rótulo \"Não informado\", visando evitar a perda significativa de dados."
   ]
  },
  {
   "cell_type": "code",
   "execution_count": 81,
   "id": "1e0e73dd",
   "metadata": {},
   "outputs": [],
   "source": [
    "colunas_com_NaN = [\"grau_de_relacionamento\",\"especificacao_crime\",\n",
    "                   \"unidade_responsavel\",\"unidade_origem\",\"vit_cor_pele\",\"vit_grau_inst\",\n",
    "                   \"aut_sexo\",\"vit_idade\",\"vit_fx_etaria\"]\n",
    "crimes_selecionados_belem.loc[:, colunas_com_NaN] = crimes_selecionados_belem.loc[:, colunas_com_NaN].fillna(\"Nao informado\")"
   ]
  },
  {
   "cell_type": "code",
   "execution_count": 82,
   "id": "7403a338",
   "metadata": {},
   "outputs": [
    {
     "data": {
      "text/plain": [
       "unidade_origem            0\n",
       "unidade_responsavel       0\n",
       "dia_semana                0\n",
       "fx_4_hor                  0\n",
       "mes_fato                  0\n",
       "ano_fato                  0\n",
       "data_fato                 0\n",
       "consolidado               0\n",
       "especificacao_crime       0\n",
       "causa_presumivel          0\n",
       "meio_empregado_sisp       0\n",
       "bairros                   0\n",
       "local_ocorrencia          0\n",
       "vit_idade                 0\n",
       "vit_fx_etaria             0\n",
       "vit_sexo                  0\n",
       "vit_cor_pele              0\n",
       "vit_grau_inst             0\n",
       "grau_de_relacionamento    0\n",
       "relato                    0\n",
       "aut_sexo                  0\n",
       "dtype: int64"
      ]
     },
     "execution_count": 82,
     "metadata": {},
     "output_type": "execute_result"
    }
   ],
   "source": [
    "crimes_selecionados_belem.isnull().sum()"
   ]
  },
  {
   "cell_type": "markdown",
   "id": "ce035e67",
   "metadata": {},
   "source": [
    "### 2. Abordando inconsistências"
   ]
  },
  {
   "cell_type": "markdown",
   "id": "1e89e4d9",
   "metadata": {},
   "source": [
    "Durante esta fase, procederemos com a normalização de valores que foram registrados de maneiras diversas, mas que representam o mesmo conceito e tratamento de informacoes nao pertinentes."
   ]
  },
  {
   "cell_type": "markdown",
   "id": "759fa1ba",
   "metadata": {},
   "source": [
    "##### 2.1 Verificar os objetos diferentes que compoem cada coluna e quantos se repetem"
   ]
  },
  {
   "cell_type": "markdown",
   "id": "46fda950",
   "metadata": {},
   "source": [
    "- vit_sexo"
   ]
  },
  {
   "cell_type": "code",
   "execution_count": 83,
   "id": "a13f4652",
   "metadata": {},
   "outputs": [
    {
     "data": {
      "text/plain": [
       "vit_sexo\n",
       "F         47550\n",
       "M         32475\n",
       "PJ          123\n",
       "PARDA       105\n",
       "P            44\n",
       "NI            8\n",
       "BRANCA        1\n",
       "JL            1\n",
       "Name: count, dtype: int64"
      ]
     },
     "execution_count": 83,
     "metadata": {},
     "output_type": "execute_result"
    }
   ],
   "source": [
    "crimes_selecionados_belem.vit_sexo.value_counts()"
   ]
  },
  {
   "cell_type": "code",
   "execution_count": 85,
   "id": "ada03c5b",
   "metadata": {},
   "outputs": [
    {
     "data": {
      "text/html": [
       "<div>\n",
       "<style scoped>\n",
       "    .dataframe tbody tr th:only-of-type {\n",
       "        vertical-align: middle;\n",
       "    }\n",
       "\n",
       "    .dataframe tbody tr th {\n",
       "        vertical-align: top;\n",
       "    }\n",
       "\n",
       "    .dataframe thead th {\n",
       "        text-align: right;\n",
       "    }\n",
       "</style>\n",
       "<table border=\"1\" class=\"dataframe\">\n",
       "  <thead>\n",
       "    <tr style=\"text-align: right;\">\n",
       "      <th></th>\n",
       "      <th>unidade_origem</th>\n",
       "      <th>unidade_responsavel</th>\n",
       "      <th>dia_semana</th>\n",
       "      <th>fx_4_hor</th>\n",
       "      <th>mes_fato</th>\n",
       "      <th>ano_fato</th>\n",
       "      <th>data_fato</th>\n",
       "      <th>consolidado</th>\n",
       "      <th>especificacao_crime</th>\n",
       "      <th>causa_presumivel</th>\n",
       "      <th>meio_empregado_sisp</th>\n",
       "      <th>bairros</th>\n",
       "      <th>local_ocorrencia</th>\n",
       "      <th>vit_idade</th>\n",
       "      <th>vit_fx_etaria</th>\n",
       "      <th>vit_sexo</th>\n",
       "      <th>vit_cor_pele</th>\n",
       "      <th>vit_grau_inst</th>\n",
       "      <th>grau_de_relacionamento</th>\n",
       "      <th>relato</th>\n",
       "      <th>aut_sexo</th>\n",
       "    </tr>\n",
       "  </thead>\n",
       "  <tbody>\n",
       "    <tr>\n",
       "      <th>28980</th>\n",
       "      <td>DIVISAO ESPECIALIZADA NO ATENDIMENTO A MULHER ...</td>\n",
       "      <td>DIVISAO ESPECIALIZADA NO ATENDIMENTO A MULHER ...</td>\n",
       "      <td>TER</td>\n",
       "      <td>18 |-- 24</td>\n",
       "      <td>JANEIRO</td>\n",
       "      <td>2020</td>\n",
       "      <td>2020-01-14</td>\n",
       "      <td>LESAO CORPORAL</td>\n",
       "      <td>VIOLENCIA DOMESTICA</td>\n",
       "      <td>ODIO OU VINGANCA</td>\n",
       "      <td>SEM INSTRUMENTO</td>\n",
       "      <td>GUAMA</td>\n",
       "      <td>RESIDENCIA PARTICULAR</td>\n",
       "      <td>37.0</td>\n",
       "      <td>ADULTO IV (35 A 64 ANOS)</td>\n",
       "      <td>BRANCA</td>\n",
       "      <td>F</td>\n",
       "      <td>ENSINO MEDIO INCOMPLETO</td>\n",
       "      <td>Nao informado</td>\n",
       "      <td>&lt;p&gt;Foi AGREDIDA FISICAMENTE e AMEAÇADA por seu...</td>\n",
       "      <td>M</td>\n",
       "    </tr>\n",
       "  </tbody>\n",
       "</table>\n",
       "</div>"
      ],
      "text/plain": [
       "                                          unidade_origem  \\\n",
       "28980  DIVISAO ESPECIALIZADA NO ATENDIMENTO A MULHER ...   \n",
       "\n",
       "                                     unidade_responsavel dia_semana  \\\n",
       "28980  DIVISAO ESPECIALIZADA NO ATENDIMENTO A MULHER ...        TER   \n",
       "\n",
       "        fx_4_hor mes_fato  ano_fato   data_fato     consolidado  \\\n",
       "28980  18 |-- 24  JANEIRO      2020  2020-01-14  LESAO CORPORAL   \n",
       "\n",
       "       especificacao_crime  causa_presumivel meio_empregado_sisp bairros  \\\n",
       "28980  VIOLENCIA DOMESTICA  ODIO OU VINGANCA     SEM INSTRUMENTO   GUAMA   \n",
       "\n",
       "            local_ocorrencia vit_idade             vit_fx_etaria vit_sexo  \\\n",
       "28980  RESIDENCIA PARTICULAR      37.0  ADULTO IV (35 A 64 ANOS)   BRANCA   \n",
       "\n",
       "      vit_cor_pele            vit_grau_inst grau_de_relacionamento  \\\n",
       "28980            F  ENSINO MEDIO INCOMPLETO          Nao informado   \n",
       "\n",
       "                                                  relato aut_sexo  \n",
       "28980  <p>Foi AGREDIDA FISICAMENTE e AMEAÇADA por seu...        M  "
      ]
     },
     "execution_count": 85,
     "metadata": {},
     "output_type": "execute_result"
    }
   ],
   "source": [
    "crimes_selecionados_belem[crimes_selecionados_belem['vit_sexo'] == 'BRANCA']"
   ]
  },
  {
   "cell_type": "markdown",
   "id": "0ae2257f",
   "metadata": {},
   "source": [
    "Nesta linha da base, é perceptivel o erro na transcrição das informações, visto que a coluna vit_cor_pel e vit_sexo estao com os valores trocados. Como se trata de um caso sobre violencia contra a mulher, será feita a correção."
   ]
  },
  {
   "cell_type": "code",
   "execution_count": 86,
   "id": "656a818d",
   "metadata": {},
   "outputs": [],
   "source": [
    "condicao_sexo_cor = (crimes_selecionados_belem['vit_sexo'] == 'BRANCA') & (crimes_selecionados_belem['vit_cor_pele'] == 'F')\n",
    "crimes_selecionados_belem.loc[condicao_sexo_cor, ['vit_sexo', 'vit_cor_pele']] = ['F', 'BRANCA']"
   ]
  },
  {
   "cell_type": "code",
   "execution_count": 87,
   "id": "b8c93219",
   "metadata": {},
   "outputs": [
    {
     "data": {
      "text/html": [
       "<div>\n",
       "<style scoped>\n",
       "    .dataframe tbody tr th:only-of-type {\n",
       "        vertical-align: middle;\n",
       "    }\n",
       "\n",
       "    .dataframe tbody tr th {\n",
       "        vertical-align: top;\n",
       "    }\n",
       "\n",
       "    .dataframe thead th {\n",
       "        text-align: right;\n",
       "    }\n",
       "</style>\n",
       "<table border=\"1\" class=\"dataframe\">\n",
       "  <thead>\n",
       "    <tr style=\"text-align: right;\">\n",
       "      <th></th>\n",
       "      <th>unidade_origem</th>\n",
       "      <th>unidade_responsavel</th>\n",
       "      <th>dia_semana</th>\n",
       "      <th>fx_4_hor</th>\n",
       "      <th>mes_fato</th>\n",
       "      <th>ano_fato</th>\n",
       "      <th>data_fato</th>\n",
       "      <th>consolidado</th>\n",
       "      <th>especificacao_crime</th>\n",
       "      <th>causa_presumivel</th>\n",
       "      <th>meio_empregado_sisp</th>\n",
       "      <th>bairros</th>\n",
       "      <th>local_ocorrencia</th>\n",
       "      <th>vit_idade</th>\n",
       "      <th>vit_fx_etaria</th>\n",
       "      <th>vit_sexo</th>\n",
       "      <th>vit_cor_pele</th>\n",
       "      <th>vit_grau_inst</th>\n",
       "      <th>grau_de_relacionamento</th>\n",
       "      <th>relato</th>\n",
       "      <th>aut_sexo</th>\n",
       "    </tr>\n",
       "  </thead>\n",
       "  <tbody>\n",
       "    <tr>\n",
       "      <th>16592</th>\n",
       "      <td>CREMACAO - 4ª SECCIONAL - 1ª RISP- 3ª AISP</td>\n",
       "      <td>CREMACAO - 4ª SECCIONAL - 1ª RISP- 3ª AISP</td>\n",
       "      <td>SAB</td>\n",
       "      <td>06 |-- 12</td>\n",
       "      <td>JANEIRO</td>\n",
       "      <td>2020</td>\n",
       "      <td>2020-01-11</td>\n",
       "      <td>LESAO CORPORAL</td>\n",
       "      <td>VIOLENCIA DOMESTICA</td>\n",
       "      <td>CIUME</td>\n",
       "      <td>OUTROS MEIOS</td>\n",
       "      <td>CREMACAO</td>\n",
       "      <td>VIA PUBLICA</td>\n",
       "      <td>23.0</td>\n",
       "      <td>ADULTO I (18 A 24 ANOS)</td>\n",
       "      <td>PARDA</td>\n",
       "      <td>F</td>\n",
       "      <td>ENSINO MEDIO INCOMPLETO</td>\n",
       "      <td>Nao informado</td>\n",
       "      <td>&lt;p&gt;A Comunicante vem informar que foi lesionad...</td>\n",
       "      <td>Nao informado</td>\n",
       "    </tr>\n",
       "    <tr>\n",
       "      <th>16615</th>\n",
       "      <td>PEDREIRA - 10ª SECCIONAL - 1ª RISP - 8ª AISP</td>\n",
       "      <td>PEDREIRA - 10ª SECCIONAL - 1ª RISP - 8ª AISP</td>\n",
       "      <td>QUI</td>\n",
       "      <td>12 |-- 18</td>\n",
       "      <td>JANEIRO</td>\n",
       "      <td>2020</td>\n",
       "      <td>2020-01-16</td>\n",
       "      <td>LESAO CORPORAL</td>\n",
       "      <td>VIOLENCIA DOMESTICA</td>\n",
       "      <td>ODIO OU VINGANCA</td>\n",
       "      <td>OUTROS MEIOS</td>\n",
       "      <td>PEDREIRA</td>\n",
       "      <td>PREDIO</td>\n",
       "      <td>22.0</td>\n",
       "      <td>ADULTO II (25 A 29 ANOS)</td>\n",
       "      <td>PARDA</td>\n",
       "      <td>F</td>\n",
       "      <td>ENSINO MEDIO COMPLETO</td>\n",
       "      <td>EX-COMPANHEIRO(A)</td>\n",
       "      <td>&lt;p&gt;A Sra. SILVIANNE RAMONY RABELO MONTEIRO, Co...</td>\n",
       "      <td>F</td>\n",
       "    </tr>\n",
       "    <tr>\n",
       "      <th>17918</th>\n",
       "      <td>COMERCIO - 6ª SECCIONAL - 1ª RISP - 1ª AISP</td>\n",
       "      <td>COMERCIO - 6ª SECCIONAL - 1ª RISP - 1ª AISP</td>\n",
       "      <td>DOM</td>\n",
       "      <td>18 |-- 24</td>\n",
       "      <td>JANEIRO</td>\n",
       "      <td>2020</td>\n",
       "      <td>2020-01-05</td>\n",
       "      <td>LESAO CORPORAL</td>\n",
       "      <td>VIOLENCIA DOMESTICA</td>\n",
       "      <td>OUTRAS</td>\n",
       "      <td>OUTROS MEIOS</td>\n",
       "      <td>CIDADE VELHA</td>\n",
       "      <td>CAFE, BAR, RESTAURANTE</td>\n",
       "      <td>31.0</td>\n",
       "      <td>ADULTO III (30 A 34 ANOS)</td>\n",
       "      <td>PARDA</td>\n",
       "      <td>M</td>\n",
       "      <td>ENSINO MEDIO COMPLETO</td>\n",
       "      <td>Nao informado</td>\n",
       "      <td>&lt;p&gt;O Relator vem a esta Seccional informar que...</td>\n",
       "      <td>Nao informado</td>\n",
       "    </tr>\n",
       "    <tr>\n",
       "      <th>17919</th>\n",
       "      <td>CREMACAO - 4ª SECCIONAL - 1ª RISP- 3ª AISP</td>\n",
       "      <td>CREMACAO - 4ª SECCIONAL - 1ª RISP- 3ª AISP</td>\n",
       "      <td>DOM</td>\n",
       "      <td>12 |-- 18</td>\n",
       "      <td>JANEIRO</td>\n",
       "      <td>2020</td>\n",
       "      <td>2020-01-26</td>\n",
       "      <td>LESAO CORPORAL</td>\n",
       "      <td>VIOLENCIA DOMESTICA</td>\n",
       "      <td>ALCOOLISMO / EMBRIAGUEZ</td>\n",
       "      <td>OUTROS MEIOS</td>\n",
       "      <td>CREMACAO</td>\n",
       "      <td>VIA PUBLICA</td>\n",
       "      <td>63.0</td>\n",
       "      <td>ADULTO IV (35 A 64 ANOS)</td>\n",
       "      <td>PARDA</td>\n",
       "      <td>M</td>\n",
       "      <td>ENSINO FUNDAMENTAL COMPLETO</td>\n",
       "      <td>SOBRINHO(A)</td>\n",
       "      <td>&lt;p&gt;O relator compareceu a esta unidade para in...</td>\n",
       "      <td>M</td>\n",
       "    </tr>\n",
       "    <tr>\n",
       "      <th>17922</th>\n",
       "      <td>SACRAMENTA - 1ª SECCIONAL - 1ª RISP - 7ª AISP</td>\n",
       "      <td>SACRAMENTA - 1ª SECCIONAL - 1ª RISP - 7ª AISP</td>\n",
       "      <td>QUI</td>\n",
       "      <td>12 |-- 18</td>\n",
       "      <td>JANEIRO</td>\n",
       "      <td>2020</td>\n",
       "      <td>2020-01-16</td>\n",
       "      <td>LESAO CORPORAL</td>\n",
       "      <td>VIOLENCIA DOMESTICA</td>\n",
       "      <td>OUTRAS</td>\n",
       "      <td>OUTROS MEIOS</td>\n",
       "      <td>TELEGRAFO SEM FIO</td>\n",
       "      <td>RESIDENCIA PARTICULAR</td>\n",
       "      <td>36.0</td>\n",
       "      <td>ADULTO IV (35 A 64 ANOS)</td>\n",
       "      <td>PARDA</td>\n",
       "      <td>M</td>\n",
       "      <td>ENSINO MEDIO COMPLETO</td>\n",
       "      <td>Nao informado</td>\n",
       "      <td>&lt;p&gt;O cidadão acima qualificado compareceu à es...</td>\n",
       "      <td>Nao informado</td>\n",
       "    </tr>\n",
       "    <tr>\n",
       "      <th>...</th>\n",
       "      <td>...</td>\n",
       "      <td>...</td>\n",
       "      <td>...</td>\n",
       "      <td>...</td>\n",
       "      <td>...</td>\n",
       "      <td>...</td>\n",
       "      <td>...</td>\n",
       "      <td>...</td>\n",
       "      <td>...</td>\n",
       "      <td>...</td>\n",
       "      <td>...</td>\n",
       "      <td>...</td>\n",
       "      <td>...</td>\n",
       "      <td>...</td>\n",
       "      <td>...</td>\n",
       "      <td>...</td>\n",
       "      <td>...</td>\n",
       "      <td>...</td>\n",
       "      <td>...</td>\n",
       "      <td>...</td>\n",
       "      <td>...</td>\n",
       "    </tr>\n",
       "    <tr>\n",
       "      <th>30723</th>\n",
       "      <td>MARCO - DELEGACIA DE POLICIA - 1ª RISP - 8ª AISP</td>\n",
       "      <td>MARCO - DELEGACIA DE POLICIA - 1ª RISP - 8ª AISP</td>\n",
       "      <td>SEG</td>\n",
       "      <td>06 |-- 12</td>\n",
       "      <td>JANEIRO</td>\n",
       "      <td>2020</td>\n",
       "      <td>2020-01-06</td>\n",
       "      <td>LESAO CORPORAL</td>\n",
       "      <td>VIOLENCIA DOMESTICA</td>\n",
       "      <td>ODIO OU VINGANCA</td>\n",
       "      <td>OUTROS MEIOS</td>\n",
       "      <td>MARCO</td>\n",
       "      <td>VIA PUBLICA</td>\n",
       "      <td>52.0</td>\n",
       "      <td>ADULTO IV (35 A 64 ANOS)</td>\n",
       "      <td>PARDA</td>\n",
       "      <td>M</td>\n",
       "      <td>ENSINO MEDIO COMPLETO</td>\n",
       "      <td>Nao informado</td>\n",
       "      <td>&lt;p&gt;Comunica o relator que na data de hoje (06/...</td>\n",
       "      <td>F</td>\n",
       "    </tr>\n",
       "    <tr>\n",
       "      <th>31002</th>\n",
       "      <td>SAO BRAS - 2º SECCIONAL -1º RISP- 2ª AISP</td>\n",
       "      <td>TERRA FIRME - UNIDADE INTEGRADA PROPAZ - 1ª RI...</td>\n",
       "      <td>SEX</td>\n",
       "      <td>18 |-- 24</td>\n",
       "      <td>JANEIRO</td>\n",
       "      <td>2020</td>\n",
       "      <td>2020-01-31</td>\n",
       "      <td>LESAO CORPORAL</td>\n",
       "      <td>VIOLENCIA DOMESTICA</td>\n",
       "      <td>OUTRAS</td>\n",
       "      <td>OUTROS MEIOS</td>\n",
       "      <td>TERRA FIRME</td>\n",
       "      <td>RESIDENCIA PARTICULAR</td>\n",
       "      <td>17.0</td>\n",
       "      <td>ADOLESCENTE (12 A 17 ANOS)</td>\n",
       "      <td>PARDA</td>\n",
       "      <td>F</td>\n",
       "      <td>ENSINO FUNDAMENTAL INCOMPLETO</td>\n",
       "      <td>Nao informado</td>\n",
       "      <td>&lt;p&gt;A Cidadã acima identificada compareceu a es...</td>\n",
       "      <td>Nao informado</td>\n",
       "    </tr>\n",
       "    <tr>\n",
       "      <th>31035</th>\n",
       "      <td>DIVISAO ESPECIALIZADA NO ATENDIMENTO A MULHER ...</td>\n",
       "      <td>DIVISAO ESPECIALIZADA NO ATENDIMENTO A MULHER ...</td>\n",
       "      <td>SEG</td>\n",
       "      <td>00 |-- 06</td>\n",
       "      <td>JANEIRO</td>\n",
       "      <td>2020</td>\n",
       "      <td>2020-01-20</td>\n",
       "      <td>LESAO CORPORAL</td>\n",
       "      <td>VIOLENCIA DOMESTICA</td>\n",
       "      <td>ODIO OU VINGANCA</td>\n",
       "      <td>SEM INSTRUMENTO</td>\n",
       "      <td>TELEGRAFO SEM FIO</td>\n",
       "      <td>RESIDENCIA PARTICULAR</td>\n",
       "      <td>20.0</td>\n",
       "      <td>ADULTO I (18 A 24 ANOS)</td>\n",
       "      <td>PARDA</td>\n",
       "      <td>F</td>\n",
       "      <td>ENSINO MEDIO COMPLETO</td>\n",
       "      <td>Nao informado</td>\n",
       "      <td>&lt;p&gt;Foi AGREDIDA FISICAMENTE por sua mãe RINDAH...</td>\n",
       "      <td>Nao informado</td>\n",
       "    </tr>\n",
       "    <tr>\n",
       "      <th>31045</th>\n",
       "      <td>DIVISAO ESPECIALIZADA NO ATENDIMENTO A MULHER ...</td>\n",
       "      <td>DIVISAO ESPECIALIZADA NO ATENDIMENTO A MULHER ...</td>\n",
       "      <td>DOM</td>\n",
       "      <td>00 |-- 06</td>\n",
       "      <td>JANEIRO</td>\n",
       "      <td>2020</td>\n",
       "      <td>2020-01-12</td>\n",
       "      <td>LESAO CORPORAL</td>\n",
       "      <td>VIOLENCIA DOMESTICA</td>\n",
       "      <td>OUTRAS</td>\n",
       "      <td>SEM INSTRUMENTO</td>\n",
       "      <td>SACRAMENTA</td>\n",
       "      <td>CAFE, BAR, RESTAURANTE</td>\n",
       "      <td>23.0</td>\n",
       "      <td>ADULTO I (18 A 24 ANOS)</td>\n",
       "      <td>PARDA</td>\n",
       "      <td>F</td>\n",
       "      <td>ENSINO FUNDAMENTAL INCOMPLETO</td>\n",
       "      <td>Nao informado</td>\n",
       "      <td>&lt;p&gt;///////////A declarante acima qualificada c...</td>\n",
       "      <td>Nao informado</td>\n",
       "    </tr>\n",
       "    <tr>\n",
       "      <th>31092</th>\n",
       "      <td>DIVISAO ESPECIALIZADA NO ATENDIMENTO A MULHER ...</td>\n",
       "      <td>DIVISAO ESPECIALIZADA NO ATENDIMENTO A MULHER ...</td>\n",
       "      <td>SEG</td>\n",
       "      <td>00 |-- 06</td>\n",
       "      <td>JANEIRO</td>\n",
       "      <td>2020</td>\n",
       "      <td>2020-01-27</td>\n",
       "      <td>LESAO CORPORAL</td>\n",
       "      <td>VIOLENCIA DOMESTICA</td>\n",
       "      <td>OUTRAS</td>\n",
       "      <td>ONIBUS</td>\n",
       "      <td>PRATINHA</td>\n",
       "      <td>RESIDENCIA PARTICULAR</td>\n",
       "      <td>27.0</td>\n",
       "      <td>ADULTO II (25 A 29 ANOS)</td>\n",
       "      <td>PARDA</td>\n",
       "      <td>F</td>\n",
       "      <td>ENSINO FUNDAMENTAL COMPLETO</td>\n",
       "      <td>Nao informado</td>\n",
       "      <td>&lt;p&gt;A relatora acima qualificada compareceu nes...</td>\n",
       "      <td>Nao informado</td>\n",
       "    </tr>\n",
       "  </tbody>\n",
       "</table>\n",
       "<p>105 rows × 21 columns</p>\n",
       "</div>"
      ],
      "text/plain": [
       "                                          unidade_origem  \\\n",
       "16592         CREMACAO - 4ª SECCIONAL - 1ª RISP- 3ª AISP   \n",
       "16615       PEDREIRA - 10ª SECCIONAL - 1ª RISP - 8ª AISP   \n",
       "17918        COMERCIO - 6ª SECCIONAL - 1ª RISP - 1ª AISP   \n",
       "17919         CREMACAO - 4ª SECCIONAL - 1ª RISP- 3ª AISP   \n",
       "17922      SACRAMENTA - 1ª SECCIONAL - 1ª RISP - 7ª AISP   \n",
       "...                                                  ...   \n",
       "30723   MARCO - DELEGACIA DE POLICIA - 1ª RISP - 8ª AISP   \n",
       "31002          SAO BRAS - 2º SECCIONAL -1º RISP- 2ª AISP   \n",
       "31035  DIVISAO ESPECIALIZADA NO ATENDIMENTO A MULHER ...   \n",
       "31045  DIVISAO ESPECIALIZADA NO ATENDIMENTO A MULHER ...   \n",
       "31092  DIVISAO ESPECIALIZADA NO ATENDIMENTO A MULHER ...   \n",
       "\n",
       "                                     unidade_responsavel dia_semana  \\\n",
       "16592         CREMACAO - 4ª SECCIONAL - 1ª RISP- 3ª AISP        SAB   \n",
       "16615       PEDREIRA - 10ª SECCIONAL - 1ª RISP - 8ª AISP        QUI   \n",
       "17918        COMERCIO - 6ª SECCIONAL - 1ª RISP - 1ª AISP        DOM   \n",
       "17919         CREMACAO - 4ª SECCIONAL - 1ª RISP- 3ª AISP        DOM   \n",
       "17922      SACRAMENTA - 1ª SECCIONAL - 1ª RISP - 7ª AISP        QUI   \n",
       "...                                                  ...        ...   \n",
       "30723   MARCO - DELEGACIA DE POLICIA - 1ª RISP - 8ª AISP        SEG   \n",
       "31002  TERRA FIRME - UNIDADE INTEGRADA PROPAZ - 1ª RI...        SEX   \n",
       "31035  DIVISAO ESPECIALIZADA NO ATENDIMENTO A MULHER ...        SEG   \n",
       "31045  DIVISAO ESPECIALIZADA NO ATENDIMENTO A MULHER ...        DOM   \n",
       "31092  DIVISAO ESPECIALIZADA NO ATENDIMENTO A MULHER ...        SEG   \n",
       "\n",
       "        fx_4_hor mes_fato  ano_fato   data_fato     consolidado  \\\n",
       "16592  06 |-- 12  JANEIRO      2020  2020-01-11  LESAO CORPORAL   \n",
       "16615  12 |-- 18  JANEIRO      2020  2020-01-16  LESAO CORPORAL   \n",
       "17918  18 |-- 24  JANEIRO      2020  2020-01-05  LESAO CORPORAL   \n",
       "17919  12 |-- 18  JANEIRO      2020  2020-01-26  LESAO CORPORAL   \n",
       "17922  12 |-- 18  JANEIRO      2020  2020-01-16  LESAO CORPORAL   \n",
       "...          ...      ...       ...         ...             ...   \n",
       "30723  06 |-- 12  JANEIRO      2020  2020-01-06  LESAO CORPORAL   \n",
       "31002  18 |-- 24  JANEIRO      2020  2020-01-31  LESAO CORPORAL   \n",
       "31035  00 |-- 06  JANEIRO      2020  2020-01-20  LESAO CORPORAL   \n",
       "31045  00 |-- 06  JANEIRO      2020  2020-01-12  LESAO CORPORAL   \n",
       "31092  00 |-- 06  JANEIRO      2020  2020-01-27  LESAO CORPORAL   \n",
       "\n",
       "       especificacao_crime         causa_presumivel meio_empregado_sisp  \\\n",
       "16592  VIOLENCIA DOMESTICA                    CIUME        OUTROS MEIOS   \n",
       "16615  VIOLENCIA DOMESTICA         ODIO OU VINGANCA        OUTROS MEIOS   \n",
       "17918  VIOLENCIA DOMESTICA                   OUTRAS        OUTROS MEIOS   \n",
       "17919  VIOLENCIA DOMESTICA  ALCOOLISMO / EMBRIAGUEZ        OUTROS MEIOS   \n",
       "17922  VIOLENCIA DOMESTICA                   OUTRAS        OUTROS MEIOS   \n",
       "...                    ...                      ...                 ...   \n",
       "30723  VIOLENCIA DOMESTICA         ODIO OU VINGANCA        OUTROS MEIOS   \n",
       "31002  VIOLENCIA DOMESTICA                   OUTRAS        OUTROS MEIOS   \n",
       "31035  VIOLENCIA DOMESTICA         ODIO OU VINGANCA     SEM INSTRUMENTO   \n",
       "31045  VIOLENCIA DOMESTICA                   OUTRAS     SEM INSTRUMENTO   \n",
       "31092  VIOLENCIA DOMESTICA                   OUTRAS              ONIBUS   \n",
       "\n",
       "                 bairros        local_ocorrencia vit_idade  \\\n",
       "16592           CREMACAO             VIA PUBLICA      23.0   \n",
       "16615           PEDREIRA                  PREDIO      22.0   \n",
       "17918       CIDADE VELHA  CAFE, BAR, RESTAURANTE      31.0   \n",
       "17919           CREMACAO             VIA PUBLICA      63.0   \n",
       "17922  TELEGRAFO SEM FIO   RESIDENCIA PARTICULAR      36.0   \n",
       "...                  ...                     ...       ...   \n",
       "30723              MARCO             VIA PUBLICA      52.0   \n",
       "31002        TERRA FIRME   RESIDENCIA PARTICULAR      17.0   \n",
       "31035  TELEGRAFO SEM FIO   RESIDENCIA PARTICULAR      20.0   \n",
       "31045         SACRAMENTA  CAFE, BAR, RESTAURANTE      23.0   \n",
       "31092           PRATINHA   RESIDENCIA PARTICULAR      27.0   \n",
       "\n",
       "                    vit_fx_etaria vit_sexo vit_cor_pele  \\\n",
       "16592     ADULTO I (18 A 24 ANOS)    PARDA            F   \n",
       "16615    ADULTO II (25 A 29 ANOS)    PARDA            F   \n",
       "17918   ADULTO III (30 A 34 ANOS)    PARDA            M   \n",
       "17919    ADULTO IV (35 A 64 ANOS)    PARDA            M   \n",
       "17922    ADULTO IV (35 A 64 ANOS)    PARDA            M   \n",
       "...                           ...      ...          ...   \n",
       "30723    ADULTO IV (35 A 64 ANOS)    PARDA            M   \n",
       "31002  ADOLESCENTE (12 A 17 ANOS)    PARDA            F   \n",
       "31035     ADULTO I (18 A 24 ANOS)    PARDA            F   \n",
       "31045     ADULTO I (18 A 24 ANOS)    PARDA            F   \n",
       "31092    ADULTO II (25 A 29 ANOS)    PARDA            F   \n",
       "\n",
       "                       vit_grau_inst grau_de_relacionamento  \\\n",
       "16592        ENSINO MEDIO INCOMPLETO          Nao informado   \n",
       "16615          ENSINO MEDIO COMPLETO      EX-COMPANHEIRO(A)   \n",
       "17918          ENSINO MEDIO COMPLETO          Nao informado   \n",
       "17919    ENSINO FUNDAMENTAL COMPLETO            SOBRINHO(A)   \n",
       "17922          ENSINO MEDIO COMPLETO          Nao informado   \n",
       "...                              ...                    ...   \n",
       "30723          ENSINO MEDIO COMPLETO          Nao informado   \n",
       "31002  ENSINO FUNDAMENTAL INCOMPLETO          Nao informado   \n",
       "31035          ENSINO MEDIO COMPLETO          Nao informado   \n",
       "31045  ENSINO FUNDAMENTAL INCOMPLETO          Nao informado   \n",
       "31092    ENSINO FUNDAMENTAL COMPLETO          Nao informado   \n",
       "\n",
       "                                                  relato       aut_sexo  \n",
       "16592  <p>A Comunicante vem informar que foi lesionad...  Nao informado  \n",
       "16615  <p>A Sra. SILVIANNE RAMONY RABELO MONTEIRO, Co...              F  \n",
       "17918  <p>O Relator vem a esta Seccional informar que...  Nao informado  \n",
       "17919  <p>O relator compareceu a esta unidade para in...              M  \n",
       "17922  <p>O cidadão acima qualificado compareceu à es...  Nao informado  \n",
       "...                                                  ...            ...  \n",
       "30723  <p>Comunica o relator que na data de hoje (06/...              F  \n",
       "31002  <p>A Cidadã acima identificada compareceu a es...  Nao informado  \n",
       "31035  <p>Foi AGREDIDA FISICAMENTE por sua mãe RINDAH...  Nao informado  \n",
       "31045  <p>///////////A declarante acima qualificada c...  Nao informado  \n",
       "31092  <p>A relatora acima qualificada compareceu nes...  Nao informado  \n",
       "\n",
       "[105 rows x 21 columns]"
      ]
     },
     "execution_count": 87,
     "metadata": {},
     "output_type": "execute_result"
    }
   ],
   "source": [
    "crimes_selecionados_belem[crimes_selecionados_belem['vit_sexo'] == 'PARDA']"
   ]
  },
  {
   "cell_type": "markdown",
   "id": "e92ce93f",
   "metadata": {},
   "source": [
    "Para tratar melhor as linhas com 'PARDA' na coluna 'vit_sexo', serão excluidos as linhas em que a vitima não é do sexo feminino e os valores 'JL', 'JA LANCADO', 'P', 'NI', 'PJ, EP E OUTROS', 'PREJUDICADO' E 'PJ'"
   ]
  },
  {
   "cell_type": "code",
   "execution_count": 95,
   "id": "f7051e02",
   "metadata": {},
   "outputs": [],
   "source": [
    "crimes_selecionados_belem.drop(crimes_selecionados_belem.loc[crimes_selecionados_belem['vit_sexo']=='PJ'].index, inplace=True)"
   ]
  },
  {
   "cell_type": "code",
   "execution_count": 94,
   "id": "31532ccf",
   "metadata": {},
   "outputs": [],
   "source": [
    "crimes_selecionados_belem.drop(crimes_selecionados_belem.loc[crimes_selecionados_belem['vit_sexo']=='M'].index, inplace=True)"
   ]
  },
  {
   "cell_type": "code",
   "execution_count": 96,
   "id": "42bec00f",
   "metadata": {},
   "outputs": [],
   "source": [
    "crimes_selecionados_belem.drop(crimes_selecionados_belem.loc[crimes_selecionados_belem['vit_sexo']=='P'].index, inplace=True)"
   ]
  },
  {
   "cell_type": "code",
   "execution_count": 97,
   "id": "f68fc8e4",
   "metadata": {},
   "outputs": [],
   "source": [
    "crimes_selecionados_belem.drop(crimes_selecionados_belem.loc[crimes_selecionados_belem['vit_sexo']=='JL'].index, inplace=True)"
   ]
  },
  {
   "cell_type": "code",
   "execution_count": 98,
   "id": "5b638a99",
   "metadata": {},
   "outputs": [],
   "source": [
    "crimes_selecionados_belem.drop(crimes_selecionados_belem.loc[crimes_selecionados_belem['vit_sexo']=='NI'].index, inplace=True)"
   ]
  },
  {
   "cell_type": "code",
   "execution_count": 99,
   "id": "70177119",
   "metadata": {},
   "outputs": [],
   "source": [
    "crimes_selecionados_belem.reset_index(drop=True, inplace=True)"
   ]
  },
  {
   "cell_type": "code",
   "execution_count": 100,
   "id": "7b5fc298",
   "metadata": {},
   "outputs": [
    {
     "data": {
      "text/plain": [
       "vit_sexo\n",
       "F        47551\n",
       "PARDA      105\n",
       "Name: count, dtype: int64"
      ]
     },
     "execution_count": 100,
     "metadata": {},
     "output_type": "execute_result"
    }
   ],
   "source": [
    "crimes_selecionados_belem.vit_sexo.value_counts()"
   ]
  },
  {
   "cell_type": "code",
   "execution_count": 101,
   "id": "a17cad0a",
   "metadata": {},
   "outputs": [
    {
     "data": {
      "text/html": [
       "<div>\n",
       "<style scoped>\n",
       "    .dataframe tbody tr th:only-of-type {\n",
       "        vertical-align: middle;\n",
       "    }\n",
       "\n",
       "    .dataframe tbody tr th {\n",
       "        vertical-align: top;\n",
       "    }\n",
       "\n",
       "    .dataframe thead th {\n",
       "        text-align: right;\n",
       "    }\n",
       "</style>\n",
       "<table border=\"1\" class=\"dataframe\">\n",
       "  <thead>\n",
       "    <tr style=\"text-align: right;\">\n",
       "      <th></th>\n",
       "      <th>unidade_origem</th>\n",
       "      <th>unidade_responsavel</th>\n",
       "      <th>dia_semana</th>\n",
       "      <th>fx_4_hor</th>\n",
       "      <th>mes_fato</th>\n",
       "      <th>ano_fato</th>\n",
       "      <th>data_fato</th>\n",
       "      <th>consolidado</th>\n",
       "      <th>especificacao_crime</th>\n",
       "      <th>causa_presumivel</th>\n",
       "      <th>meio_empregado_sisp</th>\n",
       "      <th>bairros</th>\n",
       "      <th>local_ocorrencia</th>\n",
       "      <th>vit_idade</th>\n",
       "      <th>vit_fx_etaria</th>\n",
       "      <th>vit_sexo</th>\n",
       "      <th>vit_cor_pele</th>\n",
       "      <th>vit_grau_inst</th>\n",
       "      <th>grau_de_relacionamento</th>\n",
       "      <th>relato</th>\n",
       "      <th>aut_sexo</th>\n",
       "    </tr>\n",
       "  </thead>\n",
       "  <tbody>\n",
       "    <tr>\n",
       "      <th>9885</th>\n",
       "      <td>CREMACAO - 4ª SECCIONAL - 1ª RISP- 3ª AISP</td>\n",
       "      <td>CREMACAO - 4ª SECCIONAL - 1ª RISP- 3ª AISP</td>\n",
       "      <td>SAB</td>\n",
       "      <td>06 |-- 12</td>\n",
       "      <td>JANEIRO</td>\n",
       "      <td>2020</td>\n",
       "      <td>2020-01-11</td>\n",
       "      <td>LESAO CORPORAL</td>\n",
       "      <td>VIOLENCIA DOMESTICA</td>\n",
       "      <td>CIUME</td>\n",
       "      <td>OUTROS MEIOS</td>\n",
       "      <td>CREMACAO</td>\n",
       "      <td>VIA PUBLICA</td>\n",
       "      <td>23.0</td>\n",
       "      <td>ADULTO I (18 A 24 ANOS)</td>\n",
       "      <td>PARDA</td>\n",
       "      <td>F</td>\n",
       "      <td>ENSINO MEDIO INCOMPLETO</td>\n",
       "      <td>Nao informado</td>\n",
       "      <td>&lt;p&gt;A Comunicante vem informar que foi lesionad...</td>\n",
       "      <td>Nao informado</td>\n",
       "    </tr>\n",
       "    <tr>\n",
       "      <th>9906</th>\n",
       "      <td>PEDREIRA - 10ª SECCIONAL - 1ª RISP - 8ª AISP</td>\n",
       "      <td>PEDREIRA - 10ª SECCIONAL - 1ª RISP - 8ª AISP</td>\n",
       "      <td>QUI</td>\n",
       "      <td>12 |-- 18</td>\n",
       "      <td>JANEIRO</td>\n",
       "      <td>2020</td>\n",
       "      <td>2020-01-16</td>\n",
       "      <td>LESAO CORPORAL</td>\n",
       "      <td>VIOLENCIA DOMESTICA</td>\n",
       "      <td>ODIO OU VINGANCA</td>\n",
       "      <td>OUTROS MEIOS</td>\n",
       "      <td>PEDREIRA</td>\n",
       "      <td>PREDIO</td>\n",
       "      <td>22.0</td>\n",
       "      <td>ADULTO II (25 A 29 ANOS)</td>\n",
       "      <td>PARDA</td>\n",
       "      <td>F</td>\n",
       "      <td>ENSINO MEDIO COMPLETO</td>\n",
       "      <td>EX-COMPANHEIRO(A)</td>\n",
       "      <td>&lt;p&gt;A Sra. SILVIANNE RAMONY RABELO MONTEIRO, Co...</td>\n",
       "      <td>F</td>\n",
       "    </tr>\n",
       "    <tr>\n",
       "      <th>10763</th>\n",
       "      <td>DIVISAO ESPECIALIZADA NO ATENDIMENTO A MULHER ...</td>\n",
       "      <td>DIVISAO ESPECIALIZADA NO ATENDIMENTO A MULHER ...</td>\n",
       "      <td>DOM</td>\n",
       "      <td>18 |-- 24</td>\n",
       "      <td>JANEIRO</td>\n",
       "      <td>2020</td>\n",
       "      <td>2020-01-19</td>\n",
       "      <td>LESAO CORPORAL</td>\n",
       "      <td>VIOLENCIA DOMESTICA</td>\n",
       "      <td>CIUME</td>\n",
       "      <td>OUTROS MEIOS</td>\n",
       "      <td>TERRA FIRME</td>\n",
       "      <td>RESIDENCIA PARTICULAR</td>\n",
       "      <td>24.0</td>\n",
       "      <td>ADULTO I (18 A 24 ANOS)</td>\n",
       "      <td>PARDA</td>\n",
       "      <td>F</td>\n",
       "      <td>ENSINO MEDIO INCOMPLETO</td>\n",
       "      <td>Nao informado</td>\n",
       "      <td>&lt;p&gt;Que compareceu a esta especializada para de...</td>\n",
       "      <td>M</td>\n",
       "    </tr>\n",
       "    <tr>\n",
       "      <th>10773</th>\n",
       "      <td>ICOARACI - 8ª SECCIONAL - 1ª RISP - 11ª, 12ª E...</td>\n",
       "      <td>ICOARACI - 8ª SECCIONAL - 1ª RISP - 11ª, 12ª E...</td>\n",
       "      <td>DOM</td>\n",
       "      <td>00 |-- 06</td>\n",
       "      <td>JANEIRO</td>\n",
       "      <td>2020</td>\n",
       "      <td>2020-01-19</td>\n",
       "      <td>LESAO CORPORAL</td>\n",
       "      <td>VIOLENCIA DOMESTICA</td>\n",
       "      <td>OUTRAS</td>\n",
       "      <td>OUTROS MEIOS</td>\n",
       "      <td>PARACURI</td>\n",
       "      <td>RESIDENCIA PARTICULAR</td>\n",
       "      <td>45.0</td>\n",
       "      <td>ADULTO IV (35 A 64 ANOS)</td>\n",
       "      <td>PARDA</td>\n",
       "      <td>F</td>\n",
       "      <td>ENSINO MEDIO COMPLETO</td>\n",
       "      <td>Nao informado</td>\n",
       "      <td>&lt;p&gt;Compareceu nesta Seccional de Icoaraci, LUI...</td>\n",
       "      <td>M</td>\n",
       "    </tr>\n",
       "    <tr>\n",
       "      <th>10799</th>\n",
       "      <td>DIVISAO ESPECIALIZADA NO ATENDIMENTO A MULHER ...</td>\n",
       "      <td>DIVISAO ESPECIALIZADA NO ATENDIMENTO A MULHER ...</td>\n",
       "      <td>QUA</td>\n",
       "      <td>00 |-- 06</td>\n",
       "      <td>JANEIRO</td>\n",
       "      <td>2020</td>\n",
       "      <td>2020-01-01</td>\n",
       "      <td>LESAO CORPORAL</td>\n",
       "      <td>VIOLENCIA DOMESTICA</td>\n",
       "      <td>ODIO OU VINGANCA</td>\n",
       "      <td>OUTROS MEIOS</td>\n",
       "      <td>MANGUEIRAO</td>\n",
       "      <td>RESIDENCIA PARTICULAR</td>\n",
       "      <td>48.0</td>\n",
       "      <td>ADULTO IV (35 A 64 ANOS)</td>\n",
       "      <td>PARDA</td>\n",
       "      <td>F</td>\n",
       "      <td>ENSINO MEDIO COMPLETO</td>\n",
       "      <td>Nao informado</td>\n",
       "      <td>&lt;p&gt;Compareceu nesta especializada a declarante...</td>\n",
       "      <td>M</td>\n",
       "    </tr>\n",
       "    <tr>\n",
       "      <th>...</th>\n",
       "      <td>...</td>\n",
       "      <td>...</td>\n",
       "      <td>...</td>\n",
       "      <td>...</td>\n",
       "      <td>...</td>\n",
       "      <td>...</td>\n",
       "      <td>...</td>\n",
       "      <td>...</td>\n",
       "      <td>...</td>\n",
       "      <td>...</td>\n",
       "      <td>...</td>\n",
       "      <td>...</td>\n",
       "      <td>...</td>\n",
       "      <td>...</td>\n",
       "      <td>...</td>\n",
       "      <td>...</td>\n",
       "      <td>...</td>\n",
       "      <td>...</td>\n",
       "      <td>...</td>\n",
       "      <td>...</td>\n",
       "      <td>...</td>\n",
       "    </tr>\n",
       "    <tr>\n",
       "      <th>18035</th>\n",
       "      <td>TENONE UNIDADE INTEGRADA PROPAZ - 1ª RISP - 13...</td>\n",
       "      <td>TENONE UNIDADE INTEGRADA PROPAZ - 1ª RISP - 13...</td>\n",
       "      <td>TER</td>\n",
       "      <td>06 |-- 12</td>\n",
       "      <td>JANEIRO</td>\n",
       "      <td>2020</td>\n",
       "      <td>2020-01-21</td>\n",
       "      <td>LESAO CORPORAL</td>\n",
       "      <td>VIOLENCIA DOMESTICA</td>\n",
       "      <td>OUTRAS</td>\n",
       "      <td>OUTROS MEIOS</td>\n",
       "      <td>TENONE</td>\n",
       "      <td>VIA PUBLICA</td>\n",
       "      <td>36.0</td>\n",
       "      <td>ADULTO IV (35 A 64 ANOS)</td>\n",
       "      <td>PARDA</td>\n",
       "      <td>F</td>\n",
       "      <td>ENSINO FUNDAMENTAL INCOMPLETO</td>\n",
       "      <td>EX-NAMORADO(A)</td>\n",
       "      <td>&lt;p&gt;A nacional qualificada compareceu nesta UIP...</td>\n",
       "      <td>M</td>\n",
       "    </tr>\n",
       "    <tr>\n",
       "      <th>18381</th>\n",
       "      <td>SAO BRAS - 2º SECCIONAL -1º RISP- 2ª AISP</td>\n",
       "      <td>TERRA FIRME - UNIDADE INTEGRADA PROPAZ - 1ª RI...</td>\n",
       "      <td>SEX</td>\n",
       "      <td>18 |-- 24</td>\n",
       "      <td>JANEIRO</td>\n",
       "      <td>2020</td>\n",
       "      <td>2020-01-31</td>\n",
       "      <td>LESAO CORPORAL</td>\n",
       "      <td>VIOLENCIA DOMESTICA</td>\n",
       "      <td>OUTRAS</td>\n",
       "      <td>OUTROS MEIOS</td>\n",
       "      <td>TERRA FIRME</td>\n",
       "      <td>RESIDENCIA PARTICULAR</td>\n",
       "      <td>17.0</td>\n",
       "      <td>ADOLESCENTE (12 A 17 ANOS)</td>\n",
       "      <td>PARDA</td>\n",
       "      <td>F</td>\n",
       "      <td>ENSINO FUNDAMENTAL INCOMPLETO</td>\n",
       "      <td>Nao informado</td>\n",
       "      <td>&lt;p&gt;A Cidadã acima identificada compareceu a es...</td>\n",
       "      <td>Nao informado</td>\n",
       "    </tr>\n",
       "    <tr>\n",
       "      <th>18402</th>\n",
       "      <td>DIVISAO ESPECIALIZADA NO ATENDIMENTO A MULHER ...</td>\n",
       "      <td>DIVISAO ESPECIALIZADA NO ATENDIMENTO A MULHER ...</td>\n",
       "      <td>SEG</td>\n",
       "      <td>00 |-- 06</td>\n",
       "      <td>JANEIRO</td>\n",
       "      <td>2020</td>\n",
       "      <td>2020-01-20</td>\n",
       "      <td>LESAO CORPORAL</td>\n",
       "      <td>VIOLENCIA DOMESTICA</td>\n",
       "      <td>ODIO OU VINGANCA</td>\n",
       "      <td>SEM INSTRUMENTO</td>\n",
       "      <td>TELEGRAFO SEM FIO</td>\n",
       "      <td>RESIDENCIA PARTICULAR</td>\n",
       "      <td>20.0</td>\n",
       "      <td>ADULTO I (18 A 24 ANOS)</td>\n",
       "      <td>PARDA</td>\n",
       "      <td>F</td>\n",
       "      <td>ENSINO MEDIO COMPLETO</td>\n",
       "      <td>Nao informado</td>\n",
       "      <td>&lt;p&gt;Foi AGREDIDA FISICAMENTE por sua mãe RINDAH...</td>\n",
       "      <td>Nao informado</td>\n",
       "    </tr>\n",
       "    <tr>\n",
       "      <th>18412</th>\n",
       "      <td>DIVISAO ESPECIALIZADA NO ATENDIMENTO A MULHER ...</td>\n",
       "      <td>DIVISAO ESPECIALIZADA NO ATENDIMENTO A MULHER ...</td>\n",
       "      <td>DOM</td>\n",
       "      <td>00 |-- 06</td>\n",
       "      <td>JANEIRO</td>\n",
       "      <td>2020</td>\n",
       "      <td>2020-01-12</td>\n",
       "      <td>LESAO CORPORAL</td>\n",
       "      <td>VIOLENCIA DOMESTICA</td>\n",
       "      <td>OUTRAS</td>\n",
       "      <td>SEM INSTRUMENTO</td>\n",
       "      <td>SACRAMENTA</td>\n",
       "      <td>CAFE, BAR, RESTAURANTE</td>\n",
       "      <td>23.0</td>\n",
       "      <td>ADULTO I (18 A 24 ANOS)</td>\n",
       "      <td>PARDA</td>\n",
       "      <td>F</td>\n",
       "      <td>ENSINO FUNDAMENTAL INCOMPLETO</td>\n",
       "      <td>Nao informado</td>\n",
       "      <td>&lt;p&gt;///////////A declarante acima qualificada c...</td>\n",
       "      <td>Nao informado</td>\n",
       "    </tr>\n",
       "    <tr>\n",
       "      <th>18443</th>\n",
       "      <td>DIVISAO ESPECIALIZADA NO ATENDIMENTO A MULHER ...</td>\n",
       "      <td>DIVISAO ESPECIALIZADA NO ATENDIMENTO A MULHER ...</td>\n",
       "      <td>SEG</td>\n",
       "      <td>00 |-- 06</td>\n",
       "      <td>JANEIRO</td>\n",
       "      <td>2020</td>\n",
       "      <td>2020-01-27</td>\n",
       "      <td>LESAO CORPORAL</td>\n",
       "      <td>VIOLENCIA DOMESTICA</td>\n",
       "      <td>OUTRAS</td>\n",
       "      <td>ONIBUS</td>\n",
       "      <td>PRATINHA</td>\n",
       "      <td>RESIDENCIA PARTICULAR</td>\n",
       "      <td>27.0</td>\n",
       "      <td>ADULTO II (25 A 29 ANOS)</td>\n",
       "      <td>PARDA</td>\n",
       "      <td>F</td>\n",
       "      <td>ENSINO FUNDAMENTAL COMPLETO</td>\n",
       "      <td>Nao informado</td>\n",
       "      <td>&lt;p&gt;A relatora acima qualificada compareceu nes...</td>\n",
       "      <td>Nao informado</td>\n",
       "    </tr>\n",
       "  </tbody>\n",
       "</table>\n",
       "<p>94 rows × 21 columns</p>\n",
       "</div>"
      ],
      "text/plain": [
       "                                          unidade_origem  \\\n",
       "9885          CREMACAO - 4ª SECCIONAL - 1ª RISP- 3ª AISP   \n",
       "9906        PEDREIRA - 10ª SECCIONAL - 1ª RISP - 8ª AISP   \n",
       "10763  DIVISAO ESPECIALIZADA NO ATENDIMENTO A MULHER ...   \n",
       "10773  ICOARACI - 8ª SECCIONAL - 1ª RISP - 11ª, 12ª E...   \n",
       "10799  DIVISAO ESPECIALIZADA NO ATENDIMENTO A MULHER ...   \n",
       "...                                                  ...   \n",
       "18035  TENONE UNIDADE INTEGRADA PROPAZ - 1ª RISP - 13...   \n",
       "18381          SAO BRAS - 2º SECCIONAL -1º RISP- 2ª AISP   \n",
       "18402  DIVISAO ESPECIALIZADA NO ATENDIMENTO A MULHER ...   \n",
       "18412  DIVISAO ESPECIALIZADA NO ATENDIMENTO A MULHER ...   \n",
       "18443  DIVISAO ESPECIALIZADA NO ATENDIMENTO A MULHER ...   \n",
       "\n",
       "                                     unidade_responsavel dia_semana  \\\n",
       "9885          CREMACAO - 4ª SECCIONAL - 1ª RISP- 3ª AISP        SAB   \n",
       "9906        PEDREIRA - 10ª SECCIONAL - 1ª RISP - 8ª AISP        QUI   \n",
       "10763  DIVISAO ESPECIALIZADA NO ATENDIMENTO A MULHER ...        DOM   \n",
       "10773  ICOARACI - 8ª SECCIONAL - 1ª RISP - 11ª, 12ª E...        DOM   \n",
       "10799  DIVISAO ESPECIALIZADA NO ATENDIMENTO A MULHER ...        QUA   \n",
       "...                                                  ...        ...   \n",
       "18035  TENONE UNIDADE INTEGRADA PROPAZ - 1ª RISP - 13...        TER   \n",
       "18381  TERRA FIRME - UNIDADE INTEGRADA PROPAZ - 1ª RI...        SEX   \n",
       "18402  DIVISAO ESPECIALIZADA NO ATENDIMENTO A MULHER ...        SEG   \n",
       "18412  DIVISAO ESPECIALIZADA NO ATENDIMENTO A MULHER ...        DOM   \n",
       "18443  DIVISAO ESPECIALIZADA NO ATENDIMENTO A MULHER ...        SEG   \n",
       "\n",
       "        fx_4_hor mes_fato  ano_fato   data_fato     consolidado  \\\n",
       "9885   06 |-- 12  JANEIRO      2020  2020-01-11  LESAO CORPORAL   \n",
       "9906   12 |-- 18  JANEIRO      2020  2020-01-16  LESAO CORPORAL   \n",
       "10763  18 |-- 24  JANEIRO      2020  2020-01-19  LESAO CORPORAL   \n",
       "10773  00 |-- 06  JANEIRO      2020  2020-01-19  LESAO CORPORAL   \n",
       "10799  00 |-- 06  JANEIRO      2020  2020-01-01  LESAO CORPORAL   \n",
       "...          ...      ...       ...         ...             ...   \n",
       "18035  06 |-- 12  JANEIRO      2020  2020-01-21  LESAO CORPORAL   \n",
       "18381  18 |-- 24  JANEIRO      2020  2020-01-31  LESAO CORPORAL   \n",
       "18402  00 |-- 06  JANEIRO      2020  2020-01-20  LESAO CORPORAL   \n",
       "18412  00 |-- 06  JANEIRO      2020  2020-01-12  LESAO CORPORAL   \n",
       "18443  00 |-- 06  JANEIRO      2020  2020-01-27  LESAO CORPORAL   \n",
       "\n",
       "       especificacao_crime  causa_presumivel meio_empregado_sisp  \\\n",
       "9885   VIOLENCIA DOMESTICA             CIUME        OUTROS MEIOS   \n",
       "9906   VIOLENCIA DOMESTICA  ODIO OU VINGANCA        OUTROS MEIOS   \n",
       "10763  VIOLENCIA DOMESTICA             CIUME        OUTROS MEIOS   \n",
       "10773  VIOLENCIA DOMESTICA            OUTRAS        OUTROS MEIOS   \n",
       "10799  VIOLENCIA DOMESTICA  ODIO OU VINGANCA        OUTROS MEIOS   \n",
       "...                    ...               ...                 ...   \n",
       "18035  VIOLENCIA DOMESTICA            OUTRAS        OUTROS MEIOS   \n",
       "18381  VIOLENCIA DOMESTICA            OUTRAS        OUTROS MEIOS   \n",
       "18402  VIOLENCIA DOMESTICA  ODIO OU VINGANCA     SEM INSTRUMENTO   \n",
       "18412  VIOLENCIA DOMESTICA            OUTRAS     SEM INSTRUMENTO   \n",
       "18443  VIOLENCIA DOMESTICA            OUTRAS              ONIBUS   \n",
       "\n",
       "                 bairros        local_ocorrencia vit_idade  \\\n",
       "9885            CREMACAO             VIA PUBLICA      23.0   \n",
       "9906            PEDREIRA                  PREDIO      22.0   \n",
       "10763        TERRA FIRME   RESIDENCIA PARTICULAR      24.0   \n",
       "10773           PARACURI   RESIDENCIA PARTICULAR      45.0   \n",
       "10799         MANGUEIRAO   RESIDENCIA PARTICULAR      48.0   \n",
       "...                  ...                     ...       ...   \n",
       "18035             TENONE             VIA PUBLICA      36.0   \n",
       "18381        TERRA FIRME   RESIDENCIA PARTICULAR      17.0   \n",
       "18402  TELEGRAFO SEM FIO   RESIDENCIA PARTICULAR      20.0   \n",
       "18412         SACRAMENTA  CAFE, BAR, RESTAURANTE      23.0   \n",
       "18443           PRATINHA   RESIDENCIA PARTICULAR      27.0   \n",
       "\n",
       "                    vit_fx_etaria vit_sexo vit_cor_pele  \\\n",
       "9885      ADULTO I (18 A 24 ANOS)    PARDA            F   \n",
       "9906     ADULTO II (25 A 29 ANOS)    PARDA            F   \n",
       "10763     ADULTO I (18 A 24 ANOS)    PARDA            F   \n",
       "10773    ADULTO IV (35 A 64 ANOS)    PARDA            F   \n",
       "10799    ADULTO IV (35 A 64 ANOS)    PARDA            F   \n",
       "...                           ...      ...          ...   \n",
       "18035    ADULTO IV (35 A 64 ANOS)    PARDA            F   \n",
       "18381  ADOLESCENTE (12 A 17 ANOS)    PARDA            F   \n",
       "18402     ADULTO I (18 A 24 ANOS)    PARDA            F   \n",
       "18412     ADULTO I (18 A 24 ANOS)    PARDA            F   \n",
       "18443    ADULTO II (25 A 29 ANOS)    PARDA            F   \n",
       "\n",
       "                       vit_grau_inst grau_de_relacionamento  \\\n",
       "9885         ENSINO MEDIO INCOMPLETO          Nao informado   \n",
       "9906           ENSINO MEDIO COMPLETO      EX-COMPANHEIRO(A)   \n",
       "10763        ENSINO MEDIO INCOMPLETO          Nao informado   \n",
       "10773          ENSINO MEDIO COMPLETO          Nao informado   \n",
       "10799          ENSINO MEDIO COMPLETO          Nao informado   \n",
       "...                              ...                    ...   \n",
       "18035  ENSINO FUNDAMENTAL INCOMPLETO         EX-NAMORADO(A)   \n",
       "18381  ENSINO FUNDAMENTAL INCOMPLETO          Nao informado   \n",
       "18402          ENSINO MEDIO COMPLETO          Nao informado   \n",
       "18412  ENSINO FUNDAMENTAL INCOMPLETO          Nao informado   \n",
       "18443    ENSINO FUNDAMENTAL COMPLETO          Nao informado   \n",
       "\n",
       "                                                  relato       aut_sexo  \n",
       "9885   <p>A Comunicante vem informar que foi lesionad...  Nao informado  \n",
       "9906   <p>A Sra. SILVIANNE RAMONY RABELO MONTEIRO, Co...              F  \n",
       "10763  <p>Que compareceu a esta especializada para de...              M  \n",
       "10773  <p>Compareceu nesta Seccional de Icoaraci, LUI...              M  \n",
       "10799  <p>Compareceu nesta especializada a declarante...              M  \n",
       "...                                                  ...            ...  \n",
       "18035  <p>A nacional qualificada compareceu nesta UIP...              M  \n",
       "18381  <p>A Cidadã acima identificada compareceu a es...  Nao informado  \n",
       "18402  <p>Foi AGREDIDA FISICAMENTE por sua mãe RINDAH...  Nao informado  \n",
       "18412  <p>///////////A declarante acima qualificada c...  Nao informado  \n",
       "18443  <p>A relatora acima qualificada compareceu nes...  Nao informado  \n",
       "\n",
       "[94 rows x 21 columns]"
      ]
     },
     "execution_count": 101,
     "metadata": {},
     "output_type": "execute_result"
    }
   ],
   "source": [
    "crimes_selecionados_belem[(crimes_selecionados_belem['vit_sexo'] == 'PARDA') & (crimes_selecionados_belem['vit_cor_pele'] == 'F')]"
   ]
  },
  {
   "cell_type": "code",
   "execution_count": 102,
   "id": "6e002fb7",
   "metadata": {},
   "outputs": [],
   "source": [
    "condicao_sexo_cor_1 = (crimes_selecionados_belem['vit_sexo'] == 'PARDA') & (crimes_selecionados_belem['vit_cor_pele'] == 'F')\n",
    "crimes_selecionados_belem.loc[condicao_sexo_cor_1, ['vit_sexo', 'vit_cor_pele']] = ['F', 'PARDA']\n",
    "crimes_selecionados_belem.reset_index(drop=True, inplace=True)"
   ]
  },
  {
   "cell_type": "markdown",
   "id": "64d2a4a5",
   "metadata": {},
   "source": [
    "O restante são valores que estão preenchidos com 'M' na coluna 'vit_cor_pele', serão excluidos a seguir no tratamento da coluna em questao"
   ]
  },
  {
   "cell_type": "code",
   "execution_count": 103,
   "id": "406d03c4",
   "metadata": {},
   "outputs": [
    {
     "data": {
      "text/plain": [
       "vit_sexo\n",
       "F        47645\n",
       "PARDA       11\n",
       "Name: count, dtype: int64"
      ]
     },
     "execution_count": 103,
     "metadata": {},
     "output_type": "execute_result"
    }
   ],
   "source": [
    "crimes_selecionados_belem.vit_sexo.value_counts()"
   ]
  },
  {
   "cell_type": "markdown",
   "id": "9a4415e9",
   "metadata": {},
   "source": [
    "- vit_cor_pele"
   ]
  },
  {
   "cell_type": "code",
   "execution_count": 104,
   "id": "3e61309a",
   "metadata": {},
   "outputs": [
    {
     "data": {
      "text/plain": [
       "vit_cor_pele\n",
       "PREJUDICADO      33202\n",
       "Nao informado     6124\n",
       "NAO INFORMADO     5218\n",
       "PARDA             2874\n",
       "BRANCA             133\n",
       "PRETA               91\n",
       "M                   11\n",
       "INDIGENA             2\n",
       "AMARELA              1\n",
       "Name: count, dtype: int64"
      ]
     },
     "execution_count": 104,
     "metadata": {},
     "output_type": "execute_result"
    }
   ],
   "source": [
    "crimes_selecionados_belem.vit_cor_pele.value_counts()"
   ]
  },
  {
   "cell_type": "code",
   "execution_count": 105,
   "id": "79856941",
   "metadata": {},
   "outputs": [],
   "source": [
    "crimes_selecionados_belem.loc[crimes_selecionados_belem.vit_cor_pele == \"Nao informado\",'vit_cor_pele']= 'PREJUDICADO'"
   ]
  },
  {
   "cell_type": "code",
   "execution_count": 106,
   "id": "3391b237",
   "metadata": {},
   "outputs": [],
   "source": [
    "crimes_selecionados_belem.loc[crimes_selecionados_belem.vit_cor_pele == \"NAO INFORMADO\",'vit_cor_pele']= 'PREJUDICADO'"
   ]
  },
  {
   "cell_type": "code",
   "execution_count": 107,
   "id": "83cbcba7",
   "metadata": {},
   "outputs": [],
   "source": [
    "crimes_selecionados_belem.drop(crimes_selecionados_belem.loc[crimes_selecionados_belem['vit_cor_pele']=='M'].index, inplace=True)"
   ]
  },
  {
   "cell_type": "code",
   "execution_count": 108,
   "id": "28e64242",
   "metadata": {},
   "outputs": [],
   "source": [
    "crimes_selecionados_belem.reset_index(drop=True, inplace=True)"
   ]
  },
  {
   "cell_type": "code",
   "execution_count": 109,
   "id": "e1cdcba3",
   "metadata": {},
   "outputs": [
    {
     "data": {
      "text/plain": [
       "vit_cor_pele\n",
       "PREJUDICADO    44544\n",
       "PARDA           2874\n",
       "BRANCA           133\n",
       "PRETA             91\n",
       "INDIGENA           2\n",
       "AMARELA            1\n",
       "Name: count, dtype: int64"
      ]
     },
     "execution_count": 109,
     "metadata": {},
     "output_type": "execute_result"
    }
   ],
   "source": [
    "crimes_selecionados_belem.vit_cor_pele.value_counts()"
   ]
  },
  {
   "cell_type": "markdown",
   "id": "93df7ae6",
   "metadata": {},
   "source": [
    "- local_ocorrencia"
   ]
  },
  {
   "cell_type": "code",
   "execution_count": 110,
   "id": "295753e5",
   "metadata": {},
   "outputs": [
    {
     "name": "stdout",
     "output_type": "stream",
     "text": [
      "Numero unico de local_ocorrencia:  92\n"
     ]
    },
    {
     "data": {
      "text/plain": [
       "['VIA PUBLICA',\n",
       " 'HOSPITAL',\n",
       " 'RESIDENCIA PARTICULAR',\n",
       " 'CAFE, BAR, RESTAURANTE',\n",
       " 'OUTROS',\n",
       " 'CASA DE TOLERANCIA',\n",
       " 'CRECHE',\n",
       " 'INTERNET',\n",
       " 'CONDOMINIO RESIDENCIAL',\n",
       " 'CASA COMERCIAL',\n",
       " 'ESTABELECIMENTO DE ENSINO',\n",
       " 'HABITACAO COLETIVA',\n",
       " 'EDIFICIO PUBLICO',\n",
       " 'LOGRADORO PUBLICO',\n",
       " 'HOTEL, PENSAO, ETC',\n",
       " 'CONDOMINIO COMERCIAL',\n",
       " 'ESTABELECIMENTO BANCARIO',\n",
       " 'TRANSPORTE',\n",
       " 'PREDIO',\n",
       " 'BAR',\n",
       " 'PENITENCIARIA, REFORMATORIO',\n",
       " 'TERRENO BALDIO',\n",
       " 'LOJAS DE CONVENIENCIA',\n",
       " 'OUTROS ESTADOS',\n",
       " 'CAIXA ELETRONICO',\n",
       " 'VIA FERREA',\n",
       " 'CLINICA',\n",
       " 'CLINICA ',\n",
       " 'VIA PUBLICA ',\n",
       " 'MAR, RIO, LAGOA',\n",
       " 'SUPERMERCADO ',\n",
       " 'CAFE,BAR,ETC',\n",
       " 'POSTO DE GASOLINA',\n",
       " 'TRANSPORTE ',\n",
       " 'PROPRIEDADE AGROPASTORIL',\n",
       " 'ACADEMIA',\n",
       " 'PROSTIBULO',\n",
       " 'INDUSTRIA',\n",
       " 'CASA DE SHOW',\n",
       " 'LANCHONETE',\n",
       " 'ABRIGO',\n",
       " 'PARQUE',\n",
       " 'ARENA',\n",
       " 'PREDIO EM OBRAS',\n",
       " 'CARRO FORTE',\n",
       " 'TRANSPORTE POR APLICATIVO',\n",
       " 'INTERNET (REDES SOCIAIS, APLICATIVOS DE MENSAGENS, E-MAIL, SITES, BLOGS, PORTAIS E OUTROS)',\n",
       " 'RESIDENCIA',\n",
       " 'ESTABELECIMENTOS DE SAUDE',\n",
       " 'EMBARCACAO',\n",
       " 'CASA DE ABRIGO E ASSISTENCIA',\n",
       " 'AMBIENTE VIRTUAL (INTERNET)',\n",
       " 'OBRA/CONSTRUCAO CIVIL',\n",
       " 'NAO INFORMADO',\n",
       " 'OUTRO',\n",
       " 'INSTITUICAO PUBLICA',\n",
       " 'ESTABELECIMENTO COMERCIAL',\n",
       " 'EM VEICULO',\n",
       " 'ZONA URBANA',\n",
       " 'TRANSPORTE COLETIVO',\n",
       " 'OUTROS PAISES',\n",
       " 'AREA MILITAR',\n",
       " 'ESTADIO ESPORTIVO',\n",
       " 'INSTITUICAO PRIVADA',\n",
       " 'ESTABELECIMENTO DE DIVERSAO COLETIVA',\n",
       " 'PORTOS / MARINAS / ATRACADOUROS',\n",
       " 'ESTABELECIMENTO PRISIONAL',\n",
       " 'CLUBES E AGREMIACOES',\n",
       " 'PROPRIEDADE RESIDENCIAL URBANA',\n",
       " 'AREA RURAL',\n",
       " 'AEROPORTOS / PISTA DE POUSO',\n",
       " 'SEM INFORMACAO',\n",
       " 'ZONA PERIURBANA',\n",
       " 'TRANSPORTE (COLETIVO, PRIVADO OU ESCOLAR)',\n",
       " 'TEMPLOS RELIGIOSOS',\n",
       " 'CONCESSIONARIAS',\n",
       " 'TERMINAL DE ONIBUS',\n",
       " 'INSTITUICAO FINANCEIRA',\n",
       " 'REPRESAS',\n",
       " 'ESTACAO DE METRO',\n",
       " 'PREJUDICADO',\n",
       " 'ESTACAO DE TRATAMENTO DE AGUA E ESGOTOS',\n",
       " 'ESTABELECIMENTO DE SAUDE',\n",
       " 'LIMITES, DIVISAS E FRONTEIRAS',\n",
       " 'ESTABELECIMENTO INDUSTRIAL',\n",
       " 'CARRO DE TRANSPORTE DE VALORES',\n",
       " 'IGARAPE',\n",
       " 'PARTIDOS POLITICOS',\n",
       " 'ESTACAO FERROVIARIA',\n",
       " 'RIO',\n",
       " 'MAR / OCEANO',\n",
       " 'LOCAL DE PROSTITUICAO']"
      ]
     },
     "execution_count": 110,
     "metadata": {},
     "output_type": "execute_result"
    }
   ],
   "source": [
    "local_ocorrencia_unico = crimes_selecionados_belem[\"local_ocorrencia\"].unique().tolist()\n",
    "print(\"Numero unico de local_ocorrencia: \", len(local_ocorrencia_unico))\n",
    "local_ocorrencia_unico"
   ]
  },
  {
   "cell_type": "code",
   "execution_count": 111,
   "id": "07d4502a",
   "metadata": {},
   "outputs": [],
   "source": [
    "crimes_selecionados_belem.loc[crimes_selecionados_belem.local_ocorrencia == \"VIA PUBLICA \",'local_ocorrencia'] = 'VIA PUBLICA'"
   ]
  },
  {
   "cell_type": "code",
   "execution_count": 112,
   "id": "cc831198",
   "metadata": {},
   "outputs": [],
   "source": [
    "crimes_selecionados_belem.loc[crimes_selecionados_belem.local_ocorrencia == \"LOGRADORO PUBLICO\",'local_ocorrencia'] = 'VIA PUBLICA'"
   ]
  },
  {
   "cell_type": "code",
   "execution_count": 113,
   "id": "48aabbde",
   "metadata": {},
   "outputs": [],
   "source": [
    "crimes_selecionados_belem.loc[crimes_selecionados_belem.local_ocorrencia == \"TRANSPORTE \",'local_ocorrencia'] = 'TRANSPORTE(PUBLICO, URBANO, ETC)'\n"
   ]
  },
  {
   "cell_type": "code",
   "execution_count": 114,
   "id": "d3786fcf",
   "metadata": {},
   "outputs": [],
   "source": [
    "crimes_selecionados_belem.loc[crimes_selecionados_belem.local_ocorrencia == \"CARRO DE TRANSPORTE DE VALORES\",'local_ocorrencia'] = 'TRANSPORTE(PUBLICO, URBANO, ETC)'\n"
   ]
  },
  {
   "cell_type": "code",
   "execution_count": 115,
   "id": "8c9e09b6",
   "metadata": {},
   "outputs": [],
   "source": [
    "crimes_selecionados_belem.loc[crimes_selecionados_belem.local_ocorrencia == \"TRANSPORTE POR APLICATIVO\",'local_ocorrencia'] = 'TRANSPORTE(PUBLICO, URBANO, ETC)'\n"
   ]
  },
  {
   "cell_type": "code",
   "execution_count": 116,
   "id": "89a417ed",
   "metadata": {},
   "outputs": [],
   "source": [
    "crimes_selecionados_belem.loc[crimes_selecionados_belem.local_ocorrencia == \"TRANSPORTE COLETIVO\",'local_ocorrencia'] = 'TRANSPORTE(PUBLICO, URBANO, ETC)'\n"
   ]
  },
  {
   "cell_type": "code",
   "execution_count": 117,
   "id": "3f1b3372",
   "metadata": {},
   "outputs": [],
   "source": [
    "crimes_selecionados_belem.loc[crimes_selecionados_belem.local_ocorrencia == \"TRANSPORTE\",'local_ocorrencia'] = 'TRANSPORTE(PUBLICO, URBANO, ETC)'\n"
   ]
  },
  {
   "cell_type": "code",
   "execution_count": 118,
   "id": "4e6332ea",
   "metadata": {},
   "outputs": [],
   "source": [
    "crimes_selecionados_belem.loc[crimes_selecionados_belem.local_ocorrencia == \"TRANSPORTE (COLETIVO, PRIVADO OU ESCOLAR)\",'local_ocorrencia'] = 'TRANSPORTE(PUBLICO, URBANO, ETC)'\n"
   ]
  },
  {
   "cell_type": "code",
   "execution_count": 119,
   "id": "0e6b88a2",
   "metadata": {},
   "outputs": [],
   "source": [
    "crimes_selecionados_belem.loc[crimes_selecionados_belem.local_ocorrencia == \"MAR, RIO, LAGOA\",'local_ocorrencia'] = 'MAR, RIO, LAGOA'\n"
   ]
  },
  {
   "cell_type": "code",
   "execution_count": 120,
   "id": "13a8e976",
   "metadata": {},
   "outputs": [],
   "source": [
    "crimes_selecionados_belem.loc[crimes_selecionados_belem.local_ocorrencia == \"MAR / OCEANO\",'local_ocorrencia']='MAR, RIO, LAGOA'"
   ]
  },
  {
   "cell_type": "code",
   "execution_count": 121,
   "id": "b888bcf3",
   "metadata": {},
   "outputs": [],
   "source": [
    "crimes_selecionados_belem.loc[crimes_selecionados_belem.local_ocorrencia == \"REPRESAS\",'local_ocorrencia']='MAR, RIO, LAGOA'"
   ]
  },
  {
   "cell_type": "code",
   "execution_count": 122,
   "id": "56376f19",
   "metadata": {},
   "outputs": [],
   "source": [
    "crimes_selecionados_belem.loc[crimes_selecionados_belem.local_ocorrencia == \"RIO\",'local_ocorrencia']='MAR, RIO, LAGOA'"
   ]
  },
  {
   "cell_type": "code",
   "execution_count": 123,
   "id": "9ed47360",
   "metadata": {},
   "outputs": [],
   "source": [
    "crimes_selecionados_belem.loc[crimes_selecionados_belem.local_ocorrencia == \"IGARAPE\",'local_ocorrencia']='MAR, RIO, LAGOA'"
   ]
  },
  {
   "cell_type": "code",
   "execution_count": 124,
   "id": "5a96a4ff",
   "metadata": {},
   "outputs": [],
   "source": [
    "crimes_selecionados_belem.loc[crimes_selecionados_belem.local_ocorrencia == \"ESTABELECIMENTO PRISIONAL\",'local_ocorrencia'] = 'PENITENCIARIA, REFORMATORIO'"
   ]
  },
  {
   "cell_type": "code",
   "execution_count": 125,
   "id": "1da4d1a1",
   "metadata": {},
   "outputs": [],
   "source": [
    "crimes_selecionados_belem.loc[crimes_selecionados_belem.local_ocorrencia == \"AMBIENTE VIRTUAL (INTERNET)\",'local_ocorrencia'] = 'INTERNET'"
   ]
  },
  {
   "cell_type": "code",
   "execution_count": 126,
   "id": "0f44a80f",
   "metadata": {},
   "outputs": [],
   "source": [
    "crimes_selecionados_belem.loc[crimes_selecionados_belem.local_ocorrencia == \"INTERNET (REDES SOCIAIS, APLICATIVOS DE MENSAGENS, E-MAIL, SITES, BLOGS, PORTAIS E OUTROS)\",'local_ocorrencia'] = 'INTERNET'"
   ]
  },
  {
   "cell_type": "code",
   "execution_count": 127,
   "id": "807d318a",
   "metadata": {},
   "outputs": [],
   "source": [
    "crimes_selecionados_belem.loc[crimes_selecionados_belem.local_ocorrencia == \"CASA COMERCIAL \",'local_ocorrencia'] = 'ESTABELECIMENTO COMERCIAL'"
   ]
  },
  {
   "cell_type": "code",
   "execution_count": 128,
   "id": "9fc05454",
   "metadata": {},
   "outputs": [],
   "source": [
    "crimes_selecionados_belem.loc[crimes_selecionados_belem.local_ocorrencia == \"PREDIO EM OBRAS\",'local_ocorrencia'] = 'PREDIO'\n"
   ]
  },
  {
   "cell_type": "code",
   "execution_count": 129,
   "id": "6ba8b249",
   "metadata": {},
   "outputs": [],
   "source": [
    "crimes_selecionados_belem.loc[crimes_selecionados_belem.local_ocorrencia == \"LOJAS DE CONVENIENCIA\",'local_ocorrencia'] =  'LOJA DE CONVENIENCIA'"
   ]
  },
  {
   "cell_type": "code",
   "execution_count": 130,
   "id": "396436d6",
   "metadata": {},
   "outputs": [],
   "source": [
    "crimes_selecionados_belem.loc[crimes_selecionados_belem.local_ocorrencia == \"VIA FERREA\",'local_ocorrencia'] =   'ESTACAO FERROVIARIA'"
   ]
  },
  {
   "cell_type": "code",
   "execution_count": 131,
   "id": "d71ad294",
   "metadata": {},
   "outputs": [],
   "source": [
    "crimes_selecionados_belem.loc[crimes_selecionados_belem.local_ocorrencia == \"RESIDENCIA\",'local_ocorrencia'] = 'RESIDENCIA PARTICULAR'"
   ]
  },
  {
   "cell_type": "code",
   "execution_count": 132,
   "id": "a3d0fb96",
   "metadata": {},
   "outputs": [],
   "source": [
    "crimes_selecionados_belem.loc[crimes_selecionados_belem.local_ocorrencia == \"PROPRIEDADE RESIDENCIAL URBANA\",'local_ocorrencia'] = 'RESIDENCIA PARTICULAR'"
   ]
  },
  {
   "cell_type": "code",
   "execution_count": 133,
   "id": "7191951f",
   "metadata": {},
   "outputs": [],
   "source": [
    "crimes_selecionados_belem.loc[crimes_selecionados_belem.local_ocorrencia == \"SUPERMERCADO \",'local_ocorrencia'] = 'SUPERMERCADO'"
   ]
  },
  {
   "cell_type": "code",
   "execution_count": 134,
   "id": "77c448a6",
   "metadata": {},
   "outputs": [],
   "source": [
    "crimes_selecionados_belem.loc[crimes_selecionados_belem.local_ocorrencia == \"CLINICA \",'local_ocorrencia'] = 'CLINICA'"
   ]
  },
  {
   "cell_type": "code",
   "execution_count": 135,
   "id": "3c30509b",
   "metadata": {},
   "outputs": [],
   "source": [
    "crimes_selecionados_belem.loc[crimes_selecionados_belem.local_ocorrencia == \"INDUSTRIA\",'local_ocorrencia'] = 'ESTABELECIMENTO INDUSTRIAL'"
   ]
  },
  {
   "cell_type": "code",
   "execution_count": 136,
   "id": "74900133",
   "metadata": {},
   "outputs": [],
   "source": [
    "crimes_selecionados_belem.loc[crimes_selecionados_belem.local_ocorrencia == \"PROSTIBULO\",'local_ocorrencia'] = 'LOCAL DE PROSTITUICAO'"
   ]
  },
  {
   "cell_type": "code",
   "execution_count": 137,
   "id": "5cf8b19a",
   "metadata": {},
   "outputs": [],
   "source": [
    "crimes_selecionados_belem.loc[crimes_selecionados_belem.local_ocorrencia ==\"CASA DE TOLERANCIA\",'local_ocorrencia'] = 'LOCAL DE PROSTITUICAO'"
   ]
  },
  {
   "cell_type": "code",
   "execution_count": 138,
   "id": "668ad45f",
   "metadata": {},
   "outputs": [],
   "source": [
    "crimes_selecionados_belem.loc[crimes_selecionados_belem.local_ocorrencia == \"EM VEICULO\",'local_ocorrencia'] = 'VEICULO'"
   ]
  },
  {
   "cell_type": "code",
   "execution_count": 139,
   "id": "f69a53ce",
   "metadata": {},
   "outputs": [],
   "source": [
    "crimes_selecionados_belem.loc[crimes_selecionados_belem.local_ocorrencia == \"CARRO DE TRANSPORTE DE VALORES\",'local_ocorrencia'] = 'CARRO FORTE'"
   ]
  },
  {
   "cell_type": "code",
   "execution_count": 140,
   "id": "348919ed",
   "metadata": {},
   "outputs": [],
   "source": [
    "crimes_selecionados_belem.loc[crimes_selecionados_belem.local_ocorrencia == \"ABRIGO\",'local_ocorrencia'] = 'CASA DE ABRIGO E ASSISTENCIA'"
   ]
  },
  {
   "cell_type": "code",
   "execution_count": 141,
   "id": "8bbca474",
   "metadata": {},
   "outputs": [],
   "source": [
    "crimes_selecionados_belem.loc[crimes_selecionados_belem.local_ocorrencia ==\"AEROPORTOS / PISTA DE POUSO\",'local_ocorrencia'] = 'AEROPORTO'"
   ]
  },
  {
   "cell_type": "code",
   "execution_count": 142,
   "id": "fe25c5d0",
   "metadata": {},
   "outputs": [],
   "source": [
    "crimes_selecionados_belem.loc[crimes_selecionados_belem.local_ocorrencia == \"SEM INFORMACAO\",'local_ocorrencia'] =  'NAO INFORMADO'"
   ]
  },
  {
   "cell_type": "code",
   "execution_count": 143,
   "id": "db8a2fba",
   "metadata": {},
   "outputs": [],
   "source": [
    "crimes_selecionados_belem.loc[crimes_selecionados_belem.local_ocorrencia == \"CAFE,BAR,ETC\",'local_ocorrencia'] =  'CAFE, BAR, RESTAURANTE, ETC'"
   ]
  },
  {
   "cell_type": "code",
   "execution_count": 144,
   "id": "e9c20c82",
   "metadata": {},
   "outputs": [],
   "source": [
    "crimes_selecionados_belem.loc[crimes_selecionados_belem.local_ocorrencia == \"CAFE, BAR, RESTAURANTE\",'local_ocorrencia'] =  'CAFE, BAR, RESTAURANTE, ETC'"
   ]
  },
  {
   "cell_type": "code",
   "execution_count": 145,
   "id": "381c3d8f",
   "metadata": {},
   "outputs": [],
   "source": [
    "crimes_selecionados_belem.loc[crimes_selecionados_belem.local_ocorrencia ==\"BAR\",'local_ocorrencia'] =  'CAFE, BAR, RESTAURANTE, ETC'"
   ]
  },
  {
   "cell_type": "code",
   "execution_count": 146,
   "id": "d3a74593",
   "metadata": {},
   "outputs": [],
   "source": [
    "crimes_selecionados_belem.loc[crimes_selecionados_belem.local_ocorrencia ==\"OUTRO\",'local_ocorrencia'] = 'OUTROS LOCAIS'\n"
   ]
  },
  {
   "cell_type": "code",
   "execution_count": 147,
   "id": "7c32eefa",
   "metadata": {},
   "outputs": [],
   "source": [
    "crimes_selecionados_belem.loc[crimes_selecionados_belem.local_ocorrencia == \"OUTROS\",'local_ocorrencia'] = 'OUTROS LOCAIS'"
   ]
  },
  {
   "cell_type": "code",
   "execution_count": 148,
   "id": "272ea3b0",
   "metadata": {},
   "outputs": [],
   "source": [
    "crimes_selecionados_belem.reset_index(drop=True, inplace=True)"
   ]
  },
  {
   "cell_type": "code",
   "execution_count": 149,
   "id": "b4f5d51f",
   "metadata": {},
   "outputs": [
    {
     "name": "stdout",
     "output_type": "stream",
     "text": [
      "Numero unico de local_ocorrencia: 65\n"
     ]
    },
    {
     "data": {
      "text/plain": [
       "array(['VIA PUBLICA', 'HOSPITAL', 'RESIDENCIA PARTICULAR',\n",
       "       'CAFE, BAR, RESTAURANTE, ETC', 'OUTROS LOCAIS',\n",
       "       'LOCAL DE PROSTITUICAO', 'CRECHE', 'INTERNET',\n",
       "       'CONDOMINIO RESIDENCIAL', 'CASA COMERCIAL',\n",
       "       'ESTABELECIMENTO DE ENSINO', 'HABITACAO COLETIVA',\n",
       "       'EDIFICIO PUBLICO', 'HOTEL, PENSAO, ETC', 'CONDOMINIO COMERCIAL',\n",
       "       'ESTABELECIMENTO BANCARIO', 'TRANSPORTE(PUBLICO, URBANO, ETC)',\n",
       "       'PREDIO', 'PENITENCIARIA, REFORMATORIO', 'TERRENO BALDIO',\n",
       "       'LOJA DE CONVENIENCIA', 'OUTROS ESTADOS', 'CAIXA ELETRONICO',\n",
       "       'ESTACAO FERROVIARIA', 'CLINICA', 'MAR, RIO, LAGOA',\n",
       "       'SUPERMERCADO', 'POSTO DE GASOLINA', 'PROPRIEDADE AGROPASTORIL',\n",
       "       'ACADEMIA', 'ESTABELECIMENTO INDUSTRIAL', 'CASA DE SHOW',\n",
       "       'LANCHONETE', 'CASA DE ABRIGO E ASSISTENCIA', 'PARQUE', 'ARENA',\n",
       "       'CARRO FORTE', 'ESTABELECIMENTOS DE SAUDE', 'EMBARCACAO',\n",
       "       'OBRA/CONSTRUCAO CIVIL', 'NAO INFORMADO', 'INSTITUICAO PUBLICA',\n",
       "       'ESTABELECIMENTO COMERCIAL', 'VEICULO', 'ZONA URBANA',\n",
       "       'OUTROS PAISES', 'AREA MILITAR', 'ESTADIO ESPORTIVO',\n",
       "       'INSTITUICAO PRIVADA', 'ESTABELECIMENTO DE DIVERSAO COLETIVA',\n",
       "       'PORTOS / MARINAS / ATRACADOUROS', 'CLUBES E AGREMIACOES',\n",
       "       'AREA RURAL', 'AEROPORTO', 'ZONA PERIURBANA', 'TEMPLOS RELIGIOSOS',\n",
       "       'CONCESSIONARIAS', 'TERMINAL DE ONIBUS', 'INSTITUICAO FINANCEIRA',\n",
       "       'ESTACAO DE METRO', 'PREJUDICADO',\n",
       "       'ESTACAO DE TRATAMENTO DE AGUA E ESGOTOS',\n",
       "       'ESTABELECIMENTO DE SAUDE', 'LIMITES, DIVISAS E FRONTEIRAS',\n",
       "       'PARTIDOS POLITICOS'], dtype=object)"
      ]
     },
     "execution_count": 149,
     "metadata": {},
     "output_type": "execute_result"
    }
   ],
   "source": [
    "novo_local_ocorrencia_unico = crimes_selecionados_belem[\"local_ocorrencia\"].unique()\n",
    "print(\"Numero unico de local_ocorrencia:\", len(novo_local_ocorrencia_unico))\n",
    "novo_local_ocorrencia_unico\n"
   ]
  },
  {
   "cell_type": "markdown",
   "id": "c44800f3",
   "metadata": {},
   "source": [
    "- Grau de relacionamento"
   ]
  },
  {
   "cell_type": "code",
   "execution_count": 150,
   "id": "6e8980bc",
   "metadata": {},
   "outputs": [
    {
     "name": "stdout",
     "output_type": "stream",
     "text": [
      "numero de itens unicos em grau_de_relacionamento: 53\n"
     ]
    },
    {
     "data": {
      "text/plain": [
       "array(['Nao informado', 'COMPANHEIRO(A)', 'NAO INFORMADO',\n",
       "       'EX-COMPANHEIRO(A)', 'VIZINHO(A)', 'PADRASTO', 'AVO', 'AMIGO(A)',\n",
       "       'SOGRO(A)', 'PRIMO(A)', 'PAI', 'TIO(A)', 'NAMORADO(A)', 'IRMAO(A)',\n",
       "       'FILHO(A)', 'MAE', 'GENRO', 'CUNHADO(A)', 'EX-CUNHADO(A)',\n",
       "       'SOBRINHO(A)', 'MADRASTA', 'EX-PADRASTO', 'EX-NAMORADO(A)',\n",
       "       'CONHECIDO(A)', 'PADRINHO', 'EX-NORA', 'EX-PADASTRO', 'NORA',\n",
       "       'PARENTESCO POR AFINIDADE', 'PREJUDICADO', 'PJ, EP E OUTROS',\n",
       "       'ENTEADO(A)', 'EX-MADRASTA', 'EX-GENRO', 'NETO(A)', 'MARIDO',\n",
       "       'BISAVO', 'EX-SOGRO(A)', 'MADRINHA', 'CHEFE',\n",
       "       'PARENTE POR AFINIDADE', 'PROFESSOR(A)', 'PRIMA', 'TIO', 'TIO(A',\n",
       "       'NETO', 'EX-CUNHADA', 'EX-SOGRA', 'EX-SOGRO (A)',\n",
       "       'PAI DO PADRASTO', 'PADASTRO', 'PREJUDICADOQ', 'FILHO'],\n",
       "      dtype=object)"
      ]
     },
     "execution_count": 150,
     "metadata": {},
     "output_type": "execute_result"
    }
   ],
   "source": [
    "grau_de_relac_unico = crimes_selecionados_belem[\"grau_de_relacionamento\"].unique()\n",
    "print(\"numero de itens unicos em grau_de_relacionamento:\", len(grau_de_relac_unico))\n",
    "grau_de_relac_unico"
   ]
  },
  {
   "cell_type": "code",
   "execution_count": 151,
   "id": "4b98bbf8",
   "metadata": {},
   "outputs": [],
   "source": [
    "crimes_selecionados_belem.loc[crimes_selecionados_belem.grau_de_relacionamento == \"Nao informado\",'grau_de_relacionamento'] = 'NAO INFORMADO'"
   ]
  },
  {
   "cell_type": "code",
   "execution_count": 152,
   "id": "8205ef6a",
   "metadata": {},
   "outputs": [],
   "source": [
    "crimes_selecionados_belem.loc[crimes_selecionados_belem.grau_de_relacionamento == \"AVO\",'grau_de_relacionamento'] =  'AVO(A)'"
   ]
  },
  {
   "cell_type": "code",
   "execution_count": 153,
   "id": "2c974dfd",
   "metadata": {},
   "outputs": [],
   "source": [
    "crimes_selecionados_belem.loc[crimes_selecionados_belem.grau_de_relacionamento == \"FILHO\",'grau_de_relacionamento'] =  'FILHO(A)'"
   ]
  },
  {
   "cell_type": "code",
   "execution_count": 154,
   "id": "9428959c",
   "metadata": {},
   "outputs": [],
   "source": [
    "crimes_selecionados_belem.loc[crimes_selecionados_belem.grau_de_relacionamento == \"TIO\",'grau_de_relacionamento'] =  'TIO(A)'"
   ]
  },
  {
   "cell_type": "code",
   "execution_count": 155,
   "id": "7bfb6b44",
   "metadata": {},
   "outputs": [],
   "source": [
    "crimes_selecionados_belem.loc[crimes_selecionados_belem.grau_de_relacionamento ==\"TIO(A\",'grau_de_relacionamento'] =  'TIO(A)'"
   ]
  },
  {
   "cell_type": "code",
   "execution_count": 156,
   "id": "a2ec3efd",
   "metadata": {},
   "outputs": [],
   "source": [
    "crimes_selecionados_belem.loc[crimes_selecionados_belem.grau_de_relacionamento == \"PRIMA\",'grau_de_relacionamento'] =  'PRIMO(A)'"
   ]
  },
  {
   "cell_type": "code",
   "execution_count": 157,
   "id": "b5e284df",
   "metadata": {},
   "outputs": [],
   "source": [
    "crimes_selecionados_belem.loc[crimes_selecionados_belem.grau_de_relacionamento == \"EX-CUNHADA\",'grau_de_relacionamento'] =  'EX-CUNHADO(A)'"
   ]
  },
  {
   "cell_type": "code",
   "execution_count": 158,
   "id": "271857e5",
   "metadata": {},
   "outputs": [],
   "source": [
    "crimes_selecionados_belem.loc[crimes_selecionados_belem.grau_de_relacionamento == \"NETO\",'grau_de_relacionamento'] =  'NETO(A)'"
   ]
  },
  {
   "cell_type": "code",
   "execution_count": 159,
   "id": "4005f312",
   "metadata": {},
   "outputs": [],
   "source": [
    "crimes_selecionados_belem.loc[crimes_selecionados_belem.grau_de_relacionamento == \"EX-PADASTRO\",'grau_de_relacionamento'] =  'EX-PADRASTO'"
   ]
  },
  {
   "cell_type": "code",
   "execution_count": 160,
   "id": "5900ef60",
   "metadata": {},
   "outputs": [],
   "source": [
    "crimes_selecionados_belem.loc[crimes_selecionados_belem.grau_de_relacionamento == \"PADASTRO\",'grau_de_relacionamento'] =  'PADRASTO'"
   ]
  },
  {
   "cell_type": "code",
   "execution_count": 161,
   "id": "fb49f4e0",
   "metadata": {},
   "outputs": [],
   "source": [
    "crimes_selecionados_belem.loc[crimes_selecionados_belem.grau_de_relacionamento == \"PARENTE POR AFINIDADE\",'grau_de_relacionamento'] =  'PARENTESCO POR AFINIDADE'"
   ]
  },
  {
   "cell_type": "code",
   "execution_count": 162,
   "id": "ff658759",
   "metadata": {},
   "outputs": [],
   "source": [
    "crimes_selecionados_belem.loc[crimes_selecionados_belem.grau_de_relacionamento == \"PREJUDICADOQ\",'grau_de_relacionamento'] =  'PREJUDICADO'"
   ]
  },
  {
   "cell_type": "code",
   "execution_count": 163,
   "id": "8775fc98",
   "metadata": {},
   "outputs": [],
   "source": [
    "crimes_selecionados_belem.loc[crimes_selecionados_belem.grau_de_relacionamento ==\"EX-SOGRA\",'grau_de_relacionamento'] =   'EX-SOGRO(A)'"
   ]
  },
  {
   "cell_type": "code",
   "execution_count": 164,
   "id": "bd3cf73b",
   "metadata": {},
   "outputs": [],
   "source": [
    "crimes_selecionados_belem.loc[crimes_selecionados_belem.grau_de_relacionamento == \"EX-SOGRO (A)\",'grau_de_relacionamento'] =   'EX-SOGRO(A)'"
   ]
  },
  {
   "cell_type": "code",
   "execution_count": 165,
   "id": "2f1b2b39",
   "metadata": {},
   "outputs": [
    {
     "data": {
      "text/html": [
       "<div>\n",
       "<style scoped>\n",
       "    .dataframe tbody tr th:only-of-type {\n",
       "        vertical-align: middle;\n",
       "    }\n",
       "\n",
       "    .dataframe tbody tr th {\n",
       "        vertical-align: top;\n",
       "    }\n",
       "\n",
       "    .dataframe thead th {\n",
       "        text-align: right;\n",
       "    }\n",
       "</style>\n",
       "<table border=\"1\" class=\"dataframe\">\n",
       "  <thead>\n",
       "    <tr style=\"text-align: right;\">\n",
       "      <th></th>\n",
       "      <th>unidade_origem</th>\n",
       "      <th>unidade_responsavel</th>\n",
       "      <th>dia_semana</th>\n",
       "      <th>fx_4_hor</th>\n",
       "      <th>mes_fato</th>\n",
       "      <th>ano_fato</th>\n",
       "      <th>data_fato</th>\n",
       "      <th>consolidado</th>\n",
       "      <th>especificacao_crime</th>\n",
       "      <th>causa_presumivel</th>\n",
       "      <th>meio_empregado_sisp</th>\n",
       "      <th>bairros</th>\n",
       "      <th>local_ocorrencia</th>\n",
       "      <th>vit_idade</th>\n",
       "      <th>vit_fx_etaria</th>\n",
       "      <th>vit_sexo</th>\n",
       "      <th>vit_cor_pele</th>\n",
       "      <th>vit_grau_inst</th>\n",
       "      <th>grau_de_relacionamento</th>\n",
       "      <th>relato</th>\n",
       "      <th>aut_sexo</th>\n",
       "    </tr>\n",
       "  </thead>\n",
       "  <tbody>\n",
       "    <tr>\n",
       "      <th>10658</th>\n",
       "      <td>MARAMBAIA - 5ª SECCIONAL - 1ª RISP - 9ª AISP</td>\n",
       "      <td>MARAMBAIA - 5ª SECCIONAL - 1ª RISP - 9ª AISP</td>\n",
       "      <td>QUI</td>\n",
       "      <td>12 |-- 18</td>\n",
       "      <td>NOVEMBRO</td>\n",
       "      <td>2020</td>\n",
       "      <td>2020-11-05</td>\n",
       "      <td>HOMICIDIO CULPOSO</td>\n",
       "      <td>ERRO MEDICO</td>\n",
       "      <td>OUTRAS</td>\n",
       "      <td>OUTROS MEIOS</td>\n",
       "      <td>PARQUE VERDE</td>\n",
       "      <td>HOSPITAL</td>\n",
       "      <td>23.0</td>\n",
       "      <td>ADULTO I (18 A 24 ANOS)</td>\n",
       "      <td>F</td>\n",
       "      <td>PREJUDICADO</td>\n",
       "      <td>ENSINO MEDIO COMPLETO</td>\n",
       "      <td>PJ, EP E OUTROS</td>\n",
       "      <td>&lt;p&gt;A relatora vem a esta seccional comunicar q...</td>\n",
       "      <td>PJ</td>\n",
       "    </tr>\n",
       "    <tr>\n",
       "      <th>19075</th>\n",
       "      <td>Nao informado</td>\n",
       "      <td>Nao informado</td>\n",
       "      <td>TER</td>\n",
       "      <td>06 |-- 12</td>\n",
       "      <td>MARCO</td>\n",
       "      <td>2021</td>\n",
       "      <td>2021-03-23</td>\n",
       "      <td>LESAO CORPORAL</td>\n",
       "      <td>ERRO MEDICO</td>\n",
       "      <td>OUTRAS</td>\n",
       "      <td>SEM INSTRUMENTO</td>\n",
       "      <td>NAZARE</td>\n",
       "      <td>HOSPITAL</td>\n",
       "      <td>25.0</td>\n",
       "      <td>ADULTO II (25 A 29 ANOS)</td>\n",
       "      <td>F</td>\n",
       "      <td>PREJUDICADO</td>\n",
       "      <td>ENSINO MEDIO COMPLETO</td>\n",
       "      <td>PJ, EP E OUTROS</td>\n",
       "      <td>&lt;P&gt;A CIDADA ACIMA IDENTIFICADA COMUNICA NESTA ...</td>\n",
       "      <td>PJ</td>\n",
       "    </tr>\n",
       "    <tr>\n",
       "      <th>27978</th>\n",
       "      <td>Nao informado</td>\n",
       "      <td>Nao informado</td>\n",
       "      <td>QUA</td>\n",
       "      <td>00 |-- 06</td>\n",
       "      <td>FEVEREIRO</td>\n",
       "      <td>2021</td>\n",
       "      <td>2021-02-03</td>\n",
       "      <td>LESAO CORPORAL</td>\n",
       "      <td>NEGLIGENCIA MEDICA</td>\n",
       "      <td>OUTRAS</td>\n",
       "      <td>OUTROS MEIOS</td>\n",
       "      <td>UMARIZAL</td>\n",
       "      <td>HOSPITAL</td>\n",
       "      <td>32.0</td>\n",
       "      <td>ADULTO III (30 A 34 ANOS)</td>\n",
       "      <td>F</td>\n",
       "      <td>PARDA</td>\n",
       "      <td>ENSINO SUPERIOR COMPLETO</td>\n",
       "      <td>PJ, EP E OUTROS</td>\n",
       "      <td>&lt;P&gt;A CIDADA ACIMA QUALIFICADA COMPARECEU NESTA...</td>\n",
       "      <td>PJ</td>\n",
       "    </tr>\n",
       "  </tbody>\n",
       "</table>\n",
       "</div>"
      ],
      "text/plain": [
       "                                     unidade_origem  \\\n",
       "10658  MARAMBAIA - 5ª SECCIONAL - 1ª RISP - 9ª AISP   \n",
       "19075                                 Nao informado   \n",
       "27978                                 Nao informado   \n",
       "\n",
       "                                unidade_responsavel dia_semana   fx_4_hor  \\\n",
       "10658  MARAMBAIA - 5ª SECCIONAL - 1ª RISP - 9ª AISP        QUI  12 |-- 18   \n",
       "19075                                 Nao informado        TER  06 |-- 12   \n",
       "27978                                 Nao informado        QUA  00 |-- 06   \n",
       "\n",
       "        mes_fato  ano_fato   data_fato        consolidado especificacao_crime  \\\n",
       "10658   NOVEMBRO      2020  2020-11-05  HOMICIDIO CULPOSO         ERRO MEDICO   \n",
       "19075      MARCO      2021  2021-03-23     LESAO CORPORAL         ERRO MEDICO   \n",
       "27978  FEVEREIRO      2021  2021-02-03     LESAO CORPORAL  NEGLIGENCIA MEDICA   \n",
       "\n",
       "      causa_presumivel meio_empregado_sisp       bairros local_ocorrencia  \\\n",
       "10658           OUTRAS        OUTROS MEIOS  PARQUE VERDE         HOSPITAL   \n",
       "19075           OUTRAS     SEM INSTRUMENTO        NAZARE         HOSPITAL   \n",
       "27978           OUTRAS        OUTROS MEIOS      UMARIZAL         HOSPITAL   \n",
       "\n",
       "      vit_idade              vit_fx_etaria vit_sexo vit_cor_pele  \\\n",
       "10658      23.0    ADULTO I (18 A 24 ANOS)        F  PREJUDICADO   \n",
       "19075      25.0   ADULTO II (25 A 29 ANOS)        F  PREJUDICADO   \n",
       "27978      32.0  ADULTO III (30 A 34 ANOS)        F        PARDA   \n",
       "\n",
       "                  vit_grau_inst grau_de_relacionamento  \\\n",
       "10658     ENSINO MEDIO COMPLETO        PJ, EP E OUTROS   \n",
       "19075     ENSINO MEDIO COMPLETO        PJ, EP E OUTROS   \n",
       "27978  ENSINO SUPERIOR COMPLETO        PJ, EP E OUTROS   \n",
       "\n",
       "                                                  relato aut_sexo  \n",
       "10658  <p>A relatora vem a esta seccional comunicar q...       PJ  \n",
       "19075  <P>A CIDADA ACIMA IDENTIFICADA COMUNICA NESTA ...       PJ  \n",
       "27978  <P>A CIDADA ACIMA QUALIFICADA COMPARECEU NESTA...       PJ  "
      ]
     },
     "execution_count": 165,
     "metadata": {},
     "output_type": "execute_result"
    }
   ],
   "source": [
    "crimes_selecionados_belem.loc[crimes_selecionados_belem['grau_de_relacionamento']=='PJ, EP E OUTROS']"
   ]
  },
  {
   "cell_type": "markdown",
   "id": "b1c10128",
   "metadata": {},
   "source": [
    "As linhas em que a coluna \"grau_de_relacionamento\" está preenchida com o valor \"PJ, EP, OUTROS\" serão removidas, dado que tal condição não possui impacto significativo na análise."
   ]
  },
  {
   "cell_type": "code",
   "execution_count": 166,
   "id": "1f85bef1",
   "metadata": {},
   "outputs": [],
   "source": [
    "crimes_selecionados_belem.drop(crimes_selecionados_belem.loc[crimes_selecionados_belem['grau_de_relacionamento']=='PJ, EP E OUTROS'].index, inplace=True)\n",
    "crimes_selecionados_belem.reset_index(drop=True, inplace=True)"
   ]
  },
  {
   "cell_type": "markdown",
   "id": "4d3d9e7b",
   "metadata": {},
   "source": [
    "Verificando inconsistencias na coluna do autor do crime de acordo com o grau de relacionamento que é \"PAI\""
   ]
  },
  {
   "cell_type": "code",
   "execution_count": 167,
   "id": "97eeb498",
   "metadata": {},
   "outputs": [
    {
     "data": {
      "text/html": [
       "<div>\n",
       "<style scoped>\n",
       "    .dataframe tbody tr th:only-of-type {\n",
       "        vertical-align: middle;\n",
       "    }\n",
       "\n",
       "    .dataframe tbody tr th {\n",
       "        vertical-align: top;\n",
       "    }\n",
       "\n",
       "    .dataframe thead th {\n",
       "        text-align: right;\n",
       "    }\n",
       "</style>\n",
       "<table border=\"1\" class=\"dataframe\">\n",
       "  <thead>\n",
       "    <tr style=\"text-align: right;\">\n",
       "      <th></th>\n",
       "      <th>unidade_origem</th>\n",
       "      <th>unidade_responsavel</th>\n",
       "      <th>dia_semana</th>\n",
       "      <th>fx_4_hor</th>\n",
       "      <th>mes_fato</th>\n",
       "      <th>ano_fato</th>\n",
       "      <th>data_fato</th>\n",
       "      <th>consolidado</th>\n",
       "      <th>especificacao_crime</th>\n",
       "      <th>causa_presumivel</th>\n",
       "      <th>meio_empregado_sisp</th>\n",
       "      <th>bairros</th>\n",
       "      <th>local_ocorrencia</th>\n",
       "      <th>vit_idade</th>\n",
       "      <th>vit_fx_etaria</th>\n",
       "      <th>vit_sexo</th>\n",
       "      <th>vit_cor_pele</th>\n",
       "      <th>vit_grau_inst</th>\n",
       "      <th>grau_de_relacionamento</th>\n",
       "      <th>relato</th>\n",
       "      <th>aut_sexo</th>\n",
       "    </tr>\n",
       "  </thead>\n",
       "  <tbody>\n",
       "    <tr>\n",
       "      <th>17187</th>\n",
       "      <td>DELEGACIA DE PROTECAO A CRIANCA E ADOLESCENTE ...</td>\n",
       "      <td>DELEGACIA DE PROTECAO A CRIANCA E ADOLESCENTE ...</td>\n",
       "      <td>SEG</td>\n",
       "      <td>12 |-- 18</td>\n",
       "      <td>OUTUBRO</td>\n",
       "      <td>2020</td>\n",
       "      <td>2020-10-12</td>\n",
       "      <td>LESAO CORPORAL</td>\n",
       "      <td>VIOLENCIA DOMESTICA</td>\n",
       "      <td>IMPERICIA / IMPRUDENCIA / NEGLIGENCIA</td>\n",
       "      <td>SEM INSTRUMENTO</td>\n",
       "      <td>PEDREIRA</td>\n",
       "      <td>RESIDENCIA PARTICULAR</td>\n",
       "      <td>12.0</td>\n",
       "      <td>ADOLESCENTE (12 A 17 ANOS)</td>\n",
       "      <td>F</td>\n",
       "      <td>PARDA</td>\n",
       "      <td>NAO INFORMADO</td>\n",
       "      <td>PAI</td>\n",
       "      <td>&lt;p&gt;O relator em epígrafe é tio paterno da adol...</td>\n",
       "      <td>F</td>\n",
       "    </tr>\n",
       "    <tr>\n",
       "      <th>28235</th>\n",
       "      <td>Nao informado</td>\n",
       "      <td>Nao informado</td>\n",
       "      <td>QUA</td>\n",
       "      <td>06 |-- 12</td>\n",
       "      <td>MAIO</td>\n",
       "      <td>2022</td>\n",
       "      <td>2022-05-18</td>\n",
       "      <td>ESTUPRO DE VULNERAVEL</td>\n",
       "      <td>MENOR/VIOLENCIA DOMESTICA</td>\n",
       "      <td>OUTRAS</td>\n",
       "      <td>OUTROS MEIOS</td>\n",
       "      <td>COQUEIRO BELEM</td>\n",
       "      <td>RESIDENCIA PARTICULAR</td>\n",
       "      <td>7.0</td>\n",
       "      <td>CRIANCA (0 A 11 ANOS)</td>\n",
       "      <td>F</td>\n",
       "      <td>PREJUDICADO</td>\n",
       "      <td>PREJUDICADO</td>\n",
       "      <td>PAI</td>\n",
       "      <td>&lt;P&gt;A RELATORA ACIMA QUALIFICADA NA QUALIDADE D...</td>\n",
       "      <td>F</td>\n",
       "    </tr>\n",
       "  </tbody>\n",
       "</table>\n",
       "</div>"
      ],
      "text/plain": [
       "                                          unidade_origem  \\\n",
       "17187  DELEGACIA DE PROTECAO A CRIANCA E ADOLESCENTE ...   \n",
       "28235                                      Nao informado   \n",
       "\n",
       "                                     unidade_responsavel dia_semana  \\\n",
       "17187  DELEGACIA DE PROTECAO A CRIANCA E ADOLESCENTE ...        SEG   \n",
       "28235                                      Nao informado        QUA   \n",
       "\n",
       "        fx_4_hor mes_fato  ano_fato   data_fato            consolidado  \\\n",
       "17187  12 |-- 18  OUTUBRO      2020  2020-10-12         LESAO CORPORAL   \n",
       "28235  06 |-- 12     MAIO      2022  2022-05-18  ESTUPRO DE VULNERAVEL   \n",
       "\n",
       "             especificacao_crime                       causa_presumivel  \\\n",
       "17187        VIOLENCIA DOMESTICA  IMPERICIA / IMPRUDENCIA / NEGLIGENCIA   \n",
       "28235  MENOR/VIOLENCIA DOMESTICA                                 OUTRAS   \n",
       "\n",
       "      meio_empregado_sisp         bairros       local_ocorrencia vit_idade  \\\n",
       "17187     SEM INSTRUMENTO        PEDREIRA  RESIDENCIA PARTICULAR      12.0   \n",
       "28235        OUTROS MEIOS  COQUEIRO BELEM  RESIDENCIA PARTICULAR       7.0   \n",
       "\n",
       "                    vit_fx_etaria vit_sexo vit_cor_pele  vit_grau_inst  \\\n",
       "17187  ADOLESCENTE (12 A 17 ANOS)        F        PARDA  NAO INFORMADO   \n",
       "28235       CRIANCA (0 A 11 ANOS)        F  PREJUDICADO    PREJUDICADO   \n",
       "\n",
       "      grau_de_relacionamento  \\\n",
       "17187                    PAI   \n",
       "28235                    PAI   \n",
       "\n",
       "                                                  relato aut_sexo  \n",
       "17187  <p>O relator em epígrafe é tio paterno da adol...        F  \n",
       "28235  <P>A RELATORA ACIMA QUALIFICADA NA QUALIDADE D...        F  "
      ]
     },
     "execution_count": 167,
     "metadata": {},
     "output_type": "execute_result"
    }
   ],
   "source": [
    "df_filtrado = crimes_selecionados_belem[(crimes_selecionados_belem['grau_de_relacionamento'] == 'PAI') & (crimes_selecionados_belem['aut_sexo'] == 'F')]\n",
    "df_filtrado"
   ]
  },
  {
   "cell_type": "markdown",
   "id": "906f2b40",
   "metadata": {},
   "source": [
    "Para tratar esta incosistencia entre o sexo do autor e parentesco atribuido iremos verificar o relato da pessoa que realizou a denuncia"
   ]
  },
  {
   "cell_type": "code",
   "execution_count": 168,
   "id": "873154b0",
   "metadata": {},
   "outputs": [
    {
     "name": "stdout",
     "output_type": "stream",
     "text": [
      "<p>O relator em epígrafe é tio paterno da adolescente <b>TAIS&nbsp;DA CONCEIÇÃO SANTANA</b>, 12 anos que teria sido agredida fisicamente pelo genitor TIAGO DE OLIVEIRA SANTANA e pela madrasta ALIRIA REIS ARAUJO; QUE há aproximadamente três meses os fatos vêm ocorrendo, na casa onde a adoelscente mora, pois apesar de TIAGO e ALIRIA não residirem no msmso local, têm livre acesso e sempre vão lá, e agridem a adolescente; QUE na data de ontem, TAIS ligou para o declarante pedindo ajuda, pois TIAGO tinha batido muito nela, e quando chegou, ela lhe relatou que \"TIAGO bateu em seu peito, esfregou a mão na cara dela, dizendo que ia matar ela, tentou enforcá-la, sendo que a mesma está com marcas no pulso e com dores nos pescoço\" (textuais); QUE além de TIAGO, ALIRIA também agride a adolescente e costuma puxar o cabelo e arranhar TAIS; QUE foi encaminhada para EXAME DE LESÃO COPORAL; QUE&nbsp;esclarece que quem tem a guarda de TAIS é a genitora dela, que nunca cuidou, sendo que quem criou TAIS&nbsp;foram os avós paternos, porém se compromete a ir na data de hoje ao&nbsp;Conselho a fim de ter o Termo de Responsabilidade de TAIS. Registra-se para os devidos fins.///</p>\n",
      "<P>A RELATORA ACIMA QUALIFICADA NA QUALIDADE DE AVO PATERA DA CRIANCA <B>MARIA EDUARDA LAMARAO DE SOUZA, NASCIDA EM 18/11/2014 COM 07 ANOS DE IDADE</B>, COMPARECEU NESTA ESPECIALIZADA COM A QUEIXA, QUE; SUSPEITA QUE MARIA TENHA SIDO VITIMA DE VIOLENCIA SEXUAL PERPETRADO POR <B>EDER BRUNO DE SOUZA FREITAS, GENITOR DA CRIANCA</B>. O FATO OCORRE NA RESIDENCIA DA RELATORA NO CONJUNTO MAGUARI, ALAMEDA 24, CASA 62 B, NO BAIRRO DO COQUEIRO EM BELEM. A CRIANCA PASSOU POR ESCUTA ESPECIALIZADA NO SETOR SOCIAL DO CPC. NADA MAIS DISSE. ENCAMINHA-SE A CRIANCA PARA EXAME SEXOLOGICO FORENSE E DEMAIS ACOMPANHAMENTOS NECESSARIOS. REGISTRA-SE./////</P><P><BR></P>\n"
     ]
    }
   ],
   "source": [
    "texto_lista = df_filtrado['relato'].to_list()\n",
    "for texto in texto_lista:\n",
    "    print(texto)"
   ]
  },
  {
   "cell_type": "markdown",
   "id": "ffdc6e38",
   "metadata": {},
   "source": [
    "Nos dois relatos e possivel observar que se trata de um autor do sexo masculino, logo a alteração na coluna \"aut_sexo\" se faz necessaria."
   ]
  },
  {
   "cell_type": "code",
   "execution_count": 169,
   "id": "52f3da1c",
   "metadata": {},
   "outputs": [],
   "source": [
    "crimes_selecionados_belem.loc[(crimes_selecionados_belem['grau_de_relacionamento'] == 'PAI') & (crimes_selecionados_belem['aut_sexo'] == 'F'), 'aut_sexo'] = 'M'"
   ]
  },
  {
   "cell_type": "code",
   "execution_count": 170,
   "id": "32c44cca",
   "metadata": {},
   "outputs": [],
   "source": [
    "crimes_selecionados_belem.reset_index(drop=True, inplace=True)"
   ]
  },
  {
   "cell_type": "code",
   "execution_count": 171,
   "id": "5393487a",
   "metadata": {},
   "outputs": [
    {
     "name": "stdout",
     "output_type": "stream",
     "text": [
      "numero de itens unicos em grau_de_relacionamento: 39\n"
     ]
    },
    {
     "data": {
      "text/plain": [
       "array(['NAO INFORMADO', 'COMPANHEIRO(A)', 'EX-COMPANHEIRO(A)',\n",
       "       'VIZINHO(A)', 'PADRASTO', 'AVO(A)', 'AMIGO(A)', 'SOGRO(A)',\n",
       "       'PRIMO(A)', 'PAI', 'TIO(A)', 'NAMORADO(A)', 'IRMAO(A)', 'FILHO(A)',\n",
       "       'MAE', 'GENRO', 'CUNHADO(A)', 'EX-CUNHADO(A)', 'SOBRINHO(A)',\n",
       "       'MADRASTA', 'EX-PADRASTO', 'EX-NAMORADO(A)', 'CONHECIDO(A)',\n",
       "       'PADRINHO', 'EX-NORA', 'NORA', 'PARENTESCO POR AFINIDADE',\n",
       "       'PREJUDICADO', 'ENTEADO(A)', 'EX-MADRASTA', 'EX-GENRO', 'NETO(A)',\n",
       "       'MARIDO', 'BISAVO', 'EX-SOGRO(A)', 'MADRINHA', 'CHEFE',\n",
       "       'PROFESSOR(A)', 'PAI DO PADRASTO'], dtype=object)"
      ]
     },
     "execution_count": 171,
     "metadata": {},
     "output_type": "execute_result"
    }
   ],
   "source": [
    "novo_grau_de_relac_unico = crimes_selecionados_belem[\"grau_de_relacionamento\"].unique()\n",
    "print(\"numero de itens unicos em grau_de_relacionamento:\", len(novo_grau_de_relac_unico))\n",
    "novo_grau_de_relac_unico"
   ]
  },
  {
   "cell_type": "markdown",
   "id": "43e3317a",
   "metadata": {},
   "source": [
    "- vit_fx_etaria\t"
   ]
  },
  {
   "cell_type": "code",
   "execution_count": 172,
   "id": "8d85208b",
   "metadata": {},
   "outputs": [
    {
     "name": "stdout",
     "output_type": "stream",
     "text": [
      "numero de itens unicos em vit_fx_etaria: 11\n"
     ]
    },
    {
     "data": {
      "text/plain": [
       "vit_fx_etaria\n",
       "ADULTO IV (35 A 64 ANOS)      22265\n",
       "ADULTO I (18 A 24 ANOS)        7290\n",
       "ADULTO III (30 A 34 ANOS)      6700\n",
       "ADULTO II (25 A 29 ANOS)       6615\n",
       "ADOLESCENTE (12 A 17 ANOS)     1649\n",
       "IDOSO (65 ANOS OU MAIS)        1412\n",
       "CRIANCA (0 A 11 ANOS)          1193\n",
       "PREJUDICADO                     409\n",
       "NAO INFORMADO                   104\n",
       "PJ, EP E OUTROS                  12\n",
       "Name: count, dtype: int64"
      ]
     },
     "execution_count": 172,
     "metadata": {},
     "output_type": "execute_result"
    }
   ],
   "source": [
    "vit_fx_etaria_unico = crimes_selecionados_belem[\"vit_fx_etaria\"].unique()\n",
    "print(\"numero de itens unicos em vit_fx_etaria:\", len(vit_fx_etaria_unico))\n",
    "crimes_df.vit_fx_etaria.value_counts()"
   ]
  },
  {
   "cell_type": "code",
   "execution_count": 173,
   "id": "e14f7712",
   "metadata": {},
   "outputs": [
    {
     "data": {
      "text/html": [
       "<div>\n",
       "<style scoped>\n",
       "    .dataframe tbody tr th:only-of-type {\n",
       "        vertical-align: middle;\n",
       "    }\n",
       "\n",
       "    .dataframe tbody tr th {\n",
       "        vertical-align: top;\n",
       "    }\n",
       "\n",
       "    .dataframe thead th {\n",
       "        text-align: right;\n",
       "    }\n",
       "</style>\n",
       "<table border=\"1\" class=\"dataframe\">\n",
       "  <thead>\n",
       "    <tr style=\"text-align: right;\">\n",
       "      <th></th>\n",
       "      <th>unidade_origem</th>\n",
       "      <th>unidade_responsavel</th>\n",
       "      <th>dia_semana</th>\n",
       "      <th>fx_4_hor</th>\n",
       "      <th>mes_fato</th>\n",
       "      <th>ano_fato</th>\n",
       "      <th>data_fato</th>\n",
       "      <th>consolidado</th>\n",
       "      <th>especificacao_crime</th>\n",
       "      <th>causa_presumivel</th>\n",
       "      <th>meio_empregado_sisp</th>\n",
       "      <th>bairros</th>\n",
       "      <th>local_ocorrencia</th>\n",
       "      <th>vit_idade</th>\n",
       "      <th>vit_fx_etaria</th>\n",
       "      <th>vit_sexo</th>\n",
       "      <th>vit_cor_pele</th>\n",
       "      <th>vit_grau_inst</th>\n",
       "      <th>grau_de_relacionamento</th>\n",
       "      <th>relato</th>\n",
       "      <th>aut_sexo</th>\n",
       "    </tr>\n",
       "  </thead>\n",
       "  <tbody>\n",
       "    <tr>\n",
       "      <th>18355</th>\n",
       "      <td>DEAM - DEL.VIRTUAL DA MULHER 294-1º RISP- 8ª AISP</td>\n",
       "      <td>DEAM - DEL.VIRTUAL DA MULHER 294-1º RISP- 8ª AISP</td>\n",
       "      <td>SEG</td>\n",
       "      <td>12 |-- 18</td>\n",
       "      <td>DEZEMBRO</td>\n",
       "      <td>2020</td>\n",
       "      <td>2020-12-21</td>\n",
       "      <td>AMEACA</td>\n",
       "      <td>Nao informado</td>\n",
       "      <td>OUTRAS</td>\n",
       "      <td>OUTROS MEIOS</td>\n",
       "      <td>TAPANA</td>\n",
       "      <td>OUTROS LOCAIS</td>\n",
       "      <td>88888.0</td>\n",
       "      <td>PJ, EP E OUTROS</td>\n",
       "      <td>F</td>\n",
       "      <td>PREJUDICADO</td>\n",
       "      <td>NAO INFORMADO</td>\n",
       "      <td>NAO INFORMADO</td>\n",
       "      <td>O RELATOR ACIMA QUALIFICADO COMUNICA, ATRAVÉS ...</td>\n",
       "      <td>Nao informado</td>\n",
       "    </tr>\n",
       "    <tr>\n",
       "      <th>31625</th>\n",
       "      <td>Nao informado</td>\n",
       "      <td>Nao informado</td>\n",
       "      <td>SEX</td>\n",
       "      <td>18 |-- 24</td>\n",
       "      <td>AGOSTO</td>\n",
       "      <td>2022</td>\n",
       "      <td>2022-08-26</td>\n",
       "      <td>AMEACA</td>\n",
       "      <td>Nao informado</td>\n",
       "      <td>OUTRAS</td>\n",
       "      <td>OUTROS MEIOS</td>\n",
       "      <td>BATISTA CAMPOS</td>\n",
       "      <td>INTERNET</td>\n",
       "      <td>88888.0</td>\n",
       "      <td>PJ, EP E OUTROS</td>\n",
       "      <td>F</td>\n",
       "      <td>PREJUDICADO</td>\n",
       "      <td>ENSINO SUPERIOR INCOMPLETO</td>\n",
       "      <td>NAO INFORMADO</td>\n",
       "      <td>&lt;P&gt;O RELATOR ACIMA QUALIFICADO COMUNICA, ATRAV...</td>\n",
       "      <td>P</td>\n",
       "    </tr>\n",
       "    <tr>\n",
       "      <th>31626</th>\n",
       "      <td>Nao informado</td>\n",
       "      <td>Nao informado</td>\n",
       "      <td>DOM</td>\n",
       "      <td>12 |-- 18</td>\n",
       "      <td>AGOSTO</td>\n",
       "      <td>2022</td>\n",
       "      <td>2022-08-14</td>\n",
       "      <td>AMEACA</td>\n",
       "      <td>Nao informado</td>\n",
       "      <td>ODIO OU VINGANCA</td>\n",
       "      <td>OUTROS MEIOS</td>\n",
       "      <td>COQUEIRO BELEM</td>\n",
       "      <td>CONDOMINIO RESIDENCIAL</td>\n",
       "      <td>88888.0</td>\n",
       "      <td>PJ, EP E OUTROS</td>\n",
       "      <td>F</td>\n",
       "      <td>PREJUDICADO</td>\n",
       "      <td>ENSINO SUPERIOR COMPLETO</td>\n",
       "      <td>NAO INFORMADO</td>\n",
       "      <td>&lt;P&gt;A RELATORA ACIMA QUALIFICADA COMPARECEU A E...</td>\n",
       "      <td>P</td>\n",
       "    </tr>\n",
       "    <tr>\n",
       "      <th>31627</th>\n",
       "      <td>Nao informado</td>\n",
       "      <td>Nao informado</td>\n",
       "      <td>DOM</td>\n",
       "      <td>18 |-- 24</td>\n",
       "      <td>AGOSTO</td>\n",
       "      <td>2022</td>\n",
       "      <td>2022-08-28</td>\n",
       "      <td>AMEACA</td>\n",
       "      <td>Nao informado</td>\n",
       "      <td>AMBICAO</td>\n",
       "      <td>OUTROS MEIOS</td>\n",
       "      <td>COQUEIRO BELEM</td>\n",
       "      <td>RESIDENCIA PARTICULAR</td>\n",
       "      <td>88888.0</td>\n",
       "      <td>PJ, EP E OUTROS</td>\n",
       "      <td>F</td>\n",
       "      <td>PREJUDICADO</td>\n",
       "      <td>ENSINO MEDIO COMPLETO</td>\n",
       "      <td>NAO INFORMADO</td>\n",
       "      <td>&lt;P&gt;A DEPOENTE COMPARECE NESTA DIRETORIA PARA C...</td>\n",
       "      <td>P</td>\n",
       "    </tr>\n",
       "    <tr>\n",
       "      <th>31628</th>\n",
       "      <td>Nao informado</td>\n",
       "      <td>Nao informado</td>\n",
       "      <td>SAB</td>\n",
       "      <td>12 |-- 18</td>\n",
       "      <td>AGOSTO</td>\n",
       "      <td>2022</td>\n",
       "      <td>2022-08-27</td>\n",
       "      <td>AMEACA</td>\n",
       "      <td>Nao informado</td>\n",
       "      <td>OUTRAS</td>\n",
       "      <td>OUTROS MEIOS</td>\n",
       "      <td>GUAMA</td>\n",
       "      <td>RESIDENCIA PARTICULAR</td>\n",
       "      <td>88888.0</td>\n",
       "      <td>PJ, EP E OUTROS</td>\n",
       "      <td>F</td>\n",
       "      <td>PREJUDICADO</td>\n",
       "      <td>ENSINO MEDIO INCOMPLETO</td>\n",
       "      <td>NAO INFORMADO</td>\n",
       "      <td>&lt;P&gt;A RELATORA CLAUDIANE GOMES FERREIRA COMUNIC...</td>\n",
       "      <td>P</td>\n",
       "    </tr>\n",
       "    <tr>\n",
       "      <th>31629</th>\n",
       "      <td>Nao informado</td>\n",
       "      <td>Nao informado</td>\n",
       "      <td>DOM</td>\n",
       "      <td>06 |-- 12</td>\n",
       "      <td>AGOSTO</td>\n",
       "      <td>2022</td>\n",
       "      <td>2022-08-28</td>\n",
       "      <td>AMEACA</td>\n",
       "      <td>Nao informado</td>\n",
       "      <td>OUTRAS</td>\n",
       "      <td>OUTROS MEIOS</td>\n",
       "      <td>TAPANA</td>\n",
       "      <td>RESIDENCIA PARTICULAR</td>\n",
       "      <td>88888.0</td>\n",
       "      <td>PJ, EP E OUTROS</td>\n",
       "      <td>F</td>\n",
       "      <td>PREJUDICADO</td>\n",
       "      <td>ENSINO FUNDAMENTAL COMPLETO</td>\n",
       "      <td>NAO INFORMADO</td>\n",
       "      <td>&lt;P&gt;A RELATORA ACIMA QUALIFICADA, COMPARECEU NE...</td>\n",
       "      <td>P</td>\n",
       "    </tr>\n",
       "    <tr>\n",
       "      <th>31630</th>\n",
       "      <td>Nao informado</td>\n",
       "      <td>Nao informado</td>\n",
       "      <td>DOM</td>\n",
       "      <td>18 |-- 24</td>\n",
       "      <td>AGOSTO</td>\n",
       "      <td>2022</td>\n",
       "      <td>2022-08-28</td>\n",
       "      <td>AMEACA</td>\n",
       "      <td>PREJUDICADO</td>\n",
       "      <td>OUTRAS</td>\n",
       "      <td>OUTROS MEIOS</td>\n",
       "      <td>CASTANHEIRA</td>\n",
       "      <td>RESIDENCIA PARTICULAR</td>\n",
       "      <td>88888.0</td>\n",
       "      <td>PJ, EP E OUTROS</td>\n",
       "      <td>F</td>\n",
       "      <td>PREJUDICADO</td>\n",
       "      <td>ENSINO MEDIO COMPLETO</td>\n",
       "      <td>NAO INFORMADO</td>\n",
       "      <td>&lt;P&gt;&lt;I&gt;A SENHORA ACIMA QUALIFICADA COMPARECEU N...</td>\n",
       "      <td>F</td>\n",
       "    </tr>\n",
       "    <tr>\n",
       "      <th>33428</th>\n",
       "      <td>Nao informado</td>\n",
       "      <td>Nao informado</td>\n",
       "      <td>DOM</td>\n",
       "      <td>06 |-- 12</td>\n",
       "      <td>AGOSTO</td>\n",
       "      <td>2022</td>\n",
       "      <td>2022-08-28</td>\n",
       "      <td>LESAO CORPORAL</td>\n",
       "      <td>PREJUDICADO</td>\n",
       "      <td>OUTRAS</td>\n",
       "      <td>OUTROS MEIOS</td>\n",
       "      <td>COQUEIRO BELEM</td>\n",
       "      <td>VIA PUBLICA</td>\n",
       "      <td>88888.0</td>\n",
       "      <td>PJ, EP E OUTROS</td>\n",
       "      <td>F</td>\n",
       "      <td>PREJUDICADO</td>\n",
       "      <td>ENSINO MEDIO COMPLETO</td>\n",
       "      <td>PREJUDICADO</td>\n",
       "      <td>&lt;P&gt;O RELATOR ACIMA QUALIFICADO COMUNICA, ATRAV...</td>\n",
       "      <td>F</td>\n",
       "    </tr>\n",
       "    <tr>\n",
       "      <th>33429</th>\n",
       "      <td>Nao informado</td>\n",
       "      <td>Nao informado</td>\n",
       "      <td>TER</td>\n",
       "      <td>18 |-- 24</td>\n",
       "      <td>AGOSTO</td>\n",
       "      <td>2022</td>\n",
       "      <td>2022-08-16</td>\n",
       "      <td>AMEACA</td>\n",
       "      <td>Nao informado</td>\n",
       "      <td>OUTRAS</td>\n",
       "      <td>OUTROS MEIOS</td>\n",
       "      <td>REDUTO</td>\n",
       "      <td>CAFE, BAR, RESTAURANTE, ETC</td>\n",
       "      <td>88888.0</td>\n",
       "      <td>PJ, EP E OUTROS</td>\n",
       "      <td>F</td>\n",
       "      <td>PREJUDICADO</td>\n",
       "      <td>ENSINO SUPERIOR INCOMPLETO</td>\n",
       "      <td>NAO INFORMADO</td>\n",
       "      <td>&lt;P&gt;O RELATOR ACIMA QUALIFICADO COMUNICA, ATRAV...</td>\n",
       "      <td>P</td>\n",
       "    </tr>\n",
       "    <tr>\n",
       "      <th>33430</th>\n",
       "      <td>Nao informado</td>\n",
       "      <td>Nao informado</td>\n",
       "      <td>DOM</td>\n",
       "      <td>18 |-- 24</td>\n",
       "      <td>AGOSTO</td>\n",
       "      <td>2022</td>\n",
       "      <td>2022-08-28</td>\n",
       "      <td>AMEACA</td>\n",
       "      <td>Nao informado</td>\n",
       "      <td>ALCOOLISMO / EMBRIAGUEZ</td>\n",
       "      <td>SEM INSTRUMENTO</td>\n",
       "      <td>COQUEIRO BELEM</td>\n",
       "      <td>VIA PUBLICA</td>\n",
       "      <td>88888.0</td>\n",
       "      <td>PJ, EP E OUTROS</td>\n",
       "      <td>F</td>\n",
       "      <td>PREJUDICADO</td>\n",
       "      <td>ENSINO SUPERIOR INCOMPLETO</td>\n",
       "      <td>NAO INFORMADO</td>\n",
       "      <td>&lt;P&gt;A RELATORA ACIMA IDENTIFICADA COMUNICA NEST...</td>\n",
       "      <td>P</td>\n",
       "    </tr>\n",
       "    <tr>\n",
       "      <th>33431</th>\n",
       "      <td>Nao informado</td>\n",
       "      <td>Nao informado</td>\n",
       "      <td>DOM</td>\n",
       "      <td>18 |-- 24</td>\n",
       "      <td>AGOSTO</td>\n",
       "      <td>2022</td>\n",
       "      <td>2022-08-07</td>\n",
       "      <td>AMEACA</td>\n",
       "      <td>VIOLENCIA DOMESTICA</td>\n",
       "      <td>ODIO OU VINGANCA</td>\n",
       "      <td>OUTROS MEIOS</td>\n",
       "      <td>JURUNAS</td>\n",
       "      <td>RESIDENCIA PARTICULAR</td>\n",
       "      <td>88888.0</td>\n",
       "      <td>PJ, EP E OUTROS</td>\n",
       "      <td>F</td>\n",
       "      <td>PREJUDICADO</td>\n",
       "      <td>ENSINO MEDIO COMPLETO</td>\n",
       "      <td>IRMAO(A)</td>\n",
       "      <td>&lt;P&gt;////A RELATORA KATIA CILENE LOBATO RIBEIRO ...</td>\n",
       "      <td>M</td>\n",
       "    </tr>\n",
       "    <tr>\n",
       "      <th>36365</th>\n",
       "      <td>Nao informado</td>\n",
       "      <td>Nao informado</td>\n",
       "      <td>DOM</td>\n",
       "      <td>18 |-- 24</td>\n",
       "      <td>AGOSTO</td>\n",
       "      <td>2022</td>\n",
       "      <td>2022-08-28</td>\n",
       "      <td>AMEACA</td>\n",
       "      <td>Nao informado</td>\n",
       "      <td>OUTRAS</td>\n",
       "      <td>OUTROS MEIOS</td>\n",
       "      <td>COQUEIRO BELEM</td>\n",
       "      <td>RESIDENCIA PARTICULAR</td>\n",
       "      <td>88888.0</td>\n",
       "      <td>PJ, EP E OUTROS</td>\n",
       "      <td>F</td>\n",
       "      <td>PREJUDICADO</td>\n",
       "      <td>ENSINO MEDIO INCOMPLETO</td>\n",
       "      <td>NAO INFORMADO</td>\n",
       "      <td>&lt;P&gt;A RELATORA VEM ATE ESTA DELEGACIA DE POLICI...</td>\n",
       "      <td>P</td>\n",
       "    </tr>\n",
       "  </tbody>\n",
       "</table>\n",
       "</div>"
      ],
      "text/plain": [
       "                                          unidade_origem  \\\n",
       "18355  DEAM - DEL.VIRTUAL DA MULHER 294-1º RISP- 8ª AISP   \n",
       "31625                                      Nao informado   \n",
       "31626                                      Nao informado   \n",
       "31627                                      Nao informado   \n",
       "31628                                      Nao informado   \n",
       "31629                                      Nao informado   \n",
       "31630                                      Nao informado   \n",
       "33428                                      Nao informado   \n",
       "33429                                      Nao informado   \n",
       "33430                                      Nao informado   \n",
       "33431                                      Nao informado   \n",
       "36365                                      Nao informado   \n",
       "\n",
       "                                     unidade_responsavel dia_semana  \\\n",
       "18355  DEAM - DEL.VIRTUAL DA MULHER 294-1º RISP- 8ª AISP        SEG   \n",
       "31625                                      Nao informado        SEX   \n",
       "31626                                      Nao informado        DOM   \n",
       "31627                                      Nao informado        DOM   \n",
       "31628                                      Nao informado        SAB   \n",
       "31629                                      Nao informado        DOM   \n",
       "31630                                      Nao informado        DOM   \n",
       "33428                                      Nao informado        DOM   \n",
       "33429                                      Nao informado        TER   \n",
       "33430                                      Nao informado        DOM   \n",
       "33431                                      Nao informado        DOM   \n",
       "36365                                      Nao informado        DOM   \n",
       "\n",
       "        fx_4_hor  mes_fato  ano_fato   data_fato     consolidado  \\\n",
       "18355  12 |-- 18  DEZEMBRO      2020  2020-12-21          AMEACA   \n",
       "31625  18 |-- 24    AGOSTO      2022  2022-08-26          AMEACA   \n",
       "31626  12 |-- 18    AGOSTO      2022  2022-08-14          AMEACA   \n",
       "31627  18 |-- 24    AGOSTO      2022  2022-08-28          AMEACA   \n",
       "31628  12 |-- 18    AGOSTO      2022  2022-08-27          AMEACA   \n",
       "31629  06 |-- 12    AGOSTO      2022  2022-08-28          AMEACA   \n",
       "31630  18 |-- 24    AGOSTO      2022  2022-08-28          AMEACA   \n",
       "33428  06 |-- 12    AGOSTO      2022  2022-08-28  LESAO CORPORAL   \n",
       "33429  18 |-- 24    AGOSTO      2022  2022-08-16          AMEACA   \n",
       "33430  18 |-- 24    AGOSTO      2022  2022-08-28          AMEACA   \n",
       "33431  18 |-- 24    AGOSTO      2022  2022-08-07          AMEACA   \n",
       "36365  18 |-- 24    AGOSTO      2022  2022-08-28          AMEACA   \n",
       "\n",
       "       especificacao_crime         causa_presumivel meio_empregado_sisp  \\\n",
       "18355        Nao informado                   OUTRAS        OUTROS MEIOS   \n",
       "31625        Nao informado                   OUTRAS        OUTROS MEIOS   \n",
       "31626        Nao informado         ODIO OU VINGANCA        OUTROS MEIOS   \n",
       "31627        Nao informado                  AMBICAO        OUTROS MEIOS   \n",
       "31628        Nao informado                   OUTRAS        OUTROS MEIOS   \n",
       "31629        Nao informado                   OUTRAS        OUTROS MEIOS   \n",
       "31630          PREJUDICADO                   OUTRAS        OUTROS MEIOS   \n",
       "33428          PREJUDICADO                   OUTRAS        OUTROS MEIOS   \n",
       "33429        Nao informado                   OUTRAS        OUTROS MEIOS   \n",
       "33430        Nao informado  ALCOOLISMO / EMBRIAGUEZ     SEM INSTRUMENTO   \n",
       "33431  VIOLENCIA DOMESTICA         ODIO OU VINGANCA        OUTROS MEIOS   \n",
       "36365        Nao informado                   OUTRAS        OUTROS MEIOS   \n",
       "\n",
       "              bairros             local_ocorrencia vit_idade    vit_fx_etaria  \\\n",
       "18355          TAPANA                OUTROS LOCAIS   88888.0  PJ, EP E OUTROS   \n",
       "31625  BATISTA CAMPOS                     INTERNET   88888.0  PJ, EP E OUTROS   \n",
       "31626  COQUEIRO BELEM       CONDOMINIO RESIDENCIAL   88888.0  PJ, EP E OUTROS   \n",
       "31627  COQUEIRO BELEM        RESIDENCIA PARTICULAR   88888.0  PJ, EP E OUTROS   \n",
       "31628           GUAMA        RESIDENCIA PARTICULAR   88888.0  PJ, EP E OUTROS   \n",
       "31629          TAPANA        RESIDENCIA PARTICULAR   88888.0  PJ, EP E OUTROS   \n",
       "31630     CASTANHEIRA        RESIDENCIA PARTICULAR   88888.0  PJ, EP E OUTROS   \n",
       "33428  COQUEIRO BELEM                  VIA PUBLICA   88888.0  PJ, EP E OUTROS   \n",
       "33429          REDUTO  CAFE, BAR, RESTAURANTE, ETC   88888.0  PJ, EP E OUTROS   \n",
       "33430  COQUEIRO BELEM                  VIA PUBLICA   88888.0  PJ, EP E OUTROS   \n",
       "33431         JURUNAS        RESIDENCIA PARTICULAR   88888.0  PJ, EP E OUTROS   \n",
       "36365  COQUEIRO BELEM        RESIDENCIA PARTICULAR   88888.0  PJ, EP E OUTROS   \n",
       "\n",
       "      vit_sexo vit_cor_pele                vit_grau_inst  \\\n",
       "18355        F  PREJUDICADO                NAO INFORMADO   \n",
       "31625        F  PREJUDICADO   ENSINO SUPERIOR INCOMPLETO   \n",
       "31626        F  PREJUDICADO     ENSINO SUPERIOR COMPLETO   \n",
       "31627        F  PREJUDICADO        ENSINO MEDIO COMPLETO   \n",
       "31628        F  PREJUDICADO      ENSINO MEDIO INCOMPLETO   \n",
       "31629        F  PREJUDICADO  ENSINO FUNDAMENTAL COMPLETO   \n",
       "31630        F  PREJUDICADO        ENSINO MEDIO COMPLETO   \n",
       "33428        F  PREJUDICADO        ENSINO MEDIO COMPLETO   \n",
       "33429        F  PREJUDICADO   ENSINO SUPERIOR INCOMPLETO   \n",
       "33430        F  PREJUDICADO   ENSINO SUPERIOR INCOMPLETO   \n",
       "33431        F  PREJUDICADO        ENSINO MEDIO COMPLETO   \n",
       "36365        F  PREJUDICADO      ENSINO MEDIO INCOMPLETO   \n",
       "\n",
       "      grau_de_relacionamento  \\\n",
       "18355          NAO INFORMADO   \n",
       "31625          NAO INFORMADO   \n",
       "31626          NAO INFORMADO   \n",
       "31627          NAO INFORMADO   \n",
       "31628          NAO INFORMADO   \n",
       "31629          NAO INFORMADO   \n",
       "31630          NAO INFORMADO   \n",
       "33428            PREJUDICADO   \n",
       "33429          NAO INFORMADO   \n",
       "33430          NAO INFORMADO   \n",
       "33431               IRMAO(A)   \n",
       "36365          NAO INFORMADO   \n",
       "\n",
       "                                                  relato       aut_sexo  \n",
       "18355  O RELATOR ACIMA QUALIFICADO COMUNICA, ATRAVÉS ...  Nao informado  \n",
       "31625  <P>O RELATOR ACIMA QUALIFICADO COMUNICA, ATRAV...              P  \n",
       "31626  <P>A RELATORA ACIMA QUALIFICADA COMPARECEU A E...              P  \n",
       "31627  <P>A DEPOENTE COMPARECE NESTA DIRETORIA PARA C...              P  \n",
       "31628  <P>A RELATORA CLAUDIANE GOMES FERREIRA COMUNIC...              P  \n",
       "31629  <P>A RELATORA ACIMA QUALIFICADA, COMPARECEU NE...              P  \n",
       "31630  <P><I>A SENHORA ACIMA QUALIFICADA COMPARECEU N...              F  \n",
       "33428  <P>O RELATOR ACIMA QUALIFICADO COMUNICA, ATRAV...              F  \n",
       "33429  <P>O RELATOR ACIMA QUALIFICADO COMUNICA, ATRAV...              P  \n",
       "33430  <P>A RELATORA ACIMA IDENTIFICADA COMUNICA NEST...              P  \n",
       "33431  <P>////A RELATORA KATIA CILENE LOBATO RIBEIRO ...              M  \n",
       "36365  <P>A RELATORA VEM ATE ESTA DELEGACIA DE POLICI...              P  "
      ]
     },
     "execution_count": 173,
     "metadata": {},
     "output_type": "execute_result"
    }
   ],
   "source": [
    "crimes_selecionados_belem.loc[crimes_selecionados_belem['vit_fx_etaria']=='PJ, EP E OUTROS']"
   ]
  },
  {
   "cell_type": "code",
   "execution_count": 174,
   "id": "7d6314cd",
   "metadata": {},
   "outputs": [],
   "source": [
    "crimes_selecionados_belem.loc[crimes_selecionados_belem.vit_fx_etaria == \"Nao informado\",'vit_fx_etaria'] = 'NAO INFORMADO'"
   ]
  },
  {
   "cell_type": "code",
   "execution_count": 175,
   "id": "00e45b1c",
   "metadata": {},
   "outputs": [
    {
     "data": {
      "text/html": [
       "<div>\n",
       "<style scoped>\n",
       "    .dataframe tbody tr th:only-of-type {\n",
       "        vertical-align: middle;\n",
       "    }\n",
       "\n",
       "    .dataframe tbody tr th {\n",
       "        vertical-align: top;\n",
       "    }\n",
       "\n",
       "    .dataframe thead th {\n",
       "        text-align: right;\n",
       "    }\n",
       "</style>\n",
       "<table border=\"1\" class=\"dataframe\">\n",
       "  <thead>\n",
       "    <tr style=\"text-align: right;\">\n",
       "      <th></th>\n",
       "      <th>unidade_origem</th>\n",
       "      <th>unidade_responsavel</th>\n",
       "      <th>dia_semana</th>\n",
       "      <th>fx_4_hor</th>\n",
       "      <th>mes_fato</th>\n",
       "      <th>ano_fato</th>\n",
       "      <th>data_fato</th>\n",
       "      <th>consolidado</th>\n",
       "      <th>especificacao_crime</th>\n",
       "      <th>causa_presumivel</th>\n",
       "      <th>meio_empregado_sisp</th>\n",
       "      <th>bairros</th>\n",
       "      <th>local_ocorrencia</th>\n",
       "      <th>vit_idade</th>\n",
       "      <th>vit_fx_etaria</th>\n",
       "      <th>vit_sexo</th>\n",
       "      <th>vit_cor_pele</th>\n",
       "      <th>vit_grau_inst</th>\n",
       "      <th>grau_de_relacionamento</th>\n",
       "      <th>relato</th>\n",
       "      <th>aut_sexo</th>\n",
       "    </tr>\n",
       "  </thead>\n",
       "  <tbody>\n",
       "    <tr>\n",
       "      <th>21</th>\n",
       "      <td>DIVISAO DE HOMICIDIOS</td>\n",
       "      <td>DIVISAO DE HOMICIDIOS</td>\n",
       "      <td>SEG</td>\n",
       "      <td>18 |-- 24</td>\n",
       "      <td>JUNHO</td>\n",
       "      <td>2019</td>\n",
       "      <td>2019-06-17</td>\n",
       "      <td>HOMICIDIO</td>\n",
       "      <td>EM DECOMPOSICAO</td>\n",
       "      <td>ODIO OU VINGANCA</td>\n",
       "      <td>ARMA DE FOGO</td>\n",
       "      <td>CURIO-UTINGA</td>\n",
       "      <td>VIA PUBLICA</td>\n",
       "      <td>66666.0</td>\n",
       "      <td>PREJUDICADO</td>\n",
       "      <td>F</td>\n",
       "      <td>PREJUDICADO</td>\n",
       "      <td>NAO INFORMADO</td>\n",
       "      <td>NAO INFORMADO</td>\n",
       "      <td>&lt;p&gt;&amp;nbsp;A quipe de planatao desta Divisao foi...</td>\n",
       "      <td>NI</td>\n",
       "    </tr>\n",
       "    <tr>\n",
       "      <th>46</th>\n",
       "      <td>TENONE UNIDADE INTEGRADA PROPAZ - 1ª RISP - 13...</td>\n",
       "      <td>TENONE UNIDADE INTEGRADA PROPAZ - 1ª RISP - 13...</td>\n",
       "      <td>DOM</td>\n",
       "      <td>12 |-- 18</td>\n",
       "      <td>MAIO</td>\n",
       "      <td>2019</td>\n",
       "      <td>2019-05-19</td>\n",
       "      <td>AMEACA</td>\n",
       "      <td>VIOLENCIA DOMESTICA/MARIA DA PENHA</td>\n",
       "      <td>ALCOOLISMO / EMBRIAGUEZ</td>\n",
       "      <td>SEM INSTRUMENTO</td>\n",
       "      <td>TENONE</td>\n",
       "      <td>RESIDENCIA PARTICULAR</td>\n",
       "      <td>66666.0</td>\n",
       "      <td>PREJUDICADO</td>\n",
       "      <td>F</td>\n",
       "      <td>PREJUDICADO</td>\n",
       "      <td>NAO INFORMADO</td>\n",
       "      <td>COMPANHEIRO(A)</td>\n",
       "      <td>&lt;p&gt;O condutor, declarou que na data de hoje, e...</td>\n",
       "      <td>M</td>\n",
       "    </tr>\n",
       "    <tr>\n",
       "      <th>67</th>\n",
       "      <td>DEL.VIRTUAL - 277</td>\n",
       "      <td>SAO BRAS - PATRIMONIO 228 - 1º RISP- 2ª AISP</td>\n",
       "      <td>QUI</td>\n",
       "      <td>12 |-- 18</td>\n",
       "      <td>JUNHO</td>\n",
       "      <td>2019</td>\n",
       "      <td>2019-06-20</td>\n",
       "      <td>AMEACA</td>\n",
       "      <td>NAO INFORMADO</td>\n",
       "      <td>IMPERICIA / IMPRUDENCIA / NEGLIGENCIA</td>\n",
       "      <td>SEM INSTRUMENTO</td>\n",
       "      <td>NAZARE</td>\n",
       "      <td>VIA PUBLICA</td>\n",
       "      <td>66666.0</td>\n",
       "      <td>PREJUDICADO</td>\n",
       "      <td>F</td>\n",
       "      <td>PREJUDICADO</td>\n",
       "      <td>NAO INFORMADO</td>\n",
       "      <td>NAO INFORMADO</td>\n",
       "      <td>O RELATOR ACIMA QUALIFICADO COMUNICA, ATRAVÉS ...</td>\n",
       "      <td>M</td>\n",
       "    </tr>\n",
       "    <tr>\n",
       "      <th>73</th>\n",
       "      <td>ICOARACI - 8ª SECCIONAL - 1ª RISP - 11ª, 12ª E...</td>\n",
       "      <td>ICOARACI - 8ª SECCIONAL - 1ª RISP - 11ª, 12ª E...</td>\n",
       "      <td>SEG</td>\n",
       "      <td>12 |-- 18</td>\n",
       "      <td>OUTUBRO</td>\n",
       "      <td>2019</td>\n",
       "      <td>2019-10-28</td>\n",
       "      <td>LESAO CORPORAL</td>\n",
       "      <td>VIOLENCIA DOMESTICA/MARIA DA PENHA</td>\n",
       "      <td>OUTRAS</td>\n",
       "      <td>OUTROS MEIOS</td>\n",
       "      <td>CAMPINA DE ICOARACI</td>\n",
       "      <td>VIA PUBLICA</td>\n",
       "      <td>66666.0</td>\n",
       "      <td>PREJUDICADO</td>\n",
       "      <td>F</td>\n",
       "      <td>PREJUDICADO</td>\n",
       "      <td>NAO INFORMADO</td>\n",
       "      <td>COMPANHEIRO(A)</td>\n",
       "      <td>&lt;p&gt;A relatora vem representar contra seu compa...</td>\n",
       "      <td>M</td>\n",
       "    </tr>\n",
       "    <tr>\n",
       "      <th>89</th>\n",
       "      <td>DEL.VIRTUAL - 277</td>\n",
       "      <td>SACRAMENTA - PATRIMONIO 240 - 1º RISP- 7ª AISP</td>\n",
       "      <td>QUI</td>\n",
       "      <td>06 |-- 12</td>\n",
       "      <td>FEVEREIRO</td>\n",
       "      <td>2019</td>\n",
       "      <td>2019-02-21</td>\n",
       "      <td>AMEACA</td>\n",
       "      <td>NAO INFORMADO</td>\n",
       "      <td>IMPERICIA / IMPRUDENCIA / NEGLIGENCIA</td>\n",
       "      <td>SEM INSTRUMENTO</td>\n",
       "      <td>TELEGRAFO SEM FIO</td>\n",
       "      <td>VIA PUBLICA</td>\n",
       "      <td>66666.0</td>\n",
       "      <td>PREJUDICADO</td>\n",
       "      <td>F</td>\n",
       "      <td>PREJUDICADO</td>\n",
       "      <td>Nao informado</td>\n",
       "      <td>NAO INFORMADO</td>\n",
       "      <td>O RELATOR ACIMA QUALIFICADO COMUNICA, ATRAVÉS ...</td>\n",
       "      <td>NI</td>\n",
       "    </tr>\n",
       "    <tr>\n",
       "      <th>...</th>\n",
       "      <td>...</td>\n",
       "      <td>...</td>\n",
       "      <td>...</td>\n",
       "      <td>...</td>\n",
       "      <td>...</td>\n",
       "      <td>...</td>\n",
       "      <td>...</td>\n",
       "      <td>...</td>\n",
       "      <td>...</td>\n",
       "      <td>...</td>\n",
       "      <td>...</td>\n",
       "      <td>...</td>\n",
       "      <td>...</td>\n",
       "      <td>...</td>\n",
       "      <td>...</td>\n",
       "      <td>...</td>\n",
       "      <td>...</td>\n",
       "      <td>...</td>\n",
       "      <td>...</td>\n",
       "      <td>...</td>\n",
       "      <td>...</td>\n",
       "    </tr>\n",
       "    <tr>\n",
       "      <th>46944</th>\n",
       "      <td>Nao informado</td>\n",
       "      <td>Nao informado</td>\n",
       "      <td>SEX</td>\n",
       "      <td>18 |-- 24</td>\n",
       "      <td>DEZEMBRO</td>\n",
       "      <td>2023</td>\n",
       "      <td>2023-12-01</td>\n",
       "      <td>LESAO CORPORAL</td>\n",
       "      <td>VIOLENCIA DOMESTICA</td>\n",
       "      <td>OUTRAS</td>\n",
       "      <td>OUTROS MEIOS</td>\n",
       "      <td>COQUEIRO BELEM</td>\n",
       "      <td>OUTROS LOCAIS</td>\n",
       "      <td>66666.0</td>\n",
       "      <td>PREJUDICADO</td>\n",
       "      <td>F</td>\n",
       "      <td>PREJUDICADO</td>\n",
       "      <td>PREJUDICADO</td>\n",
       "      <td>FILHO(A)</td>\n",
       "      <td>&lt;P&gt;O RELATOR, ACIMA QUALIFICADO, COMPARECEU A ...</td>\n",
       "      <td>M</td>\n",
       "    </tr>\n",
       "    <tr>\n",
       "      <th>47080</th>\n",
       "      <td>Nao informado</td>\n",
       "      <td>Nao informado</td>\n",
       "      <td>TER</td>\n",
       "      <td>06 |-- 12</td>\n",
       "      <td>DEZEMBRO</td>\n",
       "      <td>2023</td>\n",
       "      <td>2023-12-05</td>\n",
       "      <td>LESAO CORPORAL</td>\n",
       "      <td>VIOLENCIA DOMESTICA</td>\n",
       "      <td>OUTRAS</td>\n",
       "      <td>OUTROS MEIOS</td>\n",
       "      <td>SACRAMENTA</td>\n",
       "      <td>VIA PUBLICA</td>\n",
       "      <td>66666.0</td>\n",
       "      <td>PREJUDICADO</td>\n",
       "      <td>F</td>\n",
       "      <td>PREJUDICADO</td>\n",
       "      <td>PREJUDICADO</td>\n",
       "      <td>EX-COMPANHEIRO(A)</td>\n",
       "      <td>&lt;P&gt;QUE ESTAVAM REALIZANDO RONDA, NO FINAL DO S...</td>\n",
       "      <td>M</td>\n",
       "    </tr>\n",
       "    <tr>\n",
       "      <th>47295</th>\n",
       "      <td>Nao informado</td>\n",
       "      <td>Nao informado</td>\n",
       "      <td>DOM</td>\n",
       "      <td>18 |-- 24</td>\n",
       "      <td>DEZEMBRO</td>\n",
       "      <td>2023</td>\n",
       "      <td>2023-12-10</td>\n",
       "      <td>LESAO CORPORAL</td>\n",
       "      <td>VIOLENCIA DOMESTICA</td>\n",
       "      <td>CIUME</td>\n",
       "      <td>SEM INSTRUMENTO</td>\n",
       "      <td>CONDOR</td>\n",
       "      <td>RESIDENCIA PARTICULAR</td>\n",
       "      <td>66666.0</td>\n",
       "      <td>PREJUDICADO</td>\n",
       "      <td>F</td>\n",
       "      <td>PREJUDICADO</td>\n",
       "      <td>PREJUDICADO</td>\n",
       "      <td>COMPANHEIRO(A)</td>\n",
       "      <td>&lt;P&gt;QUE O RELATOR COMPARECEU NESTA DELEGACIA ES...</td>\n",
       "      <td>M</td>\n",
       "    </tr>\n",
       "    <tr>\n",
       "      <th>47436</th>\n",
       "      <td>Nao informado</td>\n",
       "      <td>Nao informado</td>\n",
       "      <td>SEG</td>\n",
       "      <td>06 |-- 12</td>\n",
       "      <td>DEZEMBRO</td>\n",
       "      <td>2023</td>\n",
       "      <td>2023-12-18</td>\n",
       "      <td>LESAO CORPORAL</td>\n",
       "      <td>Nao informado</td>\n",
       "      <td>OUTRAS</td>\n",
       "      <td>OUTROS MEIOS</td>\n",
       "      <td>MANGUEIRAO</td>\n",
       "      <td>TRANSPORTE(PUBLICO, URBANO, ETC)</td>\n",
       "      <td>66666.0</td>\n",
       "      <td>PREJUDICADO</td>\n",
       "      <td>F</td>\n",
       "      <td>PREJUDICADO</td>\n",
       "      <td>PREJUDICADO</td>\n",
       "      <td>NAO INFORMADO</td>\n",
       "      <td>&lt;P&gt;O RELATOR ACIMA QUALIFICADO, COMPARECEU NES...</td>\n",
       "      <td>P</td>\n",
       "    </tr>\n",
       "    <tr>\n",
       "      <th>47482</th>\n",
       "      <td>Nao informado</td>\n",
       "      <td>Nao informado</td>\n",
       "      <td>SEX</td>\n",
       "      <td>06 |-- 12</td>\n",
       "      <td>DEZEMBRO</td>\n",
       "      <td>2023</td>\n",
       "      <td>2023-12-22</td>\n",
       "      <td>IMPORTUNACAO SEXUAL</td>\n",
       "      <td>Nao informado</td>\n",
       "      <td>OUTRAS</td>\n",
       "      <td>OUTROS MEIOS</td>\n",
       "      <td>MANGUEIRAO</td>\n",
       "      <td>CASA COMERCIAL</td>\n",
       "      <td>66666.0</td>\n",
       "      <td>PREJUDICADO</td>\n",
       "      <td>F</td>\n",
       "      <td>PREJUDICADO</td>\n",
       "      <td>PREJUDICADO</td>\n",
       "      <td>NAO INFORMADO</td>\n",
       "      <td>&lt;P&gt;O RELATOR, NA QUALIDADE DE SGTPM, VEM COMUN...</td>\n",
       "      <td>M</td>\n",
       "    </tr>\n",
       "  </tbody>\n",
       "</table>\n",
       "<p>408 rows × 21 columns</p>\n",
       "</div>"
      ],
      "text/plain": [
       "                                          unidade_origem  \\\n",
       "21                                 DIVISAO DE HOMICIDIOS   \n",
       "46     TENONE UNIDADE INTEGRADA PROPAZ - 1ª RISP - 13...   \n",
       "67                                     DEL.VIRTUAL - 277   \n",
       "73     ICOARACI - 8ª SECCIONAL - 1ª RISP - 11ª, 12ª E...   \n",
       "89                                     DEL.VIRTUAL - 277   \n",
       "...                                                  ...   \n",
       "46944                                      Nao informado   \n",
       "47080                                      Nao informado   \n",
       "47295                                      Nao informado   \n",
       "47436                                      Nao informado   \n",
       "47482                                      Nao informado   \n",
       "\n",
       "                                     unidade_responsavel dia_semana  \\\n",
       "21                                 DIVISAO DE HOMICIDIOS        SEG   \n",
       "46     TENONE UNIDADE INTEGRADA PROPAZ - 1ª RISP - 13...        DOM   \n",
       "67          SAO BRAS - PATRIMONIO 228 - 1º RISP- 2ª AISP        QUI   \n",
       "73     ICOARACI - 8ª SECCIONAL - 1ª RISP - 11ª, 12ª E...        SEG   \n",
       "89        SACRAMENTA - PATRIMONIO 240 - 1º RISP- 7ª AISP        QUI   \n",
       "...                                                  ...        ...   \n",
       "46944                                      Nao informado        SEX   \n",
       "47080                                      Nao informado        TER   \n",
       "47295                                      Nao informado        DOM   \n",
       "47436                                      Nao informado        SEG   \n",
       "47482                                      Nao informado        SEX   \n",
       "\n",
       "        fx_4_hor   mes_fato  ano_fato   data_fato          consolidado  \\\n",
       "21     18 |-- 24      JUNHO      2019  2019-06-17            HOMICIDIO   \n",
       "46     12 |-- 18       MAIO      2019  2019-05-19               AMEACA   \n",
       "67     12 |-- 18      JUNHO      2019  2019-06-20               AMEACA   \n",
       "73     12 |-- 18    OUTUBRO      2019  2019-10-28       LESAO CORPORAL   \n",
       "89     06 |-- 12  FEVEREIRO      2019  2019-02-21               AMEACA   \n",
       "...          ...        ...       ...         ...                  ...   \n",
       "46944  18 |-- 24   DEZEMBRO      2023  2023-12-01       LESAO CORPORAL   \n",
       "47080  06 |-- 12   DEZEMBRO      2023  2023-12-05       LESAO CORPORAL   \n",
       "47295  18 |-- 24   DEZEMBRO      2023  2023-12-10       LESAO CORPORAL   \n",
       "47436  06 |-- 12   DEZEMBRO      2023  2023-12-18       LESAO CORPORAL   \n",
       "47482  06 |-- 12   DEZEMBRO      2023  2023-12-22  IMPORTUNACAO SEXUAL   \n",
       "\n",
       "                      especificacao_crime  \\\n",
       "21                        EM DECOMPOSICAO   \n",
       "46     VIOLENCIA DOMESTICA/MARIA DA PENHA   \n",
       "67                          NAO INFORMADO   \n",
       "73     VIOLENCIA DOMESTICA/MARIA DA PENHA   \n",
       "89                          NAO INFORMADO   \n",
       "...                                   ...   \n",
       "46944                 VIOLENCIA DOMESTICA   \n",
       "47080                 VIOLENCIA DOMESTICA   \n",
       "47295                 VIOLENCIA DOMESTICA   \n",
       "47436                       Nao informado   \n",
       "47482                       Nao informado   \n",
       "\n",
       "                            causa_presumivel meio_empregado_sisp  \\\n",
       "21                          ODIO OU VINGANCA        ARMA DE FOGO   \n",
       "46                   ALCOOLISMO / EMBRIAGUEZ     SEM INSTRUMENTO   \n",
       "67     IMPERICIA / IMPRUDENCIA / NEGLIGENCIA     SEM INSTRUMENTO   \n",
       "73                                    OUTRAS        OUTROS MEIOS   \n",
       "89     IMPERICIA / IMPRUDENCIA / NEGLIGENCIA     SEM INSTRUMENTO   \n",
       "...                                      ...                 ...   \n",
       "46944                                 OUTRAS        OUTROS MEIOS   \n",
       "47080                                 OUTRAS        OUTROS MEIOS   \n",
       "47295                                  CIUME     SEM INSTRUMENTO   \n",
       "47436                                 OUTRAS        OUTROS MEIOS   \n",
       "47482                                 OUTRAS        OUTROS MEIOS   \n",
       "\n",
       "                   bairros                  local_ocorrencia vit_idade  \\\n",
       "21            CURIO-UTINGA                       VIA PUBLICA   66666.0   \n",
       "46                  TENONE             RESIDENCIA PARTICULAR   66666.0   \n",
       "67                  NAZARE                       VIA PUBLICA   66666.0   \n",
       "73     CAMPINA DE ICOARACI                       VIA PUBLICA   66666.0   \n",
       "89       TELEGRAFO SEM FIO                       VIA PUBLICA   66666.0   \n",
       "...                    ...                               ...       ...   \n",
       "46944       COQUEIRO BELEM                     OUTROS LOCAIS   66666.0   \n",
       "47080           SACRAMENTA                       VIA PUBLICA   66666.0   \n",
       "47295               CONDOR             RESIDENCIA PARTICULAR   66666.0   \n",
       "47436           MANGUEIRAO  TRANSPORTE(PUBLICO, URBANO, ETC)   66666.0   \n",
       "47482           MANGUEIRAO                    CASA COMERCIAL   66666.0   \n",
       "\n",
       "      vit_fx_etaria vit_sexo vit_cor_pele  vit_grau_inst  \\\n",
       "21      PREJUDICADO        F  PREJUDICADO  NAO INFORMADO   \n",
       "46      PREJUDICADO        F  PREJUDICADO  NAO INFORMADO   \n",
       "67      PREJUDICADO        F  PREJUDICADO  NAO INFORMADO   \n",
       "73      PREJUDICADO        F  PREJUDICADO  NAO INFORMADO   \n",
       "89      PREJUDICADO        F  PREJUDICADO  Nao informado   \n",
       "...             ...      ...          ...            ...   \n",
       "46944   PREJUDICADO        F  PREJUDICADO    PREJUDICADO   \n",
       "47080   PREJUDICADO        F  PREJUDICADO    PREJUDICADO   \n",
       "47295   PREJUDICADO        F  PREJUDICADO    PREJUDICADO   \n",
       "47436   PREJUDICADO        F  PREJUDICADO    PREJUDICADO   \n",
       "47482   PREJUDICADO        F  PREJUDICADO    PREJUDICADO   \n",
       "\n",
       "      grau_de_relacionamento  \\\n",
       "21             NAO INFORMADO   \n",
       "46            COMPANHEIRO(A)   \n",
       "67             NAO INFORMADO   \n",
       "73            COMPANHEIRO(A)   \n",
       "89             NAO INFORMADO   \n",
       "...                      ...   \n",
       "46944               FILHO(A)   \n",
       "47080      EX-COMPANHEIRO(A)   \n",
       "47295         COMPANHEIRO(A)   \n",
       "47436          NAO INFORMADO   \n",
       "47482          NAO INFORMADO   \n",
       "\n",
       "                                                  relato aut_sexo  \n",
       "21     <p>&nbsp;A quipe de planatao desta Divisao foi...       NI  \n",
       "46     <p>O condutor, declarou que na data de hoje, e...        M  \n",
       "67     O RELATOR ACIMA QUALIFICADO COMUNICA, ATRAVÉS ...        M  \n",
       "73     <p>A relatora vem representar contra seu compa...        M  \n",
       "89     O RELATOR ACIMA QUALIFICADO COMUNICA, ATRAVÉS ...       NI  \n",
       "...                                                  ...      ...  \n",
       "46944  <P>O RELATOR, ACIMA QUALIFICADO, COMPARECEU A ...        M  \n",
       "47080  <P>QUE ESTAVAM REALIZANDO RONDA, NO FINAL DO S...        M  \n",
       "47295  <P>QUE O RELATOR COMPARECEU NESTA DELEGACIA ES...        M  \n",
       "47436  <P>O RELATOR ACIMA QUALIFICADO, COMPARECEU NES...        P  \n",
       "47482  <P>O RELATOR, NA QUALIDADE DE SGTPM, VEM COMUN...        M  \n",
       "\n",
       "[408 rows x 21 columns]"
      ]
     },
     "execution_count": 175,
     "metadata": {},
     "output_type": "execute_result"
    }
   ],
   "source": [
    "crimes_selecionados_belem.loc[crimes_selecionados_belem['vit_fx_etaria']=='PREJUDICADO']"
   ]
  },
  {
   "cell_type": "code",
   "execution_count": 176,
   "id": "10df2c0f",
   "metadata": {},
   "outputs": [],
   "source": [
    "filtro_vit_fx_etaria_1 = (crimes_selecionados_belem['vit_fx_etaria'] == 'PREJUDICADO')\n",
    "filtrado_vit_fx_etaria_1 = crimes_selecionados_belem[filtro_vit_fx_etaria_1]\n",
    "idade_vit = filtrado_vit_fx_etaria_1['vit_idade'].value_counts()"
   ]
  },
  {
   "cell_type": "code",
   "execution_count": 177,
   "id": "206e0672",
   "metadata": {},
   "outputs": [
    {
     "data": {
      "text/plain": [
       "vit_idade\n",
       "66666.0          338\n",
       "99999.0           55\n",
       "Nao informado      7\n",
       "36.0               2\n",
       "41.0               2\n",
       "32.0               1\n",
       "37.0               1\n",
       "88888.0            1\n",
       "2.0                1\n",
       "Name: count, dtype: int64"
      ]
     },
     "execution_count": 177,
     "metadata": {},
     "output_type": "execute_result"
    }
   ],
   "source": [
    "idade_vit"
   ]
  },
  {
   "cell_type": "code",
   "execution_count": 178,
   "id": "4e6bca8c",
   "metadata": {},
   "outputs": [
    {
     "data": {
      "text/html": [
       "<div>\n",
       "<style scoped>\n",
       "    .dataframe tbody tr th:only-of-type {\n",
       "        vertical-align: middle;\n",
       "    }\n",
       "\n",
       "    .dataframe tbody tr th {\n",
       "        vertical-align: top;\n",
       "    }\n",
       "\n",
       "    .dataframe thead th {\n",
       "        text-align: right;\n",
       "    }\n",
       "</style>\n",
       "<table border=\"1\" class=\"dataframe\">\n",
       "  <thead>\n",
       "    <tr style=\"text-align: right;\">\n",
       "      <th></th>\n",
       "      <th>unidade_origem</th>\n",
       "      <th>unidade_responsavel</th>\n",
       "      <th>dia_semana</th>\n",
       "      <th>fx_4_hor</th>\n",
       "      <th>mes_fato</th>\n",
       "      <th>ano_fato</th>\n",
       "      <th>data_fato</th>\n",
       "      <th>consolidado</th>\n",
       "      <th>especificacao_crime</th>\n",
       "      <th>causa_presumivel</th>\n",
       "      <th>meio_empregado_sisp</th>\n",
       "      <th>bairros</th>\n",
       "      <th>local_ocorrencia</th>\n",
       "      <th>vit_idade</th>\n",
       "      <th>vit_fx_etaria</th>\n",
       "      <th>vit_sexo</th>\n",
       "      <th>vit_cor_pele</th>\n",
       "      <th>vit_grau_inst</th>\n",
       "      <th>grau_de_relacionamento</th>\n",
       "      <th>relato</th>\n",
       "      <th>aut_sexo</th>\n",
       "    </tr>\n",
       "  </thead>\n",
       "  <tbody>\n",
       "    <tr>\n",
       "      <th>4484</th>\n",
       "      <td>DELEGACIA DE CONTROLE DE CRIMES VIOLENTOS - PSM</td>\n",
       "      <td>COMERCIO - 6ª SECCIONAL - 1ª RISP - 1ª AISP</td>\n",
       "      <td>SEG</td>\n",
       "      <td>06 |-- 12</td>\n",
       "      <td>OUTUBRO</td>\n",
       "      <td>2019</td>\n",
       "      <td>2019-10-28</td>\n",
       "      <td>LESAO CORPORAL</td>\n",
       "      <td>VIOLENCIA DOMESTICA/MARIA DA PENHA</td>\n",
       "      <td>ODIO OU VINGANCA</td>\n",
       "      <td>OUTROS MEIOS</td>\n",
       "      <td>UMARIZAL</td>\n",
       "      <td>RESIDENCIA PARTICULAR</td>\n",
       "      <td>36.0</td>\n",
       "      <td>PREJUDICADO</td>\n",
       "      <td>F</td>\n",
       "      <td>PARDA</td>\n",
       "      <td>NAO INFORMADO</td>\n",
       "      <td>FILHO(A)</td>\n",
       "      <td>&lt;p&gt;A nacional acima qualificada compareceu a e...</td>\n",
       "      <td>F</td>\n",
       "    </tr>\n",
       "    <tr>\n",
       "      <th>5553</th>\n",
       "      <td>PEDREIRA - 10ª SECCIONAL - 1ª RISP - 8ª AISP</td>\n",
       "      <td>PEDREIRA - 10ª SECCIONAL - 1ª RISP - 8ª AISP</td>\n",
       "      <td>DOM</td>\n",
       "      <td>12 |-- 18</td>\n",
       "      <td>AGOSTO</td>\n",
       "      <td>2019</td>\n",
       "      <td>2019-08-25</td>\n",
       "      <td>LESAO CORPORAL</td>\n",
       "      <td>VIOLENCIA DOMESTICA/MARIA DA PENHA</td>\n",
       "      <td>OUTRAS</td>\n",
       "      <td>OUTROS MEIOS</td>\n",
       "      <td>PEDREIRA</td>\n",
       "      <td>RESIDENCIA PARTICULAR</td>\n",
       "      <td>36.0</td>\n",
       "      <td>PREJUDICADO</td>\n",
       "      <td>F</td>\n",
       "      <td>PARDA</td>\n",
       "      <td>NAO INFORMADO</td>\n",
       "      <td>IRMAO(A)</td>\n",
       "      <td>&lt;p&gt;A relatora vem a esta seccional comunicar q...</td>\n",
       "      <td>M</td>\n",
       "    </tr>\n",
       "  </tbody>\n",
       "</table>\n",
       "</div>"
      ],
      "text/plain": [
       "                                       unidade_origem  \\\n",
       "4484  DELEGACIA DE CONTROLE DE CRIMES VIOLENTOS - PSM   \n",
       "5553     PEDREIRA - 10ª SECCIONAL - 1ª RISP - 8ª AISP   \n",
       "\n",
       "                               unidade_responsavel dia_semana   fx_4_hor  \\\n",
       "4484   COMERCIO - 6ª SECCIONAL - 1ª RISP - 1ª AISP        SEG  06 |-- 12   \n",
       "5553  PEDREIRA - 10ª SECCIONAL - 1ª RISP - 8ª AISP        DOM  12 |-- 18   \n",
       "\n",
       "     mes_fato  ano_fato   data_fato     consolidado  \\\n",
       "4484  OUTUBRO      2019  2019-10-28  LESAO CORPORAL   \n",
       "5553   AGOSTO      2019  2019-08-25  LESAO CORPORAL   \n",
       "\n",
       "                     especificacao_crime  causa_presumivel  \\\n",
       "4484  VIOLENCIA DOMESTICA/MARIA DA PENHA  ODIO OU VINGANCA   \n",
       "5553  VIOLENCIA DOMESTICA/MARIA DA PENHA            OUTRAS   \n",
       "\n",
       "     meio_empregado_sisp   bairros       local_ocorrencia vit_idade  \\\n",
       "4484        OUTROS MEIOS  UMARIZAL  RESIDENCIA PARTICULAR      36.0   \n",
       "5553        OUTROS MEIOS  PEDREIRA  RESIDENCIA PARTICULAR      36.0   \n",
       "\n",
       "     vit_fx_etaria vit_sexo vit_cor_pele  vit_grau_inst  \\\n",
       "4484   PREJUDICADO        F        PARDA  NAO INFORMADO   \n",
       "5553   PREJUDICADO        F        PARDA  NAO INFORMADO   \n",
       "\n",
       "     grau_de_relacionamento  \\\n",
       "4484               FILHO(A)   \n",
       "5553               IRMAO(A)   \n",
       "\n",
       "                                                 relato aut_sexo  \n",
       "4484  <p>A nacional acima qualificada compareceu a e...        F  \n",
       "5553  <p>A relatora vem a esta seccional comunicar q...        M  "
      ]
     },
     "execution_count": 178,
     "metadata": {},
     "output_type": "execute_result"
    }
   ],
   "source": [
    "crimes_selecionados_belem[(crimes_selecionados_belem['vit_fx_etaria'] == 'PREJUDICADO') & (crimes_selecionados_belem['vit_idade'] == 36.0)]"
   ]
  },
  {
   "cell_type": "code",
   "execution_count": 179,
   "id": "c852549a",
   "metadata": {},
   "outputs": [],
   "source": [
    "crimes_selecionados_belem.loc[(crimes_selecionados_belem['vit_fx_etaria'] == 'PREJUDICADO') & (crimes_selecionados_belem['vit_idade'] == 36.0), 'vit_fx_etaria'] = 'ADULTO IV (35 A 64 ANOS)'"
   ]
  },
  {
   "cell_type": "code",
   "execution_count": 180,
   "id": "4a6ae1c6",
   "metadata": {},
   "outputs": [],
   "source": [
    "crimes_selecionados_belem.loc[(crimes_selecionados_belem['vit_fx_etaria'] == 'PREJUDICADO') & (crimes_selecionados_belem['vit_idade'] == 41.0), 'vit_fx_etaria'] = 'ADULTO IV (35 A 64 ANOS)'"
   ]
  },
  {
   "cell_type": "code",
   "execution_count": 181,
   "id": "f5e0a04e",
   "metadata": {},
   "outputs": [],
   "source": [
    "crimes_selecionados_belem.loc[(crimes_selecionados_belem['vit_fx_etaria'] == 'PREJUDICADO') & (crimes_selecionados_belem['vit_idade'] == 32.0), 'vit_fx_etaria'] = 'ADULTO III (30 A 34 ANOS)'"
   ]
  },
  {
   "cell_type": "code",
   "execution_count": 182,
   "id": "ac1e595c",
   "metadata": {},
   "outputs": [],
   "source": [
    "crimes_selecionados_belem.loc[(crimes_selecionados_belem['vit_fx_etaria'] == 'PREJUDICADO') & (crimes_selecionados_belem['vit_idade'] == 37.0), 'vit_fx_etaria'] = 'ADULTO IV (35 A 64 ANOS)'"
   ]
  },
  {
   "cell_type": "markdown",
   "id": "6bff6de8",
   "metadata": {},
   "source": [
    "Agora a coluna 'vit_idade' pode ser excluida "
   ]
  },
  {
   "cell_type": "code",
   "execution_count": 183,
   "id": "ed58a846",
   "metadata": {},
   "outputs": [],
   "source": [
    "crimes_selecionados_belem = crimes_selecionados_belem.drop(columns=['vit_idade'])\n",
    "crimes_selecionados_belem.reset_index(drop=True, inplace=True)"
   ]
  },
  {
   "cell_type": "code",
   "execution_count": 184,
   "id": "31c99351",
   "metadata": {},
   "outputs": [
    {
     "name": "stdout",
     "output_type": "stream",
     "text": [
      "Number of unique vit_fx_etaria: 10\n"
     ]
    },
    {
     "data": {
      "text/plain": [
       "vit_fx_etaria\n",
       "ADULTO IV (35 A 64 ANOS)      22265\n",
       "ADULTO I (18 A 24 ANOS)        7290\n",
       "ADULTO III (30 A 34 ANOS)      6700\n",
       "ADULTO II (25 A 29 ANOS)       6615\n",
       "ADOLESCENTE (12 A 17 ANOS)     1649\n",
       "IDOSO (65 ANOS OU MAIS)        1412\n",
       "CRIANCA (0 A 11 ANOS)          1193\n",
       "PREJUDICADO                     409\n",
       "NAO INFORMADO                   104\n",
       "PJ, EP E OUTROS                  12\n",
       "Name: count, dtype: int64"
      ]
     },
     "execution_count": 184,
     "metadata": {},
     "output_type": "execute_result"
    }
   ],
   "source": [
    "novo_vit_fx_etaria_unico = crimes_selecionados_belem[\"vit_fx_etaria\"].unique()\n",
    "print(\"Number of unique vit_fx_etaria:\", len(novo_vit_fx_etaria_unico))\n",
    "crimes_df.vit_fx_etaria.value_counts()"
   ]
  },
  {
   "cell_type": "markdown",
   "id": "b7486fa7",
   "metadata": {},
   "source": [
    "Como as linhas que contem 'PJ, EP E OUTROS' não são interessantes para a analise serão excluidos"
   ]
  },
  {
   "cell_type": "code",
   "execution_count": 185,
   "id": "c12ff589",
   "metadata": {},
   "outputs": [],
   "source": [
    "crimes_selecionados_belem.drop(crimes_selecionados_belem.loc[crimes_selecionados_belem['vit_fx_etaria']=='PJ, EP E OUTROS'].index, inplace=True)\n",
    "crimes_selecionados_belem.reset_index(drop=True, inplace=True)"
   ]
  },
  {
   "cell_type": "code",
   "execution_count": 186,
   "id": "2608db01",
   "metadata": {},
   "outputs": [
    {
     "name": "stdout",
     "output_type": "stream",
     "text": [
      "Number of unique vit_fx_etaria: 9\n"
     ]
    },
    {
     "data": {
      "text/plain": [
       "vit_fx_etaria\n",
       "ADULTO IV (35 A 64 ANOS)      22265\n",
       "ADULTO I (18 A 24 ANOS)        7290\n",
       "ADULTO III (30 A 34 ANOS)      6700\n",
       "ADULTO II (25 A 29 ANOS)       6615\n",
       "ADOLESCENTE (12 A 17 ANOS)     1649\n",
       "IDOSO (65 ANOS OU MAIS)        1412\n",
       "CRIANCA (0 A 11 ANOS)          1193\n",
       "PREJUDICADO                     409\n",
       "NAO INFORMADO                   104\n",
       "PJ, EP E OUTROS                  12\n",
       "Name: count, dtype: int64"
      ]
     },
     "execution_count": 186,
     "metadata": {},
     "output_type": "execute_result"
    }
   ],
   "source": [
    "novo_vit_fx_etaria_unico = crimes_selecionados_belem[\"vit_fx_etaria\"].unique()\n",
    "print(\"Number of unique vit_fx_etaria:\", len(novo_vit_fx_etaria_unico))\n",
    "crimes_df.vit_fx_etaria.value_counts()"
   ]
  },
  {
   "cell_type": "markdown",
   "id": "11e88b62",
   "metadata": {},
   "source": [
    "- meio_empregado_sisp"
   ]
  },
  {
   "cell_type": "code",
   "execution_count": 187,
   "id": "a5ef1846",
   "metadata": {},
   "outputs": [
    {
     "data": {
      "text/plain": [
       "meio_empregado_sisp\n",
       "OUTROS MEIOS                   26321\n",
       "SEM INSTRUMENTO                18482\n",
       "ARMA CORTANTE OU PERFURANTE      978\n",
       "ARMA CONTUNDENTE                 910\n",
       "ARMA PERFURO CORTANTE            360\n",
       "ARMA DE FOGO                     329\n",
       "AUTOMOVEL DE PASSEIO              71\n",
       "ONIBUS                            70\n",
       "MOTOCICLETA                       48\n",
       "AUTOMOVEL COMERCIAL               14\n",
       "FOGO                              13\n",
       "VENENO - OUTROS TIPOS              8\n",
       "WHATSAPP                           5\n",
       "CAMINHAO                           5\n",
       "BICICLETA                          5\n",
       "VENENO - CHUMBINHO                 3\n",
       "OUTROS                             3\n",
       "NAO INFORMADO                      2\n",
       "INSTAGRAM                          2\n",
       "FACEBOOK                           1\n",
       "Name: count, dtype: int64"
      ]
     },
     "execution_count": 187,
     "metadata": {},
     "output_type": "execute_result"
    }
   ],
   "source": [
    "crimes_selecionados_belem.meio_empregado_sisp.value_counts()"
   ]
  },
  {
   "cell_type": "code",
   "execution_count": 188,
   "id": "510ea50a",
   "metadata": {},
   "outputs": [],
   "source": [
    "crimes_selecionados_belem.loc[crimes_selecionados_belem.meio_empregado_sisp == \"OUTROS\",'meio_empregado_sisp'] = 'OUTROS MEIOS'"
   ]
  },
  {
   "cell_type": "code",
   "execution_count": 189,
   "id": "84b18b3e",
   "metadata": {},
   "outputs": [],
   "source": [
    "crimes_selecionados_belem.loc[crimes_selecionados_belem.meio_empregado_sisp ==\"FACEBOOK\",'meio_empregado_sisp'] = 'REDES SOCIAIS'"
   ]
  },
  {
   "cell_type": "code",
   "execution_count": 190,
   "id": "4e3c22d3",
   "metadata": {},
   "outputs": [],
   "source": [
    "crimes_selecionados_belem.loc[crimes_selecionados_belem.meio_empregado_sisp ==\"INSTAGRAM\",'meio_empregado_sisp'] = 'REDES SOCIAIS'"
   ]
  },
  {
   "cell_type": "code",
   "execution_count": 191,
   "id": "d5b39ef6",
   "metadata": {},
   "outputs": [],
   "source": [
    "crimes_selecionados_belem.loc[crimes_selecionados_belem.meio_empregado_sisp == \"WHATSAPP\",'meio_empregado_sisp'] = 'REDES SOCIAIS'"
   ]
  },
  {
   "cell_type": "code",
   "execution_count": 194,
   "id": "6b4cea52",
   "metadata": {},
   "outputs": [],
   "source": [
    "crimes_selecionados_belem.loc[crimes_selecionados_belem.meio_empregado_sisp == \"VENENO - CHUMBINHO\",'meio_empregado_sisp'] = 'VENENO'"
   ]
  },
  {
   "cell_type": "code",
   "execution_count": 195,
   "id": "4fe096d0",
   "metadata": {},
   "outputs": [],
   "source": [
    "crimes_selecionados_belem.loc[crimes_selecionados_belem.meio_empregado_sisp == \"VENENO - OUTROS TIPOS\",'meio_empregado_sisp'] = 'VENENO'"
   ]
  },
  {
   "cell_type": "code",
   "execution_count": 196,
   "id": "f20eaaaf",
   "metadata": {},
   "outputs": [],
   "source": [
    "crimes_selecionados_belem.reset_index(drop=True, inplace=True)"
   ]
  },
  {
   "cell_type": "code",
   "execution_count": 197,
   "id": "bbd76ba6",
   "metadata": {},
   "outputs": [
    {
     "data": {
      "text/plain": [
       "meio_empregado_sisp\n",
       "OUTROS MEIOS                   26324\n",
       "SEM INSTRUMENTO                18482\n",
       "ARMA CORTANTE OU PERFURANTE      978\n",
       "ARMA CONTUNDENTE                 910\n",
       "ARMA PERFURO CORTANTE            360\n",
       "ARMA DE FOGO                     329\n",
       "AUTOMOVEL DE PASSEIO              71\n",
       "ONIBUS                            70\n",
       "MOTOCICLETA                       48\n",
       "AUTOMOVEL COMERCIAL               14\n",
       "FOGO                              13\n",
       "VENENO                            11\n",
       "REDES SOCIAIS                      8\n",
       "CAMINHAO                           5\n",
       "BICICLETA                          5\n",
       "NAO INFORMADO                      2\n",
       "Name: count, dtype: int64"
      ]
     },
     "execution_count": 197,
     "metadata": {},
     "output_type": "execute_result"
    }
   ],
   "source": [
    "crimes_selecionados_belem.meio_empregado_sisp.value_counts()"
   ]
  },
  {
   "cell_type": "markdown",
   "id": "50dcc0a1",
   "metadata": {},
   "source": [
    "- causa_presumivel"
   ]
  },
  {
   "cell_type": "code",
   "execution_count": 198,
   "id": "ef5eefa8",
   "metadata": {},
   "outputs": [
    {
     "data": {
      "text/plain": [
       "causa_presumivel\n",
       "OUTRAS                                   22951\n",
       "ODIO OU VINGANCA                         15847\n",
       "IMPERICIA / IMPRUDENCIA / NEGLIGENCIA     2081\n",
       "CIUME                                     1815\n",
       "DEVASSIDAO                                1633\n",
       "ALCOOLISMO / EMBRIAGUEZ                   1423\n",
       "AMBICAO                                   1357\n",
       "ENTORPECENTES                              256\n",
       "ALIENACAO                                  117\n",
       "ACIDENTAL                                   57\n",
       "ÓDIO OU VINGANÇA                            30\n",
       "ÓDIO OU VINGANCA                            28\n",
       "LGBTFOBIA                                   14\n",
       "CIÚME                                        9\n",
       "DEVASSIDÃO                                   7\n",
       "AMBICÃO                                      4\n",
       "AMBIÇÃO                                      1\n",
       "Name: count, dtype: int64"
      ]
     },
     "execution_count": 198,
     "metadata": {},
     "output_type": "execute_result"
    }
   ],
   "source": [
    "crimes_selecionados_belem.causa_presumivel.value_counts()"
   ]
  },
  {
   "cell_type": "code",
   "execution_count": 199,
   "id": "09de935e",
   "metadata": {},
   "outputs": [],
   "source": [
    "crimes_selecionados_belem.loc[crimes_selecionados_belem.causa_presumivel == \"AMBICÃO\",'causa_presumivel'] = 'AMBIÇÃO'"
   ]
  },
  {
   "cell_type": "code",
   "execution_count": 200,
   "id": "25643c20",
   "metadata": {},
   "outputs": [],
   "source": [
    "crimes_selecionados_belem.loc[crimes_selecionados_belem.causa_presumivel == \"AMBICAO\",'causa_presumivel'] = 'AMBIÇÃO'"
   ]
  },
  {
   "cell_type": "code",
   "execution_count": 201,
   "id": "d0f5fb50",
   "metadata": {},
   "outputs": [],
   "source": [
    "crimes_selecionados_belem.loc[crimes_selecionados_belem.causa_presumivel == \"ÓDIO OU VINGANCA\",'causa_presumivel'] = 'ÓDIO OU VINGANÇA'"
   ]
  },
  {
   "cell_type": "code",
   "execution_count": 202,
   "id": "8816ac2e",
   "metadata": {},
   "outputs": [],
   "source": [
    "crimes_selecionados_belem.loc[crimes_selecionados_belem.causa_presumivel == \"ODIO OU VINGANCA\",'causa_presumivel'] = 'ÓDIO OU VINGANÇA'"
   ]
  },
  {
   "cell_type": "code",
   "execution_count": 203,
   "id": "068fdad0",
   "metadata": {},
   "outputs": [],
   "source": [
    "crimes_selecionados_belem.loc[crimes_selecionados_belem.causa_presumivel == \"CIUME\",'causa_presumivel'] = 'CIÚME'"
   ]
  },
  {
   "cell_type": "code",
   "execution_count": 204,
   "id": "aba6bd9f",
   "metadata": {},
   "outputs": [],
   "source": [
    "crimes_selecionados_belem.loc[crimes_selecionados_belem.causa_presumivel == \"DEVASSIDAO\",'causa_presumivel'] = 'DEVASSIDÃO'"
   ]
  },
  {
   "cell_type": "code",
   "execution_count": 205,
   "id": "e6459422",
   "metadata": {},
   "outputs": [],
   "source": [
    "crimes_selecionados_belem.reset_index(drop=True, inplace=True)"
   ]
  },
  {
   "cell_type": "code",
   "execution_count": 206,
   "id": "91e0ca38",
   "metadata": {},
   "outputs": [
    {
     "data": {
      "text/plain": [
       "causa_presumivel\n",
       "OUTRAS                                   22951\n",
       "ÓDIO OU VINGANÇA                         15905\n",
       "IMPERICIA / IMPRUDENCIA / NEGLIGENCIA     2081\n",
       "CIÚME                                     1824\n",
       "DEVASSIDÃO                                1640\n",
       "ALCOOLISMO / EMBRIAGUEZ                   1423\n",
       "AMBIÇÃO                                   1362\n",
       "ENTORPECENTES                              256\n",
       "ALIENACAO                                  117\n",
       "ACIDENTAL                                   57\n",
       "LGBTFOBIA                                   14\n",
       "Name: count, dtype: int64"
      ]
     },
     "execution_count": 206,
     "metadata": {},
     "output_type": "execute_result"
    }
   ],
   "source": [
    "crimes_selecionados_belem.causa_presumivel.value_counts()"
   ]
  },
  {
   "cell_type": "markdown",
   "id": "1bbf77c4",
   "metadata": {},
   "source": [
    "- fx_4_hor"
   ]
  },
  {
   "cell_type": "code",
   "execution_count": 208,
   "id": "f09fe323",
   "metadata": {},
   "outputs": [
    {
     "data": {
      "text/plain": [
       "fx_4_hor\n",
       "18 |-- 24    15714\n",
       "12 |-- 18    14006\n",
       "06 |-- 12    13300\n",
       "00 |-- 06     4610\n",
       "Name: count, dtype: int64"
      ]
     },
     "execution_count": 208,
     "metadata": {},
     "output_type": "execute_result"
    }
   ],
   "source": [
    "crimes_selecionados_belem.fx_4_hor.value_counts()"
   ]
  },
  {
   "cell_type": "markdown",
   "id": "4a15691c",
   "metadata": {},
   "source": [
    "* **unidade_origem**"
   ]
  },
  {
   "cell_type": "markdown",
   "id": "eea85255",
   "metadata": {},
   "source": [
    "Com o objetivo de padronizar a coluna 'unidade_origem', garantindo a uniformidade das delegacias de atendimento especializado à mulher, serão realizados ajustes para assegurar a consistência e padronização dos dados referentes a essas unidades."
   ]
  },
  {
   "cell_type": "code",
   "execution_count": 215,
   "id": "5cdf1450",
   "metadata": {},
   "outputs": [
    {
     "name": "stdout",
     "output_type": "stream",
     "text": [
      "Numero de valores unicos em unidade_origem: 109\n"
     ]
    },
    {
     "data": {
      "text/plain": [
       "array(['TERRA FIRME - UNIDADE INTEGRADA PROPAZ - 1ª RISP - 6ª AISP',\n",
       "       'SAO BRAS - 2º SECCIONAL -1º RISP- 2ª AISP',\n",
       "       'DELEGACIA ESPECIALIZADA NO ATENDIMENTO A MULHER - DEAM',\n",
       "       'CIDADE NOVA - 3ª SECCIONAL - 2ª RISP - 18ª AISP',\n",
       "       'ICOARACI - 8ª SECCIONAL - 1ª RISP - 11ª, 12ª E 13ª AISP',\n",
       "       'CABANAGEM - DELEGACIA DE POLICIA - 1ª RISP - 10ª AISP',\n",
       "       'CREMACAO - 4ª SECCIONAL - 1ª RISP- 3ª AISP',\n",
       "       'PEDREIRA - 10ª SECCIONAL - 1ª RISP - 8ª AISP',\n",
       "       'ICOARACI - 8ª SECCIONAL - 1ª RISP - 11ª, 12ª E 13ª AISP ',\n",
       "       'MARAMBAIA - 5ª SECCIONAL - 1ª RISP - 9ª AISP',\n",
       "       'OUTEIRO - DELEGACIA DE POLICIA - 1ª RISP - 14ª AISP',\n",
       "       'DIVISAO DE HOMICIDIOS',\n",
       "       'MARCO - DELEGACIA DE POLICIA - 1ª RISP - 8ª AISP',\n",
       "       'SACRAMENTA - 1ª SECCIONAL - 1ª RISP - 7ª AISP',\n",
       "       'GUANABARA - DELEGACIA DE POLICIA - 2ª RISP - 17ª AISP',\n",
       "       'DEACA-PROPAZ INTEGRADO-CPC RENATO CHAVES-504',\n",
       "       'GUAMA - 11ª SECCIONAL - 1ª RISP - 5ª AISP',\n",
       "       'TENONE UNIDADE INTEGRADA PROPAZ - 1ª RISP - 13ª AISP',\n",
       "       'TAPANA - UNIDADE INTEGRADA PROPAZ - 1ª RISP - 11ª AISP',\n",
       "       'MOSQUEIRO - 9ª SECCIONAL - 1ª RISP- 15ª E 16ª AISP',\n",
       "       'DIVISAO DE PREVENCAO E REPRESSAO A CRIMES TECNOLOGICOS',\n",
       "       'DEL.VIRTUAL - 277',\n",
       "       'JURUNAS - DELEGACIA DE POLICIA - 1ª RISP - 4ª AISP',\n",
       "       'DELEGACIA DE ATENDIMENTO A CRIANCA E AO ADOLESCENTE - DEACA',\n",
       "       'DELEGACIA DE ATENDIMENTO AO ADOLESCENTE INFRATOR - DATA',\n",
       "       'DEACA - PROPAZ INTEGRADO - SANTA CASA DE MISERICORDIA - 433',\n",
       "       'COMERCIO - 6ª SECCIONAL - 1ª RISP - 1ª AISP',\n",
       "       'BENGUI - DELEGACIA DE POLICIA - 1ª RISP - 10ª AISP',\n",
       "       'JADERLANDIA/CASTANHAL - 12ª SECCIONAL - 3ª RISP',\n",
       "       'CURUCA - DELEGACIA DE POLICIA - 3ª RISP',\n",
       "       'DELEGACIA DE CONTROLE DE CRIMES VIOLENTOS - METROPOLITANO',\n",
       "       'AEROPORTO - DELEGACIA DE POLICIA - 1ª RISP - 7ª AISP',\n",
       "       'BENEVIDES - DELEGACIA DE POLICIA -  2º RISP - 23ª AISP',\n",
       "       'DELEGACIA DE PROTECAO AO IDOSO',\n",
       "       'DELEGACIA GERAL DE POLICIA CIVIL',\n",
       "       'CORREGEDORIA DIVISAO DE CRIMES FUNCIONAIS',\n",
       "       'SANTA IZABEL DO PARA - DELEGACIA DE POLICIA - 3ª RISP',\n",
       "       'DELEGACIA ESPECIALIZADA NO ATENDIMENTO A CRIANCA E AO ADOLESCENTE - DEACA ANANINDEUA - 2ª RISP',\n",
       "       'DELEGACIA DE ORDEM ADMINISTRATIVA - DIOE',\n",
       "       'JADERLANDIA - DELEGACIA DE POLICIA - 2ª RISP - 17ª AISP',\n",
       "       'DELEGACIA DE PROTECAO A CRIANCA E ADOLESCENTE - DATA',\n",
       "       'DELEGACIA DE CONTROLE DE CRIMES VIOLENTOS - PSM',\n",
       "       'DELEGACIA DE HOMICIDIOS DE ICOARACI - 1ª RISP',\n",
       "       'DIVISAO DE ATENDIMENTO AO ADOLESCENTE - DATA',\n",
       "       'AURA - DELEGACIA DE POLICIA - 2ª RISP - 19ª AISP',\n",
       "       'PARAGOMINAS - 13ª SECCIONAL - 7ª RISP',\n",
       "       'DIVISAO DE ATENDIMENTO AO ADOLESCENTE - DATA  ANANINDEUA - 2ª RISP',\n",
       "       'RONDON DO PARA - DELEGACIA DE POLICIA - 10ª RISP',\n",
       "       'DELEGACIA ESPECIALIZADA NO ATENDIMENTO A CRIANCA E ADOLESCENTE - CASTANHAL - 3ª RISP',\n",
       "       'ICUI-GUAJARA - UNIDADE INTEGRADA PROPAZ - 2ª RISP - 18ª AISP',\n",
       "       'DELEGACIA DE REPRESSAO A ROUBOS E FURTOS DE VEICULOS AUTOMOTORES - DRCO',\n",
       "       'DISTRITO INDUSTRIAL - UNIDADE INTEGRADA PROPAZ -2º RISP - 20ª AISP',\n",
       "       'IRITUIA - DELEGACIA DE POLICIA - 3ª RISP',\n",
       "       'ATALAIA - DELEGACIA DE POLICIA - 2ª RISP - 17ª AISP',\n",
       "       'JULIA SEFFER - UNID.POLICIAL 341- 2º RISP-19ª AISP',\n",
       "       'ANANINDEUA - SECCIONAL - 2ª RISP - 20ª AISP',\n",
       "       'PAAR - 7ª SECCIONAL - 2ª RISP - 21ª AISP',\n",
       "       'CAMETA - DELEGACIA DE POLICIA - 4ª RISP',\n",
       "       'CAPANEMA - DELEGACIA DE POLICIA -  6ª RISP',\n",
       "       'JULIA SEFFER - DELEGACIA DE POLICIA - 2ª RISP - 19ª AISP',\n",
       "       'DELEGACIA DE ORDEM SOCIAL - DIOE',\n",
       "       'DELEGACIA DE REPRESSAO A CRIMES CONTRA A FAUNA E FLORA - DEMA',\n",
       "       'DELEGACIA DE COMBATE AOS CRIMES DISCRIMINATORIOS E HOMOFOBICOS',\n",
       "       'MARITUBA - SECCIONAL -  2º RISP- 22ª AISP',\n",
       "       'DELEGACIA DE COMBATE AOS CRIMES CONTRA CONCESSIONARIAS DE SERVICOS PUBLICOS - DIOE',\n",
       "       'DIRETORIA DE POLICIA METROPOLITANA',\n",
       "       'DIVISAO DE REPRESSAO A FURTOS E ROUBOS',\n",
       "       'BRAGANCA - DELEGACIA DE POLICIA - 6ª RISP',\n",
       "       'SAO BRAS - 2º SECC.2 -1º RISP- 2ª AISP',\n",
       "       'MUANA - DELEGACIA DE POLICIA - 5ª RISP',\n",
       "       'MARITUBA - SECCIONAL - 2º RISP- 22ª AISP',\n",
       "       'DIVISAO DE REPRESSAO AO CRIME ORGANIZADO',\n",
       "       'DELEGACIA ESPECIALIZADA EM INVESTIGACAO DE ESTELIONATO E OUTRAS FRAUDES - DIOE',\n",
       "       'DRCO-DEL.POL.FLUVIAL 340-1º RISP- 8ª AISP',\n",
       "       'SECAO DE INTELIGENCIA DA DIRETORIA DE ATENDIMENTO A VULNERAVEIS-DAV',\n",
       "       'DELEGACIA DO CONSUMIDOR - DIOE',\n",
       "       'QUATRO BOCAS - DELEGACIA DE POLICIA - 3ª RISP',\n",
       "       'TRACUATEUA - DELEGACIA DE POLICIA - 6ª RISP',\n",
       "       'MOJU - DELEGACIA DE POLICIA - 4ª RISP',\n",
       "       'AUGUSTO CORREA - DELEGACIA DE POLICIA - 6ª RISP',\n",
       "       'SALINOPOLIS - DELEGACIA DE POLICIA - 6ª RISP',\n",
       "       'ICOARACI - 8ª SECCIONAL - 1ª RISP - 11ª  12ª  E 13ª AISP ',\n",
       "       'BARCARENA - DEACA/PROPAZ',\n",
       "       'SANTA LUZIA DO PARA - DELEGACIA DE POLICIA - 6ª RISP',\n",
       "       'DELEGACIA ESPECIALIZADA NO ATENDIMENTO A CRIANCA E AO ADOLESCENTE - DEACA TUCURUI - 9ª RISP',\n",
       "       'ICOARACI - 8ª SECCIONAL - 1ª RISP - 11ª  12ª  E 13ª AISP',\n",
       "       'DIVISAO DE COMBATE A CRIMES CONTRA GRUPOS VULNERAVEIS PRATICADOS POR MEIOS CIBERNETICOS',\n",
       "       'SAO JOAO DA PONTA - DELEGACIA DE POLICIA - 3ª RISP',\n",
       "       'BENFICA-UIPP MURINIM 94-2º RISP-23ª AISP',\n",
       "       'DIVISAO DE REPRESSAO A CORRUPCAO E AO DESVIO DE RECURSOS PUBLICOS',\n",
       "       'ATENDIMENTO ESPECIALIZADO A MULHER - SALA LILAS - MARITUBA - 2ª RISP',\n",
       "       'DIVISAO DE COMBATE A CRIMES CONTRA DIREITOS INDIVIDUAIS POR MEIOS CIBERNETICOS',\n",
       "       'DELEGACIA DE HOMICIDIOS DE AGENTES PUBLICOS',\n",
       "       'DIVISAO ESTADUAL DE NARCOTICOS',\n",
       "       'DIVISAO DE COMBATE A CRIMES ECONOMICOS E PATRIMONIAIS PRATICADOS POR MEIOS CIBERNETICOS',\n",
       "       'DELEGACIA DE POLICIA FLUVIAL',\n",
       "       'DELEGACIA DE REPRESSAO A POLUICAO E OUTROS CRIMES AMBIENTAIS - DEMA',\n",
       "       'GOIANESIA DO PARA - DELEGACIA DE POLICIA - 9ª RISP',\n",
       "       'DELEGACIA DE HOMICIDIOS METROPOLITANA - 2ª RISP',\n",
       "       'SUPERINTENDENCIA DA REGIAO METROPOLITANA - 2ª RISP METROPOLITANA BELEM',\n",
       "       'IGARAPE  MIRI - DELEGACIA DE POLICIA - 4ª RISP',\n",
       "       'DIVISAO DE INVESTIGACOES E OPERACOES ESPECIAIS',\n",
       "       'PEIXE BOI - DELEGACIA DE POLICIA - 6ª RISP',\n",
       "       'NOVA REPUBLICA - DELEGACIA DE POLICIA - 12ª RISP',\n",
       "       'MOCAJUBA - DELEGACIA DE POLICIA - 4ª RISP',\n",
       "       'TOME ACU - DELEGACIA DE POLICIA - 3ª RISP',\n",
       "       'NOVO PROGRESSO - UNIDADE POLICIAL 104',\n",
       "       'OEIRAS DO PARA - DELEGACIA DE POLICIA - 4ª RISP', 'Nao informado'],\n",
       "      dtype=object)"
      ]
     },
     "execution_count": 215,
     "metadata": {},
     "output_type": "execute_result"
    }
   ],
   "source": [
    "unidade_origem_unico = crimes_selecionados_belem[\"unidade_origem\"].unique()\n",
    "print(\"Numero de valores unicos em unidade_origem:\", len(unidade_origem_unico))\n",
    "crimes_selecionados_belem[\"unidade_origem\"].unique()"
   ]
  },
  {
   "cell_type": "code",
   "execution_count": 210,
   "id": "c7c610d0",
   "metadata": {},
   "outputs": [
    {
     "data": {
      "text/plain": [
       "array(['DIVISAO ESPECIALIZADA NO ATENDIMENTO A MULHER - DEAM',\n",
       "       'DELEGACIA ESPECIALIZADA NO ATENDIMENTO A MULHER - DEAM ANANINDEUA - 2ª RISP',\n",
       "       'DEAM - DEL.VIRTUAL DA MULHER 294-1º RISP- 8ª AISP',\n",
       "       'DELEGACIA ESPECIALIZADA NO  ATENDIMENTO A MULHER - DEAM CAPANEMA - 6ª RISP CAETE',\n",
       "       'DEAM - BELEM 35 - 1º RISP- 8ª AISP',\n",
       "       'DELEGACIA ESPECIALIZADA NO ATENDIMENTO A MULHER - DEAM PARAUAPEBAS - 10ª RISP CARAJAS',\n",
       "       'DELEGACIA ESPECIALIZADA NO ATENDIMENTO A MULHER - DEAM MARABA - 10ª RISP CARAJAS',\n",
       "       'DELEGACIA ESPECIALIZADA NO ATENDIMENTO A MULHER - DEAM CASTANHAL - 3ª RISP GUAMA',\n",
       "       'DELEGACIA ESPECIALIZADA NO ATENDIMENTO A MULHER - DEAM CAPANEMA - 6ª RISP CAETE',\n",
       "       'DELEGACIA ESPECIALIZADA NO ATENDIMENTO A MULHER - DEAM ABAETETUBA - 4ª RISP TOCANTINS',\n",
       "       'DELEGACIA ESPECIALIZADA NO ATENDIMENTO A MULHER - DEAM SANTAREM - 12ª RISP BAIXO AMAZONAS'],\n",
       "      dtype=object)"
      ]
     },
     "execution_count": 210,
     "metadata": {},
     "output_type": "execute_result"
    }
   ],
   "source": [
    "unidades_com_deam = crimes_selecionados_belem[crimes_selecionados_belem['unidade_origem'].str.contains('deam', case=False)]['unidade_origem'].unique()\n",
    "unidades_com_deam"
   ]
  },
  {
   "cell_type": "markdown",
   "id": "a482f688",
   "metadata": {},
   "source": [
    "Todas as unidades da DEAM serão padronizadas para 'DELEGACIA ESPECIALIZADA NO ATENDIMENTO A MULHER - DEAM'"
   ]
  },
  {
   "cell_type": "code",
   "execution_count": 211,
   "id": "ea015e40",
   "metadata": {},
   "outputs": [],
   "source": [
    "crimes_selecionados_belem.loc[crimes_selecionados_belem['unidade_origem'].isin(['DIVISAO ESPECIALIZADA NO ATENDIMENTO A MULHER - DEAM','DELEGACIA ESPECIALIZADA NO ATENDIMENTO A MULHER - DEAM ANANINDEUA - 2ª RISP','DEAM - DEL.VIRTUAL DA MULHER 294-1º RISP- 8ª AISP','DELEGACIA ESPECIALIZADA NO  ATENDIMENTO A MULHER - DEAM CAPANEMA - 6ª RISP CAETE','DEAM - BELEM 35 - 1º RISP- 8ª AISP','DELEGACIA ESPECIALIZADA NO ATENDIMENTO A MULHER - DEAM PARAUAPEBAS - 10ª RISP CARAJAS','DELEGACIA ESPECIALIZADA NO ATENDIMENTO A MULHER - DEAM MARABA - 10ª RISP CARAJAS','DELEGACIA ESPECIALIZADA NO ATENDIMENTO A MULHER - DEAM CASTANHAL - 3ª RISP GUAMA','DELEGACIA ESPECIALIZADA NO ATENDIMENTO A MULHER - DEAM CAPANEMA - 6ª RISP CAETE','DELEGACIA ESPECIALIZADA NO ATENDIMENTO A MULHER - DEAM ABAETETUBA - 4ª RISP TOCANTINS','DELEGACIA ESPECIALIZADA NO ATENDIMENTO A MULHER - DEAM SANTAREM - 12ª RISP BAIXO AMAZONAS']), 'unidade_origem'] = 'DELEGACIA ESPECIALIZADA NO ATENDIMENTO A MULHER - DEAM'"
   ]
  },
  {
   "cell_type": "code",
   "execution_count": 212,
   "id": "797057b5",
   "metadata": {},
   "outputs": [],
   "source": [
    "crimes_selecionados_belem.reset_index(drop=True, inplace=True)"
   ]
  },
  {
   "cell_type": "code",
   "execution_count": 213,
   "id": "cb948dca",
   "metadata": {},
   "outputs": [
    {
     "data": {
      "text/plain": [
       "array(['DELEGACIA ESPECIALIZADA NO ATENDIMENTO A MULHER - DEAM'],\n",
       "      dtype=object)"
      ]
     },
     "execution_count": 213,
     "metadata": {},
     "output_type": "execute_result"
    }
   ],
   "source": [
    "unidades_com_deam = crimes_selecionados_belem[crimes_selecionados_belem['unidade_origem'].str.contains('deam', case=False)]['unidade_origem'].unique()\n",
    "unidades_com_deam"
   ]
  },
  {
   "cell_type": "code",
   "execution_count": 214,
   "id": "aaca7768",
   "metadata": {},
   "outputs": [
    {
     "name": "stdout",
     "output_type": "stream",
     "text": [
      "Numero de valores unicos em unidade_origem: 109\n"
     ]
    },
    {
     "data": {
      "text/plain": [
       "array(['TERRA FIRME - UNIDADE INTEGRADA PROPAZ - 1ª RISP - 6ª AISP',\n",
       "       'SAO BRAS - 2º SECCIONAL -1º RISP- 2ª AISP',\n",
       "       'DELEGACIA ESPECIALIZADA NO ATENDIMENTO A MULHER - DEAM',\n",
       "       'CIDADE NOVA - 3ª SECCIONAL - 2ª RISP - 18ª AISP',\n",
       "       'ICOARACI - 8ª SECCIONAL - 1ª RISP - 11ª, 12ª E 13ª AISP',\n",
       "       'CABANAGEM - DELEGACIA DE POLICIA - 1ª RISP - 10ª AISP',\n",
       "       'CREMACAO - 4ª SECCIONAL - 1ª RISP- 3ª AISP',\n",
       "       'PEDREIRA - 10ª SECCIONAL - 1ª RISP - 8ª AISP',\n",
       "       'ICOARACI - 8ª SECCIONAL - 1ª RISP - 11ª, 12ª E 13ª AISP ',\n",
       "       'MARAMBAIA - 5ª SECCIONAL - 1ª RISP - 9ª AISP',\n",
       "       'OUTEIRO - DELEGACIA DE POLICIA - 1ª RISP - 14ª AISP',\n",
       "       'DIVISAO DE HOMICIDIOS',\n",
       "       'MARCO - DELEGACIA DE POLICIA - 1ª RISP - 8ª AISP',\n",
       "       'SACRAMENTA - 1ª SECCIONAL - 1ª RISP - 7ª AISP',\n",
       "       'GUANABARA - DELEGACIA DE POLICIA - 2ª RISP - 17ª AISP',\n",
       "       'DEACA-PROPAZ INTEGRADO-CPC RENATO CHAVES-504',\n",
       "       'GUAMA - 11ª SECCIONAL - 1ª RISP - 5ª AISP',\n",
       "       'TENONE UNIDADE INTEGRADA PROPAZ - 1ª RISP - 13ª AISP',\n",
       "       'TAPANA - UNIDADE INTEGRADA PROPAZ - 1ª RISP - 11ª AISP',\n",
       "       'MOSQUEIRO - 9ª SECCIONAL - 1ª RISP- 15ª E 16ª AISP',\n",
       "       'DIVISAO DE PREVENCAO E REPRESSAO A CRIMES TECNOLOGICOS',\n",
       "       'DEL.VIRTUAL - 277',\n",
       "       'JURUNAS - DELEGACIA DE POLICIA - 1ª RISP - 4ª AISP',\n",
       "       'DELEGACIA DE ATENDIMENTO A CRIANCA E AO ADOLESCENTE - DEACA',\n",
       "       'DELEGACIA DE ATENDIMENTO AO ADOLESCENTE INFRATOR - DATA',\n",
       "       'DEACA - PROPAZ INTEGRADO - SANTA CASA DE MISERICORDIA - 433',\n",
       "       'COMERCIO - 6ª SECCIONAL - 1ª RISP - 1ª AISP',\n",
       "       'BENGUI - DELEGACIA DE POLICIA - 1ª RISP - 10ª AISP',\n",
       "       'JADERLANDIA/CASTANHAL - 12ª SECCIONAL - 3ª RISP',\n",
       "       'CURUCA - DELEGACIA DE POLICIA - 3ª RISP',\n",
       "       'DELEGACIA DE CONTROLE DE CRIMES VIOLENTOS - METROPOLITANO',\n",
       "       'AEROPORTO - DELEGACIA DE POLICIA - 1ª RISP - 7ª AISP',\n",
       "       'BENEVIDES - DELEGACIA DE POLICIA -  2º RISP - 23ª AISP',\n",
       "       'DELEGACIA DE PROTECAO AO IDOSO',\n",
       "       'DELEGACIA GERAL DE POLICIA CIVIL',\n",
       "       'CORREGEDORIA DIVISAO DE CRIMES FUNCIONAIS',\n",
       "       'SANTA IZABEL DO PARA - DELEGACIA DE POLICIA - 3ª RISP',\n",
       "       'DELEGACIA ESPECIALIZADA NO ATENDIMENTO A CRIANCA E AO ADOLESCENTE - DEACA ANANINDEUA - 2ª RISP',\n",
       "       'DELEGACIA DE ORDEM ADMINISTRATIVA - DIOE',\n",
       "       'JADERLANDIA - DELEGACIA DE POLICIA - 2ª RISP - 17ª AISP',\n",
       "       'DELEGACIA DE PROTECAO A CRIANCA E ADOLESCENTE - DATA',\n",
       "       'DELEGACIA DE CONTROLE DE CRIMES VIOLENTOS - PSM',\n",
       "       'DELEGACIA DE HOMICIDIOS DE ICOARACI - 1ª RISP',\n",
       "       'DIVISAO DE ATENDIMENTO AO ADOLESCENTE - DATA',\n",
       "       'AURA - DELEGACIA DE POLICIA - 2ª RISP - 19ª AISP',\n",
       "       'PARAGOMINAS - 13ª SECCIONAL - 7ª RISP',\n",
       "       'DIVISAO DE ATENDIMENTO AO ADOLESCENTE - DATA  ANANINDEUA - 2ª RISP',\n",
       "       'RONDON DO PARA - DELEGACIA DE POLICIA - 10ª RISP',\n",
       "       'DELEGACIA ESPECIALIZADA NO ATENDIMENTO A CRIANCA E ADOLESCENTE - CASTANHAL - 3ª RISP',\n",
       "       'ICUI-GUAJARA - UNIDADE INTEGRADA PROPAZ - 2ª RISP - 18ª AISP',\n",
       "       'DELEGACIA DE REPRESSAO A ROUBOS E FURTOS DE VEICULOS AUTOMOTORES - DRCO',\n",
       "       'DISTRITO INDUSTRIAL - UNIDADE INTEGRADA PROPAZ -2º RISP - 20ª AISP',\n",
       "       'IRITUIA - DELEGACIA DE POLICIA - 3ª RISP',\n",
       "       'ATALAIA - DELEGACIA DE POLICIA - 2ª RISP - 17ª AISP',\n",
       "       'JULIA SEFFER - UNID.POLICIAL 341- 2º RISP-19ª AISP',\n",
       "       'ANANINDEUA - SECCIONAL - 2ª RISP - 20ª AISP',\n",
       "       'PAAR - 7ª SECCIONAL - 2ª RISP - 21ª AISP',\n",
       "       'CAMETA - DELEGACIA DE POLICIA - 4ª RISP',\n",
       "       'CAPANEMA - DELEGACIA DE POLICIA -  6ª RISP',\n",
       "       'JULIA SEFFER - DELEGACIA DE POLICIA - 2ª RISP - 19ª AISP',\n",
       "       'DELEGACIA DE ORDEM SOCIAL - DIOE',\n",
       "       'DELEGACIA DE REPRESSAO A CRIMES CONTRA A FAUNA E FLORA - DEMA',\n",
       "       'DELEGACIA DE COMBATE AOS CRIMES DISCRIMINATORIOS E HOMOFOBICOS',\n",
       "       'MARITUBA - SECCIONAL -  2º RISP- 22ª AISP',\n",
       "       'DELEGACIA DE COMBATE AOS CRIMES CONTRA CONCESSIONARIAS DE SERVICOS PUBLICOS - DIOE',\n",
       "       'DIRETORIA DE POLICIA METROPOLITANA',\n",
       "       'DIVISAO DE REPRESSAO A FURTOS E ROUBOS',\n",
       "       'BRAGANCA - DELEGACIA DE POLICIA - 6ª RISP',\n",
       "       'SAO BRAS - 2º SECC.2 -1º RISP- 2ª AISP',\n",
       "       'MUANA - DELEGACIA DE POLICIA - 5ª RISP',\n",
       "       'MARITUBA - SECCIONAL - 2º RISP- 22ª AISP',\n",
       "       'DIVISAO DE REPRESSAO AO CRIME ORGANIZADO',\n",
       "       'DELEGACIA ESPECIALIZADA EM INVESTIGACAO DE ESTELIONATO E OUTRAS FRAUDES - DIOE',\n",
       "       'DRCO-DEL.POL.FLUVIAL 340-1º RISP- 8ª AISP',\n",
       "       'SECAO DE INTELIGENCIA DA DIRETORIA DE ATENDIMENTO A VULNERAVEIS-DAV',\n",
       "       'DELEGACIA DO CONSUMIDOR - DIOE',\n",
       "       'QUATRO BOCAS - DELEGACIA DE POLICIA - 3ª RISP',\n",
       "       'TRACUATEUA - DELEGACIA DE POLICIA - 6ª RISP',\n",
       "       'MOJU - DELEGACIA DE POLICIA - 4ª RISP',\n",
       "       'AUGUSTO CORREA - DELEGACIA DE POLICIA - 6ª RISP',\n",
       "       'SALINOPOLIS - DELEGACIA DE POLICIA - 6ª RISP',\n",
       "       'ICOARACI - 8ª SECCIONAL - 1ª RISP - 11ª  12ª  E 13ª AISP ',\n",
       "       'BARCARENA - DEACA/PROPAZ',\n",
       "       'SANTA LUZIA DO PARA - DELEGACIA DE POLICIA - 6ª RISP',\n",
       "       'DELEGACIA ESPECIALIZADA NO ATENDIMENTO A CRIANCA E AO ADOLESCENTE - DEACA TUCURUI - 9ª RISP',\n",
       "       'ICOARACI - 8ª SECCIONAL - 1ª RISP - 11ª  12ª  E 13ª AISP',\n",
       "       'DIVISAO DE COMBATE A CRIMES CONTRA GRUPOS VULNERAVEIS PRATICADOS POR MEIOS CIBERNETICOS',\n",
       "       'SAO JOAO DA PONTA - DELEGACIA DE POLICIA - 3ª RISP',\n",
       "       'BENFICA-UIPP MURINIM 94-2º RISP-23ª AISP',\n",
       "       'DIVISAO DE REPRESSAO A CORRUPCAO E AO DESVIO DE RECURSOS PUBLICOS',\n",
       "       'ATENDIMENTO ESPECIALIZADO A MULHER - SALA LILAS - MARITUBA - 2ª RISP',\n",
       "       'DIVISAO DE COMBATE A CRIMES CONTRA DIREITOS INDIVIDUAIS POR MEIOS CIBERNETICOS',\n",
       "       'DELEGACIA DE HOMICIDIOS DE AGENTES PUBLICOS',\n",
       "       'DIVISAO ESTADUAL DE NARCOTICOS',\n",
       "       'DIVISAO DE COMBATE A CRIMES ECONOMICOS E PATRIMONIAIS PRATICADOS POR MEIOS CIBERNETICOS',\n",
       "       'DELEGACIA DE POLICIA FLUVIAL',\n",
       "       'DELEGACIA DE REPRESSAO A POLUICAO E OUTROS CRIMES AMBIENTAIS - DEMA',\n",
       "       'GOIANESIA DO PARA - DELEGACIA DE POLICIA - 9ª RISP',\n",
       "       'DELEGACIA DE HOMICIDIOS METROPOLITANA - 2ª RISP',\n",
       "       'SUPERINTENDENCIA DA REGIAO METROPOLITANA - 2ª RISP METROPOLITANA BELEM',\n",
       "       'IGARAPE  MIRI - DELEGACIA DE POLICIA - 4ª RISP',\n",
       "       'DIVISAO DE INVESTIGACOES E OPERACOES ESPECIAIS',\n",
       "       'PEIXE BOI - DELEGACIA DE POLICIA - 6ª RISP',\n",
       "       'NOVA REPUBLICA - DELEGACIA DE POLICIA - 12ª RISP',\n",
       "       'MOCAJUBA - DELEGACIA DE POLICIA - 4ª RISP',\n",
       "       'TOME ACU - DELEGACIA DE POLICIA - 3ª RISP',\n",
       "       'NOVO PROGRESSO - UNIDADE POLICIAL 104',\n",
       "       'OEIRAS DO PARA - DELEGACIA DE POLICIA - 4ª RISP', 'Nao informado'],\n",
       "      dtype=object)"
      ]
     },
     "execution_count": 214,
     "metadata": {},
     "output_type": "execute_result"
    }
   ],
   "source": [
    "unidade_origem_unico = crimes_selecionados_belem[\"unidade_origem\"].unique()\n",
    "print(\"Numero de valores unicos em unidade_origem:\", len(unidade_origem_unico))\n",
    "crimes_selecionados_belem[\"unidade_origem\"].unique()"
   ]
  },
  {
   "cell_type": "markdown",
   "id": "0af00c59",
   "metadata": {},
   "source": [
    "* **unidade_responsavel**"
   ]
  },
  {
   "cell_type": "code",
   "execution_count": 216,
   "id": "07e07a6f",
   "metadata": {},
   "outputs": [
    {
     "name": "stdout",
     "output_type": "stream",
     "text": [
      "Numero de valores unicos em unidade_ressponsavel: 121\n"
     ]
    },
    {
     "data": {
      "text/plain": [
       "array(['TERRA FIRME - UNIDADE INTEGRADA PROPAZ - 1ª RISP - 6ª AISP',\n",
       "       'PEDREIRA - 10ª SECCIONAL - 1ª RISP - 8ª AISP',\n",
       "       'DIVISAO ESPECIALIZADA NO ATENDIMENTO A MULHER - DEAM',\n",
       "       'DELEGACIA ESPECIALIZADA NO ATENDIMENTO A MULHER - DEAM ANANINDEUA - 2ª RISP',\n",
       "       'SACRAMENTA - 1ª SECCIONAL - 1ª RISP - 7ª AISP',\n",
       "       'ICOARACI - 8ª SECCIONAL - 1ª RISP - 11ª, 12ª E 13ª AISP',\n",
       "       'CABANAGEM - DELEGACIA DE POLICIA - 1ª RISP - 10ª AISP',\n",
       "       'CREMACAO - 4ª SECCIONAL - 1ª RISP- 3ª AISP',\n",
       "       'TAPANA - UNIDADE INTEGRADA PROPAZ - 1ª RISP - 11ª AISP',\n",
       "       'COMERCIO - 6ª SECCIONAL - 1ª RISP - 1ª AISP',\n",
       "       'MARAMBAIA - 5ª SECCIONAL - 1ª RISP - 9ª AISP',\n",
       "       'ICOARACI - 8ª SECCIONAL - 1ª RISP - 11ª, 12ª E 13ª AISP ',\n",
       "       'OUTEIRO - DELEGACIA DE POLICIA - 1ª RISP - 14ª AISP',\n",
       "       'DIVISAO DE HOMICIDIOS',\n",
       "       'MARCO - DELEGACIA DE POLICIA - 1ª RISP - 8ª AISP',\n",
       "       'BENGUI - DELEGACIA DE POLICIA - 1ª RISP - 10ª AISP',\n",
       "       'DEACA-PROPAZ INTEGRADO-CPC RENATO CHAVES-504',\n",
       "       'GUAMA - 11ª SECCIONAL - 1ª RISP - 5ª AISP',\n",
       "       'TENONE UNIDADE INTEGRADA PROPAZ - 1ª RISP - 13ª AISP',\n",
       "       'MOSQUEIRO - 9ª SECCIONAL - 1ª RISP- 15ª E 16ª AISP',\n",
       "       'DIVISAO DE PREVENCAO E REPRESSAO A CRIMES TECNOLOGICOS',\n",
       "       'SAO BRAS - PATRIMONIO 228 - 1º RISP- 2ª AISP',\n",
       "       'JURUNAS - DELEGACIA DE POLICIA - 1ª RISP - 4ª AISP',\n",
       "       'DELEGACIA DE ATENDIMENTO A CRIANCA E AO ADOLESCENTE - DEACA',\n",
       "       'SACRAMENTA - PATRIMONIO 240 - 1º RISP- 7ª AISP',\n",
       "       'DELEGACIA DE ATENDIMENTO AO ADOLESCENTE INFRATOR - DATA',\n",
       "       'DEACA - PROPAZ INTEGRADO - SANTA CASA DE MISERICORDIA - 433',\n",
       "       'DEAM - DEL.VIRTUAL DA MULHER 294-1º RISP- 8ª AISP',\n",
       "       'SAO BRAS - 2º SECCIONAL -1º RISP- 2ª AISP',\n",
       "       'CURUCA - DELEGACIA DE POLICIA - 3ª RISP',\n",
       "       'DELEGACIA ESPECIALIZADA NO  ATENDIMENTO A MULHER - DEAM CAPANEMA - 6ª RISP CAETE',\n",
       "       'DELEGACIA DE PROTECAO AO IDOSO',\n",
       "       'DEAM - BELEM 35 - 1º RISP- 8ª AISP',\n",
       "       'DELEGACIA ESPECIALIZADA NO ATENDIMENTO A CRIANCA E AO ADOLESCENTE - DEACA ANANINDEUA - 2ª RISP',\n",
       "       'DELEGACIA DE ORDEM ADMINISTRATIVA - DIOE',\n",
       "       'DELEGACIA DE PROTECAO A CRIANCA E ADOLESCENTE - DATA',\n",
       "       'AEROPORTO - DELEGACIA DE POLICIA - 1ª RISP - 7ª AISP',\n",
       "       'DELEGACIA DE HOMICIDIOS DE ICOARACI - 1ª RISP',\n",
       "       'DIVISAO DE ATENDIMENTO AO ADOLESCENTE - DATA',\n",
       "       'JADERLANDIA - DELEGACIA DE POLICIA - 2ª RISP - 17ª AISP',\n",
       "       'NUCLEO DE INTELIGENCIA POLICIAL ',\n",
       "       'DELEGACIA DE COMBATE AOS CRIMES DISCRIMINATORIOS E HOMOFOBICOS',\n",
       "       'PAAR - 7ª SECCIONAL - 2ª RISP - 21ª AISP',\n",
       "       'DIVISAO DE ATENDIMENTO AO ADOLESCENTE - DATA  ANANINDEUA - 2ª RISP',\n",
       "       'RONDON DO PARA - DELEGACIA DE POLICIA - 10ª RISP',\n",
       "       'DELEGACIA ESPECIALIZADA NO ATENDIMENTO A CRIANCA E ADOLESCENTE - CASTANHAL - 3ª RISP',\n",
       "       'GUAMA - PATRIMONIO 326 - 1º RISP- 5ª AISP',\n",
       "       'ATALAIA - DELEGACIA DE POLICIA - 2ª RISP - 17ª AISP',\n",
       "       'CORREGEDORIA DIVISAO DE CRIMES FUNCIONAIS',\n",
       "       'UIPP - TERRA FIRME - 10-1º RISP- 6ª AISP',\n",
       "       'CAMETA - DELEGACIA DE POLICIA - 4ª RISP',\n",
       "       'DELEGACIA ESPECIALIZADA NO ATENDIMENTO A MULHER - DEAM PARAUAPEBAS - 10ª RISP CARAJAS',\n",
       "       'BENGUI - UNID.POLICIA 412- 1º RISP-10ª AISP',\n",
       "       'CIDADE NOVA - 3ª SECCIONAL - 2ª RISP - 18ª AISP',\n",
       "       'DELEGACIA DE ORDEM SOCIAL - DIOE',\n",
       "       'DELEGACIA ESPECIALIZADA NO ATENDIMENTO A MULHER - DEAM CASTANHAL - 3ª RISP GUAMA',\n",
       "       'MARITUBA - SECCIONAL -  2º RISP- 22ª AISP',\n",
       "       'ICUI-GUAJARA - UNIDADE INTEGRADA PROPAZ - 2ª RISP - 18ª AISP',\n",
       "       'DELEGACIA ESPECIALIZADA NO ATENDIMENTO A MULHER - DEAM CAPANEMA - 6ª RISP CAETE',\n",
       "       'DELEGACIA DE COMBATE AOS CRIMES CONTRA CONCESSIONARIAS DE SERVICOS PUBLICOS - DIOE',\n",
       "       'JADERLANDIA/CASTANHAL - 12ª SECCIONAL - 3ª RISP',\n",
       "       'SANTA IZABEL DO PARA - DELEGACIA DE POLICIA - 3ª RISP',\n",
       "       'GUANABARA - DELEGACIA DE POLICIA - 2ª RISP - 17ª AISP',\n",
       "       'MARAMBAIA - PATRIMONIO 248 - 1º RISP- 9ª AISP',\n",
       "       'CREMACAO - PATRIMONIO 232 - 1º RISP- 3ª AISP',\n",
       "       'DIVISAO DE REPRESSAO A FURTOS E ROUBOS',\n",
       "       'MOJU - DELEGACIA DE POLICIA - 4ª RISP',\n",
       "       'BRAGANCA - DELEGACIA DE POLICIA - 6ª RISP',\n",
       "       'SAO BRAS - 2º SECC.2 -1º RISP- 2ª AISP',\n",
       "       'DIVISAO DE REPRESSAO AO CRIME ORGANIZADO',\n",
       "       'DELEGACIA ESPECIALIZADA EM INVESTIGACAO DE ESTELIONATO E OUTRAS FRAUDES - DIOE',\n",
       "       'ICOARACI-PATRIMONIO 256 -1º RISP - 12ª AISP',\n",
       "       'DRCO-DEL.POL.FLUVIAL 340-1º RISP- 8ª AISP',\n",
       "       'SECAO DE INTELIGENCIA DA DIRETORIA DE ATENDIMENTO A VULNERAVEIS-DAV',\n",
       "       'DELEGACIA DO CONSUMIDOR - DIOE',\n",
       "       'DELEGACIA ESPECIALIZADA NO ATENDIMENTO A MULHER - DEAM MARABA - 10ª RISP CARAJAS',\n",
       "       'UIPP - TAPANA - 1º RISP- 11ª AISP',\n",
       "       'DISTRITO INDUSTRIAL - UNIDADE INTEGRADA PROPAZ -2º RISP - 20ª AISP',\n",
       "       'SALINOPOLIS - DELEGACIA DE POLICIA - 6ª RISP',\n",
       "       'ICOARACI - 8ª SECCIONAL - 1ª RISP - 11ª  12ª  E 13ª AISP ',\n",
       "       'BARCARENA - DEACA/PROPAZ', 'DELEGACIA GERAL DE POLICIA CIVIL',\n",
       "       'DELEGACIA ESPECIALIZADA NO ATENDIMENTO A CRIANCA E AO ADOLESCENTE - DEACA TUCURUI - 9ª RISP',\n",
       "       'PEDREIRA - PESSOA 243 - 1º RISP- 8ª AISP',\n",
       "       'GUAMA - PESSOA 327 - 1º RISP- 5ª AISP',\n",
       "       'MARAMBAIA - PESSOA 247-1º RISP- 9ª AISP',\n",
       "       'MARCO - UNID.POL. 14 - 1º RISP',\n",
       "       'DIVISAO DE COMBATE A CRIMES CONTRA GRUPOS VULNERAVEIS PRATICADOS POR MEIOS CIBERNETICOS',\n",
       "       'CIDADE NOVA - PESSOA 235-2º RISP- 18ª AISP',\n",
       "       'JURUNAS - UNID.POLICIAL 13 - 1º RISP- 4ª AISP',\n",
       "       'ICOARACI - PESSOA 255-1º RISP- 12ª  AISP',\n",
       "       'ICOARACI - 8ª SECCIONAL - 1ª RISP - 11ª  12ª  E 13ª AISP',\n",
       "       'ICOARACI - PESSOA 255-1º RISP- 12ª AISP',\n",
       "       'COMERCIO - PESSOA 251 - 1º RISP- 1ª AISP',\n",
       "       'SAO BRAS - PESSOA 227 - 1º RISP- 2ª AISP',\n",
       "       'OUTEIRO-UNID.POLICIAL 404-1º RISP- 14ª AISP',\n",
       "       'SACRAMENTA - PESSOA 239-1º RISP- 7ª AISP',\n",
       "       'CREMACAO - PESSOA 231- 1º RISP- 3ª AISP',\n",
       "       'MOSQUEIRO - PESSOA 263 - 1º RISP-15ª E 16ª AISP',\n",
       "       'CABANAGEM- UNID.POL.292-1º RISP- 10ª AISP',\n",
       "       'DIVISAO DE REPRESSAO A CORRUPCAO E AO DESVIO DE RECURSOS PUBLICOS',\n",
       "       'ATENDIMENTO ESPECIALIZADO A MULHER - SALA LILAS - MARITUBA - 2ª RISP',\n",
       "       'DIVISAO DE COMBATE A CRIMES CONTRA DIREITOS INDIVIDUAIS POR MEIOS CIBERNETICOS',\n",
       "       'DELEGACIA DO AEROPORTO',\n",
       "       'CIDADE NOVA-PATRIMONIO 236 -2º RISP- 18ª AISP',\n",
       "       'DELEGACIA DE HOMICIDIOS DE AGENTES PUBLICOS',\n",
       "       'ANANINDEUA - SECCIONAL - 2ª RISP - 20ª AISP',\n",
       "       'JADERLANDIA - UNID.POLICIAL 24 - 2º RISP- 17ª AISP',\n",
       "       'DIVISAO DE COMBATE A CRIMES ECONOMICOS E PATRIMONIAIS PRATICADOS POR MEIOS CIBERNETICOS',\n",
       "       'DELEGACIA DE POLICIA FLUVIAL',\n",
       "       'GOIANESIA DO PARA - DELEGACIA DE POLICIA - 9ª RISP',\n",
       "       'DELEGACIA ESPECIALIZADA NO ATENDIMENTO A MULHER - DEAM SANTAREM - 12ª RISP BAIXO AMAZONAS',\n",
       "       'DELEGACIA DE HOMICIDIOS METROPOLITANA - 2ª RISP',\n",
       "       'JULIA SEFFER - DELEGACIA DE POLICIA - 2ª RISP - 19ª AISP',\n",
       "       'NOVA REPUBLICA - DELEGACIA DE POLICIA - 12ª RISP',\n",
       "       'MOCAJUBA - DELEGACIA DE POLICIA - 4ª RISP',\n",
       "       'ICOARACI - 8ª SECC.8-1º RISP- 12ª AISP',\n",
       "       'PEDREIRA - PATRIMONIO 244 - 1º RISP- 8ª AISP',\n",
       "       'COMERCIO - PATRIMONIO 252 -1º RISP- 1ª AISP',\n",
       "       'DELEGACIA DE REPRESSAO A POLUICAO E OUTROS CRIMES AMBIENTAIS - DEMA',\n",
       "       'Nao informado'], dtype=object)"
      ]
     },
     "execution_count": 216,
     "metadata": {},
     "output_type": "execute_result"
    }
   ],
   "source": [
    "unidade_responsavel_unico = crimes_selecionados_belem[\"unidade_responsavel\"].unique()\n",
    "print(\"Numero de valores unicos em unidade_ressponsavel:\", len(unidade_responsavel_unico))\n",
    "crimes_selecionados_belem[\"unidade_responsavel\"].unique()"
   ]
  },
  {
   "cell_type": "code",
   "execution_count": 217,
   "id": "93c541d7",
   "metadata": {},
   "outputs": [
    {
     "data": {
      "text/plain": [
       "array(['DIVISAO ESPECIALIZADA NO ATENDIMENTO A MULHER - DEAM',\n",
       "       'DELEGACIA ESPECIALIZADA NO ATENDIMENTO A MULHER - DEAM ANANINDEUA - 2ª RISP',\n",
       "       'DEAM - DEL.VIRTUAL DA MULHER 294-1º RISP- 8ª AISP',\n",
       "       'DELEGACIA ESPECIALIZADA NO  ATENDIMENTO A MULHER - DEAM CAPANEMA - 6ª RISP CAETE',\n",
       "       'DEAM - BELEM 35 - 1º RISP- 8ª AISP',\n",
       "       'DELEGACIA ESPECIALIZADA NO ATENDIMENTO A MULHER - DEAM PARAUAPEBAS - 10ª RISP CARAJAS',\n",
       "       'DELEGACIA ESPECIALIZADA NO ATENDIMENTO A MULHER - DEAM CASTANHAL - 3ª RISP GUAMA',\n",
       "       'DELEGACIA ESPECIALIZADA NO ATENDIMENTO A MULHER - DEAM CAPANEMA - 6ª RISP CAETE',\n",
       "       'DELEGACIA ESPECIALIZADA NO ATENDIMENTO A MULHER - DEAM MARABA - 10ª RISP CARAJAS',\n",
       "       'DELEGACIA ESPECIALIZADA NO ATENDIMENTO A MULHER - DEAM SANTAREM - 12ª RISP BAIXO AMAZONAS'],\n",
       "      dtype=object)"
      ]
     },
     "execution_count": 217,
     "metadata": {},
     "output_type": "execute_result"
    }
   ],
   "source": [
    "unidades_com_deam_1 = crimes_selecionados_belem[crimes_selecionados_belem['unidade_responsavel'].str.contains('deam', case=False)]['unidade_responsavel'].unique()\n",
    "unidades_com_deam_1"
   ]
  },
  {
   "cell_type": "code",
   "execution_count": 218,
   "id": "0721a337",
   "metadata": {},
   "outputs": [],
   "source": [
    "crimes_selecionados_belem.loc[crimes_selecionados_belem['unidade_responsavel'].isin(['DIVISAO ESPECIALIZADA NO ATENDIMENTO A MULHER - DEAM','DELEGACIA ESPECIALIZADA NO ATENDIMENTO A MULHER - DEAM ANANINDEUA - 2ª RISP','DEAM - DEL.VIRTUAL DA MULHER 294-1º RISP- 8ª AISP','DELEGACIA ESPECIALIZADA NO  ATENDIMENTO A MULHER - DEAM CAPANEMA - 6ª RISP CAETE','DEAM - BELEM 35 - 1º RISP- 8ª AISP','DELEGACIA ESPECIALIZADA NO ATENDIMENTO A MULHER - DEAM PARAUAPEBAS - 10ª RISP CARAJAS','DELEGACIA ESPECIALIZADA NO ATENDIMENTO A MULHER - DEAM CASTANHAL - 3ª RISP GUAMA','DELEGACIA ESPECIALIZADA NO ATENDIMENTO A MULHER - DEAM CAPANEMA - 6ª RISP CAETE','DELEGACIA ESPECIALIZADA NO ATENDIMENTO A MULHER - DEAM MARABA - 10ª RISP CARAJAS','DELEGACIA ESPECIALIZADA NO ATENDIMENTO A MULHER - DEAM SANTAREM - 12ª RISP BAIXO AMAZONAS']), 'unidade_responsavel'] = 'DELEGACIA ESPECIALIZADA NO ATENDIMENTO A MULHER - DEAM'"
   ]
  },
  {
   "cell_type": "code",
   "execution_count": 219,
   "id": "f19f70d4",
   "metadata": {},
   "outputs": [],
   "source": [
    "crimes_selecionados_belem.reset_index(drop=True, inplace=True)"
   ]
  },
  {
   "cell_type": "code",
   "execution_count": 220,
   "id": "17622ef5",
   "metadata": {},
   "outputs": [
    {
     "name": "stdout",
     "output_type": "stream",
     "text": [
      "Numero de valores unicos em unidade_ressponsavel: 112\n"
     ]
    },
    {
     "data": {
      "text/plain": [
       "array(['TERRA FIRME - UNIDADE INTEGRADA PROPAZ - 1ª RISP - 6ª AISP',\n",
       "       'PEDREIRA - 10ª SECCIONAL - 1ª RISP - 8ª AISP',\n",
       "       'DELEGACIA ESPECIALIZADA NO ATENDIMENTO A MULHER - DEAM',\n",
       "       'SACRAMENTA - 1ª SECCIONAL - 1ª RISP - 7ª AISP',\n",
       "       'ICOARACI - 8ª SECCIONAL - 1ª RISP - 11ª, 12ª E 13ª AISP',\n",
       "       'CABANAGEM - DELEGACIA DE POLICIA - 1ª RISP - 10ª AISP',\n",
       "       'CREMACAO - 4ª SECCIONAL - 1ª RISP- 3ª AISP',\n",
       "       'TAPANA - UNIDADE INTEGRADA PROPAZ - 1ª RISP - 11ª AISP',\n",
       "       'COMERCIO - 6ª SECCIONAL - 1ª RISP - 1ª AISP',\n",
       "       'MARAMBAIA - 5ª SECCIONAL - 1ª RISP - 9ª AISP',\n",
       "       'ICOARACI - 8ª SECCIONAL - 1ª RISP - 11ª, 12ª E 13ª AISP ',\n",
       "       'OUTEIRO - DELEGACIA DE POLICIA - 1ª RISP - 14ª AISP',\n",
       "       'DIVISAO DE HOMICIDIOS',\n",
       "       'MARCO - DELEGACIA DE POLICIA - 1ª RISP - 8ª AISP',\n",
       "       'BENGUI - DELEGACIA DE POLICIA - 1ª RISP - 10ª AISP',\n",
       "       'DEACA-PROPAZ INTEGRADO-CPC RENATO CHAVES-504',\n",
       "       'GUAMA - 11ª SECCIONAL - 1ª RISP - 5ª AISP',\n",
       "       'TENONE UNIDADE INTEGRADA PROPAZ - 1ª RISP - 13ª AISP',\n",
       "       'MOSQUEIRO - 9ª SECCIONAL - 1ª RISP- 15ª E 16ª AISP',\n",
       "       'DIVISAO DE PREVENCAO E REPRESSAO A CRIMES TECNOLOGICOS',\n",
       "       'SAO BRAS - PATRIMONIO 228 - 1º RISP- 2ª AISP',\n",
       "       'JURUNAS - DELEGACIA DE POLICIA - 1ª RISP - 4ª AISP',\n",
       "       'DELEGACIA DE ATENDIMENTO A CRIANCA E AO ADOLESCENTE - DEACA',\n",
       "       'SACRAMENTA - PATRIMONIO 240 - 1º RISP- 7ª AISP',\n",
       "       'DELEGACIA DE ATENDIMENTO AO ADOLESCENTE INFRATOR - DATA',\n",
       "       'DEACA - PROPAZ INTEGRADO - SANTA CASA DE MISERICORDIA - 433',\n",
       "       'SAO BRAS - 2º SECCIONAL -1º RISP- 2ª AISP',\n",
       "       'CURUCA - DELEGACIA DE POLICIA - 3ª RISP',\n",
       "       'DELEGACIA DE PROTECAO AO IDOSO',\n",
       "       'DELEGACIA ESPECIALIZADA NO ATENDIMENTO A CRIANCA E AO ADOLESCENTE - DEACA ANANINDEUA - 2ª RISP',\n",
       "       'DELEGACIA DE ORDEM ADMINISTRATIVA - DIOE',\n",
       "       'DELEGACIA DE PROTECAO A CRIANCA E ADOLESCENTE - DATA',\n",
       "       'AEROPORTO - DELEGACIA DE POLICIA - 1ª RISP - 7ª AISP',\n",
       "       'DELEGACIA DE HOMICIDIOS DE ICOARACI - 1ª RISP',\n",
       "       'DIVISAO DE ATENDIMENTO AO ADOLESCENTE - DATA',\n",
       "       'JADERLANDIA - DELEGACIA DE POLICIA - 2ª RISP - 17ª AISP',\n",
       "       'NUCLEO DE INTELIGENCIA POLICIAL ',\n",
       "       'DELEGACIA DE COMBATE AOS CRIMES DISCRIMINATORIOS E HOMOFOBICOS',\n",
       "       'PAAR - 7ª SECCIONAL - 2ª RISP - 21ª AISP',\n",
       "       'DIVISAO DE ATENDIMENTO AO ADOLESCENTE - DATA  ANANINDEUA - 2ª RISP',\n",
       "       'RONDON DO PARA - DELEGACIA DE POLICIA - 10ª RISP',\n",
       "       'DELEGACIA ESPECIALIZADA NO ATENDIMENTO A CRIANCA E ADOLESCENTE - CASTANHAL - 3ª RISP',\n",
       "       'GUAMA - PATRIMONIO 326 - 1º RISP- 5ª AISP',\n",
       "       'ATALAIA - DELEGACIA DE POLICIA - 2ª RISP - 17ª AISP',\n",
       "       'CORREGEDORIA DIVISAO DE CRIMES FUNCIONAIS',\n",
       "       'UIPP - TERRA FIRME - 10-1º RISP- 6ª AISP',\n",
       "       'CAMETA - DELEGACIA DE POLICIA - 4ª RISP',\n",
       "       'BENGUI - UNID.POLICIA 412- 1º RISP-10ª AISP',\n",
       "       'CIDADE NOVA - 3ª SECCIONAL - 2ª RISP - 18ª AISP',\n",
       "       'DELEGACIA DE ORDEM SOCIAL - DIOE',\n",
       "       'MARITUBA - SECCIONAL -  2º RISP- 22ª AISP',\n",
       "       'ICUI-GUAJARA - UNIDADE INTEGRADA PROPAZ - 2ª RISP - 18ª AISP',\n",
       "       'DELEGACIA DE COMBATE AOS CRIMES CONTRA CONCESSIONARIAS DE SERVICOS PUBLICOS - DIOE',\n",
       "       'JADERLANDIA/CASTANHAL - 12ª SECCIONAL - 3ª RISP',\n",
       "       'SANTA IZABEL DO PARA - DELEGACIA DE POLICIA - 3ª RISP',\n",
       "       'GUANABARA - DELEGACIA DE POLICIA - 2ª RISP - 17ª AISP',\n",
       "       'MARAMBAIA - PATRIMONIO 248 - 1º RISP- 9ª AISP',\n",
       "       'CREMACAO - PATRIMONIO 232 - 1º RISP- 3ª AISP',\n",
       "       'DIVISAO DE REPRESSAO A FURTOS E ROUBOS',\n",
       "       'MOJU - DELEGACIA DE POLICIA - 4ª RISP',\n",
       "       'BRAGANCA - DELEGACIA DE POLICIA - 6ª RISP',\n",
       "       'SAO BRAS - 2º SECC.2 -1º RISP- 2ª AISP',\n",
       "       'DIVISAO DE REPRESSAO AO CRIME ORGANIZADO',\n",
       "       'DELEGACIA ESPECIALIZADA EM INVESTIGACAO DE ESTELIONATO E OUTRAS FRAUDES - DIOE',\n",
       "       'ICOARACI-PATRIMONIO 256 -1º RISP - 12ª AISP',\n",
       "       'DRCO-DEL.POL.FLUVIAL 340-1º RISP- 8ª AISP',\n",
       "       'SECAO DE INTELIGENCIA DA DIRETORIA DE ATENDIMENTO A VULNERAVEIS-DAV',\n",
       "       'DELEGACIA DO CONSUMIDOR - DIOE',\n",
       "       'UIPP - TAPANA - 1º RISP- 11ª AISP',\n",
       "       'DISTRITO INDUSTRIAL - UNIDADE INTEGRADA PROPAZ -2º RISP - 20ª AISP',\n",
       "       'SALINOPOLIS - DELEGACIA DE POLICIA - 6ª RISP',\n",
       "       'ICOARACI - 8ª SECCIONAL - 1ª RISP - 11ª  12ª  E 13ª AISP ',\n",
       "       'BARCARENA - DEACA/PROPAZ', 'DELEGACIA GERAL DE POLICIA CIVIL',\n",
       "       'DELEGACIA ESPECIALIZADA NO ATENDIMENTO A CRIANCA E AO ADOLESCENTE - DEACA TUCURUI - 9ª RISP',\n",
       "       'PEDREIRA - PESSOA 243 - 1º RISP- 8ª AISP',\n",
       "       'GUAMA - PESSOA 327 - 1º RISP- 5ª AISP',\n",
       "       'MARAMBAIA - PESSOA 247-1º RISP- 9ª AISP',\n",
       "       'MARCO - UNID.POL. 14 - 1º RISP',\n",
       "       'DIVISAO DE COMBATE A CRIMES CONTRA GRUPOS VULNERAVEIS PRATICADOS POR MEIOS CIBERNETICOS',\n",
       "       'CIDADE NOVA - PESSOA 235-2º RISP- 18ª AISP',\n",
       "       'JURUNAS - UNID.POLICIAL 13 - 1º RISP- 4ª AISP',\n",
       "       'ICOARACI - PESSOA 255-1º RISP- 12ª  AISP',\n",
       "       'ICOARACI - 8ª SECCIONAL - 1ª RISP - 11ª  12ª  E 13ª AISP',\n",
       "       'ICOARACI - PESSOA 255-1º RISP- 12ª AISP',\n",
       "       'COMERCIO - PESSOA 251 - 1º RISP- 1ª AISP',\n",
       "       'SAO BRAS - PESSOA 227 - 1º RISP- 2ª AISP',\n",
       "       'OUTEIRO-UNID.POLICIAL 404-1º RISP- 14ª AISP',\n",
       "       'SACRAMENTA - PESSOA 239-1º RISP- 7ª AISP',\n",
       "       'CREMACAO - PESSOA 231- 1º RISP- 3ª AISP',\n",
       "       'MOSQUEIRO - PESSOA 263 - 1º RISP-15ª E 16ª AISP',\n",
       "       'CABANAGEM- UNID.POL.292-1º RISP- 10ª AISP',\n",
       "       'DIVISAO DE REPRESSAO A CORRUPCAO E AO DESVIO DE RECURSOS PUBLICOS',\n",
       "       'ATENDIMENTO ESPECIALIZADO A MULHER - SALA LILAS - MARITUBA - 2ª RISP',\n",
       "       'DIVISAO DE COMBATE A CRIMES CONTRA DIREITOS INDIVIDUAIS POR MEIOS CIBERNETICOS',\n",
       "       'DELEGACIA DO AEROPORTO',\n",
       "       'CIDADE NOVA-PATRIMONIO 236 -2º RISP- 18ª AISP',\n",
       "       'DELEGACIA DE HOMICIDIOS DE AGENTES PUBLICOS',\n",
       "       'ANANINDEUA - SECCIONAL - 2ª RISP - 20ª AISP',\n",
       "       'JADERLANDIA - UNID.POLICIAL 24 - 2º RISP- 17ª AISP',\n",
       "       'DIVISAO DE COMBATE A CRIMES ECONOMICOS E PATRIMONIAIS PRATICADOS POR MEIOS CIBERNETICOS',\n",
       "       'DELEGACIA DE POLICIA FLUVIAL',\n",
       "       'GOIANESIA DO PARA - DELEGACIA DE POLICIA - 9ª RISP',\n",
       "       'DELEGACIA DE HOMICIDIOS METROPOLITANA - 2ª RISP',\n",
       "       'JULIA SEFFER - DELEGACIA DE POLICIA - 2ª RISP - 19ª AISP',\n",
       "       'NOVA REPUBLICA - DELEGACIA DE POLICIA - 12ª RISP',\n",
       "       'MOCAJUBA - DELEGACIA DE POLICIA - 4ª RISP',\n",
       "       'ICOARACI - 8ª SECC.8-1º RISP- 12ª AISP',\n",
       "       'PEDREIRA - PATRIMONIO 244 - 1º RISP- 8ª AISP',\n",
       "       'COMERCIO - PATRIMONIO 252 -1º RISP- 1ª AISP',\n",
       "       'DELEGACIA DE REPRESSAO A POLUICAO E OUTROS CRIMES AMBIENTAIS - DEMA',\n",
       "       'Nao informado'], dtype=object)"
      ]
     },
     "execution_count": 220,
     "metadata": {},
     "output_type": "execute_result"
    }
   ],
   "source": [
    "unidade_responsavel_unico = crimes_selecionados_belem[\"unidade_responsavel\"].unique()\n",
    "print(\"Numero de valores unicos em unidade_ressponsavel:\", len(unidade_responsavel_unico))\n",
    "crimes_selecionados_belem[\"unidade_responsavel\"].unique()"
   ]
  },
  {
   "cell_type": "code",
   "execution_count": 221,
   "id": "f2a4f36e",
   "metadata": {},
   "outputs": [
    {
     "data": {
      "text/plain": [
       "array(['DELEGACIA ESPECIALIZADA NO ATENDIMENTO A MULHER - DEAM'],\n",
       "      dtype=object)"
      ]
     },
     "execution_count": 221,
     "metadata": {},
     "output_type": "execute_result"
    }
   ],
   "source": [
    "unidades_com_deam_1 = crimes_selecionados_belem[crimes_selecionados_belem['unidade_responsavel'].str.contains('deam', case=False)]['unidade_responsavel'].unique()\n",
    "unidades_com_deam_1"
   ]
  },
  {
   "cell_type": "markdown",
   "id": "021d371f",
   "metadata": {},
   "source": [
    "- bairros"
   ]
  },
  {
   "cell_type": "code",
   "execution_count": 222,
   "id": "224b1dd4",
   "metadata": {},
   "outputs": [
    {
     "name": "stdout",
     "output_type": "stream",
     "text": [
      "Numero unico em bairros: 85\n"
     ]
    },
    {
     "data": {
      "text/plain": [
       "array(['TERRA FIRME', 'PEDREIRA', 'MARAMBAIA', 'CABANAGEM', 'BARREIRO',\n",
       "       'PONTA GROSSA', 'CONDOR', 'SOUZA', 'TAPANA', 'UMARIZAL',\n",
       "       'AGUAS NEGRAS', 'MARACACUERA', 'JURUNAS', 'SAO JOAO DO OUTEIRO',\n",
       "       'TELEGRAFO SEM FIO', 'CURIO-UTINGA', 'SAO BRAS', 'SACRAMENTA',\n",
       "       'MANGUEIRAO', 'CASTANHEIRA', 'BENGUI', 'COTIJUBA',\n",
       "       'COQUEIRO BELEM', 'MARACANGALHA', 'PARQUE VERDE', 'CANUDOS',\n",
       "       'GUAMA', 'TENONE', 'MARCO', 'UNA', 'VILA', 'PARQUE GUAJARA',\n",
       "       'NAZARE', 'CAMPINA', 'CAMPINA DE ICOARACI', 'CREMACAO', 'AGUA BOA',\n",
       "       'REDUTO', 'CIDADE VELHA', 'CARANANDUBA', 'MARACAJA', 'FATIMA',\n",
       "       'ITAITEUA', 'PRATINHA', 'ARIRAMBA', 'AGULHA', 'VAL-DE-CANS',\n",
       "       'BATISTA CAMPOS', 'PARACURI', 'AEROPORTO', 'SAO FRANCISCO',\n",
       "       'BRASILIA', 'CRUZEIRO', 'CHAPEU VIRADO', 'PRAIA GRANDE',\n",
       "       'MURUBIRA', 'CARUARA', 'PORTO ARTHUR', 'SAO CLEMENTE',\n",
       "       'BAIA DO SOL', 'FAROL', 'NATAL DO MURUBIRA', 'BAIA DO SOL ',\n",
       "       'MANGUEIRAS', 'SUCURIJUQUARA', 'ITAITEUA ', 'AGULHA ',\n",
       "       'SAO JOAO DO OUTEIRO ', 'MARAHU', 'MIRAMAR', 'INFRAERO',\n",
       "       'AGUAS CRISTALINAS', 'ILHAS DO ARQUIPELAGO DO RIO GUAMA',\n",
       "       'ILHA DO CUMBU', 'BONFIM', 'ZONA RURAL DE MOSQUEIRO', 'FIDELIS',\n",
       "       'PARAISO', 'FAMA', 'AGUAS LINDAS',\n",
       "       'ILHAS ADJACENTES DO ARQUIPELAGO DE BELEM', 'ILHAS ADJACENTES',\n",
       "       'CAMPINA DE ICOARACI ', 'PARQUE GUAJARA ', 'CARUARA '],\n",
       "      dtype=object)"
      ]
     },
     "execution_count": 222,
     "metadata": {},
     "output_type": "execute_result"
    }
   ],
   "source": [
    "bairros_unico = crimes_selecionados_belem[\"bairros\"].unique()\n",
    "print(\"Numero unico em bairros:\", len(bairros_unico))\n",
    "crimes_selecionados_belem[\"bairros\"].unique()"
   ]
  },
  {
   "cell_type": "code",
   "execution_count": 223,
   "id": "3fda314b",
   "metadata": {},
   "outputs": [],
   "source": [
    "crimes_selecionados_belem.loc[crimes_selecionados_belem.bairros == \"BAIA DO SOL \",'bairros'] = 'BAIA DO SOL'"
   ]
  },
  {
   "cell_type": "code",
   "execution_count": 224,
   "id": "dbb0605c",
   "metadata": {},
   "outputs": [],
   "source": [
    "crimes_selecionados_belem.loc[crimes_selecionados_belem.bairros == \"ITAITEUA \",'bairros'] = 'ITAITEUA'"
   ]
  },
  {
   "cell_type": "code",
   "execution_count": 225,
   "id": "353c1a7c",
   "metadata": {},
   "outputs": [],
   "source": [
    "crimes_selecionados_belem.loc[crimes_selecionados_belem.bairros == \"TELEGRAFO SEM FIO\",'bairros'] = 'TELEGRAFO'"
   ]
  },
  {
   "cell_type": "code",
   "execution_count": 226,
   "id": "d1c968f0",
   "metadata": {},
   "outputs": [],
   "source": [
    "crimes_selecionados_belem.loc[crimes_selecionados_belem.bairros == \"VAL-DE-CANS\",'bairros'] = 'VAL-DE-CAES'"
   ]
  },
  {
   "cell_type": "code",
   "execution_count": 227,
   "id": "1b525a12",
   "metadata": {},
   "outputs": [],
   "source": [
    "crimes_selecionados_belem.loc[crimes_selecionados_belem.bairros == \"ILHA DO CUMBU\",'bairros'] = 'ILHA DO COMBU'"
   ]
  },
  {
   "cell_type": "code",
   "execution_count": 228,
   "id": "b7410f44",
   "metadata": {},
   "outputs": [],
   "source": [
    "crimes_selecionados_belem.loc[crimes_selecionados_belem.bairros == \"INFRAERO\",'bairros'] = 'VAL-DE-CAES'"
   ]
  },
  {
   "cell_type": "code",
   "execution_count": 229,
   "id": "e5a32ce0",
   "metadata": {},
   "outputs": [],
   "source": [
    "crimes_selecionados_belem.loc[crimes_selecionados_belem.bairros == \"ZONA RURAL DE MOSQUEIRO\",'bairros'] = 'ILHA DO MOSQUEIRO'"
   ]
  },
  {
   "cell_type": "code",
   "execution_count": 230,
   "id": "b1be86ca",
   "metadata": {},
   "outputs": [],
   "source": [
    "crimes_selecionados_belem.loc[crimes_selecionados_belem.bairros == \"COQUEIRO BELEM\",'bairros'] = 'COQUEIRO'"
   ]
  },
  {
   "cell_type": "code",
   "execution_count": 231,
   "id": "a43ed936",
   "metadata": {},
   "outputs": [],
   "source": [
    "crimes_selecionados_belem.loc[crimes_selecionados_belem['bairros'].isin([\"ILHAS DO ARQUIPELAGO DO RIO GUAMA\", 'ILHAS ADJACENTES DO ARQUIPELAGO DE BELEM', 'ILHAS ADJACENTES']),'bairros'] = 'ILHAS ADJACENTES DO ARQUIPELAGO DE BELEM'"
   ]
  },
  {
   "cell_type": "code",
   "execution_count": 232,
   "id": "fbf7d3f2",
   "metadata": {},
   "outputs": [],
   "source": [
    "crimes_selecionados_belem.loc[crimes_selecionados_belem.bairros == \"AGULHA \",'bairros'] = 'AGULHA'"
   ]
  },
  {
   "cell_type": "code",
   "execution_count": 233,
   "id": "299f834a",
   "metadata": {},
   "outputs": [],
   "source": [
    "crimes_selecionados_belem.loc[crimes_selecionados_belem.bairros == \"PARQUE GUAJARA \",'bairros'] = 'PARQUE GUAJARA'"
   ]
  },
  {
   "cell_type": "code",
   "execution_count": 234,
   "id": "dc6afd7d",
   "metadata": {},
   "outputs": [],
   "source": [
    "crimes_selecionados_belem.loc[crimes_selecionados_belem.bairros == \"CARUARA \",'bairros'] = 'CARUARA'"
   ]
  },
  {
   "cell_type": "code",
   "execution_count": 235,
   "id": "93a81e36",
   "metadata": {},
   "outputs": [],
   "source": [
    "crimes_selecionados_belem.loc[crimes_selecionados_belem.bairros == \"CAMPINA DE ICOARACI \",'bairros'] = 'CAMPINA DE ICOARACI'"
   ]
  },
  {
   "cell_type": "code",
   "execution_count": 236,
   "id": "08309990",
   "metadata": {},
   "outputs": [],
   "source": [
    "crimes_selecionados_belem.reset_index(drop=True, inplace=True)"
   ]
  },
  {
   "cell_type": "code",
   "execution_count": 237,
   "id": "6430c7f7",
   "metadata": {},
   "outputs": [
    {
     "name": "stdout",
     "output_type": "stream",
     "text": [
      "Numero unico em bairros: 76\n"
     ]
    },
    {
     "data": {
      "text/plain": [
       "array(['TERRA FIRME', 'PEDREIRA', 'MARAMBAIA', 'CABANAGEM', 'BARREIRO',\n",
       "       'PONTA GROSSA', 'CONDOR', 'SOUZA', 'TAPANA', 'UMARIZAL',\n",
       "       'AGUAS NEGRAS', 'MARACACUERA', 'JURUNAS', 'SAO JOAO DO OUTEIRO',\n",
       "       'TELEGRAFO', 'CURIO-UTINGA', 'SAO BRAS', 'SACRAMENTA',\n",
       "       'MANGUEIRAO', 'CASTANHEIRA', 'BENGUI', 'COTIJUBA', 'COQUEIRO',\n",
       "       'MARACANGALHA', 'PARQUE VERDE', 'CANUDOS', 'GUAMA', 'TENONE',\n",
       "       'MARCO', 'UNA', 'VILA', 'PARQUE GUAJARA', 'NAZARE', 'CAMPINA',\n",
       "       'CAMPINA DE ICOARACI', 'CREMACAO', 'AGUA BOA', 'REDUTO',\n",
       "       'CIDADE VELHA', 'CARANANDUBA', 'MARACAJA', 'FATIMA', 'ITAITEUA',\n",
       "       'PRATINHA', 'ARIRAMBA', 'AGULHA', 'VAL-DE-CAES', 'BATISTA CAMPOS',\n",
       "       'PARACURI', 'AEROPORTO', 'SAO FRANCISCO', 'BRASILIA', 'CRUZEIRO',\n",
       "       'CHAPEU VIRADO', 'PRAIA GRANDE', 'MURUBIRA', 'CARUARA',\n",
       "       'PORTO ARTHUR', 'SAO CLEMENTE', 'BAIA DO SOL', 'FAROL',\n",
       "       'NATAL DO MURUBIRA', 'MANGUEIRAS', 'SUCURIJUQUARA',\n",
       "       'SAO JOAO DO OUTEIRO ', 'MARAHU', 'MIRAMAR', 'AGUAS CRISTALINAS',\n",
       "       'ILHAS ADJACENTES DO ARQUIPELAGO DE BELEM', 'ILHA DO COMBU',\n",
       "       'BONFIM', 'ILHA DO MOSQUEIRO', 'FIDELIS', 'PARAISO', 'FAMA',\n",
       "       'AGUAS LINDAS'], dtype=object)"
      ]
     },
     "execution_count": 237,
     "metadata": {},
     "output_type": "execute_result"
    }
   ],
   "source": [
    "bairros_unico_depois = crimes_selecionados_belem[\"bairros\"].unique()\n",
    "print(\"Numero unico em bairros:\", len(bairros_unico_depois))\n",
    "crimes_selecionados_belem[\"bairros\"].unique()"
   ]
  },
  {
   "cell_type": "markdown",
   "id": "1af9db1c",
   "metadata": {},
   "source": [
    "- ano_fato"
   ]
  },
  {
   "cell_type": "code",
   "execution_count": 238,
   "id": "310110d3",
   "metadata": {},
   "outputs": [
    {
     "data": {
      "text/plain": [
       "ano_fato\n",
       "2023    10303\n",
       "2021     9649\n",
       "2019     9477\n",
       "2022     9221\n",
       "2020     8980\n",
       "Name: count, dtype: int64"
      ]
     },
     "execution_count": 238,
     "metadata": {},
     "output_type": "execute_result"
    }
   ],
   "source": [
    "crimes_selecionados_belem.ano_fato.value_counts()"
   ]
  },
  {
   "cell_type": "markdown",
   "id": "06089098",
   "metadata": {},
   "source": [
    "- vit_grau_inst"
   ]
  },
  {
   "cell_type": "code",
   "execution_count": 239,
   "id": "603b8720",
   "metadata": {},
   "outputs": [
    {
     "data": {
      "text/plain": [
       "vit_grau_inst\n",
       "ENSINO MEDIO COMPLETO                                16479\n",
       "ENSINO FUNDAMENTAL INCOMPLETO                         7450\n",
       "ENSINO SUPERIOR COMPLETO                              6290\n",
       "ENSINO MEDIO INCOMPLETO                               4491\n",
       "ENSINO FUNDAMENTAL COMPLETO                           3863\n",
       "ENSINO SUPERIOR INCOMPLETO                            3171\n",
       "Nao informado                                         2655\n",
       "NAO INFORMADO                                         1797\n",
       "PREJUDICADO                                           1089\n",
       "NAO ALFABETIZADO                                       331\n",
       "POS-GRADUACAO/ESPECIALIZACAO                             4\n",
       "SUPERIOR COMPLETO                                        2\n",
       "ENSINO FUNDAMNTAL INCOMPLETO                             1\n",
       "ENSINO FUNDAMENTAL INCOMPLETO_x000D_\\n                   1\n",
       "2º GRAU COMPLETO (ENSINO MÉDIO)                          1\n",
       "ANALFABETO                                               1\n",
       "4ª SÉRIE COMPLETA DO 1º GRAU (ENSINO FUNDAMENTAL)        1\n",
       "MESTRADO                                                 1\n",
       "SUPERIOR INCOMPLETO                                      1\n",
       "DOMESTICA                                                1\n",
       "Name: count, dtype: int64"
      ]
     },
     "execution_count": 239,
     "metadata": {},
     "output_type": "execute_result"
    }
   ],
   "source": [
    "crimes_selecionados_belem.vit_grau_inst.value_counts()"
   ]
  },
  {
   "cell_type": "code",
   "execution_count": 240,
   "id": "7e6e9629",
   "metadata": {},
   "outputs": [],
   "source": [
    "crimes_selecionados_belem.loc[crimes_selecionados_belem.vit_grau_inst == \"Nao informado\",'vit_grau_inst'] = 'NAO INFORMADO'"
   ]
  },
  {
   "cell_type": "code",
   "execution_count": 241,
   "id": "0e9cb9c1",
   "metadata": {},
   "outputs": [],
   "source": [
    "crimes_selecionados_belem.loc[crimes_selecionados_belem.vit_grau_inst == \"2º GRAU COMPLETO (ENSINO MÉDIO)\", 'vit_grau_inst'] = 'ENSINO MEDIO COMPLETO'"
   ]
  },
  {
   "cell_type": "code",
   "execution_count": 242,
   "metadata": {},
   "outputs": [],
   "source": [
    "crimes_selecionados_belem.loc[crimes_selecionados_belem.vit_grau_inst == \"ANALFABETO\", 'vit_grau_inst'] = 'NAO ALFABETIZADO'"
   ]
  },
  {
   "cell_type": "code",
   "execution_count": 243,
   "metadata": {},
   "outputs": [],
   "source": [
    "crimes_selecionados_belem.loc[crimes_selecionados_belem.vit_grau_inst == \"SUPERIOR COMPLETO\", 'vit_grau_inst'] = 'ENSINO SUPERIOR COMPLETO'"
   ]
  },
  {
   "cell_type": "code",
   "execution_count": 244,
   "metadata": {},
   "outputs": [],
   "source": [
    "crimes_selecionados_belem.loc[crimes_selecionados_belem.vit_grau_inst == \"SUPERIOR INCOMPLETO\", 'vit_grau_inst'] = 'ENSINO SUPERIOR INCOMPLETO'"
   ]
  },
  {
   "cell_type": "code",
   "execution_count": 245,
   "id": "2b89fca3",
   "metadata": {},
   "outputs": [],
   "source": [
    "crimes_selecionados_belem.loc[crimes_selecionados_belem.vit_grau_inst == \"4ª SÉRIE COMPLETA DO 1º GRAU (ENSINO FUNDAMENTAL)\", 'vit_grau_inst'] = 'ENSINO FUNDAMENTAL INCOMPLETO'"
   ]
  },
  {
   "cell_type": "code",
   "execution_count": 246,
   "id": "cb3451d7",
   "metadata": {},
   "outputs": [],
   "source": [
    "crimes_selecionados_belem.loc[crimes_selecionados_belem.vit_grau_inst == \"ENSINO FUNDAMNTAL INCOMPLETO\", 'vit_grau_inst'] = 'ENSINO FUNDAMENTAL INCOMPLETO'"
   ]
  },
  {
   "cell_type": "code",
   "execution_count": 247,
   "id": "ff4212a0",
   "metadata": {},
   "outputs": [],
   "source": [
    "crimes_selecionados_belem.loc[crimes_selecionados_belem.vit_grau_inst == \"ENSINO FUNDAMENTAL INCOMPLETO_x000D_\\n\", 'vit_grau_inst'] = 'ENSINO FUNDAMENTAL INCOMPLETO'"
   ]
  },
  {
   "cell_type": "code",
   "execution_count": 248,
   "id": "b7d9af38",
   "metadata": {},
   "outputs": [],
   "source": [
    "crimes_selecionados_belem.loc[crimes_selecionados_belem.vit_grau_inst == \"DOMESTICA\", 'vit_grau_inst'] = 'PREJUDICADO'"
   ]
  },
  {
   "cell_type": "code",
   "execution_count": 251,
   "id": "735a8a9d",
   "metadata": {},
   "outputs": [],
   "source": [
    "crimes_selecionados_belem.reset_index(drop=True, inplace=True)"
   ]
  },
  {
   "cell_type": "code",
   "execution_count": 252,
   "id": "8c69a201",
   "metadata": {},
   "outputs": [
    {
     "data": {
      "text/plain": [
       "vit_grau_inst\n",
       "ENSINO MEDIO COMPLETO            16480\n",
       "ENSINO FUNDAMENTAL INCOMPLETO     7453\n",
       "ENSINO SUPERIOR COMPLETO          6292\n",
       "ENSINO MEDIO INCOMPLETO           4491\n",
       "NAO INFORMADO                     4452\n",
       "ENSINO FUNDAMENTAL COMPLETO       3863\n",
       "ENSINO SUPERIOR INCOMPLETO        3172\n",
       "PREJUDICADO                       1090\n",
       "NAO ALFABETIZADO                   332\n",
       "POS-GRADUACAO/ESPECIALIZACAO         4\n",
       "MESTRADO                             1\n",
       "Name: count, dtype: int64"
      ]
     },
     "execution_count": 252,
     "metadata": {},
     "output_type": "execute_result"
    }
   ],
   "source": [
    "crimes_selecionados_belem.vit_grau_inst.value_counts()"
   ]
  },
  {
   "cell_type": "markdown",
   "id": "638ce281",
   "metadata": {},
   "source": [
    "- aut_sexo"
   ]
  },
  {
   "cell_type": "code",
   "execution_count": 253,
   "id": "4b634516",
   "metadata": {},
   "outputs": [
    {
     "data": {
      "text/plain": [
       "aut_sexo\n",
       "NI               13830\n",
       "M                13180\n",
       "P                10983\n",
       "Nao informado     5781\n",
       "F                 3833\n",
       "PJ                  23\n",
       "Name: count, dtype: int64"
      ]
     },
     "execution_count": 253,
     "metadata": {},
     "output_type": "execute_result"
    }
   ],
   "source": [
    "crimes_selecionados_belem.aut_sexo.value_counts()"
   ]
  },
  {
   "cell_type": "code",
   "execution_count": 254,
   "id": "31fd051d",
   "metadata": {},
   "outputs": [],
   "source": [
    "crimes_selecionados_belem.loc[crimes_selecionados_belem.aut_sexo == \"NI\", 'aut_sexo'] = 'Nao informado'"
   ]
  },
  {
   "cell_type": "code",
   "execution_count": 255,
   "id": "fe1178e3",
   "metadata": {},
   "outputs": [],
   "source": [
    "crimes_selecionados_belem.loc[crimes_selecionados_belem.aut_sexo == \"P\", 'aut_sexo'] = 'Nao informado'"
   ]
  },
  {
   "cell_type": "code",
   "execution_count": 256,
   "id": "1ec4962f",
   "metadata": {},
   "outputs": [],
   "source": [
    "crimes_selecionados_belem.drop(crimes_selecionados_belem[crimes_selecionados_belem['aut_sexo'].isin(['PJ'])].index, inplace=True)\n",
    "crimes_selecionados_belem.reset_index(drop=True, inplace=True)"
   ]
  },
  {
   "cell_type": "code",
   "execution_count": 257,
   "id": "fc49a3f7",
   "metadata": {},
   "outputs": [
    {
     "data": {
      "text/plain": [
       "aut_sexo\n",
       "Nao informado    30594\n",
       "M                13180\n",
       "F                 3833\n",
       "Name: count, dtype: int64"
      ]
     },
     "execution_count": 257,
     "metadata": {},
     "output_type": "execute_result"
    }
   ],
   "source": [
    "crimes_selecionados_belem.aut_sexo.value_counts()"
   ]
  },
  {
   "cell_type": "markdown",
   "id": "e180fedf",
   "metadata": {},
   "source": [
    "### 3. Transformação"
   ]
  },
  {
   "cell_type": "markdown",
   "id": "ca2995a3",
   "metadata": {},
   "source": [
    "- Incorporando uma nova funcionalidade ao banco de dados"
   ]
  },
  {
   "cell_type": "markdown",
   "id": "7397ada4",
   "metadata": {},
   "source": [
    "Será introduzida uma coluna adicional chamada \"turno\", destinada a uniformizar a base de dados, indicando o período durante o qual o crime ocorreu, derivado da coluna \"fx_4_hor\"."
   ]
  },
  {
   "cell_type": "code",
   "execution_count": 258,
   "id": "f91a17af",
   "metadata": {},
   "outputs": [],
   "source": [
    "dicionario_mapa ={'00 |-- 06' : \"MADRUGADA\", '06 |-- 12' :\"MANHA\", '12 |-- 18' : \"TARDE\", '18 |-- 24':\"NOITE\"} \n",
    "crimes_selecionados_belem['turno'] = crimes_selecionados_belem['fx_4_hor'].map(dicionario_mapa)"
   ]
  },
  {
   "cell_type": "code",
   "execution_count": 259,
   "id": "126c8cdd",
   "metadata": {},
   "outputs": [],
   "source": [
    "crimes_selecionados_belem.drop(columns=['fx_4_hor'], inplace=True)"
   ]
  },
  {
   "cell_type": "code",
   "execution_count": 260,
   "id": "2af6bace",
   "metadata": {},
   "outputs": [
    {
     "name": "stdout",
     "output_type": "stream",
     "text": [
      "<class 'pandas.core.frame.DataFrame'>\n",
      "RangeIndex: 47607 entries, 0 to 47606\n",
      "Data columns (total 20 columns):\n",
      " #   Column                  Non-Null Count  Dtype \n",
      "---  ------                  --------------  ----- \n",
      " 0   unidade_origem          47607 non-null  object\n",
      " 1   unidade_responsavel     47607 non-null  object\n",
      " 2   dia_semana              47607 non-null  object\n",
      " 3   mes_fato                47607 non-null  object\n",
      " 4   ano_fato                47607 non-null  int64 \n",
      " 5   data_fato               47607 non-null  object\n",
      " 6   consolidado             47607 non-null  object\n",
      " 7   especificacao_crime     47607 non-null  object\n",
      " 8   causa_presumivel        47607 non-null  object\n",
      " 9   meio_empregado_sisp     47607 non-null  object\n",
      " 10  bairros                 47607 non-null  object\n",
      " 11  local_ocorrencia        47607 non-null  object\n",
      " 12  vit_fx_etaria           47607 non-null  object\n",
      " 13  vit_sexo                47607 non-null  object\n",
      " 14  vit_cor_pele            47607 non-null  object\n",
      " 15  vit_grau_inst           47607 non-null  object\n",
      " 16  grau_de_relacionamento  47607 non-null  object\n",
      " 17  relato                  47607 non-null  object\n",
      " 18  aut_sexo                47607 non-null  object\n",
      " 19  turno                   47607 non-null  object\n",
      "dtypes: int64(1), object(19)\n",
      "memory usage: 7.3+ MB\n"
     ]
    }
   ],
   "source": [
    "crimes_selecionados_belem.info()"
   ]
  },
  {
   "cell_type": "markdown",
   "id": "32dface7",
   "metadata": {},
   "source": [
    "Será introduzida uma coluna adicional chamada \"periodo_ano\", destinada a uniformizar a base de dados, indicando os períodos(semestre) do ano em que o crime ocorreu, derivado da coluna \"data_fato\"."
   ]
  },
  {
   "cell_type": "code",
   "execution_count": 261,
   "id": "d2c4a4a7",
   "metadata": {},
   "outputs": [
    {
     "data": {
      "text/plain": [
       "'2023-12-31'"
      ]
     },
     "execution_count": 261,
     "metadata": {},
     "output_type": "execute_result"
    }
   ],
   "source": [
    "crimes_selecionados_belem.data_fato.max()"
   ]
  },
  {
   "cell_type": "code",
   "execution_count": 262,
   "id": "7e99f2b1",
   "metadata": {},
   "outputs": [
    {
     "data": {
      "text/plain": [
       "'2019-01-01'"
      ]
     },
     "execution_count": 262,
     "metadata": {},
     "output_type": "execute_result"
    }
   ],
   "source": [
    "crimes_selecionados_belem.data_fato.min()"
   ]
  },
  {
   "cell_type": "code",
   "execution_count": 263,
   "id": "6c0b33af",
   "metadata": {},
   "outputs": [],
   "source": [
    "crimes_selecionados_belem.loc[crimes_selecionados_belem['data_fato'].between('2019-01-01', '2019-06-30'), 'periodo'] = '1 SEMESTRE DE 2019'"
   ]
  },
  {
   "cell_type": "code",
   "execution_count": 264,
   "id": "3c38795f",
   "metadata": {},
   "outputs": [],
   "source": [
    "crimes_selecionados_belem.loc[crimes_selecionados_belem['data_fato'].between('2019-07-01', '2019-12-31'), 'periodo'] = '2 SEMESTRE DE 2019'"
   ]
  },
  {
   "cell_type": "code",
   "execution_count": 265,
   "id": "2b1e857d",
   "metadata": {},
   "outputs": [],
   "source": [
    "crimes_selecionados_belem.loc[crimes_selecionados_belem['data_fato'].between('2020-01-01', '2020-06-30'), 'periodo'] = '1 SEMESTRE DE 2020'"
   ]
  },
  {
   "cell_type": "code",
   "execution_count": 266,
   "id": "f08d91a5",
   "metadata": {},
   "outputs": [],
   "source": [
    "crimes_selecionados_belem.loc[crimes_selecionados_belem['data_fato'].between('2020-07-01', '2020-12-31'), 'periodo'] = '2 SEMESTRE DE 2020'"
   ]
  },
  {
   "cell_type": "code",
   "execution_count": 267,
   "metadata": {},
   "outputs": [],
   "source": [
    "crimes_selecionados_belem.loc[crimes_selecionados_belem['data_fato'].between('2021-01-01', '2021-06-30'), 'periodo'] = '1 SEMESTRE DE 2021'"
   ]
  },
  {
   "cell_type": "code",
   "execution_count": 268,
   "metadata": {},
   "outputs": [],
   "source": [
    "crimes_selecionados_belem.loc[crimes_selecionados_belem['data_fato'].between('2021-07-01', '2021-12-31'), 'periodo'] = '2 SEMESTRE DE 2021'"
   ]
  },
  {
   "cell_type": "code",
   "execution_count": 269,
   "metadata": {},
   "outputs": [],
   "source": [
    "crimes_selecionados_belem.loc[crimes_selecionados_belem['data_fato'].between('2022-01-01', '2022-06-30'), 'periodo'] = '1 SEMESTRE DE 2022'"
   ]
  },
  {
   "cell_type": "code",
   "execution_count": 270,
   "id": "ba48c6c9",
   "metadata": {},
   "outputs": [],
   "source": [
    "crimes_selecionados_belem.loc[crimes_selecionados_belem['data_fato'].between('2022-07-01', '2022-12-31'), 'periodo'] = '2 SEMESTRE DE 2022'"
   ]
  },
  {
   "cell_type": "code",
   "execution_count": 271,
   "id": "726f2285",
   "metadata": {},
   "outputs": [],
   "source": [
    "crimes_selecionados_belem.loc[crimes_selecionados_belem['data_fato'].between('2023-01-01', '2023-06-30'), 'periodo'] = '1 SEMESTRE DE 2023'"
   ]
  },
  {
   "cell_type": "code",
   "execution_count": 272,
   "id": "aea016d1",
   "metadata": {},
   "outputs": [],
   "source": [
    "crimes_selecionados_belem.loc[crimes_selecionados_belem['data_fato'].between('2023-07-01', '2023-12-31'), 'periodo'] = '2 SEMESTRE DE 2023'"
   ]
  },
  {
   "cell_type": "markdown",
   "id": "eb9f7425",
   "metadata": {},
   "source": [
    "Apos os tratamentos e alterações, a base será salva como um novo dataframe"
   ]
  },
  {
   "cell_type": "code",
   "execution_count": 294,
   "id": "a2e15f36",
   "metadata": {},
   "outputs": [],
   "source": [
    "crimes_selecionados_belem.to_csv('C:\\\\Users\\\\carlo\\\\Downloads\\\\crimes_tratados_belem.csv', index=False)"
   ]
  },
  {
   "cell_type": "markdown",
   "id": "23ff31fe",
   "metadata": {},
   "source": [
    "Tratamento da nova base para selecao dos crimes"
   ]
  },
  {
   "cell_type": "code",
   "execution_count": 295,
   "id": "c4042005",
   "metadata": {},
   "outputs": [],
   "source": [
    "crimes_tratados_belem = pd.read_csv('C:\\\\Users\\\\carlo\\\\Downloads\\\\crimes_tratados_belem.csv')"
   ]
  },
  {
   "cell_type": "code",
   "execution_count": 296,
   "id": "ad1c1817",
   "metadata": {},
   "outputs": [
    {
     "data": {
      "text/html": [
       "<div>\n",
       "<style scoped>\n",
       "    .dataframe tbody tr th:only-of-type {\n",
       "        vertical-align: middle;\n",
       "    }\n",
       "\n",
       "    .dataframe tbody tr th {\n",
       "        vertical-align: top;\n",
       "    }\n",
       "\n",
       "    .dataframe thead th {\n",
       "        text-align: right;\n",
       "    }\n",
       "</style>\n",
       "<table border=\"1\" class=\"dataframe\">\n",
       "  <thead>\n",
       "    <tr style=\"text-align: right;\">\n",
       "      <th></th>\n",
       "      <th>unidade_origem</th>\n",
       "      <th>unidade_responsavel</th>\n",
       "      <th>dia_semana</th>\n",
       "      <th>mes_fato</th>\n",
       "      <th>ano_fato</th>\n",
       "      <th>data_fato</th>\n",
       "      <th>consolidado</th>\n",
       "      <th>especificacao_crime</th>\n",
       "      <th>causa_presumivel</th>\n",
       "      <th>meio_empregado_sisp</th>\n",
       "      <th>bairros</th>\n",
       "      <th>local_ocorrencia</th>\n",
       "      <th>vit_fx_etaria</th>\n",
       "      <th>vit_sexo</th>\n",
       "      <th>vit_cor_pele</th>\n",
       "      <th>vit_grau_inst</th>\n",
       "      <th>grau_de_relacionamento</th>\n",
       "      <th>relato</th>\n",
       "      <th>aut_sexo</th>\n",
       "      <th>turno</th>\n",
       "      <th>periodo</th>\n",
       "    </tr>\n",
       "  </thead>\n",
       "  <tbody>\n",
       "    <tr>\n",
       "      <th>0</th>\n",
       "      <td>TERRA FIRME - UNIDADE INTEGRADA PROPAZ - 1ª RI...</td>\n",
       "      <td>TERRA FIRME - UNIDADE INTEGRADA PROPAZ - 1ª RI...</td>\n",
       "      <td>SAB</td>\n",
       "      <td>FEVEREIRO</td>\n",
       "      <td>2019</td>\n",
       "      <td>2019-02-09</td>\n",
       "      <td>AMEACA</td>\n",
       "      <td>Nao informado</td>\n",
       "      <td>CIÚME</td>\n",
       "      <td>OUTROS MEIOS</td>\n",
       "      <td>TERRA FIRME</td>\n",
       "      <td>VIA PUBLICA</td>\n",
       "      <td>ADULTO IV (35 A 64 ANOS)</td>\n",
       "      <td>F</td>\n",
       "      <td>PREJUDICADO</td>\n",
       "      <td>ENSINO MEDIO COMPLETO</td>\n",
       "      <td>NAO INFORMADO</td>\n",
       "      <td>&lt;p&gt;A nacional&amp;nbsp;MARISANGELA FERREIRA PACHEC...</td>\n",
       "      <td>Nao informado</td>\n",
       "      <td>MANHA</td>\n",
       "      <td>1 SEMESTRE DE 2019</td>\n",
       "    </tr>\n",
       "    <tr>\n",
       "      <th>1</th>\n",
       "      <td>SAO BRAS - 2º SECCIONAL -1º RISP- 2ª AISP</td>\n",
       "      <td>PEDREIRA - 10ª SECCIONAL - 1ª RISP - 8ª AISP</td>\n",
       "      <td>SAB</td>\n",
       "      <td>JANEIRO</td>\n",
       "      <td>2019</td>\n",
       "      <td>2019-01-26</td>\n",
       "      <td>LESAO CORPORAL</td>\n",
       "      <td>Nao informado</td>\n",
       "      <td>ÓDIO OU VINGANÇA</td>\n",
       "      <td>OUTROS MEIOS</td>\n",
       "      <td>PEDREIRA</td>\n",
       "      <td>HOSPITAL</td>\n",
       "      <td>ADULTO IV (35 A 64 ANOS)</td>\n",
       "      <td>F</td>\n",
       "      <td>PREJUDICADO</td>\n",
       "      <td>ENSINO FUNDAMENTAL COMPLETO</td>\n",
       "      <td>NAO INFORMADO</td>\n",
       "      <td>&lt;p&gt;O relatora acima qualificada, compareceu a ...</td>\n",
       "      <td>Nao informado</td>\n",
       "      <td>NOITE</td>\n",
       "      <td>1 SEMESTRE DE 2019</td>\n",
       "    </tr>\n",
       "    <tr>\n",
       "      <th>2</th>\n",
       "      <td>DELEGACIA ESPECIALIZADA NO ATENDIMENTO A MULHE...</td>\n",
       "      <td>DELEGACIA ESPECIALIZADA NO ATENDIMENTO A MULHE...</td>\n",
       "      <td>SAB</td>\n",
       "      <td>NOVEMBRO</td>\n",
       "      <td>2019</td>\n",
       "      <td>2019-11-02</td>\n",
       "      <td>AMEACA</td>\n",
       "      <td>VIOLENCIA DOMESTICA/MARIA DA PENHA</td>\n",
       "      <td>ALCOOLISMO / EMBRIAGUEZ</td>\n",
       "      <td>OUTROS MEIOS</td>\n",
       "      <td>PEDREIRA</td>\n",
       "      <td>RESIDENCIA PARTICULAR</td>\n",
       "      <td>ADULTO IV (35 A 64 ANOS)</td>\n",
       "      <td>F</td>\n",
       "      <td>PREJUDICADO</td>\n",
       "      <td>ENSINO FUNDAMENTAL INCOMPLETO</td>\n",
       "      <td>NAO INFORMADO</td>\n",
       "      <td>&lt;p&gt;Que, compareceu a esta especializada para d...</td>\n",
       "      <td>Nao informado</td>\n",
       "      <td>TARDE</td>\n",
       "      <td>2 SEMESTRE DE 2019</td>\n",
       "    </tr>\n",
       "    <tr>\n",
       "      <th>3</th>\n",
       "      <td>DELEGACIA ESPECIALIZADA NO ATENDIMENTO A MULHE...</td>\n",
       "      <td>DELEGACIA ESPECIALIZADA NO ATENDIMENTO A MULHE...</td>\n",
       "      <td>QUA</td>\n",
       "      <td>NOVEMBRO</td>\n",
       "      <td>2019</td>\n",
       "      <td>2019-11-06</td>\n",
       "      <td>LESAO CORPORAL</td>\n",
       "      <td>VIOLENCIA DOMESTICA/MARIA DA PENHA</td>\n",
       "      <td>ÓDIO OU VINGANÇA</td>\n",
       "      <td>SEM INSTRUMENTO</td>\n",
       "      <td>MARAMBAIA</td>\n",
       "      <td>RESIDENCIA PARTICULAR</td>\n",
       "      <td>ADULTO III (30 A 34 ANOS)</td>\n",
       "      <td>F</td>\n",
       "      <td>PREJUDICADO</td>\n",
       "      <td>ENSINO MEDIO INCOMPLETO</td>\n",
       "      <td>NAO INFORMADO</td>\n",
       "      <td>&lt;p&gt;O relator acima qualificado, na qualidade d...</td>\n",
       "      <td>Nao informado</td>\n",
       "      <td>TARDE</td>\n",
       "      <td>2 SEMESTRE DE 2019</td>\n",
       "    </tr>\n",
       "    <tr>\n",
       "      <th>4</th>\n",
       "      <td>CIDADE NOVA - 3ª SECCIONAL - 2ª RISP - 18ª AISP</td>\n",
       "      <td>DELEGACIA ESPECIALIZADA NO ATENDIMENTO A MULHE...</td>\n",
       "      <td>SEX</td>\n",
       "      <td>MAIO</td>\n",
       "      <td>2019</td>\n",
       "      <td>2019-05-17</td>\n",
       "      <td>AMEACA</td>\n",
       "      <td>Nao informado</td>\n",
       "      <td>OUTRAS</td>\n",
       "      <td>OUTROS MEIOS</td>\n",
       "      <td>CABANAGEM</td>\n",
       "      <td>RESIDENCIA PARTICULAR</td>\n",
       "      <td>ADULTO III (30 A 34 ANOS)</td>\n",
       "      <td>F</td>\n",
       "      <td>PREJUDICADO</td>\n",
       "      <td>ENSINO MEDIO COMPLETO</td>\n",
       "      <td>NAO INFORMADO</td>\n",
       "      <td>&lt;p&gt;A Relatora qualificada em epígrafe comparec...</td>\n",
       "      <td>Nao informado</td>\n",
       "      <td>MANHA</td>\n",
       "      <td>1 SEMESTRE DE 2019</td>\n",
       "    </tr>\n",
       "  </tbody>\n",
       "</table>\n",
       "</div>"
      ],
      "text/plain": [
       "                                      unidade_origem  \\\n",
       "0  TERRA FIRME - UNIDADE INTEGRADA PROPAZ - 1ª RI...   \n",
       "1          SAO BRAS - 2º SECCIONAL -1º RISP- 2ª AISP   \n",
       "2  DELEGACIA ESPECIALIZADA NO ATENDIMENTO A MULHE...   \n",
       "3  DELEGACIA ESPECIALIZADA NO ATENDIMENTO A MULHE...   \n",
       "4    CIDADE NOVA - 3ª SECCIONAL - 2ª RISP - 18ª AISP   \n",
       "\n",
       "                                 unidade_responsavel dia_semana   mes_fato  \\\n",
       "0  TERRA FIRME - UNIDADE INTEGRADA PROPAZ - 1ª RI...        SAB  FEVEREIRO   \n",
       "1       PEDREIRA - 10ª SECCIONAL - 1ª RISP - 8ª AISP        SAB    JANEIRO   \n",
       "2  DELEGACIA ESPECIALIZADA NO ATENDIMENTO A MULHE...        SAB   NOVEMBRO   \n",
       "3  DELEGACIA ESPECIALIZADA NO ATENDIMENTO A MULHE...        QUA   NOVEMBRO   \n",
       "4  DELEGACIA ESPECIALIZADA NO ATENDIMENTO A MULHE...        SEX       MAIO   \n",
       "\n",
       "   ano_fato   data_fato     consolidado                 especificacao_crime  \\\n",
       "0      2019  2019-02-09          AMEACA                       Nao informado   \n",
       "1      2019  2019-01-26  LESAO CORPORAL                       Nao informado   \n",
       "2      2019  2019-11-02          AMEACA  VIOLENCIA DOMESTICA/MARIA DA PENHA   \n",
       "3      2019  2019-11-06  LESAO CORPORAL  VIOLENCIA DOMESTICA/MARIA DA PENHA   \n",
       "4      2019  2019-05-17          AMEACA                       Nao informado   \n",
       "\n",
       "          causa_presumivel meio_empregado_sisp      bairros  \\\n",
       "0                    CIÚME        OUTROS MEIOS  TERRA FIRME   \n",
       "1         ÓDIO OU VINGANÇA        OUTROS MEIOS     PEDREIRA   \n",
       "2  ALCOOLISMO / EMBRIAGUEZ        OUTROS MEIOS     PEDREIRA   \n",
       "3         ÓDIO OU VINGANÇA     SEM INSTRUMENTO    MARAMBAIA   \n",
       "4                   OUTRAS        OUTROS MEIOS    CABANAGEM   \n",
       "\n",
       "        local_ocorrencia              vit_fx_etaria vit_sexo vit_cor_pele  \\\n",
       "0            VIA PUBLICA   ADULTO IV (35 A 64 ANOS)        F  PREJUDICADO   \n",
       "1               HOSPITAL   ADULTO IV (35 A 64 ANOS)        F  PREJUDICADO   \n",
       "2  RESIDENCIA PARTICULAR   ADULTO IV (35 A 64 ANOS)        F  PREJUDICADO   \n",
       "3  RESIDENCIA PARTICULAR  ADULTO III (30 A 34 ANOS)        F  PREJUDICADO   \n",
       "4  RESIDENCIA PARTICULAR  ADULTO III (30 A 34 ANOS)        F  PREJUDICADO   \n",
       "\n",
       "                   vit_grau_inst grau_de_relacionamento  \\\n",
       "0          ENSINO MEDIO COMPLETO          NAO INFORMADO   \n",
       "1    ENSINO FUNDAMENTAL COMPLETO          NAO INFORMADO   \n",
       "2  ENSINO FUNDAMENTAL INCOMPLETO          NAO INFORMADO   \n",
       "3        ENSINO MEDIO INCOMPLETO          NAO INFORMADO   \n",
       "4          ENSINO MEDIO COMPLETO          NAO INFORMADO   \n",
       "\n",
       "                                              relato       aut_sexo  turno  \\\n",
       "0  <p>A nacional&nbsp;MARISANGELA FERREIRA PACHEC...  Nao informado  MANHA   \n",
       "1  <p>O relatora acima qualificada, compareceu a ...  Nao informado  NOITE   \n",
       "2  <p>Que, compareceu a esta especializada para d...  Nao informado  TARDE   \n",
       "3  <p>O relator acima qualificado, na qualidade d...  Nao informado  TARDE   \n",
       "4  <p>A Relatora qualificada em epígrafe comparec...  Nao informado  MANHA   \n",
       "\n",
       "              periodo  \n",
       "0  1 SEMESTRE DE 2019  \n",
       "1  1 SEMESTRE DE 2019  \n",
       "2  2 SEMESTRE DE 2019  \n",
       "3  2 SEMESTRE DE 2019  \n",
       "4  1 SEMESTRE DE 2019  "
      ]
     },
     "execution_count": 296,
     "metadata": {},
     "output_type": "execute_result"
    }
   ],
   "source": [
    "crimes_tratados_belem.head()"
   ]
  },
  {
   "cell_type": "code",
   "execution_count": 297,
   "id": "fffa4cb6",
   "metadata": {},
   "outputs": [
    {
     "data": {
      "text/plain": [
       "(47607, 21)"
      ]
     },
     "execution_count": 297,
     "metadata": {},
     "output_type": "execute_result"
    }
   ],
   "source": [
    "crimes_tratados_belem.shape"
   ]
  },
  {
   "cell_type": "code",
   "execution_count": 298,
   "id": "7802bca0",
   "metadata": {},
   "outputs": [
    {
     "data": {
      "text/plain": [
       "consolidado\n",
       "AMEACA                                                                                                                                                                                                                                                             27032\n",
       "LESAO CORPORAL                                                                                                                                                                                                                                                     14882\n",
       "ESTUPRO DE VULNERAVEL                                                                                                                                                                                                                                               1869\n",
       "IMPORTUNACAO SEXUAL                                                                                                                                                                                                                                                 1389\n",
       "VIOLENCIA PSICOLOGICA                                                                                                                                                                                                                                               1123\n",
       "DESCUMPRIMENTO DE MEDIDAS PROTETIVAS                                                                                                                                                                                                                                 296\n",
       "ASSEDIO SEXUAL                                                                                                                                                                                                                                                       195\n",
       "TENTATIVA DE HOMICIDIO                                                                                                                                                                                                                                               194\n",
       "VIOLENCIA MORAL, QUALQUER CONDUTA QUE CONFIGURE CALUNIA, DIFAMACAO OU INJURIA                                                                                                                                                                                        142\n",
       "HOMICIDIO                                                                                                                                                                                                                                                            141\n",
       "LESAO CORPORAL CULPOSA                                                                                                                                                                                                                                                80\n",
       "TENTATIVA DE LESAO CORPORAL                                                                                                                                                                                                                                           52\n",
       "A VIOLENCIA PATRIMONIAL, ENTENDIDA COMO QUALQUER CONDUTA QUE CONFIGURE RETENCAO, SUBTRACAO, DESTRUICAO PARCIAL OU TOTAL DE SEUS OBJETOS, INSTRUMENTOS DE TRABALHO, DOCUMENTOS PESSOAIS, BENS, VALORES E DIREITOS OU RECURSOS ECONOMICOS, INCLUINDO OS DEST            36\n",
       "ASSEDIO SEXUAL POR SUPERIOR HIERARQUICO OU ASCENDENTE                                                                                                                                                                                                                 27\n",
       "SUSPEITO DE ESTUPRO DE VULNERAVEL                                                                                                                                                                                                                                     25\n",
       "VIOLENCIA FISICA, QUALQUER CONDUTA QUE OFENDA SUA INTEGRIDADE OU SAUDE CORPORAL                                                                                                                                                                                       25\n",
       "DESCUMPRIMENTO DE MEDIDA PROTETIVA                                                                                                                                                                                                                                    23\n",
       "TENTATIVA DE ESTUPRO DE VULNERAVEL                                                                                                                                                                                                                                    19\n",
       "HOMICIDIO CULPOSO                                                                                                                                                                                                                                                     13\n",
       "VIOLACAO SEXUAL MEDIANTE FRAUDE                                                                                                                                                                                                                                       12\n",
       "LESAO CORPORAL SEGUIDA DE MORTE                                                                                                                                                                                                                                        5\n",
       "LESAO CORPORAL DOLOSA                                                                                                                                                                                                                                                  4\n",
       "DESCUMPRIMENTO DE MEDIDA PROTETIVA DE URGENCIA                                                                                                                                                                                                                         3\n",
       "DESCUMPRIMENTO DE MEDIDA PROTETIVA DE URGENCIA DEFERIDA JUDICIALMENTE                                                                                                                                                                                                  3\n",
       "ESTUPRO DE VULNERAVEL COM RESULTADO MORTE                                                                                                                                                                                                                              2\n",
       "ESTUPRO COM RESULTADO MORTE                                                                                                                                                                                                                                            2\n",
       "ASSEDIO                                                                                                                                                                                                                                                                2\n",
       "MEDIDAS PROTETIVAS                                                                                                                                                                                                                                                     2\n",
       "VIOLENCIA DOMESTICA E FAMILIAR CONTRA A MULHER - DEFINICAO                                                                                                                                                                                                             2\n",
       "VIOLACAO SEXUAL                                                                                                                                                                                                                                                        2\n",
       "VIOLENCIA DOMESTICA E FAMILIAR CONTRA A MULHER                                                                                                                                                                                                                         1\n",
       "VIOLENCIA PSICOLOGICA, QUALQUER CONDUTA QUE LHE CAUSE DANO EMOCIONAL, DIMINUICAO DA AUTO-ESTIMA, LHE PREJUDIQUE E PERTURBE O PLENO DESENVOLVIMENTO, VISE DEGRADAR OU CONTROLAR SUAS ACOES, COMPORTAMENTOS, CRENCAS E DECISOES, MEDIANTE AMEACA, CONSTRANGIMENTO        1\n",
       "VIOLENCIA PATRIMONIAL                                                                                                                                                                                                                                                  1\n",
       "VIOLENCIA SEXUAL, QUALQUER CONDUTA QUE A CONSTRANJA A PRESENCIAR, A MANTER OU A PARTICIPAR DE RELACAO SEXUAL NAO DESEJADA, MEDIANTE INTIMIDACAO, AMEACA, COACAO OU USO DA FORCA, INDUZA A COMERCIALIZAR OU A UTILIZAR, DE QUALQUER MODO, A SUA SEXUALIDADE, IMP        1\n",
       "SUSPEITA DE ESTUPRO DE VULNERAVEL                                                                                                                                                                                                                                      1\n",
       "Name: count, dtype: int64"
      ]
     },
     "execution_count": 298,
     "metadata": {},
     "output_type": "execute_result"
    }
   ],
   "source": [
    "crimes_tratados_belem.consolidado.value_counts()"
   ]
  },
  {
   "cell_type": "markdown",
   "id": "f981536a",
   "metadata": {},
   "source": [
    "A coluna especificacao_crime sera usada para fazer ajustes na coluna consolidado onde retorna crimes como homicidio e tentativa de homicidio e são especificados como feminicidio. Apos os ajustes a coluna especificacao_crime sera deletada."
   ]
  },
  {
   "cell_type": "code",
   "execution_count": 299,
   "metadata": {},
   "outputs": [
    {
     "name": "stdout",
     "output_type": "stream",
     "text": [
      "numero de itens unicos em especificacao_crime: 142\n"
     ]
    },
    {
     "data": {
      "text/plain": [
       "array(['Nao informado', 'VIOLENCIA DOMESTICA/MARIA DA PENHA',\n",
       "       'EM DECOMPOSICAO', 'VIOLENCIA DOMESTICA', 'NAO INFORMADO',\n",
       "       'VIOLENCIA DOMESTICA/ESTUPRO COLETIVO', 'TENTATIVA DE FEMINICIDIO',\n",
       "       'VILOENCIA DOMESTICA/SIGILOSO', 'NEGLIGENCIA MEDICA',\n",
       "       'CARACTERISTICA DE EXECUCAO', 'SIGILOSO', 'VIOLACAO DE DOMICILIO',\n",
       "       'CARACTERISTICA DE EXECUCAO/CHACINA/MILICIA', 'QUEDA',\n",
       "       'NEGLIGENCIA', 'FEMINICIDIO', 'PARA INVESTIGACAO',\n",
       "       'INTERVENCAO POLICIAL', 'ERRO MEDICO',\n",
       "       'FEMINICIDIO/VIOLENCIA DOMESTICA',\n",
       "       'CARACTERISTICA DE EXECUCAO/CHACINA', 'MEDIANTE FRAUDE',\n",
       "       'QUEIMADURA', 'QUEDA DA PROPRIA ALTURA', 'RESIDENCIA',\n",
       "       'ACHADO DE CADAVER ', 'DESCARGA ELETRICA', 'QUEDA EM CONDUCAO',\n",
       "       'FOI DOPADA', 'AO COLETIVO', 'NATIMORTO', 'TIROS NA VIATURA',\n",
       "       'MORDIDA DE CACHORRO', 'NAO INFORMADO ', 'DOPADA', 'MENOR',\n",
       "       'MENOR/VIOLENCIA DOMESTICA', 'COM PROCEDIMENTO',\n",
       "       'MENOR/ERA DO FATO', 'ATROPELAMENTO', 'CRIME VIRTUAL',\n",
       "       'MORDIDA DE ANIMAL', 'ERA DO FATO/VIOLENCIA DOMESTICA',\n",
       "       'VIOLENCIA DOMESTICA/COM LESAO', 'COLISAO', 'COMUNICACAO',\n",
       "       'TENTATIVA DE FEMINICIDIO/VIOLENCIA DOMESTICA', 'OUTROS',\n",
       "       'ALCOOLIZADO(A)', 'VIOLENCIA', 'DOPADO(A)', 'COM LESAO',\n",
       "       'ALCOOLIZADO(A)/COLETIVO', 'PESSOA COM DEFICIENCIA',\n",
       "       'POSSIVEL NEGLIGENCIA', 'SEM LESAO', 'VIOLENCIA FISICA',\n",
       "       'VIOLENCIA DOMESTICA/SEM LESAO', 'QUEDA DE MOTO', 'ERA DO FATO',\n",
       "       'VIOLENCIA DOMESTICA/MENOR', 'PARA APURACAO', 'MOTIVO FUTIL',\n",
       "       'PREJUDICADO', 'VIOLENCIA DOMESTICA/ERA DO FATO',\n",
       "       'MENOR/VIOLENCIA DOMESTICA/ERA DO FATO', 'EM COLETIVO', 'RELIGIAO',\n",
       "       'TRAFICO', 'OMISSAO DE SOCORRO',\n",
       "       'TENTATIVA DE FEMINICIDIO/COM LESAO', 'BALA PERDIDA', 'LGBTFOBIA',\n",
       "       'EM VEICULO/APLICATIVO DE TRANSPORTE/PASSAGEIRO',\n",
       "       'PREJUDICADO/VIOLENCIA DOMESTICA',\n",
       "       'EM VEICULO/APLICATIVO DE ENTREGA',\n",
       "       'MENOR/ERA DO FATO/VIOLENCIA DOMESTICA', 'WHATSAPP', 'SIMPLES',\n",
       "       'COM LESAO/COM REFEM', 'ESMAGAMENTO', 'NAO', 'ERRO SOBRE A PESSOA',\n",
       "       'SUPERIOR HIERARQUICO', 'DISPARO DE ARMA DE FOGO', 'FEMICIDIO',\n",
       "       'MENOR/ERA DO FATO/COMUNICACAO',\n",
       "       'CRIME VIRTUAL/VIOLENCIA DOMESTICA', 'CHOQUE COM OBJETO FIXO',\n",
       "       'PENITENCIARIA', 'INTERNET', 'CRIME VIRTUAL/WHATSAPP',\n",
       "       'SIMPLES/VIOLENCIA DOMESTICA', 'VIOLENCIA DOMESTICA/WHATSAPP',\n",
       "       'ALCOOLIZADO(A)/VIOLENCIA DOMESTICA',\n",
       "       'FEMICIDIO/CARACTERISTICA DE EXECUCAO',\n",
       "       'EM ESTABELECIMENTO DE SAUDE', 'PREJUDICADO/COMUNICACAO',\n",
       "       'DOPADO(A)/VIOLENCIA DOMESTICA', 'TRANSEUNTE',\n",
       "       'CRIME VIRTUAL/REDE SOCIAL', 'MENOR/CRIME VIRTUAL/REDE SOCIAL',\n",
       "       'PESSOA COM DEFICIENCIA/VIOLENCIA DOMESTICA',\n",
       "       'CRIME VIRTUAL/REDE SOCIAL/VIOLENCIA DOMESTICA',\n",
       "       'ERA DO FATO/MENOR', 'MENOR/VIOLENICA DOMESTICA',\n",
       "       'MENOR/VIOELNCIA DOMESTICA/ERA DO FATO',\n",
       "       'MENOR/VIOLENCIA DOMESTICA/ERRA DO FATO', 'ALCOLIZADO(A)',\n",
       "       'MENOR/MP', 'VIOLENCIA MEDICA', 'OMISSAO NA GUARDA DE ANIMAIS',\n",
       "       'CRIME VIRTUAL/REDE SOCIAL/CV', 'MARCIA',\n",
       "       'MENOR/CRIME VIRTUAL/WHATSAPP', 'EM RESIDENCIA',\n",
       "       'ERA DO FATO/MENOR/VIOLENCIA DOMESTICA', 'EM VEICULO', 'MP',\n",
       "       'CRIME VIRTUAL/REDE VIRTUAL', 'EM ESTABELECIMENTO PUBLICO',\n",
       "       'EM ESTABELECIMENTO COMERCIAL', 'CELULAR/MOTO', 'BICICLETA',\n",
       "       'EM RESIDENCIA/MENOR',\n",
       "       'AO ESTABELECIMENTO DE ENSINO/AMEACA DE ATAQUE',\n",
       "       'EM ESTABELECIMENTO DE ENSINO/DISCENTE/AMEACA DE ATAQUE',\n",
       "       'IDOSO(A)/VIOLENCIA DOMESTICA', 'VIOLENCIA DOMESTICA/STALKING',\n",
       "       'EM ESTABELECIMENTO DE ENSINO/AMEACA DE ATAQUE/LGBTFOBIA',\n",
       "       'MENOR/DOPADO(A)', 'IDOSO(A)',\n",
       "       'EM ESTABELECIMENTO COMERCIAL/COM LESAO',\n",
       "       'CRIME VIRTUAL/REDE SOCIAL/MENOR', 'MENOR/CT',\n",
       "       'RESTRICAO DE LIBERDADE/VIOLENCIA DOMESTICA', 'ABALROAMENTO',\n",
       "       'VIOLENCIA DOMESTICA/CRIME VIRTUAL', 'ACHADO DE CADAVER',\n",
       "       'VIOLENCIA DOMESTICA/ALCOOLIZADO(A)', 'ABRIGO',\n",
       "       'EM ESTABELECIMENTO DE ENSINO/DOCENTE/AMEACA DE ATAQUE'],\n",
       "      dtype=object)"
      ]
     },
     "execution_count": 299,
     "metadata": {},
     "output_type": "execute_result"
    }
   ],
   "source": [
    "especificacao_unico = crimes_tratados_belem[\"especificacao_crime\"].unique()\n",
    "print(\"numero de itens unicos em especificacao_crime:\", len(especificacao_unico))\n",
    "especificacao_unico"
   ]
  },
  {
   "cell_type": "markdown",
   "id": "e6b9a2e4",
   "metadata": {},
   "source": [
    "Os valores \"HOMICIDIO\" e \"TENTATIVA DE HOMICIDIO\" na coluna 'consolidado' que tem sua especificacao como \"FEMINICIDIO\" na coluna éspecificacao_crime' serão reinscritos de acordo com sua especificação e para melhor gerar as visualizações"
   ]
  },
  {
   "cell_type": "code",
   "execution_count": 300,
   "id": "e02c8148",
   "metadata": {},
   "outputs": [
    {
     "data": {
      "text/html": [
       "<div>\n",
       "<style scoped>\n",
       "    .dataframe tbody tr th:only-of-type {\n",
       "        vertical-align: middle;\n",
       "    }\n",
       "\n",
       "    .dataframe tbody tr th {\n",
       "        vertical-align: top;\n",
       "    }\n",
       "\n",
       "    .dataframe thead th {\n",
       "        text-align: right;\n",
       "    }\n",
       "</style>\n",
       "<table border=\"1\" class=\"dataframe\">\n",
       "  <thead>\n",
       "    <tr style=\"text-align: right;\">\n",
       "      <th></th>\n",
       "      <th>unidade_origem</th>\n",
       "      <th>unidade_responsavel</th>\n",
       "      <th>dia_semana</th>\n",
       "      <th>mes_fato</th>\n",
       "      <th>ano_fato</th>\n",
       "      <th>data_fato</th>\n",
       "      <th>consolidado</th>\n",
       "      <th>especificacao_crime</th>\n",
       "      <th>causa_presumivel</th>\n",
       "      <th>meio_empregado_sisp</th>\n",
       "      <th>bairros</th>\n",
       "      <th>local_ocorrencia</th>\n",
       "      <th>vit_fx_etaria</th>\n",
       "      <th>vit_sexo</th>\n",
       "      <th>vit_cor_pele</th>\n",
       "      <th>vit_grau_inst</th>\n",
       "      <th>grau_de_relacionamento</th>\n",
       "      <th>relato</th>\n",
       "      <th>aut_sexo</th>\n",
       "      <th>turno</th>\n",
       "      <th>periodo</th>\n",
       "    </tr>\n",
       "  </thead>\n",
       "  <tbody>\n",
       "    <tr>\n",
       "      <th>129</th>\n",
       "      <td>DELEGACIA ESPECIALIZADA NO ATENDIMENTO A MULHE...</td>\n",
       "      <td>DELEGACIA ESPECIALIZADA NO ATENDIMENTO A MULHE...</td>\n",
       "      <td>QUI</td>\n",
       "      <td>AGOSTO</td>\n",
       "      <td>2019</td>\n",
       "      <td>2019-08-01</td>\n",
       "      <td>TENTATIVA DE HOMICIDIO</td>\n",
       "      <td>TENTATIVA DE FEMINICIDIO</td>\n",
       "      <td>ÓDIO OU VINGANÇA</td>\n",
       "      <td>ARMA PERFURO CORTANTE</td>\n",
       "      <td>MARACANGALHA</td>\n",
       "      <td>RESIDENCIA PARTICULAR</td>\n",
       "      <td>ADULTO IV (35 A 64 ANOS)</td>\n",
       "      <td>F</td>\n",
       "      <td>PREJUDICADO</td>\n",
       "      <td>ENSINO SUPERIOR INCOMPLETO</td>\n",
       "      <td>COMPANHEIRO(A)</td>\n",
       "      <td>&lt;p&gt;Declara ser casada ha 32 anos e possui 1 ca...</td>\n",
       "      <td>M</td>\n",
       "      <td>MADRUGADA</td>\n",
       "      <td>2 SEMESTRE DE 2019</td>\n",
       "    </tr>\n",
       "    <tr>\n",
       "      <th>1006</th>\n",
       "      <td>DELEGACIA DE CONTROLE DE CRIMES VIOLENTOS - PSM</td>\n",
       "      <td>SAO BRAS - 2º SECCIONAL -1º RISP- 2ª AISP</td>\n",
       "      <td>QUI</td>\n",
       "      <td>DEZEMBRO</td>\n",
       "      <td>2019</td>\n",
       "      <td>2019-12-05</td>\n",
       "      <td>TENTATIVA DE HOMICIDIO</td>\n",
       "      <td>VIOLENCIA DOMESTICA</td>\n",
       "      <td>OUTRAS</td>\n",
       "      <td>ARMA CORTANTE OU PERFURANTE</td>\n",
       "      <td>NAZARE</td>\n",
       "      <td>RESIDENCIA PARTICULAR</td>\n",
       "      <td>ADULTO III (30 A 34 ANOS)</td>\n",
       "      <td>F</td>\n",
       "      <td>PREJUDICADO</td>\n",
       "      <td>ENSINO MEDIO COMPLETO</td>\n",
       "      <td>IRMAO(A)</td>\n",
       "      <td>&lt;p&gt;A sra. acima identificada vem neste Serviço...</td>\n",
       "      <td>M</td>\n",
       "      <td>MANHA</td>\n",
       "      <td>2 SEMESTRE DE 2019</td>\n",
       "    </tr>\n",
       "    <tr>\n",
       "      <th>1080</th>\n",
       "      <td>DELEGACIA DE CONTROLE DE CRIMES VIOLENTOS - PSM</td>\n",
       "      <td>DELEGACIA ESPECIALIZADA NO ATENDIMENTO A MULHE...</td>\n",
       "      <td>QUA</td>\n",
       "      <td>JUNHO</td>\n",
       "      <td>2019</td>\n",
       "      <td>2019-06-19</td>\n",
       "      <td>TENTATIVA DE HOMICIDIO</td>\n",
       "      <td>TENTATIVA DE FEMINICIDIO</td>\n",
       "      <td>ÓDIO OU VINGANÇA</td>\n",
       "      <td>ARMA PERFURO CORTANTE</td>\n",
       "      <td>MARCO</td>\n",
       "      <td>RESIDENCIA PARTICULAR</td>\n",
       "      <td>ADULTO IV (35 A 64 ANOS)</td>\n",
       "      <td>F</td>\n",
       "      <td>PREJUDICADO</td>\n",
       "      <td>ENSINO SUPERIOR INCOMPLETO</td>\n",
       "      <td>EX-COMPANHEIRO(A)</td>\n",
       "      <td>&lt;p&gt;A relatora/vítima, compareceu neste Posto P...</td>\n",
       "      <td>M</td>\n",
       "      <td>MANHA</td>\n",
       "      <td>1 SEMESTRE DE 2019</td>\n",
       "    </tr>\n",
       "    <tr>\n",
       "      <th>1607</th>\n",
       "      <td>DELEGACIA DE CONTROLE DE CRIMES VIOLENTOS - ME...</td>\n",
       "      <td>CABANAGEM - DELEGACIA DE POLICIA - 1ª RISP - 1...</td>\n",
       "      <td>SEG</td>\n",
       "      <td>JUNHO</td>\n",
       "      <td>2019</td>\n",
       "      <td>2019-06-03</td>\n",
       "      <td>TENTATIVA DE HOMICIDIO</td>\n",
       "      <td>TENTATIVA DE FEMINICIDIO</td>\n",
       "      <td>ÓDIO OU VINGANÇA</td>\n",
       "      <td>ARMA PERFURO CORTANTE</td>\n",
       "      <td>CABANAGEM</td>\n",
       "      <td>RESIDENCIA PARTICULAR</td>\n",
       "      <td>ADULTO I (18 A 24 ANOS)</td>\n",
       "      <td>F</td>\n",
       "      <td>PREJUDICADO</td>\n",
       "      <td>ENSINO FUNDAMENTAL COMPLETO</td>\n",
       "      <td>EX-COMPANHEIRO(A)</td>\n",
       "      <td>&lt;p&gt;A nacional acima qualificada, comunica nest...</td>\n",
       "      <td>M</td>\n",
       "      <td>MADRUGADA</td>\n",
       "      <td>1 SEMESTRE DE 2019</td>\n",
       "    </tr>\n",
       "    <tr>\n",
       "      <th>1609</th>\n",
       "      <td>DELEGACIA ESPECIALIZADA NO ATENDIMENTO A MULHE...</td>\n",
       "      <td>DELEGACIA ESPECIALIZADA NO ATENDIMENTO A MULHE...</td>\n",
       "      <td>QUA</td>\n",
       "      <td>OUTUBRO</td>\n",
       "      <td>2019</td>\n",
       "      <td>2019-10-09</td>\n",
       "      <td>TENTATIVA DE HOMICIDIO</td>\n",
       "      <td>TENTATIVA DE FEMINICIDIO</td>\n",
       "      <td>ALCOOLISMO / EMBRIAGUEZ</td>\n",
       "      <td>OUTROS MEIOS</td>\n",
       "      <td>TELEGRAFO</td>\n",
       "      <td>RESIDENCIA PARTICULAR</td>\n",
       "      <td>ADULTO IV (35 A 64 ANOS)</td>\n",
       "      <td>F</td>\n",
       "      <td>PREJUDICADO</td>\n",
       "      <td>ENSINO FUNDAMENTAL INCOMPLETO</td>\n",
       "      <td>COMPANHEIRO(A)</td>\n",
       "      <td>&lt;p&gt;Que, compareceu a esta especializada para d...</td>\n",
       "      <td>M</td>\n",
       "      <td>MADRUGADA</td>\n",
       "      <td>2 SEMESTRE DE 2019</td>\n",
       "    </tr>\n",
       "  </tbody>\n",
       "</table>\n",
       "</div>"
      ],
      "text/plain": [
       "                                         unidade_origem  \\\n",
       "129   DELEGACIA ESPECIALIZADA NO ATENDIMENTO A MULHE...   \n",
       "1006    DELEGACIA DE CONTROLE DE CRIMES VIOLENTOS - PSM   \n",
       "1080    DELEGACIA DE CONTROLE DE CRIMES VIOLENTOS - PSM   \n",
       "1607  DELEGACIA DE CONTROLE DE CRIMES VIOLENTOS - ME...   \n",
       "1609  DELEGACIA ESPECIALIZADA NO ATENDIMENTO A MULHE...   \n",
       "\n",
       "                                    unidade_responsavel dia_semana  mes_fato  \\\n",
       "129   DELEGACIA ESPECIALIZADA NO ATENDIMENTO A MULHE...        QUI    AGOSTO   \n",
       "1006          SAO BRAS - 2º SECCIONAL -1º RISP- 2ª AISP        QUI  DEZEMBRO   \n",
       "1080  DELEGACIA ESPECIALIZADA NO ATENDIMENTO A MULHE...        QUA     JUNHO   \n",
       "1607  CABANAGEM - DELEGACIA DE POLICIA - 1ª RISP - 1...        SEG     JUNHO   \n",
       "1609  DELEGACIA ESPECIALIZADA NO ATENDIMENTO A MULHE...        QUA   OUTUBRO   \n",
       "\n",
       "      ano_fato   data_fato             consolidado       especificacao_crime  \\\n",
       "129       2019  2019-08-01  TENTATIVA DE HOMICIDIO  TENTATIVA DE FEMINICIDIO   \n",
       "1006      2019  2019-12-05  TENTATIVA DE HOMICIDIO       VIOLENCIA DOMESTICA   \n",
       "1080      2019  2019-06-19  TENTATIVA DE HOMICIDIO  TENTATIVA DE FEMINICIDIO   \n",
       "1607      2019  2019-06-03  TENTATIVA DE HOMICIDIO  TENTATIVA DE FEMINICIDIO   \n",
       "1609      2019  2019-10-09  TENTATIVA DE HOMICIDIO  TENTATIVA DE FEMINICIDIO   \n",
       "\n",
       "             causa_presumivel          meio_empregado_sisp       bairros  \\\n",
       "129          ÓDIO OU VINGANÇA        ARMA PERFURO CORTANTE  MARACANGALHA   \n",
       "1006                   OUTRAS  ARMA CORTANTE OU PERFURANTE        NAZARE   \n",
       "1080         ÓDIO OU VINGANÇA        ARMA PERFURO CORTANTE         MARCO   \n",
       "1607         ÓDIO OU VINGANÇA        ARMA PERFURO CORTANTE     CABANAGEM   \n",
       "1609  ALCOOLISMO / EMBRIAGUEZ                 OUTROS MEIOS     TELEGRAFO   \n",
       "\n",
       "           local_ocorrencia              vit_fx_etaria vit_sexo vit_cor_pele  \\\n",
       "129   RESIDENCIA PARTICULAR   ADULTO IV (35 A 64 ANOS)        F  PREJUDICADO   \n",
       "1006  RESIDENCIA PARTICULAR  ADULTO III (30 A 34 ANOS)        F  PREJUDICADO   \n",
       "1080  RESIDENCIA PARTICULAR   ADULTO IV (35 A 64 ANOS)        F  PREJUDICADO   \n",
       "1607  RESIDENCIA PARTICULAR    ADULTO I (18 A 24 ANOS)        F  PREJUDICADO   \n",
       "1609  RESIDENCIA PARTICULAR   ADULTO IV (35 A 64 ANOS)        F  PREJUDICADO   \n",
       "\n",
       "                      vit_grau_inst grau_de_relacionamento  \\\n",
       "129      ENSINO SUPERIOR INCOMPLETO         COMPANHEIRO(A)   \n",
       "1006          ENSINO MEDIO COMPLETO               IRMAO(A)   \n",
       "1080     ENSINO SUPERIOR INCOMPLETO      EX-COMPANHEIRO(A)   \n",
       "1607    ENSINO FUNDAMENTAL COMPLETO      EX-COMPANHEIRO(A)   \n",
       "1609  ENSINO FUNDAMENTAL INCOMPLETO         COMPANHEIRO(A)   \n",
       "\n",
       "                                                 relato aut_sexo      turno  \\\n",
       "129   <p>Declara ser casada ha 32 anos e possui 1 ca...        M  MADRUGADA   \n",
       "1006  <p>A sra. acima identificada vem neste Serviço...        M      MANHA   \n",
       "1080  <p>A relatora/vítima, compareceu neste Posto P...        M      MANHA   \n",
       "1607  <p>A nacional acima qualificada, comunica nest...        M  MADRUGADA   \n",
       "1609  <p>Que, compareceu a esta especializada para d...        M  MADRUGADA   \n",
       "\n",
       "                 periodo  \n",
       "129   2 SEMESTRE DE 2019  \n",
       "1006  2 SEMESTRE DE 2019  \n",
       "1080  1 SEMESTRE DE 2019  \n",
       "1607  1 SEMESTRE DE 2019  \n",
       "1609  2 SEMESTRE DE 2019  "
      ]
     },
     "execution_count": 300,
     "metadata": {},
     "output_type": "execute_result"
    }
   ],
   "source": [
    "feminicidio_belem = crimes_tratados_belem[(crimes_tratados_belem['consolidado'].isin(['HOMICIDIO', 'TENTATIVA DE HOMICIDIO', 'HOMICIDIO CULPOSO'])) & (crimes_tratados_belem['especificacao_crime'].isin(['FEMINICIDIO', 'VIOLENCIA DOMESTICA', 'TENTATIVA DE FEMINICIDIO', 'SIMPLES/VIOLENCIA DOMESTICA','VIOLENCIA DOMESTICA/MARIA DA PENHA', 'MENOR/VIOLENCIA DOMESTICA', 'MENOR/VIOLENCIA DOMESTICA/ERA DO FATO','TENTATIVA DE FEMINICIDIO/VIOLENCIA DOMESTICA','FEMINICIDIO/VIOLENCIA DOMESTICA']))]\n",
    "feminicidio_belem.head()"
   ]
  },
  {
   "cell_type": "code",
   "execution_count": 302,
   "id": "9ffe06c9",
   "metadata": {},
   "outputs": [
    {
     "data": {
      "text/plain": [
       "(120, 21)"
      ]
     },
     "execution_count": 302,
     "metadata": {},
     "output_type": "execute_result"
    }
   ],
   "source": [
    "feminicidio_belem.shape"
   ]
  },
  {
   "cell_type": "code",
   "execution_count": 303,
   "id": "897c11c1",
   "metadata": {},
   "outputs": [],
   "source": [
    "crimes_tratados_belem.loc[(crimes_tratados_belem['consolidado'] == 'TENTATIVA DE HOMICIDIO') &\n",
    "                    ((crimes_tratados_belem['especificacao_crime'] == 'VIOLENCIA DOMESTICA') |\n",
    "                     (crimes_tratados_belem['especificacao_crime'] == 'TENTATIVA DE FEMINICIDIO') |\n",
    "                     (crimes_tratados_belem['especificacao_crime'] == 'SIMPLES/VIOLENCIA DOMESTICA') |\n",
    "                     (crimes_tratados_belem['especificacao_crime'] == 'VIOLENCIA DOMESTICA/MARIA DA PENHA') |\n",
    "                     (crimes_tratados_belem['especificacao_crime'] == 'MENOR/VIOLENCIA DOMESTICA') |\n",
    "                     (crimes_tratados_belem['especificacao_crime'] == 'MENOR/VIOLENCIA DOMESTICA/ERA DO FATO') |\n",
    "                     (crimes_tratados_belem['especificacao_crime'] == 'TENTATIVA DE FEMINICIDIO/VIOLENCIA DOMESTICA') |\n",
    "                     (crimes_tratados_belem['especificacao_crime'] == 'FEMINICIDIO/VIOLENCIA DOMESTICA')), 'consolidado'] = 'TENTATIVA DE FEMINICIDIO'\n"
   ]
  },
  {
   "cell_type": "code",
   "execution_count": 304,
   "id": "e6afa083",
   "metadata": {},
   "outputs": [],
   "source": [
    "crimes_tratados_belem.loc[(crimes_tratados_belem['consolidado'] == 'HOMICIDIO') &\n",
    "                    ((crimes_tratados_belem['especificacao_crime'] == 'VIOLENCIA DOMESTICA') |\n",
    "                     (crimes_tratados_belem['especificacao_crime'] == 'TENTATIVA DE FEMINICIDIO') |\n",
    "                     (crimes_tratados_belem['especificacao_crime'] == 'SIMPLES/VIOLENCIA DOMESTICA') |\n",
    "                     (crimes_tratados_belem['especificacao_crime'] == 'VIOLENCIA DOMESTICA/MARIA DA PENHA') |\n",
    "                     (crimes_tratados_belem['especificacao_crime'] == 'MENOR/VIOLENCIA DOMESTICA') |\n",
    "                     (crimes_tratados_belem['especificacao_crime'] == 'MENOR/VIOLENCIA DOMESTICA/ERA DO FATO') |\n",
    "                     (crimes_tratados_belem['especificacao_crime'] == 'TENTATIVA DE FEMINICIDIO/VIOLENCIA DOMESTICA') |\n",
    "                     (crimes_tratados_belem['especificacao_crime'] == 'FEMINICIDIO/VIOLENCIA DOMESTICA')), 'consolidado'] = 'FEMINICIDIO'\n"
   ]
  },
  {
   "cell_type": "code",
   "execution_count": 305,
   "id": "ebf2e63d",
   "metadata": {},
   "outputs": [],
   "source": [
    "crimes_tratados_belem.loc[(crimes_tratados_belem['consolidado'] == 'HOMICIDIO CULPOSO') &\n",
    "                    ((crimes_tratados_belem['especificacao_crime'] == 'VIOLENCIA DOMESTICA') |\n",
    "                     (crimes_tratados_belem['especificacao_crime'] == 'TENTATIVA DE FEMINICIDIO') |\n",
    "                     (crimes_tratados_belem['especificacao_crime'] == 'SIMPLES/VIOLENCIA DOMESTICA') |\n",
    "                     (crimes_tratados_belem['especificacao_crime'] == 'VIOLENCIA DOMESTICA/MARIA DA PENHA') |\n",
    "                     (crimes_tratados_belem['especificacao_crime'] == 'MENOR/VIOLENCIA DOMESTICA') |\n",
    "                     (crimes_tratados_belem['especificacao_crime'] == 'MENOR/VIOLENCIA DOMESTICA/ERA DO FATO') |\n",
    "                     (crimes_tratados_belem['especificacao_crime'] == 'TENTATIVA DE FEMINICIDIO/VIOLENCIA DOMESTICA') |\n",
    "                     (crimes_tratados_belem['especificacao_crime'] == 'FEMINICIDIO/VIOLENCIA DOMESTICA')), 'consolidado'] = 'FEMINICIDIO'\n"
   ]
  },
  {
   "cell_type": "code",
   "execution_count": 307,
   "id": "49346a81",
   "metadata": {},
   "outputs": [],
   "source": [
    "crimes_tratados_belem.loc[crimes_tratados_belem['especificacao_crime'].isin(['NAO INFORMADO']), 'especificacao_crime'] = 'Nao informado'"
   ]
  },
  {
   "cell_type": "code",
   "execution_count": 308,
   "id": "99cbbae8",
   "metadata": {},
   "outputs": [],
   "source": [
    "crimes_tratados_belem.loc[crimes_tratados_belem['especificacao_crime'].isin(['NAO INFORMADO ']), 'especificacao_crime'] = 'Nao informado'"
   ]
  },
  {
   "cell_type": "code",
   "execution_count": 309,
   "id": "fee76d7c",
   "metadata": {},
   "outputs": [],
   "source": [
    "crimes_tratados_belem.reset_index(drop=True, inplace=True)"
   ]
  },
  {
   "cell_type": "code",
   "execution_count": 310,
   "id": "072f97d2",
   "metadata": {},
   "outputs": [
    {
     "data": {
      "text/plain": [
       "consolidado\n",
       "AMEACA                                                                                                                                                                                                                                                             27032\n",
       "LESAO CORPORAL                                                                                                                                                                                                                                                     14882\n",
       "ESTUPRO DE VULNERAVEL                                                                                                                                                                                                                                               1869\n",
       "IMPORTUNACAO SEXUAL                                                                                                                                                                                                                                                 1389\n",
       "VIOLENCIA PSICOLOGICA                                                                                                                                                                                                                                               1123\n",
       "DESCUMPRIMENTO DE MEDIDAS PROTETIVAS                                                                                                                                                                                                                                 296\n",
       "ASSEDIO SEXUAL                                                                                                                                                                                                                                                       195\n",
       "VIOLENCIA MORAL, QUALQUER CONDUTA QUE CONFIGURE CALUNIA, DIFAMACAO OU INJURIA                                                                                                                                                                                        142\n",
       "HOMICIDIO                                                                                                                                                                                                                                                            118\n",
       "TENTATIVA DE HOMICIDIO                                                                                                                                                                                                                                               100\n",
       "TENTATIVA DE FEMINICIDIO                                                                                                                                                                                                                                              94\n",
       "LESAO CORPORAL CULPOSA                                                                                                                                                                                                                                                80\n",
       "TENTATIVA DE LESAO CORPORAL                                                                                                                                                                                                                                           52\n",
       "A VIOLENCIA PATRIMONIAL, ENTENDIDA COMO QUALQUER CONDUTA QUE CONFIGURE RETENCAO, SUBTRACAO, DESTRUICAO PARCIAL OU TOTAL DE SEUS OBJETOS, INSTRUMENTOS DE TRABALHO, DOCUMENTOS PESSOAIS, BENS, VALORES E DIREITOS OU RECURSOS ECONOMICOS, INCLUINDO OS DEST            36\n",
       "ASSEDIO SEXUAL POR SUPERIOR HIERARQUICO OU ASCENDENTE                                                                                                                                                                                                                 27\n",
       "SUSPEITO DE ESTUPRO DE VULNERAVEL                                                                                                                                                                                                                                     25\n",
       "VIOLENCIA FISICA, QUALQUER CONDUTA QUE OFENDA SUA INTEGRIDADE OU SAUDE CORPORAL                                                                                                                                                                                       25\n",
       "FEMINICIDIO                                                                                                                                                                                                                                                           23\n",
       "DESCUMPRIMENTO DE MEDIDA PROTETIVA                                                                                                                                                                                                                                    23\n",
       "TENTATIVA DE ESTUPRO DE VULNERAVEL                                                                                                                                                                                                                                    19\n",
       "HOMICIDIO CULPOSO                                                                                                                                                                                                                                                     13\n",
       "VIOLACAO SEXUAL MEDIANTE FRAUDE                                                                                                                                                                                                                                       12\n",
       "LESAO CORPORAL SEGUIDA DE MORTE                                                                                                                                                                                                                                        5\n",
       "LESAO CORPORAL DOLOSA                                                                                                                                                                                                                                                  4\n",
       "DESCUMPRIMENTO DE MEDIDA PROTETIVA DE URGENCIA                                                                                                                                                                                                                         3\n",
       "DESCUMPRIMENTO DE MEDIDA PROTETIVA DE URGENCIA DEFERIDA JUDICIALMENTE                                                                                                                                                                                                  3\n",
       "VIOLACAO SEXUAL                                                                                                                                                                                                                                                        2\n",
       "ESTUPRO DE VULNERAVEL COM RESULTADO MORTE                                                                                                                                                                                                                              2\n",
       "ASSEDIO                                                                                                                                                                                                                                                                2\n",
       "MEDIDAS PROTETIVAS                                                                                                                                                                                                                                                     2\n",
       "VIOLENCIA DOMESTICA E FAMILIAR CONTRA A MULHER - DEFINICAO                                                                                                                                                                                                             2\n",
       "ESTUPRO COM RESULTADO MORTE                                                                                                                                                                                                                                            2\n",
       "SUSPEITA DE ESTUPRO DE VULNERAVEL                                                                                                                                                                                                                                      1\n",
       "VIOLENCIA DOMESTICA E FAMILIAR CONTRA A MULHER                                                                                                                                                                                                                         1\n",
       "VIOLENCIA PSICOLOGICA, QUALQUER CONDUTA QUE LHE CAUSE DANO EMOCIONAL, DIMINUICAO DA AUTO-ESTIMA, LHE PREJUDIQUE E PERTURBE O PLENO DESENVOLVIMENTO, VISE DEGRADAR OU CONTROLAR SUAS ACOES, COMPORTAMENTOS, CRENCAS E DECISOES, MEDIANTE AMEACA, CONSTRANGIMENTO        1\n",
       "VIOLENCIA PATRIMONIAL                                                                                                                                                                                                                                                  1\n",
       "VIOLENCIA SEXUAL, QUALQUER CONDUTA QUE A CONSTRANJA A PRESENCIAR, A MANTER OU A PARTICIPAR DE RELACAO SEXUAL NAO DESEJADA, MEDIANTE INTIMIDACAO, AMEACA, COACAO OU USO DA FORCA, INDUZA A COMERCIALIZAR OU A UTILIZAR, DE QUALQUER MODO, A SUA SEXUALIDADE, IMP        1\n",
       "Name: count, dtype: int64"
      ]
     },
     "execution_count": 310,
     "metadata": {},
     "output_type": "execute_result"
    }
   ],
   "source": [
    "crimes_tratados_belem.consolidado.value_counts()"
   ]
  },
  {
   "cell_type": "markdown",
   "id": "7aa99ad6",
   "metadata": {},
   "source": [
    "Algumas especificações serão padronizadas para melhor visualização, como por exempo as tipificações 'MENOR/VIOLENCIA DOMESTICA/ERA DO FATO', serão padronizadas apenas para \"VIOLENCIA DOMESTICA\""
   ]
  },
  {
   "cell_type": "code",
   "execution_count": 311,
   "id": "fdf19911",
   "metadata": {},
   "outputs": [
    {
     "name": "stdout",
     "output_type": "stream",
     "text": [
      "Numero unico de especificacao_crime:  140\n"
     ]
    },
    {
     "data": {
      "text/plain": [
       "['Nao informado',\n",
       " 'VIOLENCIA DOMESTICA/MARIA DA PENHA',\n",
       " 'EM DECOMPOSICAO',\n",
       " 'VIOLENCIA DOMESTICA',\n",
       " 'VIOLENCIA DOMESTICA/ESTUPRO COLETIVO',\n",
       " 'TENTATIVA DE FEMINICIDIO',\n",
       " 'VILOENCIA DOMESTICA/SIGILOSO',\n",
       " 'NEGLIGENCIA MEDICA',\n",
       " 'CARACTERISTICA DE EXECUCAO',\n",
       " 'SIGILOSO',\n",
       " 'VIOLACAO DE DOMICILIO',\n",
       " 'CARACTERISTICA DE EXECUCAO/CHACINA/MILICIA',\n",
       " 'QUEDA',\n",
       " 'NEGLIGENCIA',\n",
       " 'FEMINICIDIO',\n",
       " 'PARA INVESTIGACAO',\n",
       " 'INTERVENCAO POLICIAL',\n",
       " 'ERRO MEDICO',\n",
       " 'FEMINICIDIO/VIOLENCIA DOMESTICA',\n",
       " 'CARACTERISTICA DE EXECUCAO/CHACINA',\n",
       " 'MEDIANTE FRAUDE',\n",
       " 'QUEIMADURA',\n",
       " 'QUEDA DA PROPRIA ALTURA',\n",
       " 'RESIDENCIA',\n",
       " 'ACHADO DE CADAVER ',\n",
       " 'DESCARGA ELETRICA',\n",
       " 'QUEDA EM CONDUCAO',\n",
       " 'FOI DOPADA',\n",
       " 'AO COLETIVO',\n",
       " 'NATIMORTO',\n",
       " 'TIROS NA VIATURA',\n",
       " 'MORDIDA DE CACHORRO',\n",
       " 'DOPADA',\n",
       " 'MENOR',\n",
       " 'MENOR/VIOLENCIA DOMESTICA',\n",
       " 'COM PROCEDIMENTO',\n",
       " 'MENOR/ERA DO FATO',\n",
       " 'ATROPELAMENTO',\n",
       " 'CRIME VIRTUAL',\n",
       " 'MORDIDA DE ANIMAL',\n",
       " 'ERA DO FATO/VIOLENCIA DOMESTICA',\n",
       " 'VIOLENCIA DOMESTICA/COM LESAO',\n",
       " 'COLISAO',\n",
       " 'COMUNICACAO',\n",
       " 'TENTATIVA DE FEMINICIDIO/VIOLENCIA DOMESTICA',\n",
       " 'OUTROS',\n",
       " 'ALCOOLIZADO(A)',\n",
       " 'VIOLENCIA',\n",
       " 'DOPADO(A)',\n",
       " 'COM LESAO',\n",
       " 'ALCOOLIZADO(A)/COLETIVO',\n",
       " 'PESSOA COM DEFICIENCIA',\n",
       " 'POSSIVEL NEGLIGENCIA',\n",
       " 'SEM LESAO',\n",
       " 'VIOLENCIA FISICA',\n",
       " 'VIOLENCIA DOMESTICA/SEM LESAO',\n",
       " 'QUEDA DE MOTO',\n",
       " 'ERA DO FATO',\n",
       " 'VIOLENCIA DOMESTICA/MENOR',\n",
       " 'PARA APURACAO',\n",
       " 'MOTIVO FUTIL',\n",
       " 'PREJUDICADO',\n",
       " 'VIOLENCIA DOMESTICA/ERA DO FATO',\n",
       " 'MENOR/VIOLENCIA DOMESTICA/ERA DO FATO',\n",
       " 'EM COLETIVO',\n",
       " 'RELIGIAO',\n",
       " 'TRAFICO',\n",
       " 'OMISSAO DE SOCORRO',\n",
       " 'TENTATIVA DE FEMINICIDIO/COM LESAO',\n",
       " 'BALA PERDIDA',\n",
       " 'LGBTFOBIA',\n",
       " 'EM VEICULO/APLICATIVO DE TRANSPORTE/PASSAGEIRO',\n",
       " 'PREJUDICADO/VIOLENCIA DOMESTICA',\n",
       " 'EM VEICULO/APLICATIVO DE ENTREGA',\n",
       " 'MENOR/ERA DO FATO/VIOLENCIA DOMESTICA',\n",
       " 'WHATSAPP',\n",
       " 'SIMPLES',\n",
       " 'COM LESAO/COM REFEM',\n",
       " 'ESMAGAMENTO',\n",
       " 'NAO',\n",
       " 'ERRO SOBRE A PESSOA',\n",
       " 'SUPERIOR HIERARQUICO',\n",
       " 'DISPARO DE ARMA DE FOGO',\n",
       " 'FEMICIDIO',\n",
       " 'MENOR/ERA DO FATO/COMUNICACAO',\n",
       " 'CRIME VIRTUAL/VIOLENCIA DOMESTICA',\n",
       " 'CHOQUE COM OBJETO FIXO',\n",
       " 'PENITENCIARIA',\n",
       " 'INTERNET',\n",
       " 'CRIME VIRTUAL/WHATSAPP',\n",
       " 'SIMPLES/VIOLENCIA DOMESTICA',\n",
       " 'VIOLENCIA DOMESTICA/WHATSAPP',\n",
       " 'ALCOOLIZADO(A)/VIOLENCIA DOMESTICA',\n",
       " 'FEMICIDIO/CARACTERISTICA DE EXECUCAO',\n",
       " 'EM ESTABELECIMENTO DE SAUDE',\n",
       " 'PREJUDICADO/COMUNICACAO',\n",
       " 'DOPADO(A)/VIOLENCIA DOMESTICA',\n",
       " 'TRANSEUNTE',\n",
       " 'CRIME VIRTUAL/REDE SOCIAL',\n",
       " 'MENOR/CRIME VIRTUAL/REDE SOCIAL',\n",
       " 'PESSOA COM DEFICIENCIA/VIOLENCIA DOMESTICA',\n",
       " 'CRIME VIRTUAL/REDE SOCIAL/VIOLENCIA DOMESTICA',\n",
       " 'ERA DO FATO/MENOR',\n",
       " 'MENOR/VIOLENICA DOMESTICA',\n",
       " 'MENOR/VIOELNCIA DOMESTICA/ERA DO FATO',\n",
       " 'MENOR/VIOLENCIA DOMESTICA/ERRA DO FATO',\n",
       " 'ALCOLIZADO(A)',\n",
       " 'MENOR/MP',\n",
       " 'VIOLENCIA MEDICA',\n",
       " 'OMISSAO NA GUARDA DE ANIMAIS',\n",
       " 'CRIME VIRTUAL/REDE SOCIAL/CV',\n",
       " 'MARCIA',\n",
       " 'MENOR/CRIME VIRTUAL/WHATSAPP',\n",
       " 'EM RESIDENCIA',\n",
       " 'ERA DO FATO/MENOR/VIOLENCIA DOMESTICA',\n",
       " 'EM VEICULO',\n",
       " 'MP',\n",
       " 'CRIME VIRTUAL/REDE VIRTUAL',\n",
       " 'EM ESTABELECIMENTO PUBLICO',\n",
       " 'EM ESTABELECIMENTO COMERCIAL',\n",
       " 'CELULAR/MOTO',\n",
       " 'BICICLETA',\n",
       " 'EM RESIDENCIA/MENOR',\n",
       " 'AO ESTABELECIMENTO DE ENSINO/AMEACA DE ATAQUE',\n",
       " 'EM ESTABELECIMENTO DE ENSINO/DISCENTE/AMEACA DE ATAQUE',\n",
       " 'IDOSO(A)/VIOLENCIA DOMESTICA',\n",
       " 'VIOLENCIA DOMESTICA/STALKING',\n",
       " 'EM ESTABELECIMENTO DE ENSINO/AMEACA DE ATAQUE/LGBTFOBIA',\n",
       " 'MENOR/DOPADO(A)',\n",
       " 'IDOSO(A)',\n",
       " 'EM ESTABELECIMENTO COMERCIAL/COM LESAO',\n",
       " 'CRIME VIRTUAL/REDE SOCIAL/MENOR',\n",
       " 'MENOR/CT',\n",
       " 'RESTRICAO DE LIBERDADE/VIOLENCIA DOMESTICA',\n",
       " 'ABALROAMENTO',\n",
       " 'VIOLENCIA DOMESTICA/CRIME VIRTUAL',\n",
       " 'ACHADO DE CADAVER',\n",
       " 'VIOLENCIA DOMESTICA/ALCOOLIZADO(A)',\n",
       " 'ABRIGO',\n",
       " 'EM ESTABELECIMENTO DE ENSINO/DOCENTE/AMEACA DE ATAQUE']"
      ]
     },
     "execution_count": 311,
     "metadata": {},
     "output_type": "execute_result"
    }
   ],
   "source": [
    "especificacoes_unico = crimes_tratados_belem[\"especificacao_crime\"].unique().tolist()\n",
    "print(\"Numero unico de especificacao_crime: \", len(especificacoes_unico))\n",
    "especificacoes_unico"
   ]
  },
  {
   "cell_type": "code",
   "execution_count": 312,
   "id": "520a3828",
   "metadata": {},
   "outputs": [
    {
     "data": {
      "text/plain": [
       "especificacao_crime\n",
       "Nao informado                                            31271\n",
       "VIOLENCIA DOMESTICA                                      10597\n",
       "VIOLENCIA DOMESTICA/MARIA DA PENHA                        2764\n",
       "MENOR                                                      631\n",
       "MENOR/VIOLENCIA DOMESTICA                                  578\n",
       "                                                         ...  \n",
       "NATIMORTO                                                    1\n",
       "ERA DO FATO/MENOR                                            1\n",
       "MENOR/VIOLENICA DOMESTICA                                    1\n",
       "MENOR/VIOELNCIA DOMESTICA/ERA DO FATO                        1\n",
       "EM ESTABELECIMENTO DE ENSINO/DOCENTE/AMEACA DE ATAQUE        1\n",
       "Name: count, Length: 140, dtype: int64"
      ]
     },
     "execution_count": 312,
     "metadata": {},
     "output_type": "execute_result"
    }
   ],
   "source": [
    "crimes_tratados_belem.especificacao_crime.value_counts()"
   ]
  },
  {
   "cell_type": "code",
   "execution_count": 313,
   "id": "8302ed44",
   "metadata": {},
   "outputs": [],
   "source": [
    "crimes_tratados_belem.loc[crimes_tratados_belem['especificacao_crime'].isin(['VIOLENCIA DOMESTICA/MARIA DA PENHA', 'VIOLENCIA DOMESTICA', 'VIOLENCIA DOMESTICA/ESTUPRO COLETIVO', 'VILOENCIA DOMESTICA/SIGILOSO', 'MENOR/VIOLENCIA DOMESTICA', 'ERA DO FATO/VIOLENCIA DOMESTICA', 'VIOLENCIA DOMESTICA/COM LESAO', 'VIOLENCIA DOMESTICA/SEM LESAO', 'VIOLENCIA DOMESTICA/MENOR', 'VIOLENCIA DOMESTICA/ERA DO FATO',\n",
    " 'MENOR/VIOLENCIA DOMESTICA/ERA DO FATO', 'PREJUDICADO/VIOLENCIA DOMESTICA', 'MENOR/ERA DO FATO/VIOLENCIA DOMESTICA', 'VIOLENCIA DOMESTICA/ALCOOLIZADO(A)', 'VIOLENCIA DOMESTICA/CRIME VIRTUAL',\n",
    "'RESTRICAO DE LIBERDADE/VIOLENCIA DOMESTICA', 'VIOLENCIA DOMESTICA/STALKING', 'IDOSO(A)/VIOLENCIA DOMESTICA', 'ERA DO FATO/MENOR/VIOLENCIA DOMESTICA', 'MENOR/VIOLENICA DOMESTICA',\n",
    " 'MENOR/VIOELNCIA DOMESTICA/ERA DO FATO',\n",
    " 'MENOR/VIOLENCIA DOMESTICA/ERRA DO FATO', 'PESSOA COM DEFICIENCIA/VIOLENCIA DOMESTICA',\n",
    " 'CRIME VIRTUAL/REDE SOCIAL/VIOLENCIA DOMESTICA', 'DOPADO(A)/VIOLENCIA DOMESTICA', 'CRIME VIRTUAL/VIOLENCIA DOMESTICA', 'SIMPLES/VIOLENCIA DOMESTICA',\n",
    " 'VIOLENCIA DOMESTICA/WHATSAPP',\n",
    " 'ALCOOLIZADO(A)/VIOLENCIA DOMESTICA', 'CRIME VIRTUAL/VIOLENCIA DOMESTICA',\n",
    "]), 'especificacao_crime'] = 'VIOLENCIA DOMESTICA'"
   ]
  },
  {
   "cell_type": "code",
   "execution_count": 314,
   "id": "11ac5497",
   "metadata": {},
   "outputs": [],
   "source": [
    "crimes_tratados_belem.loc[crimes_tratados_belem['especificacao_crime'].isin(['CRIME VIRTUAL/REDE SOCIAL/MENOR', 'CRIME VIRTUAL', 'WHATSAPP', 'INTERNET',\n",
    " 'CRIME VIRTUAL/WHATSAPP', 'CRIME VIRTUAL/REDE VIRTUAL', 'CRIME VIRTUAL/REDE SOCIAL',\n",
    " 'MENOR/CRIME VIRTUAL/REDE SOCIAL', 'MENOR/CRIME VIRTUAL/WHATSAPP', 'CRIME VIRTUAL/REDE SOCIAL/CV'\n",
    "]), 'especificacao_crime'] = 'CRIMES VIRTUAIS'"
   ]
  },
  {
   "cell_type": "code",
   "execution_count": 315,
   "metadata": {},
   "outputs": [],
   "source": [
    "crimes_tratados_belem.loc[crimes_tratados_belem['especificacao_crime'].isin(['TENTATIVA DE FEMINICIDIO', 'TENTATIVA DE FEMINICIDIO/VIOLENCIA DOMESTICA', 'TENTATIVA DE FEMINICIDIO/VIOLENCIA DOMESTICA', 'TENTATIVA DE FEMINICIDIO/COM LESAO']), 'especificacao_crime'] = 'TENTATIVA DE FEMINICIDIO'"
   ]
  },
  {
   "cell_type": "code",
   "execution_count": 316,
   "metadata": {},
   "outputs": [],
   "source": [
    "crimes_tratados_belem.loc[crimes_tratados_belem['especificacao_crime'].isin(['CARACTERISTICA DE EXECUCAO', 'CARACTERISTICA DE EXECUCAO/CHACINA/MILICIA', 'CARACTERISTICA DE EXECUCAO/CHACINA']), 'especificacao_crime'] = 'CARACTERISTICA DE EXECUCAO'"
   ]
  },
  {
   "cell_type": "code",
   "execution_count": 317,
   "metadata": {},
   "outputs": [],
   "source": [
    "crimes_tratados_belem.loc[crimes_tratados_belem['especificacao_crime'].isin(['FEMINICIDIO', 'FEMINICIDIO/VIOLENCIA DOMESTICA', 'FEMICIDIO/CARACTERISTICA DE EXECUCAO', 'FEMICIDIO']), 'especificacao_crime'] = 'FEMINICIDIO'"
   ]
  },
  {
   "cell_type": "code",
   "execution_count": 318,
   "id": "1722d322",
   "metadata": {},
   "outputs": [],
   "source": [
    "crimes_tratados_belem.reset_index(drop=True, inplace=True)"
   ]
  },
  {
   "cell_type": "code",
   "execution_count": 319,
   "id": "22f4eec5",
   "metadata": {},
   "outputs": [
    {
     "name": "stdout",
     "output_type": "stream",
     "text": [
      "Numero unico de especificacao_crime:  96\n"
     ]
    },
    {
     "data": {
      "text/plain": [
       "['Nao informado',\n",
       " 'VIOLENCIA DOMESTICA',\n",
       " 'EM DECOMPOSICAO',\n",
       " 'TENTATIVA DE FEMINICIDIO',\n",
       " 'NEGLIGENCIA MEDICA',\n",
       " 'CARACTERISTICA DE EXECUCAO',\n",
       " 'SIGILOSO',\n",
       " 'VIOLACAO DE DOMICILIO',\n",
       " 'QUEDA',\n",
       " 'NEGLIGENCIA',\n",
       " 'FEMINICIDIO',\n",
       " 'PARA INVESTIGACAO',\n",
       " 'INTERVENCAO POLICIAL',\n",
       " 'ERRO MEDICO',\n",
       " 'MEDIANTE FRAUDE',\n",
       " 'QUEIMADURA',\n",
       " 'QUEDA DA PROPRIA ALTURA',\n",
       " 'RESIDENCIA',\n",
       " 'ACHADO DE CADAVER ',\n",
       " 'DESCARGA ELETRICA',\n",
       " 'QUEDA EM CONDUCAO',\n",
       " 'FOI DOPADA',\n",
       " 'AO COLETIVO',\n",
       " 'NATIMORTO',\n",
       " 'TIROS NA VIATURA',\n",
       " 'MORDIDA DE CACHORRO',\n",
       " 'DOPADA',\n",
       " 'MENOR',\n",
       " 'COM PROCEDIMENTO',\n",
       " 'MENOR/ERA DO FATO',\n",
       " 'ATROPELAMENTO',\n",
       " 'CRIMES VIRTUAIS',\n",
       " 'MORDIDA DE ANIMAL',\n",
       " 'COLISAO',\n",
       " 'COMUNICACAO',\n",
       " 'OUTROS',\n",
       " 'ALCOOLIZADO(A)',\n",
       " 'VIOLENCIA',\n",
       " 'DOPADO(A)',\n",
       " 'COM LESAO',\n",
       " 'ALCOOLIZADO(A)/COLETIVO',\n",
       " 'PESSOA COM DEFICIENCIA',\n",
       " 'POSSIVEL NEGLIGENCIA',\n",
       " 'SEM LESAO',\n",
       " 'VIOLENCIA FISICA',\n",
       " 'QUEDA DE MOTO',\n",
       " 'ERA DO FATO',\n",
       " 'PARA APURACAO',\n",
       " 'MOTIVO FUTIL',\n",
       " 'PREJUDICADO',\n",
       " 'EM COLETIVO',\n",
       " 'RELIGIAO',\n",
       " 'TRAFICO',\n",
       " 'OMISSAO DE SOCORRO',\n",
       " 'BALA PERDIDA',\n",
       " 'LGBTFOBIA',\n",
       " 'EM VEICULO/APLICATIVO DE TRANSPORTE/PASSAGEIRO',\n",
       " 'EM VEICULO/APLICATIVO DE ENTREGA',\n",
       " 'SIMPLES',\n",
       " 'COM LESAO/COM REFEM',\n",
       " 'ESMAGAMENTO',\n",
       " 'NAO',\n",
       " 'ERRO SOBRE A PESSOA',\n",
       " 'SUPERIOR HIERARQUICO',\n",
       " 'DISPARO DE ARMA DE FOGO',\n",
       " 'MENOR/ERA DO FATO/COMUNICACAO',\n",
       " 'CHOQUE COM OBJETO FIXO',\n",
       " 'PENITENCIARIA',\n",
       " 'EM ESTABELECIMENTO DE SAUDE',\n",
       " 'PREJUDICADO/COMUNICACAO',\n",
       " 'TRANSEUNTE',\n",
       " 'ERA DO FATO/MENOR',\n",
       " 'ALCOLIZADO(A)',\n",
       " 'MENOR/MP',\n",
       " 'VIOLENCIA MEDICA',\n",
       " 'OMISSAO NA GUARDA DE ANIMAIS',\n",
       " 'MARCIA',\n",
       " 'EM RESIDENCIA',\n",
       " 'EM VEICULO',\n",
       " 'MP',\n",
       " 'EM ESTABELECIMENTO PUBLICO',\n",
       " 'EM ESTABELECIMENTO COMERCIAL',\n",
       " 'CELULAR/MOTO',\n",
       " 'BICICLETA',\n",
       " 'EM RESIDENCIA/MENOR',\n",
       " 'AO ESTABELECIMENTO DE ENSINO/AMEACA DE ATAQUE',\n",
       " 'EM ESTABELECIMENTO DE ENSINO/DISCENTE/AMEACA DE ATAQUE',\n",
       " 'EM ESTABELECIMENTO DE ENSINO/AMEACA DE ATAQUE/LGBTFOBIA',\n",
       " 'MENOR/DOPADO(A)',\n",
       " 'IDOSO(A)',\n",
       " 'EM ESTABELECIMENTO COMERCIAL/COM LESAO',\n",
       " 'MENOR/CT',\n",
       " 'ABALROAMENTO',\n",
       " 'ACHADO DE CADAVER',\n",
       " 'ABRIGO',\n",
       " 'EM ESTABELECIMENTO DE ENSINO/DOCENTE/AMEACA DE ATAQUE']"
      ]
     },
     "execution_count": 319,
     "metadata": {},
     "output_type": "execute_result"
    }
   ],
   "source": [
    "especificacoes_unico_depois = crimes_tratados_belem[\"especificacao_crime\"].unique().tolist()\n",
    "print(\"Numero unico de especificacao_crime: \", len(especificacoes_unico_depois))\n",
    "especificacoes_unico_depois"
   ]
  },
  {
   "cell_type": "markdown",
   "id": "edd8cec3",
   "metadata": {},
   "source": [
    "Ajuste de alguns nomes na coluna consolidado que representam a mesma coisa"
   ]
  },
  {
   "cell_type": "code",
   "execution_count": 321,
   "id": "09d2feda",
   "metadata": {},
   "outputs": [
    {
     "data": {
      "text/plain": [
       "consolidado\n",
       "AMEACA                                                                                                                                                                                                                                                             27032\n",
       "LESAO CORPORAL                                                                                                                                                                                                                                                     14882\n",
       "ESTUPRO DE VULNERAVEL                                                                                                                                                                                                                                               1869\n",
       "IMPORTUNACAO SEXUAL                                                                                                                                                                                                                                                 1389\n",
       "VIOLENCIA PSICOLOGICA                                                                                                                                                                                                                                               1123\n",
       "DESCUMPRIMENTO DE MEDIDAS PROTETIVAS                                                                                                                                                                                                                                 296\n",
       "ASSEDIO SEXUAL                                                                                                                                                                                                                                                       195\n",
       "VIOLENCIA MORAL, QUALQUER CONDUTA QUE CONFIGURE CALUNIA, DIFAMACAO OU INJURIA                                                                                                                                                                                        142\n",
       "HOMICIDIO                                                                                                                                                                                                                                                            118\n",
       "TENTATIVA DE HOMICIDIO                                                                                                                                                                                                                                               100\n",
       "TENTATIVA DE FEMINICIDIO                                                                                                                                                                                                                                              94\n",
       "LESAO CORPORAL CULPOSA                                                                                                                                                                                                                                                80\n",
       "TENTATIVA DE LESAO CORPORAL                                                                                                                                                                                                                                           52\n",
       "A VIOLENCIA PATRIMONIAL, ENTENDIDA COMO QUALQUER CONDUTA QUE CONFIGURE RETENCAO, SUBTRACAO, DESTRUICAO PARCIAL OU TOTAL DE SEUS OBJETOS, INSTRUMENTOS DE TRABALHO, DOCUMENTOS PESSOAIS, BENS, VALORES E DIREITOS OU RECURSOS ECONOMICOS, INCLUINDO OS DEST            36\n",
       "ASSEDIO SEXUAL POR SUPERIOR HIERARQUICO OU ASCENDENTE                                                                                                                                                                                                                 27\n",
       "SUSPEITO DE ESTUPRO DE VULNERAVEL                                                                                                                                                                                                                                     25\n",
       "VIOLENCIA FISICA, QUALQUER CONDUTA QUE OFENDA SUA INTEGRIDADE OU SAUDE CORPORAL                                                                                                                                                                                       25\n",
       "FEMINICIDIO                                                                                                                                                                                                                                                           23\n",
       "DESCUMPRIMENTO DE MEDIDA PROTETIVA                                                                                                                                                                                                                                    23\n",
       "TENTATIVA DE ESTUPRO DE VULNERAVEL                                                                                                                                                                                                                                    19\n",
       "HOMICIDIO CULPOSO                                                                                                                                                                                                                                                     13\n",
       "VIOLACAO SEXUAL MEDIANTE FRAUDE                                                                                                                                                                                                                                       12\n",
       "LESAO CORPORAL SEGUIDA DE MORTE                                                                                                                                                                                                                                        5\n",
       "LESAO CORPORAL DOLOSA                                                                                                                                                                                                                                                  4\n",
       "DESCUMPRIMENTO DE MEDIDA PROTETIVA DE URGENCIA                                                                                                                                                                                                                         3\n",
       "DESCUMPRIMENTO DE MEDIDA PROTETIVA DE URGENCIA DEFERIDA JUDICIALMENTE                                                                                                                                                                                                  3\n",
       "VIOLACAO SEXUAL                                                                                                                                                                                                                                                        2\n",
       "ESTUPRO DE VULNERAVEL COM RESULTADO MORTE                                                                                                                                                                                                                              2\n",
       "ASSEDIO                                                                                                                                                                                                                                                                2\n",
       "MEDIDAS PROTETIVAS                                                                                                                                                                                                                                                     2\n",
       "VIOLENCIA DOMESTICA E FAMILIAR CONTRA A MULHER - DEFINICAO                                                                                                                                                                                                             2\n",
       "ESTUPRO COM RESULTADO MORTE                                                                                                                                                                                                                                            2\n",
       "SUSPEITA DE ESTUPRO DE VULNERAVEL                                                                                                                                                                                                                                      1\n",
       "VIOLENCIA DOMESTICA E FAMILIAR CONTRA A MULHER                                                                                                                                                                                                                         1\n",
       "VIOLENCIA PSICOLOGICA, QUALQUER CONDUTA QUE LHE CAUSE DANO EMOCIONAL, DIMINUICAO DA AUTO-ESTIMA, LHE PREJUDIQUE E PERTURBE O PLENO DESENVOLVIMENTO, VISE DEGRADAR OU CONTROLAR SUAS ACOES, COMPORTAMENTOS, CRENCAS E DECISOES, MEDIANTE AMEACA, CONSTRANGIMENTO        1\n",
       "VIOLENCIA PATRIMONIAL                                                                                                                                                                                                                                                  1\n",
       "VIOLENCIA SEXUAL, QUALQUER CONDUTA QUE A CONSTRANJA A PRESENCIAR, A MANTER OU A PARTICIPAR DE RELACAO SEXUAL NAO DESEJADA, MEDIANTE INTIMIDACAO, AMEACA, COACAO OU USO DA FORCA, INDUZA A COMERCIALIZAR OU A UTILIZAR, DE QUALQUER MODO, A SUA SEXUALIDADE, IMP        1\n",
       "Name: count, dtype: int64"
      ]
     },
     "execution_count": 321,
     "metadata": {},
     "output_type": "execute_result"
    }
   ],
   "source": [
    "crimes_tratados_belem.consolidado.value_counts()"
   ]
  },
  {
   "cell_type": "code",
   "execution_count": 322,
   "id": "7c8fe243",
   "metadata": {},
   "outputs": [],
   "source": [
    "crimes_tratados_belem.loc[crimes_tratados_belem['consolidado'].isin(['LESAO CORPORAL', 'LESAO CORPORAL CULPOSA', 'LESAO CORPORAL SEGUIDA DE MORTE', 'TENTATIVA DE LESAO CORPORAL', 'LESAO CORPORAL DOLOSA']), 'consolidado'] = 'LESAO CORPORAL'"
   ]
  },
  {
   "cell_type": "code",
   "execution_count": 323,
   "id": "cce76824",
   "metadata": {},
   "outputs": [],
   "source": [
    "crimes_tratados_belem.loc[crimes_tratados_belem['consolidado'].isin(['ESTUPRO DE VULNERAVEL', 'SUSPEITO DE ESTUPRO DE VULNERAVEL',  'TENTATIVA DE ESTUPRO DE VULNERAVEL','ESTUPRO DE VULNERAVEL COM RESULTADO MORTE', 'SUSPEITA DE ESTUPRO DE VULNERAVEL']), 'consolidado'] = 'ESTUPRO DE VULNERAVEL'"
   ]
  },
  {
   "cell_type": "code",
   "execution_count": 324,
   "metadata": {},
   "outputs": [],
   "source": [
    "crimes_tratados_belem.loc[crimes_tratados_belem['consolidado'].isin(['DESCUMPRIMENTO DE MEDIDAS PROTETIVAS',  'DESCUMPRIMENTO DE MEDIDA PROTETIVA', 'MEDIDAS PROTETIVAS']), 'consolidado'] = 'DESCUMPRIMENTO DE MEDIDAS PROTETIVAS'"
   ]
  },
  {
   "cell_type": "code",
   "execution_count": 325,
   "id": "b9690781",
   "metadata": {},
   "outputs": [],
   "source": [
    "crimes_tratados_belem.loc[crimes_tratados_belem['consolidado'].isin(['HOMICIDIO',  'HOMICIDIO CULPOSO']), 'consolidado'] = 'HOMICIDIO'"
   ]
  },
  {
   "cell_type": "code",
   "execution_count": 326,
   "id": "548e7231",
   "metadata": {},
   "outputs": [],
   "source": [
    "crimes_tratados_belem.loc[crimes_tratados_belem['consolidado'].isin(['IMPORTUNACAO SEXUAL', 'IMPORTUNACAO OFENSIVA AO PUDOR']), 'consolidado'] = 'IMPORTUNACAO SEXUAL'"
   ]
  },
  {
   "cell_type": "code",
   "execution_count": 327,
   "id": "397d634c",
   "metadata": {},
   "outputs": [],
   "source": [
    "crimes_tratados_belem.loc[crimes_tratados_belem['consolidado'].isin(['VIOLENCIA PSICOLOGICA', 'VIOLENCIA PSICOLOGICA, QUALQUER CONDUTA QUE LHE CAUSE DANO EMOCIONAL, DIMINUICAO DA AUTO-ESTIMA, LHE PREJUDIQUE E PERTURBE O PLENO DESENVOLVIMENTO, VISE DEGRADAR OU CONTROLAR SUAS ACOES, COMPORTAMENTOS, CRENCAS E DECISOES, MEDIANTE AMEACA, CONSTRANGIMENTO']), 'consolidado'] = 'VIOLENCIA PSICOLOGICA'"
   ]
  },
  {
   "cell_type": "code",
   "execution_count": 328,
   "id": "84b8379b",
   "metadata": {},
   "outputs": [],
   "source": [
    "crimes_tratados_belem.loc[crimes_tratados_belem['consolidado'].isin(['VIOLENCIA MORAL, QUALQUER CONDUTA QUE CONFIGURE CALUNIA, DIFAMACAO OU INJURIA']), 'consolidado'] = 'VIOLENCIA MORAL'"
   ]
  },
  {
   "cell_type": "code",
   "execution_count": 329,
   "metadata": {},
   "outputs": [],
   "source": [
    "crimes_tratados_belem.loc[crimes_tratados_belem['consolidado'].isin(['VIOLENCIA DOMESTICA', 'VIOLENCIA DOMESTICA E FAMILIAR CONTRA A MULHER - DEFINICAO', 'VIOLENCIA DOMESTICA E FAMILIAR CONTRA A MULHER']), 'consolidado'] = 'VIOLENCIA DOMESTICA'"
   ]
  },
  {
   "cell_type": "code",
   "execution_count": 330,
   "metadata": {},
   "outputs": [],
   "source": [
    "crimes_tratados_belem.loc[crimes_tratados_belem['consolidado'].isin(['VIOLACAO SEXUAL MEDIANTE FRAUDE', 'VIOLACAO SEXUAL']), 'consolidado'] = 'VIOLACAO SEXUAL'"
   ]
  },
  {
   "cell_type": "code",
   "execution_count": 331,
   "id": "e2d249c9",
   "metadata": {},
   "outputs": [],
   "source": [
    "crimes_tratados_belem.loc[crimes_tratados_belem['consolidado'].isin(['VIOLENCIA FISICA, QUALQUER CONDUTA QUE OFENDA SUA INTEGRIDADE OU SAUDE CORPORAL']), 'consolidado'] = 'VIOLENCIA FISICA'"
   ]
  },
  {
   "cell_type": "code",
   "execution_count": 332,
   "id": "19b9418e",
   "metadata": {},
   "outputs": [],
   "source": [
    "crimes_tratados_belem.loc[crimes_tratados_belem['consolidado'].isin(['ESTUPRO COM RESULTADO MORTE']), 'consolidado'] = 'ESTUPRO'"
   ]
  },
  {
   "cell_type": "code",
   "execution_count": 333,
   "id": "d1643ee8",
   "metadata": {},
   "outputs": [],
   "source": [
    "crimes_tratados_belem.loc[crimes_tratados_belem['consolidado'].isin(['DESCUMPRIMENTO DE MEDIDAS PROTETIVAS DE URGENCIA', 'DESCUMPRIMENTO DE MEDIDA PROTETIVA DE URGENCIA DEFERIDA JUDICIALMENTE', 'DESCUMPRIMENTO DE MEDIDA PROTETIVA DE URGENCIA']), 'consolidado'] = 'DESCUMPRIMENTO DE MEDIDAS PROTETIVAS DE URGENCIA'"
   ]
  },
  {
   "cell_type": "code",
   "execution_count": 334,
   "id": "b31452b0",
   "metadata": {},
   "outputs": [],
   "source": [
    "crimes_tratados_belem.loc[crimes_tratados_belem['consolidado'].isin(['A VIOLENCIA PATRIMONIAL, ENTENDIDA COMO QUALQUER CONDUTA QUE CONFIGURE RETENCAO, SUBTRACAO, DESTRUICAO PARCIAL OU TOTAL DE SEUS OBJETOS, INSTRUMENTOS DE TRABALHO, DOCUMENTOS PESSOAIS, BENS, VALORES E DIREITOS OU RECURSOS ECONOMICOS, INCLUINDO OS DEST', 'VIOLENCIA PATRIMONIAL']), 'consolidado'] = 'VIOLENCIA PATRIMONIAL'"
   ]
  },
  {
   "cell_type": "code",
   "execution_count": 335,
   "id": "8aacd2c5",
   "metadata": {},
   "outputs": [],
   "source": [
    "crimes_tratados_belem.loc[crimes_tratados_belem['consolidado'].isin(['VIOLENCIA SEXUAL, QUALQUER CONDUTA QUE A CONSTRANJA A PRESENCIAR, A MANTER OU A PARTICIPAR DE RELACAO SEXUAL NAO DESEJADA, MEDIANTE INTIMIDACAO, AMEACA, COACAO OU USO DA FORCA, INDUZA A COMERCIALIZAR OU A UTILIZAR, DE QUALQUER MODO, A SUA SEXUALIDADE, IMP']), 'consolidado'] = 'VIOLENCIA SEXUAL'"
   ]
  },
  {
   "cell_type": "code",
   "execution_count": 336,
   "id": "83848fc9",
   "metadata": {},
   "outputs": [],
   "source": [
    "crimes_tratados_belem.loc[crimes_tratados_belem['consolidado'].isin(['ASSEDIO SEXUAL POR SUPERIOR HIERARQUICO OU ASCENDENTE']), 'consolidado'] = 'ASSEDIO SEXUAL'"
   ]
  },
  {
   "cell_type": "code",
   "execution_count": 337,
   "id": "7b74e15c",
   "metadata": {},
   "outputs": [],
   "source": [
    "crimes_tratados_belem.reset_index(drop=True, inplace=True)"
   ]
  },
  {
   "cell_type": "code",
   "execution_count": 338,
   "id": "7a195984",
   "metadata": {},
   "outputs": [
    {
     "data": {
      "text/plain": [
       "(47607, 21)"
      ]
     },
     "execution_count": 338,
     "metadata": {},
     "output_type": "execute_result"
    }
   ],
   "source": [
    "crimes_tratados_belem.shape"
   ]
  },
  {
   "cell_type": "code",
   "execution_count": 339,
   "id": "cf915111",
   "metadata": {},
   "outputs": [
    {
     "data": {
      "text/plain": [
       "consolidado\n",
       "AMEACA                                              27032\n",
       "LESAO CORPORAL                                      15023\n",
       "ESTUPRO DE VULNERAVEL                                1916\n",
       "IMPORTUNACAO SEXUAL                                  1389\n",
       "VIOLENCIA PSICOLOGICA                                1124\n",
       "DESCUMPRIMENTO DE MEDIDAS PROTETIVAS                  321\n",
       "ASSEDIO SEXUAL                                        222\n",
       "VIOLENCIA MORAL                                       142\n",
       "HOMICIDIO                                             131\n",
       "TENTATIVA DE HOMICIDIO                                100\n",
       "TENTATIVA DE FEMINICIDIO                               94\n",
       "VIOLENCIA PATRIMONIAL                                  37\n",
       "VIOLENCIA FISICA                                       25\n",
       "FEMINICIDIO                                            23\n",
       "VIOLACAO SEXUAL                                        14\n",
       "DESCUMPRIMENTO DE MEDIDAS PROTETIVAS DE URGENCIA        6\n",
       "VIOLENCIA DOMESTICA                                     3\n",
       "ESTUPRO                                                 2\n",
       "ASSEDIO                                                 2\n",
       "VIOLENCIA SEXUAL                                        1\n",
       "Name: count, dtype: int64"
      ]
     },
     "execution_count": 339,
     "metadata": {},
     "output_type": "execute_result"
    }
   ],
   "source": [
    "crimes_tratados_belem.consolidado.value_counts()"
   ]
  },
  {
   "cell_type": "markdown",
   "id": "ba61769b",
   "metadata": {},
   "source": [
    "Salvando as alterações feitas em um novo dataframe"
   ]
  },
  {
   "cell_type": "code",
   "execution_count": 340,
   "id": "c3584bed",
   "metadata": {},
   "outputs": [],
   "source": [
    "crimes_tratados_belem.to_csv('C:\\\\Users\\\\carlo\\\\Downloads\\\\crimes_selecionados_belem.csv', index=False)"
   ]
  },
  {
   "cell_type": "markdown",
   "id": "4ec9a321",
   "metadata": {},
   "source": [
    "* **MAPA**"
   ]
  },
  {
   "cell_type": "code",
   "execution_count": 301,
   "id": "422191d1",
   "metadata": {},
   "outputs": [],
   "source": [
    "import folium"
   ]
  },
  {
   "cell_type": "code",
   "execution_count": 302,
   "id": "330c89a5",
   "metadata": {},
   "outputs": [],
   "source": [
    "geojson_url = \"https://servicodados.ibge.gov.br/api/v3/malhas/municipios/1501402?formato=application/vnd.geo+json\""
   ]
  },
  {
   "cell_type": "code",
   "execution_count": 303,
   "id": "8bb6b12c",
   "metadata": {},
   "outputs": [],
   "source": [
    "mapa_bairros_belem = folium.Map([-1.38604,-48.445297],\n",
    "                                            tiles = 'cartodbpositron',\n",
    "                                            zoom_start=8)"
   ]
  },
  {
   "cell_type": "code",
   "execution_count": 304,
   "id": "13120641",
   "metadata": {},
   "outputs": [
    {
     "data": {
      "text/html": [
       "<div style=\"width:100%;\"><div style=\"position:relative;width:100%;height:0;padding-bottom:60%;\"><span style=\"color:#565656\">Make this Notebook Trusted to load map: File -> Trust Notebook</span><iframe srcdoc=\"&lt;!DOCTYPE html&gt;\n",
       "&lt;html&gt;\n",
       "&lt;head&gt;\n",
       "    \n",
       "    &lt;meta http-equiv=&quot;content-type&quot; content=&quot;text/html; charset=UTF-8&quot; /&gt;\n",
       "    \n",
       "        &lt;script&gt;\n",
       "            L_NO_TOUCH = false;\n",
       "            L_DISABLE_3D = false;\n",
       "        &lt;/script&gt;\n",
       "    \n",
       "    &lt;style&gt;html, body {width: 100%;height: 100%;margin: 0;padding: 0;}&lt;/style&gt;\n",
       "    &lt;style&gt;#map {position:absolute;top:0;bottom:0;right:0;left:0;}&lt;/style&gt;\n",
       "    &lt;script src=&quot;https://cdn.jsdelivr.net/npm/leaflet@1.9.3/dist/leaflet.js&quot;&gt;&lt;/script&gt;\n",
       "    &lt;script src=&quot;https://code.jquery.com/jquery-3.7.1.min.js&quot;&gt;&lt;/script&gt;\n",
       "    &lt;script src=&quot;https://cdn.jsdelivr.net/npm/bootstrap@5.2.2/dist/js/bootstrap.bundle.min.js&quot;&gt;&lt;/script&gt;\n",
       "    &lt;script src=&quot;https://cdnjs.cloudflare.com/ajax/libs/Leaflet.awesome-markers/2.0.2/leaflet.awesome-markers.js&quot;&gt;&lt;/script&gt;\n",
       "    &lt;link rel=&quot;stylesheet&quot; href=&quot;https://cdn.jsdelivr.net/npm/leaflet@1.9.3/dist/leaflet.css&quot;/&gt;\n",
       "    &lt;link rel=&quot;stylesheet&quot; href=&quot;https://cdn.jsdelivr.net/npm/bootstrap@5.2.2/dist/css/bootstrap.min.css&quot;/&gt;\n",
       "    &lt;link rel=&quot;stylesheet&quot; href=&quot;https://netdna.bootstrapcdn.com/bootstrap/3.0.0/css/bootstrap.min.css&quot;/&gt;\n",
       "    &lt;link rel=&quot;stylesheet&quot; href=&quot;https://cdn.jsdelivr.net/npm/@fortawesome/fontawesome-free@6.2.0/css/all.min.css&quot;/&gt;\n",
       "    &lt;link rel=&quot;stylesheet&quot; href=&quot;https://cdnjs.cloudflare.com/ajax/libs/Leaflet.awesome-markers/2.0.2/leaflet.awesome-markers.css&quot;/&gt;\n",
       "    &lt;link rel=&quot;stylesheet&quot; href=&quot;https://cdn.jsdelivr.net/gh/python-visualization/folium/folium/templates/leaflet.awesome.rotate.min.css&quot;/&gt;\n",
       "    \n",
       "            &lt;meta name=&quot;viewport&quot; content=&quot;width=device-width,\n",
       "                initial-scale=1.0, maximum-scale=1.0, user-scalable=no&quot; /&gt;\n",
       "            &lt;style&gt;\n",
       "                #map_5740ce0b08849bee5d6f391292605598 {\n",
       "                    position: relative;\n",
       "                    width: 100.0%;\n",
       "                    height: 100.0%;\n",
       "                    left: 0.0%;\n",
       "                    top: 0.0%;\n",
       "                }\n",
       "                .leaflet-container { font-size: 1rem; }\n",
       "            &lt;/style&gt;\n",
       "        \n",
       "&lt;/head&gt;\n",
       "&lt;body&gt;\n",
       "    \n",
       "    \n",
       "            &lt;div class=&quot;folium-map&quot; id=&quot;map_5740ce0b08849bee5d6f391292605598&quot; &gt;&lt;/div&gt;\n",
       "        \n",
       "&lt;/body&gt;\n",
       "&lt;script&gt;\n",
       "    \n",
       "    \n",
       "            var map_5740ce0b08849bee5d6f391292605598 = L.map(\n",
       "                &quot;map_5740ce0b08849bee5d6f391292605598&quot;,\n",
       "                {\n",
       "                    center: [-1.38604, -48.445297],\n",
       "                    crs: L.CRS.EPSG3857,\n",
       "                    zoom: 8,\n",
       "                    zoomControl: true,\n",
       "                    preferCanvas: false,\n",
       "                }\n",
       "            );\n",
       "\n",
       "            \n",
       "\n",
       "        \n",
       "    \n",
       "            var tile_layer_08833aea92cdfc60f2f9223bb5435c99 = L.tileLayer(\n",
       "                &quot;https://{s}.basemaps.cartocdn.com/light_all/{z}/{x}/{y}{r}.png&quot;,\n",
       "                {&quot;attribution&quot;: &quot;\\u0026copy; \\u003ca href=\\&quot;https://www.openstreetmap.org/copyright\\&quot;\\u003eOpenStreetMap\\u003c/a\\u003e contributors \\u0026copy; \\u003ca href=\\&quot;https://carto.com/attributions\\&quot;\\u003eCARTO\\u003c/a\\u003e&quot;, &quot;detectRetina&quot;: false, &quot;maxNativeZoom&quot;: 20, &quot;maxZoom&quot;: 20, &quot;minZoom&quot;: 0, &quot;noWrap&quot;: false, &quot;opacity&quot;: 1, &quot;subdomains&quot;: &quot;abcd&quot;, &quot;tms&quot;: false}\n",
       "            );\n",
       "        \n",
       "    \n",
       "            tile_layer_08833aea92cdfc60f2f9223bb5435c99.addTo(map_5740ce0b08849bee5d6f391292605598);\n",
       "        \n",
       "&lt;/script&gt;\n",
       "&lt;/html&gt;\" style=\"position:absolute;width:100%;height:100%;left:0;top:0;border:none !important;\" allowfullscreen webkitallowfullscreen mozallowfullscreen></iframe></div></div>"
      ],
      "text/plain": [
       "<folium.folium.Map at 0x1ff54a19a90>"
      ]
     },
     "execution_count": 304,
     "metadata": {},
     "output_type": "execute_result"
    }
   ],
   "source": [
    "mapa_bairros_belem"
   ]
  },
  {
   "cell_type": "code",
   "execution_count": 305,
   "id": "1fba585a",
   "metadata": {},
   "outputs": [
    {
     "ename": "SyntaxError",
     "evalue": "invalid syntax (1442519164.py, line 4)",
     "output_type": "error",
     "traceback": [
      "\u001b[1;36m  Cell \u001b[1;32mIn[305], line 4\u001b[1;36m\u001b[0m\n\u001b[1;33m    key_on =  )\u001b[0m\n\u001b[1;37m              ^\u001b[0m\n\u001b[1;31mSyntaxError\u001b[0m\u001b[1;31m:\u001b[0m invalid syntax\n"
     ]
    }
   ],
   "source": [
    "folium.Choropleth(geo_data= geojson_url,\n",
    "                  data= df,\n",
    "                  columns = [\"bairros\"],\n",
    "                  key_on =  )"
   ]
  }
 ],
 "metadata": {
  "kernelspec": {
   "display_name": "Python 3",
   "language": "python",
   "name": "python3"
  },
  "language_info": {
   "codemirror_mode": {
    "name": "ipython",
    "version": 3
   },
   "file_extension": ".py",
   "mimetype": "text/x-python",
   "name": "python",
   "nbconvert_exporter": "python",
   "pygments_lexer": "ipython3",
   "version": "3.12.3"
  }
 },
 "nbformat": 4,
 "nbformat_minor": 5
}
