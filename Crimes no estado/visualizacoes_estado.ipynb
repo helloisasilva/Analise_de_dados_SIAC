{
 "cells": [
  {
   "cell_type": "markdown",
   "metadata": {},
   "source": [
    "# Análise de Crimes contra a Mulher no Estado do Pará (2019-2023)"
   ]
  },
  {
   "cell_type": "markdown",
   "metadata": {},
   "source": [
    "Neste notebook, vamos realizar uma análise detalhada da base de dados sobre crimes contra a mulher no estado do Pará, ocorridos entre os anos de 2019 e 2023. O objetivo principal é explorar e extrair informações úteis para compreender o panorama desses crimes e identificar padrões relevantes.\n",
    "\n",
    "Esta etapa visa criar visualizações gráficas dos dados tratados para compreender sua natureza e encontrar insights úteis. Essas visualizações facilitam a identificação de padrões, tendências e relações entre variáveis. Ao examinar os dados por meio de gráficos, podemos detectar distribuições, outliers e entender melhor seu comportamento geral. Isso é fundamental para tomadas de decisão informadas e o desenvolvimento de estratégias eficazes.\n",
    "\n"
   ]
  },
  {
   "cell_type": "markdown",
   "metadata": {},
   "source": [
    "### 1. Importações necesssárias"
   ]
  },
  {
   "cell_type": "code",
   "execution_count": 1,
   "metadata": {},
   "outputs": [],
   "source": [
    "# Manipulação e Análise de Dados\n",
    "import pandas as pd\n",
    "import numpy as np\n",
    "\n",
    "# Operações de Sistema\n",
    "import os\n",
    "\n",
    "# Visualização de Dados\n",
    "import matplotlib.pyplot as plt\n",
    "\n",
    "# Visualizações Interativas com Plotly\n",
    "import plotly\n",
    "import plotly.express as px\n",
    "import plotly.offline as py\n",
    "import plotly.graph_objects as go\n"
   ]
  },
  {
   "cell_type": "code",
   "execution_count": 2,
   "metadata": {},
   "outputs": [
    {
     "data": {
      "text/html": [
       "        <script type=\"text/javascript\">\n",
       "        window.PlotlyConfig = {MathJaxConfig: 'local'};\n",
       "        if (window.MathJax && window.MathJax.Hub && window.MathJax.Hub.Config) {window.MathJax.Hub.Config({SVG: {font: \"STIX-Web\"}});}\n",
       "        if (typeof require !== 'undefined') {\n",
       "        require.undef(\"plotly\");\n",
       "        requirejs.config({\n",
       "            paths: {\n",
       "                'plotly': ['https://cdn.plot.ly/plotly-2.24.1.min']\n",
       "            }\n",
       "        });\n",
       "        require(['plotly'], function(Plotly) {\n",
       "            window._Plotly = Plotly;\n",
       "        });\n",
       "        }\n",
       "        </script>\n",
       "        "
      ]
     },
     "metadata": {},
     "output_type": "display_data"
    }
   ],
   "source": [
    "plotly.offline.init_notebook_mode(connected=True)"
   ]
  },
  {
   "cell_type": "markdown",
   "metadata": {},
   "source": [
    "#### 1.1. Importação da base de dados"
   ]
  },
  {
   "cell_type": "code",
   "execution_count": 74,
   "metadata": {},
   "outputs": [],
   "source": [
    "crimes_selecionados_para_df = pd.read_csv('/home/heloisasilva/Downloads/bases siac/crimes_selecionados_pará.csv')"
   ]
  },
  {
   "cell_type": "code",
   "execution_count": 4,
   "metadata": {},
   "outputs": [
    {
     "data": {
      "text/html": [
       "<div>\n",
       "<style scoped>\n",
       "    .dataframe tbody tr th:only-of-type {\n",
       "        vertical-align: middle;\n",
       "    }\n",
       "\n",
       "    .dataframe tbody tr th {\n",
       "        vertical-align: top;\n",
       "    }\n",
       "\n",
       "    .dataframe thead th {\n",
       "        text-align: right;\n",
       "    }\n",
       "</style>\n",
       "<table border=\"1\" class=\"dataframe\">\n",
       "  <thead>\n",
       "    <tr style=\"text-align: right;\">\n",
       "      <th></th>\n",
       "      <th>unidade_origem</th>\n",
       "      <th>unidade_responsavel</th>\n",
       "      <th>dia_semana</th>\n",
       "      <th>mes_fato</th>\n",
       "      <th>municipios</th>\n",
       "      <th>ano_fato</th>\n",
       "      <th>data_fato</th>\n",
       "      <th>consolidado</th>\n",
       "      <th>especificacao_crime</th>\n",
       "      <th>causa_presumivel</th>\n",
       "      <th>...</th>\n",
       "      <th>grau_de_relacionamento</th>\n",
       "      <th>relato</th>\n",
       "      <th>aut_sexo</th>\n",
       "      <th>distrito</th>\n",
       "      <th>regionais</th>\n",
       "      <th>nro_bop_aditado</th>\n",
       "      <th>nro_bop</th>\n",
       "      <th>turno</th>\n",
       "      <th>periodo</th>\n",
       "      <th>tipo_violencia</th>\n",
       "    </tr>\n",
       "  </thead>\n",
       "  <tbody>\n",
       "    <tr>\n",
       "      <th>0</th>\n",
       "      <td>MARAMBAIA - 5ª SECCIONAL - 1ª RISP - 9ª AISP</td>\n",
       "      <td>ATALAIA - DELEGACIA DE POLICIA - 2ª RISP - 17ª...</td>\n",
       "      <td>SEG</td>\n",
       "      <td>NOVEMBRO</td>\n",
       "      <td>ANANINDEUA</td>\n",
       "      <td>2019</td>\n",
       "      <td>2019-11-25</td>\n",
       "      <td>LESAO CORPORAL</td>\n",
       "      <td>VIOLENCIA DOMESTICA</td>\n",
       "      <td>ÓDIO OU VINGANÇA</td>\n",
       "      <td>...</td>\n",
       "      <td>FILHO(A)</td>\n",
       "      <td>&lt;p&gt;A relatora vem a esta Seccional comunicar q...</td>\n",
       "      <td>M</td>\n",
       "      <td>ANANINDEUA</td>\n",
       "      <td>METROPOLITANA</td>\n",
       "      <td>Nao informado</td>\n",
       "      <td>00006/2019.113110-8</td>\n",
       "      <td>TARDE</td>\n",
       "      <td>2 SEMESTRE DE 2019</td>\n",
       "      <td>Violência física</td>\n",
       "    </tr>\n",
       "    <tr>\n",
       "      <th>1</th>\n",
       "      <td>MARITUBA - SECCIONAL -  2º RISP- 22ª AISP</td>\n",
       "      <td>MARITUBA - SECCIONAL -  2º RISP- 22ª AISP</td>\n",
       "      <td>QUI</td>\n",
       "      <td>JUNHO</td>\n",
       "      <td>MARITUBA</td>\n",
       "      <td>2019</td>\n",
       "      <td>2019-06-13</td>\n",
       "      <td>LESAO CORPORAL</td>\n",
       "      <td>VIOLENCIA DOMESTICA</td>\n",
       "      <td>OUTRAS</td>\n",
       "      <td>...</td>\n",
       "      <td>NAO INFORMADO</td>\n",
       "      <td>&lt;p&gt;A nacional acima qualificado compareceu nes...</td>\n",
       "      <td>F</td>\n",
       "      <td>MARITUBA</td>\n",
       "      <td>METROPOLITANA</td>\n",
       "      <td>Nao informado</td>\n",
       "      <td>00029/2019.103607-1</td>\n",
       "      <td>NOITE</td>\n",
       "      <td>1 SEMESTRE DE 2019</td>\n",
       "      <td>Violência física</td>\n",
       "    </tr>\n",
       "    <tr>\n",
       "      <th>2</th>\n",
       "      <td>MARITUBA - SECCIONAL -  2º RISP- 22ª AISP</td>\n",
       "      <td>MARITUBA - SECCIONAL -  2º RISP- 22ª AISP</td>\n",
       "      <td>TER</td>\n",
       "      <td>MARCO</td>\n",
       "      <td>MARITUBA</td>\n",
       "      <td>2019</td>\n",
       "      <td>2019-03-05</td>\n",
       "      <td>LESAO CORPORAL</td>\n",
       "      <td>VIOLENCIA DOMESTICA</td>\n",
       "      <td>ÓDIO OU VINGANÇA</td>\n",
       "      <td>...</td>\n",
       "      <td>NAO INFORMADO</td>\n",
       "      <td>&lt;p&gt;O policial militar acima identificado apres...</td>\n",
       "      <td>Nao informado</td>\n",
       "      <td>MARITUBA</td>\n",
       "      <td>METROPOLITANA</td>\n",
       "      <td>Nao informado</td>\n",
       "      <td>00029/2019.101409-1</td>\n",
       "      <td>NOITE</td>\n",
       "      <td>1 SEMESTRE DE 2019</td>\n",
       "      <td>Violência física</td>\n",
       "    </tr>\n",
       "    <tr>\n",
       "      <th>3</th>\n",
       "      <td>ITUPIRANGA -  DELEGACIA DE POLICIA - 10ª RISP</td>\n",
       "      <td>ITUPIRANGA -  DELEGACIA DE POLICIA - 10ª RISP</td>\n",
       "      <td>QUA</td>\n",
       "      <td>FEVEREIRO</td>\n",
       "      <td>ITUPIRANGA</td>\n",
       "      <td>2019</td>\n",
       "      <td>2019-02-27</td>\n",
       "      <td>AMEACA</td>\n",
       "      <td>Nao informado</td>\n",
       "      <td>ÓDIO OU VINGANÇA</td>\n",
       "      <td>...</td>\n",
       "      <td>NAO INFORMADO</td>\n",
       "      <td>&lt;p&gt;A relatora comunica que foi desmoralizada p...</td>\n",
       "      <td>Nao informado</td>\n",
       "      <td>ITUPIRANGA</td>\n",
       "      <td>CARAJAS</td>\n",
       "      <td>Nao informado</td>\n",
       "      <td>00157/2019.100273-5</td>\n",
       "      <td>MANHA</td>\n",
       "      <td>1 SEMESTRE DE 2019</td>\n",
       "      <td>Violência psicológica</td>\n",
       "    </tr>\n",
       "    <tr>\n",
       "      <th>4</th>\n",
       "      <td>BENFICA-UIPP MURINIM 94-2º RISP-23ª AISP</td>\n",
       "      <td>BENFICA-UIPP MURINIM 94-2º RISP-23ª AISP</td>\n",
       "      <td>QUI</td>\n",
       "      <td>JUNHO</td>\n",
       "      <td>BENEVIDES</td>\n",
       "      <td>2019</td>\n",
       "      <td>2019-06-20</td>\n",
       "      <td>AMEACA</td>\n",
       "      <td>Nao informado</td>\n",
       "      <td>ÓDIO OU VINGANÇA</td>\n",
       "      <td>...</td>\n",
       "      <td>NAO INFORMADO</td>\n",
       "      <td>A RELATORA ACIMA QUALIFICADA INFORMA QUE NO DI...</td>\n",
       "      <td>Nao informado</td>\n",
       "      <td>BENEVIDES</td>\n",
       "      <td>METROPOLITANA</td>\n",
       "      <td>/.-</td>\n",
       "      <td>94/2019.000595-4</td>\n",
       "      <td>NOITE</td>\n",
       "      <td>1 SEMESTRE DE 2019</td>\n",
       "      <td>Violência psicológica</td>\n",
       "    </tr>\n",
       "  </tbody>\n",
       "</table>\n",
       "<p>5 rows × 27 columns</p>\n",
       "</div>"
      ],
      "text/plain": [
       "                                  unidade_origem  \\\n",
       "0   MARAMBAIA - 5ª SECCIONAL - 1ª RISP - 9ª AISP   \n",
       "1      MARITUBA - SECCIONAL -  2º RISP- 22ª AISP   \n",
       "2      MARITUBA - SECCIONAL -  2º RISP- 22ª AISP   \n",
       "3  ITUPIRANGA -  DELEGACIA DE POLICIA - 10ª RISP   \n",
       "4       BENFICA-UIPP MURINIM 94-2º RISP-23ª AISP   \n",
       "\n",
       "                                 unidade_responsavel dia_semana   mes_fato  \\\n",
       "0  ATALAIA - DELEGACIA DE POLICIA - 2ª RISP - 17ª...        SEG   NOVEMBRO   \n",
       "1          MARITUBA - SECCIONAL -  2º RISP- 22ª AISP        QUI      JUNHO   \n",
       "2          MARITUBA - SECCIONAL -  2º RISP- 22ª AISP        TER      MARCO   \n",
       "3      ITUPIRANGA -  DELEGACIA DE POLICIA - 10ª RISP        QUA  FEVEREIRO   \n",
       "4           BENFICA-UIPP MURINIM 94-2º RISP-23ª AISP        QUI      JUNHO   \n",
       "\n",
       "   municipios  ano_fato   data_fato     consolidado  especificacao_crime  \\\n",
       "0  ANANINDEUA      2019  2019-11-25  LESAO CORPORAL  VIOLENCIA DOMESTICA   \n",
       "1    MARITUBA      2019  2019-06-13  LESAO CORPORAL  VIOLENCIA DOMESTICA   \n",
       "2    MARITUBA      2019  2019-03-05  LESAO CORPORAL  VIOLENCIA DOMESTICA   \n",
       "3  ITUPIRANGA      2019  2019-02-27          AMEACA        Nao informado   \n",
       "4   BENEVIDES      2019  2019-06-20          AMEACA        Nao informado   \n",
       "\n",
       "   causa_presumivel  ... grau_de_relacionamento  \\\n",
       "0  ÓDIO OU VINGANÇA  ...               FILHO(A)   \n",
       "1            OUTRAS  ...          NAO INFORMADO   \n",
       "2  ÓDIO OU VINGANÇA  ...          NAO INFORMADO   \n",
       "3  ÓDIO OU VINGANÇA  ...          NAO INFORMADO   \n",
       "4  ÓDIO OU VINGANÇA  ...          NAO INFORMADO   \n",
       "\n",
       "                                              relato       aut_sexo  \\\n",
       "0  <p>A relatora vem a esta Seccional comunicar q...              M   \n",
       "1  <p>A nacional acima qualificado compareceu nes...              F   \n",
       "2  <p>O policial militar acima identificado apres...  Nao informado   \n",
       "3  <p>A relatora comunica que foi desmoralizada p...  Nao informado   \n",
       "4  A RELATORA ACIMA QUALIFICADA INFORMA QUE NO DI...  Nao informado   \n",
       "\n",
       "     distrito      regionais nro_bop_aditado              nro_bop  turno  \\\n",
       "0  ANANINDEUA  METROPOLITANA   Nao informado  00006/2019.113110-8  TARDE   \n",
       "1    MARITUBA  METROPOLITANA   Nao informado  00029/2019.103607-1  NOITE   \n",
       "2    MARITUBA  METROPOLITANA   Nao informado  00029/2019.101409-1  NOITE   \n",
       "3  ITUPIRANGA        CARAJAS   Nao informado  00157/2019.100273-5  MANHA   \n",
       "4   BENEVIDES  METROPOLITANA             /.-     94/2019.000595-4  NOITE   \n",
       "\n",
       "              periodo         tipo_violencia  \n",
       "0  2 SEMESTRE DE 2019       Violência física  \n",
       "1  1 SEMESTRE DE 2019       Violência física  \n",
       "2  1 SEMESTRE DE 2019       Violência física  \n",
       "3  1 SEMESTRE DE 2019  Violência psicológica  \n",
       "4  1 SEMESTRE DE 2019  Violência psicológica  \n",
       "\n",
       "[5 rows x 27 columns]"
      ]
     },
     "execution_count": 4,
     "metadata": {},
     "output_type": "execute_result"
    }
   ],
   "source": [
    "crimes_selecionados_para_df.head()"
   ]
  },
  {
   "cell_type": "code",
   "execution_count": 42,
   "metadata": {},
   "outputs": [
    {
     "data": {
      "text/plain": [
       "Index(['unidade_origem', 'unidade_responsavel', 'dia_semana', 'mes_fato',\n",
       "       'municipios', 'ano_fato', 'data_fato', 'consolidado',\n",
       "       'especificacao_crime', 'causa_presumivel', 'meio_empregado_sisp',\n",
       "       'bairros', 'local_ocorrencia', 'vit_fx_etaria', 'vit_sexo',\n",
       "       'vit_cor_pele', 'vit_grau_inst', 'grau_de_relacionamento', 'relato',\n",
       "       'aut_sexo', 'distrito', 'regionais', 'nro_bop_aditado', 'nro_bop',\n",
       "       'turno', 'periodo', 'tipo_violencia'],\n",
       "      dtype='object')"
      ]
     },
     "execution_count": 42,
     "metadata": {},
     "output_type": "execute_result"
    }
   ],
   "source": [
    "crimes_selecionados_para_df.columns"
   ]
  },
  {
   "cell_type": "code",
   "execution_count": 43,
   "metadata": {},
   "outputs": [
    {
     "data": {
      "text/plain": [
       "(217173, 27)"
      ]
     },
     "execution_count": 43,
     "metadata": {},
     "output_type": "execute_result"
    }
   ],
   "source": [
    "crimes_selecionados_para_df.shape"
   ]
  },
  {
   "cell_type": "markdown",
   "metadata": {},
   "source": [
    "### 2. Renomeação de termos das colunas para padronização"
   ]
  },
  {
   "cell_type": "markdown",
   "metadata": {},
   "source": [
    "- Crimes consolidados"
   ]
  },
  {
   "cell_type": "code",
   "execution_count": 8,
   "metadata": {},
   "outputs": [
    {
     "data": {
      "text/plain": [
       "consolidado\n",
       "AMEACA                                              108996\n",
       "LESAO CORPORAL                                       67112\n",
       "ESTUPRO DE VULNERAVEL                                14986\n",
       "VIOLENCIA PSICOLOGICA                                 5818\n",
       "DESCUMPRIMENTO DE MEDIDAS PROTETIVAS DE URGENCIA      5476\n",
       "IMPORTUNACAO SEXUAL                                   4386\n",
       "ESTUPRO                                               3882\n",
       "TENTATIVA DE FEMINICIDIO                               979\n",
       "DESCUMPRIMENTO DE MEDIDAS PROTETIVAS                   951\n",
       "ASSEDIO SEXUAL                                         873\n",
       "HOMICIDIO                                              802\n",
       "DIVULGACAO DE CENA DE ESTUPRO                          778\n",
       "VIOLENCIA MORAL                                        665\n",
       "TENTATIVA DE HOMICIDIO                                 664\n",
       "FEMINICIDIO                                            276\n",
       "VIOLENCIA PATRIMONIAL                                  230\n",
       "VIOLENCIA FISICA                                       171\n",
       "EXPLORACAO SEXUAL INFANTIL                              81\n",
       "VIOLENCIA DOMESTICA                                     23\n",
       "ABORTO                                                  21\n",
       "ASSEDIO                                                  3\n",
       "Name: count, dtype: int64"
      ]
     },
     "execution_count": 8,
     "metadata": {},
     "output_type": "execute_result"
    }
   ],
   "source": [
    "crimes_selecionados_para_df.consolidado.value_counts()"
   ]
  },
  {
   "cell_type": "code",
   "execution_count": null,
   "metadata": {},
   "outputs": [],
   "source": [
    "crimes_selecionados_para_df.loc[crimes_selecionados_para_df['consolidado'].isin(['AMEACA']), 'consolidado'] = 'Ameaça'\n",
    "crimes_selecionados_para_df.loc[crimes_selecionados_para_df['consolidado'].isin(['LESAO CORPORAL']), 'consolidado'] = 'Lesão corporal'\n",
    "crimes_selecionados_para_df.loc[crimes_selecionados_para_df['consolidado'].isin(['ESTUPRO DE VULNERAVEL']), 'consolidado'] = 'Estupro de vulnerável'\n",
    "crimes_selecionados_para_df.loc[crimes_selecionados_para_df['consolidado'].isin(['VIOLENCIA PSICOLOGICA']), 'consolidado'] = 'Violência psicológica'\n",
    "crimes_selecionados_para_df.loc[crimes_selecionados_para_df['consolidado'].isin(['DESCUMPRIMENTO DE MEDIDAS PROTETIVAS DE URGENCIA']), 'consolidado'] = 'Descumprimento de medidas protetivas de urgência'\n",
    "crimes_selecionados_para_df.loc[crimes_selecionados_para_df['consolidado'].isin(['IMPORTUNACAO SEXUAL']), 'consolidado'] = 'Importunação sexual'\n",
    "crimes_selecionados_para_df.loc[crimes_selecionados_para_df['consolidado'].isin(['ESTUPRO']), 'consolidado'] = 'Estupro'\n",
    "crimes_selecionados_para_df.loc[crimes_selecionados_para_df['consolidado'].isin(['TENTATIVA DE FEMINICIDIO']), 'consolidado'] = 'Tentativa de feminicídio'\n",
    "crimes_selecionados_para_df.loc[crimes_selecionados_para_df['consolidado'].isin(['DESCUMPRIMENTO DE MEDIDAS PROTETIVAS']), 'consolidado'] = 'Descumprimento de medidas protetivas'\n",
    "crimes_selecionados_para_df.loc[crimes_selecionados_para_df['consolidado'].isin(['ASSEDIO SEXUAL']), 'consolidado'] = 'Assédio sexual'\n",
    "crimes_selecionados_para_df.loc[crimes_selecionados_para_df['consolidado'].isin(['HOMICIDIO']), 'consolidado'] = 'Homicídio'\n",
    "crimes_selecionados_para_df.loc[crimes_selecionados_para_df['consolidado'].isin(['DIVULGACAO DE CENA DE ESTUPRO']), 'consolidado'] = 'Divulgação de cena de estupro'\n",
    "crimes_selecionados_para_df.loc[crimes_selecionados_para_df['consolidado'].isin(['VIOLENCIA MORAL']), 'consolidado'] = 'Violência moral'\n",
    "crimes_selecionados_para_df.loc[crimes_selecionados_para_df['consolidado'].isin(['TENTATIVA DE HOMICIDIO']), 'consolidado'] = 'Tentativa de homicídio'\n",
    "crimes_selecionados_para_df.loc[crimes_selecionados_para_df['consolidado'].isin(['FEMINICIDIO']), 'consolidado'] = 'Feminicídio'\n",
    "crimes_selecionados_para_df.loc[crimes_selecionados_para_df['consolidado'].isin(['VIOLENCIA PATRIMONIAL']), 'consolidado'] = 'Violência patrimonial'\n",
    "crimes_selecionados_para_df.loc[crimes_selecionados_para_df['consolidado'].isin(['VIOLENCIA FISICA']), 'consolidado'] = 'Violência fisíca'\n",
    "crimes_selecionados_para_df.loc[crimes_selecionados_para_df['consolidado'].isin(['EXPLORACAO SEXUAL INFANTIL']), 'consolidado'] = 'Exploração sexual infantil'\n",
    "crimes_selecionados_para_df.loc[crimes_selecionados_para_df['consolidado'].isin(['VIOLENCIA DOMESTICA']), 'consolidado'] = 'Violência doméstica'\n",
    "crimes_selecionados_para_df.loc[crimes_selecionados_para_df['consolidado'].isin(['ABORTO']), 'consolidado'] = 'Aborto'\n",
    "crimes_selecionados_para_df.loc[crimes_selecionados_para_df['consolidado'].isin(['ASSEDIO']), 'consolidado'] = 'Assédio'\n"
   ]
  },
  {
   "cell_type": "code",
   "execution_count": 75,
   "metadata": {},
   "outputs": [],
   "source": [
    "\n",
    "# Ingles\n",
    "\n",
    "\n",
    "crimes_selecionados_para_df.loc[crimes_selecionados_para_df['consolidado'].isin(['AMEACA']), 'consolidado'] = 'Threat'\n",
    "crimes_selecionados_para_df.loc[crimes_selecionados_para_df['consolidado'].isin(['LESAO CORPORAL']), 'consolidado'] = 'Bod. inj.'\n",
    "crimes_selecionados_para_df.loc[crimes_selecionados_para_df['consolidado'].isin(['ESTUPRO DE VULNERAVEL']), 'consolidado'] = 'Rape of vuln.'\n",
    "crimes_selecionados_para_df.loc[crimes_selecionados_para_df['consolidado'].isin(['VIOLENCIA PSICOLOGICA']), 'consolidado'] = 'Psy. viol.'\n",
    "crimes_selecionados_para_df.loc[crimes_selecionados_para_df['consolidado'].isin(['DESCUMPRIMENTO DE MEDIDAS PROTETIVAS DE URGENCIA']), 'consolidado'] = 'Viol. of urgent protect. meas.'\n",
    "crimes_selecionados_para_df.loc[crimes_selecionados_para_df['consolidado'].isin(['IMPORTUNACAO SEXUAL']), 'consolidado'] = 'Sex. har.'\n",
    "crimes_selecionados_para_df.loc[crimes_selecionados_para_df['consolidado'].isin(['ESTUPRO']), 'consolidado'] = 'Rape'\n",
    "crimes_selecionados_para_df.loc[crimes_selecionados_para_df['consolidado'].isin(['TENTATIVA DE FEMINICIDIO']), 'consolidado'] = 'Attempted femicide'\n",
    "crimes_selecionados_para_df.loc[crimes_selecionados_para_df['consolidado'].isin(['DESCUMPRIMENTO DE MEDIDAS PROTETIVAS']), 'consolidado'] = 'Viol. of protect. meas.'\n",
    "crimes_selecionados_para_df.loc[crimes_selecionados_para_df['consolidado'].isin(['ASSEDIO SEXUAL']), 'consolidado'] = 'Sexual coercion'\n",
    "crimes_selecionados_para_df.loc[crimes_selecionados_para_df['consolidado'].isin(['HOMICIDIO']), 'consolidado'] = 'Murder'\n",
    "crimes_selecionados_para_df.loc[crimes_selecionados_para_df['consolidado'].isin(['DIVULGACAO DE CENA DE ESTUPRO']), 'consolidado'] = 'Distribution of rape footage'\n",
    "crimes_selecionados_para_df.loc[crimes_selecionados_para_df['consolidado'].isin(['VIOLENCIA MORAL']), 'consolidado'] = 'Moral violence'\n",
    "crimes_selecionados_para_df.loc[crimes_selecionados_para_df['consolidado'].isin(['TENTATIVA DE HOMICIDIO']), 'consolidado'] = 'Attempted Murder'\n",
    "crimes_selecionados_para_df.loc[crimes_selecionados_para_df['consolidado'].isin(['FEMINICIDIO']), 'consolidado'] = 'Femicide'\n",
    "crimes_selecionados_para_df.loc[crimes_selecionados_para_df['consolidado'].isin(['VIOLENCIA PATRIMONIAL']), 'consolidado'] = 'Property violence'\n",
    "crimes_selecionados_para_df.loc[crimes_selecionados_para_df['consolidado'].isin(['VIOLENCIA FISICA']), 'consolidado'] = 'Physical violence'\n",
    "crimes_selecionados_para_df.loc[crimes_selecionados_para_df['consolidado'].isin(['EXPLORACAO SEXUAL INFANTIL']), 'consolidado'] = 'Child sexual exploitation'\n",
    "crimes_selecionados_para_df.loc[crimes_selecionados_para_df['consolidado'].isin(['VIOLENCIA DOMESTICA']), 'consolidado'] = 'Domestic violence'\n",
    "crimes_selecionados_para_df.loc[crimes_selecionados_para_df['consolidado'].isin(['ABORTO']), 'consolidado'] = 'Abortion'\n",
    "crimes_selecionados_para_df.loc[crimes_selecionados_para_df['consolidado'].isin(['ASSEDIO']), 'consolidado'] = 'Harassment'"
   ]
  },
  {
   "cell_type": "code",
   "execution_count": 5,
   "metadata": {},
   "outputs": [
    {
     "data": {
      "text/plain": [
       "consolidado\n",
       "Ameaça                                              108996\n",
       "Lesão corporal                                       67112\n",
       "Estupro de vulnerável                                14986\n",
       "Violência psicológica                                 5818\n",
       "Descumprimento de medidas protetivas de urgência      5476\n",
       "Importunação sexual                                   4386\n",
       "Estupro                                               3882\n",
       "Tentativa de feminicídio                               979\n",
       "Descumprimento de medidas protetivas                   951\n",
       "Assédio sexual                                         873\n",
       "Homicídio                                              802\n",
       "Divulgação de cena de estupro                          778\n",
       "Violência moral                                        665\n",
       "Tentativa de homicídio                                 664\n",
       "Feminicídio                                            276\n",
       "Violência patrimonial                                  230\n",
       "Violência fisíca                                       171\n",
       "Exploração sexual infantil                              81\n",
       "Violência doméstica                                     23\n",
       "Aborto                                                  21\n",
       "Assédio                                                  3\n",
       "Name: count, dtype: int64"
      ]
     },
     "execution_count": 5,
     "metadata": {},
     "output_type": "execute_result"
    }
   ],
   "source": [
    "crimes_selecionados_para_df.consolidado.value_counts()"
   ]
  },
  {
   "cell_type": "markdown",
   "metadata": {},
   "source": [
    "- Especificação dos crimes"
   ]
  },
  {
   "cell_type": "code",
   "execution_count": 17,
   "metadata": {},
   "outputs": [
    {
     "data": {
      "text/plain": [
       "especificacao_crime\n",
       "Nao informado               131503\n",
       "VIOLENCIA DOMESTICA          71329\n",
       "MENOR                         5543\n",
       "PREJUDICADO                   2655\n",
       "CRIMES VIRTUAIS               1346\n",
       "TENTATIVA DE FEMINICIDIO       656\n",
       "OUTROS                         651\n",
       "SIMPLES                        492\n",
       "MENOR/ERA DO FATO              338\n",
       "FEMINICIDIO                    305\n",
       "Name: count, dtype: int64"
      ]
     },
     "execution_count": 17,
     "metadata": {},
     "output_type": "execute_result"
    }
   ],
   "source": [
    "crimes_selecionados_para_df.especificacao_crime.value_counts().head(10)"
   ]
  },
  {
   "cell_type": "code",
   "execution_count": 6,
   "metadata": {},
   "outputs": [],
   "source": [
    "crimes_selecionados_para_df.loc[crimes_selecionados_para_df['especificacao_crime'].isin(['VIOLENCIA DOMESTICA']), 'especificacao_crime'] = 'Violência doméstica'\n",
    "crimes_selecionados_para_df.loc[crimes_selecionados_para_df['especificacao_crime'].isin(['MENOR', 'MENOR/ERA DO FATO']), 'especificacao_crime'] = 'Menor'\n",
    "crimes_selecionados_para_df.loc[crimes_selecionados_para_df['especificacao_crime'].isin(['CRIMES VIRTUAIS']), 'especificacao_crime'] = 'Crimes virtuais'\n",
    "crimes_selecionados_para_df.loc[crimes_selecionados_para_df['especificacao_crime'].isin(['PREJUDICADO']), 'especificacao_crime'] = 'Prejudicado'\n",
    "crimes_selecionados_para_df.loc[crimes_selecionados_para_df['especificacao_crime'].isin(['TENTATIVA DE FEMINICIDIO']), 'especificacao_crime'] = 'Tentativa de feminicídio'\n",
    "crimes_selecionados_para_df.loc[crimes_selecionados_para_df['especificacao_crime'].isin(['FEMINICIDIO']), 'especificacao_crime'] = 'Feminicídio'\n",
    "crimes_selecionados_para_df.loc[crimes_selecionados_para_df['especificacao_crime'].isin(['OUTROS']), 'especificacao_crime'] = 'Outros'\n"
   ]
  },
  {
   "cell_type": "code",
   "execution_count": 76,
   "metadata": {},
   "outputs": [],
   "source": [
    "# Ingles\n",
    "\n",
    "\n",
    "crimes_selecionados_para_df.loc[crimes_selecionados_para_df['especificacao_crime'].isin(['VIOLENCIA DOMESTICA']), 'especificacao_crime'] = 'Domestic violence'\n",
    "crimes_selecionados_para_df.loc[crimes_selecionados_para_df['especificacao_crime'].isin(['MENOR', 'MENOR/ERA DO FATO']), 'especificacao_crime'] = 'Minor'\n",
    "crimes_selecionados_para_df.loc[crimes_selecionados_para_df['especificacao_crime'].isin(['CRIMES VIRTUAIS']), 'especificacao_crime'] = 'Cybercrimes'\n",
    "crimes_selecionados_para_df.loc[crimes_selecionados_para_df['especificacao_crime'].isin(['PREJUDICADO']), 'especificacao_crime'] = 'Compromised'\n",
    "crimes_selecionados_para_df.loc[crimes_selecionados_para_df['especificacao_crime'].isin(['TENTATIVA DE FEMINICIDIO']), 'especificacao_crime'] = 'Attempted femicide'\n",
    "crimes_selecionados_para_df.loc[crimes_selecionados_para_df['especificacao_crime'].isin(['FEMINICIDIO']), 'especificacao_crime'] = 'Femicide'\n",
    "crimes_selecionados_para_df.loc[crimes_selecionados_para_df['especificacao_crime'].isin(['OUTROS']), 'especificacao_crime'] = 'Others'\n"
   ]
  },
  {
   "cell_type": "code",
   "execution_count": 19,
   "metadata": {},
   "outputs": [
    {
     "data": {
      "text/plain": [
       "especificacao_crime\n",
       "Nao informado               131503\n",
       "Violência doméstica          71329\n",
       "Menor                         5881\n",
       "Prejudicado                   2655\n",
       "Crimes virtuais               1346\n",
       "Tentativa de feminicídio       656\n",
       "Outros                         651\n",
       "SIMPLES                        492\n",
       "Feminicídio                    305\n",
       "PESSOA COM DEFICIENCIA         170\n",
       "Name: count, dtype: int64"
      ]
     },
     "execution_count": 19,
     "metadata": {},
     "output_type": "execute_result"
    }
   ],
   "source": [
    "crimes_selecionados_para_df.especificacao_crime.value_counts().head(10)"
   ]
  },
  {
   "cell_type": "markdown",
   "metadata": {},
   "source": [
    "- Turno"
   ]
  },
  {
   "cell_type": "code",
   "execution_count": 20,
   "metadata": {},
   "outputs": [
    {
     "data": {
      "text/plain": [
       "turno\n",
       "NOITE        70623\n",
       "MANHA        62174\n",
       "TARDE        61058\n",
       "MADRUGADA    23318\n",
       "Name: count, dtype: int64"
      ]
     },
     "execution_count": 20,
     "metadata": {},
     "output_type": "execute_result"
    }
   ],
   "source": [
    "crimes_selecionados_para_df.turno.value_counts()"
   ]
  },
  {
   "cell_type": "code",
   "execution_count": 7,
   "metadata": {},
   "outputs": [],
   "source": [
    "crimes_selecionados_para_df.loc[crimes_selecionados_para_df['turno'].isin(['MANHA']), 'turno'] = 'Manhã'\n",
    "crimes_selecionados_para_df.loc[crimes_selecionados_para_df['turno'].isin(['TARDE']), 'turno'] = 'Tarde'\n",
    "crimes_selecionados_para_df.loc[crimes_selecionados_para_df['turno'].isin(['NOITE']), 'turno'] = 'Noite'\n",
    "crimes_selecionados_para_df.loc[crimes_selecionados_para_df['turno'].isin(['MADRUGADA']), 'turno'] = 'Madrugada'\n"
   ]
  },
  {
   "cell_type": "code",
   "execution_count": 77,
   "metadata": {},
   "outputs": [],
   "source": [
    "# Ingles\n",
    "\n",
    "crimes_selecionados_para_df.loc[crimes_selecionados_para_df['turno'].isin(['MANHA']), 'turno'] = 'Morning'\n",
    "crimes_selecionados_para_df.loc[crimes_selecionados_para_df['turno'].isin(['TARDE']), 'turno'] = 'Afternoon'\n",
    "crimes_selecionados_para_df.loc[crimes_selecionados_para_df['turno'].isin(['NOITE']), 'turno'] = 'Night'\n",
    "crimes_selecionados_para_df.loc[crimes_selecionados_para_df['turno'].isin(['MADRUGADA']), 'turno'] = 'Early morning'\n"
   ]
  },
  {
   "cell_type": "code",
   "execution_count": 22,
   "metadata": {},
   "outputs": [
    {
     "data": {
      "text/plain": [
       "turno\n",
       "Noite        70623\n",
       "Manhã        62174\n",
       "Tarde        61058\n",
       "Madrugada    23318\n",
       "Name: count, dtype: int64"
      ]
     },
     "execution_count": 22,
     "metadata": {},
     "output_type": "execute_result"
    }
   ],
   "source": [
    "crimes_selecionados_para_df.turno.value_counts()"
   ]
  },
  {
   "cell_type": "markdown",
   "metadata": {},
   "source": [
    "- Locais"
   ]
  },
  {
   "cell_type": "code",
   "execution_count": 23,
   "metadata": {},
   "outputs": [
    {
     "data": {
      "text/plain": [
       "local_ocorrencia\n",
       "RESIDENCIA PARTICULAR          123816\n",
       "VIA PUBLICA                     43193\n",
       "OUTROS LOCAIS                   16292\n",
       "INTERNET                         7453\n",
       "ESTABELECIMENTO COMERCIAL        4963\n",
       "CAFE, BAR, RESTAURANTE, ETC      3610\n",
       "CONDOMINIO                       3406\n",
       "ESTABELECIMENTO DE ENSINO        2102\n",
       "EDIFICIO PUBLICO                 1837\n",
       "ZONA URBANA                      1577\n",
       "Name: count, dtype: int64"
      ]
     },
     "execution_count": 23,
     "metadata": {},
     "output_type": "execute_result"
    }
   ],
   "source": [
    "crimes_selecionados_para_df.local_ocorrencia.value_counts().head(10)"
   ]
  },
  {
   "cell_type": "code",
   "execution_count": 8,
   "metadata": {},
   "outputs": [],
   "source": [
    "crimes_selecionados_para_df.loc[crimes_selecionados_para_df['local_ocorrencia'].isin(['RESIDENCIA PARTICULAR']), 'local_ocorrencia'] = 'Residência particular'\n",
    "crimes_selecionados_para_df.loc[crimes_selecionados_para_df['local_ocorrencia'].isin(['VIA PUBLICA']), 'local_ocorrencia'] = 'Via pública'\n",
    "crimes_selecionados_para_df.loc[crimes_selecionados_para_df['local_ocorrencia'].isin(['OUTROS LOCAIS']), 'local_ocorrencia'] = 'Outros locais'\n",
    "crimes_selecionados_para_df.loc[crimes_selecionados_para_df['local_ocorrencia'].isin(['INTERNET']), 'local_ocorrencia'] = 'Internet'\n",
    "crimes_selecionados_para_df.loc[crimes_selecionados_para_df['local_ocorrencia'].isin(['ESTABELECIMENTO COMERCIAL', 'CAFE, BAR, RESTAURANTE, ETC']), 'local_ocorrencia'] = 'Estabeleciemnto comercial'\n",
    "crimes_selecionados_para_df.loc[crimes_selecionados_para_df['local_ocorrencia'].isin(['CONDOMINIO']), 'local_ocorrencia'] = 'Condomínio residencial'\n",
    "crimes_selecionados_para_df.loc[crimes_selecionados_para_df['local_ocorrencia'].isin(['ESTABELECIMENTO DE ENSINO']), 'local_ocorrencia'] = 'Estabelecimento de ensino'\n",
    "crimes_selecionados_para_df.loc[crimes_selecionados_para_df['local_ocorrencia'].isin(['EDIFICIO PUBLICO']), 'local_ocorrencia'] = 'Edifício público'\n",
    "crimes_selecionados_para_df.loc[crimes_selecionados_para_df['local_ocorrencia'].isin(['ZONA URBANA']), 'local_ocorrencia'] = 'Zona urbana'\n",
    "crimes_selecionados_para_df.loc[crimes_selecionados_para_df['local_ocorrencia'].isin(['AREA RURAL']), 'local_ocorrencia'] = 'Área rural'\n"
   ]
  },
  {
   "cell_type": "code",
   "execution_count": 78,
   "metadata": {},
   "outputs": [],
   "source": [
    "# Ingles\n",
    "\n",
    "crimes_selecionados_para_df.loc[crimes_selecionados_para_df['local_ocorrencia'].isin(['RESIDENCIA PARTICULAR']), 'local_ocorrencia'] = 'Private residence'\n",
    "crimes_selecionados_para_df.loc[crimes_selecionados_para_df['local_ocorrencia'].isin(['VIA PUBLICA']), 'local_ocorrencia'] = 'Public road'\n",
    "crimes_selecionados_para_df.loc[crimes_selecionados_para_df['local_ocorrencia'].isin(['OUTROS LOCAIS']), 'local_ocorrencia'] = 'Other locations'\n",
    "crimes_selecionados_para_df.loc[crimes_selecionados_para_df['local_ocorrencia'].isin(['INTERNET']), 'local_ocorrencia'] = 'Internet'\n",
    "crimes_selecionados_para_df.loc[crimes_selecionados_para_df['local_ocorrencia'].isin(['ESTABELECIMENTO COMERCIAL', 'CAFE, BAR, RESTAURANTE, ETC']), 'local_ocorrencia'] = 'Commercial establishment'\n",
    "crimes_selecionados_para_df.loc[crimes_selecionados_para_df['local_ocorrencia'].isin(['CONDOMINIO']), 'local_ocorrencia'] = 'Residential condominium'\n",
    "crimes_selecionados_para_df.loc[crimes_selecionados_para_df['local_ocorrencia'].isin(['ESTABELECIMENTO DE ENSINO']), 'local_ocorrencia'] = 'Educational institution'\n",
    "crimes_selecionados_para_df.loc[crimes_selecionados_para_df['local_ocorrencia'].isin(['EDIFICIO PUBLICO']), 'local_ocorrencia'] = 'Public building'\n",
    "crimes_selecionados_para_df.loc[crimes_selecionados_para_df['local_ocorrencia'].isin(['ZONA URBANA']), 'local_ocorrencia'] = 'Urban area'\n",
    "crimes_selecionados_para_df.loc[crimes_selecionados_para_df['local_ocorrencia'].isin(['AREA RURAL']), 'local_ocorrencia'] = 'Rural area'\n"
   ]
  },
  {
   "cell_type": "code",
   "execution_count": 27,
   "metadata": {},
   "outputs": [
    {
     "data": {
      "text/plain": [
       "local_ocorrencia\n",
       "Residência particular        123816\n",
       "Via pública                   43193\n",
       "Outros locais                 16292\n",
       "Estabeleciemnto comercial      8573\n",
       "Internet                       7453\n",
       "Condomínio residencial         3406\n",
       "Estabelecimento de ensino      2102\n",
       "Edifício público               1837\n",
       "Zona urbana                    1577\n",
       "Área rural                     1551\n",
       "Name: count, dtype: int64"
      ]
     },
     "execution_count": 27,
     "metadata": {},
     "output_type": "execute_result"
    }
   ],
   "source": [
    "crimes_selecionados_para_df.local_ocorrencia.value_counts().head(10)"
   ]
  },
  {
   "cell_type": "markdown",
   "metadata": {},
   "source": [
    "- Faixa etaria das vitimas"
   ]
  },
  {
   "cell_type": "code",
   "execution_count": 28,
   "metadata": {},
   "outputs": [
    {
     "data": {
      "text/plain": [
       "vit_fx_etaria\n",
       "ADULTO IV (35 A 64 ANOS)      82227\n",
       "ADULTO I (18 A 24 ANOS)       38424\n",
       "ADULTO II (25 A 29 ANOS)      32023\n",
       "ADULTO III (30 A 34 ANOS)     31058\n",
       "ADOLESCENTE (12 A 17 ANOS)    14791\n",
       "CRIANCA (0 A 11 ANOS)          7856\n",
       "PREJUDICADO                    5566\n",
       "IDOSO (65 ANOS OU MAIS)        4368\n",
       "NAO INFORMADO                   860\n",
       "Name: count, dtype: int64"
      ]
     },
     "execution_count": 28,
     "metadata": {},
     "output_type": "execute_result"
    }
   ],
   "source": [
    "crimes_selecionados_para_df.vit_fx_etaria.value_counts()"
   ]
  },
  {
   "cell_type": "code",
   "execution_count": null,
   "metadata": {},
   "outputs": [],
   "source": [
    "crimes_selecionados_para_df.loc[crimes_selecionados_para_df['vit_fx_etaria'].isin(['ADULTO IV (35 A 64 ANOS)']), 'vit_fx_etaria'] = '35 a 64 anos'\n",
    "crimes_selecionados_para_df.loc[crimes_selecionados_para_df['vit_fx_etaria'].isin(['ADULTO I (18 A 24 ANOS)']), 'vit_fx_etaria'] = '18 a 24 anos'\n",
    "crimes_selecionados_para_df.loc[crimes_selecionados_para_df['vit_fx_etaria'].isin(['ADULTO III (30 A 34 ANOS)']), 'vit_fx_etaria'] = '30 a 34 anos'\n",
    "crimes_selecionados_para_df.loc[crimes_selecionados_para_df['vit_fx_etaria'].isin(['ADULTO II (25 A 29 ANOS)']), 'vit_fx_etaria'] = '25 a 29 anos'\n",
    "crimes_selecionados_para_df.loc[crimes_selecionados_para_df['vit_fx_etaria'].isin(['ADOLESCENTE (12 A 17 ANOS)']), 'vit_fx_etaria'] = '12 a 17 anos'\n",
    "crimes_selecionados_para_df.loc[crimes_selecionados_para_df['vit_fx_etaria'].isin(['IDOSO (65 ANOS OU MAIS)']), 'vit_fx_etaria'] = '65 anos ou mais'\n",
    "crimes_selecionados_para_df.loc[crimes_selecionados_para_df['vit_fx_etaria'].isin(['CRIANCA (0 A 11 ANOS)']), 'vit_fx_etaria'] = '0 a 11 anos'\n"
   ]
  },
  {
   "cell_type": "code",
   "execution_count": 79,
   "metadata": {},
   "outputs": [],
   "source": [
    "# Ingles\n",
    "\n",
    "crimes_selecionados_para_df.loc[crimes_selecionados_para_df['vit_fx_etaria'].isin(['ADULTO IV (35 A 64 ANOS)']), 'vit_fx_etaria'] = '35 to 64 years'\n",
    "crimes_selecionados_para_df.loc[crimes_selecionados_para_df['vit_fx_etaria'].isin(['ADULTO I (18 A 24 ANOS)']), 'vit_fx_etaria'] = '18 to 24 years'\n",
    "crimes_selecionados_para_df.loc[crimes_selecionados_para_df['vit_fx_etaria'].isin(['ADULTO III (30 A 34 ANOS)']), 'vit_fx_etaria'] = '30 to 34 years'\n",
    "crimes_selecionados_para_df.loc[crimes_selecionados_para_df['vit_fx_etaria'].isin(['ADULTO II (25 A 29 ANOS)']), 'vit_fx_etaria'] = '25 to 29 years'\n",
    "crimes_selecionados_para_df.loc[crimes_selecionados_para_df['vit_fx_etaria'].isin(['ADOLESCENTE (12 A 17 ANOS)']), 'vit_fx_etaria'] = '12 to 17 years'\n",
    "crimes_selecionados_para_df.loc[crimes_selecionados_para_df['vit_fx_etaria'].isin(['IDOSO (65 ANOS OU MAIS)']), 'vit_fx_etaria'] = '65 years or more'\n",
    "crimes_selecionados_para_df.loc[crimes_selecionados_para_df['vit_fx_etaria'].isin(['CRIANCA (0 A 11 ANOS)']), 'vit_fx_etaria'] = '0 to 11 years'"
   ]
  },
  {
   "cell_type": "code",
   "execution_count": 30,
   "metadata": {},
   "outputs": [
    {
     "data": {
      "text/plain": [
       "vit_fx_etaria\n",
       "35 a 64 anos       82227\n",
       "18 a 24 anos       38424\n",
       "25 a 29 anos       32023\n",
       "30 a 34 anos       31058\n",
       "12 a 17 anos       14791\n",
       "0 a 11 anos         7856\n",
       "PREJUDICADO         5566\n",
       "65 anos ou mais     4368\n",
       "NAO INFORMADO        860\n",
       "Name: count, dtype: int64"
      ]
     },
     "execution_count": 30,
     "metadata": {},
     "output_type": "execute_result"
    }
   ],
   "source": [
    "crimes_selecionados_para_df.vit_fx_etaria.value_counts()"
   ]
  },
  {
   "cell_type": "markdown",
   "metadata": {},
   "source": [
    "- Grau de instrução"
   ]
  },
  {
   "cell_type": "code",
   "execution_count": 31,
   "metadata": {},
   "outputs": [
    {
     "data": {
      "text/plain": [
       "vit_grau_inst\n",
       "ENSINO MEDIO COMPLETO                    56835\n",
       "ENSINO FUNDAMENTAL INCOMPLETO            49824\n",
       "NAO INFORMADO                            30865\n",
       "ENSINO MEDIO INCOMPLETO                  19478\n",
       "ENSINO SUPERIOR COMPLETO                 18521\n",
       "ENSINO FUNDAMENTAL COMPLETO              17166\n",
       "PREJUDICADO                              11620\n",
       "ENSINO SUPERIOR INCOMPLETO                9653\n",
       "NAO ALFABETIZADO                          3190\n",
       "POS-GRADUACAO/ESPECIALIZACAO                14\n",
       "1º GRAU COMPLETO (ENSINO FUNDAMENTAL)        3\n",
       "PJ, EP E OUTROS                              2\n",
       "MESTRADO                                     1\n",
       "ENSINO ENSINO FUNDAMENTAL                    1\n",
       "Name: count, dtype: int64"
      ]
     },
     "execution_count": 31,
     "metadata": {},
     "output_type": "execute_result"
    }
   ],
   "source": [
    "crimes_selecionados_para_df.vit_grau_inst.value_counts()"
   ]
  },
  {
   "cell_type": "code",
   "execution_count": 10,
   "metadata": {},
   "outputs": [],
   "source": [
    "crimes_selecionados_para_df.loc[crimes_selecionados_para_df['vit_grau_inst'].isin(['ENSINO MEDIO COMPLETO']), 'vit_grau_inst'] = 'Médio completo'\n",
    "crimes_selecionados_para_df.loc[crimes_selecionados_para_df['vit_grau_inst'].isin(['ENSINO FUNDAMENTAL INCOMPLETO']), 'vit_grau_inst'] = 'Fundamental incompleto'\n",
    "crimes_selecionados_para_df.loc[crimes_selecionados_para_df['vit_grau_inst'].isin(['ENSINO SUPERIOR COMPLETO']), 'vit_grau_inst'] = 'Superior completo'\n",
    "crimes_selecionados_para_df.loc[crimes_selecionados_para_df['vit_grau_inst'].isin(['ENSINO MEDIO INCOMPLETO']), 'vit_grau_inst'] = 'Médio incompleto'\n",
    "crimes_selecionados_para_df.loc[crimes_selecionados_para_df['vit_grau_inst'].isin(['ENSINO FUNDAMENTAL COMPLETO','1º GRAU COMPLETO (ENSINO FUNDAMENTAL)','ENSINO ENSINO FUNDAMENTAL']), 'vit_grau_inst'] = 'Fundamental completo'\n",
    "crimes_selecionados_para_df.loc[crimes_selecionados_para_df['vit_grau_inst'].isin(['ENSINO SUPERIOR INCOMPLETO']), 'vit_grau_inst'] = 'Superior incompleto'\n",
    "crimes_selecionados_para_df.loc[crimes_selecionados_para_df['vit_grau_inst'].isin(['NAO ALFABETIZADO']), 'vit_grau_inst'] = 'Não alfabetizado'\n",
    "crimes_selecionados_para_df.loc[crimes_selecionados_para_df['vit_grau_inst'].isin(['POS-GRADUACAO/ESPECIALIZACAO','MESTRADO']), 'vit_grau_inst'] = 'Pós-graduação/Especialização'\n",
    "crimes_selecionados_para_df.loc[crimes_selecionados_para_df['vit_grau_inst'].isin(['NAO INFORMADO']), 'vit_grau_inst'] = 'Não informado'\n",
    "crimes_selecionados_para_df.loc[crimes_selecionados_para_df['vit_grau_inst'].isin(['PREJUDICADO']), 'vit_grau_inst'] = 'Prejudicado'\n",
    "\n"
   ]
  },
  {
   "cell_type": "code",
   "execution_count": 80,
   "metadata": {},
   "outputs": [],
   "source": [
    "# Ingles\n",
    "\n",
    "crimes_selecionados_para_df.loc[crimes_selecionados_para_df['vit_grau_inst'].isin(['ENSINO MEDIO COMPLETO']), 'vit_grau_inst'] = 'High school complete'\n",
    "crimes_selecionados_para_df.loc[crimes_selecionados_para_df['vit_grau_inst'].isin(['ENSINO FUNDAMENTAL INCOMPLETO']), 'vit_grau_inst'] = 'Elementary incomplete'\n",
    "crimes_selecionados_para_df.loc[crimes_selecionados_para_df['vit_grau_inst'].isin(['ENSINO SUPERIOR COMPLETO']), 'vit_grau_inst'] = 'Higher education complete'\n",
    "crimes_selecionados_para_df.loc[crimes_selecionados_para_df['vit_grau_inst'].isin(['ENSINO MEDIO INCOMPLETO']), 'vit_grau_inst'] = 'High school incomplete'\n",
    "crimes_selecionados_para_df.loc[crimes_selecionados_para_df['vit_grau_inst'].isin(['ENSINO FUNDAMENTAL COMPLETO','1º GRAU COMPLETO (ENSINO FUNDAMENTAL)','ENSINO ENSINO FUNDAMENTAL']), 'vit_grau_inst'] = 'Elementary complete'\n",
    "crimes_selecionados_para_df.loc[crimes_selecionados_para_df['vit_grau_inst'].isin(['ENSINO SUPERIOR INCOMPLETO']), 'vit_grau_inst'] = 'Higher education incomplete'\n",
    "crimes_selecionados_para_df.loc[crimes_selecionados_para_df['vit_grau_inst'].isin(['NAO ALFABETIZADO']), 'vit_grau_inst'] = 'Illiterate'\n",
    "crimes_selecionados_para_df.loc[crimes_selecionados_para_df['vit_grau_inst'].isin(['POS-GRADUACAO/ESPECIALIZACAO','MESTRADO']), 'vit_grau_inst'] = 'Postgraduate/Specialization'\n",
    "crimes_selecionados_para_df.loc[crimes_selecionados_para_df['vit_grau_inst'].isin(['NAO INFORMADO']), 'vit_grau_inst'] = 'Not informed'\n",
    "crimes_selecionados_para_df.loc[crimes_selecionados_para_df['vit_grau_inst'].isin(['PREJUDICADO']), 'vit_grau_inst'] = 'Compromised'\n"
   ]
  },
  {
   "cell_type": "code",
   "execution_count": 37,
   "metadata": {},
   "outputs": [
    {
     "data": {
      "text/plain": [
       "vit_grau_inst\n",
       "Médio completo                  56835\n",
       "Fundamental incompleto          49824\n",
       "Não informado                   30865\n",
       "Médio incompleto                19478\n",
       "Superior completo               18521\n",
       "Fundamental completo            17170\n",
       "Prejudicado                     11620\n",
       "Superior incompleto              9653\n",
       "Não alfabetizado                 3190\n",
       "Pós-graduação/Especialização       15\n",
       "PJ, EP E OUTROS                     2\n",
       "Name: count, dtype: int64"
      ]
     },
     "execution_count": 37,
     "metadata": {},
     "output_type": "execute_result"
    }
   ],
   "source": [
    "crimes_selecionados_para_df.vit_grau_inst.value_counts()"
   ]
  },
  {
   "cell_type": "markdown",
   "metadata": {},
   "source": [
    "- Grau de relacionamento"
   ]
  },
  {
   "cell_type": "code",
   "execution_count": 52,
   "metadata": {},
   "outputs": [
    {
     "data": {
      "text/plain": [
       "array(['FILHO(A)', 'NAO INFORMADO', 'EX-COMPANHEIRO(A)', 'COMPANHEIRO(A)',\n",
       "       'NAMORADO(A)', 'PAI', 'PRIMO(A)', 'PADRASTO', 'TIO(A)', 'IRMAO(A)',\n",
       "       'VIZINHO(A)', 'AMIGO(A)', 'AVO(A)', 'CONHECIDO(A)', 'NETO(A)',\n",
       "       'CUNHADO(A)', 'SOGRO(A)', 'EX-PADRASTO', 'SOBRINHO(A)', 'GENRO',\n",
       "       'MAE', 'EX-NAMORADO(A)', 'PADRINHO', 'ENTEADO(A)', 'MADRASTA',\n",
       "       'EX-NORA', 'ESPOSO(A)', 'EX-SOGRO(A)', 'NORA',\n",
       "       'PARENTESCO POR AFINIDADE', 'PREJUDICADO', 'EX-MADRASTA',\n",
       "       'EX-GENRO', 'C', 'MARIDO', 'MADRINHA', 'PAI DO PADRASTO', 'CHEFE',\n",
       "       'PROFESSOR(A)', 'CUNH0', 'EX-AMANTE', 'EX COMPANHEIRO(A)',\n",
       "       'PREJUDCIADO', 'ERICK SANTOS SOUSA', 'EX-CHEFE', 'AFILHADO(A)',\n",
       "       'EX-ENTEADO(A)', 'S', 'PERJUDICADO', 'PARDA',\n",
       "       '00531/2023.100070-6', 'PREJUDICAOD', 'DESCONHECIDO(A)', 'EX',\n",
       "       '66666', 'UNIAO ESTAVEL', '1º GRAU COMPLETO (ENSINO FUNDAMENTAL)',\n",
       "       'EX-NAMORADO', 'IRMAO(A0'], dtype=object)"
      ]
     },
     "execution_count": 52,
     "metadata": {},
     "output_type": "execute_result"
    }
   ],
   "source": [
    "crimes_selecionados_para_df.grau_de_relacionamento.unique()"
   ]
  },
  {
   "cell_type": "code",
   "execution_count": 11,
   "metadata": {},
   "outputs": [],
   "source": [
    "crimes_selecionados_para_df.loc[crimes_selecionados_para_df['grau_de_relacionamento'].isin(['COMPANHEIRO(A)']), 'grau_de_relacionamento'] = 'Companheiro(a)'\n",
    "crimes_selecionados_para_df.loc[crimes_selecionados_para_df['grau_de_relacionamento'].isin(['EX-COMPANHEIRO(A)']), 'grau_de_relacionamento'] = 'Ex-companheiro(a)'\n",
    "crimes_selecionados_para_df.loc[crimes_selecionados_para_df['grau_de_relacionamento'].isin(['IRMAO(A)','IRMAO(A0']), 'grau_de_relacionamento'] = 'Irmão(ã)'\n",
    "crimes_selecionados_para_df.loc[crimes_selecionados_para_df['grau_de_relacionamento'].isin(['VIZINHO(A)']), 'grau_de_relacionamento'] = 'Vizinho(a)'\n",
    "crimes_selecionados_para_df.loc[crimes_selecionados_para_df['grau_de_relacionamento'].isin(['PADRASTO']), 'grau_de_relacionamento'] = 'Padrasto'\n",
    "crimes_selecionados_para_df.loc[crimes_selecionados_para_df['grau_de_relacionamento'].isin(['TIO(A)']), 'grau_de_relacionamento'] = 'Tio(a)'\n",
    "crimes_selecionados_para_df.loc[crimes_selecionados_para_df['grau_de_relacionamento'].isin(['PAI']), 'grau_de_relacionamento'] = 'Pai'\n",
    "crimes_selecionados_para_df.loc[crimes_selecionados_para_df['grau_de_relacionamento'].isin(['NAMORADO(A)']), 'grau_de_relacionamento'] = 'Namorado(a)'\n",
    "crimes_selecionados_para_df.loc[crimes_selecionados_para_df['grau_de_relacionamento'].isin(['EX-NAMORADO(A)']), 'grau_de_relacionamento'] = 'Ex-namorado(a)'\n",
    "crimes_selecionados_para_df.loc[crimes_selecionados_para_df['grau_de_relacionamento'].isin(['PREJUDICADO']), 'grau_de_relacionamento'] = 'Prejudicado'"
   ]
  },
  {
   "cell_type": "code",
   "execution_count": 81,
   "metadata": {},
   "outputs": [],
   "source": [
    "# Ingles\n",
    "\n",
    "crimes_selecionados_para_df.loc[crimes_selecionados_para_df['grau_de_relacionamento'].isin(['COMPANHEIRO(A)']), 'grau_de_relacionamento'] = 'Spouse'\n",
    "crimes_selecionados_para_df.loc[crimes_selecionados_para_df['grau_de_relacionamento'].isin(['EX-COMPANHEIRO(A)']), 'grau_de_relacionamento'] = 'Ex-spouse'\n",
    "crimes_selecionados_para_df.loc[crimes_selecionados_para_df['grau_de_relacionamento'].isin(['IRMAO(A)','IRMAO(A0']), 'grau_de_relacionamento'] = 'Sibling'\n",
    "crimes_selecionados_para_df.loc[crimes_selecionados_para_df['grau_de_relacionamento'].isin(['VIZINHO(A)']), 'grau_de_relacionamento'] = 'Neighbor'\n",
    "crimes_selecionados_para_df.loc[crimes_selecionados_para_df['grau_de_relacionamento'].isin(['PADRASTO']), 'grau_de_relacionamento'] = 'Stepfather'\n",
    "crimes_selecionados_para_df.loc[crimes_selecionados_para_df['grau_de_relacionamento'].isin(['TIO(A)']), 'grau_de_relacionamento'] = 'Uncle/Aunt'\n",
    "crimes_selecionados_para_df.loc[crimes_selecionados_para_df['grau_de_relacionamento'].isin(['PAI']), 'grau_de_relacionamento'] = 'Father'\n",
    "crimes_selecionados_para_df.loc[crimes_selecionados_para_df['grau_de_relacionamento'].isin(['NAMORADO(A)']), 'grau_de_relacionamento'] = 'Partner'\n",
    "crimes_selecionados_para_df.loc[crimes_selecionados_para_df['grau_de_relacionamento'].isin(['EX-NAMORADO(A)']), 'grau_de_relacionamento'] = 'Ex-Partner'\n",
    "crimes_selecionados_para_df.loc[crimes_selecionados_para_df['grau_de_relacionamento'].isin(['PREJUDICADO']), 'grau_de_relacionamento'] = 'Compromised'\n"
   ]
  },
  {
   "cell_type": "code",
   "execution_count": 57,
   "metadata": {},
   "outputs": [
    {
     "data": {
      "text/plain": [
       "grau_de_relacionamento\n",
       "NAO INFORMADO        153320\n",
       "Companheiro(a)        21278\n",
       "Ex-companheiro(a)     17210\n",
       "Prejudicado            2952\n",
       "Padrasto               2881\n",
       "Irmão(ã)               2720\n",
       "Pai                    1937\n",
       "Tio(a)                 1844\n",
       "Vizinho(a)             1700\n",
       "Namorado(a)            1630\n",
       "Name: count, dtype: int64"
      ]
     },
     "execution_count": 57,
     "metadata": {},
     "output_type": "execute_result"
    }
   ],
   "source": [
    "crimes_selecionados_para_df.grau_de_relacionamento.value_counts().head(10)"
   ]
  },
  {
   "cell_type": "markdown",
   "metadata": {},
   "source": [
    "- Cor da pele da vitima"
   ]
  },
  {
   "cell_type": "code",
   "execution_count": 58,
   "metadata": {},
   "outputs": [
    {
     "data": {
      "text/plain": [
       "vit_cor_pele\n",
       "PREJUDICADO    208179\n",
       "PARDA            7828\n",
       "PRETA             666\n",
       "BRANCA            482\n",
       "INDIGENA           13\n",
       "AMARELA             5\n",
       "Name: count, dtype: int64"
      ]
     },
     "execution_count": 58,
     "metadata": {},
     "output_type": "execute_result"
    }
   ],
   "source": [
    "crimes_selecionados_para_df.vit_cor_pele.value_counts()"
   ]
  },
  {
   "cell_type": "code",
   "execution_count": 12,
   "metadata": {},
   "outputs": [],
   "source": [
    "crimes_selecionados_para_df.loc[crimes_selecionados_para_df['vit_cor_pele'].isin(['PARDA']), 'vit_cor_pele'] = 'Parda'\n",
    "crimes_selecionados_para_df.loc[crimes_selecionados_para_df['vit_cor_pele'].isin(['BRANCA']), 'vit_cor_pele'] = 'Branca'\n",
    "crimes_selecionados_para_df.loc[crimes_selecionados_para_df['vit_cor_pele'].isin(['PRETA']), 'vit_cor_pele'] = 'Preta'\n",
    "crimes_selecionados_para_df.loc[crimes_selecionados_para_df['vit_cor_pele'].isin(['INDIGENA']), 'vit_cor_pele'] = 'Indígena'\n",
    "crimes_selecionados_para_df.loc[crimes_selecionados_para_df['vit_cor_pele'].isin(['AMARELA']), 'vit_cor_pele'] = 'Amarela'\n"
   ]
  },
  {
   "cell_type": "code",
   "execution_count": 82,
   "metadata": {},
   "outputs": [],
   "source": [
    "# Ingles\n",
    "crimes_selecionados_para_df.loc[crimes_selecionados_para_df['vit_cor_pele'].isin(['PARDA']), 'vit_cor_pele'] = 'Brown'\n",
    "crimes_selecionados_para_df.loc[crimes_selecionados_para_df['vit_cor_pele'].isin(['BRANCA']), 'vit_cor_pele'] = 'White'\n",
    "crimes_selecionados_para_df.loc[crimes_selecionados_para_df['vit_cor_pele'].isin(['PRETA']), 'vit_cor_pele'] = 'Black'\n",
    "crimes_selecionados_para_df.loc[crimes_selecionados_para_df['vit_cor_pele'].isin(['INDIGENA']), 'vit_cor_pele'] = 'Indigenous'\n",
    "crimes_selecionados_para_df.loc[crimes_selecionados_para_df['vit_cor_pele'].isin(['AMARELA']), 'vit_cor_pele'] = 'Yellow'\n"
   ]
  },
  {
   "cell_type": "markdown",
   "metadata": {},
   "source": [
    "- Causas"
   ]
  },
  {
   "cell_type": "code",
   "execution_count": 61,
   "metadata": {},
   "outputs": [
    {
     "data": {
      "text/plain": [
       "causa_presumivel\n",
       "OUTRAS                                   106239\n",
       "ÓDIO OU VINGANÇA                          59672\n",
       "CIÚME                                     16366\n",
       "ALCOOLISMO / EMBRIAGUEZ                   10866\n",
       "DEVASSIDÃO                                 9444\n",
       "IMPERÍCIA / IMPRUDÊNCIA / NEGLIGÊNCIA      7033\n",
       "AMBIÇÃO                                    5073\n",
       "ENTORPECENTES                              1188\n",
       "ALIENACAO                                   771\n",
       "ACIDENTAL                                   473\n",
       "Name: count, dtype: int64"
      ]
     },
     "execution_count": 61,
     "metadata": {},
     "output_type": "execute_result"
    }
   ],
   "source": [
    "crimes_selecionados_para_df.causa_presumivel.value_counts().head(10)"
   ]
  },
  {
   "cell_type": "code",
   "execution_count": 13,
   "metadata": {},
   "outputs": [],
   "source": [
    "crimes_selecionados_para_df.loc[crimes_selecionados_para_df['causa_presumivel'].isin(['OUTRAS']), 'causa_presumivel'] = 'Outras causas'\n",
    "crimes_selecionados_para_df.loc[crimes_selecionados_para_df['causa_presumivel'].isin(['ÓDIO OU VINGANÇA']), 'causa_presumivel'] = 'Ódio/Vingança'\n",
    "crimes_selecionados_para_df.loc[crimes_selecionados_para_df['causa_presumivel'].isin(['IMPERÍCIA / IMPRUDÊNCIA / NEGLIGÊNCIA']), 'causa_presumivel'] = 'Crime culposo'\n",
    "crimes_selecionados_para_df.loc[crimes_selecionados_para_df['causa_presumivel'].isin(['CIÚME']), 'causa_presumivel'] = 'Ciúme'\n",
    "crimes_selecionados_para_df.loc[crimes_selecionados_para_df['causa_presumivel'].isin(['DEVASSIDÃO']), 'causa_presumivel'] = 'Devassidão'\n",
    "crimes_selecionados_para_df.loc[crimes_selecionados_para_df['causa_presumivel'].isin(['ALCOOLISMO / EMBRIAGUEZ']), 'causa_presumivel'] = 'Alcoolismo/Embriaguez'\n",
    "crimes_selecionados_para_df.loc[crimes_selecionados_para_df['causa_presumivel'].isin(['AMBIÇÃO']), 'causa_presumivel'] = 'Ambição'\n",
    "crimes_selecionados_para_df.loc[crimes_selecionados_para_df['causa_presumivel'].isin(['ENTORPECENTES']), 'causa_presumivel'] = 'Entorpecentes'\n",
    "crimes_selecionados_para_df.loc[crimes_selecionados_para_df['causa_presumivel'].isin(['ALIENACAO']), 'causa_presumivel'] = 'Alienação'\n",
    "crimes_selecionados_para_df.loc[crimes_selecionados_para_df['causa_presumivel'].isin(['ACIDENTAL']), 'causa_presumivel'] = 'Acidental'\n"
   ]
  },
  {
   "cell_type": "code",
   "execution_count": 83,
   "metadata": {},
   "outputs": [],
   "source": [
    "# Ingles\n",
    "crimes_selecionados_para_df.loc[crimes_selecionados_para_df['causa_presumivel'].isin(['OUTRAS']), 'causa_presumivel'] = 'Other causes'\n",
    "crimes_selecionados_para_df.loc[crimes_selecionados_para_df['causa_presumivel'].isin(['ÓDIO OU VINGANÇA']), 'causa_presumivel'] = 'Hatred/Revenge'\n",
    "crimes_selecionados_para_df.loc[crimes_selecionados_para_df['causa_presumivel'].isin(['IMPERÍCIA / IMPRUDÊNCIA / NEGLIGÊNCIA']), 'causa_presumivel'] = 'Unintentional crime'\n",
    "crimes_selecionados_para_df.loc[crimes_selecionados_para_df['causa_presumivel'].isin(['DEVASSIDÃO']), 'causa_presumivel'] = 'Debauchery'\n",
    "crimes_selecionados_para_df.loc[crimes_selecionados_para_df['causa_presumivel'].isin(['ALCOOLISMO / EMBRIAGUEZ']), 'causa_presumivel'] = 'Alcoholism/Drunkenness'\n",
    "crimes_selecionados_para_df.loc[crimes_selecionados_para_df['causa_presumivel'].isin(['AMBIÇÃO']), 'causa_presumivel'] = 'Ambition'\n",
    "crimes_selecionados_para_df.loc[crimes_selecionados_para_df['causa_presumivel'].isin(['ENTORPECENTES']), 'causa_presumivel'] = 'Narcotics'\n",
    "crimes_selecionados_para_df.loc[crimes_selecionados_para_df['causa_presumivel'].isin(['ALIENACAO']), 'causa_presumivel'] = 'Alienation'\n",
    "crimes_selecionados_para_df.loc[crimes_selecionados_para_df['causa_presumivel'].isin(['ACIDENTAL']), 'causa_presumivel'] = 'Accidental'\n"
   ]
  },
  {
   "cell_type": "markdown",
   "metadata": {},
   "source": [
    "- Meio emppregado"
   ]
  },
  {
   "cell_type": "code",
   "execution_count": 66,
   "metadata": {},
   "outputs": [
    {
     "data": {
      "text/plain": [
       "meio_empregado_sisp\n",
       "OUTROS MEIOS                   115913\n",
       "SEM INSTRUMENTO                 82390\n",
       "ARMA CORTANTE OU PERFURANTE      7767\n",
       "ARMA CONTUNDENTE                 4959\n",
       "ARMA DE FOGO                     2646\n",
       "ARMA PERFURO CORTANTE            2240\n",
       "AUTOMOVEL DE PASSEIO              296\n",
       "MOTOCICLETA                       273\n",
       "ONIBUS                            260\n",
       "FOGO                              190\n",
       "Name: count, dtype: int64"
      ]
     },
     "execution_count": 66,
     "metadata": {},
     "output_type": "execute_result"
    }
   ],
   "source": [
    "crimes_selecionados_para_df.meio_empregado_sisp.value_counts().head(10)"
   ]
  },
  {
   "cell_type": "code",
   "execution_count": null,
   "metadata": {},
   "outputs": [],
   "source": [
    "crimes_selecionados_para_df.loc[crimes_selecionados_para_df['meio_empregado_sisp'].isin(['OUTROS MEIOS']), 'meio_empregado_sisp'] = 'Outros meios'\n",
    "crimes_selecionados_para_df.loc[crimes_selecionados_para_df['meio_empregado_sisp'].isin(['SEM INSTRUMENTO']), 'meio_empregado_sisp'] = 'Sem instrumento'\n",
    "crimes_selecionados_para_df.loc[crimes_selecionados_para_df['meio_empregado_sisp'].isin(['ARMA CORTANTE OU PERFURANTE']), 'meio_empregado_sisp'] = 'Arma cortante/perfurante'\n",
    "crimes_selecionados_para_df.loc[crimes_selecionados_para_df['meio_empregado_sisp'].isin(['ARMA CONTUNDENTE']), 'meio_empregado_sisp'] = 'Arma contundente'\n",
    "crimes_selecionados_para_df.loc[crimes_selecionados_para_df['meio_empregado_sisp'].isin(['ARMA PERFURO CORTANTE']), 'meio_empregado_sisp'] = 'Arma perfuro cortante'\n",
    "crimes_selecionados_para_df.loc[crimes_selecionados_para_df['meio_empregado_sisp'].isin(['ARMA DE FOGO']), 'meio_empregado_sisp'] = 'Arma de fogo'\n",
    "crimes_selecionados_para_df.loc[crimes_selecionados_para_df['meio_empregado_sisp'].isin(['AUTOMOVEL DE PASSEIO']), 'meio_empregado_sisp'] = 'Automóvel de passeio'\n",
    "crimes_selecionados_para_df.loc[crimes_selecionados_para_df['meio_empregado_sisp'].isin(['ONIBUS']), 'meio_empregado_sisp'] = 'Ônibus'\n",
    "crimes_selecionados_para_df.loc[crimes_selecionados_para_df['meio_empregado_sisp'].isin(['MOTOCICLETA']), 'meio_empregado_sisp'] = 'Motocicleta'\n",
    "crimes_selecionados_para_df.loc[crimes_selecionados_para_df['meio_empregado_sisp'].isin(['AUTOMOVEL COMERCIAL']), 'meio_empregado_sisp'] = 'Automóvel comercial'\n",
    "crimes_selecionados_para_df.loc[crimes_selecionados_para_df['meio_empregado_sisp'].isin(['FOGO']), 'meio_empregado_sisp'] = 'Fogo'\n"
   ]
  },
  {
   "cell_type": "code",
   "execution_count": 84,
   "metadata": {},
   "outputs": [],
   "source": [
    "# Ingles:\n",
    "\n",
    "crimes_selecionados_para_df.loc[crimes_selecionados_para_df['meio_empregado_sisp'].isin(['OUTROS MEIOS']), 'meio_empregado_sisp'] = 'Other means'\n",
    "crimes_selecionados_para_df.loc[crimes_selecionados_para_df['meio_empregado_sisp'].isin(['SEM INSTRUMENTO']), 'meio_empregado_sisp'] = 'No instrument'\n",
    "crimes_selecionados_para_df.loc[crimes_selecionados_para_df['meio_empregado_sisp'].isin(['ARMA CORTANTE OU PERFURANTE']), 'meio_empregado_sisp'] = 'Cutting/Piercing weapon'\n",
    "crimes_selecionados_para_df.loc[crimes_selecionados_para_df['meio_empregado_sisp'].isin(['ARMA CONTUNDENTE']), 'meio_empregado_sisp'] = 'Blunt weapon'\n",
    "crimes_selecionados_para_df.loc[crimes_selecionados_para_df['meio_empregado_sisp'].isin(['ARMA PERFURO CORTANTE']), 'meio_empregado_sisp'] = 'Perforating-cutting weapon'\n",
    "crimes_selecionados_para_df.loc[crimes_selecionados_para_df['meio_empregado_sisp'].isin(['ARMA DE FOGO']), 'meio_empregado_sisp'] = 'Firearm'\n",
    "crimes_selecionados_para_df.loc[crimes_selecionados_para_df['meio_empregado_sisp'].isin(['AUTOMOVEL DE PASSEIO']), 'meio_empregado_sisp'] = 'Passenger car'\n",
    "crimes_selecionados_para_df.loc[crimes_selecionados_para_df['meio_empregado_sisp'].isin(['ONIBUS']), 'meio_empregado_sisp'] = 'Bus'\n",
    "crimes_selecionados_para_df.loc[crimes_selecionados_para_df['meio_empregado_sisp'].isin(['MOTOCICLETA']), 'meio_empregado_sisp'] = 'Motorcycle'\n",
    "crimes_selecionados_para_df.loc[crimes_selecionados_para_df['meio_empregado_sisp'].isin(['AUTOMOVEL COMERCIAL']), 'meio_empregado_sisp'] = 'Commercial vehicle'\n",
    "crimes_selecionados_para_df.loc[crimes_selecionados_para_df['meio_empregado_sisp'].isin(['FOGO']), 'meio_empregado_sisp'] = 'Fire'\n"
   ]
  },
  {
   "cell_type": "markdown",
   "metadata": {},
   "source": [
    "- Bairros, municipios, distritos e regiões"
   ]
  },
  {
   "cell_type": "code",
   "execution_count": 72,
   "metadata": {},
   "outputs": [
    {
     "data": {
      "text/plain": [
       "bairros\n",
       "BAIRRO CENTRAL           19052\n",
       "CENTRO                   18278\n",
       "CIDADE NOVA               4038\n",
       "GUAMA                     3320\n",
       "PEDREIRA                  3051\n",
       "CENTRO DE PARAUAPEBAS     2798\n",
       "JURUNAS                   2528\n",
       "MARAMBAIA                 2521\n",
       "TAPANA                    2469\n",
       "MARCO                     2366\n",
       "ZONA RURAL                2274\n",
       "NOVA MARABA               2017\n",
       "ABAETETUBA                1993\n",
       "ICUI-GUAJARA              1799\n",
       "SACRAMENTA                1708\n",
       "Name: count, dtype: int64"
      ]
     },
     "execution_count": 72,
     "metadata": {},
     "output_type": "execute_result"
    }
   ],
   "source": [
    "crimes_selecionados_para_df.bairros.value_counts().head(15)"
   ]
  },
  {
   "cell_type": "code",
   "execution_count": 85,
   "metadata": {},
   "outputs": [],
   "source": [
    "crimes_selecionados_para_df.loc[crimes_selecionados_para_df['bairros'].isin(['GUAMA']), 'bairros'] = 'Guamá'\n",
    "crimes_selecionados_para_df.loc[crimes_selecionados_para_df['bairros'].isin(['PEDREIRA']), 'bairros'] = 'Pedreira'\n",
    "crimes_selecionados_para_df.loc[crimes_selecionados_para_df['bairros'].isin(['JURUNAS']), 'bairros'] = 'Jurunas'\n",
    "crimes_selecionados_para_df.loc[crimes_selecionados_para_df['bairros'].isin(['TAPANA']), 'bairros'] = 'Tapanã'\n",
    "crimes_selecionados_para_df.loc[crimes_selecionados_para_df['bairros'].isin(['MARAMBAIA']), 'bairros'] = 'Marambaia'\n",
    "crimes_selecionados_para_df.loc[crimes_selecionados_para_df['bairros'].isin(['MARCO']), 'bairros'] = 'Marco'\n",
    "crimes_selecionados_para_df.loc[crimes_selecionados_para_df['bairros'].isin(['SACRAMENTA']), 'bairros'] = 'Sacramenta'\n",
    "crimes_selecionados_para_df.loc[crimes_selecionados_para_df['bairros'].isin(['CONDOR']), 'bairros'] = 'Condor'\n",
    "crimes_selecionados_para_df.loc[crimes_selecionados_para_df['bairros'].isin(['TERRA FIRME']), 'bairros'] = 'Terra firme'\n",
    "crimes_selecionados_para_df.loc[crimes_selecionados_para_df['bairros'].isin(['PARQUE VERDE']), 'bairros'] = 'Parque Verde'\n",
    "crimes_selecionados_para_df.loc[crimes_selecionados_para_df['bairros'].isin(['TELEGRAFO']), 'bairros'] = 'Telégrafo'\n",
    "crimes_selecionados_para_df.loc[crimes_selecionados_para_df['bairros'].isin(['COQUEIRO']), 'bairros'] = 'Coqueiro'\n",
    "crimes_selecionados_para_df.loc[crimes_selecionados_para_df['bairros'].isin(['UMARIZAL']), 'bairros'] = 'Umarizal'\n",
    "crimes_selecionados_para_df.loc[crimes_selecionados_para_df['bairros'].isin(['TENONE']), 'bairros'] = 'Tenoné'\n",
    "crimes_selecionados_para_df.loc[crimes_selecionados_para_df['bairros'].isin(['MANGUEIRAO']), 'bairros'] = 'Mangueirão'\n",
    "crimes_selecionados_para_df.loc[crimes_selecionados_para_df['bairros'].isin(['BAIRRO CENTRAL']), 'bairros'] = 'Bairro central'\n",
    "crimes_selecionados_para_df.loc[crimes_selecionados_para_df['bairros'].isin(['CENTRO','CENTRO DE PARAUAPEBAS']), 'bairros'] = 'Bairro central'\n",
    "crimes_selecionados_para_df.loc[crimes_selecionados_para_df['bairros'].isin(['CIDADE NOVA']), 'bairros'] = 'Cidade Nova'\n",
    "crimes_selecionados_para_df.loc[crimes_selecionados_para_df['bairros'].isin(['ABAETETUBA']), 'bairros'] = 'Abaetetuba'\n",
    "crimes_selecionados_para_df.loc[crimes_selecionados_para_df['bairros'].isin(['ICUI-GUAJARA','Icui_Guajara']), 'bairros'] = 'Icui Guajara'\n",
    "crimes_selecionados_para_df.loc[crimes_selecionados_para_df['bairros'].isin(['ZONA RURAL']), 'bairros'] = 'Zona rural'\n",
    "crimes_selecionados_para_df.loc[crimes_selecionados_para_df['bairros'].isin(['NOVA MARABA']), 'bairros'] = 'Nova maraba'\n",
    "crimes_selecionados_para_df.loc[crimes_selecionados_para_df['bairros'].isin(['COQUEIRO ANANINDEUA']), 'bairros'] = 'Coqueiro'\n",
    "crimes_selecionados_para_df.loc[crimes_selecionados_para_df['bairros'].isin(['CENTRO DE ANANINDEUA']), 'bairros'] = 'Centro de Ananindeua'"
   ]
  },
  {
   "cell_type": "code",
   "execution_count": 102,
   "metadata": {},
   "outputs": [
    {
     "data": {
      "text/plain": [
       "bairros\n",
       "Bairro central          40128\n",
       "Cidade Nova              4038\n",
       "Guamá                    3320\n",
       "Coqueiro                 3162\n",
       "Pedreira                 3051\n",
       "Jurunas                  2528\n",
       "Marambaia                2521\n",
       "Tapanã                   2469\n",
       "Marco                    2366\n",
       "Zona rural               2274\n",
       "Nova maraba              2017\n",
       "Abaetetuba               1993\n",
       "Icui Guajara             1799\n",
       "Sacramenta               1708\n",
       "Centro de Ananindeua     1627\n",
       "Name: count, dtype: int64"
      ]
     },
     "execution_count": 102,
     "metadata": {},
     "output_type": "execute_result"
    }
   ],
   "source": [
    "crimes_selecionados_para_df.bairros.value_counts().head(15)"
   ]
  },
  {
   "cell_type": "code",
   "execution_count": 103,
   "metadata": {},
   "outputs": [
    {
     "data": {
      "text/plain": [
       "distrito\n",
       "BELEM          38258\n",
       "ANANINDEUA     16801\n",
       "SANTAREM       10095\n",
       "ICOARACI        8556\n",
       "MARABA          6790\n",
       "PARAUAPEBAS     5997\n",
       "CASTANHAL       4956\n",
       "ABAETETUBA      4153\n",
       "ALTAMIRA        3822\n",
       "BARCARENA       3626\n",
       "ITAITUBA        3538\n",
       "MARITUBA        3150\n",
       "TUCURUI         2918\n",
       "ORIXIMINA       2850\n",
       "CAMETA          2772\n",
       "Name: count, dtype: int64"
      ]
     },
     "execution_count": 103,
     "metadata": {},
     "output_type": "execute_result"
    }
   ],
   "source": [
    "crimes_selecionados_para_df.distrito.value_counts().head(15)"
   ]
  },
  {
   "cell_type": "code",
   "execution_count": 86,
   "metadata": {},
   "outputs": [],
   "source": [
    "crimes_selecionados_para_df.loc[crimes_selecionados_para_df['distrito'].isin(['BELEM']), 'distrito'] = 'Belém'\n",
    "crimes_selecionados_para_df.loc[crimes_selecionados_para_df['distrito'].isin(['ANANINDEUA']), 'distrito'] = 'Ananindeua'\n",
    "crimes_selecionados_para_df.loc[crimes_selecionados_para_df['distrito'].isin(['SANTAREM']), 'distrito'] = 'Santarém'\n",
    "crimes_selecionados_para_df.loc[crimes_selecionados_para_df['distrito'].isin(['ICOARACI']), 'distrito'] = 'Icoaraci'\n",
    "crimes_selecionados_para_df.loc[crimes_selecionados_para_df['distrito'].isin(['MARABA']), 'distrito'] = 'Marabá'\n",
    "crimes_selecionados_para_df.loc[crimes_selecionados_para_df['distrito'].isin(['PARAUAPEBAS']), 'distrito'] = 'Parauapebas'\n",
    "crimes_selecionados_para_df.loc[crimes_selecionados_para_df['distrito'].isin(['CASTANHAL']), 'distrito'] = 'Castanhal'\n",
    "crimes_selecionados_para_df.loc[crimes_selecionados_para_df['distrito'].isin(['ABAETETUBA']), 'distrito'] = 'Abaetetuba'\n",
    "crimes_selecionados_para_df.loc[crimes_selecionados_para_df['distrito'].isin(['ALTAMIRA']), 'distrito'] = 'Altamira'\n",
    "crimes_selecionados_para_df.loc[crimes_selecionados_para_df['distrito'].isin(['BARCARENA']), 'distrito'] = 'Barcarena'\n",
    "crimes_selecionados_para_df.loc[crimes_selecionados_para_df['distrito'].isin(['ITAITUBA']), 'distrito'] = 'Itaituba'\n",
    "crimes_selecionados_para_df.loc[crimes_selecionados_para_df['distrito'].isin(['MARITUBA']), 'distrito'] = 'Marituba'\n",
    "crimes_selecionados_para_df.loc[crimes_selecionados_para_df['distrito'].isin(['TUCURUI']), 'distrito'] = 'Tucuruí'\n",
    "crimes_selecionados_para_df.loc[crimes_selecionados_para_df['distrito'].isin(['ORIXIMINA']), 'distrito'] = 'Oriximiná'\n",
    "crimes_selecionados_para_df.loc[crimes_selecionados_para_df['distrito'].isin(['CAMETA']), 'distrito'] = 'Cametá'"
   ]
  },
  {
   "cell_type": "code",
   "execution_count": 106,
   "metadata": {},
   "outputs": [
    {
     "data": {
      "text/plain": [
       "municipios\n",
       "BELEM          49978\n",
       "ANANINDEUA     16802\n",
       "SANTAREM       10251\n",
       "MARABA          6806\n",
       "PARAUAPEBAS     5999\n",
       "CASTANHAL       4966\n",
       "ABAETETUBA      4166\n",
       "ALTAMIRA        3829\n",
       "BARCARENA       3792\n",
       "ITAITUBA        3583\n",
       "MARITUBA        3249\n",
       "TUCURUI         2926\n",
       "ORIXIMINA       2889\n",
       "CAMETA          2831\n",
       "REDENCAO        2760\n",
       "Name: count, dtype: int64"
      ]
     },
     "execution_count": 106,
     "metadata": {},
     "output_type": "execute_result"
    }
   ],
   "source": [
    "crimes_selecionados_para_df.municipios.value_counts().head(15)"
   ]
  },
  {
   "cell_type": "code",
   "execution_count": 87,
   "metadata": {},
   "outputs": [],
   "source": [
    "crimes_selecionados_para_df.loc[crimes_selecionados_para_df['municipios'].isin(['BELEM']), 'municipios'] = 'Belém'\n",
    "crimes_selecionados_para_df.loc[crimes_selecionados_para_df['municipios'].isin(['ANANINDEUA']), 'municipios'] = 'Ananindeua'\n",
    "crimes_selecionados_para_df.loc[crimes_selecionados_para_df['municipios'].isin(['SANTAREM']), 'municipios'] = 'Santarém'\n",
    "crimes_selecionados_para_df.loc[crimes_selecionados_para_df['municipios'].isin(['ICOARACI']), 'municipios'] = 'Icoaraci'\n",
    "crimes_selecionados_para_df.loc[crimes_selecionados_para_df['municipios'].isin(['MARABA']), 'municipios'] = 'Marabá'\n",
    "crimes_selecionados_para_df.loc[crimes_selecionados_para_df['municipios'].isin(['PARAUAPEBAS']), 'municipios'] = 'Parauapebas'\n",
    "crimes_selecionados_para_df.loc[crimes_selecionados_para_df['municipios'].isin(['CASTANHAL']), 'municipios'] = 'Castanhal'\n",
    "crimes_selecionados_para_df.loc[crimes_selecionados_para_df['municipios'].isin(['ABAETETUBA']), 'municipios'] = 'Abaetetuba'\n",
    "crimes_selecionados_para_df.loc[crimes_selecionados_para_df['municipios'].isin(['ALTAMIRA']), 'municipios'] = 'Altamira'\n",
    "crimes_selecionados_para_df.loc[crimes_selecionados_para_df['municipios'].isin(['BARCARENA']), 'municipios'] = 'Barcarena'\n",
    "crimes_selecionados_para_df.loc[crimes_selecionados_para_df['municipios'].isin(['ITAITUBA']), 'municipios'] = 'Itaituba'\n",
    "crimes_selecionados_para_df.loc[crimes_selecionados_para_df['municipios'].isin(['MARITUBA']), 'municipios'] = 'Marituba'\n",
    "crimes_selecionados_para_df.loc[crimes_selecionados_para_df['municipios'].isin(['TUCURUI']), 'municipios'] = 'Tucuruí'\n",
    "crimes_selecionados_para_df.loc[crimes_selecionados_para_df['municipios'].isin(['ORIXIMINA']), 'municipios'] = 'Oriximiná'\n",
    "crimes_selecionados_para_df.loc[crimes_selecionados_para_df['municipios'].isin(['CAMETA']), 'municipios'] = 'Cametá'\n",
    "crimes_selecionados_para_df.loc[crimes_selecionados_para_df['municipios'].isin(['REDENCAO']), 'municipios'] = 'Redenção'\n"
   ]
  },
  {
   "cell_type": "code",
   "execution_count": 111,
   "metadata": {},
   "outputs": [
    {
     "data": {
      "text/plain": [
       "regionais\n",
       "CAPITAL             49978\n",
       "BAIXO AMAZONAS      23063\n",
       "METROPOLITANA       22832\n",
       "CARAJAS             20088\n",
       "GUAMA               18687\n",
       "TOCANTINS           17342\n",
       "CAETE               12400\n",
       "XINGU                8764\n",
       "LAGO DE TUCURUI      8409\n",
       "MARAJO OCIDENTAL     7361\n",
       "TAPAJOS              6756\n",
       "ARAGUAIA             6508\n",
       "MARAJO ORIENTAL      6070\n",
       "CAPIM                4700\n",
       "ALTO XINGU           4202\n",
       "Name: count, dtype: int64"
      ]
     },
     "execution_count": 111,
     "metadata": {},
     "output_type": "execute_result"
    }
   ],
   "source": [
    "crimes_selecionados_para_df.regionais.value_counts().head(15)"
   ]
  },
  {
   "cell_type": "code",
   "execution_count": 88,
   "metadata": {},
   "outputs": [],
   "source": [
    "crimes_selecionados_para_df.loc[crimes_selecionados_para_df['regionais'].isin(['CAPITAL']), 'regionais'] = 'Capital'\n",
    "crimes_selecionados_para_df.loc[crimes_selecionados_para_df['regionais'].isin(['BAIXO AMAZONAS']), 'regionais'] = 'Baixo Amazonas'\n",
    "crimes_selecionados_para_df.loc[crimes_selecionados_para_df['regionais'].isin(['METROPOLITANA']), 'regionais'] = 'Região Metropolitana'\n",
    "crimes_selecionados_para_df.loc[crimes_selecionados_para_df['regionais'].isin(['CARAJAS']), 'regionais'] = 'Carajás'\n",
    "crimes_selecionados_para_df.loc[crimes_selecionados_para_df['regionais'].isin(['GUAMA']), 'regionais'] = 'Guamá'\n",
    "crimes_selecionados_para_df.loc[crimes_selecionados_para_df['regionais'].isin(['TOCANTINS']), 'regionais'] = 'Tocantins'\n",
    "crimes_selecionados_para_df.loc[crimes_selecionados_para_df['regionais'].isin(['CAETE']), 'regionais'] = 'Caeté'\n",
    "crimes_selecionados_para_df.loc[crimes_selecionados_para_df['regionais'].isin(['XINGU']), 'regionais'] = 'Xingu'\n",
    "crimes_selecionados_para_df.loc[crimes_selecionados_para_df['regionais'].isin(['LAGO DE TUCURUI']), 'regionais'] = 'Lago de Tucuruí'\n",
    "crimes_selecionados_para_df.loc[crimes_selecionados_para_df['regionais'].isin(['MARAJO OCIDENTAL']), 'regionais'] = 'Marajó Ocidental'\n",
    "crimes_selecionados_para_df.loc[crimes_selecionados_para_df['regionais'].isin(['TAPAJOS']), 'regionais'] = 'Tapajós'\n",
    "crimes_selecionados_para_df.loc[crimes_selecionados_para_df['regionais'].isin(['ARAGUAIA']), 'regionais'] = 'Araguaia'\n",
    "crimes_selecionados_para_df.loc[crimes_selecionados_para_df['regionais'].isin(['MARAJO ORIENTAL']), 'regionais'] = 'Marajó Oriental'\n",
    "crimes_selecionados_para_df.loc[crimes_selecionados_para_df['regionais'].isin(['CAPIM']), 'regionais'] = 'Capim'\n",
    "crimes_selecionados_para_df.loc[crimes_selecionados_para_df['regionais'].isin(['ALTO XINGU']), 'regionais'] = 'Alto Xingu'"
   ]
  },
  {
   "cell_type": "code",
   "execution_count": 129,
   "metadata": {},
   "outputs": [
    {
     "data": {
      "text/plain": [
       "regionais\n",
       "Capital                 49978\n",
       "Baixo Amazonas          23063\n",
       "Região Metropolitana    22832\n",
       "Carajás                 20088\n",
       "Guamá                   18687\n",
       "Tocantins               17342\n",
       "Caeté                   12400\n",
       "Xingu                    8764\n",
       "Lago de Tucuruí          8409\n",
       "Marajó Ocidental         7361\n",
       "Tapajós                  6756\n",
       "Araguaia                 6508\n",
       "Marajó Oriental          6070\n",
       "Capim                    4700\n",
       "Alto Xingu               4202\n",
       "Name: count, dtype: int64"
      ]
     },
     "execution_count": 129,
     "metadata": {},
     "output_type": "execute_result"
    }
   ],
   "source": [
    "crimes_selecionados_para_df.regionais.value_counts().head(15)"
   ]
  },
  {
   "cell_type": "markdown",
   "metadata": {},
   "source": [
    "### 3. Visualizções"
   ]
  },
  {
   "cell_type": "markdown",
   "metadata": {},
   "source": [
    "* **Tipos de violência mais frequentes**\n",
    "\n",
    "Para uma melhor visualização, alguns crimes da coluna \"consolidado\" serão agrupados de acordo com  tipo de violência contra a mulher"
   ]
  },
  {
   "cell_type": "markdown",
   "metadata": {},
   "source": [
    "A Lei Maria da Penha (Lei nº 11.340/2006) classifica e especifica os tipos de violência domestica contra a mulher, e o Art. 7º enumera algumas das formas de violências que as mulheres podem sofrer. São elas, dentre outras, as violências física, psicológica, sexual, patrimonial ou sexual."
   ]
  },
  {
   "cell_type": "markdown",
   "metadata": {},
   "source": [
    "Portanto os crimes serão agrupados da seguinte forma:\n",
    "1. **Violência Física:**\n",
    "    - Lesão corporal\n",
    "    - Homicídio\n",
    "    - Tentativa de homicídio\n",
    "    - Tentativa de feminicídio\n",
    "    - Violência física\n",
    "    - Feminicídio\n",
    "2. **Violência Sexual:**\n",
    "    - Estupro de vulnerável\n",
    "    - Importunação sexual\n",
    "    - Assédio sexual\n",
    "    - Violência sexual\n",
    "    - Estupro\n",
    "    - Violação sexual\n",
    "3. **Violência Psicológica/Emocional:**\n",
    "    - Violência psicológica\n",
    "    - Assédio\n",
    "    - Ameaça\n",
    "4. **Violência patrimonial:**\n",
    "    - Violência patrimonial\n",
    "5. Violência moral:\n",
    "    - Violência moral\n",
    "6. **Outros:**\n",
    "    - Descumprimento de medidas protetivas\n",
    "    - Descumprimento de medidas protetivas de urgência\n",
    "    - Violência doméstica"
   ]
  },
  {
   "cell_type": "code",
   "execution_count": 43,
   "metadata": {},
   "outputs": [],
   "source": [
    "if not os.path.exists(\"imagens_svg_estado\"):\n",
    "    os.mkdir(\"imagens_svg_estado\")"
   ]
  },
  {
   "cell_type": "code",
   "execution_count": 44,
   "metadata": {},
   "outputs": [],
   "source": [
    "custom_palette= ['#BA1F4C','#9373AE','#41A7C4','#D68E4A','#889684',\n",
    "                 '#96C84E','#352DA7','#691D73', '#D4BE8E','#386E0D', \n",
    "                 '#BF4F7F', '#AC3516','#3A6CC6','#295A96','#DBB1C3']"
   ]
  },
  {
   "cell_type": "code",
   "execution_count": 27,
   "metadata": {},
   "outputs": [],
   "source": [
    "tipos_crimes = crimes_selecionados_para_df.copy()\n",
    "\n",
    "mapeamento_crimes = {\n",
    "    'Lesão corporal': 'Violência física',\n",
    "    'Homicídio': 'Violência física',\n",
    "    'Feminicídio': 'Violência física',\n",
    "    'Tentativa de homicídio': 'Violência física',\n",
    "    'Tentativa de feminicídio': 'Violência física',\n",
    "    'Violência física': 'Violência física',\n",
    "\n",
    "    'Estupro': 'Violência sexual',\n",
    "    'Estupro de vulnerável': 'Violência sexual',\n",
    "    'Importunação sexual': 'Violência sexual',\n",
    "    'Assédio sexual': 'Violência sexual',\n",
    "    'Violação sexual': 'Violência sexual',\n",
    "    'Violência sexual': 'Violência sexual',\n",
    "    'Exploração sexual infantil': 'Violência sexual',\n",
    "    'Divulgação de cena de estupro': 'Violência sexual',\n",
    "\n",
    "\n",
    "    'Ameaça': 'Violência psicológica',\n",
    "    'Violência psicológica': 'Violência psicológica',\n",
    "    'Assédio': 'Violência psicológica',\n",
    "\n",
    "    'Violência patrimonial': 'Violência patrimonial',\n",
    "\n",
    "    'Violência moral': 'Violência moral',\n",
    "\n",
    "    'Descumprimento de medidas protetivas': 'Outros',\n",
    "    'Descumprimento de medidas protetivas de urgência': 'Outros',\n",
    "    'Violência doméstica': 'Outros'\n",
    "}\n",
    "\n",
    "tipos_crimes['Tipos'] = tipos_crimes['consolidado'].map(mapeamento_crimes)\n",
    "renomeacao = {\n",
    "    'Violência psicológica': 'Violência psicológica (52,9%)',\n",
    "    'Violência física': 'Violência física (32,1%)',\n",
    "    'Violência sexual': 'Violência sexual (11,5%)',\n",
    "    'Outros': 'Outros (2,9%)',\n",
    "    'Violência moral': 'Violência moral (0,3%)',\n",
    "    'Violência patrimonial': 'Violência patrimonial (0,1%)'\n",
    "}\n",
    "\n",
    "tipos_crimes['Tipos'] = tipos_crimes['Tipos'].replace(renomeacao)\n",
    "frequencia_crimes = tipos_crimes['Tipos'].value_counts()"
   ]
  },
  {
   "cell_type": "code",
   "execution_count": 50,
   "metadata": {},
   "outputs": [],
   "source": [
    "# ingles: \n",
    "tipos_crimes = crimes_selecionados_para_df.copy()\n",
    "\n",
    "mapeamento_crimes = {\n",
    "'Bod. inj.': 'Physical violence',\n",
    "'Murder': 'Physical violence',\n",
    "'Femicide': 'Physical violence',\n",
    "'Attempted Murder': 'Physical violence',\n",
    "'Attempted femicide': 'Physical violence',\n",
    "'Physical violence': 'Physical violence',\n",
    "\n",
    "'Rape': 'Sexual violence',\n",
    "'Rape of vuln.': 'Sexual violence',\n",
    "'Sex. har.': 'Sexual violence',\n",
    "'Sexual assault': 'Sexual violence',\n",
    "'Sexual violation': 'Sexual violence',\n",
    "'Sexual violence': 'Sexual violence',\n",
    "'Sexual coercion': 'Sexual violence',\n",
    "'Child sexual exploitation': 'Sexual violence',\n",
    "'Distribution of rape footage': 'Sexual violence',\n",
    "\n",
    "\n",
    "'Threat': 'Psychological violence',\n",
    "'Psy. viol.': 'Psychological violence',\n",
    "'Harassment': 'Psychological violence',\n",
    "\n",
    "'Property violence': 'Property violence',\n",
    "\n",
    "'Moral violence': 'Moral violence',\n",
    "\n",
    "'Violation of protective measures': 'Others',\n",
    "'Violation of urgent protective measures': 'Others',\n",
    "'Domestic violence': 'Others',\n",
    "'Abortion': 'Others'\n",
    "}\n",
    "\n",
    "tipos_crimes['Tipos'] = tipos_crimes['consolidado'].map(mapeamento_crimes)\n",
    "renomeacao = {\n",
    "'Psychological violence': 'Psychological violence (52.9%)',\n",
    "'Physical violence': 'Physical violence (32.2%)',\n",
    "'Sexual violence': 'Sexual violence (11.5%)',\n",
    "'Others': 'Others (2.9%)',\n",
    "'Moral violence': 'Moral violence (0.3%)',\n",
    "'Property violence': 'Property violence (0.1%)'\n",
    "\n",
    "}\n",
    "\n",
    "tipos_crimes['Tipos'] = tipos_crimes['Tipos'].replace(renomeacao)\n",
    "frequencia_crimes = tipos_crimes['Tipos'].value_counts()\n"
   ]
  },
  {
   "cell_type": "code",
   "execution_count": 51,
   "metadata": {},
   "outputs": [
    {
     "data": {
      "text/plain": [
       "Tipos\n",
       "Psychological violence (52.9%)    114817\n",
       "Physical violence (32.2%)          70004\n",
       "Sexual violence (11.5%)            24986\n",
       "Others (2.9%)                       6471\n",
       "Moral violence (0.3%)                665\n",
       "Property violence (0.1%)             230\n",
       "Name: count, dtype: int64"
      ]
     },
     "execution_count": 51,
     "metadata": {},
     "output_type": "execute_result"
    }
   ],
   "source": [
    "frequencia_crimes"
   ]
  },
  {
   "cell_type": "code",
   "execution_count": 52,
   "metadata": {},
   "outputs": [
    {
     "data": {
      "application/vnd.plotly.v1+json": {
       "config": {
        "linkText": "Export to plot.ly",
        "plotlyServerURL": "https://plot.ly",
        "showLink": false
       },
       "data": [
        {
         "labels": [
          "Psychological violence (52.9%)",
          "Physical violence (32.2%)",
          "Sexual violence (11.5%)",
          "Others (2.9%)",
          "Moral violence (0.3%)",
          "Property violence (0.1%)"
         ],
         "marker": {
          "colors": [
           "#BA1F4C",
           "#9373AE",
           "#41A7C4",
           "#D68E4A",
           "#889684",
           "#96C84E",
           "#352DA7",
           "#691D73",
           "#D4BE8E",
           "#386E0D",
           "#BF4F7F",
           "#AC3516",
           "#3A6CC6",
           "#295A96",
           "#DBB1C3"
          ],
          "line": {
           "color": "white",
           "width": 2
          }
         },
         "textfont": {
          "size": 15
         },
         "type": "pie",
         "values": [
          114817,
          70004,
          24986,
          6471,
          665,
          230
         ]
        }
       ],
       "layout": {
        "font": {
         "size": 15
        },
        "height": 400,
        "legend": {
         "bgcolor": "#FFF5EE",
         "x": 1.11,
         "y": 0.93
        },
        "margin": {
         "b": 10,
         "l": 10,
         "r": 10,
         "t": 10
        },
        "paper_bgcolor": "white",
        "plot_bgcolor": "#FFF5EE",
        "scene": {
         "aspectmode": "cube"
        },
        "template": {
         "data": {
          "bar": [
           {
            "error_x": {
             "color": "#2a3f5f"
            },
            "error_y": {
             "color": "#2a3f5f"
            },
            "marker": {
             "line": {
              "color": "#E5ECF6",
              "width": 0.5
             },
             "pattern": {
              "fillmode": "overlay",
              "size": 10,
              "solidity": 0.2
             }
            },
            "type": "bar"
           }
          ],
          "barpolar": [
           {
            "marker": {
             "line": {
              "color": "#E5ECF6",
              "width": 0.5
             },
             "pattern": {
              "fillmode": "overlay",
              "size": 10,
              "solidity": 0.2
             }
            },
            "type": "barpolar"
           }
          ],
          "carpet": [
           {
            "aaxis": {
             "endlinecolor": "#2a3f5f",
             "gridcolor": "white",
             "linecolor": "white",
             "minorgridcolor": "white",
             "startlinecolor": "#2a3f5f"
            },
            "baxis": {
             "endlinecolor": "#2a3f5f",
             "gridcolor": "white",
             "linecolor": "white",
             "minorgridcolor": "white",
             "startlinecolor": "#2a3f5f"
            },
            "type": "carpet"
           }
          ],
          "choropleth": [
           {
            "colorbar": {
             "outlinewidth": 0,
             "ticks": ""
            },
            "type": "choropleth"
           }
          ],
          "contour": [
           {
            "colorbar": {
             "outlinewidth": 0,
             "ticks": ""
            },
            "colorscale": [
             [
              0,
              "#0d0887"
             ],
             [
              0.1111111111111111,
              "#46039f"
             ],
             [
              0.2222222222222222,
              "#7201a8"
             ],
             [
              0.3333333333333333,
              "#9c179e"
             ],
             [
              0.4444444444444444,
              "#bd3786"
             ],
             [
              0.5555555555555556,
              "#d8576b"
             ],
             [
              0.6666666666666666,
              "#ed7953"
             ],
             [
              0.7777777777777778,
              "#fb9f3a"
             ],
             [
              0.8888888888888888,
              "#fdca26"
             ],
             [
              1,
              "#f0f921"
             ]
            ],
            "type": "contour"
           }
          ],
          "contourcarpet": [
           {
            "colorbar": {
             "outlinewidth": 0,
             "ticks": ""
            },
            "type": "contourcarpet"
           }
          ],
          "heatmap": [
           {
            "colorbar": {
             "outlinewidth": 0,
             "ticks": ""
            },
            "colorscale": [
             [
              0,
              "#0d0887"
             ],
             [
              0.1111111111111111,
              "#46039f"
             ],
             [
              0.2222222222222222,
              "#7201a8"
             ],
             [
              0.3333333333333333,
              "#9c179e"
             ],
             [
              0.4444444444444444,
              "#bd3786"
             ],
             [
              0.5555555555555556,
              "#d8576b"
             ],
             [
              0.6666666666666666,
              "#ed7953"
             ],
             [
              0.7777777777777778,
              "#fb9f3a"
             ],
             [
              0.8888888888888888,
              "#fdca26"
             ],
             [
              1,
              "#f0f921"
             ]
            ],
            "type": "heatmap"
           }
          ],
          "heatmapgl": [
           {
            "colorbar": {
             "outlinewidth": 0,
             "ticks": ""
            },
            "colorscale": [
             [
              0,
              "#0d0887"
             ],
             [
              0.1111111111111111,
              "#46039f"
             ],
             [
              0.2222222222222222,
              "#7201a8"
             ],
             [
              0.3333333333333333,
              "#9c179e"
             ],
             [
              0.4444444444444444,
              "#bd3786"
             ],
             [
              0.5555555555555556,
              "#d8576b"
             ],
             [
              0.6666666666666666,
              "#ed7953"
             ],
             [
              0.7777777777777778,
              "#fb9f3a"
             ],
             [
              0.8888888888888888,
              "#fdca26"
             ],
             [
              1,
              "#f0f921"
             ]
            ],
            "type": "heatmapgl"
           }
          ],
          "histogram": [
           {
            "marker": {
             "pattern": {
              "fillmode": "overlay",
              "size": 10,
              "solidity": 0.2
             }
            },
            "type": "histogram"
           }
          ],
          "histogram2d": [
           {
            "colorbar": {
             "outlinewidth": 0,
             "ticks": ""
            },
            "colorscale": [
             [
              0,
              "#0d0887"
             ],
             [
              0.1111111111111111,
              "#46039f"
             ],
             [
              0.2222222222222222,
              "#7201a8"
             ],
             [
              0.3333333333333333,
              "#9c179e"
             ],
             [
              0.4444444444444444,
              "#bd3786"
             ],
             [
              0.5555555555555556,
              "#d8576b"
             ],
             [
              0.6666666666666666,
              "#ed7953"
             ],
             [
              0.7777777777777778,
              "#fb9f3a"
             ],
             [
              0.8888888888888888,
              "#fdca26"
             ],
             [
              1,
              "#f0f921"
             ]
            ],
            "type": "histogram2d"
           }
          ],
          "histogram2dcontour": [
           {
            "colorbar": {
             "outlinewidth": 0,
             "ticks": ""
            },
            "colorscale": [
             [
              0,
              "#0d0887"
             ],
             [
              0.1111111111111111,
              "#46039f"
             ],
             [
              0.2222222222222222,
              "#7201a8"
             ],
             [
              0.3333333333333333,
              "#9c179e"
             ],
             [
              0.4444444444444444,
              "#bd3786"
             ],
             [
              0.5555555555555556,
              "#d8576b"
             ],
             [
              0.6666666666666666,
              "#ed7953"
             ],
             [
              0.7777777777777778,
              "#fb9f3a"
             ],
             [
              0.8888888888888888,
              "#fdca26"
             ],
             [
              1,
              "#f0f921"
             ]
            ],
            "type": "histogram2dcontour"
           }
          ],
          "mesh3d": [
           {
            "colorbar": {
             "outlinewidth": 0,
             "ticks": ""
            },
            "type": "mesh3d"
           }
          ],
          "parcoords": [
           {
            "line": {
             "colorbar": {
              "outlinewidth": 0,
              "ticks": ""
             }
            },
            "type": "parcoords"
           }
          ],
          "pie": [
           {
            "automargin": true,
            "type": "pie"
           }
          ],
          "scatter": [
           {
            "fillpattern": {
             "fillmode": "overlay",
             "size": 10,
             "solidity": 0.2
            },
            "type": "scatter"
           }
          ],
          "scatter3d": [
           {
            "line": {
             "colorbar": {
              "outlinewidth": 0,
              "ticks": ""
             }
            },
            "marker": {
             "colorbar": {
              "outlinewidth": 0,
              "ticks": ""
             }
            },
            "type": "scatter3d"
           }
          ],
          "scattercarpet": [
           {
            "marker": {
             "colorbar": {
              "outlinewidth": 0,
              "ticks": ""
             }
            },
            "type": "scattercarpet"
           }
          ],
          "scattergeo": [
           {
            "marker": {
             "colorbar": {
              "outlinewidth": 0,
              "ticks": ""
             }
            },
            "type": "scattergeo"
           }
          ],
          "scattergl": [
           {
            "marker": {
             "colorbar": {
              "outlinewidth": 0,
              "ticks": ""
             }
            },
            "type": "scattergl"
           }
          ],
          "scattermapbox": [
           {
            "marker": {
             "colorbar": {
              "outlinewidth": 0,
              "ticks": ""
             }
            },
            "type": "scattermapbox"
           }
          ],
          "scatterpolar": [
           {
            "marker": {
             "colorbar": {
              "outlinewidth": 0,
              "ticks": ""
             }
            },
            "type": "scatterpolar"
           }
          ],
          "scatterpolargl": [
           {
            "marker": {
             "colorbar": {
              "outlinewidth": 0,
              "ticks": ""
             }
            },
            "type": "scatterpolargl"
           }
          ],
          "scatterternary": [
           {
            "marker": {
             "colorbar": {
              "outlinewidth": 0,
              "ticks": ""
             }
            },
            "type": "scatterternary"
           }
          ],
          "surface": [
           {
            "colorbar": {
             "outlinewidth": 0,
             "ticks": ""
            },
            "colorscale": [
             [
              0,
              "#0d0887"
             ],
             [
              0.1111111111111111,
              "#46039f"
             ],
             [
              0.2222222222222222,
              "#7201a8"
             ],
             [
              0.3333333333333333,
              "#9c179e"
             ],
             [
              0.4444444444444444,
              "#bd3786"
             ],
             [
              0.5555555555555556,
              "#d8576b"
             ],
             [
              0.6666666666666666,
              "#ed7953"
             ],
             [
              0.7777777777777778,
              "#fb9f3a"
             ],
             [
              0.8888888888888888,
              "#fdca26"
             ],
             [
              1,
              "#f0f921"
             ]
            ],
            "type": "surface"
           }
          ],
          "table": [
           {
            "cells": {
             "fill": {
              "color": "#EBF0F8"
             },
             "line": {
              "color": "white"
             }
            },
            "header": {
             "fill": {
              "color": "#C8D4E3"
             },
             "line": {
              "color": "white"
             }
            },
            "type": "table"
           }
          ]
         },
         "layout": {
          "annotationdefaults": {
           "arrowcolor": "#2a3f5f",
           "arrowhead": 0,
           "arrowwidth": 1
          },
          "autotypenumbers": "strict",
          "coloraxis": {
           "colorbar": {
            "outlinewidth": 0,
            "ticks": ""
           }
          },
          "colorscale": {
           "diverging": [
            [
             0,
             "#8e0152"
            ],
            [
             0.1,
             "#c51b7d"
            ],
            [
             0.2,
             "#de77ae"
            ],
            [
             0.3,
             "#f1b6da"
            ],
            [
             0.4,
             "#fde0ef"
            ],
            [
             0.5,
             "#f7f7f7"
            ],
            [
             0.6,
             "#e6f5d0"
            ],
            [
             0.7,
             "#b8e186"
            ],
            [
             0.8,
             "#7fbc41"
            ],
            [
             0.9,
             "#4d9221"
            ],
            [
             1,
             "#276419"
            ]
           ],
           "sequential": [
            [
             0,
             "#0d0887"
            ],
            [
             0.1111111111111111,
             "#46039f"
            ],
            [
             0.2222222222222222,
             "#7201a8"
            ],
            [
             0.3333333333333333,
             "#9c179e"
            ],
            [
             0.4444444444444444,
             "#bd3786"
            ],
            [
             0.5555555555555556,
             "#d8576b"
            ],
            [
             0.6666666666666666,
             "#ed7953"
            ],
            [
             0.7777777777777778,
             "#fb9f3a"
            ],
            [
             0.8888888888888888,
             "#fdca26"
            ],
            [
             1,
             "#f0f921"
            ]
           ],
           "sequentialminus": [
            [
             0,
             "#0d0887"
            ],
            [
             0.1111111111111111,
             "#46039f"
            ],
            [
             0.2222222222222222,
             "#7201a8"
            ],
            [
             0.3333333333333333,
             "#9c179e"
            ],
            [
             0.4444444444444444,
             "#bd3786"
            ],
            [
             0.5555555555555556,
             "#d8576b"
            ],
            [
             0.6666666666666666,
             "#ed7953"
            ],
            [
             0.7777777777777778,
             "#fb9f3a"
            ],
            [
             0.8888888888888888,
             "#fdca26"
            ],
            [
             1,
             "#f0f921"
            ]
           ]
          },
          "colorway": [
           "#636efa",
           "#EF553B",
           "#00cc96",
           "#ab63fa",
           "#FFA15A",
           "#19d3f3",
           "#FF6692",
           "#B6E880",
           "#FF97FF",
           "#FECB52"
          ],
          "font": {
           "color": "#2a3f5f"
          },
          "geo": {
           "bgcolor": "white",
           "lakecolor": "white",
           "landcolor": "#E5ECF6",
           "showlakes": true,
           "showland": true,
           "subunitcolor": "white"
          },
          "hoverlabel": {
           "align": "left"
          },
          "hovermode": "closest",
          "mapbox": {
           "style": "light"
          },
          "paper_bgcolor": "white",
          "plot_bgcolor": "#E5ECF6",
          "polar": {
           "angularaxis": {
            "gridcolor": "white",
            "linecolor": "white",
            "ticks": ""
           },
           "bgcolor": "#E5ECF6",
           "radialaxis": {
            "gridcolor": "white",
            "linecolor": "white",
            "ticks": ""
           }
          },
          "scene": {
           "xaxis": {
            "backgroundcolor": "#E5ECF6",
            "gridcolor": "white",
            "gridwidth": 2,
            "linecolor": "white",
            "showbackground": true,
            "ticks": "",
            "zerolinecolor": "white"
           },
           "yaxis": {
            "backgroundcolor": "#E5ECF6",
            "gridcolor": "white",
            "gridwidth": 2,
            "linecolor": "white",
            "showbackground": true,
            "ticks": "",
            "zerolinecolor": "white"
           },
           "zaxis": {
            "backgroundcolor": "#E5ECF6",
            "gridcolor": "white",
            "gridwidth": 2,
            "linecolor": "white",
            "showbackground": true,
            "ticks": "",
            "zerolinecolor": "white"
           }
          },
          "shapedefaults": {
           "line": {
            "color": "#2a3f5f"
           }
          },
          "ternary": {
           "aaxis": {
            "gridcolor": "white",
            "linecolor": "white",
            "ticks": ""
           },
           "baxis": {
            "gridcolor": "white",
            "linecolor": "white",
            "ticks": ""
           },
           "bgcolor": "#E5ECF6",
           "caxis": {
            "gridcolor": "white",
            "linecolor": "white",
            "ticks": ""
           }
          },
          "title": {
           "x": 0.05
          },
          "xaxis": {
           "automargin": true,
           "gridcolor": "white",
           "linecolor": "white",
           "ticks": "",
           "title": {
            "standoff": 15
           },
           "zerolinecolor": "white",
           "zerolinewidth": 2
          },
          "yaxis": {
           "automargin": true,
           "gridcolor": "white",
           "linecolor": "white",
           "ticks": "",
           "title": {
            "standoff": 15
           },
           "zerolinecolor": "white",
           "zerolinewidth": 2
          }
         }
        },
        "width": 650
       }
      },
      "text/html": [
       "<div>                            <div id=\"3208da65-d651-436d-ac72-cf12faf1b723\" class=\"plotly-graph-div\" style=\"height:400px; width:650px;\"></div>            <script type=\"text/javascript\">                require([\"plotly\"], function(Plotly) {                    window.PLOTLYENV=window.PLOTLYENV || {};                                    if (document.getElementById(\"3208da65-d651-436d-ac72-cf12faf1b723\")) {                    Plotly.newPlot(                        \"3208da65-d651-436d-ac72-cf12faf1b723\",                        [{\"labels\":[\"Psychological violence (52.9%)\",\"Physical violence (32.2%)\",\"Sexual violence (11.5%)\",\"Others (2.9%)\",\"Moral violence (0.3%)\",\"Property violence (0.1%)\"],\"marker\":{\"colors\":[\"#BA1F4C\",\"#9373AE\",\"#41A7C4\",\"#D68E4A\",\"#889684\",\"#96C84E\",\"#352DA7\",\"#691D73\",\"#D4BE8E\",\"#386E0D\",\"#BF4F7F\",\"#AC3516\",\"#3A6CC6\",\"#295A96\",\"#DBB1C3\"],\"line\":{\"color\":\"white\",\"width\":2}},\"textfont\":{\"size\":15},\"values\":[114817,70004,24986,6471,665,230],\"type\":\"pie\"}],                        {\"font\":{\"size\":15},\"height\":400,\"legend\":{\"bgcolor\":\"#FFF5EE\",\"x\":1.11,\"y\":0.93},\"margin\":{\"b\":10,\"l\":10,\"r\":10,\"t\":10},\"paper_bgcolor\":\"white\",\"plot_bgcolor\":\"#FFF5EE\",\"scene\":{\"aspectmode\":\"cube\"},\"template\":{\"data\":{\"barpolar\":[{\"marker\":{\"line\":{\"color\":\"#E5ECF6\",\"width\":0.5},\"pattern\":{\"fillmode\":\"overlay\",\"size\":10,\"solidity\":0.2}},\"type\":\"barpolar\"}],\"bar\":[{\"error_x\":{\"color\":\"#2a3f5f\"},\"error_y\":{\"color\":\"#2a3f5f\"},\"marker\":{\"line\":{\"color\":\"#E5ECF6\",\"width\":0.5},\"pattern\":{\"fillmode\":\"overlay\",\"size\":10,\"solidity\":0.2}},\"type\":\"bar\"}],\"carpet\":[{\"aaxis\":{\"endlinecolor\":\"#2a3f5f\",\"gridcolor\":\"white\",\"linecolor\":\"white\",\"minorgridcolor\":\"white\",\"startlinecolor\":\"#2a3f5f\"},\"baxis\":{\"endlinecolor\":\"#2a3f5f\",\"gridcolor\":\"white\",\"linecolor\":\"white\",\"minorgridcolor\":\"white\",\"startlinecolor\":\"#2a3f5f\"},\"type\":\"carpet\"}],\"choropleth\":[{\"colorbar\":{\"outlinewidth\":0,\"ticks\":\"\"},\"type\":\"choropleth\"}],\"contourcarpet\":[{\"colorbar\":{\"outlinewidth\":0,\"ticks\":\"\"},\"type\":\"contourcarpet\"}],\"contour\":[{\"colorbar\":{\"outlinewidth\":0,\"ticks\":\"\"},\"colorscale\":[[0.0,\"#0d0887\"],[0.1111111111111111,\"#46039f\"],[0.2222222222222222,\"#7201a8\"],[0.3333333333333333,\"#9c179e\"],[0.4444444444444444,\"#bd3786\"],[0.5555555555555556,\"#d8576b\"],[0.6666666666666666,\"#ed7953\"],[0.7777777777777778,\"#fb9f3a\"],[0.8888888888888888,\"#fdca26\"],[1.0,\"#f0f921\"]],\"type\":\"contour\"}],\"heatmapgl\":[{\"colorbar\":{\"outlinewidth\":0,\"ticks\":\"\"},\"colorscale\":[[0.0,\"#0d0887\"],[0.1111111111111111,\"#46039f\"],[0.2222222222222222,\"#7201a8\"],[0.3333333333333333,\"#9c179e\"],[0.4444444444444444,\"#bd3786\"],[0.5555555555555556,\"#d8576b\"],[0.6666666666666666,\"#ed7953\"],[0.7777777777777778,\"#fb9f3a\"],[0.8888888888888888,\"#fdca26\"],[1.0,\"#f0f921\"]],\"type\":\"heatmapgl\"}],\"heatmap\":[{\"colorbar\":{\"outlinewidth\":0,\"ticks\":\"\"},\"colorscale\":[[0.0,\"#0d0887\"],[0.1111111111111111,\"#46039f\"],[0.2222222222222222,\"#7201a8\"],[0.3333333333333333,\"#9c179e\"],[0.4444444444444444,\"#bd3786\"],[0.5555555555555556,\"#d8576b\"],[0.6666666666666666,\"#ed7953\"],[0.7777777777777778,\"#fb9f3a\"],[0.8888888888888888,\"#fdca26\"],[1.0,\"#f0f921\"]],\"type\":\"heatmap\"}],\"histogram2dcontour\":[{\"colorbar\":{\"outlinewidth\":0,\"ticks\":\"\"},\"colorscale\":[[0.0,\"#0d0887\"],[0.1111111111111111,\"#46039f\"],[0.2222222222222222,\"#7201a8\"],[0.3333333333333333,\"#9c179e\"],[0.4444444444444444,\"#bd3786\"],[0.5555555555555556,\"#d8576b\"],[0.6666666666666666,\"#ed7953\"],[0.7777777777777778,\"#fb9f3a\"],[0.8888888888888888,\"#fdca26\"],[1.0,\"#f0f921\"]],\"type\":\"histogram2dcontour\"}],\"histogram2d\":[{\"colorbar\":{\"outlinewidth\":0,\"ticks\":\"\"},\"colorscale\":[[0.0,\"#0d0887\"],[0.1111111111111111,\"#46039f\"],[0.2222222222222222,\"#7201a8\"],[0.3333333333333333,\"#9c179e\"],[0.4444444444444444,\"#bd3786\"],[0.5555555555555556,\"#d8576b\"],[0.6666666666666666,\"#ed7953\"],[0.7777777777777778,\"#fb9f3a\"],[0.8888888888888888,\"#fdca26\"],[1.0,\"#f0f921\"]],\"type\":\"histogram2d\"}],\"histogram\":[{\"marker\":{\"pattern\":{\"fillmode\":\"overlay\",\"size\":10,\"solidity\":0.2}},\"type\":\"histogram\"}],\"mesh3d\":[{\"colorbar\":{\"outlinewidth\":0,\"ticks\":\"\"},\"type\":\"mesh3d\"}],\"parcoords\":[{\"line\":{\"colorbar\":{\"outlinewidth\":0,\"ticks\":\"\"}},\"type\":\"parcoords\"}],\"pie\":[{\"automargin\":true,\"type\":\"pie\"}],\"scatter3d\":[{\"line\":{\"colorbar\":{\"outlinewidth\":0,\"ticks\":\"\"}},\"marker\":{\"colorbar\":{\"outlinewidth\":0,\"ticks\":\"\"}},\"type\":\"scatter3d\"}],\"scattercarpet\":[{\"marker\":{\"colorbar\":{\"outlinewidth\":0,\"ticks\":\"\"}},\"type\":\"scattercarpet\"}],\"scattergeo\":[{\"marker\":{\"colorbar\":{\"outlinewidth\":0,\"ticks\":\"\"}},\"type\":\"scattergeo\"}],\"scattergl\":[{\"marker\":{\"colorbar\":{\"outlinewidth\":0,\"ticks\":\"\"}},\"type\":\"scattergl\"}],\"scattermapbox\":[{\"marker\":{\"colorbar\":{\"outlinewidth\":0,\"ticks\":\"\"}},\"type\":\"scattermapbox\"}],\"scatterpolargl\":[{\"marker\":{\"colorbar\":{\"outlinewidth\":0,\"ticks\":\"\"}},\"type\":\"scatterpolargl\"}],\"scatterpolar\":[{\"marker\":{\"colorbar\":{\"outlinewidth\":0,\"ticks\":\"\"}},\"type\":\"scatterpolar\"}],\"scatter\":[{\"fillpattern\":{\"fillmode\":\"overlay\",\"size\":10,\"solidity\":0.2},\"type\":\"scatter\"}],\"scatterternary\":[{\"marker\":{\"colorbar\":{\"outlinewidth\":0,\"ticks\":\"\"}},\"type\":\"scatterternary\"}],\"surface\":[{\"colorbar\":{\"outlinewidth\":0,\"ticks\":\"\"},\"colorscale\":[[0.0,\"#0d0887\"],[0.1111111111111111,\"#46039f\"],[0.2222222222222222,\"#7201a8\"],[0.3333333333333333,\"#9c179e\"],[0.4444444444444444,\"#bd3786\"],[0.5555555555555556,\"#d8576b\"],[0.6666666666666666,\"#ed7953\"],[0.7777777777777778,\"#fb9f3a\"],[0.8888888888888888,\"#fdca26\"],[1.0,\"#f0f921\"]],\"type\":\"surface\"}],\"table\":[{\"cells\":{\"fill\":{\"color\":\"#EBF0F8\"},\"line\":{\"color\":\"white\"}},\"header\":{\"fill\":{\"color\":\"#C8D4E3\"},\"line\":{\"color\":\"white\"}},\"type\":\"table\"}]},\"layout\":{\"annotationdefaults\":{\"arrowcolor\":\"#2a3f5f\",\"arrowhead\":0,\"arrowwidth\":1},\"autotypenumbers\":\"strict\",\"coloraxis\":{\"colorbar\":{\"outlinewidth\":0,\"ticks\":\"\"}},\"colorscale\":{\"diverging\":[[0,\"#8e0152\"],[0.1,\"#c51b7d\"],[0.2,\"#de77ae\"],[0.3,\"#f1b6da\"],[0.4,\"#fde0ef\"],[0.5,\"#f7f7f7\"],[0.6,\"#e6f5d0\"],[0.7,\"#b8e186\"],[0.8,\"#7fbc41\"],[0.9,\"#4d9221\"],[1,\"#276419\"]],\"sequential\":[[0.0,\"#0d0887\"],[0.1111111111111111,\"#46039f\"],[0.2222222222222222,\"#7201a8\"],[0.3333333333333333,\"#9c179e\"],[0.4444444444444444,\"#bd3786\"],[0.5555555555555556,\"#d8576b\"],[0.6666666666666666,\"#ed7953\"],[0.7777777777777778,\"#fb9f3a\"],[0.8888888888888888,\"#fdca26\"],[1.0,\"#f0f921\"]],\"sequentialminus\":[[0.0,\"#0d0887\"],[0.1111111111111111,\"#46039f\"],[0.2222222222222222,\"#7201a8\"],[0.3333333333333333,\"#9c179e\"],[0.4444444444444444,\"#bd3786\"],[0.5555555555555556,\"#d8576b\"],[0.6666666666666666,\"#ed7953\"],[0.7777777777777778,\"#fb9f3a\"],[0.8888888888888888,\"#fdca26\"],[1.0,\"#f0f921\"]]},\"colorway\":[\"#636efa\",\"#EF553B\",\"#00cc96\",\"#ab63fa\",\"#FFA15A\",\"#19d3f3\",\"#FF6692\",\"#B6E880\",\"#FF97FF\",\"#FECB52\"],\"font\":{\"color\":\"#2a3f5f\"},\"geo\":{\"bgcolor\":\"white\",\"lakecolor\":\"white\",\"landcolor\":\"#E5ECF6\",\"showlakes\":true,\"showland\":true,\"subunitcolor\":\"white\"},\"hoverlabel\":{\"align\":\"left\"},\"hovermode\":\"closest\",\"mapbox\":{\"style\":\"light\"},\"paper_bgcolor\":\"white\",\"plot_bgcolor\":\"#E5ECF6\",\"polar\":{\"angularaxis\":{\"gridcolor\":\"white\",\"linecolor\":\"white\",\"ticks\":\"\"},\"bgcolor\":\"#E5ECF6\",\"radialaxis\":{\"gridcolor\":\"white\",\"linecolor\":\"white\",\"ticks\":\"\"}},\"scene\":{\"xaxis\":{\"backgroundcolor\":\"#E5ECF6\",\"gridcolor\":\"white\",\"gridwidth\":2,\"linecolor\":\"white\",\"showbackground\":true,\"ticks\":\"\",\"zerolinecolor\":\"white\"},\"yaxis\":{\"backgroundcolor\":\"#E5ECF6\",\"gridcolor\":\"white\",\"gridwidth\":2,\"linecolor\":\"white\",\"showbackground\":true,\"ticks\":\"\",\"zerolinecolor\":\"white\"},\"zaxis\":{\"backgroundcolor\":\"#E5ECF6\",\"gridcolor\":\"white\",\"gridwidth\":2,\"linecolor\":\"white\",\"showbackground\":true,\"ticks\":\"\",\"zerolinecolor\":\"white\"}},\"shapedefaults\":{\"line\":{\"color\":\"#2a3f5f\"}},\"ternary\":{\"aaxis\":{\"gridcolor\":\"white\",\"linecolor\":\"white\",\"ticks\":\"\"},\"baxis\":{\"gridcolor\":\"white\",\"linecolor\":\"white\",\"ticks\":\"\"},\"bgcolor\":\"#E5ECF6\",\"caxis\":{\"gridcolor\":\"white\",\"linecolor\":\"white\",\"ticks\":\"\"}},\"title\":{\"x\":0.05},\"xaxis\":{\"automargin\":true,\"gridcolor\":\"white\",\"linecolor\":\"white\",\"ticks\":\"\",\"title\":{\"standoff\":15},\"zerolinecolor\":\"white\",\"zerolinewidth\":2},\"yaxis\":{\"automargin\":true,\"gridcolor\":\"white\",\"linecolor\":\"white\",\"ticks\":\"\",\"title\":{\"standoff\":15},\"zerolinecolor\":\"white\",\"zerolinewidth\":2}}},\"width\":650},                        {\"responsive\": true}                    ).then(function(){\n",
       "                            \n",
       "var gd = document.getElementById('3208da65-d651-436d-ac72-cf12faf1b723');\n",
       "var x = new MutationObserver(function (mutations, observer) {{\n",
       "        var display = window.getComputedStyle(gd).display;\n",
       "        if (!display || display === 'none') {{\n",
       "            console.log([gd, 'removed!']);\n",
       "            Plotly.purge(gd);\n",
       "            observer.disconnect();\n",
       "        }}\n",
       "}});\n",
       "\n",
       "// Listen for the removal of the full notebook cells\n",
       "var notebookContainer = gd.closest('#notebook-container');\n",
       "if (notebookContainer) {{\n",
       "    x.observe(notebookContainer, {childList: true});\n",
       "}}\n",
       "\n",
       "// Listen for the clearing of the current output cell\n",
       "var outputEl = gd.closest('.output');\n",
       "if (outputEl) {{\n",
       "    x.observe(outputEl, {childList: true});\n",
       "}}\n",
       "\n",
       "                        })                };                });            </script>        </div>"
      ]
     },
     "metadata": {},
     "output_type": "display_data"
    }
   ],
   "source": [
    "fig = go.Figure(data=[go.Pie(labels=frequencia_crimes.index, values=frequencia_crimes.values,marker=dict(colors=custom_palette))])\n",
    "\n",
    "fig.update_layout(#title= 'Tipos de crime mais frequentes contra a mulher',\n",
    "                  scene=dict(aspectmode=\"cube\"),\n",
    "                  width=650,  \n",
    "                  height=400,margin=dict(l=10, r=10, t=10, b=10),\n",
    "        plot_bgcolor='#FFF5EE',paper_bgcolor='white', legend=dict(bgcolor='#FFF5EE', x=1.11, y=0.93), font=dict(size=15))\n",
    "\n",
    "fig.update_traces(marker=dict(line=dict(color='white', width=2)),\n",
    "                  textfont=dict(size=15))\n",
    "\n",
    "py.iplot(fig)\n",
    "\n",
    "#fig.write_image(\"Crimes no estado/imagens_svg_estado/tipos_violencia.svg\")"
   ]
  },
  {
   "cell_type": "markdown",
   "metadata": {},
   "source": [
    "- Crimes mais frequente"
   ]
  },
  {
   "cell_type": "code",
   "execution_count": 116,
   "metadata": {},
   "outputs": [
    {
     "data": {
      "text/plain": [
       "consolidado\n",
       "Threat                            108996\n",
       "Bod. inj.                          67112\n",
       "Rape of vuln.                      14986\n",
       "Psy. viol.                          5818\n",
       "Viol. of urgent protect. meas.      5476\n",
       "Name: count, dtype: int64"
      ]
     },
     "execution_count": 116,
     "metadata": {},
     "output_type": "execute_result"
    }
   ],
   "source": [
    "crimes_frequentes"
   ]
  },
  {
   "cell_type": "code",
   "execution_count": 89,
   "metadata": {},
   "outputs": [
    {
     "data": {
      "application/vnd.plotly.v1+json": {
       "config": {
        "linkText": "Export to plot.ly",
        "plotlyServerURL": "https://plot.ly",
        "showLink": false
       },
       "data": [
        {
         "labels": [
          "Threat",
          "Bod. inj.",
          "Rape of vuln.",
          "Psy. viol.",
          "Viol. of urgent protect. meas."
         ],
         "marker": {
          "colors": [
           "#BA1F4C",
           "#9373AE",
           "#41A7C4",
           "#D68E4A",
           "#889684",
           "#96C84E",
           "#352DA7",
           "#691D73",
           "#D4BE8E",
           "#386E0D",
           "#BF4F7F",
           "#AC3516",
           "#3A6CC6",
           "#295A96",
           "#DBB1C3"
          ],
          "line": {
           "color": "white"
          }
         },
         "pull": 0.03,
         "textfont": {
          "size": 15
         },
         "textinfo": "percent",
         "textposition": "inside",
         "type": "pie",
         "values": [
          108996,
          67112,
          14986,
          5818,
          5476
         ]
        }
       ],
       "layout": {
        "font": {
         "size": 15
        },
        "height": 400,
        "legend": {
         "bgcolor": "#FFF5EE"
        },
        "margin": {
         "b": 10,
         "l": 10,
         "r": 10,
         "t": 10
        },
        "paper_bgcolor": "white",
        "plot_bgcolor": "#FFF5EE",
        "scene": {
         "aspectmode": "cube"
        },
        "template": {
         "data": {
          "bar": [
           {
            "error_x": {
             "color": "#2a3f5f"
            },
            "error_y": {
             "color": "#2a3f5f"
            },
            "marker": {
             "line": {
              "color": "#E5ECF6",
              "width": 0.5
             },
             "pattern": {
              "fillmode": "overlay",
              "size": 10,
              "solidity": 0.2
             }
            },
            "type": "bar"
           }
          ],
          "barpolar": [
           {
            "marker": {
             "line": {
              "color": "#E5ECF6",
              "width": 0.5
             },
             "pattern": {
              "fillmode": "overlay",
              "size": 10,
              "solidity": 0.2
             }
            },
            "type": "barpolar"
           }
          ],
          "carpet": [
           {
            "aaxis": {
             "endlinecolor": "#2a3f5f",
             "gridcolor": "white",
             "linecolor": "white",
             "minorgridcolor": "white",
             "startlinecolor": "#2a3f5f"
            },
            "baxis": {
             "endlinecolor": "#2a3f5f",
             "gridcolor": "white",
             "linecolor": "white",
             "minorgridcolor": "white",
             "startlinecolor": "#2a3f5f"
            },
            "type": "carpet"
           }
          ],
          "choropleth": [
           {
            "colorbar": {
             "outlinewidth": 0,
             "ticks": ""
            },
            "type": "choropleth"
           }
          ],
          "contour": [
           {
            "colorbar": {
             "outlinewidth": 0,
             "ticks": ""
            },
            "colorscale": [
             [
              0,
              "#0d0887"
             ],
             [
              0.1111111111111111,
              "#46039f"
             ],
             [
              0.2222222222222222,
              "#7201a8"
             ],
             [
              0.3333333333333333,
              "#9c179e"
             ],
             [
              0.4444444444444444,
              "#bd3786"
             ],
             [
              0.5555555555555556,
              "#d8576b"
             ],
             [
              0.6666666666666666,
              "#ed7953"
             ],
             [
              0.7777777777777778,
              "#fb9f3a"
             ],
             [
              0.8888888888888888,
              "#fdca26"
             ],
             [
              1,
              "#f0f921"
             ]
            ],
            "type": "contour"
           }
          ],
          "contourcarpet": [
           {
            "colorbar": {
             "outlinewidth": 0,
             "ticks": ""
            },
            "type": "contourcarpet"
           }
          ],
          "heatmap": [
           {
            "colorbar": {
             "outlinewidth": 0,
             "ticks": ""
            },
            "colorscale": [
             [
              0,
              "#0d0887"
             ],
             [
              0.1111111111111111,
              "#46039f"
             ],
             [
              0.2222222222222222,
              "#7201a8"
             ],
             [
              0.3333333333333333,
              "#9c179e"
             ],
             [
              0.4444444444444444,
              "#bd3786"
             ],
             [
              0.5555555555555556,
              "#d8576b"
             ],
             [
              0.6666666666666666,
              "#ed7953"
             ],
             [
              0.7777777777777778,
              "#fb9f3a"
             ],
             [
              0.8888888888888888,
              "#fdca26"
             ],
             [
              1,
              "#f0f921"
             ]
            ],
            "type": "heatmap"
           }
          ],
          "heatmapgl": [
           {
            "colorbar": {
             "outlinewidth": 0,
             "ticks": ""
            },
            "colorscale": [
             [
              0,
              "#0d0887"
             ],
             [
              0.1111111111111111,
              "#46039f"
             ],
             [
              0.2222222222222222,
              "#7201a8"
             ],
             [
              0.3333333333333333,
              "#9c179e"
             ],
             [
              0.4444444444444444,
              "#bd3786"
             ],
             [
              0.5555555555555556,
              "#d8576b"
             ],
             [
              0.6666666666666666,
              "#ed7953"
             ],
             [
              0.7777777777777778,
              "#fb9f3a"
             ],
             [
              0.8888888888888888,
              "#fdca26"
             ],
             [
              1,
              "#f0f921"
             ]
            ],
            "type": "heatmapgl"
           }
          ],
          "histogram": [
           {
            "marker": {
             "pattern": {
              "fillmode": "overlay",
              "size": 10,
              "solidity": 0.2
             }
            },
            "type": "histogram"
           }
          ],
          "histogram2d": [
           {
            "colorbar": {
             "outlinewidth": 0,
             "ticks": ""
            },
            "colorscale": [
             [
              0,
              "#0d0887"
             ],
             [
              0.1111111111111111,
              "#46039f"
             ],
             [
              0.2222222222222222,
              "#7201a8"
             ],
             [
              0.3333333333333333,
              "#9c179e"
             ],
             [
              0.4444444444444444,
              "#bd3786"
             ],
             [
              0.5555555555555556,
              "#d8576b"
             ],
             [
              0.6666666666666666,
              "#ed7953"
             ],
             [
              0.7777777777777778,
              "#fb9f3a"
             ],
             [
              0.8888888888888888,
              "#fdca26"
             ],
             [
              1,
              "#f0f921"
             ]
            ],
            "type": "histogram2d"
           }
          ],
          "histogram2dcontour": [
           {
            "colorbar": {
             "outlinewidth": 0,
             "ticks": ""
            },
            "colorscale": [
             [
              0,
              "#0d0887"
             ],
             [
              0.1111111111111111,
              "#46039f"
             ],
             [
              0.2222222222222222,
              "#7201a8"
             ],
             [
              0.3333333333333333,
              "#9c179e"
             ],
             [
              0.4444444444444444,
              "#bd3786"
             ],
             [
              0.5555555555555556,
              "#d8576b"
             ],
             [
              0.6666666666666666,
              "#ed7953"
             ],
             [
              0.7777777777777778,
              "#fb9f3a"
             ],
             [
              0.8888888888888888,
              "#fdca26"
             ],
             [
              1,
              "#f0f921"
             ]
            ],
            "type": "histogram2dcontour"
           }
          ],
          "mesh3d": [
           {
            "colorbar": {
             "outlinewidth": 0,
             "ticks": ""
            },
            "type": "mesh3d"
           }
          ],
          "parcoords": [
           {
            "line": {
             "colorbar": {
              "outlinewidth": 0,
              "ticks": ""
             }
            },
            "type": "parcoords"
           }
          ],
          "pie": [
           {
            "automargin": true,
            "type": "pie"
           }
          ],
          "scatter": [
           {
            "fillpattern": {
             "fillmode": "overlay",
             "size": 10,
             "solidity": 0.2
            },
            "type": "scatter"
           }
          ],
          "scatter3d": [
           {
            "line": {
             "colorbar": {
              "outlinewidth": 0,
              "ticks": ""
             }
            },
            "marker": {
             "colorbar": {
              "outlinewidth": 0,
              "ticks": ""
             }
            },
            "type": "scatter3d"
           }
          ],
          "scattercarpet": [
           {
            "marker": {
             "colorbar": {
              "outlinewidth": 0,
              "ticks": ""
             }
            },
            "type": "scattercarpet"
           }
          ],
          "scattergeo": [
           {
            "marker": {
             "colorbar": {
              "outlinewidth": 0,
              "ticks": ""
             }
            },
            "type": "scattergeo"
           }
          ],
          "scattergl": [
           {
            "marker": {
             "colorbar": {
              "outlinewidth": 0,
              "ticks": ""
             }
            },
            "type": "scattergl"
           }
          ],
          "scattermapbox": [
           {
            "marker": {
             "colorbar": {
              "outlinewidth": 0,
              "ticks": ""
             }
            },
            "type": "scattermapbox"
           }
          ],
          "scatterpolar": [
           {
            "marker": {
             "colorbar": {
              "outlinewidth": 0,
              "ticks": ""
             }
            },
            "type": "scatterpolar"
           }
          ],
          "scatterpolargl": [
           {
            "marker": {
             "colorbar": {
              "outlinewidth": 0,
              "ticks": ""
             }
            },
            "type": "scatterpolargl"
           }
          ],
          "scatterternary": [
           {
            "marker": {
             "colorbar": {
              "outlinewidth": 0,
              "ticks": ""
             }
            },
            "type": "scatterternary"
           }
          ],
          "surface": [
           {
            "colorbar": {
             "outlinewidth": 0,
             "ticks": ""
            },
            "colorscale": [
             [
              0,
              "#0d0887"
             ],
             [
              0.1111111111111111,
              "#46039f"
             ],
             [
              0.2222222222222222,
              "#7201a8"
             ],
             [
              0.3333333333333333,
              "#9c179e"
             ],
             [
              0.4444444444444444,
              "#bd3786"
             ],
             [
              0.5555555555555556,
              "#d8576b"
             ],
             [
              0.6666666666666666,
              "#ed7953"
             ],
             [
              0.7777777777777778,
              "#fb9f3a"
             ],
             [
              0.8888888888888888,
              "#fdca26"
             ],
             [
              1,
              "#f0f921"
             ]
            ],
            "type": "surface"
           }
          ],
          "table": [
           {
            "cells": {
             "fill": {
              "color": "#EBF0F8"
             },
             "line": {
              "color": "white"
             }
            },
            "header": {
             "fill": {
              "color": "#C8D4E3"
             },
             "line": {
              "color": "white"
             }
            },
            "type": "table"
           }
          ]
         },
         "layout": {
          "annotationdefaults": {
           "arrowcolor": "#2a3f5f",
           "arrowhead": 0,
           "arrowwidth": 1
          },
          "autotypenumbers": "strict",
          "coloraxis": {
           "colorbar": {
            "outlinewidth": 0,
            "ticks": ""
           }
          },
          "colorscale": {
           "diverging": [
            [
             0,
             "#8e0152"
            ],
            [
             0.1,
             "#c51b7d"
            ],
            [
             0.2,
             "#de77ae"
            ],
            [
             0.3,
             "#f1b6da"
            ],
            [
             0.4,
             "#fde0ef"
            ],
            [
             0.5,
             "#f7f7f7"
            ],
            [
             0.6,
             "#e6f5d0"
            ],
            [
             0.7,
             "#b8e186"
            ],
            [
             0.8,
             "#7fbc41"
            ],
            [
             0.9,
             "#4d9221"
            ],
            [
             1,
             "#276419"
            ]
           ],
           "sequential": [
            [
             0,
             "#0d0887"
            ],
            [
             0.1111111111111111,
             "#46039f"
            ],
            [
             0.2222222222222222,
             "#7201a8"
            ],
            [
             0.3333333333333333,
             "#9c179e"
            ],
            [
             0.4444444444444444,
             "#bd3786"
            ],
            [
             0.5555555555555556,
             "#d8576b"
            ],
            [
             0.6666666666666666,
             "#ed7953"
            ],
            [
             0.7777777777777778,
             "#fb9f3a"
            ],
            [
             0.8888888888888888,
             "#fdca26"
            ],
            [
             1,
             "#f0f921"
            ]
           ],
           "sequentialminus": [
            [
             0,
             "#0d0887"
            ],
            [
             0.1111111111111111,
             "#46039f"
            ],
            [
             0.2222222222222222,
             "#7201a8"
            ],
            [
             0.3333333333333333,
             "#9c179e"
            ],
            [
             0.4444444444444444,
             "#bd3786"
            ],
            [
             0.5555555555555556,
             "#d8576b"
            ],
            [
             0.6666666666666666,
             "#ed7953"
            ],
            [
             0.7777777777777778,
             "#fb9f3a"
            ],
            [
             0.8888888888888888,
             "#fdca26"
            ],
            [
             1,
             "#f0f921"
            ]
           ]
          },
          "colorway": [
           "#636efa",
           "#EF553B",
           "#00cc96",
           "#ab63fa",
           "#FFA15A",
           "#19d3f3",
           "#FF6692",
           "#B6E880",
           "#FF97FF",
           "#FECB52"
          ],
          "font": {
           "color": "#2a3f5f"
          },
          "geo": {
           "bgcolor": "white",
           "lakecolor": "white",
           "landcolor": "#E5ECF6",
           "showlakes": true,
           "showland": true,
           "subunitcolor": "white"
          },
          "hoverlabel": {
           "align": "left"
          },
          "hovermode": "closest",
          "mapbox": {
           "style": "light"
          },
          "paper_bgcolor": "white",
          "plot_bgcolor": "#E5ECF6",
          "polar": {
           "angularaxis": {
            "gridcolor": "white",
            "linecolor": "white",
            "ticks": ""
           },
           "bgcolor": "#E5ECF6",
           "radialaxis": {
            "gridcolor": "white",
            "linecolor": "white",
            "ticks": ""
           }
          },
          "scene": {
           "xaxis": {
            "backgroundcolor": "#E5ECF6",
            "gridcolor": "white",
            "gridwidth": 2,
            "linecolor": "white",
            "showbackground": true,
            "ticks": "",
            "zerolinecolor": "white"
           },
           "yaxis": {
            "backgroundcolor": "#E5ECF6",
            "gridcolor": "white",
            "gridwidth": 2,
            "linecolor": "white",
            "showbackground": true,
            "ticks": "",
            "zerolinecolor": "white"
           },
           "zaxis": {
            "backgroundcolor": "#E5ECF6",
            "gridcolor": "white",
            "gridwidth": 2,
            "linecolor": "white",
            "showbackground": true,
            "ticks": "",
            "zerolinecolor": "white"
           }
          },
          "shapedefaults": {
           "line": {
            "color": "#2a3f5f"
           }
          },
          "ternary": {
           "aaxis": {
            "gridcolor": "white",
            "linecolor": "white",
            "ticks": ""
           },
           "baxis": {
            "gridcolor": "white",
            "linecolor": "white",
            "ticks": ""
           },
           "bgcolor": "#E5ECF6",
           "caxis": {
            "gridcolor": "white",
            "linecolor": "white",
            "ticks": ""
           }
          },
          "title": {
           "x": 0.05
          },
          "xaxis": {
           "automargin": true,
           "gridcolor": "white",
           "linecolor": "white",
           "ticks": "",
           "title": {
            "standoff": 15
           },
           "zerolinecolor": "white",
           "zerolinewidth": 2
          },
          "yaxis": {
           "automargin": true,
           "gridcolor": "white",
           "linecolor": "white",
           "ticks": "",
           "title": {
            "standoff": 15
           },
           "zerolinecolor": "white",
           "zerolinewidth": 2
          }
         }
        },
        "width": 650
       }
      },
      "text/html": [
       "<div>                            <div id=\"15548538-ce33-4d0b-bd22-7067596390f4\" class=\"plotly-graph-div\" style=\"height:400px; width:650px;\"></div>            <script type=\"text/javascript\">                require([\"plotly\"], function(Plotly) {                    window.PLOTLYENV=window.PLOTLYENV || {};                                    if (document.getElementById(\"15548538-ce33-4d0b-bd22-7067596390f4\")) {                    Plotly.newPlot(                        \"15548538-ce33-4d0b-bd22-7067596390f4\",                        [{\"labels\":[\"Threat\",\"Bod. inj.\",\"Rape of vuln.\",\"Psy. viol.\",\"Viol. of urgent protect. meas.\"],\"marker\":{\"colors\":[\"#BA1F4C\",\"#9373AE\",\"#41A7C4\",\"#D68E4A\",\"#889684\",\"#96C84E\",\"#352DA7\",\"#691D73\",\"#D4BE8E\",\"#386E0D\",\"#BF4F7F\",\"#AC3516\",\"#3A6CC6\",\"#295A96\",\"#DBB1C3\"],\"line\":{\"color\":\"white\"}},\"pull\":0.03,\"textfont\":{\"size\":15},\"textinfo\":\"percent\",\"textposition\":\"inside\",\"values\":[108996,67112,14986,5818,5476],\"type\":\"pie\"}],                        {\"font\":{\"size\":15},\"height\":400,\"legend\":{\"bgcolor\":\"#FFF5EE\"},\"margin\":{\"b\":10,\"l\":10,\"r\":10,\"t\":10},\"paper_bgcolor\":\"white\",\"plot_bgcolor\":\"#FFF5EE\",\"scene\":{\"aspectmode\":\"cube\"},\"template\":{\"data\":{\"barpolar\":[{\"marker\":{\"line\":{\"color\":\"#E5ECF6\",\"width\":0.5},\"pattern\":{\"fillmode\":\"overlay\",\"size\":10,\"solidity\":0.2}},\"type\":\"barpolar\"}],\"bar\":[{\"error_x\":{\"color\":\"#2a3f5f\"},\"error_y\":{\"color\":\"#2a3f5f\"},\"marker\":{\"line\":{\"color\":\"#E5ECF6\",\"width\":0.5},\"pattern\":{\"fillmode\":\"overlay\",\"size\":10,\"solidity\":0.2}},\"type\":\"bar\"}],\"carpet\":[{\"aaxis\":{\"endlinecolor\":\"#2a3f5f\",\"gridcolor\":\"white\",\"linecolor\":\"white\",\"minorgridcolor\":\"white\",\"startlinecolor\":\"#2a3f5f\"},\"baxis\":{\"endlinecolor\":\"#2a3f5f\",\"gridcolor\":\"white\",\"linecolor\":\"white\",\"minorgridcolor\":\"white\",\"startlinecolor\":\"#2a3f5f\"},\"type\":\"carpet\"}],\"choropleth\":[{\"colorbar\":{\"outlinewidth\":0,\"ticks\":\"\"},\"type\":\"choropleth\"}],\"contourcarpet\":[{\"colorbar\":{\"outlinewidth\":0,\"ticks\":\"\"},\"type\":\"contourcarpet\"}],\"contour\":[{\"colorbar\":{\"outlinewidth\":0,\"ticks\":\"\"},\"colorscale\":[[0.0,\"#0d0887\"],[0.1111111111111111,\"#46039f\"],[0.2222222222222222,\"#7201a8\"],[0.3333333333333333,\"#9c179e\"],[0.4444444444444444,\"#bd3786\"],[0.5555555555555556,\"#d8576b\"],[0.6666666666666666,\"#ed7953\"],[0.7777777777777778,\"#fb9f3a\"],[0.8888888888888888,\"#fdca26\"],[1.0,\"#f0f921\"]],\"type\":\"contour\"}],\"heatmapgl\":[{\"colorbar\":{\"outlinewidth\":0,\"ticks\":\"\"},\"colorscale\":[[0.0,\"#0d0887\"],[0.1111111111111111,\"#46039f\"],[0.2222222222222222,\"#7201a8\"],[0.3333333333333333,\"#9c179e\"],[0.4444444444444444,\"#bd3786\"],[0.5555555555555556,\"#d8576b\"],[0.6666666666666666,\"#ed7953\"],[0.7777777777777778,\"#fb9f3a\"],[0.8888888888888888,\"#fdca26\"],[1.0,\"#f0f921\"]],\"type\":\"heatmapgl\"}],\"heatmap\":[{\"colorbar\":{\"outlinewidth\":0,\"ticks\":\"\"},\"colorscale\":[[0.0,\"#0d0887\"],[0.1111111111111111,\"#46039f\"],[0.2222222222222222,\"#7201a8\"],[0.3333333333333333,\"#9c179e\"],[0.4444444444444444,\"#bd3786\"],[0.5555555555555556,\"#d8576b\"],[0.6666666666666666,\"#ed7953\"],[0.7777777777777778,\"#fb9f3a\"],[0.8888888888888888,\"#fdca26\"],[1.0,\"#f0f921\"]],\"type\":\"heatmap\"}],\"histogram2dcontour\":[{\"colorbar\":{\"outlinewidth\":0,\"ticks\":\"\"},\"colorscale\":[[0.0,\"#0d0887\"],[0.1111111111111111,\"#46039f\"],[0.2222222222222222,\"#7201a8\"],[0.3333333333333333,\"#9c179e\"],[0.4444444444444444,\"#bd3786\"],[0.5555555555555556,\"#d8576b\"],[0.6666666666666666,\"#ed7953\"],[0.7777777777777778,\"#fb9f3a\"],[0.8888888888888888,\"#fdca26\"],[1.0,\"#f0f921\"]],\"type\":\"histogram2dcontour\"}],\"histogram2d\":[{\"colorbar\":{\"outlinewidth\":0,\"ticks\":\"\"},\"colorscale\":[[0.0,\"#0d0887\"],[0.1111111111111111,\"#46039f\"],[0.2222222222222222,\"#7201a8\"],[0.3333333333333333,\"#9c179e\"],[0.4444444444444444,\"#bd3786\"],[0.5555555555555556,\"#d8576b\"],[0.6666666666666666,\"#ed7953\"],[0.7777777777777778,\"#fb9f3a\"],[0.8888888888888888,\"#fdca26\"],[1.0,\"#f0f921\"]],\"type\":\"histogram2d\"}],\"histogram\":[{\"marker\":{\"pattern\":{\"fillmode\":\"overlay\",\"size\":10,\"solidity\":0.2}},\"type\":\"histogram\"}],\"mesh3d\":[{\"colorbar\":{\"outlinewidth\":0,\"ticks\":\"\"},\"type\":\"mesh3d\"}],\"parcoords\":[{\"line\":{\"colorbar\":{\"outlinewidth\":0,\"ticks\":\"\"}},\"type\":\"parcoords\"}],\"pie\":[{\"automargin\":true,\"type\":\"pie\"}],\"scatter3d\":[{\"line\":{\"colorbar\":{\"outlinewidth\":0,\"ticks\":\"\"}},\"marker\":{\"colorbar\":{\"outlinewidth\":0,\"ticks\":\"\"}},\"type\":\"scatter3d\"}],\"scattercarpet\":[{\"marker\":{\"colorbar\":{\"outlinewidth\":0,\"ticks\":\"\"}},\"type\":\"scattercarpet\"}],\"scattergeo\":[{\"marker\":{\"colorbar\":{\"outlinewidth\":0,\"ticks\":\"\"}},\"type\":\"scattergeo\"}],\"scattergl\":[{\"marker\":{\"colorbar\":{\"outlinewidth\":0,\"ticks\":\"\"}},\"type\":\"scattergl\"}],\"scattermapbox\":[{\"marker\":{\"colorbar\":{\"outlinewidth\":0,\"ticks\":\"\"}},\"type\":\"scattermapbox\"}],\"scatterpolargl\":[{\"marker\":{\"colorbar\":{\"outlinewidth\":0,\"ticks\":\"\"}},\"type\":\"scatterpolargl\"}],\"scatterpolar\":[{\"marker\":{\"colorbar\":{\"outlinewidth\":0,\"ticks\":\"\"}},\"type\":\"scatterpolar\"}],\"scatter\":[{\"fillpattern\":{\"fillmode\":\"overlay\",\"size\":10,\"solidity\":0.2},\"type\":\"scatter\"}],\"scatterternary\":[{\"marker\":{\"colorbar\":{\"outlinewidth\":0,\"ticks\":\"\"}},\"type\":\"scatterternary\"}],\"surface\":[{\"colorbar\":{\"outlinewidth\":0,\"ticks\":\"\"},\"colorscale\":[[0.0,\"#0d0887\"],[0.1111111111111111,\"#46039f\"],[0.2222222222222222,\"#7201a8\"],[0.3333333333333333,\"#9c179e\"],[0.4444444444444444,\"#bd3786\"],[0.5555555555555556,\"#d8576b\"],[0.6666666666666666,\"#ed7953\"],[0.7777777777777778,\"#fb9f3a\"],[0.8888888888888888,\"#fdca26\"],[1.0,\"#f0f921\"]],\"type\":\"surface\"}],\"table\":[{\"cells\":{\"fill\":{\"color\":\"#EBF0F8\"},\"line\":{\"color\":\"white\"}},\"header\":{\"fill\":{\"color\":\"#C8D4E3\"},\"line\":{\"color\":\"white\"}},\"type\":\"table\"}]},\"layout\":{\"annotationdefaults\":{\"arrowcolor\":\"#2a3f5f\",\"arrowhead\":0,\"arrowwidth\":1},\"autotypenumbers\":\"strict\",\"coloraxis\":{\"colorbar\":{\"outlinewidth\":0,\"ticks\":\"\"}},\"colorscale\":{\"diverging\":[[0,\"#8e0152\"],[0.1,\"#c51b7d\"],[0.2,\"#de77ae\"],[0.3,\"#f1b6da\"],[0.4,\"#fde0ef\"],[0.5,\"#f7f7f7\"],[0.6,\"#e6f5d0\"],[0.7,\"#b8e186\"],[0.8,\"#7fbc41\"],[0.9,\"#4d9221\"],[1,\"#276419\"]],\"sequential\":[[0.0,\"#0d0887\"],[0.1111111111111111,\"#46039f\"],[0.2222222222222222,\"#7201a8\"],[0.3333333333333333,\"#9c179e\"],[0.4444444444444444,\"#bd3786\"],[0.5555555555555556,\"#d8576b\"],[0.6666666666666666,\"#ed7953\"],[0.7777777777777778,\"#fb9f3a\"],[0.8888888888888888,\"#fdca26\"],[1.0,\"#f0f921\"]],\"sequentialminus\":[[0.0,\"#0d0887\"],[0.1111111111111111,\"#46039f\"],[0.2222222222222222,\"#7201a8\"],[0.3333333333333333,\"#9c179e\"],[0.4444444444444444,\"#bd3786\"],[0.5555555555555556,\"#d8576b\"],[0.6666666666666666,\"#ed7953\"],[0.7777777777777778,\"#fb9f3a\"],[0.8888888888888888,\"#fdca26\"],[1.0,\"#f0f921\"]]},\"colorway\":[\"#636efa\",\"#EF553B\",\"#00cc96\",\"#ab63fa\",\"#FFA15A\",\"#19d3f3\",\"#FF6692\",\"#B6E880\",\"#FF97FF\",\"#FECB52\"],\"font\":{\"color\":\"#2a3f5f\"},\"geo\":{\"bgcolor\":\"white\",\"lakecolor\":\"white\",\"landcolor\":\"#E5ECF6\",\"showlakes\":true,\"showland\":true,\"subunitcolor\":\"white\"},\"hoverlabel\":{\"align\":\"left\"},\"hovermode\":\"closest\",\"mapbox\":{\"style\":\"light\"},\"paper_bgcolor\":\"white\",\"plot_bgcolor\":\"#E5ECF6\",\"polar\":{\"angularaxis\":{\"gridcolor\":\"white\",\"linecolor\":\"white\",\"ticks\":\"\"},\"bgcolor\":\"#E5ECF6\",\"radialaxis\":{\"gridcolor\":\"white\",\"linecolor\":\"white\",\"ticks\":\"\"}},\"scene\":{\"xaxis\":{\"backgroundcolor\":\"#E5ECF6\",\"gridcolor\":\"white\",\"gridwidth\":2,\"linecolor\":\"white\",\"showbackground\":true,\"ticks\":\"\",\"zerolinecolor\":\"white\"},\"yaxis\":{\"backgroundcolor\":\"#E5ECF6\",\"gridcolor\":\"white\",\"gridwidth\":2,\"linecolor\":\"white\",\"showbackground\":true,\"ticks\":\"\",\"zerolinecolor\":\"white\"},\"zaxis\":{\"backgroundcolor\":\"#E5ECF6\",\"gridcolor\":\"white\",\"gridwidth\":2,\"linecolor\":\"white\",\"showbackground\":true,\"ticks\":\"\",\"zerolinecolor\":\"white\"}},\"shapedefaults\":{\"line\":{\"color\":\"#2a3f5f\"}},\"ternary\":{\"aaxis\":{\"gridcolor\":\"white\",\"linecolor\":\"white\",\"ticks\":\"\"},\"baxis\":{\"gridcolor\":\"white\",\"linecolor\":\"white\",\"ticks\":\"\"},\"bgcolor\":\"#E5ECF6\",\"caxis\":{\"gridcolor\":\"white\",\"linecolor\":\"white\",\"ticks\":\"\"}},\"title\":{\"x\":0.05},\"xaxis\":{\"automargin\":true,\"gridcolor\":\"white\",\"linecolor\":\"white\",\"ticks\":\"\",\"title\":{\"standoff\":15},\"zerolinecolor\":\"white\",\"zerolinewidth\":2},\"yaxis\":{\"automargin\":true,\"gridcolor\":\"white\",\"linecolor\":\"white\",\"ticks\":\"\",\"title\":{\"standoff\":15},\"zerolinecolor\":\"white\",\"zerolinewidth\":2}}},\"width\":650},                        {\"responsive\": true}                    ).then(function(){\n",
       "                            \n",
       "var gd = document.getElementById('15548538-ce33-4d0b-bd22-7067596390f4');\n",
       "var x = new MutationObserver(function (mutations, observer) {{\n",
       "        var display = window.getComputedStyle(gd).display;\n",
       "        if (!display || display === 'none') {{\n",
       "            console.log([gd, 'removed!']);\n",
       "            Plotly.purge(gd);\n",
       "            observer.disconnect();\n",
       "        }}\n",
       "}});\n",
       "\n",
       "// Listen for the removal of the full notebook cells\n",
       "var notebookContainer = gd.closest('#notebook-container');\n",
       "if (notebookContainer) {{\n",
       "    x.observe(notebookContainer, {childList: true});\n",
       "}}\n",
       "\n",
       "// Listen for the clearing of the current output cell\n",
       "var outputEl = gd.closest('.output');\n",
       "if (outputEl) {{\n",
       "    x.observe(outputEl, {childList: true});\n",
       "}}\n",
       "\n",
       "                        })                };                });            </script>        </div>"
      ]
     },
     "metadata": {},
     "output_type": "display_data"
    }
   ],
   "source": [
    "crimes_frequentes = crimes_selecionados_para_df['consolidado'].value_counts().head(5)\n",
    "\n",
    "fig = go.Figure(data=[go.Pie(labels=crimes_frequentes.index, values=crimes_frequentes.values,marker=dict(colors=custom_palette))])\n",
    "\n",
    "fig.update_layout(#title= 'Crimes mais frequêntes contra a mulher',\n",
    "                 margin=dict(l=10, r=10, t=10, b=10), font=dict(size=15),  \n",
    "                  scene=dict(aspectmode=\"cube\"),\n",
    "                 height=400, width=650,\n",
    "    plot_bgcolor='#FFF5EE',paper_bgcolor='white', legend=dict(bgcolor='#FFF5EE'))\n",
    "\n",
    "fig.update_traces(textinfo='percent', pull=0.03, textposition='inside',\n",
    "                  marker=dict(line=dict(color='white')),\n",
    "                  textfont=dict(size=15))\n",
    "\n",
    "#fig.write_image(\"imagens/5_crimes_frequentes.jpeg\", format=\"jpeg\", scale=5)\n",
    "\n",
    "py.iplot(fig)\n",
    "#fig.write_image(\"imagens_svg/crimes_mais_frequentes.svg\")"
   ]
  },
  {
   "cell_type": "markdown",
   "metadata": {},
   "source": [
    "- Crimes ao longo dos anos"
   ]
  },
  {
   "cell_type": "code",
   "execution_count": 90,
   "metadata": {},
   "outputs": [
    {
     "data": {
      "text/html": [
       "<div>\n",
       "<style scoped>\n",
       "    .dataframe tbody tr th:only-of-type {\n",
       "        vertical-align: middle;\n",
       "    }\n",
       "\n",
       "    .dataframe tbody tr th {\n",
       "        vertical-align: top;\n",
       "    }\n",
       "\n",
       "    .dataframe thead th {\n",
       "        text-align: right;\n",
       "    }\n",
       "</style>\n",
       "<table border=\"1\" class=\"dataframe\">\n",
       "  <thead>\n",
       "    <tr style=\"text-align: right;\">\n",
       "      <th></th>\n",
       "      <th>consolidado</th>\n",
       "      <th>ano_fato</th>\n",
       "      <th>ocorrencias</th>\n",
       "    </tr>\n",
       "  </thead>\n",
       "  <tbody>\n",
       "    <tr>\n",
       "      <th>0</th>\n",
       "      <td>Bod. inj.</td>\n",
       "      <td>2019</td>\n",
       "      <td>13481</td>\n",
       "    </tr>\n",
       "    <tr>\n",
       "      <th>1</th>\n",
       "      <td>Bod. inj.</td>\n",
       "      <td>2020</td>\n",
       "      <td>11646</td>\n",
       "    </tr>\n",
       "    <tr>\n",
       "      <th>2</th>\n",
       "      <td>Bod. inj.</td>\n",
       "      <td>2021</td>\n",
       "      <td>12215</td>\n",
       "    </tr>\n",
       "    <tr>\n",
       "      <th>3</th>\n",
       "      <td>Bod. inj.</td>\n",
       "      <td>2022</td>\n",
       "      <td>14004</td>\n",
       "    </tr>\n",
       "    <tr>\n",
       "      <th>4</th>\n",
       "      <td>Bod. inj.</td>\n",
       "      <td>2023</td>\n",
       "      <td>15766</td>\n",
       "    </tr>\n",
       "    <tr>\n",
       "      <th>5</th>\n",
       "      <td>Psy. viol.</td>\n",
       "      <td>2019</td>\n",
       "      <td>429</td>\n",
       "    </tr>\n",
       "    <tr>\n",
       "      <th>6</th>\n",
       "      <td>Psy. viol.</td>\n",
       "      <td>2020</td>\n",
       "      <td>693</td>\n",
       "    </tr>\n",
       "    <tr>\n",
       "      <th>7</th>\n",
       "      <td>Psy. viol.</td>\n",
       "      <td>2021</td>\n",
       "      <td>782</td>\n",
       "    </tr>\n",
       "    <tr>\n",
       "      <th>8</th>\n",
       "      <td>Psy. viol.</td>\n",
       "      <td>2022</td>\n",
       "      <td>1892</td>\n",
       "    </tr>\n",
       "    <tr>\n",
       "      <th>9</th>\n",
       "      <td>Psy. viol.</td>\n",
       "      <td>2023</td>\n",
       "      <td>2022</td>\n",
       "    </tr>\n",
       "    <tr>\n",
       "      <th>10</th>\n",
       "      <td>Rape of vuln.</td>\n",
       "      <td>2019</td>\n",
       "      <td>2480</td>\n",
       "    </tr>\n",
       "    <tr>\n",
       "      <th>11</th>\n",
       "      <td>Rape of vuln.</td>\n",
       "      <td>2020</td>\n",
       "      <td>2288</td>\n",
       "    </tr>\n",
       "    <tr>\n",
       "      <th>12</th>\n",
       "      <td>Rape of vuln.</td>\n",
       "      <td>2021</td>\n",
       "      <td>2947</td>\n",
       "    </tr>\n",
       "    <tr>\n",
       "      <th>13</th>\n",
       "      <td>Rape of vuln.</td>\n",
       "      <td>2022</td>\n",
       "      <td>3332</td>\n",
       "    </tr>\n",
       "    <tr>\n",
       "      <th>14</th>\n",
       "      <td>Rape of vuln.</td>\n",
       "      <td>2023</td>\n",
       "      <td>3939</td>\n",
       "    </tr>\n",
       "    <tr>\n",
       "      <th>15</th>\n",
       "      <td>Threat</td>\n",
       "      <td>2019</td>\n",
       "      <td>19741</td>\n",
       "    </tr>\n",
       "    <tr>\n",
       "      <th>16</th>\n",
       "      <td>Threat</td>\n",
       "      <td>2020</td>\n",
       "      <td>19267</td>\n",
       "    </tr>\n",
       "    <tr>\n",
       "      <th>17</th>\n",
       "      <td>Threat</td>\n",
       "      <td>2021</td>\n",
       "      <td>21253</td>\n",
       "    </tr>\n",
       "    <tr>\n",
       "      <th>18</th>\n",
       "      <td>Threat</td>\n",
       "      <td>2022</td>\n",
       "      <td>22053</td>\n",
       "    </tr>\n",
       "    <tr>\n",
       "      <th>19</th>\n",
       "      <td>Threat</td>\n",
       "      <td>2023</td>\n",
       "      <td>26682</td>\n",
       "    </tr>\n",
       "    <tr>\n",
       "      <th>20</th>\n",
       "      <td>Viol. of urgent protect. meas.</td>\n",
       "      <td>2020</td>\n",
       "      <td>791</td>\n",
       "    </tr>\n",
       "    <tr>\n",
       "      <th>21</th>\n",
       "      <td>Viol. of urgent protect. meas.</td>\n",
       "      <td>2021</td>\n",
       "      <td>1049</td>\n",
       "    </tr>\n",
       "    <tr>\n",
       "      <th>22</th>\n",
       "      <td>Viol. of urgent protect. meas.</td>\n",
       "      <td>2022</td>\n",
       "      <td>1444</td>\n",
       "    </tr>\n",
       "    <tr>\n",
       "      <th>23</th>\n",
       "      <td>Viol. of urgent protect. meas.</td>\n",
       "      <td>2023</td>\n",
       "      <td>2192</td>\n",
       "    </tr>\n",
       "  </tbody>\n",
       "</table>\n",
       "</div>"
      ],
      "text/plain": [
       "                       consolidado  ano_fato  ocorrencias\n",
       "0                        Bod. inj.      2019        13481\n",
       "1                        Bod. inj.      2020        11646\n",
       "2                        Bod. inj.      2021        12215\n",
       "3                        Bod. inj.      2022        14004\n",
       "4                        Bod. inj.      2023        15766\n",
       "5                       Psy. viol.      2019          429\n",
       "6                       Psy. viol.      2020          693\n",
       "7                       Psy. viol.      2021          782\n",
       "8                       Psy. viol.      2022         1892\n",
       "9                       Psy. viol.      2023         2022\n",
       "10                   Rape of vuln.      2019         2480\n",
       "11                   Rape of vuln.      2020         2288\n",
       "12                   Rape of vuln.      2021         2947\n",
       "13                   Rape of vuln.      2022         3332\n",
       "14                   Rape of vuln.      2023         3939\n",
       "15                          Threat      2019        19741\n",
       "16                          Threat      2020        19267\n",
       "17                          Threat      2021        21253\n",
       "18                          Threat      2022        22053\n",
       "19                          Threat      2023        26682\n",
       "20  Viol. of urgent protect. meas.      2020          791\n",
       "21  Viol. of urgent protect. meas.      2021         1049\n",
       "22  Viol. of urgent protect. meas.      2022         1444\n",
       "23  Viol. of urgent protect. meas.      2023         2192"
      ]
     },
     "execution_count": 90,
     "metadata": {},
     "output_type": "execute_result"
    }
   ],
   "source": [
    "df1 = crimes_selecionados_para_df[crimes_selecionados_para_df['consolidado'].isin(crimes_selecionados_para_df['consolidado'].value_counts().head(5).index)]\n",
    "agrupado_periodo = df1.groupby(['consolidado', 'ano_fato']).size().reset_index(name='ocorrencias')\n",
    "agrupado_periodo"
   ]
  },
  {
   "cell_type": "code",
   "execution_count": 91,
   "metadata": {},
   "outputs": [],
   "source": [
    "agrupado_periodo_ordenado = agrupado_periodo.sort_values(by=['ano_fato', 'ocorrencias'], ascending=[True, False])"
   ]
  },
  {
   "cell_type": "code",
   "execution_count": 92,
   "metadata": {},
   "outputs": [
    {
     "data": {
      "text/html": [
       "<div>\n",
       "<style scoped>\n",
       "    .dataframe tbody tr th:only-of-type {\n",
       "        vertical-align: middle;\n",
       "    }\n",
       "\n",
       "    .dataframe tbody tr th {\n",
       "        vertical-align: top;\n",
       "    }\n",
       "\n",
       "    .dataframe thead th {\n",
       "        text-align: right;\n",
       "    }\n",
       "</style>\n",
       "<table border=\"1\" class=\"dataframe\">\n",
       "  <thead>\n",
       "    <tr style=\"text-align: right;\">\n",
       "      <th>consolidado</th>\n",
       "      <th>Abortion</th>\n",
       "      <th>Attempted Murder</th>\n",
       "      <th>Attempted femicide</th>\n",
       "      <th>Bod. inj.</th>\n",
       "      <th>Child sexual exploitation</th>\n",
       "      <th>Distribution of rape footage</th>\n",
       "      <th>Domestic violence</th>\n",
       "      <th>Femicide</th>\n",
       "      <th>Harassment</th>\n",
       "      <th>Moral violence</th>\n",
       "      <th>...</th>\n",
       "      <th>Physical violence</th>\n",
       "      <th>Property violence</th>\n",
       "      <th>Psy. viol.</th>\n",
       "      <th>Rape</th>\n",
       "      <th>Rape of vuln.</th>\n",
       "      <th>Sex. har.</th>\n",
       "      <th>Sexual coercion</th>\n",
       "      <th>Threat</th>\n",
       "      <th>Viol. of protect. meas.</th>\n",
       "      <th>Viol. of urgent protect. meas.</th>\n",
       "    </tr>\n",
       "    <tr>\n",
       "      <th>ano_fato</th>\n",
       "      <th></th>\n",
       "      <th></th>\n",
       "      <th></th>\n",
       "      <th></th>\n",
       "      <th></th>\n",
       "      <th></th>\n",
       "      <th></th>\n",
       "      <th></th>\n",
       "      <th></th>\n",
       "      <th></th>\n",
       "      <th></th>\n",
       "      <th></th>\n",
       "      <th></th>\n",
       "      <th></th>\n",
       "      <th></th>\n",
       "      <th></th>\n",
       "      <th></th>\n",
       "      <th></th>\n",
       "      <th></th>\n",
       "      <th></th>\n",
       "      <th></th>\n",
       "    </tr>\n",
       "  </thead>\n",
       "  <tbody>\n",
       "    <tr>\n",
       "      <th>2019</th>\n",
       "      <td>2</td>\n",
       "      <td>186</td>\n",
       "      <td>164</td>\n",
       "      <td>13481</td>\n",
       "      <td>0</td>\n",
       "      <td>16</td>\n",
       "      <td>1</td>\n",
       "      <td>48</td>\n",
       "      <td>0</td>\n",
       "      <td>121</td>\n",
       "      <td>...</td>\n",
       "      <td>8</td>\n",
       "      <td>6</td>\n",
       "      <td>429</td>\n",
       "      <td>786</td>\n",
       "      <td>2480</td>\n",
       "      <td>584</td>\n",
       "      <td>165</td>\n",
       "      <td>19741</td>\n",
       "      <td>818</td>\n",
       "      <td>0</td>\n",
       "    </tr>\n",
       "    <tr>\n",
       "      <th>2020</th>\n",
       "      <td>1</td>\n",
       "      <td>62</td>\n",
       "      <td>249</td>\n",
       "      <td>11646</td>\n",
       "      <td>5</td>\n",
       "      <td>48</td>\n",
       "      <td>11</td>\n",
       "      <td>61</td>\n",
       "      <td>3</td>\n",
       "      <td>123</td>\n",
       "      <td>...</td>\n",
       "      <td>78</td>\n",
       "      <td>17</td>\n",
       "      <td>693</td>\n",
       "      <td>713</td>\n",
       "      <td>2288</td>\n",
       "      <td>589</td>\n",
       "      <td>155</td>\n",
       "      <td>19267</td>\n",
       "      <td>3</td>\n",
       "      <td>791</td>\n",
       "    </tr>\n",
       "    <tr>\n",
       "      <th>2021</th>\n",
       "      <td>2</td>\n",
       "      <td>95</td>\n",
       "      <td>122</td>\n",
       "      <td>12215</td>\n",
       "      <td>19</td>\n",
       "      <td>143</td>\n",
       "      <td>11</td>\n",
       "      <td>64</td>\n",
       "      <td>0</td>\n",
       "      <td>131</td>\n",
       "      <td>...</td>\n",
       "      <td>85</td>\n",
       "      <td>68</td>\n",
       "      <td>782</td>\n",
       "      <td>710</td>\n",
       "      <td>2947</td>\n",
       "      <td>810</td>\n",
       "      <td>188</td>\n",
       "      <td>21253</td>\n",
       "      <td>1</td>\n",
       "      <td>1049</td>\n",
       "    </tr>\n",
       "    <tr>\n",
       "      <th>2022</th>\n",
       "      <td>5</td>\n",
       "      <td>124</td>\n",
       "      <td>191</td>\n",
       "      <td>14004</td>\n",
       "      <td>21</td>\n",
       "      <td>243</td>\n",
       "      <td>0</td>\n",
       "      <td>49</td>\n",
       "      <td>0</td>\n",
       "      <td>242</td>\n",
       "      <td>...</td>\n",
       "      <td>0</td>\n",
       "      <td>139</td>\n",
       "      <td>1892</td>\n",
       "      <td>761</td>\n",
       "      <td>3332</td>\n",
       "      <td>1028</td>\n",
       "      <td>180</td>\n",
       "      <td>22053</td>\n",
       "      <td>14</td>\n",
       "      <td>1444</td>\n",
       "    </tr>\n",
       "    <tr>\n",
       "      <th>2023</th>\n",
       "      <td>11</td>\n",
       "      <td>197</td>\n",
       "      <td>253</td>\n",
       "      <td>15766</td>\n",
       "      <td>36</td>\n",
       "      <td>328</td>\n",
       "      <td>0</td>\n",
       "      <td>54</td>\n",
       "      <td>0</td>\n",
       "      <td>48</td>\n",
       "      <td>...</td>\n",
       "      <td>0</td>\n",
       "      <td>0</td>\n",
       "      <td>2022</td>\n",
       "      <td>912</td>\n",
       "      <td>3939</td>\n",
       "      <td>1375</td>\n",
       "      <td>185</td>\n",
       "      <td>26682</td>\n",
       "      <td>115</td>\n",
       "      <td>2192</td>\n",
       "    </tr>\n",
       "  </tbody>\n",
       "</table>\n",
       "<p>5 rows × 21 columns</p>\n",
       "</div>"
      ],
      "text/plain": [
       "consolidado  Abortion  Attempted Murder  Attempted femicide  Bod. inj.  \\\n",
       "ano_fato                                                                 \n",
       "2019                2               186                 164      13481   \n",
       "2020                1                62                 249      11646   \n",
       "2021                2                95                 122      12215   \n",
       "2022                5               124                 191      14004   \n",
       "2023               11               197                 253      15766   \n",
       "\n",
       "consolidado  Child sexual exploitation  Distribution of rape footage  \\\n",
       "ano_fato                                                               \n",
       "2019                                 0                            16   \n",
       "2020                                 5                            48   \n",
       "2021                                19                           143   \n",
       "2022                                21                           243   \n",
       "2023                                36                           328   \n",
       "\n",
       "consolidado  Domestic violence  Femicide  Harassment  Moral violence  ...  \\\n",
       "ano_fato                                                              ...   \n",
       "2019                         1        48           0             121  ...   \n",
       "2020                        11        61           3             123  ...   \n",
       "2021                        11        64           0             131  ...   \n",
       "2022                         0        49           0             242  ...   \n",
       "2023                         0        54           0              48  ...   \n",
       "\n",
       "consolidado  Physical violence  Property violence  Psy. viol.  Rape  \\\n",
       "ano_fato                                                              \n",
       "2019                         8                  6         429   786   \n",
       "2020                        78                 17         693   713   \n",
       "2021                        85                 68         782   710   \n",
       "2022                         0                139        1892   761   \n",
       "2023                         0                  0        2022   912   \n",
       "\n",
       "consolidado  Rape of vuln.  Sex. har.  Sexual coercion  Threat  \\\n",
       "ano_fato                                                         \n",
       "2019                  2480        584              165   19741   \n",
       "2020                  2288        589              155   19267   \n",
       "2021                  2947        810              188   21253   \n",
       "2022                  3332       1028              180   22053   \n",
       "2023                  3939       1375              185   26682   \n",
       "\n",
       "consolidado  Viol. of protect. meas.  Viol. of urgent protect. meas.  \n",
       "ano_fato                                                              \n",
       "2019                             818                               0  \n",
       "2020                               3                             791  \n",
       "2021                               1                            1049  \n",
       "2022                              14                            1444  \n",
       "2023                             115                            2192  \n",
       "\n",
       "[5 rows x 21 columns]"
      ]
     },
     "execution_count": 92,
     "metadata": {},
     "output_type": "execute_result"
    }
   ],
   "source": [
    "df_filtro_crimes = crimes_selecionados_para_df.groupby(['ano_fato','consolidado']).size().unstack(fill_value=0)\n",
    "df_filtro_crimes.sort_index(ascending=True)"
   ]
  },
  {
   "cell_type": "code",
   "execution_count": 93,
   "metadata": {},
   "outputs": [
    {
     "data": {
      "text/html": [
       "<div>\n",
       "<style scoped>\n",
       "    .dataframe tbody tr th:only-of-type {\n",
       "        vertical-align: middle;\n",
       "    }\n",
       "\n",
       "    .dataframe tbody tr th {\n",
       "        vertical-align: top;\n",
       "    }\n",
       "\n",
       "    .dataframe thead th {\n",
       "        text-align: right;\n",
       "    }\n",
       "</style>\n",
       "<table border=\"1\" class=\"dataframe\">\n",
       "  <thead>\n",
       "    <tr style=\"text-align: right;\">\n",
       "      <th></th>\n",
       "      <th>ano_fato</th>\n",
       "      <th>mes_fato</th>\n",
       "      <th>consolidado</th>\n",
       "    </tr>\n",
       "  </thead>\n",
       "  <tbody>\n",
       "    <tr>\n",
       "      <th>0</th>\n",
       "      <td>2019</td>\n",
       "      <td>NOVEMBRO</td>\n",
       "      <td>Bod. inj.</td>\n",
       "    </tr>\n",
       "    <tr>\n",
       "      <th>1</th>\n",
       "      <td>2019</td>\n",
       "      <td>JUNHO</td>\n",
       "      <td>Bod. inj.</td>\n",
       "    </tr>\n",
       "    <tr>\n",
       "      <th>2</th>\n",
       "      <td>2019</td>\n",
       "      <td>MARCO</td>\n",
       "      <td>Bod. inj.</td>\n",
       "    </tr>\n",
       "    <tr>\n",
       "      <th>3</th>\n",
       "      <td>2019</td>\n",
       "      <td>FEVEREIRO</td>\n",
       "      <td>Threat</td>\n",
       "    </tr>\n",
       "    <tr>\n",
       "      <th>4</th>\n",
       "      <td>2019</td>\n",
       "      <td>JUNHO</td>\n",
       "      <td>Threat</td>\n",
       "    </tr>\n",
       "  </tbody>\n",
       "</table>\n",
       "</div>"
      ],
      "text/plain": [
       "   ano_fato   mes_fato consolidado\n",
       "0      2019   NOVEMBRO   Bod. inj.\n",
       "1      2019      JUNHO   Bod. inj.\n",
       "2      2019      MARCO   Bod. inj.\n",
       "3      2019  FEVEREIRO      Threat\n",
       "4      2019      JUNHO      Threat"
      ]
     },
     "execution_count": 93,
     "metadata": {},
     "output_type": "execute_result"
    }
   ],
   "source": [
    "df_mes = crimes_selecionados_para_df[['ano_fato', 'mes_fato', 'consolidado']].copy()\n",
    "df_mes.head()"
   ]
  },
  {
   "cell_type": "code",
   "execution_count": 94,
   "metadata": {},
   "outputs": [
    {
     "data": {
      "text/html": [
       "<div>\n",
       "<style scoped>\n",
       "    .dataframe tbody tr th:only-of-type {\n",
       "        vertical-align: middle;\n",
       "    }\n",
       "\n",
       "    .dataframe tbody tr th {\n",
       "        vertical-align: top;\n",
       "    }\n",
       "\n",
       "    .dataframe thead th {\n",
       "        text-align: right;\n",
       "    }\n",
       "</style>\n",
       "<table border=\"1\" class=\"dataframe\">\n",
       "  <thead>\n",
       "    <tr style=\"text-align: right;\">\n",
       "      <th></th>\n",
       "      <th>mes_fato</th>\n",
       "      <th>ano_fato</th>\n",
       "      <th>consolidado</th>\n",
       "    </tr>\n",
       "  </thead>\n",
       "  <tbody>\n",
       "    <tr>\n",
       "      <th>0</th>\n",
       "      <td>ABRIL</td>\n",
       "      <td>2019</td>\n",
       "      <td>3257</td>\n",
       "    </tr>\n",
       "    <tr>\n",
       "      <th>1</th>\n",
       "      <td>ABRIL</td>\n",
       "      <td>2020</td>\n",
       "      <td>2154</td>\n",
       "    </tr>\n",
       "    <tr>\n",
       "      <th>2</th>\n",
       "      <td>ABRIL</td>\n",
       "      <td>2021</td>\n",
       "      <td>3389</td>\n",
       "    </tr>\n",
       "    <tr>\n",
       "      <th>3</th>\n",
       "      <td>ABRIL</td>\n",
       "      <td>2022</td>\n",
       "      <td>3359</td>\n",
       "    </tr>\n",
       "    <tr>\n",
       "      <th>4</th>\n",
       "      <td>ABRIL</td>\n",
       "      <td>2023</td>\n",
       "      <td>4890</td>\n",
       "    </tr>\n",
       "    <tr>\n",
       "      <th>5</th>\n",
       "      <td>AGOSTO</td>\n",
       "      <td>2019</td>\n",
       "      <td>3086</td>\n",
       "    </tr>\n",
       "    <tr>\n",
       "      <th>6</th>\n",
       "      <td>AGOSTO</td>\n",
       "      <td>2020</td>\n",
       "      <td>3531</td>\n",
       "    </tr>\n",
       "    <tr>\n",
       "      <th>7</th>\n",
       "      <td>AGOSTO</td>\n",
       "      <td>2021</td>\n",
       "      <td>3849</td>\n",
       "    </tr>\n",
       "    <tr>\n",
       "      <th>8</th>\n",
       "      <td>AGOSTO</td>\n",
       "      <td>2022</td>\n",
       "      <td>4566</td>\n",
       "    </tr>\n",
       "    <tr>\n",
       "      <th>9</th>\n",
       "      <td>AGOSTO</td>\n",
       "      <td>2023</td>\n",
       "      <td>4713</td>\n",
       "    </tr>\n",
       "    <tr>\n",
       "      <th>10</th>\n",
       "      <td>DEZEMBRO</td>\n",
       "      <td>2019</td>\n",
       "      <td>2961</td>\n",
       "    </tr>\n",
       "    <tr>\n",
       "      <th>11</th>\n",
       "      <td>DEZEMBRO</td>\n",
       "      <td>2020</td>\n",
       "      <td>3020</td>\n",
       "    </tr>\n",
       "    <tr>\n",
       "      <th>12</th>\n",
       "      <td>DEZEMBRO</td>\n",
       "      <td>2021</td>\n",
       "      <td>3086</td>\n",
       "    </tr>\n",
       "    <tr>\n",
       "      <th>13</th>\n",
       "      <td>DEZEMBRO</td>\n",
       "      <td>2022</td>\n",
       "      <td>3811</td>\n",
       "    </tr>\n",
       "    <tr>\n",
       "      <th>14</th>\n",
       "      <td>DEZEMBRO</td>\n",
       "      <td>2023</td>\n",
       "      <td>3620</td>\n",
       "    </tr>\n",
       "    <tr>\n",
       "      <th>15</th>\n",
       "      <td>FEVEREIRO</td>\n",
       "      <td>2019</td>\n",
       "      <td>3051</td>\n",
       "    </tr>\n",
       "    <tr>\n",
       "      <th>16</th>\n",
       "      <td>FEVEREIRO</td>\n",
       "      <td>2020</td>\n",
       "      <td>2972</td>\n",
       "    </tr>\n",
       "    <tr>\n",
       "      <th>17</th>\n",
       "      <td>FEVEREIRO</td>\n",
       "      <td>2021</td>\n",
       "      <td>2839</td>\n",
       "    </tr>\n",
       "    <tr>\n",
       "      <th>18</th>\n",
       "      <td>FEVEREIRO</td>\n",
       "      <td>2022</td>\n",
       "      <td>3151</td>\n",
       "    </tr>\n",
       "    <tr>\n",
       "      <th>19</th>\n",
       "      <td>FEVEREIRO</td>\n",
       "      <td>2023</td>\n",
       "      <td>3945</td>\n",
       "    </tr>\n",
       "    <tr>\n",
       "      <th>20</th>\n",
       "      <td>JANEIRO</td>\n",
       "      <td>2019</td>\n",
       "      <td>3176</td>\n",
       "    </tr>\n",
       "    <tr>\n",
       "      <th>21</th>\n",
       "      <td>JANEIRO</td>\n",
       "      <td>2020</td>\n",
       "      <td>2916</td>\n",
       "    </tr>\n",
       "    <tr>\n",
       "      <th>22</th>\n",
       "      <td>JANEIRO</td>\n",
       "      <td>2021</td>\n",
       "      <td>3294</td>\n",
       "    </tr>\n",
       "    <tr>\n",
       "      <th>23</th>\n",
       "      <td>JANEIRO</td>\n",
       "      <td>2022</td>\n",
       "      <td>2955</td>\n",
       "    </tr>\n",
       "    <tr>\n",
       "      <th>24</th>\n",
       "      <td>JANEIRO</td>\n",
       "      <td>2023</td>\n",
       "      <td>4249</td>\n",
       "    </tr>\n",
       "    <tr>\n",
       "      <th>25</th>\n",
       "      <td>JULHO</td>\n",
       "      <td>2019</td>\n",
       "      <td>3208</td>\n",
       "    </tr>\n",
       "    <tr>\n",
       "      <th>26</th>\n",
       "      <td>JULHO</td>\n",
       "      <td>2020</td>\n",
       "      <td>3450</td>\n",
       "    </tr>\n",
       "    <tr>\n",
       "      <th>27</th>\n",
       "      <td>JULHO</td>\n",
       "      <td>2021</td>\n",
       "      <td>3516</td>\n",
       "    </tr>\n",
       "    <tr>\n",
       "      <th>28</th>\n",
       "      <td>JULHO</td>\n",
       "      <td>2022</td>\n",
       "      <td>3803</td>\n",
       "    </tr>\n",
       "    <tr>\n",
       "      <th>29</th>\n",
       "      <td>JULHO</td>\n",
       "      <td>2023</td>\n",
       "      <td>4636</td>\n",
       "    </tr>\n",
       "    <tr>\n",
       "      <th>30</th>\n",
       "      <td>JUNHO</td>\n",
       "      <td>2019</td>\n",
       "      <td>3476</td>\n",
       "    </tr>\n",
       "    <tr>\n",
       "      <th>31</th>\n",
       "      <td>JUNHO</td>\n",
       "      <td>2020</td>\n",
       "      <td>3216</td>\n",
       "    </tr>\n",
       "    <tr>\n",
       "      <th>32</th>\n",
       "      <td>JUNHO</td>\n",
       "      <td>2021</td>\n",
       "      <td>3334</td>\n",
       "    </tr>\n",
       "    <tr>\n",
       "      <th>33</th>\n",
       "      <td>JUNHO</td>\n",
       "      <td>2022</td>\n",
       "      <td>3659</td>\n",
       "    </tr>\n",
       "    <tr>\n",
       "      <th>34</th>\n",
       "      <td>JUNHO</td>\n",
       "      <td>2023</td>\n",
       "      <td>4796</td>\n",
       "    </tr>\n",
       "    <tr>\n",
       "      <th>35</th>\n",
       "      <td>MAIO</td>\n",
       "      <td>2019</td>\n",
       "      <td>3414</td>\n",
       "    </tr>\n",
       "    <tr>\n",
       "      <th>36</th>\n",
       "      <td>MAIO</td>\n",
       "      <td>2020</td>\n",
       "      <td>2644</td>\n",
       "    </tr>\n",
       "    <tr>\n",
       "      <th>37</th>\n",
       "      <td>MAIO</td>\n",
       "      <td>2021</td>\n",
       "      <td>3673</td>\n",
       "    </tr>\n",
       "    <tr>\n",
       "      <th>38</th>\n",
       "      <td>MAIO</td>\n",
       "      <td>2022</td>\n",
       "      <td>3921</td>\n",
       "    </tr>\n",
       "    <tr>\n",
       "      <th>39</th>\n",
       "      <td>MAIO</td>\n",
       "      <td>2023</td>\n",
       "      <td>5025</td>\n",
       "    </tr>\n",
       "    <tr>\n",
       "      <th>40</th>\n",
       "      <td>MARCO</td>\n",
       "      <td>2019</td>\n",
       "      <td>3284</td>\n",
       "    </tr>\n",
       "    <tr>\n",
       "      <th>41</th>\n",
       "      <td>MARCO</td>\n",
       "      <td>2020</td>\n",
       "      <td>2562</td>\n",
       "    </tr>\n",
       "    <tr>\n",
       "      <th>42</th>\n",
       "      <td>MARCO</td>\n",
       "      <td>2021</td>\n",
       "      <td>3063</td>\n",
       "    </tr>\n",
       "    <tr>\n",
       "      <th>43</th>\n",
       "      <td>MARCO</td>\n",
       "      <td>2022</td>\n",
       "      <td>3360</td>\n",
       "    </tr>\n",
       "    <tr>\n",
       "      <th>44</th>\n",
       "      <td>MARCO</td>\n",
       "      <td>2023</td>\n",
       "      <td>4411</td>\n",
       "    </tr>\n",
       "    <tr>\n",
       "      <th>45</th>\n",
       "      <td>NOVEMBRO</td>\n",
       "      <td>2019</td>\n",
       "      <td>3349</td>\n",
       "    </tr>\n",
       "    <tr>\n",
       "      <th>46</th>\n",
       "      <td>NOVEMBRO</td>\n",
       "      <td>2020</td>\n",
       "      <td>3498</td>\n",
       "    </tr>\n",
       "    <tr>\n",
       "      <th>47</th>\n",
       "      <td>NOVEMBRO</td>\n",
       "      <td>2021</td>\n",
       "      <td>3569</td>\n",
       "    </tr>\n",
       "    <tr>\n",
       "      <th>48</th>\n",
       "      <td>NOVEMBRO</td>\n",
       "      <td>2022</td>\n",
       "      <td>4148</td>\n",
       "    </tr>\n",
       "    <tr>\n",
       "      <th>49</th>\n",
       "      <td>NOVEMBRO</td>\n",
       "      <td>2023</td>\n",
       "      <td>4565</td>\n",
       "    </tr>\n",
       "    <tr>\n",
       "      <th>50</th>\n",
       "      <td>OUTUBRO</td>\n",
       "      <td>2019</td>\n",
       "      <td>3477</td>\n",
       "    </tr>\n",
       "    <tr>\n",
       "      <th>51</th>\n",
       "      <td>OUTUBRO</td>\n",
       "      <td>2020</td>\n",
       "      <td>3599</td>\n",
       "    </tr>\n",
       "    <tr>\n",
       "      <th>52</th>\n",
       "      <td>OUTUBRO</td>\n",
       "      <td>2021</td>\n",
       "      <td>3695</td>\n",
       "    </tr>\n",
       "    <tr>\n",
       "      <th>53</th>\n",
       "      <td>OUTUBRO</td>\n",
       "      <td>2022</td>\n",
       "      <td>4619</td>\n",
       "    </tr>\n",
       "    <tr>\n",
       "      <th>54</th>\n",
       "      <td>OUTUBRO</td>\n",
       "      <td>2023</td>\n",
       "      <td>4808</td>\n",
       "    </tr>\n",
       "    <tr>\n",
       "      <th>55</th>\n",
       "      <td>SETEMBRO</td>\n",
       "      <td>2019</td>\n",
       "      <td>3543</td>\n",
       "    </tr>\n",
       "    <tr>\n",
       "      <th>56</th>\n",
       "      <td>SETEMBRO</td>\n",
       "      <td>2020</td>\n",
       "      <td>3376</td>\n",
       "    </tr>\n",
       "    <tr>\n",
       "      <th>57</th>\n",
       "      <td>SETEMBRO</td>\n",
       "      <td>2021</td>\n",
       "      <td>3529</td>\n",
       "    </tr>\n",
       "    <tr>\n",
       "      <th>58</th>\n",
       "      <td>SETEMBRO</td>\n",
       "      <td>2022</td>\n",
       "      <td>4518</td>\n",
       "    </tr>\n",
       "    <tr>\n",
       "      <th>59</th>\n",
       "      <td>SETEMBRO</td>\n",
       "      <td>2023</td>\n",
       "      <td>4589</td>\n",
       "    </tr>\n",
       "  </tbody>\n",
       "</table>\n",
       "</div>"
      ],
      "text/plain": [
       "     mes_fato  ano_fato  consolidado\n",
       "0       ABRIL      2019         3257\n",
       "1       ABRIL      2020         2154\n",
       "2       ABRIL      2021         3389\n",
       "3       ABRIL      2022         3359\n",
       "4       ABRIL      2023         4890\n",
       "5      AGOSTO      2019         3086\n",
       "6      AGOSTO      2020         3531\n",
       "7      AGOSTO      2021         3849\n",
       "8      AGOSTO      2022         4566\n",
       "9      AGOSTO      2023         4713\n",
       "10   DEZEMBRO      2019         2961\n",
       "11   DEZEMBRO      2020         3020\n",
       "12   DEZEMBRO      2021         3086\n",
       "13   DEZEMBRO      2022         3811\n",
       "14   DEZEMBRO      2023         3620\n",
       "15  FEVEREIRO      2019         3051\n",
       "16  FEVEREIRO      2020         2972\n",
       "17  FEVEREIRO      2021         2839\n",
       "18  FEVEREIRO      2022         3151\n",
       "19  FEVEREIRO      2023         3945\n",
       "20    JANEIRO      2019         3176\n",
       "21    JANEIRO      2020         2916\n",
       "22    JANEIRO      2021         3294\n",
       "23    JANEIRO      2022         2955\n",
       "24    JANEIRO      2023         4249\n",
       "25      JULHO      2019         3208\n",
       "26      JULHO      2020         3450\n",
       "27      JULHO      2021         3516\n",
       "28      JULHO      2022         3803\n",
       "29      JULHO      2023         4636\n",
       "30      JUNHO      2019         3476\n",
       "31      JUNHO      2020         3216\n",
       "32      JUNHO      2021         3334\n",
       "33      JUNHO      2022         3659\n",
       "34      JUNHO      2023         4796\n",
       "35       MAIO      2019         3414\n",
       "36       MAIO      2020         2644\n",
       "37       MAIO      2021         3673\n",
       "38       MAIO      2022         3921\n",
       "39       MAIO      2023         5025\n",
       "40      MARCO      2019         3284\n",
       "41      MARCO      2020         2562\n",
       "42      MARCO      2021         3063\n",
       "43      MARCO      2022         3360\n",
       "44      MARCO      2023         4411\n",
       "45   NOVEMBRO      2019         3349\n",
       "46   NOVEMBRO      2020         3498\n",
       "47   NOVEMBRO      2021         3569\n",
       "48   NOVEMBRO      2022         4148\n",
       "49   NOVEMBRO      2023         4565\n",
       "50    OUTUBRO      2019         3477\n",
       "51    OUTUBRO      2020         3599\n",
       "52    OUTUBRO      2021         3695\n",
       "53    OUTUBRO      2022         4619\n",
       "54    OUTUBRO      2023         4808\n",
       "55   SETEMBRO      2019         3543\n",
       "56   SETEMBRO      2020         3376\n",
       "57   SETEMBRO      2021         3529\n",
       "58   SETEMBRO      2022         4518\n",
       "59   SETEMBRO      2023         4589"
      ]
     },
     "execution_count": 94,
     "metadata": {},
     "output_type": "execute_result"
    }
   ],
   "source": [
    "grupo_mes = df_mes.groupby(['mes_fato', 'ano_fato']).count().reset_index()\n",
    "grupo_mes"
   ]
  },
  {
   "cell_type": "code",
   "execution_count": 95,
   "metadata": {},
   "outputs": [],
   "source": [
    "grupo_mes.loc[grupo_mes.mes_fato == \"JANEIRO\",'mes_fato'] = 'a - JANEIRO'\n",
    "grupo_mes.loc[grupo_mes.mes_fato == \"FEVEREIRO\",'mes_fato'] = 'b - FEVEREIRO'\n",
    "grupo_mes.loc[grupo_mes.mes_fato == \"MARCO\",'mes_fato'] = 'c - MARCO'\n",
    "grupo_mes.loc[grupo_mes.mes_fato == \"ABRIL\",'mes_fato'] = 'd - ABRIL'\n",
    "grupo_mes.loc[grupo_mes.mes_fato == \"MAIO\",'mes_fato'] = 'e - MAIO'\n",
    "grupo_mes.loc[grupo_mes.mes_fato == \"JUNHO\",'mes_fato'] = 'f - JUNHO'\n",
    "grupo_mes.loc[grupo_mes.mes_fato == \"JULHO\",'mes_fato'] = 'g - JULHO'\n",
    "grupo_mes.loc[grupo_mes.mes_fato == \"AGOSTO\",'mes_fato'] = 'h - AGOSTO'\n",
    "grupo_mes.loc[grupo_mes.mes_fato == \"SETEMBRO\",'mes_fato'] = 'i - SETEMBRO'\n",
    "grupo_mes.loc[grupo_mes.mes_fato == \"OUTUBRO\",'mes_fato'] = 'j - OUTUBRO'\n",
    "grupo_mes.loc[grupo_mes.mes_fato == \"NOVEMBRO\",'mes_fato'] = 'k - NOVEMBRO'\n",
    "grupo_mes.loc[grupo_mes.mes_fato == \"DEZEMBRO\",'mes_fato'] = 'l - DEZEMBRO'\n",
    "\n",
    "grupo_mes.sort_values(by=['mes_fato'], inplace=True)"
   ]
  },
  {
   "cell_type": "code",
   "execution_count": 96,
   "metadata": {},
   "outputs": [],
   "source": [
    "grupo_mes.loc[grupo_mes.mes_fato == \"a - JANEIRO\",'mes_fato'] = 'JANEIRO'\n",
    "grupo_mes.loc[grupo_mes.mes_fato == \"b - FEVEREIRO\",'mes_fato'] = 'FEVEREIRO'\n",
    "grupo_mes.loc[grupo_mes.mes_fato == \"c - MARCO\",'mes_fato'] = 'MARCO'\n",
    "grupo_mes.loc[grupo_mes.mes_fato == \"d - ABRIL\",'mes_fato'] = 'ABRIL'\n",
    "grupo_mes.loc[grupo_mes.mes_fato == \"e - MAIO\",'mes_fato'] = 'MAIO'\n",
    "grupo_mes.loc[grupo_mes.mes_fato == \"f - JUNHO\",'mes_fato'] = 'JUNHO'\n",
    "grupo_mes.loc[grupo_mes.mes_fato == \"g - JULHO\",'mes_fato'] = 'JULHO'\n",
    "grupo_mes.loc[grupo_mes.mes_fato == \"h - AGOSTO\",'mes_fato'] = 'AGOSTO'\n",
    "grupo_mes.loc[grupo_mes.mes_fato == \"i - SETEMBRO\",'mes_fato'] = 'SETEMBRO'\n",
    "grupo_mes.loc[grupo_mes.mes_fato == \"j - OUTUBRO\",'mes_fato'] = 'OUTUBRO'\n",
    "grupo_mes.loc[grupo_mes.mes_fato == \"k - NOVEMBRO\",'mes_fato'] = 'NOVEMBRO'\n",
    "grupo_mes.loc[grupo_mes.mes_fato == \"l - DEZEMBRO\",'mes_fato'] = 'DEZEMBRO'"
   ]
  },
  {
   "cell_type": "code",
   "execution_count": 97,
   "metadata": {},
   "outputs": [
    {
     "data": {
      "text/html": [
       "<div>\n",
       "<style scoped>\n",
       "    .dataframe tbody tr th:only-of-type {\n",
       "        vertical-align: middle;\n",
       "    }\n",
       "\n",
       "    .dataframe tbody tr th {\n",
       "        vertical-align: top;\n",
       "    }\n",
       "\n",
       "    .dataframe thead th {\n",
       "        text-align: right;\n",
       "    }\n",
       "</style>\n",
       "<table border=\"1\" class=\"dataframe\">\n",
       "  <thead>\n",
       "    <tr style=\"text-align: right;\">\n",
       "      <th></th>\n",
       "      <th>mes_fato</th>\n",
       "      <th>ano_fato</th>\n",
       "      <th>consolidado</th>\n",
       "    </tr>\n",
       "  </thead>\n",
       "  <tbody>\n",
       "    <tr>\n",
       "      <th>0</th>\n",
       "      <td>JANEIRO</td>\n",
       "      <td>2019</td>\n",
       "      <td>3176</td>\n",
       "    </tr>\n",
       "    <tr>\n",
       "      <th>1</th>\n",
       "      <td>JANEIRO</td>\n",
       "      <td>2020</td>\n",
       "      <td>2916</td>\n",
       "    </tr>\n",
       "    <tr>\n",
       "      <th>2</th>\n",
       "      <td>JANEIRO</td>\n",
       "      <td>2021</td>\n",
       "      <td>3294</td>\n",
       "    </tr>\n",
       "    <tr>\n",
       "      <th>3</th>\n",
       "      <td>JANEIRO</td>\n",
       "      <td>2022</td>\n",
       "      <td>2955</td>\n",
       "    </tr>\n",
       "    <tr>\n",
       "      <th>4</th>\n",
       "      <td>JANEIRO</td>\n",
       "      <td>2023</td>\n",
       "      <td>4249</td>\n",
       "    </tr>\n",
       "    <tr>\n",
       "      <th>5</th>\n",
       "      <td>FEVEREIRO</td>\n",
       "      <td>2023</td>\n",
       "      <td>3945</td>\n",
       "    </tr>\n",
       "    <tr>\n",
       "      <th>6</th>\n",
       "      <td>FEVEREIRO</td>\n",
       "      <td>2021</td>\n",
       "      <td>2839</td>\n",
       "    </tr>\n",
       "    <tr>\n",
       "      <th>7</th>\n",
       "      <td>FEVEREIRO</td>\n",
       "      <td>2020</td>\n",
       "      <td>2972</td>\n",
       "    </tr>\n",
       "    <tr>\n",
       "      <th>8</th>\n",
       "      <td>FEVEREIRO</td>\n",
       "      <td>2019</td>\n",
       "      <td>3051</td>\n",
       "    </tr>\n",
       "    <tr>\n",
       "      <th>9</th>\n",
       "      <td>FEVEREIRO</td>\n",
       "      <td>2022</td>\n",
       "      <td>3151</td>\n",
       "    </tr>\n",
       "    <tr>\n",
       "      <th>10</th>\n",
       "      <td>MARCO</td>\n",
       "      <td>2019</td>\n",
       "      <td>3284</td>\n",
       "    </tr>\n",
       "    <tr>\n",
       "      <th>11</th>\n",
       "      <td>MARCO</td>\n",
       "      <td>2021</td>\n",
       "      <td>3063</td>\n",
       "    </tr>\n",
       "    <tr>\n",
       "      <th>12</th>\n",
       "      <td>MARCO</td>\n",
       "      <td>2022</td>\n",
       "      <td>3360</td>\n",
       "    </tr>\n",
       "    <tr>\n",
       "      <th>13</th>\n",
       "      <td>MARCO</td>\n",
       "      <td>2023</td>\n",
       "      <td>4411</td>\n",
       "    </tr>\n",
       "    <tr>\n",
       "      <th>14</th>\n",
       "      <td>MARCO</td>\n",
       "      <td>2020</td>\n",
       "      <td>2562</td>\n",
       "    </tr>\n",
       "    <tr>\n",
       "      <th>15</th>\n",
       "      <td>ABRIL</td>\n",
       "      <td>2023</td>\n",
       "      <td>4890</td>\n",
       "    </tr>\n",
       "    <tr>\n",
       "      <th>16</th>\n",
       "      <td>ABRIL</td>\n",
       "      <td>2022</td>\n",
       "      <td>3359</td>\n",
       "    </tr>\n",
       "    <tr>\n",
       "      <th>17</th>\n",
       "      <td>ABRIL</td>\n",
       "      <td>2021</td>\n",
       "      <td>3389</td>\n",
       "    </tr>\n",
       "    <tr>\n",
       "      <th>18</th>\n",
       "      <td>ABRIL</td>\n",
       "      <td>2020</td>\n",
       "      <td>2154</td>\n",
       "    </tr>\n",
       "    <tr>\n",
       "      <th>19</th>\n",
       "      <td>ABRIL</td>\n",
       "      <td>2019</td>\n",
       "      <td>3257</td>\n",
       "    </tr>\n",
       "    <tr>\n",
       "      <th>20</th>\n",
       "      <td>MAIO</td>\n",
       "      <td>2019</td>\n",
       "      <td>3414</td>\n",
       "    </tr>\n",
       "    <tr>\n",
       "      <th>21</th>\n",
       "      <td>MAIO</td>\n",
       "      <td>2020</td>\n",
       "      <td>2644</td>\n",
       "    </tr>\n",
       "    <tr>\n",
       "      <th>22</th>\n",
       "      <td>MAIO</td>\n",
       "      <td>2021</td>\n",
       "      <td>3673</td>\n",
       "    </tr>\n",
       "    <tr>\n",
       "      <th>23</th>\n",
       "      <td>MAIO</td>\n",
       "      <td>2022</td>\n",
       "      <td>3921</td>\n",
       "    </tr>\n",
       "    <tr>\n",
       "      <th>24</th>\n",
       "      <td>MAIO</td>\n",
       "      <td>2023</td>\n",
       "      <td>5025</td>\n",
       "    </tr>\n",
       "    <tr>\n",
       "      <th>25</th>\n",
       "      <td>JUNHO</td>\n",
       "      <td>2023</td>\n",
       "      <td>4796</td>\n",
       "    </tr>\n",
       "    <tr>\n",
       "      <th>26</th>\n",
       "      <td>JUNHO</td>\n",
       "      <td>2022</td>\n",
       "      <td>3659</td>\n",
       "    </tr>\n",
       "    <tr>\n",
       "      <th>27</th>\n",
       "      <td>JUNHO</td>\n",
       "      <td>2021</td>\n",
       "      <td>3334</td>\n",
       "    </tr>\n",
       "    <tr>\n",
       "      <th>28</th>\n",
       "      <td>JUNHO</td>\n",
       "      <td>2020</td>\n",
       "      <td>3216</td>\n",
       "    </tr>\n",
       "    <tr>\n",
       "      <th>29</th>\n",
       "      <td>JUNHO</td>\n",
       "      <td>2019</td>\n",
       "      <td>3476</td>\n",
       "    </tr>\n",
       "    <tr>\n",
       "      <th>30</th>\n",
       "      <td>JULHO</td>\n",
       "      <td>2023</td>\n",
       "      <td>4636</td>\n",
       "    </tr>\n",
       "    <tr>\n",
       "      <th>31</th>\n",
       "      <td>JULHO</td>\n",
       "      <td>2022</td>\n",
       "      <td>3803</td>\n",
       "    </tr>\n",
       "    <tr>\n",
       "      <th>32</th>\n",
       "      <td>JULHO</td>\n",
       "      <td>2021</td>\n",
       "      <td>3516</td>\n",
       "    </tr>\n",
       "    <tr>\n",
       "      <th>33</th>\n",
       "      <td>JULHO</td>\n",
       "      <td>2020</td>\n",
       "      <td>3450</td>\n",
       "    </tr>\n",
       "    <tr>\n",
       "      <th>34</th>\n",
       "      <td>JULHO</td>\n",
       "      <td>2019</td>\n",
       "      <td>3208</td>\n",
       "    </tr>\n",
       "    <tr>\n",
       "      <th>35</th>\n",
       "      <td>AGOSTO</td>\n",
       "      <td>2019</td>\n",
       "      <td>3086</td>\n",
       "    </tr>\n",
       "    <tr>\n",
       "      <th>36</th>\n",
       "      <td>AGOSTO</td>\n",
       "      <td>2023</td>\n",
       "      <td>4713</td>\n",
       "    </tr>\n",
       "    <tr>\n",
       "      <th>37</th>\n",
       "      <td>AGOSTO</td>\n",
       "      <td>2022</td>\n",
       "      <td>4566</td>\n",
       "    </tr>\n",
       "    <tr>\n",
       "      <th>38</th>\n",
       "      <td>AGOSTO</td>\n",
       "      <td>2021</td>\n",
       "      <td>3849</td>\n",
       "    </tr>\n",
       "    <tr>\n",
       "      <th>39</th>\n",
       "      <td>AGOSTO</td>\n",
       "      <td>2020</td>\n",
       "      <td>3531</td>\n",
       "    </tr>\n",
       "    <tr>\n",
       "      <th>40</th>\n",
       "      <td>SETEMBRO</td>\n",
       "      <td>2021</td>\n",
       "      <td>3529</td>\n",
       "    </tr>\n",
       "    <tr>\n",
       "      <th>41</th>\n",
       "      <td>SETEMBRO</td>\n",
       "      <td>2020</td>\n",
       "      <td>3376</td>\n",
       "    </tr>\n",
       "    <tr>\n",
       "      <th>42</th>\n",
       "      <td>SETEMBRO</td>\n",
       "      <td>2019</td>\n",
       "      <td>3543</td>\n",
       "    </tr>\n",
       "    <tr>\n",
       "      <th>43</th>\n",
       "      <td>SETEMBRO</td>\n",
       "      <td>2022</td>\n",
       "      <td>4518</td>\n",
       "    </tr>\n",
       "    <tr>\n",
       "      <th>44</th>\n",
       "      <td>SETEMBRO</td>\n",
       "      <td>2023</td>\n",
       "      <td>4589</td>\n",
       "    </tr>\n",
       "    <tr>\n",
       "      <th>45</th>\n",
       "      <td>OUTUBRO</td>\n",
       "      <td>2019</td>\n",
       "      <td>3477</td>\n",
       "    </tr>\n",
       "    <tr>\n",
       "      <th>46</th>\n",
       "      <td>OUTUBRO</td>\n",
       "      <td>2020</td>\n",
       "      <td>3599</td>\n",
       "    </tr>\n",
       "    <tr>\n",
       "      <th>47</th>\n",
       "      <td>OUTUBRO</td>\n",
       "      <td>2021</td>\n",
       "      <td>3695</td>\n",
       "    </tr>\n",
       "    <tr>\n",
       "      <th>48</th>\n",
       "      <td>OUTUBRO</td>\n",
       "      <td>2022</td>\n",
       "      <td>4619</td>\n",
       "    </tr>\n",
       "    <tr>\n",
       "      <th>49</th>\n",
       "      <td>OUTUBRO</td>\n",
       "      <td>2023</td>\n",
       "      <td>4808</td>\n",
       "    </tr>\n",
       "    <tr>\n",
       "      <th>50</th>\n",
       "      <td>NOVEMBRO</td>\n",
       "      <td>2020</td>\n",
       "      <td>3498</td>\n",
       "    </tr>\n",
       "    <tr>\n",
       "      <th>51</th>\n",
       "      <td>NOVEMBRO</td>\n",
       "      <td>2021</td>\n",
       "      <td>3569</td>\n",
       "    </tr>\n",
       "    <tr>\n",
       "      <th>52</th>\n",
       "      <td>NOVEMBRO</td>\n",
       "      <td>2022</td>\n",
       "      <td>4148</td>\n",
       "    </tr>\n",
       "    <tr>\n",
       "      <th>53</th>\n",
       "      <td>NOVEMBRO</td>\n",
       "      <td>2023</td>\n",
       "      <td>4565</td>\n",
       "    </tr>\n",
       "    <tr>\n",
       "      <th>54</th>\n",
       "      <td>NOVEMBRO</td>\n",
       "      <td>2019</td>\n",
       "      <td>3349</td>\n",
       "    </tr>\n",
       "    <tr>\n",
       "      <th>55</th>\n",
       "      <td>DEZEMBRO</td>\n",
       "      <td>2020</td>\n",
       "      <td>3020</td>\n",
       "    </tr>\n",
       "    <tr>\n",
       "      <th>56</th>\n",
       "      <td>DEZEMBRO</td>\n",
       "      <td>2021</td>\n",
       "      <td>3086</td>\n",
       "    </tr>\n",
       "    <tr>\n",
       "      <th>57</th>\n",
       "      <td>DEZEMBRO</td>\n",
       "      <td>2022</td>\n",
       "      <td>3811</td>\n",
       "    </tr>\n",
       "    <tr>\n",
       "      <th>58</th>\n",
       "      <td>DEZEMBRO</td>\n",
       "      <td>2023</td>\n",
       "      <td>3620</td>\n",
       "    </tr>\n",
       "    <tr>\n",
       "      <th>59</th>\n",
       "      <td>DEZEMBRO</td>\n",
       "      <td>2019</td>\n",
       "      <td>2961</td>\n",
       "    </tr>\n",
       "  </tbody>\n",
       "</table>\n",
       "</div>"
      ],
      "text/plain": [
       "     mes_fato  ano_fato  consolidado\n",
       "0     JANEIRO      2019         3176\n",
       "1     JANEIRO      2020         2916\n",
       "2     JANEIRO      2021         3294\n",
       "3     JANEIRO      2022         2955\n",
       "4     JANEIRO      2023         4249\n",
       "5   FEVEREIRO      2023         3945\n",
       "6   FEVEREIRO      2021         2839\n",
       "7   FEVEREIRO      2020         2972\n",
       "8   FEVEREIRO      2019         3051\n",
       "9   FEVEREIRO      2022         3151\n",
       "10      MARCO      2019         3284\n",
       "11      MARCO      2021         3063\n",
       "12      MARCO      2022         3360\n",
       "13      MARCO      2023         4411\n",
       "14      MARCO      2020         2562\n",
       "15      ABRIL      2023         4890\n",
       "16      ABRIL      2022         3359\n",
       "17      ABRIL      2021         3389\n",
       "18      ABRIL      2020         2154\n",
       "19      ABRIL      2019         3257\n",
       "20       MAIO      2019         3414\n",
       "21       MAIO      2020         2644\n",
       "22       MAIO      2021         3673\n",
       "23       MAIO      2022         3921\n",
       "24       MAIO      2023         5025\n",
       "25      JUNHO      2023         4796\n",
       "26      JUNHO      2022         3659\n",
       "27      JUNHO      2021         3334\n",
       "28      JUNHO      2020         3216\n",
       "29      JUNHO      2019         3476\n",
       "30      JULHO      2023         4636\n",
       "31      JULHO      2022         3803\n",
       "32      JULHO      2021         3516\n",
       "33      JULHO      2020         3450\n",
       "34      JULHO      2019         3208\n",
       "35     AGOSTO      2019         3086\n",
       "36     AGOSTO      2023         4713\n",
       "37     AGOSTO      2022         4566\n",
       "38     AGOSTO      2021         3849\n",
       "39     AGOSTO      2020         3531\n",
       "40   SETEMBRO      2021         3529\n",
       "41   SETEMBRO      2020         3376\n",
       "42   SETEMBRO      2019         3543\n",
       "43   SETEMBRO      2022         4518\n",
       "44   SETEMBRO      2023         4589\n",
       "45    OUTUBRO      2019         3477\n",
       "46    OUTUBRO      2020         3599\n",
       "47    OUTUBRO      2021         3695\n",
       "48    OUTUBRO      2022         4619\n",
       "49    OUTUBRO      2023         4808\n",
       "50   NOVEMBRO      2020         3498\n",
       "51   NOVEMBRO      2021         3569\n",
       "52   NOVEMBRO      2022         4148\n",
       "53   NOVEMBRO      2023         4565\n",
       "54   NOVEMBRO      2019         3349\n",
       "55   DEZEMBRO      2020         3020\n",
       "56   DEZEMBRO      2021         3086\n",
       "57   DEZEMBRO      2022         3811\n",
       "58   DEZEMBRO      2023         3620\n",
       "59   DEZEMBRO      2019         2961"
      ]
     },
     "execution_count": 97,
     "metadata": {},
     "output_type": "execute_result"
    }
   ],
   "source": [
    "grupo_mes.reset_index(drop=True)"
   ]
  },
  {
   "cell_type": "code",
   "execution_count": 98,
   "metadata": {},
   "outputs": [
    {
     "data": {
      "application/vnd.plotly.v1+json": {
       "config": {
        "plotlyServerURL": "https://plot.ly"
       },
       "data": [
        {
         "hovertemplate": "Years=2019<br>Months=%{x}<br>Count=%{y}<extra></extra>",
         "legendgroup": "2019",
         "line": {
          "color": "#BA1F4C",
          "dash": "solid"
         },
         "marker": {
          "symbol": "circle"
         },
         "mode": "markers+lines",
         "name": "2019",
         "orientation": "v",
         "showlegend": true,
         "type": "scatter",
         "x": [
          "JANEIRO",
          "FEVEREIRO",
          "MARCO",
          "ABRIL",
          "MAIO",
          "JUNHO",
          "JULHO",
          "AGOSTO",
          "SETEMBRO",
          "OUTUBRO",
          "NOVEMBRO",
          "DEZEMBRO"
         ],
         "xaxis": "x",
         "y": [
          3176,
          3051,
          3284,
          3257,
          3414,
          3476,
          3208,
          3086,
          3543,
          3477,
          3349,
          2961
         ],
         "yaxis": "y"
        },
        {
         "hovertemplate": "Years=2020<br>Months=%{x}<br>Count=%{y}<extra></extra>",
         "legendgroup": "2020",
         "line": {
          "color": "#9373AE",
          "dash": "solid"
         },
         "marker": {
          "symbol": "diamond"
         },
         "mode": "markers+lines",
         "name": "2020",
         "orientation": "v",
         "showlegend": true,
         "type": "scatter",
         "x": [
          "JANEIRO",
          "FEVEREIRO",
          "MARCO",
          "ABRIL",
          "MAIO",
          "JUNHO",
          "JULHO",
          "AGOSTO",
          "SETEMBRO",
          "OUTUBRO",
          "NOVEMBRO",
          "DEZEMBRO"
         ],
         "xaxis": "x",
         "y": [
          2916,
          2972,
          2562,
          2154,
          2644,
          3216,
          3450,
          3531,
          3376,
          3599,
          3498,
          3020
         ],
         "yaxis": "y"
        },
        {
         "hovertemplate": "Years=2021<br>Months=%{x}<br>Count=%{y}<extra></extra>",
         "legendgroup": "2021",
         "line": {
          "color": "#41A7C4",
          "dash": "solid"
         },
         "marker": {
          "symbol": "square"
         },
         "mode": "markers+lines",
         "name": "2021",
         "orientation": "v",
         "showlegend": true,
         "type": "scatter",
         "x": [
          "JANEIRO",
          "FEVEREIRO",
          "MARCO",
          "ABRIL",
          "MAIO",
          "JUNHO",
          "JULHO",
          "AGOSTO",
          "SETEMBRO",
          "OUTUBRO",
          "NOVEMBRO",
          "DEZEMBRO"
         ],
         "xaxis": "x",
         "y": [
          3294,
          2839,
          3063,
          3389,
          3673,
          3334,
          3516,
          3849,
          3529,
          3695,
          3569,
          3086
         ],
         "yaxis": "y"
        },
        {
         "hovertemplate": "Years=2022<br>Months=%{x}<br>Count=%{y}<extra></extra>",
         "legendgroup": "2022",
         "line": {
          "color": "#D68E4A",
          "dash": "solid"
         },
         "marker": {
          "symbol": "x"
         },
         "mode": "markers+lines",
         "name": "2022",
         "orientation": "v",
         "showlegend": true,
         "type": "scatter",
         "x": [
          "JANEIRO",
          "FEVEREIRO",
          "MARCO",
          "ABRIL",
          "MAIO",
          "JUNHO",
          "JULHO",
          "AGOSTO",
          "SETEMBRO",
          "OUTUBRO",
          "NOVEMBRO",
          "DEZEMBRO"
         ],
         "xaxis": "x",
         "y": [
          2955,
          3151,
          3360,
          3359,
          3921,
          3659,
          3803,
          4566,
          4518,
          4619,
          4148,
          3811
         ],
         "yaxis": "y"
        },
        {
         "hovertemplate": "Years=2023<br>Months=%{x}<br>Count=%{y}<extra></extra>",
         "legendgroup": "2023",
         "line": {
          "color": "#889684",
          "dash": "solid"
         },
         "marker": {
          "symbol": "cross"
         },
         "mode": "markers+lines",
         "name": "2023",
         "orientation": "v",
         "showlegend": true,
         "type": "scatter",
         "x": [
          "JANEIRO",
          "FEVEREIRO",
          "MARCO",
          "ABRIL",
          "MAIO",
          "JUNHO",
          "JULHO",
          "AGOSTO",
          "SETEMBRO",
          "OUTUBRO",
          "NOVEMBRO",
          "DEZEMBRO"
         ],
         "xaxis": "x",
         "y": [
          4249,
          3945,
          4411,
          4890,
          5025,
          4796,
          4636,
          4713,
          4589,
          4808,
          4565,
          3620
         ],
         "yaxis": "y"
        }
       ],
       "layout": {
        "font": {
         "size": 15
        },
        "height": 400,
        "legend": {
         "bgcolor": "#ebe4f7",
         "title": {
          "text": "Years"
         },
         "tracegroupgap": 0
        },
        "margin": {
         "b": 10,
         "l": 10,
         "r": 10,
         "t": 10
        },
        "paper_bgcolor": "white",
        "plot_bgcolor": "#ebe4f7",
        "template": {
         "data": {
          "bar": [
           {
            "error_x": {
             "color": "#2a3f5f"
            },
            "error_y": {
             "color": "#2a3f5f"
            },
            "marker": {
             "line": {
              "color": "#E5ECF6",
              "width": 0.5
             },
             "pattern": {
              "fillmode": "overlay",
              "size": 10,
              "solidity": 0.2
             }
            },
            "type": "bar"
           }
          ],
          "barpolar": [
           {
            "marker": {
             "line": {
              "color": "#E5ECF6",
              "width": 0.5
             },
             "pattern": {
              "fillmode": "overlay",
              "size": 10,
              "solidity": 0.2
             }
            },
            "type": "barpolar"
           }
          ],
          "carpet": [
           {
            "aaxis": {
             "endlinecolor": "#2a3f5f",
             "gridcolor": "white",
             "linecolor": "white",
             "minorgridcolor": "white",
             "startlinecolor": "#2a3f5f"
            },
            "baxis": {
             "endlinecolor": "#2a3f5f",
             "gridcolor": "white",
             "linecolor": "white",
             "minorgridcolor": "white",
             "startlinecolor": "#2a3f5f"
            },
            "type": "carpet"
           }
          ],
          "choropleth": [
           {
            "colorbar": {
             "outlinewidth": 0,
             "ticks": ""
            },
            "type": "choropleth"
           }
          ],
          "contour": [
           {
            "colorbar": {
             "outlinewidth": 0,
             "ticks": ""
            },
            "colorscale": [
             [
              0,
              "#0d0887"
             ],
             [
              0.1111111111111111,
              "#46039f"
             ],
             [
              0.2222222222222222,
              "#7201a8"
             ],
             [
              0.3333333333333333,
              "#9c179e"
             ],
             [
              0.4444444444444444,
              "#bd3786"
             ],
             [
              0.5555555555555556,
              "#d8576b"
             ],
             [
              0.6666666666666666,
              "#ed7953"
             ],
             [
              0.7777777777777778,
              "#fb9f3a"
             ],
             [
              0.8888888888888888,
              "#fdca26"
             ],
             [
              1,
              "#f0f921"
             ]
            ],
            "type": "contour"
           }
          ],
          "contourcarpet": [
           {
            "colorbar": {
             "outlinewidth": 0,
             "ticks": ""
            },
            "type": "contourcarpet"
           }
          ],
          "heatmap": [
           {
            "colorbar": {
             "outlinewidth": 0,
             "ticks": ""
            },
            "colorscale": [
             [
              0,
              "#0d0887"
             ],
             [
              0.1111111111111111,
              "#46039f"
             ],
             [
              0.2222222222222222,
              "#7201a8"
             ],
             [
              0.3333333333333333,
              "#9c179e"
             ],
             [
              0.4444444444444444,
              "#bd3786"
             ],
             [
              0.5555555555555556,
              "#d8576b"
             ],
             [
              0.6666666666666666,
              "#ed7953"
             ],
             [
              0.7777777777777778,
              "#fb9f3a"
             ],
             [
              0.8888888888888888,
              "#fdca26"
             ],
             [
              1,
              "#f0f921"
             ]
            ],
            "type": "heatmap"
           }
          ],
          "heatmapgl": [
           {
            "colorbar": {
             "outlinewidth": 0,
             "ticks": ""
            },
            "colorscale": [
             [
              0,
              "#0d0887"
             ],
             [
              0.1111111111111111,
              "#46039f"
             ],
             [
              0.2222222222222222,
              "#7201a8"
             ],
             [
              0.3333333333333333,
              "#9c179e"
             ],
             [
              0.4444444444444444,
              "#bd3786"
             ],
             [
              0.5555555555555556,
              "#d8576b"
             ],
             [
              0.6666666666666666,
              "#ed7953"
             ],
             [
              0.7777777777777778,
              "#fb9f3a"
             ],
             [
              0.8888888888888888,
              "#fdca26"
             ],
             [
              1,
              "#f0f921"
             ]
            ],
            "type": "heatmapgl"
           }
          ],
          "histogram": [
           {
            "marker": {
             "pattern": {
              "fillmode": "overlay",
              "size": 10,
              "solidity": 0.2
             }
            },
            "type": "histogram"
           }
          ],
          "histogram2d": [
           {
            "colorbar": {
             "outlinewidth": 0,
             "ticks": ""
            },
            "colorscale": [
             [
              0,
              "#0d0887"
             ],
             [
              0.1111111111111111,
              "#46039f"
             ],
             [
              0.2222222222222222,
              "#7201a8"
             ],
             [
              0.3333333333333333,
              "#9c179e"
             ],
             [
              0.4444444444444444,
              "#bd3786"
             ],
             [
              0.5555555555555556,
              "#d8576b"
             ],
             [
              0.6666666666666666,
              "#ed7953"
             ],
             [
              0.7777777777777778,
              "#fb9f3a"
             ],
             [
              0.8888888888888888,
              "#fdca26"
             ],
             [
              1,
              "#f0f921"
             ]
            ],
            "type": "histogram2d"
           }
          ],
          "histogram2dcontour": [
           {
            "colorbar": {
             "outlinewidth": 0,
             "ticks": ""
            },
            "colorscale": [
             [
              0,
              "#0d0887"
             ],
             [
              0.1111111111111111,
              "#46039f"
             ],
             [
              0.2222222222222222,
              "#7201a8"
             ],
             [
              0.3333333333333333,
              "#9c179e"
             ],
             [
              0.4444444444444444,
              "#bd3786"
             ],
             [
              0.5555555555555556,
              "#d8576b"
             ],
             [
              0.6666666666666666,
              "#ed7953"
             ],
             [
              0.7777777777777778,
              "#fb9f3a"
             ],
             [
              0.8888888888888888,
              "#fdca26"
             ],
             [
              1,
              "#f0f921"
             ]
            ],
            "type": "histogram2dcontour"
           }
          ],
          "mesh3d": [
           {
            "colorbar": {
             "outlinewidth": 0,
             "ticks": ""
            },
            "type": "mesh3d"
           }
          ],
          "parcoords": [
           {
            "line": {
             "colorbar": {
              "outlinewidth": 0,
              "ticks": ""
             }
            },
            "type": "parcoords"
           }
          ],
          "pie": [
           {
            "automargin": true,
            "type": "pie"
           }
          ],
          "scatter": [
           {
            "fillpattern": {
             "fillmode": "overlay",
             "size": 10,
             "solidity": 0.2
            },
            "type": "scatter"
           }
          ],
          "scatter3d": [
           {
            "line": {
             "colorbar": {
              "outlinewidth": 0,
              "ticks": ""
             }
            },
            "marker": {
             "colorbar": {
              "outlinewidth": 0,
              "ticks": ""
             }
            },
            "type": "scatter3d"
           }
          ],
          "scattercarpet": [
           {
            "marker": {
             "colorbar": {
              "outlinewidth": 0,
              "ticks": ""
             }
            },
            "type": "scattercarpet"
           }
          ],
          "scattergeo": [
           {
            "marker": {
             "colorbar": {
              "outlinewidth": 0,
              "ticks": ""
             }
            },
            "type": "scattergeo"
           }
          ],
          "scattergl": [
           {
            "marker": {
             "colorbar": {
              "outlinewidth": 0,
              "ticks": ""
             }
            },
            "type": "scattergl"
           }
          ],
          "scattermapbox": [
           {
            "marker": {
             "colorbar": {
              "outlinewidth": 0,
              "ticks": ""
             }
            },
            "type": "scattermapbox"
           }
          ],
          "scatterpolar": [
           {
            "marker": {
             "colorbar": {
              "outlinewidth": 0,
              "ticks": ""
             }
            },
            "type": "scatterpolar"
           }
          ],
          "scatterpolargl": [
           {
            "marker": {
             "colorbar": {
              "outlinewidth": 0,
              "ticks": ""
             }
            },
            "type": "scatterpolargl"
           }
          ],
          "scatterternary": [
           {
            "marker": {
             "colorbar": {
              "outlinewidth": 0,
              "ticks": ""
             }
            },
            "type": "scatterternary"
           }
          ],
          "surface": [
           {
            "colorbar": {
             "outlinewidth": 0,
             "ticks": ""
            },
            "colorscale": [
             [
              0,
              "#0d0887"
             ],
             [
              0.1111111111111111,
              "#46039f"
             ],
             [
              0.2222222222222222,
              "#7201a8"
             ],
             [
              0.3333333333333333,
              "#9c179e"
             ],
             [
              0.4444444444444444,
              "#bd3786"
             ],
             [
              0.5555555555555556,
              "#d8576b"
             ],
             [
              0.6666666666666666,
              "#ed7953"
             ],
             [
              0.7777777777777778,
              "#fb9f3a"
             ],
             [
              0.8888888888888888,
              "#fdca26"
             ],
             [
              1,
              "#f0f921"
             ]
            ],
            "type": "surface"
           }
          ],
          "table": [
           {
            "cells": {
             "fill": {
              "color": "#EBF0F8"
             },
             "line": {
              "color": "white"
             }
            },
            "header": {
             "fill": {
              "color": "#C8D4E3"
             },
             "line": {
              "color": "white"
             }
            },
            "type": "table"
           }
          ]
         },
         "layout": {
          "annotationdefaults": {
           "arrowcolor": "#2a3f5f",
           "arrowhead": 0,
           "arrowwidth": 1
          },
          "autotypenumbers": "strict",
          "coloraxis": {
           "colorbar": {
            "outlinewidth": 0,
            "ticks": ""
           }
          },
          "colorscale": {
           "diverging": [
            [
             0,
             "#8e0152"
            ],
            [
             0.1,
             "#c51b7d"
            ],
            [
             0.2,
             "#de77ae"
            ],
            [
             0.3,
             "#f1b6da"
            ],
            [
             0.4,
             "#fde0ef"
            ],
            [
             0.5,
             "#f7f7f7"
            ],
            [
             0.6,
             "#e6f5d0"
            ],
            [
             0.7,
             "#b8e186"
            ],
            [
             0.8,
             "#7fbc41"
            ],
            [
             0.9,
             "#4d9221"
            ],
            [
             1,
             "#276419"
            ]
           ],
           "sequential": [
            [
             0,
             "#0d0887"
            ],
            [
             0.1111111111111111,
             "#46039f"
            ],
            [
             0.2222222222222222,
             "#7201a8"
            ],
            [
             0.3333333333333333,
             "#9c179e"
            ],
            [
             0.4444444444444444,
             "#bd3786"
            ],
            [
             0.5555555555555556,
             "#d8576b"
            ],
            [
             0.6666666666666666,
             "#ed7953"
            ],
            [
             0.7777777777777778,
             "#fb9f3a"
            ],
            [
             0.8888888888888888,
             "#fdca26"
            ],
            [
             1,
             "#f0f921"
            ]
           ],
           "sequentialminus": [
            [
             0,
             "#0d0887"
            ],
            [
             0.1111111111111111,
             "#46039f"
            ],
            [
             0.2222222222222222,
             "#7201a8"
            ],
            [
             0.3333333333333333,
             "#9c179e"
            ],
            [
             0.4444444444444444,
             "#bd3786"
            ],
            [
             0.5555555555555556,
             "#d8576b"
            ],
            [
             0.6666666666666666,
             "#ed7953"
            ],
            [
             0.7777777777777778,
             "#fb9f3a"
            ],
            [
             0.8888888888888888,
             "#fdca26"
            ],
            [
             1,
             "#f0f921"
            ]
           ]
          },
          "colorway": [
           "#636efa",
           "#EF553B",
           "#00cc96",
           "#ab63fa",
           "#FFA15A",
           "#19d3f3",
           "#FF6692",
           "#B6E880",
           "#FF97FF",
           "#FECB52"
          ],
          "font": {
           "color": "#2a3f5f"
          },
          "geo": {
           "bgcolor": "white",
           "lakecolor": "white",
           "landcolor": "#E5ECF6",
           "showlakes": true,
           "showland": true,
           "subunitcolor": "white"
          },
          "hoverlabel": {
           "align": "left"
          },
          "hovermode": "closest",
          "mapbox": {
           "style": "light"
          },
          "paper_bgcolor": "white",
          "plot_bgcolor": "#E5ECF6",
          "polar": {
           "angularaxis": {
            "gridcolor": "white",
            "linecolor": "white",
            "ticks": ""
           },
           "bgcolor": "#E5ECF6",
           "radialaxis": {
            "gridcolor": "white",
            "linecolor": "white",
            "ticks": ""
           }
          },
          "scene": {
           "xaxis": {
            "backgroundcolor": "#E5ECF6",
            "gridcolor": "white",
            "gridwidth": 2,
            "linecolor": "white",
            "showbackground": true,
            "ticks": "",
            "zerolinecolor": "white"
           },
           "yaxis": {
            "backgroundcolor": "#E5ECF6",
            "gridcolor": "white",
            "gridwidth": 2,
            "linecolor": "white",
            "showbackground": true,
            "ticks": "",
            "zerolinecolor": "white"
           },
           "zaxis": {
            "backgroundcolor": "#E5ECF6",
            "gridcolor": "white",
            "gridwidth": 2,
            "linecolor": "white",
            "showbackground": true,
            "ticks": "",
            "zerolinecolor": "white"
           }
          },
          "shapedefaults": {
           "line": {
            "color": "#2a3f5f"
           }
          },
          "ternary": {
           "aaxis": {
            "gridcolor": "white",
            "linecolor": "white",
            "ticks": ""
           },
           "baxis": {
            "gridcolor": "white",
            "linecolor": "white",
            "ticks": ""
           },
           "bgcolor": "#E5ECF6",
           "caxis": {
            "gridcolor": "white",
            "linecolor": "white",
            "ticks": ""
           }
          },
          "title": {
           "x": 0.05
          },
          "xaxis": {
           "automargin": true,
           "gridcolor": "white",
           "linecolor": "white",
           "ticks": "",
           "title": {
            "standoff": 15
           },
           "zerolinecolor": "white",
           "zerolinewidth": 2
          },
          "yaxis": {
           "automargin": true,
           "gridcolor": "white",
           "linecolor": "white",
           "ticks": "",
           "title": {
            "standoff": 15
           },
           "zerolinecolor": "white",
           "zerolinewidth": 2
          }
         }
        },
        "width": 650,
        "xaxis": {
         "anchor": "y",
         "domain": [
          0,
          1
         ],
         "ticktext": [
          "Jan",
          "Feb",
          "Mar",
          "Apr",
          "May",
          "Jun",
          "Jul",
          "Aug",
          "Sep",
          "Oct",
          "Nov",
          "Dec"
         ],
         "tickvals": [
          "JANEIRO",
          "FEVEREIRO",
          "MARCO",
          "ABRIL",
          "MAIO",
          "JUNHO",
          "JULHO",
          "AGOSTO",
          "SETEMBRO",
          "OUTUBRO",
          "NOVEMBRO",
          "DEZEMBRO"
         ],
         "title": {
          "text": "Months"
         }
        },
        "yaxis": {
         "anchor": "x",
         "domain": [
          0,
          1
         ],
         "title": {
          "text": ""
         }
        }
       }
      },
      "text/html": [
       "<div>                            <div id=\"1fe4bfeb-8586-4312-9c8b-64cdd24d62a9\" class=\"plotly-graph-div\" style=\"height:400px; width:650px;\"></div>            <script type=\"text/javascript\">                require([\"plotly\"], function(Plotly) {                    window.PLOTLYENV=window.PLOTLYENV || {};                                    if (document.getElementById(\"1fe4bfeb-8586-4312-9c8b-64cdd24d62a9\")) {                    Plotly.newPlot(                        \"1fe4bfeb-8586-4312-9c8b-64cdd24d62a9\",                        [{\"hovertemplate\":\"Years=2019\\u003cbr\\u003eMonths=%{x}\\u003cbr\\u003eCount=%{y}\\u003cextra\\u003e\\u003c\\u002fextra\\u003e\",\"legendgroup\":\"2019\",\"line\":{\"color\":\"#BA1F4C\",\"dash\":\"solid\"},\"marker\":{\"symbol\":\"circle\"},\"mode\":\"markers+lines\",\"name\":\"2019\",\"orientation\":\"v\",\"showlegend\":true,\"x\":[\"JANEIRO\",\"FEVEREIRO\",\"MARCO\",\"ABRIL\",\"MAIO\",\"JUNHO\",\"JULHO\",\"AGOSTO\",\"SETEMBRO\",\"OUTUBRO\",\"NOVEMBRO\",\"DEZEMBRO\"],\"xaxis\":\"x\",\"y\":[3176,3051,3284,3257,3414,3476,3208,3086,3543,3477,3349,2961],\"yaxis\":\"y\",\"type\":\"scatter\"},{\"hovertemplate\":\"Years=2020\\u003cbr\\u003eMonths=%{x}\\u003cbr\\u003eCount=%{y}\\u003cextra\\u003e\\u003c\\u002fextra\\u003e\",\"legendgroup\":\"2020\",\"line\":{\"color\":\"#9373AE\",\"dash\":\"solid\"},\"marker\":{\"symbol\":\"diamond\"},\"mode\":\"markers+lines\",\"name\":\"2020\",\"orientation\":\"v\",\"showlegend\":true,\"x\":[\"JANEIRO\",\"FEVEREIRO\",\"MARCO\",\"ABRIL\",\"MAIO\",\"JUNHO\",\"JULHO\",\"AGOSTO\",\"SETEMBRO\",\"OUTUBRO\",\"NOVEMBRO\",\"DEZEMBRO\"],\"xaxis\":\"x\",\"y\":[2916,2972,2562,2154,2644,3216,3450,3531,3376,3599,3498,3020],\"yaxis\":\"y\",\"type\":\"scatter\"},{\"hovertemplate\":\"Years=2021\\u003cbr\\u003eMonths=%{x}\\u003cbr\\u003eCount=%{y}\\u003cextra\\u003e\\u003c\\u002fextra\\u003e\",\"legendgroup\":\"2021\",\"line\":{\"color\":\"#41A7C4\",\"dash\":\"solid\"},\"marker\":{\"symbol\":\"square\"},\"mode\":\"markers+lines\",\"name\":\"2021\",\"orientation\":\"v\",\"showlegend\":true,\"x\":[\"JANEIRO\",\"FEVEREIRO\",\"MARCO\",\"ABRIL\",\"MAIO\",\"JUNHO\",\"JULHO\",\"AGOSTO\",\"SETEMBRO\",\"OUTUBRO\",\"NOVEMBRO\",\"DEZEMBRO\"],\"xaxis\":\"x\",\"y\":[3294,2839,3063,3389,3673,3334,3516,3849,3529,3695,3569,3086],\"yaxis\":\"y\",\"type\":\"scatter\"},{\"hovertemplate\":\"Years=2022\\u003cbr\\u003eMonths=%{x}\\u003cbr\\u003eCount=%{y}\\u003cextra\\u003e\\u003c\\u002fextra\\u003e\",\"legendgroup\":\"2022\",\"line\":{\"color\":\"#D68E4A\",\"dash\":\"solid\"},\"marker\":{\"symbol\":\"x\"},\"mode\":\"markers+lines\",\"name\":\"2022\",\"orientation\":\"v\",\"showlegend\":true,\"x\":[\"JANEIRO\",\"FEVEREIRO\",\"MARCO\",\"ABRIL\",\"MAIO\",\"JUNHO\",\"JULHO\",\"AGOSTO\",\"SETEMBRO\",\"OUTUBRO\",\"NOVEMBRO\",\"DEZEMBRO\"],\"xaxis\":\"x\",\"y\":[2955,3151,3360,3359,3921,3659,3803,4566,4518,4619,4148,3811],\"yaxis\":\"y\",\"type\":\"scatter\"},{\"hovertemplate\":\"Years=2023\\u003cbr\\u003eMonths=%{x}\\u003cbr\\u003eCount=%{y}\\u003cextra\\u003e\\u003c\\u002fextra\\u003e\",\"legendgroup\":\"2023\",\"line\":{\"color\":\"#889684\",\"dash\":\"solid\"},\"marker\":{\"symbol\":\"cross\"},\"mode\":\"markers+lines\",\"name\":\"2023\",\"orientation\":\"v\",\"showlegend\":true,\"x\":[\"JANEIRO\",\"FEVEREIRO\",\"MARCO\",\"ABRIL\",\"MAIO\",\"JUNHO\",\"JULHO\",\"AGOSTO\",\"SETEMBRO\",\"OUTUBRO\",\"NOVEMBRO\",\"DEZEMBRO\"],\"xaxis\":\"x\",\"y\":[4249,3945,4411,4890,5025,4796,4636,4713,4589,4808,4565,3620],\"yaxis\":\"y\",\"type\":\"scatter\"}],                        {\"template\":{\"data\":{\"histogram2dcontour\":[{\"type\":\"histogram2dcontour\",\"colorbar\":{\"outlinewidth\":0,\"ticks\":\"\"},\"colorscale\":[[0.0,\"#0d0887\"],[0.1111111111111111,\"#46039f\"],[0.2222222222222222,\"#7201a8\"],[0.3333333333333333,\"#9c179e\"],[0.4444444444444444,\"#bd3786\"],[0.5555555555555556,\"#d8576b\"],[0.6666666666666666,\"#ed7953\"],[0.7777777777777778,\"#fb9f3a\"],[0.8888888888888888,\"#fdca26\"],[1.0,\"#f0f921\"]]}],\"choropleth\":[{\"type\":\"choropleth\",\"colorbar\":{\"outlinewidth\":0,\"ticks\":\"\"}}],\"histogram2d\":[{\"type\":\"histogram2d\",\"colorbar\":{\"outlinewidth\":0,\"ticks\":\"\"},\"colorscale\":[[0.0,\"#0d0887\"],[0.1111111111111111,\"#46039f\"],[0.2222222222222222,\"#7201a8\"],[0.3333333333333333,\"#9c179e\"],[0.4444444444444444,\"#bd3786\"],[0.5555555555555556,\"#d8576b\"],[0.6666666666666666,\"#ed7953\"],[0.7777777777777778,\"#fb9f3a\"],[0.8888888888888888,\"#fdca26\"],[1.0,\"#f0f921\"]]}],\"heatmap\":[{\"type\":\"heatmap\",\"colorbar\":{\"outlinewidth\":0,\"ticks\":\"\"},\"colorscale\":[[0.0,\"#0d0887\"],[0.1111111111111111,\"#46039f\"],[0.2222222222222222,\"#7201a8\"],[0.3333333333333333,\"#9c179e\"],[0.4444444444444444,\"#bd3786\"],[0.5555555555555556,\"#d8576b\"],[0.6666666666666666,\"#ed7953\"],[0.7777777777777778,\"#fb9f3a\"],[0.8888888888888888,\"#fdca26\"],[1.0,\"#f0f921\"]]}],\"heatmapgl\":[{\"type\":\"heatmapgl\",\"colorbar\":{\"outlinewidth\":0,\"ticks\":\"\"},\"colorscale\":[[0.0,\"#0d0887\"],[0.1111111111111111,\"#46039f\"],[0.2222222222222222,\"#7201a8\"],[0.3333333333333333,\"#9c179e\"],[0.4444444444444444,\"#bd3786\"],[0.5555555555555556,\"#d8576b\"],[0.6666666666666666,\"#ed7953\"],[0.7777777777777778,\"#fb9f3a\"],[0.8888888888888888,\"#fdca26\"],[1.0,\"#f0f921\"]]}],\"contourcarpet\":[{\"type\":\"contourcarpet\",\"colorbar\":{\"outlinewidth\":0,\"ticks\":\"\"}}],\"contour\":[{\"type\":\"contour\",\"colorbar\":{\"outlinewidth\":0,\"ticks\":\"\"},\"colorscale\":[[0.0,\"#0d0887\"],[0.1111111111111111,\"#46039f\"],[0.2222222222222222,\"#7201a8\"],[0.3333333333333333,\"#9c179e\"],[0.4444444444444444,\"#bd3786\"],[0.5555555555555556,\"#d8576b\"],[0.6666666666666666,\"#ed7953\"],[0.7777777777777778,\"#fb9f3a\"],[0.8888888888888888,\"#fdca26\"],[1.0,\"#f0f921\"]]}],\"surface\":[{\"type\":\"surface\",\"colorbar\":{\"outlinewidth\":0,\"ticks\":\"\"},\"colorscale\":[[0.0,\"#0d0887\"],[0.1111111111111111,\"#46039f\"],[0.2222222222222222,\"#7201a8\"],[0.3333333333333333,\"#9c179e\"],[0.4444444444444444,\"#bd3786\"],[0.5555555555555556,\"#d8576b\"],[0.6666666666666666,\"#ed7953\"],[0.7777777777777778,\"#fb9f3a\"],[0.8888888888888888,\"#fdca26\"],[1.0,\"#f0f921\"]]}],\"mesh3d\":[{\"type\":\"mesh3d\",\"colorbar\":{\"outlinewidth\":0,\"ticks\":\"\"}}],\"scatter\":[{\"fillpattern\":{\"fillmode\":\"overlay\",\"size\":10,\"solidity\":0.2},\"type\":\"scatter\"}],\"parcoords\":[{\"type\":\"parcoords\",\"line\":{\"colorbar\":{\"outlinewidth\":0,\"ticks\":\"\"}}}],\"scatterpolargl\":[{\"type\":\"scatterpolargl\",\"marker\":{\"colorbar\":{\"outlinewidth\":0,\"ticks\":\"\"}}}],\"bar\":[{\"error_x\":{\"color\":\"#2a3f5f\"},\"error_y\":{\"color\":\"#2a3f5f\"},\"marker\":{\"line\":{\"color\":\"#E5ECF6\",\"width\":0.5},\"pattern\":{\"fillmode\":\"overlay\",\"size\":10,\"solidity\":0.2}},\"type\":\"bar\"}],\"scattergeo\":[{\"type\":\"scattergeo\",\"marker\":{\"colorbar\":{\"outlinewidth\":0,\"ticks\":\"\"}}}],\"scatterpolar\":[{\"type\":\"scatterpolar\",\"marker\":{\"colorbar\":{\"outlinewidth\":0,\"ticks\":\"\"}}}],\"histogram\":[{\"marker\":{\"pattern\":{\"fillmode\":\"overlay\",\"size\":10,\"solidity\":0.2}},\"type\":\"histogram\"}],\"scattergl\":[{\"type\":\"scattergl\",\"marker\":{\"colorbar\":{\"outlinewidth\":0,\"ticks\":\"\"}}}],\"scatter3d\":[{\"type\":\"scatter3d\",\"line\":{\"colorbar\":{\"outlinewidth\":0,\"ticks\":\"\"}},\"marker\":{\"colorbar\":{\"outlinewidth\":0,\"ticks\":\"\"}}}],\"scattermapbox\":[{\"type\":\"scattermapbox\",\"marker\":{\"colorbar\":{\"outlinewidth\":0,\"ticks\":\"\"}}}],\"scatterternary\":[{\"type\":\"scatterternary\",\"marker\":{\"colorbar\":{\"outlinewidth\":0,\"ticks\":\"\"}}}],\"scattercarpet\":[{\"type\":\"scattercarpet\",\"marker\":{\"colorbar\":{\"outlinewidth\":0,\"ticks\":\"\"}}}],\"carpet\":[{\"aaxis\":{\"endlinecolor\":\"#2a3f5f\",\"gridcolor\":\"white\",\"linecolor\":\"white\",\"minorgridcolor\":\"white\",\"startlinecolor\":\"#2a3f5f\"},\"baxis\":{\"endlinecolor\":\"#2a3f5f\",\"gridcolor\":\"white\",\"linecolor\":\"white\",\"minorgridcolor\":\"white\",\"startlinecolor\":\"#2a3f5f\"},\"type\":\"carpet\"}],\"table\":[{\"cells\":{\"fill\":{\"color\":\"#EBF0F8\"},\"line\":{\"color\":\"white\"}},\"header\":{\"fill\":{\"color\":\"#C8D4E3\"},\"line\":{\"color\":\"white\"}},\"type\":\"table\"}],\"barpolar\":[{\"marker\":{\"line\":{\"color\":\"#E5ECF6\",\"width\":0.5},\"pattern\":{\"fillmode\":\"overlay\",\"size\":10,\"solidity\":0.2}},\"type\":\"barpolar\"}],\"pie\":[{\"automargin\":true,\"type\":\"pie\"}]},\"layout\":{\"autotypenumbers\":\"strict\",\"colorway\":[\"#636efa\",\"#EF553B\",\"#00cc96\",\"#ab63fa\",\"#FFA15A\",\"#19d3f3\",\"#FF6692\",\"#B6E880\",\"#FF97FF\",\"#FECB52\"],\"font\":{\"color\":\"#2a3f5f\"},\"hovermode\":\"closest\",\"hoverlabel\":{\"align\":\"left\"},\"paper_bgcolor\":\"white\",\"plot_bgcolor\":\"#E5ECF6\",\"polar\":{\"bgcolor\":\"#E5ECF6\",\"angularaxis\":{\"gridcolor\":\"white\",\"linecolor\":\"white\",\"ticks\":\"\"},\"radialaxis\":{\"gridcolor\":\"white\",\"linecolor\":\"white\",\"ticks\":\"\"}},\"ternary\":{\"bgcolor\":\"#E5ECF6\",\"aaxis\":{\"gridcolor\":\"white\",\"linecolor\":\"white\",\"ticks\":\"\"},\"baxis\":{\"gridcolor\":\"white\",\"linecolor\":\"white\",\"ticks\":\"\"},\"caxis\":{\"gridcolor\":\"white\",\"linecolor\":\"white\",\"ticks\":\"\"}},\"coloraxis\":{\"colorbar\":{\"outlinewidth\":0,\"ticks\":\"\"}},\"colorscale\":{\"sequential\":[[0.0,\"#0d0887\"],[0.1111111111111111,\"#46039f\"],[0.2222222222222222,\"#7201a8\"],[0.3333333333333333,\"#9c179e\"],[0.4444444444444444,\"#bd3786\"],[0.5555555555555556,\"#d8576b\"],[0.6666666666666666,\"#ed7953\"],[0.7777777777777778,\"#fb9f3a\"],[0.8888888888888888,\"#fdca26\"],[1.0,\"#f0f921\"]],\"sequentialminus\":[[0.0,\"#0d0887\"],[0.1111111111111111,\"#46039f\"],[0.2222222222222222,\"#7201a8\"],[0.3333333333333333,\"#9c179e\"],[0.4444444444444444,\"#bd3786\"],[0.5555555555555556,\"#d8576b\"],[0.6666666666666666,\"#ed7953\"],[0.7777777777777778,\"#fb9f3a\"],[0.8888888888888888,\"#fdca26\"],[1.0,\"#f0f921\"]],\"diverging\":[[0,\"#8e0152\"],[0.1,\"#c51b7d\"],[0.2,\"#de77ae\"],[0.3,\"#f1b6da\"],[0.4,\"#fde0ef\"],[0.5,\"#f7f7f7\"],[0.6,\"#e6f5d0\"],[0.7,\"#b8e186\"],[0.8,\"#7fbc41\"],[0.9,\"#4d9221\"],[1,\"#276419\"]]},\"xaxis\":{\"gridcolor\":\"white\",\"linecolor\":\"white\",\"ticks\":\"\",\"title\":{\"standoff\":15},\"zerolinecolor\":\"white\",\"automargin\":true,\"zerolinewidth\":2},\"yaxis\":{\"gridcolor\":\"white\",\"linecolor\":\"white\",\"ticks\":\"\",\"title\":{\"standoff\":15},\"zerolinecolor\":\"white\",\"automargin\":true,\"zerolinewidth\":2},\"scene\":{\"xaxis\":{\"backgroundcolor\":\"#E5ECF6\",\"gridcolor\":\"white\",\"linecolor\":\"white\",\"showbackground\":true,\"ticks\":\"\",\"zerolinecolor\":\"white\",\"gridwidth\":2},\"yaxis\":{\"backgroundcolor\":\"#E5ECF6\",\"gridcolor\":\"white\",\"linecolor\":\"white\",\"showbackground\":true,\"ticks\":\"\",\"zerolinecolor\":\"white\",\"gridwidth\":2},\"zaxis\":{\"backgroundcolor\":\"#E5ECF6\",\"gridcolor\":\"white\",\"linecolor\":\"white\",\"showbackground\":true,\"ticks\":\"\",\"zerolinecolor\":\"white\",\"gridwidth\":2}},\"shapedefaults\":{\"line\":{\"color\":\"#2a3f5f\"}},\"annotationdefaults\":{\"arrowcolor\":\"#2a3f5f\",\"arrowhead\":0,\"arrowwidth\":1},\"geo\":{\"bgcolor\":\"white\",\"landcolor\":\"#E5ECF6\",\"subunitcolor\":\"white\",\"showland\":true,\"showlakes\":true,\"lakecolor\":\"white\"},\"title\":{\"x\":0.05},\"mapbox\":{\"style\":\"light\"}}},\"xaxis\":{\"anchor\":\"y\",\"domain\":[0.0,1.0],\"title\":{\"text\":\"Months\"},\"tickvals\":[\"JANEIRO\",\"FEVEREIRO\",\"MARCO\",\"ABRIL\",\"MAIO\",\"JUNHO\",\"JULHO\",\"AGOSTO\",\"SETEMBRO\",\"OUTUBRO\",\"NOVEMBRO\",\"DEZEMBRO\"],\"ticktext\":[\"Jan\",\"Feb\",\"Mar\",\"Apr\",\"May\",\"Jun\",\"Jul\",\"Aug\",\"Sep\",\"Oct\",\"Nov\",\"Dec\"]},\"yaxis\":{\"anchor\":\"x\",\"domain\":[0.0,1.0],\"title\":{\"text\":\"\"}},\"legend\":{\"title\":{\"text\":\"Years\"},\"tracegroupgap\":0,\"bgcolor\":\"#ebe4f7\"},\"margin\":{\"t\":10,\"l\":10,\"r\":10,\"b\":10},\"height\":400,\"width\":650,\"font\":{\"size\":15},\"plot_bgcolor\":\"#ebe4f7\",\"paper_bgcolor\":\"white\"},                        {\"responsive\": true}                    ).then(function(){\n",
       "                            \n",
       "var gd = document.getElementById('1fe4bfeb-8586-4312-9c8b-64cdd24d62a9');\n",
       "var x = new MutationObserver(function (mutations, observer) {{\n",
       "        var display = window.getComputedStyle(gd).display;\n",
       "        if (!display || display === 'none') {{\n",
       "            console.log([gd, 'removed!']);\n",
       "            Plotly.purge(gd);\n",
       "            observer.disconnect();\n",
       "        }}\n",
       "}});\n",
       "\n",
       "// Listen for the removal of the full notebook cells\n",
       "var notebookContainer = gd.closest('#notebook-container');\n",
       "if (notebookContainer) {{\n",
       "    x.observe(notebookContainer, {childList: true});\n",
       "}}\n",
       "\n",
       "// Listen for the clearing of the current output cell\n",
       "var outputEl = gd.closest('.output');\n",
       "if (outputEl) {{\n",
       "    x.observe(outputEl, {childList: true});\n",
       "}}\n",
       "\n",
       "                        })                };                });            </script>        </div>"
      ]
     },
     "metadata": {},
     "output_type": "display_data"
    }
   ],
   "source": [
    "fig = px.line(grupo_mes, x='mes_fato', y='consolidado', color='ano_fato', markers=True, symbol=\"ano_fato\",\n",
    "                     labels={\n",
    "                     \"consolidado\": \"Count\",\n",
    "                     \"mes_fato\": \"Months\",\n",
    "                     \"ano_fato\": \"Years\"\n",
    "                 }, height=400, width=650,\n",
    "                 color_discrete_sequence= custom_palette)\n",
    "\n",
    "fig.update_layout(margin=dict(l=10, r=10, t=10, b=10), font=dict(size=15),\n",
    "    #title='Frequência de registro de ocorrências ao longo dos anos',\n",
    "    xaxis=dict(\n",
    "        tickvals=['JANEIRO', 'FEVEREIRO', 'MARCO', 'ABRIL', 'MAIO', 'JUNHO', 'JULHO', 'AGOSTO', 'SETEMBRO', 'OUTUBRO', 'NOVEMBRO', 'DEZEMBRO'],\n",
    "        ticktext=['Jan','Feb', 'Mar', 'Apr', 'May', 'Jun', 'Jul', 'Aug', 'Sep', 'Oct', 'Nov', 'Dec'],\n",
    "    ),\n",
    "    plot_bgcolor='#ebe4f7',\n",
    "    paper_bgcolor='white', \n",
    "    legend=dict(bgcolor='#ebe4f7')\n",
    ")\n",
    "\n",
    "\n",
    "fig.update_yaxes(title='')\n",
    "#fig.write_image(\"imagens/11_frequencia_anos.jpeg\", format=\"jpeg\", scale=5)\n",
    "\n",
    "fig.show()\n",
    "#fig.write_image(\"imagens_svg/freq_por_mes_dos_anos.svg\")\n"
   ]
  },
  {
   "cell_type": "markdown",
   "metadata": {},
   "source": [
    "- Crimes por mes"
   ]
  },
  {
   "cell_type": "code",
   "execution_count": 99,
   "metadata": {},
   "outputs": [
    {
     "data": {
      "text/html": [
       "<div>\n",
       "<style scoped>\n",
       "    .dataframe tbody tr th:only-of-type {\n",
       "        vertical-align: middle;\n",
       "    }\n",
       "\n",
       "    .dataframe tbody tr th {\n",
       "        vertical-align: top;\n",
       "    }\n",
       "\n",
       "    .dataframe thead th {\n",
       "        text-align: right;\n",
       "    }\n",
       "</style>\n",
       "<table border=\"1\" class=\"dataframe\">\n",
       "  <thead>\n",
       "    <tr style=\"text-align: right;\">\n",
       "      <th></th>\n",
       "      <th>consolidado</th>\n",
       "      <th>mes_fato</th>\n",
       "      <th>ano_fato</th>\n",
       "      <th>ocorrencias</th>\n",
       "    </tr>\n",
       "  </thead>\n",
       "  <tbody>\n",
       "    <tr>\n",
       "      <th>0</th>\n",
       "      <td>Bod. inj.</td>\n",
       "      <td>ABRIL</td>\n",
       "      <td>2019</td>\n",
       "      <td>1126</td>\n",
       "    </tr>\n",
       "    <tr>\n",
       "      <th>1</th>\n",
       "      <td>Bod. inj.</td>\n",
       "      <td>ABRIL</td>\n",
       "      <td>2020</td>\n",
       "      <td>616</td>\n",
       "    </tr>\n",
       "    <tr>\n",
       "      <th>2</th>\n",
       "      <td>Bod. inj.</td>\n",
       "      <td>ABRIL</td>\n",
       "      <td>2021</td>\n",
       "      <td>945</td>\n",
       "    </tr>\n",
       "    <tr>\n",
       "      <th>3</th>\n",
       "      <td>Bod. inj.</td>\n",
       "      <td>ABRIL</td>\n",
       "      <td>2022</td>\n",
       "      <td>1026</td>\n",
       "    </tr>\n",
       "    <tr>\n",
       "      <th>4</th>\n",
       "      <td>Bod. inj.</td>\n",
       "      <td>ABRIL</td>\n",
       "      <td>2023</td>\n",
       "      <td>1333</td>\n",
       "    </tr>\n",
       "    <tr>\n",
       "      <th>...</th>\n",
       "      <td>...</td>\n",
       "      <td>...</td>\n",
       "      <td>...</td>\n",
       "      <td>...</td>\n",
       "    </tr>\n",
       "    <tr>\n",
       "      <th>282</th>\n",
       "      <td>Viol. of urgent protect. meas.</td>\n",
       "      <td>OUTUBRO</td>\n",
       "      <td>2023</td>\n",
       "      <td>212</td>\n",
       "    </tr>\n",
       "    <tr>\n",
       "      <th>283</th>\n",
       "      <td>Viol. of urgent protect. meas.</td>\n",
       "      <td>SETEMBRO</td>\n",
       "      <td>2020</td>\n",
       "      <td>80</td>\n",
       "    </tr>\n",
       "    <tr>\n",
       "      <th>284</th>\n",
       "      <td>Viol. of urgent protect. meas.</td>\n",
       "      <td>SETEMBRO</td>\n",
       "      <td>2021</td>\n",
       "      <td>97</td>\n",
       "    </tr>\n",
       "    <tr>\n",
       "      <th>285</th>\n",
       "      <td>Viol. of urgent protect. meas.</td>\n",
       "      <td>SETEMBRO</td>\n",
       "      <td>2022</td>\n",
       "      <td>157</td>\n",
       "    </tr>\n",
       "    <tr>\n",
       "      <th>286</th>\n",
       "      <td>Viol. of urgent protect. meas.</td>\n",
       "      <td>SETEMBRO</td>\n",
       "      <td>2023</td>\n",
       "      <td>197</td>\n",
       "    </tr>\n",
       "  </tbody>\n",
       "</table>\n",
       "<p>287 rows × 4 columns</p>\n",
       "</div>"
      ],
      "text/plain": [
       "                        consolidado  mes_fato  ano_fato  ocorrencias\n",
       "0                         Bod. inj.     ABRIL      2019         1126\n",
       "1                         Bod. inj.     ABRIL      2020          616\n",
       "2                         Bod. inj.     ABRIL      2021          945\n",
       "3                         Bod. inj.     ABRIL      2022         1026\n",
       "4                         Bod. inj.     ABRIL      2023         1333\n",
       "..                              ...       ...       ...          ...\n",
       "282  Viol. of urgent protect. meas.   OUTUBRO      2023          212\n",
       "283  Viol. of urgent protect. meas.  SETEMBRO      2020           80\n",
       "284  Viol. of urgent protect. meas.  SETEMBRO      2021           97\n",
       "285  Viol. of urgent protect. meas.  SETEMBRO      2022          157\n",
       "286  Viol. of urgent protect. meas.  SETEMBRO      2023          197\n",
       "\n",
       "[287 rows x 4 columns]"
      ]
     },
     "execution_count": 99,
     "metadata": {},
     "output_type": "execute_result"
    }
   ],
   "source": [
    "df1_sorted = df1.sort_values(by=['consolidado', 'ano_fato', 'mes_fato'])\n",
    "agrupado_mes = df1_sorted.groupby(['consolidado', 'mes_fato', 'ano_fato']).size().reset_index(name='ocorrencias')\n",
    "agrupado_mes"
   ]
  },
  {
   "cell_type": "code",
   "execution_count": 100,
   "metadata": {},
   "outputs": [],
   "source": [
    "agrupado_mes.loc[agrupado_mes.mes_fato == \"JANEIRO\",'mes_fato'] = 'a - JANEIRO'\n",
    "agrupado_mes.loc[agrupado_mes.mes_fato == \"FEVEREIRO\",'mes_fato'] = 'b - FEVEREIRO'\n",
    "agrupado_mes.loc[agrupado_mes.mes_fato == \"MARCO\",'mes_fato'] = 'c - MARCO'\n",
    "agrupado_mes.loc[agrupado_mes.mes_fato == \"ABRIL\",'mes_fato'] = 'd - ABRIL'\n",
    "agrupado_mes.loc[agrupado_mes.mes_fato == \"MAIO\",'mes_fato'] = 'e - MAIO'\n",
    "agrupado_mes.loc[agrupado_mes.mes_fato == \"JUNHO\",'mes_fato'] = 'f - JUNHO'\n",
    "agrupado_mes.loc[agrupado_mes.mes_fato == \"JULHO\",'mes_fato'] = 'g - JULHO'\n",
    "agrupado_mes.loc[agrupado_mes.mes_fato == \"AGOSTO\",'mes_fato'] = 'h - AGOSTO'\n",
    "agrupado_mes.loc[agrupado_mes.mes_fato == \"SETEMBRO\",'mes_fato'] = 'i - SETEMBRO'\n",
    "agrupado_mes.loc[agrupado_mes.mes_fato == \"OUTUBRO\",'mes_fato'] = 'j - OUTUBRO'\n",
    "agrupado_mes.loc[agrupado_mes.mes_fato == \"NOVEMBRO\",'mes_fato'] = 'k - NOVEMBRO'\n",
    "agrupado_mes.loc[agrupado_mes.mes_fato == \"DEZEMBRO\",'mes_fato'] = 'l - DEZEMBRO'\n",
    "\n",
    "agrupado_mes.sort_values(by=['mes_fato'], inplace=True)"
   ]
  },
  {
   "cell_type": "code",
   "execution_count": 101,
   "metadata": {},
   "outputs": [],
   "source": [
    "agrupado_mes.loc[agrupado_mes.mes_fato == \"a - JANEIRO\",'mes_fato'] = 'JANEIRO'\n",
    "agrupado_mes.loc[agrupado_mes.mes_fato == \"b - FEVEREIRO\",'mes_fato'] = 'FEVEREIRO'\n",
    "agrupado_mes.loc[agrupado_mes.mes_fato == \"c - MARCO\",'mes_fato'] = 'MARCO'\n",
    "agrupado_mes.loc[agrupado_mes.mes_fato == \"d - ABRIL\",'mes_fato'] = 'ABRIL'\n",
    "agrupado_mes.loc[agrupado_mes.mes_fato == \"e - MAIO\",'mes_fato'] = 'MAIO'\n",
    "agrupado_mes.loc[agrupado_mes.mes_fato == \"f - JUNHO\",'mes_fato'] = 'JUNHO'\n",
    "agrupado_mes.loc[agrupado_mes.mes_fato == \"g - JULHO\",'mes_fato'] = 'JULHO'\n",
    "agrupado_mes.loc[agrupado_mes.mes_fato == \"h - AGOSTO\",'mes_fato'] = 'AGOSTO'\n",
    "agrupado_mes.loc[agrupado_mes.mes_fato == \"i - SETEMBRO\",'mes_fato'] = 'SETEMBRO'\n",
    "agrupado_mes.loc[agrupado_mes.mes_fato == \"j - OUTUBRO\",'mes_fato'] = 'OUTUBRO'\n",
    "agrupado_mes.loc[agrupado_mes.mes_fato == \"k - NOVEMBRO\",'mes_fato'] = 'NOVEMBRO'\n",
    "agrupado_mes.loc[agrupado_mes.mes_fato == \"l - DEZEMBRO\",'mes_fato'] = 'DEZEMBRO'"
   ]
  },
  {
   "cell_type": "code",
   "execution_count": 102,
   "metadata": {},
   "outputs": [
    {
     "data": {
      "text/html": [
       "<div>\n",
       "<style scoped>\n",
       "    .dataframe tbody tr th:only-of-type {\n",
       "        vertical-align: middle;\n",
       "    }\n",
       "\n",
       "    .dataframe tbody tr th {\n",
       "        vertical-align: top;\n",
       "    }\n",
       "\n",
       "    .dataframe thead th {\n",
       "        text-align: right;\n",
       "    }\n",
       "</style>\n",
       "<table border=\"1\" class=\"dataframe\">\n",
       "  <thead>\n",
       "    <tr style=\"text-align: right;\">\n",
       "      <th></th>\n",
       "      <th>consolidado</th>\n",
       "      <th>mes_fato</th>\n",
       "      <th>ano_fato</th>\n",
       "      <th>ocorrencias</th>\n",
       "    </tr>\n",
       "  </thead>\n",
       "  <tbody>\n",
       "    <tr>\n",
       "      <th>0</th>\n",
       "      <td>Rape of vuln.</td>\n",
       "      <td>JANEIRO</td>\n",
       "      <td>2023</td>\n",
       "      <td>278</td>\n",
       "    </tr>\n",
       "    <tr>\n",
       "      <th>1</th>\n",
       "      <td>Threat</td>\n",
       "      <td>JANEIRO</td>\n",
       "      <td>2021</td>\n",
       "      <td>1741</td>\n",
       "    </tr>\n",
       "    <tr>\n",
       "      <th>2</th>\n",
       "      <td>Threat</td>\n",
       "      <td>JANEIRO</td>\n",
       "      <td>2020</td>\n",
       "      <td>1495</td>\n",
       "    </tr>\n",
       "    <tr>\n",
       "      <th>3</th>\n",
       "      <td>Threat</td>\n",
       "      <td>JANEIRO</td>\n",
       "      <td>2019</td>\n",
       "      <td>1667</td>\n",
       "    </tr>\n",
       "    <tr>\n",
       "      <th>4</th>\n",
       "      <td>Bod. inj.</td>\n",
       "      <td>JANEIRO</td>\n",
       "      <td>2023</td>\n",
       "      <td>1220</td>\n",
       "    </tr>\n",
       "    <tr>\n",
       "      <th>...</th>\n",
       "      <td>...</td>\n",
       "      <td>...</td>\n",
       "      <td>...</td>\n",
       "      <td>...</td>\n",
       "    </tr>\n",
       "    <tr>\n",
       "      <th>282</th>\n",
       "      <td>Bod. inj.</td>\n",
       "      <td>DEZEMBRO</td>\n",
       "      <td>2021</td>\n",
       "      <td>989</td>\n",
       "    </tr>\n",
       "    <tr>\n",
       "      <th>283</th>\n",
       "      <td>Bod. inj.</td>\n",
       "      <td>DEZEMBRO</td>\n",
       "      <td>2020</td>\n",
       "      <td>1106</td>\n",
       "    </tr>\n",
       "    <tr>\n",
       "      <th>284</th>\n",
       "      <td>Bod. inj.</td>\n",
       "      <td>DEZEMBRO</td>\n",
       "      <td>2019</td>\n",
       "      <td>1125</td>\n",
       "    </tr>\n",
       "    <tr>\n",
       "      <th>285</th>\n",
       "      <td>Psy. viol.</td>\n",
       "      <td>DEZEMBRO</td>\n",
       "      <td>2021</td>\n",
       "      <td>104</td>\n",
       "    </tr>\n",
       "    <tr>\n",
       "      <th>286</th>\n",
       "      <td>Rape of vuln.</td>\n",
       "      <td>DEZEMBRO</td>\n",
       "      <td>2023</td>\n",
       "      <td>173</td>\n",
       "    </tr>\n",
       "  </tbody>\n",
       "</table>\n",
       "<p>287 rows × 4 columns</p>\n",
       "</div>"
      ],
      "text/plain": [
       "       consolidado  mes_fato  ano_fato  ocorrencias\n",
       "0    Rape of vuln.   JANEIRO      2023          278\n",
       "1           Threat   JANEIRO      2021         1741\n",
       "2           Threat   JANEIRO      2020         1495\n",
       "3           Threat   JANEIRO      2019         1667\n",
       "4        Bod. inj.   JANEIRO      2023         1220\n",
       "..             ...       ...       ...          ...\n",
       "282      Bod. inj.  DEZEMBRO      2021          989\n",
       "283      Bod. inj.  DEZEMBRO      2020         1106\n",
       "284      Bod. inj.  DEZEMBRO      2019         1125\n",
       "285     Psy. viol.  DEZEMBRO      2021          104\n",
       "286  Rape of vuln.  DEZEMBRO      2023          173\n",
       "\n",
       "[287 rows x 4 columns]"
      ]
     },
     "execution_count": 102,
     "metadata": {},
     "output_type": "execute_result"
    }
   ],
   "source": [
    "agrupado_mes.reset_index(drop=True)"
   ]
  },
  {
   "cell_type": "code",
   "execution_count": 103,
   "metadata": {},
   "outputs": [],
   "source": [
    "def combinar_mes_e_ano(mes, ano):\n",
    "    mes_abreviado = {\n",
    "        'JANEIRO': 'Jan', 'FEVEREIRO': 'Feb', 'MARCO': 'Mar', 'ABRIL': 'Apr', 'MAIO': 'May', 'JUNHO': 'Jun',\n",
    "        'JULHO': 'Jul', 'AGOSTO': 'Aug', 'SETEMBRO': 'Sep', 'OUTUBRO': 'Oct', 'NOVEMBRO': 'Nov', 'DEZEMBRO': 'Dec'\n",
    "    }\n",
    "    return f\"{mes_abreviado[mes]}/{str(ano)[-2:]}\" "
   ]
  },
  {
   "cell_type": "code",
   "execution_count": 104,
   "metadata": {},
   "outputs": [],
   "source": [
    "agrupado_mes['mes_ano'] = agrupado_mes.apply(lambda row: combinar_mes_e_ano(row['mes_fato'], row['ano_fato']), axis=1)\n",
    "ordem_meses = ['Jan', 'Feb', 'Mar', 'Apr', 'May', 'Jun', 'Jul', 'Aug', 'Sep', 'Oct', 'Nov', 'Dec']\n",
    "\n",
    "agrupado_mes['mes_ano'] = pd.Categorical(agrupado_mes['mes_ano'], categories=[f\"{mes}/{str(ano)[-2:]}\" for ano in range(19, 24) for mes in ordem_meses])\n",
    "agrupado_mes_ordenado = agrupado_mes.sort_values(by=['mes_ano', 'ano_fato'], ascending=[True, False])\n"
   ]
  },
  {
   "cell_type": "code",
   "execution_count": 105,
   "metadata": {},
   "outputs": [
    {
     "data": {
      "text/html": [
       "<div>\n",
       "<style scoped>\n",
       "    .dataframe tbody tr th:only-of-type {\n",
       "        vertical-align: middle;\n",
       "    }\n",
       "\n",
       "    .dataframe tbody tr th {\n",
       "        vertical-align: top;\n",
       "    }\n",
       "\n",
       "    .dataframe thead th {\n",
       "        text-align: right;\n",
       "    }\n",
       "</style>\n",
       "<table border=\"1\" class=\"dataframe\">\n",
       "  <thead>\n",
       "    <tr style=\"text-align: right;\">\n",
       "      <th></th>\n",
       "      <th>consolidado</th>\n",
       "      <th>mes_fato</th>\n",
       "      <th>ano_fato</th>\n",
       "      <th>ocorrencias</th>\n",
       "      <th>mes_ano</th>\n",
       "    </tr>\n",
       "  </thead>\n",
       "  <tbody>\n",
       "    <tr>\n",
       "      <th>0</th>\n",
       "      <td>Threat</td>\n",
       "      <td>JANEIRO</td>\n",
       "      <td>2019</td>\n",
       "      <td>1667</td>\n",
       "      <td>Jan/19</td>\n",
       "    </tr>\n",
       "    <tr>\n",
       "      <th>1</th>\n",
       "      <td>Bod. inj.</td>\n",
       "      <td>JANEIRO</td>\n",
       "      <td>2019</td>\n",
       "      <td>1067</td>\n",
       "      <td>Jan/19</td>\n",
       "    </tr>\n",
       "    <tr>\n",
       "      <th>2</th>\n",
       "      <td>Rape of vuln.</td>\n",
       "      <td>JANEIRO</td>\n",
       "      <td>2019</td>\n",
       "      <td>197</td>\n",
       "      <td>Jan/19</td>\n",
       "    </tr>\n",
       "    <tr>\n",
       "      <th>3</th>\n",
       "      <td>Threat</td>\n",
       "      <td>FEVEREIRO</td>\n",
       "      <td>2019</td>\n",
       "      <td>1584</td>\n",
       "      <td>Feb/19</td>\n",
       "    </tr>\n",
       "    <tr>\n",
       "      <th>4</th>\n",
       "      <td>Psy. viol.</td>\n",
       "      <td>FEVEREIRO</td>\n",
       "      <td>2019</td>\n",
       "      <td>1</td>\n",
       "      <td>Feb/19</td>\n",
       "    </tr>\n",
       "    <tr>\n",
       "      <th>...</th>\n",
       "      <td>...</td>\n",
       "      <td>...</td>\n",
       "      <td>...</td>\n",
       "      <td>...</td>\n",
       "      <td>...</td>\n",
       "    </tr>\n",
       "    <tr>\n",
       "      <th>282</th>\n",
       "      <td>Psy. viol.</td>\n",
       "      <td>DEZEMBRO</td>\n",
       "      <td>2023</td>\n",
       "      <td>125</td>\n",
       "      <td>Dec/23</td>\n",
       "    </tr>\n",
       "    <tr>\n",
       "      <th>283</th>\n",
       "      <td>Bod. inj.</td>\n",
       "      <td>DEZEMBRO</td>\n",
       "      <td>2023</td>\n",
       "      <td>1106</td>\n",
       "      <td>Dec/23</td>\n",
       "    </tr>\n",
       "    <tr>\n",
       "      <th>284</th>\n",
       "      <td>Threat</td>\n",
       "      <td>DEZEMBRO</td>\n",
       "      <td>2023</td>\n",
       "      <td>1839</td>\n",
       "      <td>Dec/23</td>\n",
       "    </tr>\n",
       "    <tr>\n",
       "      <th>285</th>\n",
       "      <td>Viol. of urgent protect. meas.</td>\n",
       "      <td>DEZEMBRO</td>\n",
       "      <td>2023</td>\n",
       "      <td>158</td>\n",
       "      <td>Dec/23</td>\n",
       "    </tr>\n",
       "    <tr>\n",
       "      <th>286</th>\n",
       "      <td>Rape of vuln.</td>\n",
       "      <td>DEZEMBRO</td>\n",
       "      <td>2023</td>\n",
       "      <td>173</td>\n",
       "      <td>Dec/23</td>\n",
       "    </tr>\n",
       "  </tbody>\n",
       "</table>\n",
       "<p>287 rows × 5 columns</p>\n",
       "</div>"
      ],
      "text/plain": [
       "                        consolidado   mes_fato  ano_fato  ocorrencias mes_ano\n",
       "0                            Threat    JANEIRO      2019         1667  Jan/19\n",
       "1                         Bod. inj.    JANEIRO      2019         1067  Jan/19\n",
       "2                     Rape of vuln.    JANEIRO      2019          197  Jan/19\n",
       "3                            Threat  FEVEREIRO      2019         1584  Feb/19\n",
       "4                        Psy. viol.  FEVEREIRO      2019            1  Feb/19\n",
       "..                              ...        ...       ...          ...     ...\n",
       "282                      Psy. viol.   DEZEMBRO      2023          125  Dec/23\n",
       "283                       Bod. inj.   DEZEMBRO      2023         1106  Dec/23\n",
       "284                          Threat   DEZEMBRO      2023         1839  Dec/23\n",
       "285  Viol. of urgent protect. meas.   DEZEMBRO      2023          158  Dec/23\n",
       "286                   Rape of vuln.   DEZEMBRO      2023          173  Dec/23\n",
       "\n",
       "[287 rows x 5 columns]"
      ]
     },
     "execution_count": 105,
     "metadata": {},
     "output_type": "execute_result"
    }
   ],
   "source": [
    "agrupado_mes_ordenado.reset_index(drop=True)"
   ]
  },
  {
   "cell_type": "code",
   "execution_count": 110,
   "metadata": {},
   "outputs": [],
   "source": [
    "agrupado_mes_ordenado['consolidado'] = agrupado_mes_ordenado['consolidado'].replace('Viol. of urgent \\nprotect. meas.', 'Viol. urg. protect. meas.')"
   ]
  },
  {
   "cell_type": "code",
   "execution_count": 111,
   "metadata": {},
   "outputs": [
    {
     "data": {
      "application/vnd.plotly.v1+json": {
       "config": {
        "plotlyServerURL": "https://plot.ly"
       },
       "data": [
        {
         "hovertemplate": "Crimes=Threat<br>Month/Year=%{x}<br>Ocorrências=%{y}<extra></extra>",
         "legendgroup": "Threat",
         "line": {
          "color": "#BA1F4C",
          "dash": "solid"
         },
         "marker": {
          "symbol": "circle"
         },
         "mode": "lines",
         "name": "Threat",
         "orientation": "v",
         "showlegend": true,
         "type": "scatter",
         "x": [
          "Jan/19",
          "Feb/19",
          "Mar/19",
          "Apr/19",
          "May/19",
          "Jun/19",
          "Jul/19",
          "Aug/19",
          "Sep/19",
          "Oct/19",
          "Nov/19",
          "Dec/19",
          "Jan/20",
          "Feb/20",
          "Mar/20",
          "Apr/20",
          "May/20",
          "Jun/20",
          "Jul/20",
          "Aug/20",
          "Sep/20",
          "Oct/20",
          "Nov/20",
          "Dec/20",
          "Jan/21",
          "Feb/21",
          "Mar/21",
          "Apr/21",
          "May/21",
          "Jun/21",
          "Jul/21",
          "Aug/21",
          "Sep/21",
          "Oct/21",
          "Nov/21",
          "Dec/21",
          "Jan/22",
          "Feb/22",
          "Mar/22",
          "Apr/22",
          "May/22",
          "Jun/22",
          "Jul/22",
          "Aug/22",
          "Sep/22",
          "Oct/22",
          "Nov/22",
          "Dec/22",
          "Jan/23",
          "Feb/23",
          "Mar/23",
          "Apr/23",
          "May/23",
          "Jun/23",
          "Jul/23",
          "Aug/23",
          "Sep/23",
          "Oct/23",
          "Nov/23",
          "Dec/23"
         ],
         "xaxis": "x",
         "y": [
          1667,
          1584,
          1673,
          1610,
          1747,
          1681,
          1632,
          1540,
          1736,
          1720,
          1704,
          1447,
          1495,
          1494,
          1316,
          1243,
          1586,
          1800,
          1821,
          1824,
          1724,
          1813,
          1704,
          1447,
          1741,
          1541,
          1706,
          1941,
          1985,
          1780,
          1817,
          1962,
          1793,
          1780,
          1718,
          1489,
          1428,
          1512,
          1654,
          1628,
          1974,
          1728,
          1927,
          2182,
          2154,
          2091,
          1990,
          1785,
          2145,
          1957,
          2173,
          2542,
          2462,
          2272,
          2217,
          2364,
          2236,
          2258,
          2217,
          1839
         ],
         "yaxis": "y"
        },
        {
         "hovertemplate": "Crimes=Bod. inj.<br>Month/Year=%{x}<br>Ocorrências=%{y}<extra></extra>",
         "legendgroup": "Bod. inj.",
         "line": {
          "color": "#9373AE",
          "dash": "solid"
         },
         "marker": {
          "symbol": "circle"
         },
         "mode": "lines",
         "name": "Bod. inj.",
         "orientation": "v",
         "showlegend": true,
         "type": "scatter",
         "x": [
          "Jan/19",
          "Feb/19",
          "Mar/19",
          "Apr/19",
          "May/19",
          "Jun/19",
          "Jul/19",
          "Aug/19",
          "Sep/19",
          "Oct/19",
          "Nov/19",
          "Dec/19",
          "Jan/20",
          "Feb/20",
          "Mar/20",
          "Apr/20",
          "May/20",
          "Jun/20",
          "Jul/20",
          "Aug/20",
          "Sep/20",
          "Oct/20",
          "Nov/20",
          "Dec/20",
          "Jan/21",
          "Feb/21",
          "Mar/21",
          "Apr/21",
          "May/21",
          "Jun/21",
          "Jul/21",
          "Aug/21",
          "Sep/21",
          "Oct/21",
          "Nov/21",
          "Dec/21",
          "Jan/22",
          "Feb/22",
          "Mar/22",
          "Apr/22",
          "May/22",
          "Jun/22",
          "Jul/22",
          "Aug/22",
          "Sep/22",
          "Oct/22",
          "Nov/22",
          "Dec/22",
          "Jan/23",
          "Feb/23",
          "Mar/23",
          "Apr/23",
          "May/23",
          "Jun/23",
          "Jul/23",
          "Aug/23",
          "Sep/23",
          "Oct/23",
          "Nov/23",
          "Dec/23"
         ],
         "xaxis": "x",
         "y": [
          1067,
          1055,
          1148,
          1126,
          1070,
          1211,
          1063,
          1031,
          1229,
          1185,
          1171,
          1125,
          970,
          989,
          806,
          616,
          714,
          902,
          1072,
          1108,
          1057,
          1168,
          1138,
          1106,
          1020,
          868,
          850,
          945,
          1102,
          1007,
          1061,
          1115,
          1019,
          1141,
          1098,
          989,
          911,
          945,
          964,
          1026,
          1077,
          1138,
          1142,
          1359,
          1365,
          1570,
          1257,
          1250,
          1220,
          1141,
          1195,
          1333,
          1344,
          1353,
          1420,
          1375,
          1344,
          1534,
          1401,
          1106
         ],
         "yaxis": "y"
        },
        {
         "hovertemplate": "Crimes=Rape of vuln.<br>Month/Year=%{x}<br>Ocorrências=%{y}<extra></extra>",
         "legendgroup": "Rape of vuln.",
         "line": {
          "color": "#41A7C4",
          "dash": "solid"
         },
         "marker": {
          "symbol": "circle"
         },
         "mode": "lines",
         "name": "Rape of vuln.",
         "orientation": "v",
         "showlegend": true,
         "type": "scatter",
         "x": [
          "Jan/19",
          "Feb/19",
          "Mar/19",
          "Apr/19",
          "May/19",
          "Jun/19",
          "Jul/19",
          "Aug/19",
          "Sep/19",
          "Oct/19",
          "Nov/19",
          "Dec/19",
          "Jan/20",
          "Feb/20",
          "Mar/20",
          "Apr/20",
          "May/20",
          "Jun/20",
          "Jul/20",
          "Aug/20",
          "Sep/20",
          "Oct/20",
          "Nov/20",
          "Dec/20",
          "Jan/21",
          "Feb/21",
          "Mar/21",
          "Apr/21",
          "May/21",
          "Jun/21",
          "Jul/21",
          "Aug/21",
          "Sep/21",
          "Oct/21",
          "Nov/21",
          "Dec/21",
          "Jan/22",
          "Feb/22",
          "Mar/22",
          "Apr/22",
          "May/22",
          "Jun/22",
          "Jul/22",
          "Aug/22",
          "Sep/22",
          "Oct/22",
          "Nov/22",
          "Dec/22",
          "Jan/23",
          "Feb/23",
          "Mar/23",
          "Apr/23",
          "May/23",
          "Jun/23",
          "Jul/23",
          "Aug/23",
          "Sep/23",
          "Oct/23",
          "Nov/23",
          "Dec/23"
         ],
         "xaxis": "x",
         "y": [
          197,
          184,
          198,
          199,
          241,
          245,
          227,
          208,
          242,
          200,
          208,
          131,
          191,
          204,
          164,
          127,
          140,
          185,
          215,
          232,
          227,
          235,
          220,
          148,
          226,
          212,
          263,
          224,
          265,
          232,
          264,
          272,
          278,
          267,
          253,
          191,
          204,
          227,
          215,
          233,
          336,
          275,
          276,
          342,
          356,
          323,
          295,
          250,
          278,
          300,
          360,
          368,
          437,
          406,
          320,
          319,
          367,
          306,
          305,
          173
         ],
         "yaxis": "y"
        },
        {
         "hovertemplate": "Crimes=Psy. viol.<br>Month/Year=%{x}<br>Ocorrências=%{y}<extra></extra>",
         "legendgroup": "Psy. viol.",
         "line": {
          "color": "#D68E4A",
          "dash": "solid"
         },
         "marker": {
          "symbol": "circle"
         },
         "mode": "lines",
         "name": "Psy. viol.",
         "orientation": "v",
         "showlegend": true,
         "type": "scatter",
         "x": [
          "Feb/19",
          "Mar/19",
          "Apr/19",
          "May/19",
          "Jun/19",
          "Jul/19",
          "Aug/19",
          "Sep/19",
          "Oct/19",
          "Nov/19",
          "Dec/19",
          "Jan/20",
          "Feb/20",
          "Mar/20",
          "Apr/20",
          "May/20",
          "Jun/20",
          "Jul/20",
          "Aug/20",
          "Sep/20",
          "Oct/20",
          "Nov/20",
          "Dec/20",
          "Jan/21",
          "Feb/21",
          "Mar/21",
          "Apr/21",
          "May/21",
          "Jun/21",
          "Jul/21",
          "Aug/21",
          "Sep/21",
          "Oct/21",
          "Nov/21",
          "Dec/21",
          "Jan/22",
          "Feb/22",
          "Mar/22",
          "Apr/22",
          "May/22",
          "Jun/22",
          "Jul/22",
          "Aug/22",
          "Sep/22",
          "Oct/22",
          "Nov/22",
          "Dec/22",
          "Jan/23",
          "Feb/23",
          "Mar/23",
          "Apr/23",
          "May/23",
          "Jun/23",
          "Jul/23",
          "Aug/23",
          "Sep/23",
          "Oct/23",
          "Nov/23",
          "Dec/23"
         ],
         "xaxis": "x",
         "y": [
          1,
          13,
          53,
          78,
          63,
          12,
          36,
          46,
          71,
          23,
          33,
          27,
          16,
          32,
          40,
          14,
          89,
          71,
          94,
          86,
          82,
          73,
          69,
          29,
          19,
          9,
          8,
          19,
          44,
          52,
          118,
          114,
          114,
          152,
          104,
          117,
          141,
          166,
          149,
          182,
          157,
          138,
          199,
          165,
          169,
          167,
          142,
          171,
          153,
          178,
          164,
          205,
          185,
          205,
          154,
          145,
          165,
          172,
          125
         ],
         "yaxis": "y"
        },
        {
         "hovertemplate": "Crimes=Viol. urg. protect. meas.<br>Month/Year=%{x}<br>Ocorrências=%{y}<extra></extra>",
         "legendgroup": "Viol. urg. protect. meas.",
         "line": {
          "color": "#889684",
          "dash": "solid"
         },
         "marker": {
          "symbol": "circle"
         },
         "mode": "lines",
         "name": "Viol. urg. protect. meas.",
         "orientation": "v",
         "showlegend": true,
         "type": "scatter",
         "x": [
          "Jan/20",
          "Feb/20",
          "Mar/20",
          "Apr/20",
          "May/20",
          "Jun/20",
          "Jul/20",
          "Aug/20",
          "Sep/20",
          "Oct/20",
          "Nov/20",
          "Dec/20",
          "Jan/21",
          "Feb/21",
          "Mar/21",
          "Apr/21",
          "May/21",
          "Jun/21",
          "Jul/21",
          "Aug/21",
          "Sep/21",
          "Oct/21",
          "Nov/21",
          "Dec/21",
          "Jan/22",
          "Feb/22",
          "Mar/22",
          "Apr/22",
          "May/22",
          "Jun/22",
          "Jul/22",
          "Aug/22",
          "Sep/22",
          "Oct/22",
          "Nov/22",
          "Dec/22",
          "Jan/23",
          "Feb/23",
          "Mar/23",
          "Apr/23",
          "May/23",
          "Jun/23",
          "Jul/23",
          "Aug/23",
          "Sep/23",
          "Oct/23",
          "Nov/23",
          "Dec/23"
         ],
         "xaxis": "x",
         "y": [
          57,
          78,
          61,
          37,
          36,
          65,
          73,
          73,
          80,
          73,
          76,
          82,
          86,
          63,
          70,
          82,
          84,
          84,
          79,
          100,
          97,
          109,
          100,
          95,
          82,
          96,
          100,
          95,
          87,
          103,
          91,
          157,
          157,
          166,
          159,
          151,
          163,
          129,
          166,
          185,
          213,
          223,
          181,
          187,
          197,
          212,
          178,
          158
         ],
         "yaxis": "y"
        }
       ],
       "layout": {
        "font": {
         "size": 15
        },
        "height": 400,
        "legend": {
         "bgcolor": "#ebe4f7",
         "title": {
          "text": "Crimes"
         },
         "tracegroupgap": 0
        },
        "margin": {
         "b": 10,
         "l": 10,
         "r": 10,
         "t": 10
        },
        "paper_bgcolor": "white",
        "plot_bgcolor": "#ebe4f7",
        "template": {
         "data": {
          "bar": [
           {
            "error_x": {
             "color": "#2a3f5f"
            },
            "error_y": {
             "color": "#2a3f5f"
            },
            "marker": {
             "line": {
              "color": "#E5ECF6",
              "width": 0.5
             },
             "pattern": {
              "fillmode": "overlay",
              "size": 10,
              "solidity": 0.2
             }
            },
            "type": "bar"
           }
          ],
          "barpolar": [
           {
            "marker": {
             "line": {
              "color": "#E5ECF6",
              "width": 0.5
             },
             "pattern": {
              "fillmode": "overlay",
              "size": 10,
              "solidity": 0.2
             }
            },
            "type": "barpolar"
           }
          ],
          "carpet": [
           {
            "aaxis": {
             "endlinecolor": "#2a3f5f",
             "gridcolor": "white",
             "linecolor": "white",
             "minorgridcolor": "white",
             "startlinecolor": "#2a3f5f"
            },
            "baxis": {
             "endlinecolor": "#2a3f5f",
             "gridcolor": "white",
             "linecolor": "white",
             "minorgridcolor": "white",
             "startlinecolor": "#2a3f5f"
            },
            "type": "carpet"
           }
          ],
          "choropleth": [
           {
            "colorbar": {
             "outlinewidth": 0,
             "ticks": ""
            },
            "type": "choropleth"
           }
          ],
          "contour": [
           {
            "colorbar": {
             "outlinewidth": 0,
             "ticks": ""
            },
            "colorscale": [
             [
              0,
              "#0d0887"
             ],
             [
              0.1111111111111111,
              "#46039f"
             ],
             [
              0.2222222222222222,
              "#7201a8"
             ],
             [
              0.3333333333333333,
              "#9c179e"
             ],
             [
              0.4444444444444444,
              "#bd3786"
             ],
             [
              0.5555555555555556,
              "#d8576b"
             ],
             [
              0.6666666666666666,
              "#ed7953"
             ],
             [
              0.7777777777777778,
              "#fb9f3a"
             ],
             [
              0.8888888888888888,
              "#fdca26"
             ],
             [
              1,
              "#f0f921"
             ]
            ],
            "type": "contour"
           }
          ],
          "contourcarpet": [
           {
            "colorbar": {
             "outlinewidth": 0,
             "ticks": ""
            },
            "type": "contourcarpet"
           }
          ],
          "heatmap": [
           {
            "colorbar": {
             "outlinewidth": 0,
             "ticks": ""
            },
            "colorscale": [
             [
              0,
              "#0d0887"
             ],
             [
              0.1111111111111111,
              "#46039f"
             ],
             [
              0.2222222222222222,
              "#7201a8"
             ],
             [
              0.3333333333333333,
              "#9c179e"
             ],
             [
              0.4444444444444444,
              "#bd3786"
             ],
             [
              0.5555555555555556,
              "#d8576b"
             ],
             [
              0.6666666666666666,
              "#ed7953"
             ],
             [
              0.7777777777777778,
              "#fb9f3a"
             ],
             [
              0.8888888888888888,
              "#fdca26"
             ],
             [
              1,
              "#f0f921"
             ]
            ],
            "type": "heatmap"
           }
          ],
          "heatmapgl": [
           {
            "colorbar": {
             "outlinewidth": 0,
             "ticks": ""
            },
            "colorscale": [
             [
              0,
              "#0d0887"
             ],
             [
              0.1111111111111111,
              "#46039f"
             ],
             [
              0.2222222222222222,
              "#7201a8"
             ],
             [
              0.3333333333333333,
              "#9c179e"
             ],
             [
              0.4444444444444444,
              "#bd3786"
             ],
             [
              0.5555555555555556,
              "#d8576b"
             ],
             [
              0.6666666666666666,
              "#ed7953"
             ],
             [
              0.7777777777777778,
              "#fb9f3a"
             ],
             [
              0.8888888888888888,
              "#fdca26"
             ],
             [
              1,
              "#f0f921"
             ]
            ],
            "type": "heatmapgl"
           }
          ],
          "histogram": [
           {
            "marker": {
             "pattern": {
              "fillmode": "overlay",
              "size": 10,
              "solidity": 0.2
             }
            },
            "type": "histogram"
           }
          ],
          "histogram2d": [
           {
            "colorbar": {
             "outlinewidth": 0,
             "ticks": ""
            },
            "colorscale": [
             [
              0,
              "#0d0887"
             ],
             [
              0.1111111111111111,
              "#46039f"
             ],
             [
              0.2222222222222222,
              "#7201a8"
             ],
             [
              0.3333333333333333,
              "#9c179e"
             ],
             [
              0.4444444444444444,
              "#bd3786"
             ],
             [
              0.5555555555555556,
              "#d8576b"
             ],
             [
              0.6666666666666666,
              "#ed7953"
             ],
             [
              0.7777777777777778,
              "#fb9f3a"
             ],
             [
              0.8888888888888888,
              "#fdca26"
             ],
             [
              1,
              "#f0f921"
             ]
            ],
            "type": "histogram2d"
           }
          ],
          "histogram2dcontour": [
           {
            "colorbar": {
             "outlinewidth": 0,
             "ticks": ""
            },
            "colorscale": [
             [
              0,
              "#0d0887"
             ],
             [
              0.1111111111111111,
              "#46039f"
             ],
             [
              0.2222222222222222,
              "#7201a8"
             ],
             [
              0.3333333333333333,
              "#9c179e"
             ],
             [
              0.4444444444444444,
              "#bd3786"
             ],
             [
              0.5555555555555556,
              "#d8576b"
             ],
             [
              0.6666666666666666,
              "#ed7953"
             ],
             [
              0.7777777777777778,
              "#fb9f3a"
             ],
             [
              0.8888888888888888,
              "#fdca26"
             ],
             [
              1,
              "#f0f921"
             ]
            ],
            "type": "histogram2dcontour"
           }
          ],
          "mesh3d": [
           {
            "colorbar": {
             "outlinewidth": 0,
             "ticks": ""
            },
            "type": "mesh3d"
           }
          ],
          "parcoords": [
           {
            "line": {
             "colorbar": {
              "outlinewidth": 0,
              "ticks": ""
             }
            },
            "type": "parcoords"
           }
          ],
          "pie": [
           {
            "automargin": true,
            "type": "pie"
           }
          ],
          "scatter": [
           {
            "fillpattern": {
             "fillmode": "overlay",
             "size": 10,
             "solidity": 0.2
            },
            "type": "scatter"
           }
          ],
          "scatter3d": [
           {
            "line": {
             "colorbar": {
              "outlinewidth": 0,
              "ticks": ""
             }
            },
            "marker": {
             "colorbar": {
              "outlinewidth": 0,
              "ticks": ""
             }
            },
            "type": "scatter3d"
           }
          ],
          "scattercarpet": [
           {
            "marker": {
             "colorbar": {
              "outlinewidth": 0,
              "ticks": ""
             }
            },
            "type": "scattercarpet"
           }
          ],
          "scattergeo": [
           {
            "marker": {
             "colorbar": {
              "outlinewidth": 0,
              "ticks": ""
             }
            },
            "type": "scattergeo"
           }
          ],
          "scattergl": [
           {
            "marker": {
             "colorbar": {
              "outlinewidth": 0,
              "ticks": ""
             }
            },
            "type": "scattergl"
           }
          ],
          "scattermapbox": [
           {
            "marker": {
             "colorbar": {
              "outlinewidth": 0,
              "ticks": ""
             }
            },
            "type": "scattermapbox"
           }
          ],
          "scatterpolar": [
           {
            "marker": {
             "colorbar": {
              "outlinewidth": 0,
              "ticks": ""
             }
            },
            "type": "scatterpolar"
           }
          ],
          "scatterpolargl": [
           {
            "marker": {
             "colorbar": {
              "outlinewidth": 0,
              "ticks": ""
             }
            },
            "type": "scatterpolargl"
           }
          ],
          "scatterternary": [
           {
            "marker": {
             "colorbar": {
              "outlinewidth": 0,
              "ticks": ""
             }
            },
            "type": "scatterternary"
           }
          ],
          "surface": [
           {
            "colorbar": {
             "outlinewidth": 0,
             "ticks": ""
            },
            "colorscale": [
             [
              0,
              "#0d0887"
             ],
             [
              0.1111111111111111,
              "#46039f"
             ],
             [
              0.2222222222222222,
              "#7201a8"
             ],
             [
              0.3333333333333333,
              "#9c179e"
             ],
             [
              0.4444444444444444,
              "#bd3786"
             ],
             [
              0.5555555555555556,
              "#d8576b"
             ],
             [
              0.6666666666666666,
              "#ed7953"
             ],
             [
              0.7777777777777778,
              "#fb9f3a"
             ],
             [
              0.8888888888888888,
              "#fdca26"
             ],
             [
              1,
              "#f0f921"
             ]
            ],
            "type": "surface"
           }
          ],
          "table": [
           {
            "cells": {
             "fill": {
              "color": "#EBF0F8"
             },
             "line": {
              "color": "white"
             }
            },
            "header": {
             "fill": {
              "color": "#C8D4E3"
             },
             "line": {
              "color": "white"
             }
            },
            "type": "table"
           }
          ]
         },
         "layout": {
          "annotationdefaults": {
           "arrowcolor": "#2a3f5f",
           "arrowhead": 0,
           "arrowwidth": 1
          },
          "autotypenumbers": "strict",
          "coloraxis": {
           "colorbar": {
            "outlinewidth": 0,
            "ticks": ""
           }
          },
          "colorscale": {
           "diverging": [
            [
             0,
             "#8e0152"
            ],
            [
             0.1,
             "#c51b7d"
            ],
            [
             0.2,
             "#de77ae"
            ],
            [
             0.3,
             "#f1b6da"
            ],
            [
             0.4,
             "#fde0ef"
            ],
            [
             0.5,
             "#f7f7f7"
            ],
            [
             0.6,
             "#e6f5d0"
            ],
            [
             0.7,
             "#b8e186"
            ],
            [
             0.8,
             "#7fbc41"
            ],
            [
             0.9,
             "#4d9221"
            ],
            [
             1,
             "#276419"
            ]
           ],
           "sequential": [
            [
             0,
             "#0d0887"
            ],
            [
             0.1111111111111111,
             "#46039f"
            ],
            [
             0.2222222222222222,
             "#7201a8"
            ],
            [
             0.3333333333333333,
             "#9c179e"
            ],
            [
             0.4444444444444444,
             "#bd3786"
            ],
            [
             0.5555555555555556,
             "#d8576b"
            ],
            [
             0.6666666666666666,
             "#ed7953"
            ],
            [
             0.7777777777777778,
             "#fb9f3a"
            ],
            [
             0.8888888888888888,
             "#fdca26"
            ],
            [
             1,
             "#f0f921"
            ]
           ],
           "sequentialminus": [
            [
             0,
             "#0d0887"
            ],
            [
             0.1111111111111111,
             "#46039f"
            ],
            [
             0.2222222222222222,
             "#7201a8"
            ],
            [
             0.3333333333333333,
             "#9c179e"
            ],
            [
             0.4444444444444444,
             "#bd3786"
            ],
            [
             0.5555555555555556,
             "#d8576b"
            ],
            [
             0.6666666666666666,
             "#ed7953"
            ],
            [
             0.7777777777777778,
             "#fb9f3a"
            ],
            [
             0.8888888888888888,
             "#fdca26"
            ],
            [
             1,
             "#f0f921"
            ]
           ]
          },
          "colorway": [
           "#636efa",
           "#EF553B",
           "#00cc96",
           "#ab63fa",
           "#FFA15A",
           "#19d3f3",
           "#FF6692",
           "#B6E880",
           "#FF97FF",
           "#FECB52"
          ],
          "font": {
           "color": "#2a3f5f"
          },
          "geo": {
           "bgcolor": "white",
           "lakecolor": "white",
           "landcolor": "#E5ECF6",
           "showlakes": true,
           "showland": true,
           "subunitcolor": "white"
          },
          "hoverlabel": {
           "align": "left"
          },
          "hovermode": "closest",
          "mapbox": {
           "style": "light"
          },
          "paper_bgcolor": "white",
          "plot_bgcolor": "#E5ECF6",
          "polar": {
           "angularaxis": {
            "gridcolor": "white",
            "linecolor": "white",
            "ticks": ""
           },
           "bgcolor": "#E5ECF6",
           "radialaxis": {
            "gridcolor": "white",
            "linecolor": "white",
            "ticks": ""
           }
          },
          "scene": {
           "xaxis": {
            "backgroundcolor": "#E5ECF6",
            "gridcolor": "white",
            "gridwidth": 2,
            "linecolor": "white",
            "showbackground": true,
            "ticks": "",
            "zerolinecolor": "white"
           },
           "yaxis": {
            "backgroundcolor": "#E5ECF6",
            "gridcolor": "white",
            "gridwidth": 2,
            "linecolor": "white",
            "showbackground": true,
            "ticks": "",
            "zerolinecolor": "white"
           },
           "zaxis": {
            "backgroundcolor": "#E5ECF6",
            "gridcolor": "white",
            "gridwidth": 2,
            "linecolor": "white",
            "showbackground": true,
            "ticks": "",
            "zerolinecolor": "white"
           }
          },
          "shapedefaults": {
           "line": {
            "color": "#2a3f5f"
           }
          },
          "ternary": {
           "aaxis": {
            "gridcolor": "white",
            "linecolor": "white",
            "ticks": ""
           },
           "baxis": {
            "gridcolor": "white",
            "linecolor": "white",
            "ticks": ""
           },
           "bgcolor": "#E5ECF6",
           "caxis": {
            "gridcolor": "white",
            "linecolor": "white",
            "ticks": ""
           }
          },
          "title": {
           "x": 0.05
          },
          "xaxis": {
           "automargin": true,
           "gridcolor": "white",
           "linecolor": "white",
           "ticks": "",
           "title": {
            "standoff": 15
           },
           "zerolinecolor": "white",
           "zerolinewidth": 2
          },
          "yaxis": {
           "automargin": true,
           "gridcolor": "white",
           "linecolor": "white",
           "ticks": "",
           "title": {
            "standoff": 15
           },
           "zerolinecolor": "white",
           "zerolinewidth": 2
          }
         }
        },
        "width": 750,
        "xaxis": {
         "anchor": "y",
         "domain": [
          0,
          1
         ],
         "title": {
          "text": "Month/Year"
         }
        },
        "yaxis": {
         "anchor": "x",
         "domain": [
          0,
          1
         ],
         "title": {
          "text": ""
         }
        }
       }
      },
      "text/html": [
       "<div>                            <div id=\"08bbf85c-7215-4fa5-9f64-1aa6d6c8ca86\" class=\"plotly-graph-div\" style=\"height:400px; width:750px;\"></div>            <script type=\"text/javascript\">                require([\"plotly\"], function(Plotly) {                    window.PLOTLYENV=window.PLOTLYENV || {};                                    if (document.getElementById(\"08bbf85c-7215-4fa5-9f64-1aa6d6c8ca86\")) {                    Plotly.newPlot(                        \"08bbf85c-7215-4fa5-9f64-1aa6d6c8ca86\",                        [{\"hovertemplate\":\"Crimes=Threat\\u003cbr\\u003eMonth\\u002fYear=%{x}\\u003cbr\\u003eOcorr\\u00eancias=%{y}\\u003cextra\\u003e\\u003c\\u002fextra\\u003e\",\"legendgroup\":\"Threat\",\"line\":{\"color\":\"#BA1F4C\",\"dash\":\"solid\"},\"marker\":{\"symbol\":\"circle\"},\"mode\":\"lines\",\"name\":\"Threat\",\"orientation\":\"v\",\"showlegend\":true,\"x\":[\"Jan\\u002f19\",\"Feb\\u002f19\",\"Mar\\u002f19\",\"Apr\\u002f19\",\"May\\u002f19\",\"Jun\\u002f19\",\"Jul\\u002f19\",\"Aug\\u002f19\",\"Sep\\u002f19\",\"Oct\\u002f19\",\"Nov\\u002f19\",\"Dec\\u002f19\",\"Jan\\u002f20\",\"Feb\\u002f20\",\"Mar\\u002f20\",\"Apr\\u002f20\",\"May\\u002f20\",\"Jun\\u002f20\",\"Jul\\u002f20\",\"Aug\\u002f20\",\"Sep\\u002f20\",\"Oct\\u002f20\",\"Nov\\u002f20\",\"Dec\\u002f20\",\"Jan\\u002f21\",\"Feb\\u002f21\",\"Mar\\u002f21\",\"Apr\\u002f21\",\"May\\u002f21\",\"Jun\\u002f21\",\"Jul\\u002f21\",\"Aug\\u002f21\",\"Sep\\u002f21\",\"Oct\\u002f21\",\"Nov\\u002f21\",\"Dec\\u002f21\",\"Jan\\u002f22\",\"Feb\\u002f22\",\"Mar\\u002f22\",\"Apr\\u002f22\",\"May\\u002f22\",\"Jun\\u002f22\",\"Jul\\u002f22\",\"Aug\\u002f22\",\"Sep\\u002f22\",\"Oct\\u002f22\",\"Nov\\u002f22\",\"Dec\\u002f22\",\"Jan\\u002f23\",\"Feb\\u002f23\",\"Mar\\u002f23\",\"Apr\\u002f23\",\"May\\u002f23\",\"Jun\\u002f23\",\"Jul\\u002f23\",\"Aug\\u002f23\",\"Sep\\u002f23\",\"Oct\\u002f23\",\"Nov\\u002f23\",\"Dec\\u002f23\"],\"xaxis\":\"x\",\"y\":[1667,1584,1673,1610,1747,1681,1632,1540,1736,1720,1704,1447,1495,1494,1316,1243,1586,1800,1821,1824,1724,1813,1704,1447,1741,1541,1706,1941,1985,1780,1817,1962,1793,1780,1718,1489,1428,1512,1654,1628,1974,1728,1927,2182,2154,2091,1990,1785,2145,1957,2173,2542,2462,2272,2217,2364,2236,2258,2217,1839],\"yaxis\":\"y\",\"type\":\"scatter\"},{\"hovertemplate\":\"Crimes=Bod. inj.\\u003cbr\\u003eMonth\\u002fYear=%{x}\\u003cbr\\u003eOcorr\\u00eancias=%{y}\\u003cextra\\u003e\\u003c\\u002fextra\\u003e\",\"legendgroup\":\"Bod. inj.\",\"line\":{\"color\":\"#9373AE\",\"dash\":\"solid\"},\"marker\":{\"symbol\":\"circle\"},\"mode\":\"lines\",\"name\":\"Bod. inj.\",\"orientation\":\"v\",\"showlegend\":true,\"x\":[\"Jan\\u002f19\",\"Feb\\u002f19\",\"Mar\\u002f19\",\"Apr\\u002f19\",\"May\\u002f19\",\"Jun\\u002f19\",\"Jul\\u002f19\",\"Aug\\u002f19\",\"Sep\\u002f19\",\"Oct\\u002f19\",\"Nov\\u002f19\",\"Dec\\u002f19\",\"Jan\\u002f20\",\"Feb\\u002f20\",\"Mar\\u002f20\",\"Apr\\u002f20\",\"May\\u002f20\",\"Jun\\u002f20\",\"Jul\\u002f20\",\"Aug\\u002f20\",\"Sep\\u002f20\",\"Oct\\u002f20\",\"Nov\\u002f20\",\"Dec\\u002f20\",\"Jan\\u002f21\",\"Feb\\u002f21\",\"Mar\\u002f21\",\"Apr\\u002f21\",\"May\\u002f21\",\"Jun\\u002f21\",\"Jul\\u002f21\",\"Aug\\u002f21\",\"Sep\\u002f21\",\"Oct\\u002f21\",\"Nov\\u002f21\",\"Dec\\u002f21\",\"Jan\\u002f22\",\"Feb\\u002f22\",\"Mar\\u002f22\",\"Apr\\u002f22\",\"May\\u002f22\",\"Jun\\u002f22\",\"Jul\\u002f22\",\"Aug\\u002f22\",\"Sep\\u002f22\",\"Oct\\u002f22\",\"Nov\\u002f22\",\"Dec\\u002f22\",\"Jan\\u002f23\",\"Feb\\u002f23\",\"Mar\\u002f23\",\"Apr\\u002f23\",\"May\\u002f23\",\"Jun\\u002f23\",\"Jul\\u002f23\",\"Aug\\u002f23\",\"Sep\\u002f23\",\"Oct\\u002f23\",\"Nov\\u002f23\",\"Dec\\u002f23\"],\"xaxis\":\"x\",\"y\":[1067,1055,1148,1126,1070,1211,1063,1031,1229,1185,1171,1125,970,989,806,616,714,902,1072,1108,1057,1168,1138,1106,1020,868,850,945,1102,1007,1061,1115,1019,1141,1098,989,911,945,964,1026,1077,1138,1142,1359,1365,1570,1257,1250,1220,1141,1195,1333,1344,1353,1420,1375,1344,1534,1401,1106],\"yaxis\":\"y\",\"type\":\"scatter\"},{\"hovertemplate\":\"Crimes=Rape of vuln.\\u003cbr\\u003eMonth\\u002fYear=%{x}\\u003cbr\\u003eOcorr\\u00eancias=%{y}\\u003cextra\\u003e\\u003c\\u002fextra\\u003e\",\"legendgroup\":\"Rape of vuln.\",\"line\":{\"color\":\"#41A7C4\",\"dash\":\"solid\"},\"marker\":{\"symbol\":\"circle\"},\"mode\":\"lines\",\"name\":\"Rape of vuln.\",\"orientation\":\"v\",\"showlegend\":true,\"x\":[\"Jan\\u002f19\",\"Feb\\u002f19\",\"Mar\\u002f19\",\"Apr\\u002f19\",\"May\\u002f19\",\"Jun\\u002f19\",\"Jul\\u002f19\",\"Aug\\u002f19\",\"Sep\\u002f19\",\"Oct\\u002f19\",\"Nov\\u002f19\",\"Dec\\u002f19\",\"Jan\\u002f20\",\"Feb\\u002f20\",\"Mar\\u002f20\",\"Apr\\u002f20\",\"May\\u002f20\",\"Jun\\u002f20\",\"Jul\\u002f20\",\"Aug\\u002f20\",\"Sep\\u002f20\",\"Oct\\u002f20\",\"Nov\\u002f20\",\"Dec\\u002f20\",\"Jan\\u002f21\",\"Feb\\u002f21\",\"Mar\\u002f21\",\"Apr\\u002f21\",\"May\\u002f21\",\"Jun\\u002f21\",\"Jul\\u002f21\",\"Aug\\u002f21\",\"Sep\\u002f21\",\"Oct\\u002f21\",\"Nov\\u002f21\",\"Dec\\u002f21\",\"Jan\\u002f22\",\"Feb\\u002f22\",\"Mar\\u002f22\",\"Apr\\u002f22\",\"May\\u002f22\",\"Jun\\u002f22\",\"Jul\\u002f22\",\"Aug\\u002f22\",\"Sep\\u002f22\",\"Oct\\u002f22\",\"Nov\\u002f22\",\"Dec\\u002f22\",\"Jan\\u002f23\",\"Feb\\u002f23\",\"Mar\\u002f23\",\"Apr\\u002f23\",\"May\\u002f23\",\"Jun\\u002f23\",\"Jul\\u002f23\",\"Aug\\u002f23\",\"Sep\\u002f23\",\"Oct\\u002f23\",\"Nov\\u002f23\",\"Dec\\u002f23\"],\"xaxis\":\"x\",\"y\":[197,184,198,199,241,245,227,208,242,200,208,131,191,204,164,127,140,185,215,232,227,235,220,148,226,212,263,224,265,232,264,272,278,267,253,191,204,227,215,233,336,275,276,342,356,323,295,250,278,300,360,368,437,406,320,319,367,306,305,173],\"yaxis\":\"y\",\"type\":\"scatter\"},{\"hovertemplate\":\"Crimes=Psy. viol.\\u003cbr\\u003eMonth\\u002fYear=%{x}\\u003cbr\\u003eOcorr\\u00eancias=%{y}\\u003cextra\\u003e\\u003c\\u002fextra\\u003e\",\"legendgroup\":\"Psy. viol.\",\"line\":{\"color\":\"#D68E4A\",\"dash\":\"solid\"},\"marker\":{\"symbol\":\"circle\"},\"mode\":\"lines\",\"name\":\"Psy. viol.\",\"orientation\":\"v\",\"showlegend\":true,\"x\":[\"Feb\\u002f19\",\"Mar\\u002f19\",\"Apr\\u002f19\",\"May\\u002f19\",\"Jun\\u002f19\",\"Jul\\u002f19\",\"Aug\\u002f19\",\"Sep\\u002f19\",\"Oct\\u002f19\",\"Nov\\u002f19\",\"Dec\\u002f19\",\"Jan\\u002f20\",\"Feb\\u002f20\",\"Mar\\u002f20\",\"Apr\\u002f20\",\"May\\u002f20\",\"Jun\\u002f20\",\"Jul\\u002f20\",\"Aug\\u002f20\",\"Sep\\u002f20\",\"Oct\\u002f20\",\"Nov\\u002f20\",\"Dec\\u002f20\",\"Jan\\u002f21\",\"Feb\\u002f21\",\"Mar\\u002f21\",\"Apr\\u002f21\",\"May\\u002f21\",\"Jun\\u002f21\",\"Jul\\u002f21\",\"Aug\\u002f21\",\"Sep\\u002f21\",\"Oct\\u002f21\",\"Nov\\u002f21\",\"Dec\\u002f21\",\"Jan\\u002f22\",\"Feb\\u002f22\",\"Mar\\u002f22\",\"Apr\\u002f22\",\"May\\u002f22\",\"Jun\\u002f22\",\"Jul\\u002f22\",\"Aug\\u002f22\",\"Sep\\u002f22\",\"Oct\\u002f22\",\"Nov\\u002f22\",\"Dec\\u002f22\",\"Jan\\u002f23\",\"Feb\\u002f23\",\"Mar\\u002f23\",\"Apr\\u002f23\",\"May\\u002f23\",\"Jun\\u002f23\",\"Jul\\u002f23\",\"Aug\\u002f23\",\"Sep\\u002f23\",\"Oct\\u002f23\",\"Nov\\u002f23\",\"Dec\\u002f23\"],\"xaxis\":\"x\",\"y\":[1,13,53,78,63,12,36,46,71,23,33,27,16,32,40,14,89,71,94,86,82,73,69,29,19,9,8,19,44,52,118,114,114,152,104,117,141,166,149,182,157,138,199,165,169,167,142,171,153,178,164,205,185,205,154,145,165,172,125],\"yaxis\":\"y\",\"type\":\"scatter\"},{\"hovertemplate\":\"Crimes=Viol. urg. protect. meas.\\u003cbr\\u003eMonth\\u002fYear=%{x}\\u003cbr\\u003eOcorr\\u00eancias=%{y}\\u003cextra\\u003e\\u003c\\u002fextra\\u003e\",\"legendgroup\":\"Viol. urg. protect. meas.\",\"line\":{\"color\":\"#889684\",\"dash\":\"solid\"},\"marker\":{\"symbol\":\"circle\"},\"mode\":\"lines\",\"name\":\"Viol. urg. protect. meas.\",\"orientation\":\"v\",\"showlegend\":true,\"x\":[\"Jan\\u002f20\",\"Feb\\u002f20\",\"Mar\\u002f20\",\"Apr\\u002f20\",\"May\\u002f20\",\"Jun\\u002f20\",\"Jul\\u002f20\",\"Aug\\u002f20\",\"Sep\\u002f20\",\"Oct\\u002f20\",\"Nov\\u002f20\",\"Dec\\u002f20\",\"Jan\\u002f21\",\"Feb\\u002f21\",\"Mar\\u002f21\",\"Apr\\u002f21\",\"May\\u002f21\",\"Jun\\u002f21\",\"Jul\\u002f21\",\"Aug\\u002f21\",\"Sep\\u002f21\",\"Oct\\u002f21\",\"Nov\\u002f21\",\"Dec\\u002f21\",\"Jan\\u002f22\",\"Feb\\u002f22\",\"Mar\\u002f22\",\"Apr\\u002f22\",\"May\\u002f22\",\"Jun\\u002f22\",\"Jul\\u002f22\",\"Aug\\u002f22\",\"Sep\\u002f22\",\"Oct\\u002f22\",\"Nov\\u002f22\",\"Dec\\u002f22\",\"Jan\\u002f23\",\"Feb\\u002f23\",\"Mar\\u002f23\",\"Apr\\u002f23\",\"May\\u002f23\",\"Jun\\u002f23\",\"Jul\\u002f23\",\"Aug\\u002f23\",\"Sep\\u002f23\",\"Oct\\u002f23\",\"Nov\\u002f23\",\"Dec\\u002f23\"],\"xaxis\":\"x\",\"y\":[57,78,61,37,36,65,73,73,80,73,76,82,86,63,70,82,84,84,79,100,97,109,100,95,82,96,100,95,87,103,91,157,157,166,159,151,163,129,166,185,213,223,181,187,197,212,178,158],\"yaxis\":\"y\",\"type\":\"scatter\"}],                        {\"template\":{\"data\":{\"histogram2dcontour\":[{\"type\":\"histogram2dcontour\",\"colorbar\":{\"outlinewidth\":0,\"ticks\":\"\"},\"colorscale\":[[0.0,\"#0d0887\"],[0.1111111111111111,\"#46039f\"],[0.2222222222222222,\"#7201a8\"],[0.3333333333333333,\"#9c179e\"],[0.4444444444444444,\"#bd3786\"],[0.5555555555555556,\"#d8576b\"],[0.6666666666666666,\"#ed7953\"],[0.7777777777777778,\"#fb9f3a\"],[0.8888888888888888,\"#fdca26\"],[1.0,\"#f0f921\"]]}],\"choropleth\":[{\"type\":\"choropleth\",\"colorbar\":{\"outlinewidth\":0,\"ticks\":\"\"}}],\"histogram2d\":[{\"type\":\"histogram2d\",\"colorbar\":{\"outlinewidth\":0,\"ticks\":\"\"},\"colorscale\":[[0.0,\"#0d0887\"],[0.1111111111111111,\"#46039f\"],[0.2222222222222222,\"#7201a8\"],[0.3333333333333333,\"#9c179e\"],[0.4444444444444444,\"#bd3786\"],[0.5555555555555556,\"#d8576b\"],[0.6666666666666666,\"#ed7953\"],[0.7777777777777778,\"#fb9f3a\"],[0.8888888888888888,\"#fdca26\"],[1.0,\"#f0f921\"]]}],\"heatmap\":[{\"type\":\"heatmap\",\"colorbar\":{\"outlinewidth\":0,\"ticks\":\"\"},\"colorscale\":[[0.0,\"#0d0887\"],[0.1111111111111111,\"#46039f\"],[0.2222222222222222,\"#7201a8\"],[0.3333333333333333,\"#9c179e\"],[0.4444444444444444,\"#bd3786\"],[0.5555555555555556,\"#d8576b\"],[0.6666666666666666,\"#ed7953\"],[0.7777777777777778,\"#fb9f3a\"],[0.8888888888888888,\"#fdca26\"],[1.0,\"#f0f921\"]]}],\"heatmapgl\":[{\"type\":\"heatmapgl\",\"colorbar\":{\"outlinewidth\":0,\"ticks\":\"\"},\"colorscale\":[[0.0,\"#0d0887\"],[0.1111111111111111,\"#46039f\"],[0.2222222222222222,\"#7201a8\"],[0.3333333333333333,\"#9c179e\"],[0.4444444444444444,\"#bd3786\"],[0.5555555555555556,\"#d8576b\"],[0.6666666666666666,\"#ed7953\"],[0.7777777777777778,\"#fb9f3a\"],[0.8888888888888888,\"#fdca26\"],[1.0,\"#f0f921\"]]}],\"contourcarpet\":[{\"type\":\"contourcarpet\",\"colorbar\":{\"outlinewidth\":0,\"ticks\":\"\"}}],\"contour\":[{\"type\":\"contour\",\"colorbar\":{\"outlinewidth\":0,\"ticks\":\"\"},\"colorscale\":[[0.0,\"#0d0887\"],[0.1111111111111111,\"#46039f\"],[0.2222222222222222,\"#7201a8\"],[0.3333333333333333,\"#9c179e\"],[0.4444444444444444,\"#bd3786\"],[0.5555555555555556,\"#d8576b\"],[0.6666666666666666,\"#ed7953\"],[0.7777777777777778,\"#fb9f3a\"],[0.8888888888888888,\"#fdca26\"],[1.0,\"#f0f921\"]]}],\"surface\":[{\"type\":\"surface\",\"colorbar\":{\"outlinewidth\":0,\"ticks\":\"\"},\"colorscale\":[[0.0,\"#0d0887\"],[0.1111111111111111,\"#46039f\"],[0.2222222222222222,\"#7201a8\"],[0.3333333333333333,\"#9c179e\"],[0.4444444444444444,\"#bd3786\"],[0.5555555555555556,\"#d8576b\"],[0.6666666666666666,\"#ed7953\"],[0.7777777777777778,\"#fb9f3a\"],[0.8888888888888888,\"#fdca26\"],[1.0,\"#f0f921\"]]}],\"mesh3d\":[{\"type\":\"mesh3d\",\"colorbar\":{\"outlinewidth\":0,\"ticks\":\"\"}}],\"scatter\":[{\"fillpattern\":{\"fillmode\":\"overlay\",\"size\":10,\"solidity\":0.2},\"type\":\"scatter\"}],\"parcoords\":[{\"type\":\"parcoords\",\"line\":{\"colorbar\":{\"outlinewidth\":0,\"ticks\":\"\"}}}],\"scatterpolargl\":[{\"type\":\"scatterpolargl\",\"marker\":{\"colorbar\":{\"outlinewidth\":0,\"ticks\":\"\"}}}],\"bar\":[{\"error_x\":{\"color\":\"#2a3f5f\"},\"error_y\":{\"color\":\"#2a3f5f\"},\"marker\":{\"line\":{\"color\":\"#E5ECF6\",\"width\":0.5},\"pattern\":{\"fillmode\":\"overlay\",\"size\":10,\"solidity\":0.2}},\"type\":\"bar\"}],\"scattergeo\":[{\"type\":\"scattergeo\",\"marker\":{\"colorbar\":{\"outlinewidth\":0,\"ticks\":\"\"}}}],\"scatterpolar\":[{\"type\":\"scatterpolar\",\"marker\":{\"colorbar\":{\"outlinewidth\":0,\"ticks\":\"\"}}}],\"histogram\":[{\"marker\":{\"pattern\":{\"fillmode\":\"overlay\",\"size\":10,\"solidity\":0.2}},\"type\":\"histogram\"}],\"scattergl\":[{\"type\":\"scattergl\",\"marker\":{\"colorbar\":{\"outlinewidth\":0,\"ticks\":\"\"}}}],\"scatter3d\":[{\"type\":\"scatter3d\",\"line\":{\"colorbar\":{\"outlinewidth\":0,\"ticks\":\"\"}},\"marker\":{\"colorbar\":{\"outlinewidth\":0,\"ticks\":\"\"}}}],\"scattermapbox\":[{\"type\":\"scattermapbox\",\"marker\":{\"colorbar\":{\"outlinewidth\":0,\"ticks\":\"\"}}}],\"scatterternary\":[{\"type\":\"scatterternary\",\"marker\":{\"colorbar\":{\"outlinewidth\":0,\"ticks\":\"\"}}}],\"scattercarpet\":[{\"type\":\"scattercarpet\",\"marker\":{\"colorbar\":{\"outlinewidth\":0,\"ticks\":\"\"}}}],\"carpet\":[{\"aaxis\":{\"endlinecolor\":\"#2a3f5f\",\"gridcolor\":\"white\",\"linecolor\":\"white\",\"minorgridcolor\":\"white\",\"startlinecolor\":\"#2a3f5f\"},\"baxis\":{\"endlinecolor\":\"#2a3f5f\",\"gridcolor\":\"white\",\"linecolor\":\"white\",\"minorgridcolor\":\"white\",\"startlinecolor\":\"#2a3f5f\"},\"type\":\"carpet\"}],\"table\":[{\"cells\":{\"fill\":{\"color\":\"#EBF0F8\"},\"line\":{\"color\":\"white\"}},\"header\":{\"fill\":{\"color\":\"#C8D4E3\"},\"line\":{\"color\":\"white\"}},\"type\":\"table\"}],\"barpolar\":[{\"marker\":{\"line\":{\"color\":\"#E5ECF6\",\"width\":0.5},\"pattern\":{\"fillmode\":\"overlay\",\"size\":10,\"solidity\":0.2}},\"type\":\"barpolar\"}],\"pie\":[{\"automargin\":true,\"type\":\"pie\"}]},\"layout\":{\"autotypenumbers\":\"strict\",\"colorway\":[\"#636efa\",\"#EF553B\",\"#00cc96\",\"#ab63fa\",\"#FFA15A\",\"#19d3f3\",\"#FF6692\",\"#B6E880\",\"#FF97FF\",\"#FECB52\"],\"font\":{\"color\":\"#2a3f5f\"},\"hovermode\":\"closest\",\"hoverlabel\":{\"align\":\"left\"},\"paper_bgcolor\":\"white\",\"plot_bgcolor\":\"#E5ECF6\",\"polar\":{\"bgcolor\":\"#E5ECF6\",\"angularaxis\":{\"gridcolor\":\"white\",\"linecolor\":\"white\",\"ticks\":\"\"},\"radialaxis\":{\"gridcolor\":\"white\",\"linecolor\":\"white\",\"ticks\":\"\"}},\"ternary\":{\"bgcolor\":\"#E5ECF6\",\"aaxis\":{\"gridcolor\":\"white\",\"linecolor\":\"white\",\"ticks\":\"\"},\"baxis\":{\"gridcolor\":\"white\",\"linecolor\":\"white\",\"ticks\":\"\"},\"caxis\":{\"gridcolor\":\"white\",\"linecolor\":\"white\",\"ticks\":\"\"}},\"coloraxis\":{\"colorbar\":{\"outlinewidth\":0,\"ticks\":\"\"}},\"colorscale\":{\"sequential\":[[0.0,\"#0d0887\"],[0.1111111111111111,\"#46039f\"],[0.2222222222222222,\"#7201a8\"],[0.3333333333333333,\"#9c179e\"],[0.4444444444444444,\"#bd3786\"],[0.5555555555555556,\"#d8576b\"],[0.6666666666666666,\"#ed7953\"],[0.7777777777777778,\"#fb9f3a\"],[0.8888888888888888,\"#fdca26\"],[1.0,\"#f0f921\"]],\"sequentialminus\":[[0.0,\"#0d0887\"],[0.1111111111111111,\"#46039f\"],[0.2222222222222222,\"#7201a8\"],[0.3333333333333333,\"#9c179e\"],[0.4444444444444444,\"#bd3786\"],[0.5555555555555556,\"#d8576b\"],[0.6666666666666666,\"#ed7953\"],[0.7777777777777778,\"#fb9f3a\"],[0.8888888888888888,\"#fdca26\"],[1.0,\"#f0f921\"]],\"diverging\":[[0,\"#8e0152\"],[0.1,\"#c51b7d\"],[0.2,\"#de77ae\"],[0.3,\"#f1b6da\"],[0.4,\"#fde0ef\"],[0.5,\"#f7f7f7\"],[0.6,\"#e6f5d0\"],[0.7,\"#b8e186\"],[0.8,\"#7fbc41\"],[0.9,\"#4d9221\"],[1,\"#276419\"]]},\"xaxis\":{\"gridcolor\":\"white\",\"linecolor\":\"white\",\"ticks\":\"\",\"title\":{\"standoff\":15},\"zerolinecolor\":\"white\",\"automargin\":true,\"zerolinewidth\":2},\"yaxis\":{\"gridcolor\":\"white\",\"linecolor\":\"white\",\"ticks\":\"\",\"title\":{\"standoff\":15},\"zerolinecolor\":\"white\",\"automargin\":true,\"zerolinewidth\":2},\"scene\":{\"xaxis\":{\"backgroundcolor\":\"#E5ECF6\",\"gridcolor\":\"white\",\"linecolor\":\"white\",\"showbackground\":true,\"ticks\":\"\",\"zerolinecolor\":\"white\",\"gridwidth\":2},\"yaxis\":{\"backgroundcolor\":\"#E5ECF6\",\"gridcolor\":\"white\",\"linecolor\":\"white\",\"showbackground\":true,\"ticks\":\"\",\"zerolinecolor\":\"white\",\"gridwidth\":2},\"zaxis\":{\"backgroundcolor\":\"#E5ECF6\",\"gridcolor\":\"white\",\"linecolor\":\"white\",\"showbackground\":true,\"ticks\":\"\",\"zerolinecolor\":\"white\",\"gridwidth\":2}},\"shapedefaults\":{\"line\":{\"color\":\"#2a3f5f\"}},\"annotationdefaults\":{\"arrowcolor\":\"#2a3f5f\",\"arrowhead\":0,\"arrowwidth\":1},\"geo\":{\"bgcolor\":\"white\",\"landcolor\":\"#E5ECF6\",\"subunitcolor\":\"white\",\"showland\":true,\"showlakes\":true,\"lakecolor\":\"white\"},\"title\":{\"x\":0.05},\"mapbox\":{\"style\":\"light\"}}},\"xaxis\":{\"anchor\":\"y\",\"domain\":[0.0,1.0],\"title\":{\"text\":\"Month\\u002fYear\"}},\"yaxis\":{\"anchor\":\"x\",\"domain\":[0.0,1.0],\"title\":{\"text\":\"\"}},\"legend\":{\"title\":{\"text\":\"Crimes\"},\"tracegroupgap\":0,\"bgcolor\":\"#ebe4f7\"},\"margin\":{\"t\":10,\"l\":10,\"r\":10,\"b\":10},\"height\":400,\"width\":750,\"font\":{\"size\":15},\"plot_bgcolor\":\"#ebe4f7\",\"paper_bgcolor\":\"white\"},                        {\"responsive\": true}                    ).then(function(){\n",
       "                            \n",
       "var gd = document.getElementById('08bbf85c-7215-4fa5-9f64-1aa6d6c8ca86');\n",
       "var x = new MutationObserver(function (mutations, observer) {{\n",
       "        var display = window.getComputedStyle(gd).display;\n",
       "        if (!display || display === 'none') {{\n",
       "            console.log([gd, 'removed!']);\n",
       "            Plotly.purge(gd);\n",
       "            observer.disconnect();\n",
       "        }}\n",
       "}});\n",
       "\n",
       "// Listen for the removal of the full notebook cells\n",
       "var notebookContainer = gd.closest('#notebook-container');\n",
       "if (notebookContainer) {{\n",
       "    x.observe(notebookContainer, {childList: true});\n",
       "}}\n",
       "\n",
       "// Listen for the clearing of the current output cell\n",
       "var outputEl = gd.closest('.output');\n",
       "if (outputEl) {{\n",
       "    x.observe(outputEl, {childList: true});\n",
       "}}\n",
       "\n",
       "                        })                };                });            </script>        </div>"
      ]
     },
     "metadata": {},
     "output_type": "display_data"
    }
   ],
   "source": [
    "fig = px.line(agrupado_mes_ordenado, x='mes_ano', y='ocorrencias', color='consolidado', \n",
    "              labels={\"ocorrencias\": \"Ocorrências\", \"mes_ano\": \"Month/Year\", \"consolidado\": \"Crimes\"},\n",
    "              height=400, width=750, color_discrete_sequence=custom_palette)\n",
    "\n",
    "fig.update_layout(margin=dict(l=10, r=10, t=10, b=10), font=dict(size=15),\n",
    "    plot_bgcolor='#ebe4f7',\n",
    "    paper_bgcolor='white', \n",
    "    legend=dict(bgcolor='#ebe4f7')\n",
    "\n",
    "        \n",
    ")\n",
    "fig.update_traces(mode='lines')\n",
    "\n",
    "fig.update_yaxes(title='')\n",
    "#fig.write_image(\"imagens/frequencia_crimes_mes.jpeg\", format=\"jpeg\", scale=5)\n",
    "\n",
    "fig.show()\n",
    "#fig.write_image(\"imagens_svg/freq_por_mes_dos_crimes.svg\")"
   ]
  },
  {
   "cell_type": "code",
   "execution_count": 113,
   "metadata": {},
   "outputs": [
    {
     "data": {
      "application/vnd.plotly.v1+json": {
       "config": {
        "plotlyServerURL": "https://plot.ly"
       },
       "data": [
        {
         "hovertemplate": "Crimes=Rape of vuln.<br>Month/Year=%{x}<br>Ocorrências=%{y}<extra></extra>",
         "legendgroup": "Rape of vuln.",
         "line": {
          "color": "#BA1F4C",
          "dash": "solid"
         },
         "marker": {
          "symbol": "circle"
         },
         "mode": "lines",
         "name": "Rape of vuln.",
         "orientation": "v",
         "showlegend": true,
         "type": "scatter",
         "x": [
          "Jan/19",
          "Feb/19",
          "Mar/19",
          "Apr/19",
          "May/19",
          "Jun/19",
          "Jul/19",
          "Aug/19",
          "Sep/19",
          "Oct/19",
          "Nov/19",
          "Dec/19",
          "Jan/20",
          "Feb/20",
          "Mar/20",
          "Apr/20",
          "May/20",
          "Jun/20",
          "Jul/20",
          "Aug/20",
          "Sep/20",
          "Oct/20",
          "Nov/20",
          "Dec/20",
          "Jan/21",
          "Feb/21",
          "Mar/21",
          "Apr/21",
          "May/21",
          "Jun/21",
          "Jul/21",
          "Aug/21",
          "Sep/21",
          "Oct/21",
          "Nov/21",
          "Dec/21",
          "Jan/22",
          "Feb/22",
          "Mar/22",
          "Apr/22",
          "May/22",
          "Jun/22",
          "Jul/22",
          "Aug/22",
          "Sep/22",
          "Oct/22",
          "Nov/22",
          "Dec/22",
          "Jan/23",
          "Feb/23",
          "Mar/23",
          "Apr/23",
          "May/23",
          "Jun/23",
          "Jul/23",
          "Aug/23",
          "Sep/23",
          "Oct/23",
          "Nov/23",
          "Dec/23"
         ],
         "xaxis": "x",
         "y": [
          197,
          184,
          198,
          199,
          241,
          245,
          227,
          208,
          242,
          200,
          208,
          131,
          191,
          204,
          164,
          127,
          140,
          185,
          215,
          232,
          227,
          235,
          220,
          148,
          226,
          212,
          263,
          224,
          265,
          232,
          264,
          272,
          278,
          267,
          253,
          191,
          204,
          227,
          215,
          233,
          336,
          275,
          276,
          342,
          356,
          323,
          295,
          250,
          278,
          300,
          360,
          368,
          437,
          406,
          320,
          319,
          367,
          306,
          305,
          173
         ],
         "yaxis": "y"
        },
        {
         "hovertemplate": "Crimes=Psy. viol.<br>Month/Year=%{x}<br>Ocorrências=%{y}<extra></extra>",
         "legendgroup": "Psy. viol.",
         "line": {
          "color": "#9373AE",
          "dash": "solid"
         },
         "marker": {
          "symbol": "circle"
         },
         "mode": "lines",
         "name": "Psy. viol.",
         "orientation": "v",
         "showlegend": true,
         "type": "scatter",
         "x": [
          "Feb/19",
          "Mar/19",
          "Apr/19",
          "May/19",
          "Jun/19",
          "Jul/19",
          "Aug/19",
          "Sep/19",
          "Oct/19",
          "Nov/19",
          "Dec/19",
          "Jan/20",
          "Feb/20",
          "Mar/20",
          "Apr/20",
          "May/20",
          "Jun/20",
          "Jul/20",
          "Aug/20",
          "Sep/20",
          "Oct/20",
          "Nov/20",
          "Dec/20",
          "Jan/21",
          "Feb/21",
          "Mar/21",
          "Apr/21",
          "May/21",
          "Jun/21",
          "Jul/21",
          "Aug/21",
          "Sep/21",
          "Oct/21",
          "Nov/21",
          "Dec/21",
          "Jan/22",
          "Feb/22",
          "Mar/22",
          "Apr/22",
          "May/22",
          "Jun/22",
          "Jul/22",
          "Aug/22",
          "Sep/22",
          "Oct/22",
          "Nov/22",
          "Dec/22",
          "Jan/23",
          "Feb/23",
          "Mar/23",
          "Apr/23",
          "May/23",
          "Jun/23",
          "Jul/23",
          "Aug/23",
          "Sep/23",
          "Oct/23",
          "Nov/23",
          "Dec/23"
         ],
         "xaxis": "x",
         "y": [
          1,
          13,
          53,
          78,
          63,
          12,
          36,
          46,
          71,
          23,
          33,
          27,
          16,
          32,
          40,
          14,
          89,
          71,
          94,
          86,
          82,
          73,
          69,
          29,
          19,
          9,
          8,
          19,
          44,
          52,
          118,
          114,
          114,
          152,
          104,
          117,
          141,
          166,
          149,
          182,
          157,
          138,
          199,
          165,
          169,
          167,
          142,
          171,
          153,
          178,
          164,
          205,
          185,
          205,
          154,
          145,
          165,
          172,
          125
         ],
         "yaxis": "y"
        },
        {
         "hovertemplate": "Crimes=Viol. urg. protect. meas.<br>Month/Year=%{x}<br>Ocorrências=%{y}<extra></extra>",
         "legendgroup": "Viol. urg. protect. meas.",
         "line": {
          "color": "#41A7C4",
          "dash": "solid"
         },
         "marker": {
          "symbol": "circle"
         },
         "mode": "lines",
         "name": "Viol. urg. protect. meas.",
         "orientation": "v",
         "showlegend": true,
         "type": "scatter",
         "x": [
          "Jan/20",
          "Feb/20",
          "Mar/20",
          "Apr/20",
          "May/20",
          "Jun/20",
          "Jul/20",
          "Aug/20",
          "Sep/20",
          "Oct/20",
          "Nov/20",
          "Dec/20",
          "Jan/21",
          "Feb/21",
          "Mar/21",
          "Apr/21",
          "May/21",
          "Jun/21",
          "Jul/21",
          "Aug/21",
          "Sep/21",
          "Oct/21",
          "Nov/21",
          "Dec/21",
          "Jan/22",
          "Feb/22",
          "Mar/22",
          "Apr/22",
          "May/22",
          "Jun/22",
          "Jul/22",
          "Aug/22",
          "Sep/22",
          "Oct/22",
          "Nov/22",
          "Dec/22",
          "Jan/23",
          "Feb/23",
          "Mar/23",
          "Apr/23",
          "May/23",
          "Jun/23",
          "Jul/23",
          "Aug/23",
          "Sep/23",
          "Oct/23",
          "Nov/23",
          "Dec/23"
         ],
         "xaxis": "x",
         "y": [
          57,
          78,
          61,
          37,
          36,
          65,
          73,
          73,
          80,
          73,
          76,
          82,
          86,
          63,
          70,
          82,
          84,
          84,
          79,
          100,
          97,
          109,
          100,
          95,
          82,
          96,
          100,
          95,
          87,
          103,
          91,
          157,
          157,
          166,
          159,
          151,
          163,
          129,
          166,
          185,
          213,
          223,
          181,
          187,
          197,
          212,
          178,
          158
         ],
         "yaxis": "y"
        }
       ],
       "layout": {
        "font": {
         "size": 15
        },
        "height": 400,
        "legend": {
         "bgcolor": "#ebe4f7",
         "title": {
          "text": "Crimes"
         },
         "tracegroupgap": 0
        },
        "margin": {
         "b": 10,
         "l": 10,
         "r": 10,
         "t": 10
        },
        "paper_bgcolor": "white",
        "plot_bgcolor": "#ebe4f7",
        "template": {
         "data": {
          "bar": [
           {
            "error_x": {
             "color": "#2a3f5f"
            },
            "error_y": {
             "color": "#2a3f5f"
            },
            "marker": {
             "line": {
              "color": "#E5ECF6",
              "width": 0.5
             },
             "pattern": {
              "fillmode": "overlay",
              "size": 10,
              "solidity": 0.2
             }
            },
            "type": "bar"
           }
          ],
          "barpolar": [
           {
            "marker": {
             "line": {
              "color": "#E5ECF6",
              "width": 0.5
             },
             "pattern": {
              "fillmode": "overlay",
              "size": 10,
              "solidity": 0.2
             }
            },
            "type": "barpolar"
           }
          ],
          "carpet": [
           {
            "aaxis": {
             "endlinecolor": "#2a3f5f",
             "gridcolor": "white",
             "linecolor": "white",
             "minorgridcolor": "white",
             "startlinecolor": "#2a3f5f"
            },
            "baxis": {
             "endlinecolor": "#2a3f5f",
             "gridcolor": "white",
             "linecolor": "white",
             "minorgridcolor": "white",
             "startlinecolor": "#2a3f5f"
            },
            "type": "carpet"
           }
          ],
          "choropleth": [
           {
            "colorbar": {
             "outlinewidth": 0,
             "ticks": ""
            },
            "type": "choropleth"
           }
          ],
          "contour": [
           {
            "colorbar": {
             "outlinewidth": 0,
             "ticks": ""
            },
            "colorscale": [
             [
              0,
              "#0d0887"
             ],
             [
              0.1111111111111111,
              "#46039f"
             ],
             [
              0.2222222222222222,
              "#7201a8"
             ],
             [
              0.3333333333333333,
              "#9c179e"
             ],
             [
              0.4444444444444444,
              "#bd3786"
             ],
             [
              0.5555555555555556,
              "#d8576b"
             ],
             [
              0.6666666666666666,
              "#ed7953"
             ],
             [
              0.7777777777777778,
              "#fb9f3a"
             ],
             [
              0.8888888888888888,
              "#fdca26"
             ],
             [
              1,
              "#f0f921"
             ]
            ],
            "type": "contour"
           }
          ],
          "contourcarpet": [
           {
            "colorbar": {
             "outlinewidth": 0,
             "ticks": ""
            },
            "type": "contourcarpet"
           }
          ],
          "heatmap": [
           {
            "colorbar": {
             "outlinewidth": 0,
             "ticks": ""
            },
            "colorscale": [
             [
              0,
              "#0d0887"
             ],
             [
              0.1111111111111111,
              "#46039f"
             ],
             [
              0.2222222222222222,
              "#7201a8"
             ],
             [
              0.3333333333333333,
              "#9c179e"
             ],
             [
              0.4444444444444444,
              "#bd3786"
             ],
             [
              0.5555555555555556,
              "#d8576b"
             ],
             [
              0.6666666666666666,
              "#ed7953"
             ],
             [
              0.7777777777777778,
              "#fb9f3a"
             ],
             [
              0.8888888888888888,
              "#fdca26"
             ],
             [
              1,
              "#f0f921"
             ]
            ],
            "type": "heatmap"
           }
          ],
          "heatmapgl": [
           {
            "colorbar": {
             "outlinewidth": 0,
             "ticks": ""
            },
            "colorscale": [
             [
              0,
              "#0d0887"
             ],
             [
              0.1111111111111111,
              "#46039f"
             ],
             [
              0.2222222222222222,
              "#7201a8"
             ],
             [
              0.3333333333333333,
              "#9c179e"
             ],
             [
              0.4444444444444444,
              "#bd3786"
             ],
             [
              0.5555555555555556,
              "#d8576b"
             ],
             [
              0.6666666666666666,
              "#ed7953"
             ],
             [
              0.7777777777777778,
              "#fb9f3a"
             ],
             [
              0.8888888888888888,
              "#fdca26"
             ],
             [
              1,
              "#f0f921"
             ]
            ],
            "type": "heatmapgl"
           }
          ],
          "histogram": [
           {
            "marker": {
             "pattern": {
              "fillmode": "overlay",
              "size": 10,
              "solidity": 0.2
             }
            },
            "type": "histogram"
           }
          ],
          "histogram2d": [
           {
            "colorbar": {
             "outlinewidth": 0,
             "ticks": ""
            },
            "colorscale": [
             [
              0,
              "#0d0887"
             ],
             [
              0.1111111111111111,
              "#46039f"
             ],
             [
              0.2222222222222222,
              "#7201a8"
             ],
             [
              0.3333333333333333,
              "#9c179e"
             ],
             [
              0.4444444444444444,
              "#bd3786"
             ],
             [
              0.5555555555555556,
              "#d8576b"
             ],
             [
              0.6666666666666666,
              "#ed7953"
             ],
             [
              0.7777777777777778,
              "#fb9f3a"
             ],
             [
              0.8888888888888888,
              "#fdca26"
             ],
             [
              1,
              "#f0f921"
             ]
            ],
            "type": "histogram2d"
           }
          ],
          "histogram2dcontour": [
           {
            "colorbar": {
             "outlinewidth": 0,
             "ticks": ""
            },
            "colorscale": [
             [
              0,
              "#0d0887"
             ],
             [
              0.1111111111111111,
              "#46039f"
             ],
             [
              0.2222222222222222,
              "#7201a8"
             ],
             [
              0.3333333333333333,
              "#9c179e"
             ],
             [
              0.4444444444444444,
              "#bd3786"
             ],
             [
              0.5555555555555556,
              "#d8576b"
             ],
             [
              0.6666666666666666,
              "#ed7953"
             ],
             [
              0.7777777777777778,
              "#fb9f3a"
             ],
             [
              0.8888888888888888,
              "#fdca26"
             ],
             [
              1,
              "#f0f921"
             ]
            ],
            "type": "histogram2dcontour"
           }
          ],
          "mesh3d": [
           {
            "colorbar": {
             "outlinewidth": 0,
             "ticks": ""
            },
            "type": "mesh3d"
           }
          ],
          "parcoords": [
           {
            "line": {
             "colorbar": {
              "outlinewidth": 0,
              "ticks": ""
             }
            },
            "type": "parcoords"
           }
          ],
          "pie": [
           {
            "automargin": true,
            "type": "pie"
           }
          ],
          "scatter": [
           {
            "fillpattern": {
             "fillmode": "overlay",
             "size": 10,
             "solidity": 0.2
            },
            "type": "scatter"
           }
          ],
          "scatter3d": [
           {
            "line": {
             "colorbar": {
              "outlinewidth": 0,
              "ticks": ""
             }
            },
            "marker": {
             "colorbar": {
              "outlinewidth": 0,
              "ticks": ""
             }
            },
            "type": "scatter3d"
           }
          ],
          "scattercarpet": [
           {
            "marker": {
             "colorbar": {
              "outlinewidth": 0,
              "ticks": ""
             }
            },
            "type": "scattercarpet"
           }
          ],
          "scattergeo": [
           {
            "marker": {
             "colorbar": {
              "outlinewidth": 0,
              "ticks": ""
             }
            },
            "type": "scattergeo"
           }
          ],
          "scattergl": [
           {
            "marker": {
             "colorbar": {
              "outlinewidth": 0,
              "ticks": ""
             }
            },
            "type": "scattergl"
           }
          ],
          "scattermapbox": [
           {
            "marker": {
             "colorbar": {
              "outlinewidth": 0,
              "ticks": ""
             }
            },
            "type": "scattermapbox"
           }
          ],
          "scatterpolar": [
           {
            "marker": {
             "colorbar": {
              "outlinewidth": 0,
              "ticks": ""
             }
            },
            "type": "scatterpolar"
           }
          ],
          "scatterpolargl": [
           {
            "marker": {
             "colorbar": {
              "outlinewidth": 0,
              "ticks": ""
             }
            },
            "type": "scatterpolargl"
           }
          ],
          "scatterternary": [
           {
            "marker": {
             "colorbar": {
              "outlinewidth": 0,
              "ticks": ""
             }
            },
            "type": "scatterternary"
           }
          ],
          "surface": [
           {
            "colorbar": {
             "outlinewidth": 0,
             "ticks": ""
            },
            "colorscale": [
             [
              0,
              "#0d0887"
             ],
             [
              0.1111111111111111,
              "#46039f"
             ],
             [
              0.2222222222222222,
              "#7201a8"
             ],
             [
              0.3333333333333333,
              "#9c179e"
             ],
             [
              0.4444444444444444,
              "#bd3786"
             ],
             [
              0.5555555555555556,
              "#d8576b"
             ],
             [
              0.6666666666666666,
              "#ed7953"
             ],
             [
              0.7777777777777778,
              "#fb9f3a"
             ],
             [
              0.8888888888888888,
              "#fdca26"
             ],
             [
              1,
              "#f0f921"
             ]
            ],
            "type": "surface"
           }
          ],
          "table": [
           {
            "cells": {
             "fill": {
              "color": "#EBF0F8"
             },
             "line": {
              "color": "white"
             }
            },
            "header": {
             "fill": {
              "color": "#C8D4E3"
             },
             "line": {
              "color": "white"
             }
            },
            "type": "table"
           }
          ]
         },
         "layout": {
          "annotationdefaults": {
           "arrowcolor": "#2a3f5f",
           "arrowhead": 0,
           "arrowwidth": 1
          },
          "autotypenumbers": "strict",
          "coloraxis": {
           "colorbar": {
            "outlinewidth": 0,
            "ticks": ""
           }
          },
          "colorscale": {
           "diverging": [
            [
             0,
             "#8e0152"
            ],
            [
             0.1,
             "#c51b7d"
            ],
            [
             0.2,
             "#de77ae"
            ],
            [
             0.3,
             "#f1b6da"
            ],
            [
             0.4,
             "#fde0ef"
            ],
            [
             0.5,
             "#f7f7f7"
            ],
            [
             0.6,
             "#e6f5d0"
            ],
            [
             0.7,
             "#b8e186"
            ],
            [
             0.8,
             "#7fbc41"
            ],
            [
             0.9,
             "#4d9221"
            ],
            [
             1,
             "#276419"
            ]
           ],
           "sequential": [
            [
             0,
             "#0d0887"
            ],
            [
             0.1111111111111111,
             "#46039f"
            ],
            [
             0.2222222222222222,
             "#7201a8"
            ],
            [
             0.3333333333333333,
             "#9c179e"
            ],
            [
             0.4444444444444444,
             "#bd3786"
            ],
            [
             0.5555555555555556,
             "#d8576b"
            ],
            [
             0.6666666666666666,
             "#ed7953"
            ],
            [
             0.7777777777777778,
             "#fb9f3a"
            ],
            [
             0.8888888888888888,
             "#fdca26"
            ],
            [
             1,
             "#f0f921"
            ]
           ],
           "sequentialminus": [
            [
             0,
             "#0d0887"
            ],
            [
             0.1111111111111111,
             "#46039f"
            ],
            [
             0.2222222222222222,
             "#7201a8"
            ],
            [
             0.3333333333333333,
             "#9c179e"
            ],
            [
             0.4444444444444444,
             "#bd3786"
            ],
            [
             0.5555555555555556,
             "#d8576b"
            ],
            [
             0.6666666666666666,
             "#ed7953"
            ],
            [
             0.7777777777777778,
             "#fb9f3a"
            ],
            [
             0.8888888888888888,
             "#fdca26"
            ],
            [
             1,
             "#f0f921"
            ]
           ]
          },
          "colorway": [
           "#636efa",
           "#EF553B",
           "#00cc96",
           "#ab63fa",
           "#FFA15A",
           "#19d3f3",
           "#FF6692",
           "#B6E880",
           "#FF97FF",
           "#FECB52"
          ],
          "font": {
           "color": "#2a3f5f"
          },
          "geo": {
           "bgcolor": "white",
           "lakecolor": "white",
           "landcolor": "#E5ECF6",
           "showlakes": true,
           "showland": true,
           "subunitcolor": "white"
          },
          "hoverlabel": {
           "align": "left"
          },
          "hovermode": "closest",
          "mapbox": {
           "style": "light"
          },
          "paper_bgcolor": "white",
          "plot_bgcolor": "#E5ECF6",
          "polar": {
           "angularaxis": {
            "gridcolor": "white",
            "linecolor": "white",
            "ticks": ""
           },
           "bgcolor": "#E5ECF6",
           "radialaxis": {
            "gridcolor": "white",
            "linecolor": "white",
            "ticks": ""
           }
          },
          "scene": {
           "xaxis": {
            "backgroundcolor": "#E5ECF6",
            "gridcolor": "white",
            "gridwidth": 2,
            "linecolor": "white",
            "showbackground": true,
            "ticks": "",
            "zerolinecolor": "white"
           },
           "yaxis": {
            "backgroundcolor": "#E5ECF6",
            "gridcolor": "white",
            "gridwidth": 2,
            "linecolor": "white",
            "showbackground": true,
            "ticks": "",
            "zerolinecolor": "white"
           },
           "zaxis": {
            "backgroundcolor": "#E5ECF6",
            "gridcolor": "white",
            "gridwidth": 2,
            "linecolor": "white",
            "showbackground": true,
            "ticks": "",
            "zerolinecolor": "white"
           }
          },
          "shapedefaults": {
           "line": {
            "color": "#2a3f5f"
           }
          },
          "ternary": {
           "aaxis": {
            "gridcolor": "white",
            "linecolor": "white",
            "ticks": ""
           },
           "baxis": {
            "gridcolor": "white",
            "linecolor": "white",
            "ticks": ""
           },
           "bgcolor": "#E5ECF6",
           "caxis": {
            "gridcolor": "white",
            "linecolor": "white",
            "ticks": ""
           }
          },
          "title": {
           "x": 0.05
          },
          "xaxis": {
           "automargin": true,
           "gridcolor": "white",
           "linecolor": "white",
           "ticks": "",
           "title": {
            "standoff": 15
           },
           "zerolinecolor": "white",
           "zerolinewidth": 2
          },
          "yaxis": {
           "automargin": true,
           "gridcolor": "white",
           "linecolor": "white",
           "ticks": "",
           "title": {
            "standoff": 15
           },
           "zerolinecolor": "white",
           "zerolinewidth": 2
          }
         }
        },
        "width": 750,
        "xaxis": {
         "anchor": "y",
         "domain": [
          0,
          1
         ],
         "title": {
          "text": "Month/Year"
         }
        },
        "yaxis": {
         "anchor": "x",
         "domain": [
          0,
          1
         ],
         "title": {
          "text": ""
         }
        }
       }
      },
      "text/html": [
       "<div>                            <div id=\"0f29ca1a-81e3-4d48-8778-6047f4770490\" class=\"plotly-graph-div\" style=\"height:400px; width:750px;\"></div>            <script type=\"text/javascript\">                require([\"plotly\"], function(Plotly) {                    window.PLOTLYENV=window.PLOTLYENV || {};                                    if (document.getElementById(\"0f29ca1a-81e3-4d48-8778-6047f4770490\")) {                    Plotly.newPlot(                        \"0f29ca1a-81e3-4d48-8778-6047f4770490\",                        [{\"hovertemplate\":\"Crimes=Rape of vuln.\\u003cbr\\u003eMonth\\u002fYear=%{x}\\u003cbr\\u003eOcorr\\u00eancias=%{y}\\u003cextra\\u003e\\u003c\\u002fextra\\u003e\",\"legendgroup\":\"Rape of vuln.\",\"line\":{\"color\":\"#BA1F4C\",\"dash\":\"solid\"},\"marker\":{\"symbol\":\"circle\"},\"mode\":\"lines\",\"name\":\"Rape of vuln.\",\"orientation\":\"v\",\"showlegend\":true,\"x\":[\"Jan\\u002f19\",\"Feb\\u002f19\",\"Mar\\u002f19\",\"Apr\\u002f19\",\"May\\u002f19\",\"Jun\\u002f19\",\"Jul\\u002f19\",\"Aug\\u002f19\",\"Sep\\u002f19\",\"Oct\\u002f19\",\"Nov\\u002f19\",\"Dec\\u002f19\",\"Jan\\u002f20\",\"Feb\\u002f20\",\"Mar\\u002f20\",\"Apr\\u002f20\",\"May\\u002f20\",\"Jun\\u002f20\",\"Jul\\u002f20\",\"Aug\\u002f20\",\"Sep\\u002f20\",\"Oct\\u002f20\",\"Nov\\u002f20\",\"Dec\\u002f20\",\"Jan\\u002f21\",\"Feb\\u002f21\",\"Mar\\u002f21\",\"Apr\\u002f21\",\"May\\u002f21\",\"Jun\\u002f21\",\"Jul\\u002f21\",\"Aug\\u002f21\",\"Sep\\u002f21\",\"Oct\\u002f21\",\"Nov\\u002f21\",\"Dec\\u002f21\",\"Jan\\u002f22\",\"Feb\\u002f22\",\"Mar\\u002f22\",\"Apr\\u002f22\",\"May\\u002f22\",\"Jun\\u002f22\",\"Jul\\u002f22\",\"Aug\\u002f22\",\"Sep\\u002f22\",\"Oct\\u002f22\",\"Nov\\u002f22\",\"Dec\\u002f22\",\"Jan\\u002f23\",\"Feb\\u002f23\",\"Mar\\u002f23\",\"Apr\\u002f23\",\"May\\u002f23\",\"Jun\\u002f23\",\"Jul\\u002f23\",\"Aug\\u002f23\",\"Sep\\u002f23\",\"Oct\\u002f23\",\"Nov\\u002f23\",\"Dec\\u002f23\"],\"xaxis\":\"x\",\"y\":[197,184,198,199,241,245,227,208,242,200,208,131,191,204,164,127,140,185,215,232,227,235,220,148,226,212,263,224,265,232,264,272,278,267,253,191,204,227,215,233,336,275,276,342,356,323,295,250,278,300,360,368,437,406,320,319,367,306,305,173],\"yaxis\":\"y\",\"type\":\"scatter\"},{\"hovertemplate\":\"Crimes=Psy. viol.\\u003cbr\\u003eMonth\\u002fYear=%{x}\\u003cbr\\u003eOcorr\\u00eancias=%{y}\\u003cextra\\u003e\\u003c\\u002fextra\\u003e\",\"legendgroup\":\"Psy. viol.\",\"line\":{\"color\":\"#9373AE\",\"dash\":\"solid\"},\"marker\":{\"symbol\":\"circle\"},\"mode\":\"lines\",\"name\":\"Psy. viol.\",\"orientation\":\"v\",\"showlegend\":true,\"x\":[\"Feb\\u002f19\",\"Mar\\u002f19\",\"Apr\\u002f19\",\"May\\u002f19\",\"Jun\\u002f19\",\"Jul\\u002f19\",\"Aug\\u002f19\",\"Sep\\u002f19\",\"Oct\\u002f19\",\"Nov\\u002f19\",\"Dec\\u002f19\",\"Jan\\u002f20\",\"Feb\\u002f20\",\"Mar\\u002f20\",\"Apr\\u002f20\",\"May\\u002f20\",\"Jun\\u002f20\",\"Jul\\u002f20\",\"Aug\\u002f20\",\"Sep\\u002f20\",\"Oct\\u002f20\",\"Nov\\u002f20\",\"Dec\\u002f20\",\"Jan\\u002f21\",\"Feb\\u002f21\",\"Mar\\u002f21\",\"Apr\\u002f21\",\"May\\u002f21\",\"Jun\\u002f21\",\"Jul\\u002f21\",\"Aug\\u002f21\",\"Sep\\u002f21\",\"Oct\\u002f21\",\"Nov\\u002f21\",\"Dec\\u002f21\",\"Jan\\u002f22\",\"Feb\\u002f22\",\"Mar\\u002f22\",\"Apr\\u002f22\",\"May\\u002f22\",\"Jun\\u002f22\",\"Jul\\u002f22\",\"Aug\\u002f22\",\"Sep\\u002f22\",\"Oct\\u002f22\",\"Nov\\u002f22\",\"Dec\\u002f22\",\"Jan\\u002f23\",\"Feb\\u002f23\",\"Mar\\u002f23\",\"Apr\\u002f23\",\"May\\u002f23\",\"Jun\\u002f23\",\"Jul\\u002f23\",\"Aug\\u002f23\",\"Sep\\u002f23\",\"Oct\\u002f23\",\"Nov\\u002f23\",\"Dec\\u002f23\"],\"xaxis\":\"x\",\"y\":[1,13,53,78,63,12,36,46,71,23,33,27,16,32,40,14,89,71,94,86,82,73,69,29,19,9,8,19,44,52,118,114,114,152,104,117,141,166,149,182,157,138,199,165,169,167,142,171,153,178,164,205,185,205,154,145,165,172,125],\"yaxis\":\"y\",\"type\":\"scatter\"},{\"hovertemplate\":\"Crimes=Viol. urg. protect. meas.\\u003cbr\\u003eMonth\\u002fYear=%{x}\\u003cbr\\u003eOcorr\\u00eancias=%{y}\\u003cextra\\u003e\\u003c\\u002fextra\\u003e\",\"legendgroup\":\"Viol. urg. protect. meas.\",\"line\":{\"color\":\"#41A7C4\",\"dash\":\"solid\"},\"marker\":{\"symbol\":\"circle\"},\"mode\":\"lines\",\"name\":\"Viol. urg. protect. meas.\",\"orientation\":\"v\",\"showlegend\":true,\"x\":[\"Jan\\u002f20\",\"Feb\\u002f20\",\"Mar\\u002f20\",\"Apr\\u002f20\",\"May\\u002f20\",\"Jun\\u002f20\",\"Jul\\u002f20\",\"Aug\\u002f20\",\"Sep\\u002f20\",\"Oct\\u002f20\",\"Nov\\u002f20\",\"Dec\\u002f20\",\"Jan\\u002f21\",\"Feb\\u002f21\",\"Mar\\u002f21\",\"Apr\\u002f21\",\"May\\u002f21\",\"Jun\\u002f21\",\"Jul\\u002f21\",\"Aug\\u002f21\",\"Sep\\u002f21\",\"Oct\\u002f21\",\"Nov\\u002f21\",\"Dec\\u002f21\",\"Jan\\u002f22\",\"Feb\\u002f22\",\"Mar\\u002f22\",\"Apr\\u002f22\",\"May\\u002f22\",\"Jun\\u002f22\",\"Jul\\u002f22\",\"Aug\\u002f22\",\"Sep\\u002f22\",\"Oct\\u002f22\",\"Nov\\u002f22\",\"Dec\\u002f22\",\"Jan\\u002f23\",\"Feb\\u002f23\",\"Mar\\u002f23\",\"Apr\\u002f23\",\"May\\u002f23\",\"Jun\\u002f23\",\"Jul\\u002f23\",\"Aug\\u002f23\",\"Sep\\u002f23\",\"Oct\\u002f23\",\"Nov\\u002f23\",\"Dec\\u002f23\"],\"xaxis\":\"x\",\"y\":[57,78,61,37,36,65,73,73,80,73,76,82,86,63,70,82,84,84,79,100,97,109,100,95,82,96,100,95,87,103,91,157,157,166,159,151,163,129,166,185,213,223,181,187,197,212,178,158],\"yaxis\":\"y\",\"type\":\"scatter\"}],                        {\"template\":{\"data\":{\"histogram2dcontour\":[{\"type\":\"histogram2dcontour\",\"colorbar\":{\"outlinewidth\":0,\"ticks\":\"\"},\"colorscale\":[[0.0,\"#0d0887\"],[0.1111111111111111,\"#46039f\"],[0.2222222222222222,\"#7201a8\"],[0.3333333333333333,\"#9c179e\"],[0.4444444444444444,\"#bd3786\"],[0.5555555555555556,\"#d8576b\"],[0.6666666666666666,\"#ed7953\"],[0.7777777777777778,\"#fb9f3a\"],[0.8888888888888888,\"#fdca26\"],[1.0,\"#f0f921\"]]}],\"choropleth\":[{\"type\":\"choropleth\",\"colorbar\":{\"outlinewidth\":0,\"ticks\":\"\"}}],\"histogram2d\":[{\"type\":\"histogram2d\",\"colorbar\":{\"outlinewidth\":0,\"ticks\":\"\"},\"colorscale\":[[0.0,\"#0d0887\"],[0.1111111111111111,\"#46039f\"],[0.2222222222222222,\"#7201a8\"],[0.3333333333333333,\"#9c179e\"],[0.4444444444444444,\"#bd3786\"],[0.5555555555555556,\"#d8576b\"],[0.6666666666666666,\"#ed7953\"],[0.7777777777777778,\"#fb9f3a\"],[0.8888888888888888,\"#fdca26\"],[1.0,\"#f0f921\"]]}],\"heatmap\":[{\"type\":\"heatmap\",\"colorbar\":{\"outlinewidth\":0,\"ticks\":\"\"},\"colorscale\":[[0.0,\"#0d0887\"],[0.1111111111111111,\"#46039f\"],[0.2222222222222222,\"#7201a8\"],[0.3333333333333333,\"#9c179e\"],[0.4444444444444444,\"#bd3786\"],[0.5555555555555556,\"#d8576b\"],[0.6666666666666666,\"#ed7953\"],[0.7777777777777778,\"#fb9f3a\"],[0.8888888888888888,\"#fdca26\"],[1.0,\"#f0f921\"]]}],\"heatmapgl\":[{\"type\":\"heatmapgl\",\"colorbar\":{\"outlinewidth\":0,\"ticks\":\"\"},\"colorscale\":[[0.0,\"#0d0887\"],[0.1111111111111111,\"#46039f\"],[0.2222222222222222,\"#7201a8\"],[0.3333333333333333,\"#9c179e\"],[0.4444444444444444,\"#bd3786\"],[0.5555555555555556,\"#d8576b\"],[0.6666666666666666,\"#ed7953\"],[0.7777777777777778,\"#fb9f3a\"],[0.8888888888888888,\"#fdca26\"],[1.0,\"#f0f921\"]]}],\"contourcarpet\":[{\"type\":\"contourcarpet\",\"colorbar\":{\"outlinewidth\":0,\"ticks\":\"\"}}],\"contour\":[{\"type\":\"contour\",\"colorbar\":{\"outlinewidth\":0,\"ticks\":\"\"},\"colorscale\":[[0.0,\"#0d0887\"],[0.1111111111111111,\"#46039f\"],[0.2222222222222222,\"#7201a8\"],[0.3333333333333333,\"#9c179e\"],[0.4444444444444444,\"#bd3786\"],[0.5555555555555556,\"#d8576b\"],[0.6666666666666666,\"#ed7953\"],[0.7777777777777778,\"#fb9f3a\"],[0.8888888888888888,\"#fdca26\"],[1.0,\"#f0f921\"]]}],\"surface\":[{\"type\":\"surface\",\"colorbar\":{\"outlinewidth\":0,\"ticks\":\"\"},\"colorscale\":[[0.0,\"#0d0887\"],[0.1111111111111111,\"#46039f\"],[0.2222222222222222,\"#7201a8\"],[0.3333333333333333,\"#9c179e\"],[0.4444444444444444,\"#bd3786\"],[0.5555555555555556,\"#d8576b\"],[0.6666666666666666,\"#ed7953\"],[0.7777777777777778,\"#fb9f3a\"],[0.8888888888888888,\"#fdca26\"],[1.0,\"#f0f921\"]]}],\"mesh3d\":[{\"type\":\"mesh3d\",\"colorbar\":{\"outlinewidth\":0,\"ticks\":\"\"}}],\"scatter\":[{\"fillpattern\":{\"fillmode\":\"overlay\",\"size\":10,\"solidity\":0.2},\"type\":\"scatter\"}],\"parcoords\":[{\"type\":\"parcoords\",\"line\":{\"colorbar\":{\"outlinewidth\":0,\"ticks\":\"\"}}}],\"scatterpolargl\":[{\"type\":\"scatterpolargl\",\"marker\":{\"colorbar\":{\"outlinewidth\":0,\"ticks\":\"\"}}}],\"bar\":[{\"error_x\":{\"color\":\"#2a3f5f\"},\"error_y\":{\"color\":\"#2a3f5f\"},\"marker\":{\"line\":{\"color\":\"#E5ECF6\",\"width\":0.5},\"pattern\":{\"fillmode\":\"overlay\",\"size\":10,\"solidity\":0.2}},\"type\":\"bar\"}],\"scattergeo\":[{\"type\":\"scattergeo\",\"marker\":{\"colorbar\":{\"outlinewidth\":0,\"ticks\":\"\"}}}],\"scatterpolar\":[{\"type\":\"scatterpolar\",\"marker\":{\"colorbar\":{\"outlinewidth\":0,\"ticks\":\"\"}}}],\"histogram\":[{\"marker\":{\"pattern\":{\"fillmode\":\"overlay\",\"size\":10,\"solidity\":0.2}},\"type\":\"histogram\"}],\"scattergl\":[{\"type\":\"scattergl\",\"marker\":{\"colorbar\":{\"outlinewidth\":0,\"ticks\":\"\"}}}],\"scatter3d\":[{\"type\":\"scatter3d\",\"line\":{\"colorbar\":{\"outlinewidth\":0,\"ticks\":\"\"}},\"marker\":{\"colorbar\":{\"outlinewidth\":0,\"ticks\":\"\"}}}],\"scattermapbox\":[{\"type\":\"scattermapbox\",\"marker\":{\"colorbar\":{\"outlinewidth\":0,\"ticks\":\"\"}}}],\"scatterternary\":[{\"type\":\"scatterternary\",\"marker\":{\"colorbar\":{\"outlinewidth\":0,\"ticks\":\"\"}}}],\"scattercarpet\":[{\"type\":\"scattercarpet\",\"marker\":{\"colorbar\":{\"outlinewidth\":0,\"ticks\":\"\"}}}],\"carpet\":[{\"aaxis\":{\"endlinecolor\":\"#2a3f5f\",\"gridcolor\":\"white\",\"linecolor\":\"white\",\"minorgridcolor\":\"white\",\"startlinecolor\":\"#2a3f5f\"},\"baxis\":{\"endlinecolor\":\"#2a3f5f\",\"gridcolor\":\"white\",\"linecolor\":\"white\",\"minorgridcolor\":\"white\",\"startlinecolor\":\"#2a3f5f\"},\"type\":\"carpet\"}],\"table\":[{\"cells\":{\"fill\":{\"color\":\"#EBF0F8\"},\"line\":{\"color\":\"white\"}},\"header\":{\"fill\":{\"color\":\"#C8D4E3\"},\"line\":{\"color\":\"white\"}},\"type\":\"table\"}],\"barpolar\":[{\"marker\":{\"line\":{\"color\":\"#E5ECF6\",\"width\":0.5},\"pattern\":{\"fillmode\":\"overlay\",\"size\":10,\"solidity\":0.2}},\"type\":\"barpolar\"}],\"pie\":[{\"automargin\":true,\"type\":\"pie\"}]},\"layout\":{\"autotypenumbers\":\"strict\",\"colorway\":[\"#636efa\",\"#EF553B\",\"#00cc96\",\"#ab63fa\",\"#FFA15A\",\"#19d3f3\",\"#FF6692\",\"#B6E880\",\"#FF97FF\",\"#FECB52\"],\"font\":{\"color\":\"#2a3f5f\"},\"hovermode\":\"closest\",\"hoverlabel\":{\"align\":\"left\"},\"paper_bgcolor\":\"white\",\"plot_bgcolor\":\"#E5ECF6\",\"polar\":{\"bgcolor\":\"#E5ECF6\",\"angularaxis\":{\"gridcolor\":\"white\",\"linecolor\":\"white\",\"ticks\":\"\"},\"radialaxis\":{\"gridcolor\":\"white\",\"linecolor\":\"white\",\"ticks\":\"\"}},\"ternary\":{\"bgcolor\":\"#E5ECF6\",\"aaxis\":{\"gridcolor\":\"white\",\"linecolor\":\"white\",\"ticks\":\"\"},\"baxis\":{\"gridcolor\":\"white\",\"linecolor\":\"white\",\"ticks\":\"\"},\"caxis\":{\"gridcolor\":\"white\",\"linecolor\":\"white\",\"ticks\":\"\"}},\"coloraxis\":{\"colorbar\":{\"outlinewidth\":0,\"ticks\":\"\"}},\"colorscale\":{\"sequential\":[[0.0,\"#0d0887\"],[0.1111111111111111,\"#46039f\"],[0.2222222222222222,\"#7201a8\"],[0.3333333333333333,\"#9c179e\"],[0.4444444444444444,\"#bd3786\"],[0.5555555555555556,\"#d8576b\"],[0.6666666666666666,\"#ed7953\"],[0.7777777777777778,\"#fb9f3a\"],[0.8888888888888888,\"#fdca26\"],[1.0,\"#f0f921\"]],\"sequentialminus\":[[0.0,\"#0d0887\"],[0.1111111111111111,\"#46039f\"],[0.2222222222222222,\"#7201a8\"],[0.3333333333333333,\"#9c179e\"],[0.4444444444444444,\"#bd3786\"],[0.5555555555555556,\"#d8576b\"],[0.6666666666666666,\"#ed7953\"],[0.7777777777777778,\"#fb9f3a\"],[0.8888888888888888,\"#fdca26\"],[1.0,\"#f0f921\"]],\"diverging\":[[0,\"#8e0152\"],[0.1,\"#c51b7d\"],[0.2,\"#de77ae\"],[0.3,\"#f1b6da\"],[0.4,\"#fde0ef\"],[0.5,\"#f7f7f7\"],[0.6,\"#e6f5d0\"],[0.7,\"#b8e186\"],[0.8,\"#7fbc41\"],[0.9,\"#4d9221\"],[1,\"#276419\"]]},\"xaxis\":{\"gridcolor\":\"white\",\"linecolor\":\"white\",\"ticks\":\"\",\"title\":{\"standoff\":15},\"zerolinecolor\":\"white\",\"automargin\":true,\"zerolinewidth\":2},\"yaxis\":{\"gridcolor\":\"white\",\"linecolor\":\"white\",\"ticks\":\"\",\"title\":{\"standoff\":15},\"zerolinecolor\":\"white\",\"automargin\":true,\"zerolinewidth\":2},\"scene\":{\"xaxis\":{\"backgroundcolor\":\"#E5ECF6\",\"gridcolor\":\"white\",\"linecolor\":\"white\",\"showbackground\":true,\"ticks\":\"\",\"zerolinecolor\":\"white\",\"gridwidth\":2},\"yaxis\":{\"backgroundcolor\":\"#E5ECF6\",\"gridcolor\":\"white\",\"linecolor\":\"white\",\"showbackground\":true,\"ticks\":\"\",\"zerolinecolor\":\"white\",\"gridwidth\":2},\"zaxis\":{\"backgroundcolor\":\"#E5ECF6\",\"gridcolor\":\"white\",\"linecolor\":\"white\",\"showbackground\":true,\"ticks\":\"\",\"zerolinecolor\":\"white\",\"gridwidth\":2}},\"shapedefaults\":{\"line\":{\"color\":\"#2a3f5f\"}},\"annotationdefaults\":{\"arrowcolor\":\"#2a3f5f\",\"arrowhead\":0,\"arrowwidth\":1},\"geo\":{\"bgcolor\":\"white\",\"landcolor\":\"#E5ECF6\",\"subunitcolor\":\"white\",\"showland\":true,\"showlakes\":true,\"lakecolor\":\"white\"},\"title\":{\"x\":0.05},\"mapbox\":{\"style\":\"light\"}}},\"xaxis\":{\"anchor\":\"y\",\"domain\":[0.0,1.0],\"title\":{\"text\":\"Month\\u002fYear\"}},\"yaxis\":{\"anchor\":\"x\",\"domain\":[0.0,1.0],\"title\":{\"text\":\"\"}},\"legend\":{\"title\":{\"text\":\"Crimes\"},\"tracegroupgap\":0,\"bgcolor\":\"#ebe4f7\"},\"margin\":{\"t\":10,\"l\":10,\"r\":10,\"b\":10},\"height\":400,\"width\":750,\"font\":{\"size\":15},\"plot_bgcolor\":\"#ebe4f7\",\"paper_bgcolor\":\"white\"},                        {\"responsive\": true}                    ).then(function(){\n",
       "                            \n",
       "var gd = document.getElementById('0f29ca1a-81e3-4d48-8778-6047f4770490');\n",
       "var x = new MutationObserver(function (mutations, observer) {{\n",
       "        var display = window.getComputedStyle(gd).display;\n",
       "        if (!display || display === 'none') {{\n",
       "            console.log([gd, 'removed!']);\n",
       "            Plotly.purge(gd);\n",
       "            observer.disconnect();\n",
       "        }}\n",
       "}});\n",
       "\n",
       "// Listen for the removal of the full notebook cells\n",
       "var notebookContainer = gd.closest('#notebook-container');\n",
       "if (notebookContainer) {{\n",
       "    x.observe(notebookContainer, {childList: true});\n",
       "}}\n",
       "\n",
       "// Listen for the clearing of the current output cell\n",
       "var outputEl = gd.closest('.output');\n",
       "if (outputEl) {{\n",
       "    x.observe(outputEl, {childList: true});\n",
       "}}\n",
       "\n",
       "                        })                };                });            </script>        </div>"
      ]
     },
     "metadata": {},
     "output_type": "display_data"
    }
   ],
   "source": [
    "ocorrencias_por_crime = agrupado_mes_ordenado.groupby('consolidado')['ocorrencias'].sum()\n",
    "tres_menos_frequentes = ocorrencias_por_crime.nsmallest(3)\n",
    "agrupado_crimes_menos = agrupado_mes_ordenado[agrupado_mes_ordenado['consolidado'].isin(tres_menos_frequentes.index)]\n",
    "\n",
    "fig = px.line(agrupado_crimes_menos, x='mes_ano', y='ocorrencias', color='consolidado', \n",
    "              labels={\"ocorrencias\": \"Ocorrências\", \"mes_ano\": \"Month/Year\", \"consolidado\": \"Crimes\"},\n",
    "              height=400, width=750,color_discrete_sequence=custom_palette)\n",
    "\n",
    "fig.update_layout(\n",
    "    margin=dict(l=10, r=10, t=10, b=10), \n",
    "    font=dict(size=15),\n",
    "    plot_bgcolor='#ebe4f7',\n",
    "    paper_bgcolor='white', \n",
    "    legend=dict(bgcolor='#ebe4f7')\n",
    ")\n",
    "\n",
    "fig.update_yaxes(title='')\n",
    "#fig.write_image(\"imagens/frequencia_crimes_mes1.jpeg\", format=\"jpeg\", scale=5)\n",
    "\n",
    "fig.show()\n",
    "#fig.write_image(\"imagens_svg/freq_por_mes_dos_crimes1.svg\")"
   ]
  },
  {
   "cell_type": "code",
   "execution_count": 115,
   "metadata": {},
   "outputs": [
    {
     "data": {
      "text/html": [
       "<div>\n",
       "<style scoped>\n",
       "    .dataframe tbody tr th:only-of-type {\n",
       "        vertical-align: middle;\n",
       "    }\n",
       "\n",
       "    .dataframe tbody tr th {\n",
       "        vertical-align: top;\n",
       "    }\n",
       "\n",
       "    .dataframe thead th {\n",
       "        text-align: right;\n",
       "    }\n",
       "</style>\n",
       "<table border=\"1\" class=\"dataframe\">\n",
       "  <thead>\n",
       "    <tr style=\"text-align: right;\">\n",
       "      <th></th>\n",
       "      <th>unidade_origem</th>\n",
       "      <th>unidade_responsavel</th>\n",
       "      <th>dia_semana</th>\n",
       "      <th>mes_fato</th>\n",
       "      <th>municipios</th>\n",
       "      <th>ano_fato</th>\n",
       "      <th>data_fato</th>\n",
       "      <th>consolidado</th>\n",
       "      <th>especificacao_crime</th>\n",
       "      <th>causa_presumivel</th>\n",
       "      <th>...</th>\n",
       "      <th>grau_de_relacionamento</th>\n",
       "      <th>relato</th>\n",
       "      <th>aut_sexo</th>\n",
       "      <th>distrito</th>\n",
       "      <th>regionais</th>\n",
       "      <th>nro_bop_aditado</th>\n",
       "      <th>nro_bop</th>\n",
       "      <th>turno</th>\n",
       "      <th>periodo</th>\n",
       "      <th>tipo_violencia</th>\n",
       "    </tr>\n",
       "  </thead>\n",
       "  <tbody>\n",
       "  </tbody>\n",
       "</table>\n",
       "<p>0 rows × 27 columns</p>\n",
       "</div>"
      ],
      "text/plain": [
       "Empty DataFrame\n",
       "Columns: [unidade_origem, unidade_responsavel, dia_semana, mes_fato, municipios, ano_fato, data_fato, consolidado, especificacao_crime, causa_presumivel, meio_empregado_sisp, bairros, local_ocorrencia, vit_fx_etaria, vit_sexo, vit_cor_pele, vit_grau_inst, grau_de_relacionamento, relato, aut_sexo, distrito, regionais, nro_bop_aditado, nro_bop, turno, periodo, tipo_violencia]\n",
       "Index: []\n",
       "\n",
       "[0 rows x 27 columns]"
      ]
     },
     "execution_count": 115,
     "metadata": {},
     "output_type": "execute_result"
    }
   ],
   "source": [
    "crimes_2019_descumprimento = crimes_selecionados_para_df[(crimes_selecionados_para_df['ano_fato'] == 2019) & (crimes_selecionados_para_df['consolidado'].str.contains('Viol. of urgent protect. meas.', case=False))]\n",
    "crimes_2019_descumprimento"
   ]
  },
  {
   "cell_type": "markdown",
   "metadata": {},
   "source": [
    "- Crimes por dia e turno"
   ]
  },
  {
   "cell_type": "code",
   "execution_count": null,
   "metadata": {},
   "outputs": [
    {
     "name": "stderr",
     "output_type": "stream",
     "text": [
      "/tmp/ipykernel_4713/4028283423.py:12: FutureWarning:\n",
      "\n",
      "The default of observed=False is deprecated and will be changed to True in a future version of pandas. Pass observed=False to retain current behavior or observed=True to adopt the future default and silence this warning.\n",
      "\n",
      "/usr/lib/python3/dist-packages/plotly/express/_core.py:1971: FutureWarning:\n",
      "\n",
      "The default of observed=False is deprecated and will be changed to True in a future version of pandas. Pass observed=False to retain current behavior or observed=True to adopt the future default and silence this warning.\n",
      "\n"
     ]
    },
    {
     "data": {
      "application/vnd.plotly.v1+json": {
       "config": {
        "linkText": "Export to plot.ly",
        "plotlyServerURL": "https://plot.ly",
        "showLink": false
       },
       "data": [
        {
         "alignmentgroup": "True",
         "hovertemplate": "Crime shift=Night<br>Days of the week=%{x}<br>total_turno=%{y}<br>text=%{text}<extra></extra>",
         "legendgroup": "Night",
         "marker": {
          "color": "#BA1F4C",
          "pattern": {
           "shape": ""
          }
         },
         "name": "Night",
         "offsetgroup": "Night",
         "orientation": "v",
         "showlegend": true,
         "text": [
          "42.3%",
          "25.6%",
          "38.3%",
          "29.5%",
          "29.9%",
          "31.0%",
          "29.7%"
         ],
         "textposition": "inside",
         "type": "bar",
         "x": [
          "DOM",
          "SEG",
          "SAB",
          "QUA",
          "TER",
          "SEX",
          "QUI"
         ],
         "xaxis": "x",
         "y": [
          16582,
          7871,
          10883,
          7921,
          7766,
          7971,
          7544
         ],
         "yaxis": "y"
        },
        {
         "alignmentgroup": "True",
         "hovertemplate": "Crime shift=Morning<br>Days of the week=%{x}<br>total_turno=%{y}<br>text=%{text}<extra></extra>",
         "legendgroup": "Morning",
         "marker": {
          "color": "#9373AE",
          "pattern": {
           "shape": ""
          }
         },
         "name": "Morning",
         "offsetgroup": "Morning",
         "orientation": "v",
         "showlegend": true,
         "text": [
          "19.9%",
          "32.1%",
          "23.5%",
          "32.7%",
          "32.8%",
          "30.7%",
          "32.1%"
         ],
         "textposition": "inside",
         "type": "bar",
         "x": [
          "DOM",
          "SEG",
          "SAB",
          "QUA",
          "TER",
          "SEX",
          "QUI"
         ],
         "xaxis": "x",
         "y": [
          7820,
          9876,
          6668,
          8805,
          8508,
          7913,
          8156
         ],
         "yaxis": "y"
        },
        {
         "alignmentgroup": "True",
         "hovertemplate": "Crime shift=Afternoon<br>Days of the week=%{x}<br>total_turno=%{y}<br>text=%{text}<extra></extra>",
         "legendgroup": "Afternoon",
         "marker": {
          "color": "#41A7C4",
          "pattern": {
           "shape": ""
          }
         },
         "name": "Afternoon",
         "offsetgroup": "Afternoon",
         "orientation": "v",
         "showlegend": true,
         "text": [
          "22.4%",
          "28.7%",
          "25.0%",
          "31.3%",
          "31.7%",
          "29.6%",
          "31.2%"
         ],
         "textposition": "inside",
         "type": "bar",
         "x": [
          "DOM",
          "SEG",
          "SAB",
          "QUA",
          "TER",
          "SEX",
          "QUI"
         ],
         "xaxis": "x",
         "y": [
          8795,
          8825,
          7119,
          8428,
          8231,
          7613,
          7938
         ],
         "yaxis": "y"
        },
        {
         "alignmentgroup": "True",
         "hovertemplate": "Crime shift=Early morning<br>Days of the week=%{x}<br>total_turno=%{y}<br>text=%{text}<extra></extra>",
         "legendgroup": "Early morning",
         "marker": {
          "color": "#D68E4A",
          "pattern": {
           "shape": ""
          }
         },
         "name": "Early morning",
         "offsetgroup": "Early morning",
         "orientation": "v",
         "showlegend": true,
         "text": [
          "15.3%",
          "13.5%",
          "13.2%",
          "6.5%",
          "5.6%",
          "8.8%",
          "7.0%"
         ],
         "textfont": {
          "color": "white"
         },
         "textposition": "inside",
         "type": "bar",
         "x": [
          "DOM",
          "SEG",
          "SAB",
          "QUA",
          "TER",
          "SEX",
          "QUI"
         ],
         "xaxis": "x",
         "y": [
          6019,
          4150,
          3763,
          1742,
          1452,
          2257,
          1772
         ],
         "yaxis": "y"
        }
       ],
       "layout": {
        "barmode": "stack",
        "font": {
         "size": 15
        },
        "height": 400,
        "legend": {
         "bgcolor": "#ebe4f7",
         "title": {
          "text": "Crime shift"
         },
         "tracegroupgap": 0
        },
        "margin": {
         "b": 10,
         "l": 10,
         "r": 10,
         "t": 10
        },
        "paper_bgcolor": "white",
        "plot_bgcolor": "#ebe4f7",
        "template": {
         "data": {
          "bar": [
           {
            "error_x": {
             "color": "#2a3f5f"
            },
            "error_y": {
             "color": "#2a3f5f"
            },
            "marker": {
             "line": {
              "color": "#E5ECF6",
              "width": 0.5
             },
             "pattern": {
              "fillmode": "overlay",
              "size": 10,
              "solidity": 0.2
             }
            },
            "type": "bar"
           }
          ],
          "barpolar": [
           {
            "marker": {
             "line": {
              "color": "#E5ECF6",
              "width": 0.5
             },
             "pattern": {
              "fillmode": "overlay",
              "size": 10,
              "solidity": 0.2
             }
            },
            "type": "barpolar"
           }
          ],
          "carpet": [
           {
            "aaxis": {
             "endlinecolor": "#2a3f5f",
             "gridcolor": "white",
             "linecolor": "white",
             "minorgridcolor": "white",
             "startlinecolor": "#2a3f5f"
            },
            "baxis": {
             "endlinecolor": "#2a3f5f",
             "gridcolor": "white",
             "linecolor": "white",
             "minorgridcolor": "white",
             "startlinecolor": "#2a3f5f"
            },
            "type": "carpet"
           }
          ],
          "choropleth": [
           {
            "colorbar": {
             "outlinewidth": 0,
             "ticks": ""
            },
            "type": "choropleth"
           }
          ],
          "contour": [
           {
            "colorbar": {
             "outlinewidth": 0,
             "ticks": ""
            },
            "colorscale": [
             [
              0,
              "#0d0887"
             ],
             [
              0.1111111111111111,
              "#46039f"
             ],
             [
              0.2222222222222222,
              "#7201a8"
             ],
             [
              0.3333333333333333,
              "#9c179e"
             ],
             [
              0.4444444444444444,
              "#bd3786"
             ],
             [
              0.5555555555555556,
              "#d8576b"
             ],
             [
              0.6666666666666666,
              "#ed7953"
             ],
             [
              0.7777777777777778,
              "#fb9f3a"
             ],
             [
              0.8888888888888888,
              "#fdca26"
             ],
             [
              1,
              "#f0f921"
             ]
            ],
            "type": "contour"
           }
          ],
          "contourcarpet": [
           {
            "colorbar": {
             "outlinewidth": 0,
             "ticks": ""
            },
            "type": "contourcarpet"
           }
          ],
          "heatmap": [
           {
            "colorbar": {
             "outlinewidth": 0,
             "ticks": ""
            },
            "colorscale": [
             [
              0,
              "#0d0887"
             ],
             [
              0.1111111111111111,
              "#46039f"
             ],
             [
              0.2222222222222222,
              "#7201a8"
             ],
             [
              0.3333333333333333,
              "#9c179e"
             ],
             [
              0.4444444444444444,
              "#bd3786"
             ],
             [
              0.5555555555555556,
              "#d8576b"
             ],
             [
              0.6666666666666666,
              "#ed7953"
             ],
             [
              0.7777777777777778,
              "#fb9f3a"
             ],
             [
              0.8888888888888888,
              "#fdca26"
             ],
             [
              1,
              "#f0f921"
             ]
            ],
            "type": "heatmap"
           }
          ],
          "heatmapgl": [
           {
            "colorbar": {
             "outlinewidth": 0,
             "ticks": ""
            },
            "colorscale": [
             [
              0,
              "#0d0887"
             ],
             [
              0.1111111111111111,
              "#46039f"
             ],
             [
              0.2222222222222222,
              "#7201a8"
             ],
             [
              0.3333333333333333,
              "#9c179e"
             ],
             [
              0.4444444444444444,
              "#bd3786"
             ],
             [
              0.5555555555555556,
              "#d8576b"
             ],
             [
              0.6666666666666666,
              "#ed7953"
             ],
             [
              0.7777777777777778,
              "#fb9f3a"
             ],
             [
              0.8888888888888888,
              "#fdca26"
             ],
             [
              1,
              "#f0f921"
             ]
            ],
            "type": "heatmapgl"
           }
          ],
          "histogram": [
           {
            "marker": {
             "pattern": {
              "fillmode": "overlay",
              "size": 10,
              "solidity": 0.2
             }
            },
            "type": "histogram"
           }
          ],
          "histogram2d": [
           {
            "colorbar": {
             "outlinewidth": 0,
             "ticks": ""
            },
            "colorscale": [
             [
              0,
              "#0d0887"
             ],
             [
              0.1111111111111111,
              "#46039f"
             ],
             [
              0.2222222222222222,
              "#7201a8"
             ],
             [
              0.3333333333333333,
              "#9c179e"
             ],
             [
              0.4444444444444444,
              "#bd3786"
             ],
             [
              0.5555555555555556,
              "#d8576b"
             ],
             [
              0.6666666666666666,
              "#ed7953"
             ],
             [
              0.7777777777777778,
              "#fb9f3a"
             ],
             [
              0.8888888888888888,
              "#fdca26"
             ],
             [
              1,
              "#f0f921"
             ]
            ],
            "type": "histogram2d"
           }
          ],
          "histogram2dcontour": [
           {
            "colorbar": {
             "outlinewidth": 0,
             "ticks": ""
            },
            "colorscale": [
             [
              0,
              "#0d0887"
             ],
             [
              0.1111111111111111,
              "#46039f"
             ],
             [
              0.2222222222222222,
              "#7201a8"
             ],
             [
              0.3333333333333333,
              "#9c179e"
             ],
             [
              0.4444444444444444,
              "#bd3786"
             ],
             [
              0.5555555555555556,
              "#d8576b"
             ],
             [
              0.6666666666666666,
              "#ed7953"
             ],
             [
              0.7777777777777778,
              "#fb9f3a"
             ],
             [
              0.8888888888888888,
              "#fdca26"
             ],
             [
              1,
              "#f0f921"
             ]
            ],
            "type": "histogram2dcontour"
           }
          ],
          "mesh3d": [
           {
            "colorbar": {
             "outlinewidth": 0,
             "ticks": ""
            },
            "type": "mesh3d"
           }
          ],
          "parcoords": [
           {
            "line": {
             "colorbar": {
              "outlinewidth": 0,
              "ticks": ""
             }
            },
            "type": "parcoords"
           }
          ],
          "pie": [
           {
            "automargin": true,
            "type": "pie"
           }
          ],
          "scatter": [
           {
            "fillpattern": {
             "fillmode": "overlay",
             "size": 10,
             "solidity": 0.2
            },
            "type": "scatter"
           }
          ],
          "scatter3d": [
           {
            "line": {
             "colorbar": {
              "outlinewidth": 0,
              "ticks": ""
             }
            },
            "marker": {
             "colorbar": {
              "outlinewidth": 0,
              "ticks": ""
             }
            },
            "type": "scatter3d"
           }
          ],
          "scattercarpet": [
           {
            "marker": {
             "colorbar": {
              "outlinewidth": 0,
              "ticks": ""
             }
            },
            "type": "scattercarpet"
           }
          ],
          "scattergeo": [
           {
            "marker": {
             "colorbar": {
              "outlinewidth": 0,
              "ticks": ""
             }
            },
            "type": "scattergeo"
           }
          ],
          "scattergl": [
           {
            "marker": {
             "colorbar": {
              "outlinewidth": 0,
              "ticks": ""
             }
            },
            "type": "scattergl"
           }
          ],
          "scattermapbox": [
           {
            "marker": {
             "colorbar": {
              "outlinewidth": 0,
              "ticks": ""
             }
            },
            "type": "scattermapbox"
           }
          ],
          "scatterpolar": [
           {
            "marker": {
             "colorbar": {
              "outlinewidth": 0,
              "ticks": ""
             }
            },
            "type": "scatterpolar"
           }
          ],
          "scatterpolargl": [
           {
            "marker": {
             "colorbar": {
              "outlinewidth": 0,
              "ticks": ""
             }
            },
            "type": "scatterpolargl"
           }
          ],
          "scatterternary": [
           {
            "marker": {
             "colorbar": {
              "outlinewidth": 0,
              "ticks": ""
             }
            },
            "type": "scatterternary"
           }
          ],
          "surface": [
           {
            "colorbar": {
             "outlinewidth": 0,
             "ticks": ""
            },
            "colorscale": [
             [
              0,
              "#0d0887"
             ],
             [
              0.1111111111111111,
              "#46039f"
             ],
             [
              0.2222222222222222,
              "#7201a8"
             ],
             [
              0.3333333333333333,
              "#9c179e"
             ],
             [
              0.4444444444444444,
              "#bd3786"
             ],
             [
              0.5555555555555556,
              "#d8576b"
             ],
             [
              0.6666666666666666,
              "#ed7953"
             ],
             [
              0.7777777777777778,
              "#fb9f3a"
             ],
             [
              0.8888888888888888,
              "#fdca26"
             ],
             [
              1,
              "#f0f921"
             ]
            ],
            "type": "surface"
           }
          ],
          "table": [
           {
            "cells": {
             "fill": {
              "color": "#EBF0F8"
             },
             "line": {
              "color": "white"
             }
            },
            "header": {
             "fill": {
              "color": "#C8D4E3"
             },
             "line": {
              "color": "white"
             }
            },
            "type": "table"
           }
          ]
         },
         "layout": {
          "annotationdefaults": {
           "arrowcolor": "#2a3f5f",
           "arrowhead": 0,
           "arrowwidth": 1
          },
          "autotypenumbers": "strict",
          "coloraxis": {
           "colorbar": {
            "outlinewidth": 0,
            "ticks": ""
           }
          },
          "colorscale": {
           "diverging": [
            [
             0,
             "#8e0152"
            ],
            [
             0.1,
             "#c51b7d"
            ],
            [
             0.2,
             "#de77ae"
            ],
            [
             0.3,
             "#f1b6da"
            ],
            [
             0.4,
             "#fde0ef"
            ],
            [
             0.5,
             "#f7f7f7"
            ],
            [
             0.6,
             "#e6f5d0"
            ],
            [
             0.7,
             "#b8e186"
            ],
            [
             0.8,
             "#7fbc41"
            ],
            [
             0.9,
             "#4d9221"
            ],
            [
             1,
             "#276419"
            ]
           ],
           "sequential": [
            [
             0,
             "#0d0887"
            ],
            [
             0.1111111111111111,
             "#46039f"
            ],
            [
             0.2222222222222222,
             "#7201a8"
            ],
            [
             0.3333333333333333,
             "#9c179e"
            ],
            [
             0.4444444444444444,
             "#bd3786"
            ],
            [
             0.5555555555555556,
             "#d8576b"
            ],
            [
             0.6666666666666666,
             "#ed7953"
            ],
            [
             0.7777777777777778,
             "#fb9f3a"
            ],
            [
             0.8888888888888888,
             "#fdca26"
            ],
            [
             1,
             "#f0f921"
            ]
           ],
           "sequentialminus": [
            [
             0,
             "#0d0887"
            ],
            [
             0.1111111111111111,
             "#46039f"
            ],
            [
             0.2222222222222222,
             "#7201a8"
            ],
            [
             0.3333333333333333,
             "#9c179e"
            ],
            [
             0.4444444444444444,
             "#bd3786"
            ],
            [
             0.5555555555555556,
             "#d8576b"
            ],
            [
             0.6666666666666666,
             "#ed7953"
            ],
            [
             0.7777777777777778,
             "#fb9f3a"
            ],
            [
             0.8888888888888888,
             "#fdca26"
            ],
            [
             1,
             "#f0f921"
            ]
           ]
          },
          "colorway": [
           "#636efa",
           "#EF553B",
           "#00cc96",
           "#ab63fa",
           "#FFA15A",
           "#19d3f3",
           "#FF6692",
           "#B6E880",
           "#FF97FF",
           "#FECB52"
          ],
          "font": {
           "color": "#2a3f5f"
          },
          "geo": {
           "bgcolor": "white",
           "lakecolor": "white",
           "landcolor": "#E5ECF6",
           "showlakes": true,
           "showland": true,
           "subunitcolor": "white"
          },
          "hoverlabel": {
           "align": "left"
          },
          "hovermode": "closest",
          "mapbox": {
           "style": "light"
          },
          "paper_bgcolor": "white",
          "plot_bgcolor": "#E5ECF6",
          "polar": {
           "angularaxis": {
            "gridcolor": "white",
            "linecolor": "white",
            "ticks": ""
           },
           "bgcolor": "#E5ECF6",
           "radialaxis": {
            "gridcolor": "white",
            "linecolor": "white",
            "ticks": ""
           }
          },
          "scene": {
           "xaxis": {
            "backgroundcolor": "#E5ECF6",
            "gridcolor": "white",
            "gridwidth": 2,
            "linecolor": "white",
            "showbackground": true,
            "ticks": "",
            "zerolinecolor": "white"
           },
           "yaxis": {
            "backgroundcolor": "#E5ECF6",
            "gridcolor": "white",
            "gridwidth": 2,
            "linecolor": "white",
            "showbackground": true,
            "ticks": "",
            "zerolinecolor": "white"
           },
           "zaxis": {
            "backgroundcolor": "#E5ECF6",
            "gridcolor": "white",
            "gridwidth": 2,
            "linecolor": "white",
            "showbackground": true,
            "ticks": "",
            "zerolinecolor": "white"
           }
          },
          "shapedefaults": {
           "line": {
            "color": "#2a3f5f"
           }
          },
          "ternary": {
           "aaxis": {
            "gridcolor": "white",
            "linecolor": "white",
            "ticks": ""
           },
           "baxis": {
            "gridcolor": "white",
            "linecolor": "white",
            "ticks": ""
           },
           "bgcolor": "#E5ECF6",
           "caxis": {
            "gridcolor": "white",
            "linecolor": "white",
            "ticks": ""
           }
          },
          "title": {
           "x": 0.05
          },
          "xaxis": {
           "automargin": true,
           "gridcolor": "white",
           "linecolor": "white",
           "ticks": "",
           "title": {
            "standoff": 15
           },
           "zerolinecolor": "white",
           "zerolinewidth": 2
          },
          "yaxis": {
           "automargin": true,
           "gridcolor": "white",
           "linecolor": "white",
           "ticks": "",
           "title": {
            "standoff": 15
           },
           "zerolinecolor": "white",
           "zerolinewidth": 2
          }
         }
        },
        "width": 650,
        "xaxis": {
         "anchor": "y",
         "categoryarray": [
          "Mon",
          "Tue",
          "Wed",
          "Thu",
          "Fri",
          "Sat",
          "Sun"
         ],
         "categoryorder": "array",
         "domain": [
          0,
          1
         ],
         "ticktext": [
          "Mon",
          "Tue",
          "Wed",
          "Thu",
          "Fri",
          "Sat",
          "Sun"
         ],
         "tickvals": [
          "SEG",
          "TER",
          "QUA",
          "QUI",
          "SEX",
          "SAB",
          "DOM"
         ],
         "title": {
          "text": "Days of the week"
         }
        },
        "yaxis": {
         "anchor": "x",
         "categoryorder": "total ascending",
         "domain": [
          0,
          1
         ],
         "title": {
          "text": ""
         }
        }
       }
      },
      "text/html": [
       "<div>                            <div id=\"81fb7c94-6725-4223-969c-d051a25de700\" class=\"plotly-graph-div\" style=\"height:400px; width:650px;\"></div>            <script type=\"text/javascript\">                require([\"plotly\"], function(Plotly) {                    window.PLOTLYENV=window.PLOTLYENV || {};                                    if (document.getElementById(\"81fb7c94-6725-4223-969c-d051a25de700\")) {                    Plotly.newPlot(                        \"81fb7c94-6725-4223-969c-d051a25de700\",                        [{\"alignmentgroup\":\"True\",\"hovertemplate\":\"Crime shift=Night\\u003cbr\\u003eDays of the week=%{x}\\u003cbr\\u003etotal_turno=%{y}\\u003cbr\\u003etext=%{text}\\u003cextra\\u003e\\u003c\\u002fextra\\u003e\",\"legendgroup\":\"Night\",\"marker\":{\"color\":\"#BA1F4C\",\"pattern\":{\"shape\":\"\"}},\"name\":\"Night\",\"offsetgroup\":\"Night\",\"orientation\":\"v\",\"showlegend\":true,\"text\":[\"42.3%\",\"25.6%\",\"38.3%\",\"29.5%\",\"29.9%\",\"31.0%\",\"29.7%\"],\"textposition\":\"inside\",\"x\":[\"DOM\",\"SEG\",\"SAB\",\"QUA\",\"TER\",\"SEX\",\"QUI\"],\"xaxis\":\"x\",\"y\":[16582,7871,10883,7921,7766,7971,7544],\"yaxis\":\"y\",\"type\":\"bar\"},{\"alignmentgroup\":\"True\",\"hovertemplate\":\"Crime shift=Morning\\u003cbr\\u003eDays of the week=%{x}\\u003cbr\\u003etotal_turno=%{y}\\u003cbr\\u003etext=%{text}\\u003cextra\\u003e\\u003c\\u002fextra\\u003e\",\"legendgroup\":\"Morning\",\"marker\":{\"color\":\"#9373AE\",\"pattern\":{\"shape\":\"\"}},\"name\":\"Morning\",\"offsetgroup\":\"Morning\",\"orientation\":\"v\",\"showlegend\":true,\"text\":[\"19.9%\",\"32.1%\",\"23.5%\",\"32.7%\",\"32.8%\",\"30.7%\",\"32.1%\"],\"textposition\":\"inside\",\"x\":[\"DOM\",\"SEG\",\"SAB\",\"QUA\",\"TER\",\"SEX\",\"QUI\"],\"xaxis\":\"x\",\"y\":[7820,9876,6668,8805,8508,7913,8156],\"yaxis\":\"y\",\"type\":\"bar\"},{\"alignmentgroup\":\"True\",\"hovertemplate\":\"Crime shift=Afternoon\\u003cbr\\u003eDays of the week=%{x}\\u003cbr\\u003etotal_turno=%{y}\\u003cbr\\u003etext=%{text}\\u003cextra\\u003e\\u003c\\u002fextra\\u003e\",\"legendgroup\":\"Afternoon\",\"marker\":{\"color\":\"#41A7C4\",\"pattern\":{\"shape\":\"\"}},\"name\":\"Afternoon\",\"offsetgroup\":\"Afternoon\",\"orientation\":\"v\",\"showlegend\":true,\"text\":[\"22.4%\",\"28.7%\",\"25.0%\",\"31.3%\",\"31.7%\",\"29.6%\",\"31.2%\"],\"textposition\":\"inside\",\"x\":[\"DOM\",\"SEG\",\"SAB\",\"QUA\",\"TER\",\"SEX\",\"QUI\"],\"xaxis\":\"x\",\"y\":[8795,8825,7119,8428,8231,7613,7938],\"yaxis\":\"y\",\"type\":\"bar\"},{\"alignmentgroup\":\"True\",\"hovertemplate\":\"Crime shift=Early morning\\u003cbr\\u003eDays of the week=%{x}\\u003cbr\\u003etotal_turno=%{y}\\u003cbr\\u003etext=%{text}\\u003cextra\\u003e\\u003c\\u002fextra\\u003e\",\"legendgroup\":\"Early morning\",\"marker\":{\"color\":\"#D68E4A\",\"pattern\":{\"shape\":\"\"}},\"name\":\"Early morning\",\"offsetgroup\":\"Early morning\",\"orientation\":\"v\",\"showlegend\":true,\"text\":[\"15.3%\",\"13.5%\",\"13.2%\",\"6.5%\",\"5.6%\",\"8.8%\",\"7.0%\"],\"textfont\":{\"color\":\"white\"},\"textposition\":\"inside\",\"x\":[\"DOM\",\"SEG\",\"SAB\",\"QUA\",\"TER\",\"SEX\",\"QUI\"],\"xaxis\":\"x\",\"y\":[6019,4150,3763,1742,1452,2257,1772],\"yaxis\":\"y\",\"type\":\"bar\"}],                        {\"barmode\":\"stack\",\"font\":{\"size\":15},\"height\":400,\"legend\":{\"bgcolor\":\"#ebe4f7\",\"title\":{\"text\":\"Crime shift\"},\"tracegroupgap\":0},\"margin\":{\"b\":10,\"l\":10,\"r\":10,\"t\":10},\"paper_bgcolor\":\"white\",\"plot_bgcolor\":\"#ebe4f7\",\"template\":{\"data\":{\"barpolar\":[{\"marker\":{\"line\":{\"color\":\"#E5ECF6\",\"width\":0.5},\"pattern\":{\"fillmode\":\"overlay\",\"size\":10,\"solidity\":0.2}},\"type\":\"barpolar\"}],\"bar\":[{\"error_x\":{\"color\":\"#2a3f5f\"},\"error_y\":{\"color\":\"#2a3f5f\"},\"marker\":{\"line\":{\"color\":\"#E5ECF6\",\"width\":0.5},\"pattern\":{\"fillmode\":\"overlay\",\"size\":10,\"solidity\":0.2}},\"type\":\"bar\"}],\"carpet\":[{\"aaxis\":{\"endlinecolor\":\"#2a3f5f\",\"gridcolor\":\"white\",\"linecolor\":\"white\",\"minorgridcolor\":\"white\",\"startlinecolor\":\"#2a3f5f\"},\"baxis\":{\"endlinecolor\":\"#2a3f5f\",\"gridcolor\":\"white\",\"linecolor\":\"white\",\"minorgridcolor\":\"white\",\"startlinecolor\":\"#2a3f5f\"},\"type\":\"carpet\"}],\"choropleth\":[{\"colorbar\":{\"outlinewidth\":0,\"ticks\":\"\"},\"type\":\"choropleth\"}],\"contourcarpet\":[{\"colorbar\":{\"outlinewidth\":0,\"ticks\":\"\"},\"type\":\"contourcarpet\"}],\"contour\":[{\"colorbar\":{\"outlinewidth\":0,\"ticks\":\"\"},\"colorscale\":[[0.0,\"#0d0887\"],[0.1111111111111111,\"#46039f\"],[0.2222222222222222,\"#7201a8\"],[0.3333333333333333,\"#9c179e\"],[0.4444444444444444,\"#bd3786\"],[0.5555555555555556,\"#d8576b\"],[0.6666666666666666,\"#ed7953\"],[0.7777777777777778,\"#fb9f3a\"],[0.8888888888888888,\"#fdca26\"],[1.0,\"#f0f921\"]],\"type\":\"contour\"}],\"heatmapgl\":[{\"colorbar\":{\"outlinewidth\":0,\"ticks\":\"\"},\"colorscale\":[[0.0,\"#0d0887\"],[0.1111111111111111,\"#46039f\"],[0.2222222222222222,\"#7201a8\"],[0.3333333333333333,\"#9c179e\"],[0.4444444444444444,\"#bd3786\"],[0.5555555555555556,\"#d8576b\"],[0.6666666666666666,\"#ed7953\"],[0.7777777777777778,\"#fb9f3a\"],[0.8888888888888888,\"#fdca26\"],[1.0,\"#f0f921\"]],\"type\":\"heatmapgl\"}],\"heatmap\":[{\"colorbar\":{\"outlinewidth\":0,\"ticks\":\"\"},\"colorscale\":[[0.0,\"#0d0887\"],[0.1111111111111111,\"#46039f\"],[0.2222222222222222,\"#7201a8\"],[0.3333333333333333,\"#9c179e\"],[0.4444444444444444,\"#bd3786\"],[0.5555555555555556,\"#d8576b\"],[0.6666666666666666,\"#ed7953\"],[0.7777777777777778,\"#fb9f3a\"],[0.8888888888888888,\"#fdca26\"],[1.0,\"#f0f921\"]],\"type\":\"heatmap\"}],\"histogram2dcontour\":[{\"colorbar\":{\"outlinewidth\":0,\"ticks\":\"\"},\"colorscale\":[[0.0,\"#0d0887\"],[0.1111111111111111,\"#46039f\"],[0.2222222222222222,\"#7201a8\"],[0.3333333333333333,\"#9c179e\"],[0.4444444444444444,\"#bd3786\"],[0.5555555555555556,\"#d8576b\"],[0.6666666666666666,\"#ed7953\"],[0.7777777777777778,\"#fb9f3a\"],[0.8888888888888888,\"#fdca26\"],[1.0,\"#f0f921\"]],\"type\":\"histogram2dcontour\"}],\"histogram2d\":[{\"colorbar\":{\"outlinewidth\":0,\"ticks\":\"\"},\"colorscale\":[[0.0,\"#0d0887\"],[0.1111111111111111,\"#46039f\"],[0.2222222222222222,\"#7201a8\"],[0.3333333333333333,\"#9c179e\"],[0.4444444444444444,\"#bd3786\"],[0.5555555555555556,\"#d8576b\"],[0.6666666666666666,\"#ed7953\"],[0.7777777777777778,\"#fb9f3a\"],[0.8888888888888888,\"#fdca26\"],[1.0,\"#f0f921\"]],\"type\":\"histogram2d\"}],\"histogram\":[{\"marker\":{\"pattern\":{\"fillmode\":\"overlay\",\"size\":10,\"solidity\":0.2}},\"type\":\"histogram\"}],\"mesh3d\":[{\"colorbar\":{\"outlinewidth\":0,\"ticks\":\"\"},\"type\":\"mesh3d\"}],\"parcoords\":[{\"line\":{\"colorbar\":{\"outlinewidth\":0,\"ticks\":\"\"}},\"type\":\"parcoords\"}],\"pie\":[{\"automargin\":true,\"type\":\"pie\"}],\"scatter3d\":[{\"line\":{\"colorbar\":{\"outlinewidth\":0,\"ticks\":\"\"}},\"marker\":{\"colorbar\":{\"outlinewidth\":0,\"ticks\":\"\"}},\"type\":\"scatter3d\"}],\"scattercarpet\":[{\"marker\":{\"colorbar\":{\"outlinewidth\":0,\"ticks\":\"\"}},\"type\":\"scattercarpet\"}],\"scattergeo\":[{\"marker\":{\"colorbar\":{\"outlinewidth\":0,\"ticks\":\"\"}},\"type\":\"scattergeo\"}],\"scattergl\":[{\"marker\":{\"colorbar\":{\"outlinewidth\":0,\"ticks\":\"\"}},\"type\":\"scattergl\"}],\"scattermapbox\":[{\"marker\":{\"colorbar\":{\"outlinewidth\":0,\"ticks\":\"\"}},\"type\":\"scattermapbox\"}],\"scatterpolargl\":[{\"marker\":{\"colorbar\":{\"outlinewidth\":0,\"ticks\":\"\"}},\"type\":\"scatterpolargl\"}],\"scatterpolar\":[{\"marker\":{\"colorbar\":{\"outlinewidth\":0,\"ticks\":\"\"}},\"type\":\"scatterpolar\"}],\"scatter\":[{\"fillpattern\":{\"fillmode\":\"overlay\",\"size\":10,\"solidity\":0.2},\"type\":\"scatter\"}],\"scatterternary\":[{\"marker\":{\"colorbar\":{\"outlinewidth\":0,\"ticks\":\"\"}},\"type\":\"scatterternary\"}],\"surface\":[{\"colorbar\":{\"outlinewidth\":0,\"ticks\":\"\"},\"colorscale\":[[0.0,\"#0d0887\"],[0.1111111111111111,\"#46039f\"],[0.2222222222222222,\"#7201a8\"],[0.3333333333333333,\"#9c179e\"],[0.4444444444444444,\"#bd3786\"],[0.5555555555555556,\"#d8576b\"],[0.6666666666666666,\"#ed7953\"],[0.7777777777777778,\"#fb9f3a\"],[0.8888888888888888,\"#fdca26\"],[1.0,\"#f0f921\"]],\"type\":\"surface\"}],\"table\":[{\"cells\":{\"fill\":{\"color\":\"#EBF0F8\"},\"line\":{\"color\":\"white\"}},\"header\":{\"fill\":{\"color\":\"#C8D4E3\"},\"line\":{\"color\":\"white\"}},\"type\":\"table\"}]},\"layout\":{\"annotationdefaults\":{\"arrowcolor\":\"#2a3f5f\",\"arrowhead\":0,\"arrowwidth\":1},\"autotypenumbers\":\"strict\",\"coloraxis\":{\"colorbar\":{\"outlinewidth\":0,\"ticks\":\"\"}},\"colorscale\":{\"diverging\":[[0,\"#8e0152\"],[0.1,\"#c51b7d\"],[0.2,\"#de77ae\"],[0.3,\"#f1b6da\"],[0.4,\"#fde0ef\"],[0.5,\"#f7f7f7\"],[0.6,\"#e6f5d0\"],[0.7,\"#b8e186\"],[0.8,\"#7fbc41\"],[0.9,\"#4d9221\"],[1,\"#276419\"]],\"sequential\":[[0.0,\"#0d0887\"],[0.1111111111111111,\"#46039f\"],[0.2222222222222222,\"#7201a8\"],[0.3333333333333333,\"#9c179e\"],[0.4444444444444444,\"#bd3786\"],[0.5555555555555556,\"#d8576b\"],[0.6666666666666666,\"#ed7953\"],[0.7777777777777778,\"#fb9f3a\"],[0.8888888888888888,\"#fdca26\"],[1.0,\"#f0f921\"]],\"sequentialminus\":[[0.0,\"#0d0887\"],[0.1111111111111111,\"#46039f\"],[0.2222222222222222,\"#7201a8\"],[0.3333333333333333,\"#9c179e\"],[0.4444444444444444,\"#bd3786\"],[0.5555555555555556,\"#d8576b\"],[0.6666666666666666,\"#ed7953\"],[0.7777777777777778,\"#fb9f3a\"],[0.8888888888888888,\"#fdca26\"],[1.0,\"#f0f921\"]]},\"colorway\":[\"#636efa\",\"#EF553B\",\"#00cc96\",\"#ab63fa\",\"#FFA15A\",\"#19d3f3\",\"#FF6692\",\"#B6E880\",\"#FF97FF\",\"#FECB52\"],\"font\":{\"color\":\"#2a3f5f\"},\"geo\":{\"bgcolor\":\"white\",\"lakecolor\":\"white\",\"landcolor\":\"#E5ECF6\",\"showlakes\":true,\"showland\":true,\"subunitcolor\":\"white\"},\"hoverlabel\":{\"align\":\"left\"},\"hovermode\":\"closest\",\"mapbox\":{\"style\":\"light\"},\"paper_bgcolor\":\"white\",\"plot_bgcolor\":\"#E5ECF6\",\"polar\":{\"angularaxis\":{\"gridcolor\":\"white\",\"linecolor\":\"white\",\"ticks\":\"\"},\"bgcolor\":\"#E5ECF6\",\"radialaxis\":{\"gridcolor\":\"white\",\"linecolor\":\"white\",\"ticks\":\"\"}},\"scene\":{\"xaxis\":{\"backgroundcolor\":\"#E5ECF6\",\"gridcolor\":\"white\",\"gridwidth\":2,\"linecolor\":\"white\",\"showbackground\":true,\"ticks\":\"\",\"zerolinecolor\":\"white\"},\"yaxis\":{\"backgroundcolor\":\"#E5ECF6\",\"gridcolor\":\"white\",\"gridwidth\":2,\"linecolor\":\"white\",\"showbackground\":true,\"ticks\":\"\",\"zerolinecolor\":\"white\"},\"zaxis\":{\"backgroundcolor\":\"#E5ECF6\",\"gridcolor\":\"white\",\"gridwidth\":2,\"linecolor\":\"white\",\"showbackground\":true,\"ticks\":\"\",\"zerolinecolor\":\"white\"}},\"shapedefaults\":{\"line\":{\"color\":\"#2a3f5f\"}},\"ternary\":{\"aaxis\":{\"gridcolor\":\"white\",\"linecolor\":\"white\",\"ticks\":\"\"},\"baxis\":{\"gridcolor\":\"white\",\"linecolor\":\"white\",\"ticks\":\"\"},\"bgcolor\":\"#E5ECF6\",\"caxis\":{\"gridcolor\":\"white\",\"linecolor\":\"white\",\"ticks\":\"\"}},\"title\":{\"x\":0.05},\"xaxis\":{\"automargin\":true,\"gridcolor\":\"white\",\"linecolor\":\"white\",\"ticks\":\"\",\"title\":{\"standoff\":15},\"zerolinecolor\":\"white\",\"zerolinewidth\":2},\"yaxis\":{\"automargin\":true,\"gridcolor\":\"white\",\"linecolor\":\"white\",\"ticks\":\"\",\"title\":{\"standoff\":15},\"zerolinecolor\":\"white\",\"zerolinewidth\":2}}},\"width\":650,\"xaxis\":{\"anchor\":\"y\",\"categoryarray\":[\"Mon\",\"Tue\",\"Wed\",\"Thu\",\"Fri\",\"Sat\",\"Sun\"],\"categoryorder\":\"array\",\"domain\":[0.0,1.0],\"ticktext\":[\"Mon\",\"Tue\",\"Wed\",\"Thu\",\"Fri\",\"Sat\",\"Sun\"],\"tickvals\":[\"SEG\",\"TER\",\"QUA\",\"QUI\",\"SEX\",\"SAB\",\"DOM\"],\"title\":{\"text\":\"Days of the week\"}},\"yaxis\":{\"anchor\":\"x\",\"categoryorder\":\"total ascending\",\"domain\":[0.0,1.0],\"title\":{\"text\":\"\"}}},                        {\"responsive\": true}                    ).then(function(){\n",
       "                            \n",
       "var gd = document.getElementById('81fb7c94-6725-4223-969c-d051a25de700');\n",
       "var x = new MutationObserver(function (mutations, observer) {{\n",
       "        var display = window.getComputedStyle(gd).display;\n",
       "        if (!display || display === 'none') {{\n",
       "            console.log([gd, 'removed!']);\n",
       "            Plotly.purge(gd);\n",
       "            observer.disconnect();\n",
       "        }}\n",
       "}});\n",
       "\n",
       "// Listen for the removal of the full notebook cells\n",
       "var notebookContainer = gd.closest('#notebook-container');\n",
       "if (notebookContainer) {{\n",
       "    x.observe(notebookContainer, {childList: true});\n",
       "}}\n",
       "\n",
       "// Listen for the clearing of the current output cell\n",
       "var outputEl = gd.closest('.output');\n",
       "if (outputEl) {{\n",
       "    x.observe(outputEl, {childList: true});\n",
       "}}\n",
       "\n",
       "                        })                };                });            </script>        </div>"
      ]
     },
     "metadata": {},
     "output_type": "display_data"
    }
   ],
   "source": [
    "dia_counts = crimes_selecionados_para_df['dia_semana'].value_counts()\n",
    "turno_counts = crimes_selecionados_para_df['turno'].value_counts()\n",
    "\n",
    "ordered_dia = dia_counts.index.tolist()\n",
    "ordered_turnos = turno_counts.index.tolist()\n",
    "\n",
    "df1_sorted = df1.groupby(['dia_semana', 'turno']).size().reset_index(name='total_turno')\n",
    "df1_sorted['dia_semana'] = pd.Categorical(df1_sorted['dia_semana'], categories=ordered_dia, ordered=True)\n",
    "df1_sorted['turno'] = pd.Categorical(df1_sorted['turno'], categories=ordered_turnos, ordered=True)\n",
    "df1_sorted = df1_sorted.sort_values(['dia_semana', 'turno'])\n",
    "\n",
    "total_dia = df1_sorted.groupby('dia_semana')['total_turno'].transform('sum')\n",
    "df1_sorted['porcentagem'] = (df1_sorted['total_turno'] / total_dia) * 100\n",
    "\n",
    "\n",
    "fig = px.bar(df1_sorted, x=\"dia_semana\", y='total_turno',       \n",
    "                   text=df1_sorted['porcentagem'].round(1).astype(str) + '%',  \n",
    "             color='turno', #title= \"Frequência dos crimes ocorridos por dia da semana\",\n",
    "             height=400, width=650, \n",
    "            category_orders={\"dia_semana\":['Mon', 'Tue', 'Wed', 'Thu', 'Fri', 'Sat', 'Sun']},\n",
    "             labels={\n",
    "                     \"turno\": \"Crime shift\",\n",
    "                     \"dia_semana\": \"Days of the week\"\n",
    "                 },\n",
    "             color_discrete_sequence=custom_palette\n",
    "                )           \n",
    "\n",
    "fig.update_layout(margin=dict(l=10, r=10, t=10, b=10), font=dict(size=15),\n",
    "                  plot_bgcolor='#ebe4f7',\n",
    "                      xaxis=dict(\n",
    "        tickvals=['SEG', 'TER', 'QUA', 'QUI', 'SEX', 'SAB', 'DOM'],\n",
    "        ticktext=['Mon.', 'Tue.', 'Wed.', 'Thu.', 'Fri.', 'Sat.', 'Sun.'],\n",
    "    ),\n",
    "                  paper_bgcolor='white', \n",
    "                  barmode ='stack',\n",
    "                  legend=dict(bgcolor='#ebe4f7'))\n",
    "\n",
    "fig.update_traces(textposition='inside')\n",
    "for trace in fig.data:\n",
    "    if trace.name == 'Early morning':\n",
    "        trace.update(textfont_color='white')\n",
    "        \n",
    "fig.update_yaxes(categoryorder='total ascending', title='')\n",
    "\n",
    "#fig.write_image(\"imagens/10_dias_frequentes_por_turno.jpeg\", format=\"jpeg\", scale=5)\n",
    "\n",
    "py.iplot(fig)\n",
    "#fig.write_image(\"imagens_svg/crimes_por_dia_e_turno.svg\")"
   ]
  },
  {
   "cell_type": "markdown",
   "metadata": {},
   "source": [
    "- Registros Deam"
   ]
  },
  {
   "cell_type": "code",
   "execution_count": 121,
   "metadata": {},
   "outputs": [
    {
     "data": {
      "text/html": [
       "<div>\n",
       "<style scoped>\n",
       "    .dataframe tbody tr th:only-of-type {\n",
       "        vertical-align: middle;\n",
       "    }\n",
       "\n",
       "    .dataframe tbody tr th {\n",
       "        vertical-align: top;\n",
       "    }\n",
       "\n",
       "    .dataframe thead th {\n",
       "        text-align: right;\n",
       "    }\n",
       "</style>\n",
       "<table border=\"1\" class=\"dataframe\">\n",
       "  <thead>\n",
       "    <tr style=\"text-align: right;\">\n",
       "      <th>unidade_origem</th>\n",
       "      <th>DEL.VIRTUAL - 277</th>\n",
       "      <th>DELEGACIA ESPECIALIZADA NO ATENDIMENTO A MULHER - DEAM</th>\n",
       "      <th>MARAMBAIA - 5ª SECCIONAL - 1ª RISP - 9ª AISP</th>\n",
       "      <th>Nao informado</th>\n",
       "      <th>SAO BRAS - 2º SECCIONAL -1º RISP- 2ª AISP</th>\n",
       "    </tr>\n",
       "    <tr>\n",
       "      <th>consolidado</th>\n",
       "      <th></th>\n",
       "      <th></th>\n",
       "      <th></th>\n",
       "      <th></th>\n",
       "      <th></th>\n",
       "    </tr>\n",
       "  </thead>\n",
       "  <tbody>\n",
       "    <tr>\n",
       "      <th>Abortion</th>\n",
       "      <td>0</td>\n",
       "      <td>0</td>\n",
       "      <td>0</td>\n",
       "      <td>18</td>\n",
       "      <td>0</td>\n",
       "    </tr>\n",
       "    <tr>\n",
       "      <th>Attempted Murder</th>\n",
       "      <td>1</td>\n",
       "      <td>20</td>\n",
       "      <td>2</td>\n",
       "      <td>416</td>\n",
       "      <td>2</td>\n",
       "    </tr>\n",
       "    <tr>\n",
       "      <th>Attempted femicide</th>\n",
       "      <td>0</td>\n",
       "      <td>101</td>\n",
       "      <td>1</td>\n",
       "      <td>566</td>\n",
       "      <td>2</td>\n",
       "    </tr>\n",
       "    <tr>\n",
       "      <th>Bod. inj.</th>\n",
       "      <td>14</td>\n",
       "      <td>6105</td>\n",
       "      <td>623</td>\n",
       "      <td>41985</td>\n",
       "      <td>501</td>\n",
       "    </tr>\n",
       "    <tr>\n",
       "      <th>Child sexual exploitation</th>\n",
       "      <td>0</td>\n",
       "      <td>0</td>\n",
       "      <td>0</td>\n",
       "      <td>76</td>\n",
       "      <td>0</td>\n",
       "    </tr>\n",
       "    <tr>\n",
       "      <th>Distribution of rape footage</th>\n",
       "      <td>0</td>\n",
       "      <td>12</td>\n",
       "      <td>0</td>\n",
       "      <td>714</td>\n",
       "      <td>2</td>\n",
       "    </tr>\n",
       "    <tr>\n",
       "      <th>Domestic violence</th>\n",
       "      <td>0</td>\n",
       "      <td>1</td>\n",
       "      <td>0</td>\n",
       "      <td>11</td>\n",
       "      <td>0</td>\n",
       "    </tr>\n",
       "    <tr>\n",
       "      <th>Femicide</th>\n",
       "      <td>0</td>\n",
       "      <td>9</td>\n",
       "      <td>1</td>\n",
       "      <td>167</td>\n",
       "      <td>1</td>\n",
       "    </tr>\n",
       "    <tr>\n",
       "      <th>Moral violence</th>\n",
       "      <td>0</td>\n",
       "      <td>71</td>\n",
       "      <td>7</td>\n",
       "      <td>421</td>\n",
       "      <td>3</td>\n",
       "    </tr>\n",
       "    <tr>\n",
       "      <th>Murder</th>\n",
       "      <td>0</td>\n",
       "      <td>3</td>\n",
       "      <td>7</td>\n",
       "      <td>421</td>\n",
       "      <td>11</td>\n",
       "    </tr>\n",
       "    <tr>\n",
       "      <th>Physical violence</th>\n",
       "      <td>0</td>\n",
       "      <td>17</td>\n",
       "      <td>2</td>\n",
       "      <td>85</td>\n",
       "      <td>0</td>\n",
       "    </tr>\n",
       "    <tr>\n",
       "      <th>Property violence</th>\n",
       "      <td>0</td>\n",
       "      <td>2</td>\n",
       "      <td>1</td>\n",
       "      <td>207</td>\n",
       "      <td>0</td>\n",
       "    </tr>\n",
       "    <tr>\n",
       "      <th>Psy. viol.</th>\n",
       "      <td>0</td>\n",
       "      <td>241</td>\n",
       "      <td>9</td>\n",
       "      <td>4696</td>\n",
       "      <td>2</td>\n",
       "    </tr>\n",
       "    <tr>\n",
       "      <th>Rape</th>\n",
       "      <td>2</td>\n",
       "      <td>299</td>\n",
       "      <td>22</td>\n",
       "      <td>2383</td>\n",
       "      <td>22</td>\n",
       "    </tr>\n",
       "    <tr>\n",
       "      <th>Rape of vuln.</th>\n",
       "      <td>1</td>\n",
       "      <td>143</td>\n",
       "      <td>23</td>\n",
       "      <td>10221</td>\n",
       "      <td>11</td>\n",
       "    </tr>\n",
       "    <tr>\n",
       "      <th>Sex. har.</th>\n",
       "      <td>1</td>\n",
       "      <td>333</td>\n",
       "      <td>39</td>\n",
       "      <td>3213</td>\n",
       "      <td>34</td>\n",
       "    </tr>\n",
       "    <tr>\n",
       "      <th>Sexual coercion</th>\n",
       "      <td>0</td>\n",
       "      <td>83</td>\n",
       "      <td>9</td>\n",
       "      <td>554</td>\n",
       "      <td>6</td>\n",
       "    </tr>\n",
       "    <tr>\n",
       "      <th>Threat</th>\n",
       "      <td>4641</td>\n",
       "      <td>9807</td>\n",
       "      <td>827</td>\n",
       "      <td>69990</td>\n",
       "      <td>678</td>\n",
       "    </tr>\n",
       "    <tr>\n",
       "      <th>Viol. of protect. meas.</th>\n",
       "      <td>0</td>\n",
       "      <td>537</td>\n",
       "      <td>3</td>\n",
       "      <td>130</td>\n",
       "      <td>0</td>\n",
       "    </tr>\n",
       "    <tr>\n",
       "      <th>Viol. of urgent protect. meas.</th>\n",
       "      <td>0</td>\n",
       "      <td>535</td>\n",
       "      <td>2</td>\n",
       "      <td>4685</td>\n",
       "      <td>0</td>\n",
       "    </tr>\n",
       "  </tbody>\n",
       "</table>\n",
       "</div>"
      ],
      "text/plain": [
       "unidade_origem                  DEL.VIRTUAL - 277  \\\n",
       "consolidado                                         \n",
       "Abortion                                        0   \n",
       "Attempted Murder                                1   \n",
       "Attempted femicide                              0   \n",
       "Bod. inj.                                      14   \n",
       "Child sexual exploitation                       0   \n",
       "Distribution of rape footage                    0   \n",
       "Domestic violence                               0   \n",
       "Femicide                                        0   \n",
       "Moral violence                                  0   \n",
       "Murder                                          0   \n",
       "Physical violence                               0   \n",
       "Property violence                               0   \n",
       "Psy. viol.                                      0   \n",
       "Rape                                            2   \n",
       "Rape of vuln.                                   1   \n",
       "Sex. har.                                       1   \n",
       "Sexual coercion                                 0   \n",
       "Threat                                       4641   \n",
       "Viol. of protect. meas.                         0   \n",
       "Viol. of urgent protect. meas.                  0   \n",
       "\n",
       "unidade_origem                  DELEGACIA ESPECIALIZADA NO ATENDIMENTO A MULHER - DEAM  \\\n",
       "consolidado                                                                              \n",
       "Abortion                                                                        0        \n",
       "Attempted Murder                                                               20        \n",
       "Attempted femicide                                                            101        \n",
       "Bod. inj.                                                                    6105        \n",
       "Child sexual exploitation                                                       0        \n",
       "Distribution of rape footage                                                   12        \n",
       "Domestic violence                                                               1        \n",
       "Femicide                                                                        9        \n",
       "Moral violence                                                                 71        \n",
       "Murder                                                                          3        \n",
       "Physical violence                                                              17        \n",
       "Property violence                                                               2        \n",
       "Psy. viol.                                                                    241        \n",
       "Rape                                                                          299        \n",
       "Rape of vuln.                                                                 143        \n",
       "Sex. har.                                                                     333        \n",
       "Sexual coercion                                                                83        \n",
       "Threat                                                                       9807        \n",
       "Viol. of protect. meas.                                                       537        \n",
       "Viol. of urgent protect. meas.                                                535        \n",
       "\n",
       "unidade_origem                  MARAMBAIA - 5ª SECCIONAL - 1ª RISP - 9ª AISP  \\\n",
       "consolidado                                                                    \n",
       "Abortion                                                                   0   \n",
       "Attempted Murder                                                           2   \n",
       "Attempted femicide                                                         1   \n",
       "Bod. inj.                                                                623   \n",
       "Child sexual exploitation                                                  0   \n",
       "Distribution of rape footage                                               0   \n",
       "Domestic violence                                                          0   \n",
       "Femicide                                                                   1   \n",
       "Moral violence                                                             7   \n",
       "Murder                                                                     7   \n",
       "Physical violence                                                          2   \n",
       "Property violence                                                          1   \n",
       "Psy. viol.                                                                 9   \n",
       "Rape                                                                      22   \n",
       "Rape of vuln.                                                             23   \n",
       "Sex. har.                                                                 39   \n",
       "Sexual coercion                                                            9   \n",
       "Threat                                                                   827   \n",
       "Viol. of protect. meas.                                                    3   \n",
       "Viol. of urgent protect. meas.                                             2   \n",
       "\n",
       "unidade_origem                  Nao informado  \\\n",
       "consolidado                                     \n",
       "Abortion                                   18   \n",
       "Attempted Murder                          416   \n",
       "Attempted femicide                        566   \n",
       "Bod. inj.                               41985   \n",
       "Child sexual exploitation                  76   \n",
       "Distribution of rape footage              714   \n",
       "Domestic violence                          11   \n",
       "Femicide                                  167   \n",
       "Moral violence                            421   \n",
       "Murder                                    421   \n",
       "Physical violence                          85   \n",
       "Property violence                         207   \n",
       "Psy. viol.                               4696   \n",
       "Rape                                     2383   \n",
       "Rape of vuln.                           10221   \n",
       "Sex. har.                                3213   \n",
       "Sexual coercion                           554   \n",
       "Threat                                  69990   \n",
       "Viol. of protect. meas.                   130   \n",
       "Viol. of urgent protect. meas.           4685   \n",
       "\n",
       "unidade_origem                  SAO BRAS - 2º SECCIONAL -1º RISP- 2ª AISP  \n",
       "consolidado                                                                \n",
       "Abortion                                                                0  \n",
       "Attempted Murder                                                        2  \n",
       "Attempted femicide                                                      2  \n",
       "Bod. inj.                                                             501  \n",
       "Child sexual exploitation                                               0  \n",
       "Distribution of rape footage                                            2  \n",
       "Domestic violence                                                       0  \n",
       "Femicide                                                                1  \n",
       "Moral violence                                                          3  \n",
       "Murder                                                                 11  \n",
       "Physical violence                                                       0  \n",
       "Property violence                                                       0  \n",
       "Psy. viol.                                                              2  \n",
       "Rape                                                                   22  \n",
       "Rape of vuln.                                                          11  \n",
       "Sex. har.                                                              34  \n",
       "Sexual coercion                                                         6  \n",
       "Threat                                                                678  \n",
       "Viol. of protect. meas.                                                 0  \n",
       "Viol. of urgent protect. meas.                                          0  "
      ]
     },
     "execution_count": 121,
     "metadata": {},
     "output_type": "execute_result"
    }
   ],
   "source": [
    "filtro_deam = crimes_selecionados_para_df[crimes_selecionados_para_df['unidade_origem'].isin(crimes_selecionados_para_df['unidade_origem'].value_counts().head(5).index)]\n",
    "filtro_deam=filtro_deam.groupby(['consolidado','unidade_origem']).size().unstack(fill_value=0)\n",
    "filtro_deam.sort_index(ascending=True)"
   ]
  },
  {
   "cell_type": "code",
   "execution_count": 123,
   "metadata": {},
   "outputs": [
    {
     "data": {
      "application/vnd.plotly.v1+json": {
       "config": {
        "plotlyServerURL": "https://plot.ly"
       },
       "data": [
        {
         "domain": {
          "x": [
           0,
           1
          ],
          "y": [
           0,
           1
          ]
         },
         "hovertemplate": "label=%{label}<br>value=%{value}<extra></extra>",
         "labels": [
          "DEAM",
          "Delegacia virtual",
          "Seccional da Marambaia",
          "Seccional de São Brás",
          "CIDADE NOVA - 3ª SECCIONAL - 2ª RISP - 18ª AISP"
         ],
         "legendgroup": "",
         "marker": {
          "line": {
           "color": "white",
           "width": 2
          }
         },
         "name": "",
         "showlegend": true,
         "textfont": {
          "size": 15
         },
         "type": "pie",
         "values": [
          18319,
          4660,
          1578,
          1275,
          1205
         ]
        }
       ],
       "layout": {
        "height": 400,
        "legend": {
         "bgcolor": "#FFF5EE",
         "tracegroupgap": 0
        },
        "margin": {
         "b": 10,
         "l": 10,
         "r": 10,
         "t": 10
        },
        "paper_bgcolor": "white",
        "piecolorway": [
         "#BA1F4C",
         "#9373AE",
         "#41A7C4",
         "#D68E4A",
         "#889684",
         "#96C84E",
         "#352DA7",
         "#691D73",
         "#D4BE8E",
         "#386E0D",
         "#BF4F7F",
         "#AC3516",
         "#3A6CC6",
         "#295A96",
         "#DBB1C3"
        ],
        "plot_bgcolor": "#FFF5EE",
        "template": {
         "data": {
          "bar": [
           {
            "error_x": {
             "color": "#2a3f5f"
            },
            "error_y": {
             "color": "#2a3f5f"
            },
            "marker": {
             "line": {
              "color": "#E5ECF6",
              "width": 0.5
             },
             "pattern": {
              "fillmode": "overlay",
              "size": 10,
              "solidity": 0.2
             }
            },
            "type": "bar"
           }
          ],
          "barpolar": [
           {
            "marker": {
             "line": {
              "color": "#E5ECF6",
              "width": 0.5
             },
             "pattern": {
              "fillmode": "overlay",
              "size": 10,
              "solidity": 0.2
             }
            },
            "type": "barpolar"
           }
          ],
          "carpet": [
           {
            "aaxis": {
             "endlinecolor": "#2a3f5f",
             "gridcolor": "white",
             "linecolor": "white",
             "minorgridcolor": "white",
             "startlinecolor": "#2a3f5f"
            },
            "baxis": {
             "endlinecolor": "#2a3f5f",
             "gridcolor": "white",
             "linecolor": "white",
             "minorgridcolor": "white",
             "startlinecolor": "#2a3f5f"
            },
            "type": "carpet"
           }
          ],
          "choropleth": [
           {
            "colorbar": {
             "outlinewidth": 0,
             "ticks": ""
            },
            "type": "choropleth"
           }
          ],
          "contour": [
           {
            "colorbar": {
             "outlinewidth": 0,
             "ticks": ""
            },
            "colorscale": [
             [
              0,
              "#0d0887"
             ],
             [
              0.1111111111111111,
              "#46039f"
             ],
             [
              0.2222222222222222,
              "#7201a8"
             ],
             [
              0.3333333333333333,
              "#9c179e"
             ],
             [
              0.4444444444444444,
              "#bd3786"
             ],
             [
              0.5555555555555556,
              "#d8576b"
             ],
             [
              0.6666666666666666,
              "#ed7953"
             ],
             [
              0.7777777777777778,
              "#fb9f3a"
             ],
             [
              0.8888888888888888,
              "#fdca26"
             ],
             [
              1,
              "#f0f921"
             ]
            ],
            "type": "contour"
           }
          ],
          "contourcarpet": [
           {
            "colorbar": {
             "outlinewidth": 0,
             "ticks": ""
            },
            "type": "contourcarpet"
           }
          ],
          "heatmap": [
           {
            "colorbar": {
             "outlinewidth": 0,
             "ticks": ""
            },
            "colorscale": [
             [
              0,
              "#0d0887"
             ],
             [
              0.1111111111111111,
              "#46039f"
             ],
             [
              0.2222222222222222,
              "#7201a8"
             ],
             [
              0.3333333333333333,
              "#9c179e"
             ],
             [
              0.4444444444444444,
              "#bd3786"
             ],
             [
              0.5555555555555556,
              "#d8576b"
             ],
             [
              0.6666666666666666,
              "#ed7953"
             ],
             [
              0.7777777777777778,
              "#fb9f3a"
             ],
             [
              0.8888888888888888,
              "#fdca26"
             ],
             [
              1,
              "#f0f921"
             ]
            ],
            "type": "heatmap"
           }
          ],
          "heatmapgl": [
           {
            "colorbar": {
             "outlinewidth": 0,
             "ticks": ""
            },
            "colorscale": [
             [
              0,
              "#0d0887"
             ],
             [
              0.1111111111111111,
              "#46039f"
             ],
             [
              0.2222222222222222,
              "#7201a8"
             ],
             [
              0.3333333333333333,
              "#9c179e"
             ],
             [
              0.4444444444444444,
              "#bd3786"
             ],
             [
              0.5555555555555556,
              "#d8576b"
             ],
             [
              0.6666666666666666,
              "#ed7953"
             ],
             [
              0.7777777777777778,
              "#fb9f3a"
             ],
             [
              0.8888888888888888,
              "#fdca26"
             ],
             [
              1,
              "#f0f921"
             ]
            ],
            "type": "heatmapgl"
           }
          ],
          "histogram": [
           {
            "marker": {
             "pattern": {
              "fillmode": "overlay",
              "size": 10,
              "solidity": 0.2
             }
            },
            "type": "histogram"
           }
          ],
          "histogram2d": [
           {
            "colorbar": {
             "outlinewidth": 0,
             "ticks": ""
            },
            "colorscale": [
             [
              0,
              "#0d0887"
             ],
             [
              0.1111111111111111,
              "#46039f"
             ],
             [
              0.2222222222222222,
              "#7201a8"
             ],
             [
              0.3333333333333333,
              "#9c179e"
             ],
             [
              0.4444444444444444,
              "#bd3786"
             ],
             [
              0.5555555555555556,
              "#d8576b"
             ],
             [
              0.6666666666666666,
              "#ed7953"
             ],
             [
              0.7777777777777778,
              "#fb9f3a"
             ],
             [
              0.8888888888888888,
              "#fdca26"
             ],
             [
              1,
              "#f0f921"
             ]
            ],
            "type": "histogram2d"
           }
          ],
          "histogram2dcontour": [
           {
            "colorbar": {
             "outlinewidth": 0,
             "ticks": ""
            },
            "colorscale": [
             [
              0,
              "#0d0887"
             ],
             [
              0.1111111111111111,
              "#46039f"
             ],
             [
              0.2222222222222222,
              "#7201a8"
             ],
             [
              0.3333333333333333,
              "#9c179e"
             ],
             [
              0.4444444444444444,
              "#bd3786"
             ],
             [
              0.5555555555555556,
              "#d8576b"
             ],
             [
              0.6666666666666666,
              "#ed7953"
             ],
             [
              0.7777777777777778,
              "#fb9f3a"
             ],
             [
              0.8888888888888888,
              "#fdca26"
             ],
             [
              1,
              "#f0f921"
             ]
            ],
            "type": "histogram2dcontour"
           }
          ],
          "mesh3d": [
           {
            "colorbar": {
             "outlinewidth": 0,
             "ticks": ""
            },
            "type": "mesh3d"
           }
          ],
          "parcoords": [
           {
            "line": {
             "colorbar": {
              "outlinewidth": 0,
              "ticks": ""
             }
            },
            "type": "parcoords"
           }
          ],
          "pie": [
           {
            "automargin": true,
            "type": "pie"
           }
          ],
          "scatter": [
           {
            "fillpattern": {
             "fillmode": "overlay",
             "size": 10,
             "solidity": 0.2
            },
            "type": "scatter"
           }
          ],
          "scatter3d": [
           {
            "line": {
             "colorbar": {
              "outlinewidth": 0,
              "ticks": ""
             }
            },
            "marker": {
             "colorbar": {
              "outlinewidth": 0,
              "ticks": ""
             }
            },
            "type": "scatter3d"
           }
          ],
          "scattercarpet": [
           {
            "marker": {
             "colorbar": {
              "outlinewidth": 0,
              "ticks": ""
             }
            },
            "type": "scattercarpet"
           }
          ],
          "scattergeo": [
           {
            "marker": {
             "colorbar": {
              "outlinewidth": 0,
              "ticks": ""
             }
            },
            "type": "scattergeo"
           }
          ],
          "scattergl": [
           {
            "marker": {
             "colorbar": {
              "outlinewidth": 0,
              "ticks": ""
             }
            },
            "type": "scattergl"
           }
          ],
          "scattermapbox": [
           {
            "marker": {
             "colorbar": {
              "outlinewidth": 0,
              "ticks": ""
             }
            },
            "type": "scattermapbox"
           }
          ],
          "scatterpolar": [
           {
            "marker": {
             "colorbar": {
              "outlinewidth": 0,
              "ticks": ""
             }
            },
            "type": "scatterpolar"
           }
          ],
          "scatterpolargl": [
           {
            "marker": {
             "colorbar": {
              "outlinewidth": 0,
              "ticks": ""
             }
            },
            "type": "scatterpolargl"
           }
          ],
          "scatterternary": [
           {
            "marker": {
             "colorbar": {
              "outlinewidth": 0,
              "ticks": ""
             }
            },
            "type": "scatterternary"
           }
          ],
          "surface": [
           {
            "colorbar": {
             "outlinewidth": 0,
             "ticks": ""
            },
            "colorscale": [
             [
              0,
              "#0d0887"
             ],
             [
              0.1111111111111111,
              "#46039f"
             ],
             [
              0.2222222222222222,
              "#7201a8"
             ],
             [
              0.3333333333333333,
              "#9c179e"
             ],
             [
              0.4444444444444444,
              "#bd3786"
             ],
             [
              0.5555555555555556,
              "#d8576b"
             ],
             [
              0.6666666666666666,
              "#ed7953"
             ],
             [
              0.7777777777777778,
              "#fb9f3a"
             ],
             [
              0.8888888888888888,
              "#fdca26"
             ],
             [
              1,
              "#f0f921"
             ]
            ],
            "type": "surface"
           }
          ],
          "table": [
           {
            "cells": {
             "fill": {
              "color": "#EBF0F8"
             },
             "line": {
              "color": "white"
             }
            },
            "header": {
             "fill": {
              "color": "#C8D4E3"
             },
             "line": {
              "color": "white"
             }
            },
            "type": "table"
           }
          ]
         },
         "layout": {
          "annotationdefaults": {
           "arrowcolor": "#2a3f5f",
           "arrowhead": 0,
           "arrowwidth": 1
          },
          "autotypenumbers": "strict",
          "coloraxis": {
           "colorbar": {
            "outlinewidth": 0,
            "ticks": ""
           }
          },
          "colorscale": {
           "diverging": [
            [
             0,
             "#8e0152"
            ],
            [
             0.1,
             "#c51b7d"
            ],
            [
             0.2,
             "#de77ae"
            ],
            [
             0.3,
             "#f1b6da"
            ],
            [
             0.4,
             "#fde0ef"
            ],
            [
             0.5,
             "#f7f7f7"
            ],
            [
             0.6,
             "#e6f5d0"
            ],
            [
             0.7,
             "#b8e186"
            ],
            [
             0.8,
             "#7fbc41"
            ],
            [
             0.9,
             "#4d9221"
            ],
            [
             1,
             "#276419"
            ]
           ],
           "sequential": [
            [
             0,
             "#0d0887"
            ],
            [
             0.1111111111111111,
             "#46039f"
            ],
            [
             0.2222222222222222,
             "#7201a8"
            ],
            [
             0.3333333333333333,
             "#9c179e"
            ],
            [
             0.4444444444444444,
             "#bd3786"
            ],
            [
             0.5555555555555556,
             "#d8576b"
            ],
            [
             0.6666666666666666,
             "#ed7953"
            ],
            [
             0.7777777777777778,
             "#fb9f3a"
            ],
            [
             0.8888888888888888,
             "#fdca26"
            ],
            [
             1,
             "#f0f921"
            ]
           ],
           "sequentialminus": [
            [
             0,
             "#0d0887"
            ],
            [
             0.1111111111111111,
             "#46039f"
            ],
            [
             0.2222222222222222,
             "#7201a8"
            ],
            [
             0.3333333333333333,
             "#9c179e"
            ],
            [
             0.4444444444444444,
             "#bd3786"
            ],
            [
             0.5555555555555556,
             "#d8576b"
            ],
            [
             0.6666666666666666,
             "#ed7953"
            ],
            [
             0.7777777777777778,
             "#fb9f3a"
            ],
            [
             0.8888888888888888,
             "#fdca26"
            ],
            [
             1,
             "#f0f921"
            ]
           ]
          },
          "colorway": [
           "#636efa",
           "#EF553B",
           "#00cc96",
           "#ab63fa",
           "#FFA15A",
           "#19d3f3",
           "#FF6692",
           "#B6E880",
           "#FF97FF",
           "#FECB52"
          ],
          "font": {
           "color": "#2a3f5f"
          },
          "geo": {
           "bgcolor": "white",
           "lakecolor": "white",
           "landcolor": "#E5ECF6",
           "showlakes": true,
           "showland": true,
           "subunitcolor": "white"
          },
          "hoverlabel": {
           "align": "left"
          },
          "hovermode": "closest",
          "mapbox": {
           "style": "light"
          },
          "paper_bgcolor": "white",
          "plot_bgcolor": "#E5ECF6",
          "polar": {
           "angularaxis": {
            "gridcolor": "white",
            "linecolor": "white",
            "ticks": ""
           },
           "bgcolor": "#E5ECF6",
           "radialaxis": {
            "gridcolor": "white",
            "linecolor": "white",
            "ticks": ""
           }
          },
          "scene": {
           "xaxis": {
            "backgroundcolor": "#E5ECF6",
            "gridcolor": "white",
            "gridwidth": 2,
            "linecolor": "white",
            "showbackground": true,
            "ticks": "",
            "zerolinecolor": "white"
           },
           "yaxis": {
            "backgroundcolor": "#E5ECF6",
            "gridcolor": "white",
            "gridwidth": 2,
            "linecolor": "white",
            "showbackground": true,
            "ticks": "",
            "zerolinecolor": "white"
           },
           "zaxis": {
            "backgroundcolor": "#E5ECF6",
            "gridcolor": "white",
            "gridwidth": 2,
            "linecolor": "white",
            "showbackground": true,
            "ticks": "",
            "zerolinecolor": "white"
           }
          },
          "shapedefaults": {
           "line": {
            "color": "#2a3f5f"
           }
          },
          "ternary": {
           "aaxis": {
            "gridcolor": "white",
            "linecolor": "white",
            "ticks": ""
           },
           "baxis": {
            "gridcolor": "white",
            "linecolor": "white",
            "ticks": ""
           },
           "bgcolor": "#E5ECF6",
           "caxis": {
            "gridcolor": "white",
            "linecolor": "white",
            "ticks": ""
           }
          },
          "title": {
           "x": 0.05
          },
          "xaxis": {
           "automargin": true,
           "gridcolor": "white",
           "linecolor": "white",
           "ticks": "",
           "title": {
            "standoff": 15
           },
           "zerolinecolor": "white",
           "zerolinewidth": 2
          },
          "yaxis": {
           "automargin": true,
           "gridcolor": "white",
           "linecolor": "white",
           "ticks": "",
           "title": {
            "standoff": 15
           },
           "zerolinecolor": "white",
           "zerolinewidth": 2
          }
         }
        },
        "width": 650
       }
      },
      "text/html": [
       "<div>                            <div id=\"c69a6818-fcf3-4655-bcb6-76e6086fec22\" class=\"plotly-graph-div\" style=\"height:400px; width:650px;\"></div>            <script type=\"text/javascript\">                require([\"plotly\"], function(Plotly) {                    window.PLOTLYENV=window.PLOTLYENV || {};                                    if (document.getElementById(\"c69a6818-fcf3-4655-bcb6-76e6086fec22\")) {                    Plotly.newPlot(                        \"c69a6818-fcf3-4655-bcb6-76e6086fec22\",                        [{\"domain\":{\"x\":[0.0,1.0],\"y\":[0.0,1.0]},\"hovertemplate\":\"label=%{label}\\u003cbr\\u003evalue=%{value}\\u003cextra\\u003e\\u003c\\u002fextra\\u003e\",\"labels\":[\"DEAM\",\"Delegacia virtual\",\"Seccional da Marambaia\",\"Seccional de S\\u00e3o Br\\u00e1s\",\"CIDADE NOVA - 3\\u00aa SECCIONAL - 2\\u00aa RISP - 18\\u00aa AISP\"],\"legendgroup\":\"\",\"name\":\"\",\"showlegend\":true,\"values\":[18319,4660,1578,1275,1205],\"type\":\"pie\",\"marker\":{\"line\":{\"color\":\"white\",\"width\":2}},\"textfont\":{\"size\":15}}],                        {\"template\":{\"data\":{\"histogram2dcontour\":[{\"type\":\"histogram2dcontour\",\"colorbar\":{\"outlinewidth\":0,\"ticks\":\"\"},\"colorscale\":[[0.0,\"#0d0887\"],[0.1111111111111111,\"#46039f\"],[0.2222222222222222,\"#7201a8\"],[0.3333333333333333,\"#9c179e\"],[0.4444444444444444,\"#bd3786\"],[0.5555555555555556,\"#d8576b\"],[0.6666666666666666,\"#ed7953\"],[0.7777777777777778,\"#fb9f3a\"],[0.8888888888888888,\"#fdca26\"],[1.0,\"#f0f921\"]]}],\"choropleth\":[{\"type\":\"choropleth\",\"colorbar\":{\"outlinewidth\":0,\"ticks\":\"\"}}],\"histogram2d\":[{\"type\":\"histogram2d\",\"colorbar\":{\"outlinewidth\":0,\"ticks\":\"\"},\"colorscale\":[[0.0,\"#0d0887\"],[0.1111111111111111,\"#46039f\"],[0.2222222222222222,\"#7201a8\"],[0.3333333333333333,\"#9c179e\"],[0.4444444444444444,\"#bd3786\"],[0.5555555555555556,\"#d8576b\"],[0.6666666666666666,\"#ed7953\"],[0.7777777777777778,\"#fb9f3a\"],[0.8888888888888888,\"#fdca26\"],[1.0,\"#f0f921\"]]}],\"heatmap\":[{\"type\":\"heatmap\",\"colorbar\":{\"outlinewidth\":0,\"ticks\":\"\"},\"colorscale\":[[0.0,\"#0d0887\"],[0.1111111111111111,\"#46039f\"],[0.2222222222222222,\"#7201a8\"],[0.3333333333333333,\"#9c179e\"],[0.4444444444444444,\"#bd3786\"],[0.5555555555555556,\"#d8576b\"],[0.6666666666666666,\"#ed7953\"],[0.7777777777777778,\"#fb9f3a\"],[0.8888888888888888,\"#fdca26\"],[1.0,\"#f0f921\"]]}],\"heatmapgl\":[{\"type\":\"heatmapgl\",\"colorbar\":{\"outlinewidth\":0,\"ticks\":\"\"},\"colorscale\":[[0.0,\"#0d0887\"],[0.1111111111111111,\"#46039f\"],[0.2222222222222222,\"#7201a8\"],[0.3333333333333333,\"#9c179e\"],[0.4444444444444444,\"#bd3786\"],[0.5555555555555556,\"#d8576b\"],[0.6666666666666666,\"#ed7953\"],[0.7777777777777778,\"#fb9f3a\"],[0.8888888888888888,\"#fdca26\"],[1.0,\"#f0f921\"]]}],\"contourcarpet\":[{\"type\":\"contourcarpet\",\"colorbar\":{\"outlinewidth\":0,\"ticks\":\"\"}}],\"contour\":[{\"type\":\"contour\",\"colorbar\":{\"outlinewidth\":0,\"ticks\":\"\"},\"colorscale\":[[0.0,\"#0d0887\"],[0.1111111111111111,\"#46039f\"],[0.2222222222222222,\"#7201a8\"],[0.3333333333333333,\"#9c179e\"],[0.4444444444444444,\"#bd3786\"],[0.5555555555555556,\"#d8576b\"],[0.6666666666666666,\"#ed7953\"],[0.7777777777777778,\"#fb9f3a\"],[0.8888888888888888,\"#fdca26\"],[1.0,\"#f0f921\"]]}],\"surface\":[{\"type\":\"surface\",\"colorbar\":{\"outlinewidth\":0,\"ticks\":\"\"},\"colorscale\":[[0.0,\"#0d0887\"],[0.1111111111111111,\"#46039f\"],[0.2222222222222222,\"#7201a8\"],[0.3333333333333333,\"#9c179e\"],[0.4444444444444444,\"#bd3786\"],[0.5555555555555556,\"#d8576b\"],[0.6666666666666666,\"#ed7953\"],[0.7777777777777778,\"#fb9f3a\"],[0.8888888888888888,\"#fdca26\"],[1.0,\"#f0f921\"]]}],\"mesh3d\":[{\"type\":\"mesh3d\",\"colorbar\":{\"outlinewidth\":0,\"ticks\":\"\"}}],\"scatter\":[{\"fillpattern\":{\"fillmode\":\"overlay\",\"size\":10,\"solidity\":0.2},\"type\":\"scatter\"}],\"parcoords\":[{\"type\":\"parcoords\",\"line\":{\"colorbar\":{\"outlinewidth\":0,\"ticks\":\"\"}}}],\"scatterpolargl\":[{\"type\":\"scatterpolargl\",\"marker\":{\"colorbar\":{\"outlinewidth\":0,\"ticks\":\"\"}}}],\"bar\":[{\"error_x\":{\"color\":\"#2a3f5f\"},\"error_y\":{\"color\":\"#2a3f5f\"},\"marker\":{\"line\":{\"color\":\"#E5ECF6\",\"width\":0.5},\"pattern\":{\"fillmode\":\"overlay\",\"size\":10,\"solidity\":0.2}},\"type\":\"bar\"}],\"scattergeo\":[{\"type\":\"scattergeo\",\"marker\":{\"colorbar\":{\"outlinewidth\":0,\"ticks\":\"\"}}}],\"scatterpolar\":[{\"type\":\"scatterpolar\",\"marker\":{\"colorbar\":{\"outlinewidth\":0,\"ticks\":\"\"}}}],\"histogram\":[{\"marker\":{\"pattern\":{\"fillmode\":\"overlay\",\"size\":10,\"solidity\":0.2}},\"type\":\"histogram\"}],\"scattergl\":[{\"type\":\"scattergl\",\"marker\":{\"colorbar\":{\"outlinewidth\":0,\"ticks\":\"\"}}}],\"scatter3d\":[{\"type\":\"scatter3d\",\"line\":{\"colorbar\":{\"outlinewidth\":0,\"ticks\":\"\"}},\"marker\":{\"colorbar\":{\"outlinewidth\":0,\"ticks\":\"\"}}}],\"scattermapbox\":[{\"type\":\"scattermapbox\",\"marker\":{\"colorbar\":{\"outlinewidth\":0,\"ticks\":\"\"}}}],\"scatterternary\":[{\"type\":\"scatterternary\",\"marker\":{\"colorbar\":{\"outlinewidth\":0,\"ticks\":\"\"}}}],\"scattercarpet\":[{\"type\":\"scattercarpet\",\"marker\":{\"colorbar\":{\"outlinewidth\":0,\"ticks\":\"\"}}}],\"carpet\":[{\"aaxis\":{\"endlinecolor\":\"#2a3f5f\",\"gridcolor\":\"white\",\"linecolor\":\"white\",\"minorgridcolor\":\"white\",\"startlinecolor\":\"#2a3f5f\"},\"baxis\":{\"endlinecolor\":\"#2a3f5f\",\"gridcolor\":\"white\",\"linecolor\":\"white\",\"minorgridcolor\":\"white\",\"startlinecolor\":\"#2a3f5f\"},\"type\":\"carpet\"}],\"table\":[{\"cells\":{\"fill\":{\"color\":\"#EBF0F8\"},\"line\":{\"color\":\"white\"}},\"header\":{\"fill\":{\"color\":\"#C8D4E3\"},\"line\":{\"color\":\"white\"}},\"type\":\"table\"}],\"barpolar\":[{\"marker\":{\"line\":{\"color\":\"#E5ECF6\",\"width\":0.5},\"pattern\":{\"fillmode\":\"overlay\",\"size\":10,\"solidity\":0.2}},\"type\":\"barpolar\"}],\"pie\":[{\"automargin\":true,\"type\":\"pie\"}]},\"layout\":{\"autotypenumbers\":\"strict\",\"colorway\":[\"#636efa\",\"#EF553B\",\"#00cc96\",\"#ab63fa\",\"#FFA15A\",\"#19d3f3\",\"#FF6692\",\"#B6E880\",\"#FF97FF\",\"#FECB52\"],\"font\":{\"color\":\"#2a3f5f\"},\"hovermode\":\"closest\",\"hoverlabel\":{\"align\":\"left\"},\"paper_bgcolor\":\"white\",\"plot_bgcolor\":\"#E5ECF6\",\"polar\":{\"bgcolor\":\"#E5ECF6\",\"angularaxis\":{\"gridcolor\":\"white\",\"linecolor\":\"white\",\"ticks\":\"\"},\"radialaxis\":{\"gridcolor\":\"white\",\"linecolor\":\"white\",\"ticks\":\"\"}},\"ternary\":{\"bgcolor\":\"#E5ECF6\",\"aaxis\":{\"gridcolor\":\"white\",\"linecolor\":\"white\",\"ticks\":\"\"},\"baxis\":{\"gridcolor\":\"white\",\"linecolor\":\"white\",\"ticks\":\"\"},\"caxis\":{\"gridcolor\":\"white\",\"linecolor\":\"white\",\"ticks\":\"\"}},\"coloraxis\":{\"colorbar\":{\"outlinewidth\":0,\"ticks\":\"\"}},\"colorscale\":{\"sequential\":[[0.0,\"#0d0887\"],[0.1111111111111111,\"#46039f\"],[0.2222222222222222,\"#7201a8\"],[0.3333333333333333,\"#9c179e\"],[0.4444444444444444,\"#bd3786\"],[0.5555555555555556,\"#d8576b\"],[0.6666666666666666,\"#ed7953\"],[0.7777777777777778,\"#fb9f3a\"],[0.8888888888888888,\"#fdca26\"],[1.0,\"#f0f921\"]],\"sequentialminus\":[[0.0,\"#0d0887\"],[0.1111111111111111,\"#46039f\"],[0.2222222222222222,\"#7201a8\"],[0.3333333333333333,\"#9c179e\"],[0.4444444444444444,\"#bd3786\"],[0.5555555555555556,\"#d8576b\"],[0.6666666666666666,\"#ed7953\"],[0.7777777777777778,\"#fb9f3a\"],[0.8888888888888888,\"#fdca26\"],[1.0,\"#f0f921\"]],\"diverging\":[[0,\"#8e0152\"],[0.1,\"#c51b7d\"],[0.2,\"#de77ae\"],[0.3,\"#f1b6da\"],[0.4,\"#fde0ef\"],[0.5,\"#f7f7f7\"],[0.6,\"#e6f5d0\"],[0.7,\"#b8e186\"],[0.8,\"#7fbc41\"],[0.9,\"#4d9221\"],[1,\"#276419\"]]},\"xaxis\":{\"gridcolor\":\"white\",\"linecolor\":\"white\",\"ticks\":\"\",\"title\":{\"standoff\":15},\"zerolinecolor\":\"white\",\"automargin\":true,\"zerolinewidth\":2},\"yaxis\":{\"gridcolor\":\"white\",\"linecolor\":\"white\",\"ticks\":\"\",\"title\":{\"standoff\":15},\"zerolinecolor\":\"white\",\"automargin\":true,\"zerolinewidth\":2},\"scene\":{\"xaxis\":{\"backgroundcolor\":\"#E5ECF6\",\"gridcolor\":\"white\",\"linecolor\":\"white\",\"showbackground\":true,\"ticks\":\"\",\"zerolinecolor\":\"white\",\"gridwidth\":2},\"yaxis\":{\"backgroundcolor\":\"#E5ECF6\",\"gridcolor\":\"white\",\"linecolor\":\"white\",\"showbackground\":true,\"ticks\":\"\",\"zerolinecolor\":\"white\",\"gridwidth\":2},\"zaxis\":{\"backgroundcolor\":\"#E5ECF6\",\"gridcolor\":\"white\",\"linecolor\":\"white\",\"showbackground\":true,\"ticks\":\"\",\"zerolinecolor\":\"white\",\"gridwidth\":2}},\"shapedefaults\":{\"line\":{\"color\":\"#2a3f5f\"}},\"annotationdefaults\":{\"arrowcolor\":\"#2a3f5f\",\"arrowhead\":0,\"arrowwidth\":1},\"geo\":{\"bgcolor\":\"white\",\"landcolor\":\"#E5ECF6\",\"subunitcolor\":\"white\",\"showland\":true,\"showlakes\":true,\"lakecolor\":\"white\"},\"title\":{\"x\":0.05},\"mapbox\":{\"style\":\"light\"}}},\"legend\":{\"tracegroupgap\":0,\"bgcolor\":\"#FFF5EE\"},\"margin\":{\"t\":10,\"l\":10,\"r\":10,\"b\":10},\"piecolorway\":[\"#BA1F4C\",\"#9373AE\",\"#41A7C4\",\"#D68E4A\",\"#889684\",\"#96C84E\",\"#352DA7\",\"#691D73\",\"#D4BE8E\",\"#386E0D\",\"#BF4F7F\",\"#AC3516\",\"#3A6CC6\",\"#295A96\",\"#DBB1C3\"],\"height\":400,\"width\":650,\"plot_bgcolor\":\"#FFF5EE\",\"paper_bgcolor\":\"white\"},                        {\"responsive\": true}                    ).then(function(){\n",
       "                            \n",
       "var gd = document.getElementById('c69a6818-fcf3-4655-bcb6-76e6086fec22');\n",
       "var x = new MutationObserver(function (mutations, observer) {{\n",
       "        var display = window.getComputedStyle(gd).display;\n",
       "        if (!display || display === 'none') {{\n",
       "            console.log([gd, 'removed!']);\n",
       "            Plotly.purge(gd);\n",
       "            observer.disconnect();\n",
       "        }}\n",
       "}});\n",
       "\n",
       "// Listen for the removal of the full notebook cells\n",
       "var notebookContainer = gd.closest('#notebook-container');\n",
       "if (notebookContainer) {{\n",
       "    x.observe(notebookContainer, {childList: true});\n",
       "}}\n",
       "\n",
       "// Listen for the clearing of the current output cell\n",
       "var outputEl = gd.closest('.output');\n",
       "if (outputEl) {{\n",
       "    x.observe(outputEl, {childList: true});\n",
       "}}\n",
       "\n",
       "                        })                };                });            </script>        </div>"
      ]
     },
     "metadata": {},
     "output_type": "display_data"
    }
   ],
   "source": [
    "deam1 = crimes_selecionados_para_df.drop(crimes_selecionados_para_df[crimes_selecionados_para_df['unidade_origem'] == 'Nao informado'].index, inplace=False)\n",
    "deam1= deam1[deam1['unidade_origem'].isin(deam1['unidade_origem'].value_counts().head(5).index)]\n",
    "\n",
    "contagem_por_unidade = deam1['unidade_origem'].value_counts()\n",
    "contagem_por_unidade.rename({'DELEGACIA ESPECIALIZADA NO ATENDIMENTO A MULHER - DEAM': 'DEAM', \n",
    "                    'MARAMBAIA - 5ª SECCIONAL - 1ª RISP - 9ª AISP': 'Seccional da Marambaia',\n",
    "                    'DEL.VIRTUAL - 277': 'Delegacia virtual', \n",
    "                    'SAO BRAS - 2º SECCIONAL -1º RISP- 2ª AISP': 'Seccional de São Brás', \n",
    "                    'CREMACAO - 4ª SECCIONAL - 1ª RISP- 3ª AISP': 'Seccional da Cremação'}, inplace=True)\n",
    "\n",
    "\n",
    "fig = px.pie(names=contagem_por_unidade.index, \n",
    "             values=contagem_por_unidade.values,\n",
    "             #title=\"Delegacias com mais registros de ocorrências\",\n",
    "             color_discrete_sequence=custom_palette)\n",
    "\n",
    "fig.update_layout(height=400, width=650, margin=dict(l=10, r=10, t=10, b=10),\n",
    "                  plot_bgcolor='#FFF5EE',\n",
    "                  paper_bgcolor='white', \n",
    "                  legend=dict(bgcolor='#FFF5EE'))\n",
    "fig.update_traces(marker=dict(line=dict(color='white', width=2)),\n",
    "                  textfont=dict(size=15))\n",
    "\n",
    "#fig.write_image(\"imagens/12_registros_deam.jpeg\", format=\"jpeg\", scale=5)\n",
    "\n",
    "fig.show()\n",
    "#fig.write_image(\"imagens_svg/delegacias_freq.svg\")"
   ]
  }
 ],
 "metadata": {
  "kernelspec": {
   "display_name": "Python 3",
   "language": "python",
   "name": "python3"
  },
  "language_info": {
   "codemirror_mode": {
    "name": "ipython",
    "version": 3
   },
   "file_extension": ".py",
   "mimetype": "text/x-python",
   "name": "python",
   "nbconvert_exporter": "python",
   "pygments_lexer": "ipython3",
   "version": "3.12.3"
  }
 },
 "nbformat": 4,
 "nbformat_minor": 2
}
