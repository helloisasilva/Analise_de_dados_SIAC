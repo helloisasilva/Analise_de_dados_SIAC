{
 "cells": [
  {
   "cell_type": "markdown",
   "metadata": {},
   "source": [
    "# Análise de Crimes contra a Mulher no Estado do Pará (2019-2023)"
   ]
  },
  {
   "cell_type": "markdown",
   "metadata": {},
   "source": [
    "Neste notebook, vamos realizar uma análise detalhada da base de dados sobre crimes contra a mulher no estado do Pará, ocorridos entre os anos de 2019 e 2023. O objetivo principal é explorar e extrair informações úteis para compreender o panorama desses crimes e identificar padrões relevantes.\n",
    "\n",
    "Esta etapa visa criar visualizações gráficas dos dados tratados para compreender sua natureza e encontrar insights úteis. Essas visualizações facilitam a identificação de padrões, tendências e relações entre variáveis. Ao examinar os dados por meio de gráficos, podemos detectar distribuições, outliers e entender melhor seu comportamento geral. Isso é fundamental para tomadas de decisão informadas e o desenvolvimento de estratégias eficazes.\n",
    "\n"
   ]
  },
  {
   "cell_type": "markdown",
   "metadata": {},
   "source": [
    "### 1. Importações necesssárias"
   ]
  },
  {
   "cell_type": "code",
   "execution_count": 1,
   "metadata": {},
   "outputs": [],
   "source": [
    "# Manipulação e Análise de Dados\n",
    "import pandas as pd\n",
    "import numpy as np\n",
    "\n",
    "# Operações de Sistema\n",
    "import os\n",
    "\n",
    "# Visualização de Dados\n",
    "import matplotlib.pyplot as plt\n",
    "\n",
    "# Visualizações Interativas com Plotly\n",
    "import plotly\n",
    "import plotly.express as px\n",
    "import plotly.offline as py\n",
    "import plotly.graph_objects as go\n"
   ]
  },
  {
   "cell_type": "code",
   "execution_count": 2,
   "metadata": {},
   "outputs": [
    {
     "data": {
      "text/html": [
       "        <script type=\"text/javascript\">\n",
       "        window.PlotlyConfig = {MathJaxConfig: 'local'};\n",
       "        if (window.MathJax && window.MathJax.Hub && window.MathJax.Hub.Config) {window.MathJax.Hub.Config({SVG: {font: \"STIX-Web\"}});}\n",
       "        if (typeof require !== 'undefined') {\n",
       "        require.undef(\"plotly\");\n",
       "        requirejs.config({\n",
       "            paths: {\n",
       "                'plotly': ['https://cdn.plot.ly/plotly-2.24.1.min']\n",
       "            }\n",
       "        });\n",
       "        require(['plotly'], function(Plotly) {\n",
       "            window._Plotly = Plotly;\n",
       "        });\n",
       "        }\n",
       "        </script>\n",
       "        "
      ]
     },
     "metadata": {},
     "output_type": "display_data"
    }
   ],
   "source": [
    "plotly.offline.init_notebook_mode(connected=True)"
   ]
  },
  {
   "cell_type": "markdown",
   "metadata": {},
   "source": [
    "#### 1.1. Importação da base de dados"
   ]
  },
  {
   "cell_type": "code",
   "execution_count": 114,
   "metadata": {},
   "outputs": [],
   "source": [
    "crimes_selecionados_para_df = pd.read_csv('/home/heloisasilva/Downloads/bases siac/crimes_selecionados_pará.csv')"
   ]
  },
  {
   "cell_type": "code",
   "execution_count": 4,
   "metadata": {},
   "outputs": [
    {
     "data": {
      "text/html": [
       "<div>\n",
       "<style scoped>\n",
       "    .dataframe tbody tr th:only-of-type {\n",
       "        vertical-align: middle;\n",
       "    }\n",
       "\n",
       "    .dataframe tbody tr th {\n",
       "        vertical-align: top;\n",
       "    }\n",
       "\n",
       "    .dataframe thead th {\n",
       "        text-align: right;\n",
       "    }\n",
       "</style>\n",
       "<table border=\"1\" class=\"dataframe\">\n",
       "  <thead>\n",
       "    <tr style=\"text-align: right;\">\n",
       "      <th></th>\n",
       "      <th>unidade_origem</th>\n",
       "      <th>unidade_responsavel</th>\n",
       "      <th>dia_semana</th>\n",
       "      <th>mes_fato</th>\n",
       "      <th>municipios</th>\n",
       "      <th>ano_fato</th>\n",
       "      <th>data_fato</th>\n",
       "      <th>consolidado</th>\n",
       "      <th>especificacao_crime</th>\n",
       "      <th>causa_presumivel</th>\n",
       "      <th>...</th>\n",
       "      <th>grau_de_relacionamento</th>\n",
       "      <th>relato</th>\n",
       "      <th>aut_sexo</th>\n",
       "      <th>distrito</th>\n",
       "      <th>regionais</th>\n",
       "      <th>nro_bop_aditado</th>\n",
       "      <th>nro_bop</th>\n",
       "      <th>turno</th>\n",
       "      <th>periodo</th>\n",
       "      <th>tipo_violencia</th>\n",
       "    </tr>\n",
       "  </thead>\n",
       "  <tbody>\n",
       "    <tr>\n",
       "      <th>0</th>\n",
       "      <td>MARAMBAIA - 5ª SECCIONAL - 1ª RISP - 9ª AISP</td>\n",
       "      <td>ATALAIA - DELEGACIA DE POLICIA - 2ª RISP - 17ª...</td>\n",
       "      <td>SEG</td>\n",
       "      <td>NOVEMBRO</td>\n",
       "      <td>ANANINDEUA</td>\n",
       "      <td>2019</td>\n",
       "      <td>2019-11-25</td>\n",
       "      <td>LESAO CORPORAL</td>\n",
       "      <td>VIOLENCIA DOMESTICA</td>\n",
       "      <td>ÓDIO OU VINGANÇA</td>\n",
       "      <td>...</td>\n",
       "      <td>FILHO(A)</td>\n",
       "      <td>&lt;p&gt;A relatora vem a esta Seccional comunicar q...</td>\n",
       "      <td>M</td>\n",
       "      <td>ANANINDEUA</td>\n",
       "      <td>METROPOLITANA</td>\n",
       "      <td>Nao informado</td>\n",
       "      <td>00006/2019.113110-8</td>\n",
       "      <td>TARDE</td>\n",
       "      <td>2 SEMESTRE DE 2019</td>\n",
       "      <td>Violência física</td>\n",
       "    </tr>\n",
       "    <tr>\n",
       "      <th>1</th>\n",
       "      <td>MARITUBA - SECCIONAL -  2º RISP- 22ª AISP</td>\n",
       "      <td>MARITUBA - SECCIONAL -  2º RISP- 22ª AISP</td>\n",
       "      <td>QUI</td>\n",
       "      <td>JUNHO</td>\n",
       "      <td>MARITUBA</td>\n",
       "      <td>2019</td>\n",
       "      <td>2019-06-13</td>\n",
       "      <td>LESAO CORPORAL</td>\n",
       "      <td>VIOLENCIA DOMESTICA</td>\n",
       "      <td>OUTRAS</td>\n",
       "      <td>...</td>\n",
       "      <td>NAO INFORMADO</td>\n",
       "      <td>&lt;p&gt;A nacional acima qualificado compareceu nes...</td>\n",
       "      <td>F</td>\n",
       "      <td>MARITUBA</td>\n",
       "      <td>METROPOLITANA</td>\n",
       "      <td>Nao informado</td>\n",
       "      <td>00029/2019.103607-1</td>\n",
       "      <td>NOITE</td>\n",
       "      <td>1 SEMESTRE DE 2019</td>\n",
       "      <td>Violência física</td>\n",
       "    </tr>\n",
       "    <tr>\n",
       "      <th>2</th>\n",
       "      <td>MARITUBA - SECCIONAL -  2º RISP- 22ª AISP</td>\n",
       "      <td>MARITUBA - SECCIONAL -  2º RISP- 22ª AISP</td>\n",
       "      <td>TER</td>\n",
       "      <td>MARCO</td>\n",
       "      <td>MARITUBA</td>\n",
       "      <td>2019</td>\n",
       "      <td>2019-03-05</td>\n",
       "      <td>LESAO CORPORAL</td>\n",
       "      <td>VIOLENCIA DOMESTICA</td>\n",
       "      <td>ÓDIO OU VINGANÇA</td>\n",
       "      <td>...</td>\n",
       "      <td>NAO INFORMADO</td>\n",
       "      <td>&lt;p&gt;O policial militar acima identificado apres...</td>\n",
       "      <td>Nao informado</td>\n",
       "      <td>MARITUBA</td>\n",
       "      <td>METROPOLITANA</td>\n",
       "      <td>Nao informado</td>\n",
       "      <td>00029/2019.101409-1</td>\n",
       "      <td>NOITE</td>\n",
       "      <td>1 SEMESTRE DE 2019</td>\n",
       "      <td>Violência física</td>\n",
       "    </tr>\n",
       "    <tr>\n",
       "      <th>3</th>\n",
       "      <td>ITUPIRANGA -  DELEGACIA DE POLICIA - 10ª RISP</td>\n",
       "      <td>ITUPIRANGA -  DELEGACIA DE POLICIA - 10ª RISP</td>\n",
       "      <td>QUA</td>\n",
       "      <td>FEVEREIRO</td>\n",
       "      <td>ITUPIRANGA</td>\n",
       "      <td>2019</td>\n",
       "      <td>2019-02-27</td>\n",
       "      <td>AMEACA</td>\n",
       "      <td>Nao informado</td>\n",
       "      <td>ÓDIO OU VINGANÇA</td>\n",
       "      <td>...</td>\n",
       "      <td>NAO INFORMADO</td>\n",
       "      <td>&lt;p&gt;A relatora comunica que foi desmoralizada p...</td>\n",
       "      <td>Nao informado</td>\n",
       "      <td>ITUPIRANGA</td>\n",
       "      <td>CARAJAS</td>\n",
       "      <td>Nao informado</td>\n",
       "      <td>00157/2019.100273-5</td>\n",
       "      <td>MANHA</td>\n",
       "      <td>1 SEMESTRE DE 2019</td>\n",
       "      <td>Violência psicológica</td>\n",
       "    </tr>\n",
       "    <tr>\n",
       "      <th>4</th>\n",
       "      <td>BENFICA-UIPP MURINIM 94-2º RISP-23ª AISP</td>\n",
       "      <td>BENFICA-UIPP MURINIM 94-2º RISP-23ª AISP</td>\n",
       "      <td>QUI</td>\n",
       "      <td>JUNHO</td>\n",
       "      <td>BENEVIDES</td>\n",
       "      <td>2019</td>\n",
       "      <td>2019-06-20</td>\n",
       "      <td>AMEACA</td>\n",
       "      <td>Nao informado</td>\n",
       "      <td>ÓDIO OU VINGANÇA</td>\n",
       "      <td>...</td>\n",
       "      <td>NAO INFORMADO</td>\n",
       "      <td>A RELATORA ACIMA QUALIFICADA INFORMA QUE NO DI...</td>\n",
       "      <td>Nao informado</td>\n",
       "      <td>BENEVIDES</td>\n",
       "      <td>METROPOLITANA</td>\n",
       "      <td>/.-</td>\n",
       "      <td>94/2019.000595-4</td>\n",
       "      <td>NOITE</td>\n",
       "      <td>1 SEMESTRE DE 2019</td>\n",
       "      <td>Violência psicológica</td>\n",
       "    </tr>\n",
       "  </tbody>\n",
       "</table>\n",
       "<p>5 rows × 27 columns</p>\n",
       "</div>"
      ],
      "text/plain": [
       "                                  unidade_origem  \\\n",
       "0   MARAMBAIA - 5ª SECCIONAL - 1ª RISP - 9ª AISP   \n",
       "1      MARITUBA - SECCIONAL -  2º RISP- 22ª AISP   \n",
       "2      MARITUBA - SECCIONAL -  2º RISP- 22ª AISP   \n",
       "3  ITUPIRANGA -  DELEGACIA DE POLICIA - 10ª RISP   \n",
       "4       BENFICA-UIPP MURINIM 94-2º RISP-23ª AISP   \n",
       "\n",
       "                                 unidade_responsavel dia_semana   mes_fato  \\\n",
       "0  ATALAIA - DELEGACIA DE POLICIA - 2ª RISP - 17ª...        SEG   NOVEMBRO   \n",
       "1          MARITUBA - SECCIONAL -  2º RISP- 22ª AISP        QUI      JUNHO   \n",
       "2          MARITUBA - SECCIONAL -  2º RISP- 22ª AISP        TER      MARCO   \n",
       "3      ITUPIRANGA -  DELEGACIA DE POLICIA - 10ª RISP        QUA  FEVEREIRO   \n",
       "4           BENFICA-UIPP MURINIM 94-2º RISP-23ª AISP        QUI      JUNHO   \n",
       "\n",
       "   municipios  ano_fato   data_fato     consolidado  especificacao_crime  \\\n",
       "0  ANANINDEUA      2019  2019-11-25  LESAO CORPORAL  VIOLENCIA DOMESTICA   \n",
       "1    MARITUBA      2019  2019-06-13  LESAO CORPORAL  VIOLENCIA DOMESTICA   \n",
       "2    MARITUBA      2019  2019-03-05  LESAO CORPORAL  VIOLENCIA DOMESTICA   \n",
       "3  ITUPIRANGA      2019  2019-02-27          AMEACA        Nao informado   \n",
       "4   BENEVIDES      2019  2019-06-20          AMEACA        Nao informado   \n",
       "\n",
       "   causa_presumivel  ... grau_de_relacionamento  \\\n",
       "0  ÓDIO OU VINGANÇA  ...               FILHO(A)   \n",
       "1            OUTRAS  ...          NAO INFORMADO   \n",
       "2  ÓDIO OU VINGANÇA  ...          NAO INFORMADO   \n",
       "3  ÓDIO OU VINGANÇA  ...          NAO INFORMADO   \n",
       "4  ÓDIO OU VINGANÇA  ...          NAO INFORMADO   \n",
       "\n",
       "                                              relato       aut_sexo  \\\n",
       "0  <p>A relatora vem a esta Seccional comunicar q...              M   \n",
       "1  <p>A nacional acima qualificado compareceu nes...              F   \n",
       "2  <p>O policial militar acima identificado apres...  Nao informado   \n",
       "3  <p>A relatora comunica que foi desmoralizada p...  Nao informado   \n",
       "4  A RELATORA ACIMA QUALIFICADA INFORMA QUE NO DI...  Nao informado   \n",
       "\n",
       "     distrito      regionais nro_bop_aditado              nro_bop  turno  \\\n",
       "0  ANANINDEUA  METROPOLITANA   Nao informado  00006/2019.113110-8  TARDE   \n",
       "1    MARITUBA  METROPOLITANA   Nao informado  00029/2019.103607-1  NOITE   \n",
       "2    MARITUBA  METROPOLITANA   Nao informado  00029/2019.101409-1  NOITE   \n",
       "3  ITUPIRANGA        CARAJAS   Nao informado  00157/2019.100273-5  MANHA   \n",
       "4   BENEVIDES  METROPOLITANA             /.-     94/2019.000595-4  NOITE   \n",
       "\n",
       "              periodo         tipo_violencia  \n",
       "0  2 SEMESTRE DE 2019       Violência física  \n",
       "1  1 SEMESTRE DE 2019       Violência física  \n",
       "2  1 SEMESTRE DE 2019       Violência física  \n",
       "3  1 SEMESTRE DE 2019  Violência psicológica  \n",
       "4  1 SEMESTRE DE 2019  Violência psicológica  \n",
       "\n",
       "[5 rows x 27 columns]"
      ]
     },
     "execution_count": 4,
     "metadata": {},
     "output_type": "execute_result"
    }
   ],
   "source": [
    "crimes_selecionados_para_df.head()"
   ]
  },
  {
   "cell_type": "code",
   "execution_count": 42,
   "metadata": {},
   "outputs": [
    {
     "data": {
      "text/plain": [
       "Index(['unidade_origem', 'unidade_responsavel', 'dia_semana', 'mes_fato',\n",
       "       'municipios', 'ano_fato', 'data_fato', 'consolidado',\n",
       "       'especificacao_crime', 'causa_presumivel', 'meio_empregado_sisp',\n",
       "       'bairros', 'local_ocorrencia', 'vit_fx_etaria', 'vit_sexo',\n",
       "       'vit_cor_pele', 'vit_grau_inst', 'grau_de_relacionamento', 'relato',\n",
       "       'aut_sexo', 'distrito', 'regionais', 'nro_bop_aditado', 'nro_bop',\n",
       "       'turno', 'periodo', 'tipo_violencia'],\n",
       "      dtype='object')"
      ]
     },
     "execution_count": 42,
     "metadata": {},
     "output_type": "execute_result"
    }
   ],
   "source": [
    "crimes_selecionados_para_df.columns"
   ]
  },
  {
   "cell_type": "code",
   "execution_count": 43,
   "metadata": {},
   "outputs": [
    {
     "data": {
      "text/plain": [
       "(217173, 27)"
      ]
     },
     "execution_count": 43,
     "metadata": {},
     "output_type": "execute_result"
    }
   ],
   "source": [
    "crimes_selecionados_para_df.shape"
   ]
  },
  {
   "cell_type": "markdown",
   "metadata": {},
   "source": [
    "### 2. Renomeação de termos das colunas para padronização"
   ]
  },
  {
   "cell_type": "markdown",
   "metadata": {},
   "source": [
    "- Crimes consolidados"
   ]
  },
  {
   "cell_type": "code",
   "execution_count": 8,
   "metadata": {},
   "outputs": [
    {
     "data": {
      "text/plain": [
       "consolidado\n",
       "AMEACA                                              108996\n",
       "LESAO CORPORAL                                       67112\n",
       "ESTUPRO DE VULNERAVEL                                14986\n",
       "VIOLENCIA PSICOLOGICA                                 5818\n",
       "DESCUMPRIMENTO DE MEDIDAS PROTETIVAS DE URGENCIA      5476\n",
       "IMPORTUNACAO SEXUAL                                   4386\n",
       "ESTUPRO                                               3882\n",
       "TENTATIVA DE FEMINICIDIO                               979\n",
       "DESCUMPRIMENTO DE MEDIDAS PROTETIVAS                   951\n",
       "ASSEDIO SEXUAL                                         873\n",
       "HOMICIDIO                                              802\n",
       "DIVULGACAO DE CENA DE ESTUPRO                          778\n",
       "VIOLENCIA MORAL                                        665\n",
       "TENTATIVA DE HOMICIDIO                                 664\n",
       "FEMINICIDIO                                            276\n",
       "VIOLENCIA PATRIMONIAL                                  230\n",
       "VIOLENCIA FISICA                                       171\n",
       "EXPLORACAO SEXUAL INFANTIL                              81\n",
       "VIOLENCIA DOMESTICA                                     23\n",
       "ABORTO                                                  21\n",
       "ASSEDIO                                                  3\n",
       "Name: count, dtype: int64"
      ]
     },
     "execution_count": 8,
     "metadata": {},
     "output_type": "execute_result"
    }
   ],
   "source": [
    "crimes_selecionados_para_df.consolidado.value_counts()"
   ]
  },
  {
   "cell_type": "code",
   "execution_count": 115,
   "metadata": {},
   "outputs": [],
   "source": [
    "crimes_selecionados_para_df.loc[crimes_selecionados_para_df['consolidado'].isin(['AMEACA']), 'consolidado'] = 'Ameaça'\n",
    "crimes_selecionados_para_df.loc[crimes_selecionados_para_df['consolidado'].isin(['LESAO CORPORAL']), 'consolidado'] = 'Lesão corporal'\n",
    "crimes_selecionados_para_df.loc[crimes_selecionados_para_df['consolidado'].isin(['ESTUPRO DE VULNERAVEL']), 'consolidado'] = 'Estupro de vulnerável'\n",
    "crimes_selecionados_para_df.loc[crimes_selecionados_para_df['consolidado'].isin(['VIOLENCIA PSICOLOGICA']), 'consolidado'] = 'Violência psicológica'\n",
    "crimes_selecionados_para_df.loc[crimes_selecionados_para_df['consolidado'].isin(['DESCUMPRIMENTO DE MEDIDAS PROTETIVAS DE URGENCIA']), 'consolidado'] = 'Descumprimento de medidas protetivas de urgência'\n",
    "crimes_selecionados_para_df.loc[crimes_selecionados_para_df['consolidado'].isin(['IMPORTUNACAO SEXUAL']), 'consolidado'] = 'Importunação sexual'\n",
    "crimes_selecionados_para_df.loc[crimes_selecionados_para_df['consolidado'].isin(['ESTUPRO']), 'consolidado'] = 'Estupro'\n",
    "crimes_selecionados_para_df.loc[crimes_selecionados_para_df['consolidado'].isin(['TENTATIVA DE FEMINICIDIO']), 'consolidado'] = 'Tentativa de feminicídio'\n",
    "crimes_selecionados_para_df.loc[crimes_selecionados_para_df['consolidado'].isin(['DESCUMPRIMENTO DE MEDIDAS PROTETIVAS']), 'consolidado'] = 'Descumprimento de medidas protetivas'\n",
    "crimes_selecionados_para_df.loc[crimes_selecionados_para_df['consolidado'].isin(['ASSEDIO SEXUAL']), 'consolidado'] = 'Assédio sexual'\n",
    "crimes_selecionados_para_df.loc[crimes_selecionados_para_df['consolidado'].isin(['HOMICIDIO']), 'consolidado'] = 'Homicídio'\n",
    "crimes_selecionados_para_df.loc[crimes_selecionados_para_df['consolidado'].isin(['DIVULGACAO DE CENA DE ESTUPRO']), 'consolidado'] = 'Divulgação de cena de estupro'\n",
    "crimes_selecionados_para_df.loc[crimes_selecionados_para_df['consolidado'].isin(['VIOLENCIA MORAL']), 'consolidado'] = 'Violência moral'\n",
    "crimes_selecionados_para_df.loc[crimes_selecionados_para_df['consolidado'].isin(['TENTATIVA DE HOMICIDIO']), 'consolidado'] = 'Tentativa de homicídio'\n",
    "crimes_selecionados_para_df.loc[crimes_selecionados_para_df['consolidado'].isin(['FEMINICIDIO']), 'consolidado'] = 'Feminicídio'\n",
    "crimes_selecionados_para_df.loc[crimes_selecionados_para_df['consolidado'].isin(['VIOLENCIA PATRIMONIAL']), 'consolidado'] = 'Violência patrimonial'\n",
    "crimes_selecionados_para_df.loc[crimes_selecionados_para_df['consolidado'].isin(['VIOLENCIA FISICA']), 'consolidado'] = 'Violência fisíca'\n",
    "crimes_selecionados_para_df.loc[crimes_selecionados_para_df['consolidado'].isin(['EXPLORACAO SEXUAL INFANTIL']), 'consolidado'] = 'Exploração sexual infantil'\n",
    "crimes_selecionados_para_df.loc[crimes_selecionados_para_df['consolidado'].isin(['VIOLENCIA DOMESTICA']), 'consolidado'] = 'Violência doméstica'\n",
    "crimes_selecionados_para_df.loc[crimes_selecionados_para_df['consolidado'].isin(['ABORTO']), 'consolidado'] = 'Aborto'\n",
    "crimes_selecionados_para_df.loc[crimes_selecionados_para_df['consolidado'].isin(['ASSEDIO']), 'consolidado'] = 'Assédio'\n"
   ]
  },
  {
   "cell_type": "code",
   "execution_count": 12,
   "metadata": {},
   "outputs": [
    {
     "data": {
      "text/plain": [
       "consolidado\n",
       "Ameaça                                              108996\n",
       "Lesão corporal                                       67112\n",
       "Estupro de vulnerável                                14986\n",
       "Violência psicológica                                 5818\n",
       "Descumprimento de medidas protetivas de urgência      5476\n",
       "Importunação sexual                                   4386\n",
       "Estupro                                               3882\n",
       "Tentativa de feminicídio                               979\n",
       "Descumprimento de medidas protetivas                   951\n",
       "Assédio sexual                                         873\n",
       "Homicídio                                              802\n",
       "Divulgação de cena de estupro                          778\n",
       "Violência moral                                        665\n",
       "Tentativa de homicídio                                 664\n",
       "Feminicídio                                            276\n",
       "Violência patrimonial                                  230\n",
       "Violência fisíca                                       171\n",
       "Exploração sexual infantil                              81\n",
       "Violência doméstica                                     23\n",
       "Aborto                                                  21\n",
       "Assédio                                                  3\n",
       "Name: count, dtype: int64"
      ]
     },
     "execution_count": 12,
     "metadata": {},
     "output_type": "execute_result"
    }
   ],
   "source": [
    "crimes_selecionados_para_df.consolidado.value_counts()"
   ]
  },
  {
   "cell_type": "markdown",
   "metadata": {},
   "source": [
    "- Especificação dos crimes"
   ]
  },
  {
   "cell_type": "code",
   "execution_count": 17,
   "metadata": {},
   "outputs": [
    {
     "data": {
      "text/plain": [
       "especificacao_crime\n",
       "Nao informado               131503\n",
       "VIOLENCIA DOMESTICA          71329\n",
       "MENOR                         5543\n",
       "PREJUDICADO                   2655\n",
       "CRIMES VIRTUAIS               1346\n",
       "TENTATIVA DE FEMINICIDIO       656\n",
       "OUTROS                         651\n",
       "SIMPLES                        492\n",
       "MENOR/ERA DO FATO              338\n",
       "FEMINICIDIO                    305\n",
       "Name: count, dtype: int64"
      ]
     },
     "execution_count": 17,
     "metadata": {},
     "output_type": "execute_result"
    }
   ],
   "source": [
    "crimes_selecionados_para_df.especificacao_crime.value_counts().head(10)"
   ]
  },
  {
   "cell_type": "code",
   "execution_count": 116,
   "metadata": {},
   "outputs": [],
   "source": [
    "crimes_selecionados_para_df.loc[crimes_selecionados_para_df['especificacao_crime'].isin(['VIOLENCIA DOMESTICA']), 'especificacao_crime'] = 'Violência doméstica'\n",
    "crimes_selecionados_para_df.loc[crimes_selecionados_para_df['especificacao_crime'].isin(['MENOR', 'MENOR/ERA DO FATO']), 'especificacao_crime'] = 'Menor'\n",
    "crimes_selecionados_para_df.loc[crimes_selecionados_para_df['especificacao_crime'].isin(['CRIMES VIRTUAIS']), 'especificacao_crime'] = 'Crimes virtuais'\n",
    "crimes_selecionados_para_df.loc[crimes_selecionados_para_df['especificacao_crime'].isin(['PREJUDICADO']), 'especificacao_crime'] = 'Prejudicado'\n",
    "crimes_selecionados_para_df.loc[crimes_selecionados_para_df['especificacao_crime'].isin(['TENTATIVA DE FEMINICIDIO']), 'especificacao_crime'] = 'Tentativa de feminicídio'\n",
    "crimes_selecionados_para_df.loc[crimes_selecionados_para_df['especificacao_crime'].isin(['FEMINICIDIO']), 'especificacao_crime'] = 'Feminicídio'\n",
    "crimes_selecionados_para_df.loc[crimes_selecionados_para_df['especificacao_crime'].isin(['OUTROS']), 'especificacao_crime'] = 'Outros'\n"
   ]
  },
  {
   "cell_type": "code",
   "execution_count": 19,
   "metadata": {},
   "outputs": [
    {
     "data": {
      "text/plain": [
       "especificacao_crime\n",
       "Nao informado               131503\n",
       "Violência doméstica          71329\n",
       "Menor                         5881\n",
       "Prejudicado                   2655\n",
       "Crimes virtuais               1346\n",
       "Tentativa de feminicídio       656\n",
       "Outros                         651\n",
       "SIMPLES                        492\n",
       "Feminicídio                    305\n",
       "PESSOA COM DEFICIENCIA         170\n",
       "Name: count, dtype: int64"
      ]
     },
     "execution_count": 19,
     "metadata": {},
     "output_type": "execute_result"
    }
   ],
   "source": [
    "crimes_selecionados_para_df.especificacao_crime.value_counts().head(10)"
   ]
  },
  {
   "cell_type": "markdown",
   "metadata": {},
   "source": [
    "- Turno"
   ]
  },
  {
   "cell_type": "code",
   "execution_count": 20,
   "metadata": {},
   "outputs": [
    {
     "data": {
      "text/plain": [
       "turno\n",
       "NOITE        70623\n",
       "MANHA        62174\n",
       "TARDE        61058\n",
       "MADRUGADA    23318\n",
       "Name: count, dtype: int64"
      ]
     },
     "execution_count": 20,
     "metadata": {},
     "output_type": "execute_result"
    }
   ],
   "source": [
    "crimes_selecionados_para_df.turno.value_counts()"
   ]
  },
  {
   "cell_type": "code",
   "execution_count": 117,
   "metadata": {},
   "outputs": [],
   "source": [
    "crimes_selecionados_para_df.loc[crimes_selecionados_para_df['turno'].isin(['MANHA']), 'turno'] = 'Manhã'\n",
    "crimes_selecionados_para_df.loc[crimes_selecionados_para_df['turno'].isin(['TARDE']), 'turno'] = 'Tarde'\n",
    "crimes_selecionados_para_df.loc[crimes_selecionados_para_df['turno'].isin(['NOITE']), 'turno'] = 'Noite'\n",
    "crimes_selecionados_para_df.loc[crimes_selecionados_para_df['turno'].isin(['MADRUGADA']), 'turno'] = 'Madrugada'\n"
   ]
  },
  {
   "cell_type": "code",
   "execution_count": 22,
   "metadata": {},
   "outputs": [
    {
     "data": {
      "text/plain": [
       "turno\n",
       "Noite        70623\n",
       "Manhã        62174\n",
       "Tarde        61058\n",
       "Madrugada    23318\n",
       "Name: count, dtype: int64"
      ]
     },
     "execution_count": 22,
     "metadata": {},
     "output_type": "execute_result"
    }
   ],
   "source": [
    "crimes_selecionados_para_df.turno.value_counts()"
   ]
  },
  {
   "cell_type": "markdown",
   "metadata": {},
   "source": [
    "- Locais"
   ]
  },
  {
   "cell_type": "code",
   "execution_count": 23,
   "metadata": {},
   "outputs": [
    {
     "data": {
      "text/plain": [
       "local_ocorrencia\n",
       "RESIDENCIA PARTICULAR          123816\n",
       "VIA PUBLICA                     43193\n",
       "OUTROS LOCAIS                   16292\n",
       "INTERNET                         7453\n",
       "ESTABELECIMENTO COMERCIAL        4963\n",
       "CAFE, BAR, RESTAURANTE, ETC      3610\n",
       "CONDOMINIO                       3406\n",
       "ESTABELECIMENTO DE ENSINO        2102\n",
       "EDIFICIO PUBLICO                 1837\n",
       "ZONA URBANA                      1577\n",
       "Name: count, dtype: int64"
      ]
     },
     "execution_count": 23,
     "metadata": {},
     "output_type": "execute_result"
    }
   ],
   "source": [
    "crimes_selecionados_para_df.local_ocorrencia.value_counts().head(10)"
   ]
  },
  {
   "cell_type": "code",
   "execution_count": 118,
   "metadata": {},
   "outputs": [],
   "source": [
    "crimes_selecionados_para_df.loc[crimes_selecionados_para_df['local_ocorrencia'].isin(['RESIDENCIA PARTICULAR']), 'local_ocorrencia'] = 'Residência particular'\n",
    "crimes_selecionados_para_df.loc[crimes_selecionados_para_df['local_ocorrencia'].isin(['VIA PUBLICA']), 'local_ocorrencia'] = 'Via pública'\n",
    "crimes_selecionados_para_df.loc[crimes_selecionados_para_df['local_ocorrencia'].isin(['OUTROS LOCAIS']), 'local_ocorrencia'] = 'Outros locais'\n",
    "crimes_selecionados_para_df.loc[crimes_selecionados_para_df['local_ocorrencia'].isin(['INTERNET']), 'local_ocorrencia'] = 'Internet'\n",
    "crimes_selecionados_para_df.loc[crimes_selecionados_para_df['local_ocorrencia'].isin(['ESTABELECIMENTO COMERCIAL', 'CAFE, BAR, RESTAURANTE, ETC']), 'local_ocorrencia'] = 'Estabeleciemnto comercial'\n",
    "crimes_selecionados_para_df.loc[crimes_selecionados_para_df['local_ocorrencia'].isin(['CONDOMINIO']), 'local_ocorrencia'] = 'Condomínio residencial'\n",
    "crimes_selecionados_para_df.loc[crimes_selecionados_para_df['local_ocorrencia'].isin(['ESTABELECIMENTO DE ENSINO']), 'local_ocorrencia'] = 'Estabelecimento de ensino'\n",
    "crimes_selecionados_para_df.loc[crimes_selecionados_para_df['local_ocorrencia'].isin(['EDIFICIO PUBLICO']), 'local_ocorrencia'] = 'Edifício público'\n",
    "crimes_selecionados_para_df.loc[crimes_selecionados_para_df['local_ocorrencia'].isin(['ZONA URBANA']), 'local_ocorrencia'] = 'Zona urbana'\n",
    "crimes_selecionados_para_df.loc[crimes_selecionados_para_df['local_ocorrencia'].isin(['AREA RURAL']), 'local_ocorrencia'] = 'Área rural'\n"
   ]
  },
  {
   "cell_type": "code",
   "execution_count": 27,
   "metadata": {},
   "outputs": [
    {
     "data": {
      "text/plain": [
       "local_ocorrencia\n",
       "Residência particular        123816\n",
       "Via pública                   43193\n",
       "Outros locais                 16292\n",
       "Estabeleciemnto comercial      8573\n",
       "Internet                       7453\n",
       "Condomínio residencial         3406\n",
       "Estabelecimento de ensino      2102\n",
       "Edifício público               1837\n",
       "Zona urbana                    1577\n",
       "Área rural                     1551\n",
       "Name: count, dtype: int64"
      ]
     },
     "execution_count": 27,
     "metadata": {},
     "output_type": "execute_result"
    }
   ],
   "source": [
    "crimes_selecionados_para_df.local_ocorrencia.value_counts().head(10)"
   ]
  },
  {
   "cell_type": "markdown",
   "metadata": {},
   "source": [
    "- Faixa etaria das vitimas"
   ]
  },
  {
   "cell_type": "code",
   "execution_count": 28,
   "metadata": {},
   "outputs": [
    {
     "data": {
      "text/plain": [
       "vit_fx_etaria\n",
       "ADULTO IV (35 A 64 ANOS)      82227\n",
       "ADULTO I (18 A 24 ANOS)       38424\n",
       "ADULTO II (25 A 29 ANOS)      32023\n",
       "ADULTO III (30 A 34 ANOS)     31058\n",
       "ADOLESCENTE (12 A 17 ANOS)    14791\n",
       "CRIANCA (0 A 11 ANOS)          7856\n",
       "PREJUDICADO                    5566\n",
       "IDOSO (65 ANOS OU MAIS)        4368\n",
       "NAO INFORMADO                   860\n",
       "Name: count, dtype: int64"
      ]
     },
     "execution_count": 28,
     "metadata": {},
     "output_type": "execute_result"
    }
   ],
   "source": [
    "crimes_selecionados_para_df.vit_fx_etaria.value_counts()"
   ]
  },
  {
   "cell_type": "code",
   "execution_count": 119,
   "metadata": {},
   "outputs": [],
   "source": [
    "crimes_selecionados_para_df.loc[crimes_selecionados_para_df['vit_fx_etaria'].isin(['ADULTO IV (35 A 64 ANOS)']), 'vit_fx_etaria'] = '35 a 64 anos'\n",
    "crimes_selecionados_para_df.loc[crimes_selecionados_para_df['vit_fx_etaria'].isin(['ADULTO I (18 A 24 ANOS)']), 'vit_fx_etaria'] = '18 a 24 anos'\n",
    "crimes_selecionados_para_df.loc[crimes_selecionados_para_df['vit_fx_etaria'].isin(['ADULTO III (30 A 34 ANOS)']), 'vit_fx_etaria'] = '30 a 34 anos'\n",
    "crimes_selecionados_para_df.loc[crimes_selecionados_para_df['vit_fx_etaria'].isin(['ADULTO II (25 A 29 ANOS)']), 'vit_fx_etaria'] = '25 a 29 anos'\n",
    "crimes_selecionados_para_df.loc[crimes_selecionados_para_df['vit_fx_etaria'].isin(['ADOLESCENTE (12 A 17 ANOS)']), 'vit_fx_etaria'] = '12 a 17 anos'\n",
    "crimes_selecionados_para_df.loc[crimes_selecionados_para_df['vit_fx_etaria'].isin(['IDOSO (65 ANOS OU MAIS)']), 'vit_fx_etaria'] = '65 anos ou mais'\n",
    "crimes_selecionados_para_df.loc[crimes_selecionados_para_df['vit_fx_etaria'].isin(['CRIANCA (0 A 11 ANOS)']), 'vit_fx_etaria'] = '0 a 11 anos'\n"
   ]
  },
  {
   "cell_type": "code",
   "execution_count": 30,
   "metadata": {},
   "outputs": [
    {
     "data": {
      "text/plain": [
       "vit_fx_etaria\n",
       "35 a 64 anos       82227\n",
       "18 a 24 anos       38424\n",
       "25 a 29 anos       32023\n",
       "30 a 34 anos       31058\n",
       "12 a 17 anos       14791\n",
       "0 a 11 anos         7856\n",
       "PREJUDICADO         5566\n",
       "65 anos ou mais     4368\n",
       "NAO INFORMADO        860\n",
       "Name: count, dtype: int64"
      ]
     },
     "execution_count": 30,
     "metadata": {},
     "output_type": "execute_result"
    }
   ],
   "source": [
    "crimes_selecionados_para_df.vit_fx_etaria.value_counts()"
   ]
  },
  {
   "cell_type": "markdown",
   "metadata": {},
   "source": [
    "- Grau de instrução"
   ]
  },
  {
   "cell_type": "code",
   "execution_count": 31,
   "metadata": {},
   "outputs": [
    {
     "data": {
      "text/plain": [
       "vit_grau_inst\n",
       "ENSINO MEDIO COMPLETO                    56835\n",
       "ENSINO FUNDAMENTAL INCOMPLETO            49824\n",
       "NAO INFORMADO                            30865\n",
       "ENSINO MEDIO INCOMPLETO                  19478\n",
       "ENSINO SUPERIOR COMPLETO                 18521\n",
       "ENSINO FUNDAMENTAL COMPLETO              17166\n",
       "PREJUDICADO                              11620\n",
       "ENSINO SUPERIOR INCOMPLETO                9653\n",
       "NAO ALFABETIZADO                          3190\n",
       "POS-GRADUACAO/ESPECIALIZACAO                14\n",
       "1º GRAU COMPLETO (ENSINO FUNDAMENTAL)        3\n",
       "PJ, EP E OUTROS                              2\n",
       "MESTRADO                                     1\n",
       "ENSINO ENSINO FUNDAMENTAL                    1\n",
       "Name: count, dtype: int64"
      ]
     },
     "execution_count": 31,
     "metadata": {},
     "output_type": "execute_result"
    }
   ],
   "source": [
    "crimes_selecionados_para_df.vit_grau_inst.value_counts()"
   ]
  },
  {
   "cell_type": "code",
   "execution_count": 120,
   "metadata": {},
   "outputs": [],
   "source": [
    "crimes_selecionados_para_df.loc[crimes_selecionados_para_df['vit_grau_inst'].isin(['ENSINO MEDIO COMPLETO']), 'vit_grau_inst'] = 'Médio completo'\n",
    "crimes_selecionados_para_df.loc[crimes_selecionados_para_df['vit_grau_inst'].isin(['ENSINO FUNDAMENTAL INCOMPLETO']), 'vit_grau_inst'] = 'Fundamental incompleto'\n",
    "crimes_selecionados_para_df.loc[crimes_selecionados_para_df['vit_grau_inst'].isin(['ENSINO SUPERIOR COMPLETO']), 'vit_grau_inst'] = 'Superior completo'\n",
    "crimes_selecionados_para_df.loc[crimes_selecionados_para_df['vit_grau_inst'].isin(['ENSINO MEDIO INCOMPLETO']), 'vit_grau_inst'] = 'Médio incompleto'\n",
    "crimes_selecionados_para_df.loc[crimes_selecionados_para_df['vit_grau_inst'].isin(['ENSINO FUNDAMENTAL COMPLETO','1º GRAU COMPLETO (ENSINO FUNDAMENTAL)','ENSINO ENSINO FUNDAMENTAL']), 'vit_grau_inst'] = 'Fundamental completo'\n",
    "crimes_selecionados_para_df.loc[crimes_selecionados_para_df['vit_grau_inst'].isin(['ENSINO SUPERIOR INCOMPLETO']), 'vit_grau_inst'] = 'Superior incompleto'\n",
    "crimes_selecionados_para_df.loc[crimes_selecionados_para_df['vit_grau_inst'].isin(['NAO ALFABETIZADO']), 'vit_grau_inst'] = 'Não alfabetizado'\n",
    "crimes_selecionados_para_df.loc[crimes_selecionados_para_df['vit_grau_inst'].isin(['POS-GRADUACAO/ESPECIALIZACAO','MESTRADO']), 'vit_grau_inst'] = 'Pós-graduação/Especialização'\n",
    "crimes_selecionados_para_df.loc[crimes_selecionados_para_df['vit_grau_inst'].isin(['NAO INFORMADO']), 'vit_grau_inst'] = 'Não informado'\n",
    "crimes_selecionados_para_df.loc[crimes_selecionados_para_df['vit_grau_inst'].isin(['PREJUDICADO']), 'vit_grau_inst'] = 'Prejudicado'\n",
    "\n"
   ]
  },
  {
   "cell_type": "code",
   "execution_count": 37,
   "metadata": {},
   "outputs": [
    {
     "data": {
      "text/plain": [
       "vit_grau_inst\n",
       "Médio completo                  56835\n",
       "Fundamental incompleto          49824\n",
       "Não informado                   30865\n",
       "Médio incompleto                19478\n",
       "Superior completo               18521\n",
       "Fundamental completo            17170\n",
       "Prejudicado                     11620\n",
       "Superior incompleto              9653\n",
       "Não alfabetizado                 3190\n",
       "Pós-graduação/Especialização       15\n",
       "PJ, EP E OUTROS                     2\n",
       "Name: count, dtype: int64"
      ]
     },
     "execution_count": 37,
     "metadata": {},
     "output_type": "execute_result"
    }
   ],
   "source": [
    "crimes_selecionados_para_df.vit_grau_inst.value_counts()"
   ]
  },
  {
   "cell_type": "markdown",
   "metadata": {},
   "source": [
    "- Grau de relacionamento"
   ]
  },
  {
   "cell_type": "code",
   "execution_count": 52,
   "metadata": {},
   "outputs": [
    {
     "data": {
      "text/plain": [
       "array(['FILHO(A)', 'NAO INFORMADO', 'EX-COMPANHEIRO(A)', 'COMPANHEIRO(A)',\n",
       "       'NAMORADO(A)', 'PAI', 'PRIMO(A)', 'PADRASTO', 'TIO(A)', 'IRMAO(A)',\n",
       "       'VIZINHO(A)', 'AMIGO(A)', 'AVO(A)', 'CONHECIDO(A)', 'NETO(A)',\n",
       "       'CUNHADO(A)', 'SOGRO(A)', 'EX-PADRASTO', 'SOBRINHO(A)', 'GENRO',\n",
       "       'MAE', 'EX-NAMORADO(A)', 'PADRINHO', 'ENTEADO(A)', 'MADRASTA',\n",
       "       'EX-NORA', 'ESPOSO(A)', 'EX-SOGRO(A)', 'NORA',\n",
       "       'PARENTESCO POR AFINIDADE', 'PREJUDICADO', 'EX-MADRASTA',\n",
       "       'EX-GENRO', 'C', 'MARIDO', 'MADRINHA', 'PAI DO PADRASTO', 'CHEFE',\n",
       "       'PROFESSOR(A)', 'CUNH0', 'EX-AMANTE', 'EX COMPANHEIRO(A)',\n",
       "       'PREJUDCIADO', 'ERICK SANTOS SOUSA', 'EX-CHEFE', 'AFILHADO(A)',\n",
       "       'EX-ENTEADO(A)', 'S', 'PERJUDICADO', 'PARDA',\n",
       "       '00531/2023.100070-6', 'PREJUDICAOD', 'DESCONHECIDO(A)', 'EX',\n",
       "       '66666', 'UNIAO ESTAVEL', '1º GRAU COMPLETO (ENSINO FUNDAMENTAL)',\n",
       "       'EX-NAMORADO', 'IRMAO(A0'], dtype=object)"
      ]
     },
     "execution_count": 52,
     "metadata": {},
     "output_type": "execute_result"
    }
   ],
   "source": [
    "crimes_selecionados_para_df.grau_de_relacionamento.unique()"
   ]
  },
  {
   "cell_type": "code",
   "execution_count": 121,
   "metadata": {},
   "outputs": [],
   "source": [
    "crimes_selecionados_para_df.loc[crimes_selecionados_para_df['grau_de_relacionamento'].isin(['COMPANHEIRO(A)']), 'grau_de_relacionamento'] = 'Companheiro(a)'\n",
    "crimes_selecionados_para_df.loc[crimes_selecionados_para_df['grau_de_relacionamento'].isin(['EX-COMPANHEIRO(A)']), 'grau_de_relacionamento'] = 'Ex-companheiro(a)'\n",
    "crimes_selecionados_para_df.loc[crimes_selecionados_para_df['grau_de_relacionamento'].isin(['IRMAO(A)','IRMAO(A0']), 'grau_de_relacionamento'] = 'Irmão(ã)'\n",
    "crimes_selecionados_para_df.loc[crimes_selecionados_para_df['grau_de_relacionamento'].isin(['VIZINHO(A)']), 'grau_de_relacionamento'] = 'Vizinho(a)'\n",
    "crimes_selecionados_para_df.loc[crimes_selecionados_para_df['grau_de_relacionamento'].isin(['PADRASTO']), 'grau_de_relacionamento'] = 'Padrasto'\n",
    "crimes_selecionados_para_df.loc[crimes_selecionados_para_df['grau_de_relacionamento'].isin(['TIO(A)']), 'grau_de_relacionamento'] = 'Tio(a)'\n",
    "crimes_selecionados_para_df.loc[crimes_selecionados_para_df['grau_de_relacionamento'].isin(['PAI']), 'grau_de_relacionamento'] = 'Pai'\n",
    "crimes_selecionados_para_df.loc[crimes_selecionados_para_df['grau_de_relacionamento'].isin(['NAMORADO(A)']), 'grau_de_relacionamento'] = 'Namorado(a)'\n",
    "crimes_selecionados_para_df.loc[crimes_selecionados_para_df['grau_de_relacionamento'].isin(['EX-NAMORADO(A)']), 'grau_de_relacionamento'] = 'Ex-namorado(a)'\n",
    "crimes_selecionados_para_df.loc[crimes_selecionados_para_df['grau_de_relacionamento'].isin(['PREJUDICADO']), 'grau_de_relacionamento'] = 'Prejudicado'"
   ]
  },
  {
   "cell_type": "code",
   "execution_count": 57,
   "metadata": {},
   "outputs": [
    {
     "data": {
      "text/plain": [
       "grau_de_relacionamento\n",
       "NAO INFORMADO        153320\n",
       "Companheiro(a)        21278\n",
       "Ex-companheiro(a)     17210\n",
       "Prejudicado            2952\n",
       "Padrasto               2881\n",
       "Irmão(ã)               2720\n",
       "Pai                    1937\n",
       "Tio(a)                 1844\n",
       "Vizinho(a)             1700\n",
       "Namorado(a)            1630\n",
       "Name: count, dtype: int64"
      ]
     },
     "execution_count": 57,
     "metadata": {},
     "output_type": "execute_result"
    }
   ],
   "source": [
    "crimes_selecionados_para_df.grau_de_relacionamento.value_counts().head(10)"
   ]
  },
  {
   "cell_type": "markdown",
   "metadata": {},
   "source": [
    "- Cor da pele da vitima"
   ]
  },
  {
   "cell_type": "code",
   "execution_count": 58,
   "metadata": {},
   "outputs": [
    {
     "data": {
      "text/plain": [
       "vit_cor_pele\n",
       "PREJUDICADO    208179\n",
       "PARDA            7828\n",
       "PRETA             666\n",
       "BRANCA            482\n",
       "INDIGENA           13\n",
       "AMARELA             5\n",
       "Name: count, dtype: int64"
      ]
     },
     "execution_count": 58,
     "metadata": {},
     "output_type": "execute_result"
    }
   ],
   "source": [
    "crimes_selecionados_para_df.vit_cor_pele.value_counts()"
   ]
  },
  {
   "cell_type": "code",
   "execution_count": 122,
   "metadata": {},
   "outputs": [],
   "source": [
    "crimes_selecionados_para_df.loc[crimes_selecionados_para_df['vit_cor_pele'].isin(['PARDA']), 'vit_cor_pele'] = 'Parda'\n",
    "crimes_selecionados_para_df.loc[crimes_selecionados_para_df['vit_cor_pele'].isin(['BRANCA']), 'vit_cor_pele'] = 'Branca'\n",
    "crimes_selecionados_para_df.loc[crimes_selecionados_para_df['vit_cor_pele'].isin(['PRETA']), 'vit_cor_pele'] = 'Preta'\n",
    "crimes_selecionados_para_df.loc[crimes_selecionados_para_df['vit_cor_pele'].isin(['INDIGENA']), 'vit_cor_pele'] = 'Indígena'\n",
    "crimes_selecionados_para_df.loc[crimes_selecionados_para_df['vit_cor_pele'].isin(['AMARELA']), 'vit_cor_pele'] = 'Amarela'\n"
   ]
  },
  {
   "cell_type": "markdown",
   "metadata": {},
   "source": [
    "- Causas"
   ]
  },
  {
   "cell_type": "code",
   "execution_count": 61,
   "metadata": {},
   "outputs": [
    {
     "data": {
      "text/plain": [
       "causa_presumivel\n",
       "OUTRAS                                   106239\n",
       "ÓDIO OU VINGANÇA                          59672\n",
       "CIÚME                                     16366\n",
       "ALCOOLISMO / EMBRIAGUEZ                   10866\n",
       "DEVASSIDÃO                                 9444\n",
       "IMPERÍCIA / IMPRUDÊNCIA / NEGLIGÊNCIA      7033\n",
       "AMBIÇÃO                                    5073\n",
       "ENTORPECENTES                              1188\n",
       "ALIENACAO                                   771\n",
       "ACIDENTAL                                   473\n",
       "Name: count, dtype: int64"
      ]
     },
     "execution_count": 61,
     "metadata": {},
     "output_type": "execute_result"
    }
   ],
   "source": [
    "crimes_selecionados_para_df.causa_presumivel.value_counts().head(10)"
   ]
  },
  {
   "cell_type": "code",
   "execution_count": 123,
   "metadata": {},
   "outputs": [],
   "source": [
    "crimes_selecionados_para_df.loc[crimes_selecionados_para_df['causa_presumivel'].isin(['OUTRAS']), 'causa_presumivel'] = 'Outras causas'\n",
    "crimes_selecionados_para_df.loc[crimes_selecionados_para_df['causa_presumivel'].isin(['ÓDIO OU VINGANÇA']), 'causa_presumivel'] = 'Ódio/Vingança'\n",
    "crimes_selecionados_para_df.loc[crimes_selecionados_para_df['causa_presumivel'].isin(['IMPERÍCIA / IMPRUDÊNCIA / NEGLIGÊNCIA']), 'causa_presumivel'] = 'Crime culposo'\n",
    "crimes_selecionados_para_df.loc[crimes_selecionados_para_df['causa_presumivel'].isin(['CIÚME']), 'causa_presumivel'] = 'Ciúme'\n",
    "crimes_selecionados_para_df.loc[crimes_selecionados_para_df['causa_presumivel'].isin(['DEVASSIDÃO']), 'causa_presumivel'] = 'Devassidão'\n",
    "crimes_selecionados_para_df.loc[crimes_selecionados_para_df['causa_presumivel'].isin(['ALCOOLISMO / EMBRIAGUEZ']), 'causa_presumivel'] = 'Alcoolismo/Embriaguez'\n",
    "crimes_selecionados_para_df.loc[crimes_selecionados_para_df['causa_presumivel'].isin(['AMBIÇÃO']), 'causa_presumivel'] = 'Ambição'\n",
    "crimes_selecionados_para_df.loc[crimes_selecionados_para_df['causa_presumivel'].isin(['ENTORPECENTES']), 'causa_presumivel'] = 'Entorpecentes'\n",
    "crimes_selecionados_para_df.loc[crimes_selecionados_para_df['causa_presumivel'].isin(['ALIENACAO']), 'causa_presumivel'] = 'Alienação'\n",
    "crimes_selecionados_para_df.loc[crimes_selecionados_para_df['causa_presumivel'].isin(['ACIDENTAL']), 'causa_presumivel'] = 'Acidental'\n"
   ]
  },
  {
   "cell_type": "markdown",
   "metadata": {},
   "source": [
    "- Meio emppregado"
   ]
  },
  {
   "cell_type": "code",
   "execution_count": 66,
   "metadata": {},
   "outputs": [
    {
     "data": {
      "text/plain": [
       "meio_empregado_sisp\n",
       "OUTROS MEIOS                   115913\n",
       "SEM INSTRUMENTO                 82390\n",
       "ARMA CORTANTE OU PERFURANTE      7767\n",
       "ARMA CONTUNDENTE                 4959\n",
       "ARMA DE FOGO                     2646\n",
       "ARMA PERFURO CORTANTE            2240\n",
       "AUTOMOVEL DE PASSEIO              296\n",
       "MOTOCICLETA                       273\n",
       "ONIBUS                            260\n",
       "FOGO                              190\n",
       "Name: count, dtype: int64"
      ]
     },
     "execution_count": 66,
     "metadata": {},
     "output_type": "execute_result"
    }
   ],
   "source": [
    "crimes_selecionados_para_df.meio_empregado_sisp.value_counts().head(10)"
   ]
  },
  {
   "cell_type": "code",
   "execution_count": 124,
   "metadata": {},
   "outputs": [],
   "source": [
    "crimes_selecionados_para_df.loc[crimes_selecionados_para_df['meio_empregado_sisp'].isin(['OUTROS MEIOS']), 'meio_empregado_sisp'] = 'Outros meios'\n",
    "crimes_selecionados_para_df.loc[crimes_selecionados_para_df['meio_empregado_sisp'].isin(['SEM INSTRUMENTO']), 'meio_empregado_sisp'] = 'Sem instrumento'\n",
    "crimes_selecionados_para_df.loc[crimes_selecionados_para_df['meio_empregado_sisp'].isin(['ARMA CORTANTE OU PERFURANTE']), 'meio_empregado_sisp'] = 'Arma cortante/perfurante'\n",
    "crimes_selecionados_para_df.loc[crimes_selecionados_para_df['meio_empregado_sisp'].isin(['ARMA CONTUNDENTE']), 'meio_empregado_sisp'] = 'Arma contundente'\n",
    "crimes_selecionados_para_df.loc[crimes_selecionados_para_df['meio_empregado_sisp'].isin(['ARMA PERFURO CORTANTE']), 'meio_empregado_sisp'] = 'Arma perfuro cortante'\n",
    "crimes_selecionados_para_df.loc[crimes_selecionados_para_df['meio_empregado_sisp'].isin(['ARMA DE FOGO']), 'meio_empregado_sisp'] = 'Arma de fogo'\n",
    "crimes_selecionados_para_df.loc[crimes_selecionados_para_df['meio_empregado_sisp'].isin(['AUTOMOVEL DE PASSEIO']), 'meio_empregado_sisp'] = 'Automóvel de passeio'\n",
    "crimes_selecionados_para_df.loc[crimes_selecionados_para_df['meio_empregado_sisp'].isin(['ONIBUS']), 'meio_empregado_sisp'] = 'Ônibus'\n",
    "crimes_selecionados_para_df.loc[crimes_selecionados_para_df['meio_empregado_sisp'].isin(['MOTOCICLETA']), 'meio_empregado_sisp'] = 'Motocicleta'\n",
    "crimes_selecionados_para_df.loc[crimes_selecionados_para_df['meio_empregado_sisp'].isin(['AUTOMOVEL COMERCIAL']), 'meio_empregado_sisp'] = 'Automóvel comercial'\n",
    "crimes_selecionados_para_df.loc[crimes_selecionados_para_df['meio_empregado_sisp'].isin(['FOGO']), 'meio_empregado_sisp'] = 'Fogo'\n"
   ]
  },
  {
   "cell_type": "markdown",
   "metadata": {},
   "source": [
    "- Bairros, municipios, distritos e regiões"
   ]
  },
  {
   "cell_type": "code",
   "execution_count": 72,
   "metadata": {},
   "outputs": [
    {
     "data": {
      "text/plain": [
       "bairros\n",
       "BAIRRO CENTRAL           19052\n",
       "CENTRO                   18278\n",
       "CIDADE NOVA               4038\n",
       "GUAMA                     3320\n",
       "PEDREIRA                  3051\n",
       "CENTRO DE PARAUAPEBAS     2798\n",
       "JURUNAS                   2528\n",
       "MARAMBAIA                 2521\n",
       "TAPANA                    2469\n",
       "MARCO                     2366\n",
       "ZONA RURAL                2274\n",
       "NOVA MARABA               2017\n",
       "ABAETETUBA                1993\n",
       "ICUI-GUAJARA              1799\n",
       "SACRAMENTA                1708\n",
       "Name: count, dtype: int64"
      ]
     },
     "execution_count": 72,
     "metadata": {},
     "output_type": "execute_result"
    }
   ],
   "source": [
    "crimes_selecionados_para_df.bairros.value_counts().head(15)"
   ]
  },
  {
   "cell_type": "code",
   "execution_count": 125,
   "metadata": {},
   "outputs": [],
   "source": [
    "crimes_selecionados_para_df.loc[crimes_selecionados_para_df['bairros'].isin(['GUAMA']), 'bairros'] = 'Guamá'\n",
    "crimes_selecionados_para_df.loc[crimes_selecionados_para_df['bairros'].isin(['PEDREIRA']), 'bairros'] = 'Pedreira'\n",
    "crimes_selecionados_para_df.loc[crimes_selecionados_para_df['bairros'].isin(['JURUNAS']), 'bairros'] = 'Jurunas'\n",
    "crimes_selecionados_para_df.loc[crimes_selecionados_para_df['bairros'].isin(['TAPANA']), 'bairros'] = 'Tapanã'\n",
    "crimes_selecionados_para_df.loc[crimes_selecionados_para_df['bairros'].isin(['MARAMBAIA']), 'bairros'] = 'Marambaia'\n",
    "crimes_selecionados_para_df.loc[crimes_selecionados_para_df['bairros'].isin(['MARCO']), 'bairros'] = 'Marco'\n",
    "crimes_selecionados_para_df.loc[crimes_selecionados_para_df['bairros'].isin(['SACRAMENTA']), 'bairros'] = 'Sacramenta'\n",
    "crimes_selecionados_para_df.loc[crimes_selecionados_para_df['bairros'].isin(['CONDOR']), 'bairros'] = 'Condor'\n",
    "crimes_selecionados_para_df.loc[crimes_selecionados_para_df['bairros'].isin(['TERRA FIRME']), 'bairros'] = 'Terra firme'\n",
    "crimes_selecionados_para_df.loc[crimes_selecionados_para_df['bairros'].isin(['PARQUE VERDE']), 'bairros'] = 'Parque Verde'\n",
    "crimes_selecionados_para_df.loc[crimes_selecionados_para_df['bairros'].isin(['TELEGRAFO']), 'bairros'] = 'Telégrafo'\n",
    "crimes_selecionados_para_df.loc[crimes_selecionados_para_df['bairros'].isin(['COQUEIRO']), 'bairros'] = 'Coqueiro'\n",
    "crimes_selecionados_para_df.loc[crimes_selecionados_para_df['bairros'].isin(['UMARIZAL']), 'bairros'] = 'Umarizal'\n",
    "crimes_selecionados_para_df.loc[crimes_selecionados_para_df['bairros'].isin(['TENONE']), 'bairros'] = 'Tenoné'\n",
    "crimes_selecionados_para_df.loc[crimes_selecionados_para_df['bairros'].isin(['MANGUEIRAO']), 'bairros'] = 'Mangueirão'\n",
    "crimes_selecionados_para_df.loc[crimes_selecionados_para_df['bairros'].isin(['BAIRRO CENTRAL']), 'bairros'] = 'Bairro central'\n",
    "crimes_selecionados_para_df.loc[crimes_selecionados_para_df['bairros'].isin(['CENTRO','CENTRO DE PARAUAPEBAS']), 'bairros'] = 'Bairro central'\n",
    "crimes_selecionados_para_df.loc[crimes_selecionados_para_df['bairros'].isin(['CIDADE NOVA']), 'bairros'] = 'Cidade Nova'\n",
    "crimes_selecionados_para_df.loc[crimes_selecionados_para_df['bairros'].isin(['ABAETETUBA']), 'bairros'] = 'Abaetetuba'\n",
    "crimes_selecionados_para_df.loc[crimes_selecionados_para_df['bairros'].isin(['ICUI-GUAJARA','Icui_Guajara']), 'bairros'] = 'Icui Guajara'\n",
    "crimes_selecionados_para_df.loc[crimes_selecionados_para_df['bairros'].isin(['ZONA RURAL']), 'bairros'] = 'Zona rural'\n",
    "crimes_selecionados_para_df.loc[crimes_selecionados_para_df['bairros'].isin(['NOVA MARABA']), 'bairros'] = 'Nova maraba'\n",
    "crimes_selecionados_para_df.loc[crimes_selecionados_para_df['bairros'].isin(['COQUEIRO ANANINDEUA']), 'bairros'] = 'Coqueiro'\n",
    "crimes_selecionados_para_df.loc[crimes_selecionados_para_df['bairros'].isin(['CENTRO DE ANANINDEUA']), 'bairros'] = 'Centro de Ananindeua'"
   ]
  },
  {
   "cell_type": "code",
   "execution_count": 102,
   "metadata": {},
   "outputs": [
    {
     "data": {
      "text/plain": [
       "bairros\n",
       "Bairro central          40128\n",
       "Cidade Nova              4038\n",
       "Guamá                    3320\n",
       "Coqueiro                 3162\n",
       "Pedreira                 3051\n",
       "Jurunas                  2528\n",
       "Marambaia                2521\n",
       "Tapanã                   2469\n",
       "Marco                    2366\n",
       "Zona rural               2274\n",
       "Nova maraba              2017\n",
       "Abaetetuba               1993\n",
       "Icui Guajara             1799\n",
       "Sacramenta               1708\n",
       "Centro de Ananindeua     1627\n",
       "Name: count, dtype: int64"
      ]
     },
     "execution_count": 102,
     "metadata": {},
     "output_type": "execute_result"
    }
   ],
   "source": [
    "crimes_selecionados_para_df.bairros.value_counts().head(15)"
   ]
  },
  {
   "cell_type": "code",
   "execution_count": 103,
   "metadata": {},
   "outputs": [
    {
     "data": {
      "text/plain": [
       "distrito\n",
       "BELEM          38258\n",
       "ANANINDEUA     16801\n",
       "SANTAREM       10095\n",
       "ICOARACI        8556\n",
       "MARABA          6790\n",
       "PARAUAPEBAS     5997\n",
       "CASTANHAL       4956\n",
       "ABAETETUBA      4153\n",
       "ALTAMIRA        3822\n",
       "BARCARENA       3626\n",
       "ITAITUBA        3538\n",
       "MARITUBA        3150\n",
       "TUCURUI         2918\n",
       "ORIXIMINA       2850\n",
       "CAMETA          2772\n",
       "Name: count, dtype: int64"
      ]
     },
     "execution_count": 103,
     "metadata": {},
     "output_type": "execute_result"
    }
   ],
   "source": [
    "crimes_selecionados_para_df.distrito.value_counts().head(15)"
   ]
  },
  {
   "cell_type": "code",
   "execution_count": 126,
   "metadata": {},
   "outputs": [],
   "source": [
    "crimes_selecionados_para_df.loc[crimes_selecionados_para_df['distrito'].isin(['BELEM']), 'distrito'] = 'Belém'\n",
    "crimes_selecionados_para_df.loc[crimes_selecionados_para_df['distrito'].isin(['ANANINDEUA']), 'distrito'] = 'Ananindeua'\n",
    "crimes_selecionados_para_df.loc[crimes_selecionados_para_df['distrito'].isin(['SANTAREM']), 'distrito'] = 'Santarém'\n",
    "crimes_selecionados_para_df.loc[crimes_selecionados_para_df['distrito'].isin(['ICOARACI']), 'distrito'] = 'Icoaraci'\n",
    "crimes_selecionados_para_df.loc[crimes_selecionados_para_df['distrito'].isin(['MARABA']), 'distrito'] = 'Marabá'\n",
    "crimes_selecionados_para_df.loc[crimes_selecionados_para_df['distrito'].isin(['PARAUAPEBAS']), 'distrito'] = 'Parauapebas'\n",
    "crimes_selecionados_para_df.loc[crimes_selecionados_para_df['distrito'].isin(['CASTANHAL']), 'distrito'] = 'Castanhal'\n",
    "crimes_selecionados_para_df.loc[crimes_selecionados_para_df['distrito'].isin(['ABAETETUBA']), 'distrito'] = 'Abaetetuba'\n",
    "crimes_selecionados_para_df.loc[crimes_selecionados_para_df['distrito'].isin(['ALTAMIRA']), 'distrito'] = 'Altamira'\n",
    "crimes_selecionados_para_df.loc[crimes_selecionados_para_df['distrito'].isin(['BARCARENA']), 'distrito'] = 'Barcarena'\n",
    "crimes_selecionados_para_df.loc[crimes_selecionados_para_df['distrito'].isin(['ITAITUBA']), 'distrito'] = 'Itaituba'\n",
    "crimes_selecionados_para_df.loc[crimes_selecionados_para_df['distrito'].isin(['MARITUBA']), 'distrito'] = 'Marituba'\n",
    "crimes_selecionados_para_df.loc[crimes_selecionados_para_df['distrito'].isin(['TUCURUI']), 'distrito'] = 'Tucuruí'\n",
    "crimes_selecionados_para_df.loc[crimes_selecionados_para_df['distrito'].isin(['ORIXIMINA']), 'distrito'] = 'Oriximiná'\n",
    "crimes_selecionados_para_df.loc[crimes_selecionados_para_df['distrito'].isin(['CAMETA']), 'distrito'] = 'Cametá'"
   ]
  },
  {
   "cell_type": "code",
   "execution_count": 106,
   "metadata": {},
   "outputs": [
    {
     "data": {
      "text/plain": [
       "municipios\n",
       "BELEM          49978\n",
       "ANANINDEUA     16802\n",
       "SANTAREM       10251\n",
       "MARABA          6806\n",
       "PARAUAPEBAS     5999\n",
       "CASTANHAL       4966\n",
       "ABAETETUBA      4166\n",
       "ALTAMIRA        3829\n",
       "BARCARENA       3792\n",
       "ITAITUBA        3583\n",
       "MARITUBA        3249\n",
       "TUCURUI         2926\n",
       "ORIXIMINA       2889\n",
       "CAMETA          2831\n",
       "REDENCAO        2760\n",
       "Name: count, dtype: int64"
      ]
     },
     "execution_count": 106,
     "metadata": {},
     "output_type": "execute_result"
    }
   ],
   "source": [
    "crimes_selecionados_para_df.municipios.value_counts().head(15)"
   ]
  },
  {
   "cell_type": "code",
   "execution_count": 127,
   "metadata": {},
   "outputs": [],
   "source": [
    "crimes_selecionados_para_df.loc[crimes_selecionados_para_df['municipios'].isin(['BELEM']), 'municipios'] = 'Belém'\n",
    "crimes_selecionados_para_df.loc[crimes_selecionados_para_df['municipios'].isin(['ANANINDEUA']), 'municipios'] = 'Ananindeua'\n",
    "crimes_selecionados_para_df.loc[crimes_selecionados_para_df['municipios'].isin(['SANTAREM']), 'municipios'] = 'Santarém'\n",
    "crimes_selecionados_para_df.loc[crimes_selecionados_para_df['municipios'].isin(['ICOARACI']), 'municipios'] = 'Icoaraci'\n",
    "crimes_selecionados_para_df.loc[crimes_selecionados_para_df['municipios'].isin(['MARABA']), 'municipios'] = 'Marabá'\n",
    "crimes_selecionados_para_df.loc[crimes_selecionados_para_df['municipios'].isin(['PARAUAPEBAS']), 'municipios'] = 'Parauapebas'\n",
    "crimes_selecionados_para_df.loc[crimes_selecionados_para_df['municipios'].isin(['CASTANHAL']), 'municipios'] = 'Castanhal'\n",
    "crimes_selecionados_para_df.loc[crimes_selecionados_para_df['municipios'].isin(['ABAETETUBA']), 'municipios'] = 'Abaetetuba'\n",
    "crimes_selecionados_para_df.loc[crimes_selecionados_para_df['municipios'].isin(['ALTAMIRA']), 'municipios'] = 'Altamira'\n",
    "crimes_selecionados_para_df.loc[crimes_selecionados_para_df['municipios'].isin(['BARCARENA']), 'municipios'] = 'Barcarena'\n",
    "crimes_selecionados_para_df.loc[crimes_selecionados_para_df['municipios'].isin(['ITAITUBA']), 'municipios'] = 'Itaituba'\n",
    "crimes_selecionados_para_df.loc[crimes_selecionados_para_df['municipios'].isin(['MARITUBA']), 'municipios'] = 'Marituba'\n",
    "crimes_selecionados_para_df.loc[crimes_selecionados_para_df['municipios'].isin(['TUCURUI']), 'municipios'] = 'Tucuruí'\n",
    "crimes_selecionados_para_df.loc[crimes_selecionados_para_df['municipios'].isin(['ORIXIMINA']), 'municipios'] = 'Oriximiná'\n",
    "crimes_selecionados_para_df.loc[crimes_selecionados_para_df['municipios'].isin(['CAMETA']), 'municipios'] = 'Cametá'\n",
    "crimes_selecionados_para_df.loc[crimes_selecionados_para_df['municipios'].isin(['REDENCAO']), 'municipios'] = 'Redenção'\n"
   ]
  },
  {
   "cell_type": "code",
   "execution_count": 111,
   "metadata": {},
   "outputs": [
    {
     "data": {
      "text/plain": [
       "regionais\n",
       "CAPITAL             49978\n",
       "BAIXO AMAZONAS      23063\n",
       "METROPOLITANA       22832\n",
       "CARAJAS             20088\n",
       "GUAMA               18687\n",
       "TOCANTINS           17342\n",
       "CAETE               12400\n",
       "XINGU                8764\n",
       "LAGO DE TUCURUI      8409\n",
       "MARAJO OCIDENTAL     7361\n",
       "TAPAJOS              6756\n",
       "ARAGUAIA             6508\n",
       "MARAJO ORIENTAL      6070\n",
       "CAPIM                4700\n",
       "ALTO XINGU           4202\n",
       "Name: count, dtype: int64"
      ]
     },
     "execution_count": 111,
     "metadata": {},
     "output_type": "execute_result"
    }
   ],
   "source": [
    "crimes_selecionados_para_df.regionais.value_counts().head(15)"
   ]
  },
  {
   "cell_type": "code",
   "execution_count": 128,
   "metadata": {},
   "outputs": [],
   "source": [
    "crimes_selecionados_para_df.loc[crimes_selecionados_para_df['regionais'].isin(['CAPITAL']), 'regionais'] = 'Capital'\n",
    "crimes_selecionados_para_df.loc[crimes_selecionados_para_df['regionais'].isin(['BAIXO AMAZONAS']), 'regionais'] = 'Baixo Amazonas'\n",
    "crimes_selecionados_para_df.loc[crimes_selecionados_para_df['regionais'].isin(['METROPOLITANA']), 'regionais'] = 'Região Metropolitana'\n",
    "crimes_selecionados_para_df.loc[crimes_selecionados_para_df['regionais'].isin(['CARAJAS']), 'regionais'] = 'Carajás'\n",
    "crimes_selecionados_para_df.loc[crimes_selecionados_para_df['regionais'].isin(['GUAMA']), 'regionais'] = 'Guamá'\n",
    "crimes_selecionados_para_df.loc[crimes_selecionados_para_df['regionais'].isin(['TOCANTINS']), 'regionais'] = 'Tocantins'\n",
    "crimes_selecionados_para_df.loc[crimes_selecionados_para_df['regionais'].isin(['CAETE']), 'regionais'] = 'Caeté'\n",
    "crimes_selecionados_para_df.loc[crimes_selecionados_para_df['regionais'].isin(['XINGU']), 'regionais'] = 'Xingu'\n",
    "crimes_selecionados_para_df.loc[crimes_selecionados_para_df['regionais'].isin(['LAGO DE TUCURUI']), 'regionais'] = 'Lago de Tucuruí'\n",
    "crimes_selecionados_para_df.loc[crimes_selecionados_para_df['regionais'].isin(['MARAJO OCIDENTAL']), 'regionais'] = 'Marajó Ocidental'\n",
    "crimes_selecionados_para_df.loc[crimes_selecionados_para_df['regionais'].isin(['TAPAJOS']), 'regionais'] = 'Tapajós'\n",
    "crimes_selecionados_para_df.loc[crimes_selecionados_para_df['regionais'].isin(['ARAGUAIA']), 'regionais'] = 'Araguaia'\n",
    "crimes_selecionados_para_df.loc[crimes_selecionados_para_df['regionais'].isin(['MARAJO ORIENTAL']), 'regionais'] = 'Marajó Oriental'\n",
    "crimes_selecionados_para_df.loc[crimes_selecionados_para_df['regionais'].isin(['CAPIM']), 'regionais'] = 'Capim'\n",
    "crimes_selecionados_para_df.loc[crimes_selecionados_para_df['regionais'].isin(['ALTO XINGU']), 'regionais'] = 'Alto Xingu'"
   ]
  },
  {
   "cell_type": "code",
   "execution_count": 129,
   "metadata": {},
   "outputs": [
    {
     "data": {
      "text/plain": [
       "regionais\n",
       "Capital                 49978\n",
       "Baixo Amazonas          23063\n",
       "Região Metropolitana    22832\n",
       "Carajás                 20088\n",
       "Guamá                   18687\n",
       "Tocantins               17342\n",
       "Caeté                   12400\n",
       "Xingu                    8764\n",
       "Lago de Tucuruí          8409\n",
       "Marajó Ocidental         7361\n",
       "Tapajós                  6756\n",
       "Araguaia                 6508\n",
       "Marajó Oriental          6070\n",
       "Capim                    4700\n",
       "Alto Xingu               4202\n",
       "Name: count, dtype: int64"
      ]
     },
     "execution_count": 129,
     "metadata": {},
     "output_type": "execute_result"
    }
   ],
   "source": [
    "crimes_selecionados_para_df.regionais.value_counts().head(15)"
   ]
  },
  {
   "cell_type": "markdown",
   "metadata": {},
   "source": [
    "### 3. Visualizções"
   ]
  },
  {
   "cell_type": "markdown",
   "metadata": {},
   "source": [
    "* **Tipos de violência mais frequentes**\n",
    "\n",
    "Para uma melhor visualização, alguns crimes da coluna \"consolidado\" serão agrupados de acordo com  tipo de violência contra a mulher"
   ]
  },
  {
   "cell_type": "markdown",
   "metadata": {},
   "source": [
    "A Lei Maria da Penha (Lei nº 11.340/2006) classifica e especifica os tipos de violência domestica contra a mulher, e o Art. 7º enumera algumas das formas de violências que as mulheres podem sofrer. São elas, dentre outras, as violências física, psicológica, sexual, patrimonial ou sexual."
   ]
  },
  {
   "cell_type": "markdown",
   "metadata": {},
   "source": [
    "Portanto os crimes serão agrupados da seguinte forma:\n",
    "1. **Violência Física:**\n",
    "    - Lesão corporal\n",
    "    - Homicídio\n",
    "    - Tentativa de homicídio\n",
    "    - Tentativa de feminicídio\n",
    "    - Violência física\n",
    "    - Feminicídio\n",
    "2. **Violência Sexual:**\n",
    "    - Estupro de vulnerável\n",
    "    - Importunação sexual\n",
    "    - Assédio sexual\n",
    "    - Violência sexual\n",
    "    - Estupro\n",
    "    - Violação sexual\n",
    "3. **Violência Psicológica/Emocional:**\n",
    "    - Violência psicológica\n",
    "    - Assédio\n",
    "    - Ameaça\n",
    "4. **Violência patrimonial:**\n",
    "    - Violência patrimonial\n",
    "5. Violência moral:\n",
    "    - Violência moral\n",
    "6. **Outros:**\n",
    "    - Descumprimento de medidas protetivas\n",
    "    - Descumprimento de medidas protetivas de urgência\n",
    "    - Violência doméstica"
   ]
  },
  {
   "cell_type": "code",
   "execution_count": 130,
   "metadata": {},
   "outputs": [],
   "source": [
    "if not os.path.exists(\"imagens_svg_estado\"):\n",
    "    os.mkdir(\"imagens_svg_estado\")"
   ]
  },
  {
   "cell_type": "code",
   "execution_count": 144,
   "metadata": {},
   "outputs": [],
   "source": [
    "custom_palette= ['#BA1F4C','#9373AE','#41A7C4','#D68E4A','#889684',\n",
    "                 '#96C84E','#352DA7','#691D73', '#D4BE8E','#386E0D', \n",
    "                 '#BF4F7F', '#AC3516','#3A6CC6','#295A96','#DBB1C3']"
   ]
  },
  {
   "cell_type": "code",
   "execution_count": 136,
   "metadata": {},
   "outputs": [],
   "source": [
    "tipos_crimes = crimes_selecionados_para_df.copy()\n",
    "\n",
    "mapeamento_crimes = {\n",
    "    'Lesão corporal': 'Violência física',\n",
    "    'Homicídio': 'Violência física',\n",
    "    'Feminicídio': 'Violência física',\n",
    "    'Tentativa de homicídio': 'Violência física',\n",
    "    'Tentativa de feminicídio': 'Violência física',\n",
    "    'Violência física': 'Violência física',\n",
    "\n",
    "    'Estupro': 'Violência sexual',\n",
    "    'Estupro de vulnerável': 'Violência sexual',\n",
    "    'Importunação sexual': 'Violência sexual',\n",
    "    'Assédio sexual': 'Violência sexual',\n",
    "    'Violação sexual': 'Violência sexual',\n",
    "    'Violência sexual': 'Violência sexual',\n",
    "    'Exploração sexual infantil': 'Violência sexual',\n",
    "    'Divulgação de cena de estupro': 'Violência sexual',\n",
    "\n",
    "\n",
    "    'Ameaça': 'Violência psicológica',\n",
    "    'Violência psicológica': 'Violência psicológica',\n",
    "    'Assédio': 'Violência psicológica',\n",
    "\n",
    "    'Violência patrimonial': 'Violência patrimonial',\n",
    "\n",
    "    'Violência moral': 'Violência moral',\n",
    "\n",
    "    'Descumprimento de medidas protetivas': 'Outros',\n",
    "    'Descumprimento de medidas protetivas de urgência': 'Outros',\n",
    "    'Violência doméstica': 'Outros'\n",
    "}\n",
    "\n",
    "tipos_crimes['Tipos'] = tipos_crimes['consolidado'].map(mapeamento_crimes)\n",
    "\n",
    "frequencia_crimes = tipos_crimes['Tipos'].value_counts()"
   ]
  },
  {
   "cell_type": "code",
   "execution_count": 149,
   "metadata": {},
   "outputs": [],
   "source": [
    "frequencia_crimes = tipos_crimes['Tipos'].value_counts(normalize=True) * 100"
   ]
  },
  {
   "cell_type": "code",
   "execution_count": 150,
   "metadata": {},
   "outputs": [
    {
     "data": {
      "text/plain": [
       "Tipos\n",
       "Violência psicológica    52.915693\n",
       "Violência física         32.183924\n",
       "Violência sexual         11.515294\n",
       "Outros                    2.972611\n",
       "Violência moral           0.306478\n",
       "Violência patrimonial     0.106000\n",
       "Name: proportion, dtype: float64"
      ]
     },
     "execution_count": 150,
     "metadata": {},
     "output_type": "execute_result"
    }
   ],
   "source": [
    "frequencia_crimes"
   ]
  },
  {
   "cell_type": "code",
   "execution_count": 148,
   "metadata": {},
   "outputs": [
    {
     "data": {
      "application/vnd.plotly.v1+json": {
       "config": {
        "linkText": "Export to plot.ly",
        "plotlyServerURL": "https://plot.ly",
        "showLink": false
       },
       "data": [
        {
         "labels": [
          "Violência psicológica",
          "Violência física",
          "Violência sexual",
          "Outros",
          "Violência moral",
          "Violência patrimonial"
         ],
         "marker": {
          "colors": [
           "#BA1F4C",
           "#9373AE",
           "#41A7C4",
           "#D68E4A",
           "#889684",
           "#96C84E",
           "#352DA7",
           "#691D73",
           "#D4BE8E",
           "#386E0D",
           "#BF4F7F",
           "#AC3516",
           "#3A6CC6",
           "#295A96",
           "#DBB1C3"
          ],
          "line": {
           "color": "white",
           "width": 2
          }
         },
         "textfont": {
          "size": 15
         },
         "type": "pie",
         "values": [
          114817,
          69833,
          24986,
          6450,
          665,
          230
         ]
        }
       ],
       "layout": {
        "font": {
         "size": 15
        },
        "height": 400,
        "legend": {
         "bgcolor": "#FFF5EE",
         "x": 1.11,
         "y": 0.93
        },
        "margin": {
         "b": 10,
         "l": 10,
         "r": 10,
         "t": 10
        },
        "paper_bgcolor": "white",
        "plot_bgcolor": "#FFF5EE",
        "scene": {
         "aspectmode": "cube"
        },
        "template": {
         "data": {
          "bar": [
           {
            "error_x": {
             "color": "#2a3f5f"
            },
            "error_y": {
             "color": "#2a3f5f"
            },
            "marker": {
             "line": {
              "color": "#E5ECF6",
              "width": 0.5
             },
             "pattern": {
              "fillmode": "overlay",
              "size": 10,
              "solidity": 0.2
             }
            },
            "type": "bar"
           }
          ],
          "barpolar": [
           {
            "marker": {
             "line": {
              "color": "#E5ECF6",
              "width": 0.5
             },
             "pattern": {
              "fillmode": "overlay",
              "size": 10,
              "solidity": 0.2
             }
            },
            "type": "barpolar"
           }
          ],
          "carpet": [
           {
            "aaxis": {
             "endlinecolor": "#2a3f5f",
             "gridcolor": "white",
             "linecolor": "white",
             "minorgridcolor": "white",
             "startlinecolor": "#2a3f5f"
            },
            "baxis": {
             "endlinecolor": "#2a3f5f",
             "gridcolor": "white",
             "linecolor": "white",
             "minorgridcolor": "white",
             "startlinecolor": "#2a3f5f"
            },
            "type": "carpet"
           }
          ],
          "choropleth": [
           {
            "colorbar": {
             "outlinewidth": 0,
             "ticks": ""
            },
            "type": "choropleth"
           }
          ],
          "contour": [
           {
            "colorbar": {
             "outlinewidth": 0,
             "ticks": ""
            },
            "colorscale": [
             [
              0,
              "#0d0887"
             ],
             [
              0.1111111111111111,
              "#46039f"
             ],
             [
              0.2222222222222222,
              "#7201a8"
             ],
             [
              0.3333333333333333,
              "#9c179e"
             ],
             [
              0.4444444444444444,
              "#bd3786"
             ],
             [
              0.5555555555555556,
              "#d8576b"
             ],
             [
              0.6666666666666666,
              "#ed7953"
             ],
             [
              0.7777777777777778,
              "#fb9f3a"
             ],
             [
              0.8888888888888888,
              "#fdca26"
             ],
             [
              1,
              "#f0f921"
             ]
            ],
            "type": "contour"
           }
          ],
          "contourcarpet": [
           {
            "colorbar": {
             "outlinewidth": 0,
             "ticks": ""
            },
            "type": "contourcarpet"
           }
          ],
          "heatmap": [
           {
            "colorbar": {
             "outlinewidth": 0,
             "ticks": ""
            },
            "colorscale": [
             [
              0,
              "#0d0887"
             ],
             [
              0.1111111111111111,
              "#46039f"
             ],
             [
              0.2222222222222222,
              "#7201a8"
             ],
             [
              0.3333333333333333,
              "#9c179e"
             ],
             [
              0.4444444444444444,
              "#bd3786"
             ],
             [
              0.5555555555555556,
              "#d8576b"
             ],
             [
              0.6666666666666666,
              "#ed7953"
             ],
             [
              0.7777777777777778,
              "#fb9f3a"
             ],
             [
              0.8888888888888888,
              "#fdca26"
             ],
             [
              1,
              "#f0f921"
             ]
            ],
            "type": "heatmap"
           }
          ],
          "heatmapgl": [
           {
            "colorbar": {
             "outlinewidth": 0,
             "ticks": ""
            },
            "colorscale": [
             [
              0,
              "#0d0887"
             ],
             [
              0.1111111111111111,
              "#46039f"
             ],
             [
              0.2222222222222222,
              "#7201a8"
             ],
             [
              0.3333333333333333,
              "#9c179e"
             ],
             [
              0.4444444444444444,
              "#bd3786"
             ],
             [
              0.5555555555555556,
              "#d8576b"
             ],
             [
              0.6666666666666666,
              "#ed7953"
             ],
             [
              0.7777777777777778,
              "#fb9f3a"
             ],
             [
              0.8888888888888888,
              "#fdca26"
             ],
             [
              1,
              "#f0f921"
             ]
            ],
            "type": "heatmapgl"
           }
          ],
          "histogram": [
           {
            "marker": {
             "pattern": {
              "fillmode": "overlay",
              "size": 10,
              "solidity": 0.2
             }
            },
            "type": "histogram"
           }
          ],
          "histogram2d": [
           {
            "colorbar": {
             "outlinewidth": 0,
             "ticks": ""
            },
            "colorscale": [
             [
              0,
              "#0d0887"
             ],
             [
              0.1111111111111111,
              "#46039f"
             ],
             [
              0.2222222222222222,
              "#7201a8"
             ],
             [
              0.3333333333333333,
              "#9c179e"
             ],
             [
              0.4444444444444444,
              "#bd3786"
             ],
             [
              0.5555555555555556,
              "#d8576b"
             ],
             [
              0.6666666666666666,
              "#ed7953"
             ],
             [
              0.7777777777777778,
              "#fb9f3a"
             ],
             [
              0.8888888888888888,
              "#fdca26"
             ],
             [
              1,
              "#f0f921"
             ]
            ],
            "type": "histogram2d"
           }
          ],
          "histogram2dcontour": [
           {
            "colorbar": {
             "outlinewidth": 0,
             "ticks": ""
            },
            "colorscale": [
             [
              0,
              "#0d0887"
             ],
             [
              0.1111111111111111,
              "#46039f"
             ],
             [
              0.2222222222222222,
              "#7201a8"
             ],
             [
              0.3333333333333333,
              "#9c179e"
             ],
             [
              0.4444444444444444,
              "#bd3786"
             ],
             [
              0.5555555555555556,
              "#d8576b"
             ],
             [
              0.6666666666666666,
              "#ed7953"
             ],
             [
              0.7777777777777778,
              "#fb9f3a"
             ],
             [
              0.8888888888888888,
              "#fdca26"
             ],
             [
              1,
              "#f0f921"
             ]
            ],
            "type": "histogram2dcontour"
           }
          ],
          "mesh3d": [
           {
            "colorbar": {
             "outlinewidth": 0,
             "ticks": ""
            },
            "type": "mesh3d"
           }
          ],
          "parcoords": [
           {
            "line": {
             "colorbar": {
              "outlinewidth": 0,
              "ticks": ""
             }
            },
            "type": "parcoords"
           }
          ],
          "pie": [
           {
            "automargin": true,
            "type": "pie"
           }
          ],
          "scatter": [
           {
            "fillpattern": {
             "fillmode": "overlay",
             "size": 10,
             "solidity": 0.2
            },
            "type": "scatter"
           }
          ],
          "scatter3d": [
           {
            "line": {
             "colorbar": {
              "outlinewidth": 0,
              "ticks": ""
             }
            },
            "marker": {
             "colorbar": {
              "outlinewidth": 0,
              "ticks": ""
             }
            },
            "type": "scatter3d"
           }
          ],
          "scattercarpet": [
           {
            "marker": {
             "colorbar": {
              "outlinewidth": 0,
              "ticks": ""
             }
            },
            "type": "scattercarpet"
           }
          ],
          "scattergeo": [
           {
            "marker": {
             "colorbar": {
              "outlinewidth": 0,
              "ticks": ""
             }
            },
            "type": "scattergeo"
           }
          ],
          "scattergl": [
           {
            "marker": {
             "colorbar": {
              "outlinewidth": 0,
              "ticks": ""
             }
            },
            "type": "scattergl"
           }
          ],
          "scattermapbox": [
           {
            "marker": {
             "colorbar": {
              "outlinewidth": 0,
              "ticks": ""
             }
            },
            "type": "scattermapbox"
           }
          ],
          "scatterpolar": [
           {
            "marker": {
             "colorbar": {
              "outlinewidth": 0,
              "ticks": ""
             }
            },
            "type": "scatterpolar"
           }
          ],
          "scatterpolargl": [
           {
            "marker": {
             "colorbar": {
              "outlinewidth": 0,
              "ticks": ""
             }
            },
            "type": "scatterpolargl"
           }
          ],
          "scatterternary": [
           {
            "marker": {
             "colorbar": {
              "outlinewidth": 0,
              "ticks": ""
             }
            },
            "type": "scatterternary"
           }
          ],
          "surface": [
           {
            "colorbar": {
             "outlinewidth": 0,
             "ticks": ""
            },
            "colorscale": [
             [
              0,
              "#0d0887"
             ],
             [
              0.1111111111111111,
              "#46039f"
             ],
             [
              0.2222222222222222,
              "#7201a8"
             ],
             [
              0.3333333333333333,
              "#9c179e"
             ],
             [
              0.4444444444444444,
              "#bd3786"
             ],
             [
              0.5555555555555556,
              "#d8576b"
             ],
             [
              0.6666666666666666,
              "#ed7953"
             ],
             [
              0.7777777777777778,
              "#fb9f3a"
             ],
             [
              0.8888888888888888,
              "#fdca26"
             ],
             [
              1,
              "#f0f921"
             ]
            ],
            "type": "surface"
           }
          ],
          "table": [
           {
            "cells": {
             "fill": {
              "color": "#EBF0F8"
             },
             "line": {
              "color": "white"
             }
            },
            "header": {
             "fill": {
              "color": "#C8D4E3"
             },
             "line": {
              "color": "white"
             }
            },
            "type": "table"
           }
          ]
         },
         "layout": {
          "annotationdefaults": {
           "arrowcolor": "#2a3f5f",
           "arrowhead": 0,
           "arrowwidth": 1
          },
          "autotypenumbers": "strict",
          "coloraxis": {
           "colorbar": {
            "outlinewidth": 0,
            "ticks": ""
           }
          },
          "colorscale": {
           "diverging": [
            [
             0,
             "#8e0152"
            ],
            [
             0.1,
             "#c51b7d"
            ],
            [
             0.2,
             "#de77ae"
            ],
            [
             0.3,
             "#f1b6da"
            ],
            [
             0.4,
             "#fde0ef"
            ],
            [
             0.5,
             "#f7f7f7"
            ],
            [
             0.6,
             "#e6f5d0"
            ],
            [
             0.7,
             "#b8e186"
            ],
            [
             0.8,
             "#7fbc41"
            ],
            [
             0.9,
             "#4d9221"
            ],
            [
             1,
             "#276419"
            ]
           ],
           "sequential": [
            [
             0,
             "#0d0887"
            ],
            [
             0.1111111111111111,
             "#46039f"
            ],
            [
             0.2222222222222222,
             "#7201a8"
            ],
            [
             0.3333333333333333,
             "#9c179e"
            ],
            [
             0.4444444444444444,
             "#bd3786"
            ],
            [
             0.5555555555555556,
             "#d8576b"
            ],
            [
             0.6666666666666666,
             "#ed7953"
            ],
            [
             0.7777777777777778,
             "#fb9f3a"
            ],
            [
             0.8888888888888888,
             "#fdca26"
            ],
            [
             1,
             "#f0f921"
            ]
           ],
           "sequentialminus": [
            [
             0,
             "#0d0887"
            ],
            [
             0.1111111111111111,
             "#46039f"
            ],
            [
             0.2222222222222222,
             "#7201a8"
            ],
            [
             0.3333333333333333,
             "#9c179e"
            ],
            [
             0.4444444444444444,
             "#bd3786"
            ],
            [
             0.5555555555555556,
             "#d8576b"
            ],
            [
             0.6666666666666666,
             "#ed7953"
            ],
            [
             0.7777777777777778,
             "#fb9f3a"
            ],
            [
             0.8888888888888888,
             "#fdca26"
            ],
            [
             1,
             "#f0f921"
            ]
           ]
          },
          "colorway": [
           "#636efa",
           "#EF553B",
           "#00cc96",
           "#ab63fa",
           "#FFA15A",
           "#19d3f3",
           "#FF6692",
           "#B6E880",
           "#FF97FF",
           "#FECB52"
          ],
          "font": {
           "color": "#2a3f5f"
          },
          "geo": {
           "bgcolor": "white",
           "lakecolor": "white",
           "landcolor": "#E5ECF6",
           "showlakes": true,
           "showland": true,
           "subunitcolor": "white"
          },
          "hoverlabel": {
           "align": "left"
          },
          "hovermode": "closest",
          "mapbox": {
           "style": "light"
          },
          "paper_bgcolor": "white",
          "plot_bgcolor": "#E5ECF6",
          "polar": {
           "angularaxis": {
            "gridcolor": "white",
            "linecolor": "white",
            "ticks": ""
           },
           "bgcolor": "#E5ECF6",
           "radialaxis": {
            "gridcolor": "white",
            "linecolor": "white",
            "ticks": ""
           }
          },
          "scene": {
           "xaxis": {
            "backgroundcolor": "#E5ECF6",
            "gridcolor": "white",
            "gridwidth": 2,
            "linecolor": "white",
            "showbackground": true,
            "ticks": "",
            "zerolinecolor": "white"
           },
           "yaxis": {
            "backgroundcolor": "#E5ECF6",
            "gridcolor": "white",
            "gridwidth": 2,
            "linecolor": "white",
            "showbackground": true,
            "ticks": "",
            "zerolinecolor": "white"
           },
           "zaxis": {
            "backgroundcolor": "#E5ECF6",
            "gridcolor": "white",
            "gridwidth": 2,
            "linecolor": "white",
            "showbackground": true,
            "ticks": "",
            "zerolinecolor": "white"
           }
          },
          "shapedefaults": {
           "line": {
            "color": "#2a3f5f"
           }
          },
          "ternary": {
           "aaxis": {
            "gridcolor": "white",
            "linecolor": "white",
            "ticks": ""
           },
           "baxis": {
            "gridcolor": "white",
            "linecolor": "white",
            "ticks": ""
           },
           "bgcolor": "#E5ECF6",
           "caxis": {
            "gridcolor": "white",
            "linecolor": "white",
            "ticks": ""
           }
          },
          "title": {
           "x": 0.05
          },
          "xaxis": {
           "automargin": true,
           "gridcolor": "white",
           "linecolor": "white",
           "ticks": "",
           "title": {
            "standoff": 15
           },
           "zerolinecolor": "white",
           "zerolinewidth": 2
          },
          "yaxis": {
           "automargin": true,
           "gridcolor": "white",
           "linecolor": "white",
           "ticks": "",
           "title": {
            "standoff": 15
           },
           "zerolinecolor": "white",
           "zerolinewidth": 2
          }
         }
        },
        "width": 650
       }
      },
      "text/html": [
       "<div>                            <div id=\"9d239e66-620a-4d92-a4a4-766c43f6b7d9\" class=\"plotly-graph-div\" style=\"height:400px; width:650px;\"></div>            <script type=\"text/javascript\">                require([\"plotly\"], function(Plotly) {                    window.PLOTLYENV=window.PLOTLYENV || {};                                    if (document.getElementById(\"9d239e66-620a-4d92-a4a4-766c43f6b7d9\")) {                    Plotly.newPlot(                        \"9d239e66-620a-4d92-a4a4-766c43f6b7d9\",                        [{\"labels\":[\"Viol\\u00eancia psicol\\u00f3gica\",\"Viol\\u00eancia f\\u00edsica\",\"Viol\\u00eancia sexual\",\"Outros\",\"Viol\\u00eancia moral\",\"Viol\\u00eancia patrimonial\"],\"marker\":{\"colors\":[\"#BA1F4C\",\"#9373AE\",\"#41A7C4\",\"#D68E4A\",\"#889684\",\"#96C84E\",\"#352DA7\",\"#691D73\",\"#D4BE8E\",\"#386E0D\",\"#BF4F7F\",\"#AC3516\",\"#3A6CC6\",\"#295A96\",\"#DBB1C3\"],\"line\":{\"color\":\"white\",\"width\":2}},\"textfont\":{\"size\":15},\"values\":[114817,69833,24986,6450,665,230],\"type\":\"pie\"}],                        {\"font\":{\"size\":15},\"height\":400,\"legend\":{\"bgcolor\":\"#FFF5EE\",\"x\":1.11,\"y\":0.93},\"margin\":{\"b\":10,\"l\":10,\"r\":10,\"t\":10},\"paper_bgcolor\":\"white\",\"plot_bgcolor\":\"#FFF5EE\",\"scene\":{\"aspectmode\":\"cube\"},\"template\":{\"data\":{\"barpolar\":[{\"marker\":{\"line\":{\"color\":\"#E5ECF6\",\"width\":0.5},\"pattern\":{\"fillmode\":\"overlay\",\"size\":10,\"solidity\":0.2}},\"type\":\"barpolar\"}],\"bar\":[{\"error_x\":{\"color\":\"#2a3f5f\"},\"error_y\":{\"color\":\"#2a3f5f\"},\"marker\":{\"line\":{\"color\":\"#E5ECF6\",\"width\":0.5},\"pattern\":{\"fillmode\":\"overlay\",\"size\":10,\"solidity\":0.2}},\"type\":\"bar\"}],\"carpet\":[{\"aaxis\":{\"endlinecolor\":\"#2a3f5f\",\"gridcolor\":\"white\",\"linecolor\":\"white\",\"minorgridcolor\":\"white\",\"startlinecolor\":\"#2a3f5f\"},\"baxis\":{\"endlinecolor\":\"#2a3f5f\",\"gridcolor\":\"white\",\"linecolor\":\"white\",\"minorgridcolor\":\"white\",\"startlinecolor\":\"#2a3f5f\"},\"type\":\"carpet\"}],\"choropleth\":[{\"colorbar\":{\"outlinewidth\":0,\"ticks\":\"\"},\"type\":\"choropleth\"}],\"contourcarpet\":[{\"colorbar\":{\"outlinewidth\":0,\"ticks\":\"\"},\"type\":\"contourcarpet\"}],\"contour\":[{\"colorbar\":{\"outlinewidth\":0,\"ticks\":\"\"},\"colorscale\":[[0.0,\"#0d0887\"],[0.1111111111111111,\"#46039f\"],[0.2222222222222222,\"#7201a8\"],[0.3333333333333333,\"#9c179e\"],[0.4444444444444444,\"#bd3786\"],[0.5555555555555556,\"#d8576b\"],[0.6666666666666666,\"#ed7953\"],[0.7777777777777778,\"#fb9f3a\"],[0.8888888888888888,\"#fdca26\"],[1.0,\"#f0f921\"]],\"type\":\"contour\"}],\"heatmapgl\":[{\"colorbar\":{\"outlinewidth\":0,\"ticks\":\"\"},\"colorscale\":[[0.0,\"#0d0887\"],[0.1111111111111111,\"#46039f\"],[0.2222222222222222,\"#7201a8\"],[0.3333333333333333,\"#9c179e\"],[0.4444444444444444,\"#bd3786\"],[0.5555555555555556,\"#d8576b\"],[0.6666666666666666,\"#ed7953\"],[0.7777777777777778,\"#fb9f3a\"],[0.8888888888888888,\"#fdca26\"],[1.0,\"#f0f921\"]],\"type\":\"heatmapgl\"}],\"heatmap\":[{\"colorbar\":{\"outlinewidth\":0,\"ticks\":\"\"},\"colorscale\":[[0.0,\"#0d0887\"],[0.1111111111111111,\"#46039f\"],[0.2222222222222222,\"#7201a8\"],[0.3333333333333333,\"#9c179e\"],[0.4444444444444444,\"#bd3786\"],[0.5555555555555556,\"#d8576b\"],[0.6666666666666666,\"#ed7953\"],[0.7777777777777778,\"#fb9f3a\"],[0.8888888888888888,\"#fdca26\"],[1.0,\"#f0f921\"]],\"type\":\"heatmap\"}],\"histogram2dcontour\":[{\"colorbar\":{\"outlinewidth\":0,\"ticks\":\"\"},\"colorscale\":[[0.0,\"#0d0887\"],[0.1111111111111111,\"#46039f\"],[0.2222222222222222,\"#7201a8\"],[0.3333333333333333,\"#9c179e\"],[0.4444444444444444,\"#bd3786\"],[0.5555555555555556,\"#d8576b\"],[0.6666666666666666,\"#ed7953\"],[0.7777777777777778,\"#fb9f3a\"],[0.8888888888888888,\"#fdca26\"],[1.0,\"#f0f921\"]],\"type\":\"histogram2dcontour\"}],\"histogram2d\":[{\"colorbar\":{\"outlinewidth\":0,\"ticks\":\"\"},\"colorscale\":[[0.0,\"#0d0887\"],[0.1111111111111111,\"#46039f\"],[0.2222222222222222,\"#7201a8\"],[0.3333333333333333,\"#9c179e\"],[0.4444444444444444,\"#bd3786\"],[0.5555555555555556,\"#d8576b\"],[0.6666666666666666,\"#ed7953\"],[0.7777777777777778,\"#fb9f3a\"],[0.8888888888888888,\"#fdca26\"],[1.0,\"#f0f921\"]],\"type\":\"histogram2d\"}],\"histogram\":[{\"marker\":{\"pattern\":{\"fillmode\":\"overlay\",\"size\":10,\"solidity\":0.2}},\"type\":\"histogram\"}],\"mesh3d\":[{\"colorbar\":{\"outlinewidth\":0,\"ticks\":\"\"},\"type\":\"mesh3d\"}],\"parcoords\":[{\"line\":{\"colorbar\":{\"outlinewidth\":0,\"ticks\":\"\"}},\"type\":\"parcoords\"}],\"pie\":[{\"automargin\":true,\"type\":\"pie\"}],\"scatter3d\":[{\"line\":{\"colorbar\":{\"outlinewidth\":0,\"ticks\":\"\"}},\"marker\":{\"colorbar\":{\"outlinewidth\":0,\"ticks\":\"\"}},\"type\":\"scatter3d\"}],\"scattercarpet\":[{\"marker\":{\"colorbar\":{\"outlinewidth\":0,\"ticks\":\"\"}},\"type\":\"scattercarpet\"}],\"scattergeo\":[{\"marker\":{\"colorbar\":{\"outlinewidth\":0,\"ticks\":\"\"}},\"type\":\"scattergeo\"}],\"scattergl\":[{\"marker\":{\"colorbar\":{\"outlinewidth\":0,\"ticks\":\"\"}},\"type\":\"scattergl\"}],\"scattermapbox\":[{\"marker\":{\"colorbar\":{\"outlinewidth\":0,\"ticks\":\"\"}},\"type\":\"scattermapbox\"}],\"scatterpolargl\":[{\"marker\":{\"colorbar\":{\"outlinewidth\":0,\"ticks\":\"\"}},\"type\":\"scatterpolargl\"}],\"scatterpolar\":[{\"marker\":{\"colorbar\":{\"outlinewidth\":0,\"ticks\":\"\"}},\"type\":\"scatterpolar\"}],\"scatter\":[{\"fillpattern\":{\"fillmode\":\"overlay\",\"size\":10,\"solidity\":0.2},\"type\":\"scatter\"}],\"scatterternary\":[{\"marker\":{\"colorbar\":{\"outlinewidth\":0,\"ticks\":\"\"}},\"type\":\"scatterternary\"}],\"surface\":[{\"colorbar\":{\"outlinewidth\":0,\"ticks\":\"\"},\"colorscale\":[[0.0,\"#0d0887\"],[0.1111111111111111,\"#46039f\"],[0.2222222222222222,\"#7201a8\"],[0.3333333333333333,\"#9c179e\"],[0.4444444444444444,\"#bd3786\"],[0.5555555555555556,\"#d8576b\"],[0.6666666666666666,\"#ed7953\"],[0.7777777777777778,\"#fb9f3a\"],[0.8888888888888888,\"#fdca26\"],[1.0,\"#f0f921\"]],\"type\":\"surface\"}],\"table\":[{\"cells\":{\"fill\":{\"color\":\"#EBF0F8\"},\"line\":{\"color\":\"white\"}},\"header\":{\"fill\":{\"color\":\"#C8D4E3\"},\"line\":{\"color\":\"white\"}},\"type\":\"table\"}]},\"layout\":{\"annotationdefaults\":{\"arrowcolor\":\"#2a3f5f\",\"arrowhead\":0,\"arrowwidth\":1},\"autotypenumbers\":\"strict\",\"coloraxis\":{\"colorbar\":{\"outlinewidth\":0,\"ticks\":\"\"}},\"colorscale\":{\"diverging\":[[0,\"#8e0152\"],[0.1,\"#c51b7d\"],[0.2,\"#de77ae\"],[0.3,\"#f1b6da\"],[0.4,\"#fde0ef\"],[0.5,\"#f7f7f7\"],[0.6,\"#e6f5d0\"],[0.7,\"#b8e186\"],[0.8,\"#7fbc41\"],[0.9,\"#4d9221\"],[1,\"#276419\"]],\"sequential\":[[0.0,\"#0d0887\"],[0.1111111111111111,\"#46039f\"],[0.2222222222222222,\"#7201a8\"],[0.3333333333333333,\"#9c179e\"],[0.4444444444444444,\"#bd3786\"],[0.5555555555555556,\"#d8576b\"],[0.6666666666666666,\"#ed7953\"],[0.7777777777777778,\"#fb9f3a\"],[0.8888888888888888,\"#fdca26\"],[1.0,\"#f0f921\"]],\"sequentialminus\":[[0.0,\"#0d0887\"],[0.1111111111111111,\"#46039f\"],[0.2222222222222222,\"#7201a8\"],[0.3333333333333333,\"#9c179e\"],[0.4444444444444444,\"#bd3786\"],[0.5555555555555556,\"#d8576b\"],[0.6666666666666666,\"#ed7953\"],[0.7777777777777778,\"#fb9f3a\"],[0.8888888888888888,\"#fdca26\"],[1.0,\"#f0f921\"]]},\"colorway\":[\"#636efa\",\"#EF553B\",\"#00cc96\",\"#ab63fa\",\"#FFA15A\",\"#19d3f3\",\"#FF6692\",\"#B6E880\",\"#FF97FF\",\"#FECB52\"],\"font\":{\"color\":\"#2a3f5f\"},\"geo\":{\"bgcolor\":\"white\",\"lakecolor\":\"white\",\"landcolor\":\"#E5ECF6\",\"showlakes\":true,\"showland\":true,\"subunitcolor\":\"white\"},\"hoverlabel\":{\"align\":\"left\"},\"hovermode\":\"closest\",\"mapbox\":{\"style\":\"light\"},\"paper_bgcolor\":\"white\",\"plot_bgcolor\":\"#E5ECF6\",\"polar\":{\"angularaxis\":{\"gridcolor\":\"white\",\"linecolor\":\"white\",\"ticks\":\"\"},\"bgcolor\":\"#E5ECF6\",\"radialaxis\":{\"gridcolor\":\"white\",\"linecolor\":\"white\",\"ticks\":\"\"}},\"scene\":{\"xaxis\":{\"backgroundcolor\":\"#E5ECF6\",\"gridcolor\":\"white\",\"gridwidth\":2,\"linecolor\":\"white\",\"showbackground\":true,\"ticks\":\"\",\"zerolinecolor\":\"white\"},\"yaxis\":{\"backgroundcolor\":\"#E5ECF6\",\"gridcolor\":\"white\",\"gridwidth\":2,\"linecolor\":\"white\",\"showbackground\":true,\"ticks\":\"\",\"zerolinecolor\":\"white\"},\"zaxis\":{\"backgroundcolor\":\"#E5ECF6\",\"gridcolor\":\"white\",\"gridwidth\":2,\"linecolor\":\"white\",\"showbackground\":true,\"ticks\":\"\",\"zerolinecolor\":\"white\"}},\"shapedefaults\":{\"line\":{\"color\":\"#2a3f5f\"}},\"ternary\":{\"aaxis\":{\"gridcolor\":\"white\",\"linecolor\":\"white\",\"ticks\":\"\"},\"baxis\":{\"gridcolor\":\"white\",\"linecolor\":\"white\",\"ticks\":\"\"},\"bgcolor\":\"#E5ECF6\",\"caxis\":{\"gridcolor\":\"white\",\"linecolor\":\"white\",\"ticks\":\"\"}},\"title\":{\"x\":0.05},\"xaxis\":{\"automargin\":true,\"gridcolor\":\"white\",\"linecolor\":\"white\",\"ticks\":\"\",\"title\":{\"standoff\":15},\"zerolinecolor\":\"white\",\"zerolinewidth\":2},\"yaxis\":{\"automargin\":true,\"gridcolor\":\"white\",\"linecolor\":\"white\",\"ticks\":\"\",\"title\":{\"standoff\":15},\"zerolinecolor\":\"white\",\"zerolinewidth\":2}}},\"width\":650},                        {\"responsive\": true}                    ).then(function(){\n",
       "                            \n",
       "var gd = document.getElementById('9d239e66-620a-4d92-a4a4-766c43f6b7d9');\n",
       "var x = new MutationObserver(function (mutations, observer) {{\n",
       "        var display = window.getComputedStyle(gd).display;\n",
       "        if (!display || display === 'none') {{\n",
       "            console.log([gd, 'removed!']);\n",
       "            Plotly.purge(gd);\n",
       "            observer.disconnect();\n",
       "        }}\n",
       "}});\n",
       "\n",
       "// Listen for the removal of the full notebook cells\n",
       "var notebookContainer = gd.closest('#notebook-container');\n",
       "if (notebookContainer) {{\n",
       "    x.observe(notebookContainer, {childList: true});\n",
       "}}\n",
       "\n",
       "// Listen for the clearing of the current output cell\n",
       "var outputEl = gd.closest('.output');\n",
       "if (outputEl) {{\n",
       "    x.observe(outputEl, {childList: true});\n",
       "}}\n",
       "\n",
       "                        })                };                });            </script>        </div>"
      ]
     },
     "metadata": {},
     "output_type": "display_data"
    },
    {
     "ename": "ValueError",
     "evalue": "\nImage export using the \"kaleido\" engine requires the kaleido package,\nwhich can be installed using pip:\n    $ pip install -U kaleido\n",
     "output_type": "error",
     "traceback": [
      "\u001b[0;31m---------------------------------------------------------------------------\u001b[0m",
      "\u001b[0;31mValueError\u001b[0m                                Traceback (most recent call last)",
      "Cell \u001b[0;32mIn[148], line 14\u001b[0m\n\u001b[1;32m      9\u001b[0m fig\u001b[38;5;241m.\u001b[39mupdate_traces(marker\u001b[38;5;241m=\u001b[39m\u001b[38;5;28mdict\u001b[39m(line\u001b[38;5;241m=\u001b[39m\u001b[38;5;28mdict\u001b[39m(color\u001b[38;5;241m=\u001b[39m\u001b[38;5;124m'\u001b[39m\u001b[38;5;124mwhite\u001b[39m\u001b[38;5;124m'\u001b[39m, width\u001b[38;5;241m=\u001b[39m\u001b[38;5;241m2\u001b[39m)),\n\u001b[1;32m     10\u001b[0m                   textfont\u001b[38;5;241m=\u001b[39m\u001b[38;5;28mdict\u001b[39m(size\u001b[38;5;241m=\u001b[39m\u001b[38;5;241m15\u001b[39m))\n\u001b[1;32m     12\u001b[0m py\u001b[38;5;241m.\u001b[39miplot(fig)\n\u001b[0;32m---> 14\u001b[0m \u001b[43mfig\u001b[49m\u001b[38;5;241;43m.\u001b[39;49m\u001b[43mwrite_image\u001b[49m\u001b[43m(\u001b[49m\u001b[38;5;124;43m\"\u001b[39;49m\u001b[38;5;124;43mCrimes no estado/imagens_svg_estado/tipos_violencia.svg\u001b[39;49m\u001b[38;5;124;43m\"\u001b[39;49m\u001b[43m)\u001b[49m\n",
      "File \u001b[0;32m/usr/lib/python3/dist-packages/plotly/basedatatypes.py:3840\u001b[0m, in \u001b[0;36mBaseFigure.write_image\u001b[0;34m(self, *args, **kwargs)\u001b[0m\n\u001b[1;32m   3780\u001b[0m \u001b[38;5;250m\u001b[39m\u001b[38;5;124;03m\"\"\"\u001b[39;00m\n\u001b[1;32m   3781\u001b[0m \u001b[38;5;124;03mConvert a figure to a static image and write it to a file or writeable\u001b[39;00m\n\u001b[1;32m   3782\u001b[0m \u001b[38;5;124;03mobject\u001b[39;00m\n\u001b[0;32m   (...)\u001b[0m\n\u001b[1;32m   3836\u001b[0m \u001b[38;5;124;03mNone\u001b[39;00m\n\u001b[1;32m   3837\u001b[0m \u001b[38;5;124;03m\"\"\"\u001b[39;00m\n\u001b[1;32m   3838\u001b[0m \u001b[38;5;28;01mimport\u001b[39;00m \u001b[38;5;21;01mplotly\u001b[39;00m\u001b[38;5;21;01m.\u001b[39;00m\u001b[38;5;21;01mio\u001b[39;00m \u001b[38;5;28;01mas\u001b[39;00m \u001b[38;5;21;01mpio\u001b[39;00m\n\u001b[0;32m-> 3840\u001b[0m \u001b[38;5;28;01mreturn\u001b[39;00m \u001b[43mpio\u001b[49m\u001b[38;5;241;43m.\u001b[39;49m\u001b[43mwrite_image\u001b[49m\u001b[43m(\u001b[49m\u001b[38;5;28;43mself\u001b[39;49m\u001b[43m,\u001b[49m\u001b[43m \u001b[49m\u001b[38;5;241;43m*\u001b[39;49m\u001b[43margs\u001b[49m\u001b[43m,\u001b[49m\u001b[43m \u001b[49m\u001b[38;5;241;43m*\u001b[39;49m\u001b[38;5;241;43m*\u001b[39;49m\u001b[43mkwargs\u001b[49m\u001b[43m)\u001b[49m\n",
      "File \u001b[0;32m/usr/lib/python3/dist-packages/plotly/io/_kaleido.py:267\u001b[0m, in \u001b[0;36mwrite_image\u001b[0;34m(fig, file, format, scale, width, height, validate, engine)\u001b[0m\n\u001b[1;32m    251\u001b[0m             \u001b[38;5;28;01mraise\u001b[39;00m \u001b[38;5;167;01mValueError\u001b[39;00m(\n\u001b[1;32m    252\u001b[0m \u001b[38;5;250m                \u001b[39m\u001b[38;5;124;03m\"\"\"\u001b[39;00m\n\u001b[1;32m    253\u001b[0m \u001b[38;5;124;03mCannot infer image type from output path '{file}'.\u001b[39;00m\n\u001b[0;32m   (...)\u001b[0m\n\u001b[1;32m    261\u001b[0m                 )\n\u001b[1;32m    262\u001b[0m             )\n\u001b[1;32m    264\u001b[0m     \u001b[38;5;66;03m# Request image\u001b[39;00m\n\u001b[1;32m    265\u001b[0m     \u001b[38;5;66;03m# -------------\u001b[39;00m\n\u001b[1;32m    266\u001b[0m     \u001b[38;5;66;03m# Do this first so we don't create a file if image conversion fails\u001b[39;00m\n\u001b[0;32m--> 267\u001b[0m     img_data \u001b[38;5;241m=\u001b[39m \u001b[43mto_image\u001b[49m\u001b[43m(\u001b[49m\n\u001b[1;32m    268\u001b[0m \u001b[43m        \u001b[49m\u001b[43mfig\u001b[49m\u001b[43m,\u001b[49m\n\u001b[1;32m    269\u001b[0m \u001b[43m        \u001b[49m\u001b[38;5;28;43mformat\u001b[39;49m\u001b[38;5;241;43m=\u001b[39;49m\u001b[38;5;28;43mformat\u001b[39;49m\u001b[43m,\u001b[49m\n\u001b[1;32m    270\u001b[0m \u001b[43m        \u001b[49m\u001b[43mscale\u001b[49m\u001b[38;5;241;43m=\u001b[39;49m\u001b[43mscale\u001b[49m\u001b[43m,\u001b[49m\n\u001b[1;32m    271\u001b[0m \u001b[43m        \u001b[49m\u001b[43mwidth\u001b[49m\u001b[38;5;241;43m=\u001b[39;49m\u001b[43mwidth\u001b[49m\u001b[43m,\u001b[49m\n\u001b[1;32m    272\u001b[0m \u001b[43m        \u001b[49m\u001b[43mheight\u001b[49m\u001b[38;5;241;43m=\u001b[39;49m\u001b[43mheight\u001b[49m\u001b[43m,\u001b[49m\n\u001b[1;32m    273\u001b[0m \u001b[43m        \u001b[49m\u001b[43mvalidate\u001b[49m\u001b[38;5;241;43m=\u001b[39;49m\u001b[43mvalidate\u001b[49m\u001b[43m,\u001b[49m\n\u001b[1;32m    274\u001b[0m \u001b[43m        \u001b[49m\u001b[43mengine\u001b[49m\u001b[38;5;241;43m=\u001b[39;49m\u001b[43mengine\u001b[49m\u001b[43m,\u001b[49m\n\u001b[1;32m    275\u001b[0m \u001b[43m    \u001b[49m\u001b[43m)\u001b[49m\n\u001b[1;32m    277\u001b[0m     \u001b[38;5;66;03m# Open file\u001b[39;00m\n\u001b[1;32m    278\u001b[0m     \u001b[38;5;66;03m# ---------\u001b[39;00m\n\u001b[1;32m    279\u001b[0m     \u001b[38;5;28;01mif\u001b[39;00m path \u001b[38;5;129;01mis\u001b[39;00m \u001b[38;5;28;01mNone\u001b[39;00m:\n\u001b[1;32m    280\u001b[0m         \u001b[38;5;66;03m# We previously failed to make sense of `file` as a pathlib object.\u001b[39;00m\n\u001b[1;32m    281\u001b[0m         \u001b[38;5;66;03m# Attempt to write to `file` as an open file descriptor.\u001b[39;00m\n",
      "File \u001b[0;32m/usr/lib/python3/dist-packages/plotly/io/_kaleido.py:133\u001b[0m, in \u001b[0;36mto_image\u001b[0;34m(fig, format, width, height, scale, validate, engine)\u001b[0m\n\u001b[1;32m    131\u001b[0m     \u001b[38;5;66;03m# Raise informative error message if Kaleido is not installed\u001b[39;00m\n\u001b[1;32m    132\u001b[0m     \u001b[38;5;28;01mif\u001b[39;00m scope \u001b[38;5;129;01mis\u001b[39;00m \u001b[38;5;28;01mNone\u001b[39;00m:\n\u001b[0;32m--> 133\u001b[0m         \u001b[38;5;28;01mraise\u001b[39;00m \u001b[38;5;167;01mValueError\u001b[39;00m(\n\u001b[1;32m    134\u001b[0m \u001b[38;5;250m            \u001b[39m\u001b[38;5;124;03m\"\"\"\u001b[39;00m\n\u001b[1;32m    135\u001b[0m \u001b[38;5;124;03mImage export using the \"kaleido\" engine requires the kaleido package,\u001b[39;00m\n\u001b[1;32m    136\u001b[0m \u001b[38;5;124;03mwhich can be installed using pip:\u001b[39;00m\n\u001b[1;32m    137\u001b[0m \u001b[38;5;124;03m    $ pip install -U kaleido\u001b[39;00m\n\u001b[1;32m    138\u001b[0m \u001b[38;5;124;03m\"\"\"\u001b[39;00m\n\u001b[1;32m    139\u001b[0m         )\n\u001b[1;32m    141\u001b[0m     \u001b[38;5;66;03m# Validate figure\u001b[39;00m\n\u001b[1;32m    142\u001b[0m     \u001b[38;5;66;03m# ---------------\u001b[39;00m\n\u001b[1;32m    143\u001b[0m     fig_dict \u001b[38;5;241m=\u001b[39m validate_coerce_fig_to_dict(fig, validate)\n",
      "\u001b[0;31mValueError\u001b[0m: \nImage export using the \"kaleido\" engine requires the kaleido package,\nwhich can be installed using pip:\n    $ pip install -U kaleido\n"
     ]
    }
   ],
   "source": [
    "fig = go.Figure(data=[go.Pie(labels=frequencia_crimes.index, values=frequencia_crimes.values,marker=dict(colors=custom_palette))])\n",
    "\n",
    "fig.update_layout(#title= 'Tipos de crime mais frequentes contra a mulher',\n",
    "                  scene=dict(aspectmode=\"cube\"),\n",
    "                  width=650,  \n",
    "                  height=400,margin=dict(l=10, r=10, t=10, b=10),\n",
    "        plot_bgcolor='#FFF5EE',paper_bgcolor='white', legend=dict(bgcolor='#FFF5EE', x=1.11, y=0.93), font=dict(size=15))\n",
    "\n",
    "fig.update_traces(marker=dict(line=dict(color='white', width=2)),\n",
    "                  textfont=dict(size=15))\n",
    "\n",
    "py.iplot(fig)\n",
    "\n",
    "fig.write_image(\"Crimes no estado/imagens_svg_estado/tipos_violencia.svg\")"
   ]
  },
  {
   "cell_type": "code",
   "execution_count": null,
   "metadata": {},
   "outputs": [],
   "source": [
    "                   "
   ]
  }
 ],
 "metadata": {
  "kernelspec": {
   "display_name": "Python 3",
   "language": "python",
   "name": "python3"
  },
  "language_info": {
   "codemirror_mode": {
    "name": "ipython",
    "version": 3
   },
   "file_extension": ".py",
   "mimetype": "text/x-python",
   "name": "python",
   "nbconvert_exporter": "python",
   "pygments_lexer": "ipython3",
   "version": "3.12.3"
  }
 },
 "nbformat": 4,
 "nbformat_minor": 2
}
