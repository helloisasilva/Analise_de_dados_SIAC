{
 "cells": [
  {
   "cell_type": "markdown",
   "id": "74849c21",
   "metadata": {},
   "source": [
    "## Análise de Dados dos Crimes Contra a Mulher em Belém"
   ]
  },
  {
   "cell_type": "markdown",
   "id": "73b022ac",
   "metadata": {},
   "source": [
    "#### 1. Seleção e tratamento de dados"
   ]
  },
  {
   "cell_type": "code",
   "execution_count": 309,
   "id": "d04dbdd3",
   "metadata": {},
   "outputs": [],
   "source": [
    "import pandas as pd\n",
    "\n",
    "import numpy as np\n",
    "import matplotlib.pyplot as plt\n",
    "import seaborn as sns"
   ]
  },
  {
   "cell_type": "code",
   "execution_count": 311,
   "id": "bb7ab151",
   "metadata": {},
   "outputs": [],
   "source": [
    "df = pd.read_csv(r\"C:\\\\Users\\\\manut\\\\Downloads\\\\crimes_2019_a_2022.csv\", low_memory=False)"
   ]
  },
  {
   "cell_type": "code",
   "execution_count": 312,
   "id": "3c4e06e5",
   "metadata": {},
   "outputs": [],
   "source": [
    "pd.set_option('display.max_columns', None)\n",
    "df.head()"
   ]
  },
  {
   "cell_type": "markdown",
   "id": "916187b3",
   "metadata": {},
   "source": [
    "### Filtrar apenas as colunas que interessam para a análise:\n",
    "- Informações gerais:                  \n",
    "    - 'unidade_origem'\n",
    "    - 'unidade_responsavel'\n",
    "    - 'dia_semana'\n",
    "    - 'fx_4_hor'\n",
    "    - 'mes_fato'\n",
    "    - 'ano_fato'\n",
    "    - 'consolidado'\n",
    "    - 'especificacao_crime'\n",
    "    - 'causa_presumivel'\n",
    "    - 'meio_empregado_sisp'\n",
    "    - 'municipios'\n",
    "    - 'bairros' \n",
    "    - 'local_ocorrencia'\n",
    "    - 'grau_de_relacionamento'\n",
    "- Dados das vitimas:\n",
    "   - 'vit_idade'\n",
    "   - 'vit_fx_etaria'\n",
    "   - 'vit_sexo'\n",
    "   - 'vit_cor_pele'\n",
    "   - 'vit_grau_inst'\n",
    " - Dados das vitimas:\n",
    "   - 'aut_sexo'\n",
    "\n"
   ]
  },
  {
   "cell_type": "code",
   "execution_count": 131,
   "id": "fc01d9fa",
   "metadata": {},
   "outputs": [],
   "source": [
    "crimes_df=df[['unidade_origem','unidade_responsavel','dia_semana','fx_4_hor','mes_fato',\n",
    "                    'ano_fato','consolidado','especificacao_crime','causa_presumivel',\n",
    "                    'meio_empregado_sisp','municipios','bairros','local_ocorrencia','vit_idade',\n",
    "                    'vit_fx_etaria','vit_sexo','vit_cor_pele','vit_grau_inst',\n",
    "                    'grau_de_relacionamento', 'aut_sexo']]"
   ]
  },
  {
   "cell_type": "markdown",
   "id": "cbfb1eb5",
   "metadata": {},
   "source": [
    "### Filtros para a capital Belém e vitimas do sexo feminino"
   ]
  },
  {
   "cell_type": "code",
   "execution_count": 132,
   "id": "3ed8e0ba",
   "metadata": {},
   "outputs": [],
   "source": [
    "crimes_df = crimes_df[crimes_df['municipios'] == 'BELEM']\n",
    "crimes_df.reset_index(drop=True, inplace=True)\n",
    "crimes_df.drop(columns=['municipios'], inplace=True)"
   ]
  },
  {
   "cell_type": "code",
   "execution_count": 133,
   "id": "814aab8d",
   "metadata": {},
   "outputs": [],
   "source": [
    "crimes_df"
   ]
  },
  {
   "cell_type": "code",
   "execution_count": 134,
   "id": "955e1174",
   "metadata": {},
   "outputs": [],
   "source": [
    "#crimes_df = crimes_df[crimes_df['vit_sexo'] == 'F']\n",
    "#crimes_df.reset_index(drop=True, inplace=True)"
   ]
  },
  {
   "cell_type": "code",
   "execution_count": null,
   "id": "9e3bcc0f",
   "metadata": {},
   "outputs": [],
   "source": []
  },
  {
   "cell_type": "code",
   "execution_count": null,
   "id": "fe2ebeb1",
   "metadata": {},
   "outputs": [],
   "source": []
  },
  {
   "cell_type": "markdown",
   "id": "bb5ad9f1",
   "metadata": {},
   "source": [
    "### Verificar tipos de dados em cada coluna, a quantidade de valores não nulos (não missing), e a quantidade total de memória utilizada pelo DataFrame."
   ]
  },
  {
   "cell_type": "code",
   "execution_count": 135,
   "id": "ef8fa34f",
   "metadata": {},
   "outputs": [],
   "source": [
    "crimes_df.info()"
   ]
  },
  {
   "cell_type": "code",
   "execution_count": 136,
   "id": "549b0ffd",
   "metadata": {},
   "outputs": [],
   "source": [
    "crimes_df.isnull().sum()"
   ]
  },
  {
   "cell_type": "code",
   "execution_count": 137,
   "id": "bd19b6e8",
   "metadata": {},
   "outputs": [],
   "source": [
    "missing_by_column = crimes_df.isnull().sum()\n",
    "absol_miss = missing_by_column[missing_by_column > 0].sort_values(ascending=False)\n",
    "perce_miss = absol_miss / crimes_df.shape[0] * 100\n",
    "dtype_miss = pd.Series({x: crimes_df[x].dtype for x in absol_miss.index})\n",
    "\n",
    "missing = pd.concat([dtype_miss, absol_miss, perce_miss], axis=1)\n",
    "missing.columns = [\"dtypes\", \"Absoluto\", \"Porcentagem\"]\n",
    "missing"
   ]
  },
  {
   "cell_type": "code",
   "execution_count": 138,
   "id": "98d6c3d7",
   "metadata": {},
   "outputs": [],
   "source": [
    "plt.figure(figsize=(20,5))\n",
    "sns.barplot(x=missing.index, y=missing[\"Porcentagem\"])\n",
    "plt.xticks(rotation='vertical')\n",
    "plt.title(f\"Porcentagem de valores ausentes por coluna\")\n",
    "plt.show()"
   ]
  },
  {
   "cell_type": "markdown",
   "id": "fa78c92d",
   "metadata": {},
   "source": [
    "- Como as colunas \"local_ocorrencia\", \"consolidado\", \"causa_presumivel\", \"vit_sexo\" e \"meio_empregado_sisp\"  tem poucos valores missing, serao removidas apenas as linhas com valores faltantes. As colunas vit_idade e vit_fx_etaria serão usadas posteriormente para tratamento da coluna vit_fx_etaria, portanto não é interessante a remoção de linhas nesta etapa."
   ]
  },
  {
   "cell_type": "code",
   "execution_count": 139,
   "id": "81e211de",
   "metadata": {},
   "outputs": [],
   "source": [
    "crimes_df.dropna(subset=[\"local_ocorrencia\",\"meio_empregado_sisp\", \"consolidado\", \"causa_presumivel\", \"vit_sexo\"], inplace=True)"
   ]
  },
  {
   "cell_type": "code",
   "execution_count": 140,
   "id": "95e1049c",
   "metadata": {},
   "outputs": [],
   "source": [
    "crimes_df.reset_index(drop=True, inplace=True)\n"
   ]
  },
  {
   "cell_type": "code",
   "execution_count": 141,
   "id": "d7f870ed",
   "metadata": {},
   "outputs": [],
   "source": [
    "missing_by_column_after = crimes_df.isnull().sum()\n",
    "absol_miss_after = missing_by_column_after[missing_by_column_after > 0].sort_values(ascending=False)\n",
    "perce_miss_after = absol_miss_after / crimes_df.shape[0] * 100\n",
    "dtype_miss_after = pd.Series({x: crimes_df[x].dtype for x in absol_miss_after.index})\n",
    "\n",
    "missing_after = pd.concat([dtype_miss_after, absol_miss_after, perce_miss_after], axis=1)\n",
    "missing_after.columns = [\"dtypes\", \"Absoluto\", \"Porcentagem\"]\n",
    "missing_after"
   ]
  },
  {
   "cell_type": "markdown",
   "id": "650e8a70",
   "metadata": {},
   "source": [
    "### Tratamento de valores NaN"
   ]
  },
  {
   "cell_type": "markdown",
   "id": "f1c5e166",
   "metadata": {},
   "source": [
    "Dada a considerável presença de dados nulos, excedendo 50% em várias colunas, a abordagem adotada para mitigar essa lacuna consistirá na substituição dos valores NaN por meio do rótulo \"Não informado\", visando evitar a perda significativa de dados."
   ]
  },
  {
   "cell_type": "code",
   "execution_count": 142,
   "id": "1e0e73dd",
   "metadata": {},
   "outputs": [],
   "source": [
    "colunas_com_NaN = [\"grau_de_relacionamento\",\"especificacao_crime\",\n",
    "                   \"unidade_responsavel\",\"unidade_origem\",\"vit_cor_pele\",\"vit_grau_inst\",\n",
    "                   \"aut_sexo\",\"vit_idade\",\"vit_fx_etaria\"]\n",
    "crimes_df.loc[:, colunas_com_NaN] = crimes_df.loc[:, colunas_com_NaN].fillna(\"Nao informado\")"
   ]
  },
  {
   "cell_type": "code",
   "execution_count": 143,
   "id": "7403a338",
   "metadata": {},
   "outputs": [],
   "source": [
    "crimes_df.isnull().sum()"
   ]
  },
  {
   "cell_type": "markdown",
   "id": "ce035e67",
   "metadata": {},
   "source": [
    "### Abordando inconsistências"
   ]
  },
  {
   "cell_type": "markdown",
   "id": "1e89e4d9",
   "metadata": {},
   "source": [
    "Durante esta fase, procederemos com a normalização de valores que foram registrados de maneiras diversas, mas que representam o mesmo conceito e tratamento de informacoes nao pertinentes."
   ]
  },
  {
   "cell_type": "markdown",
   "id": "759fa1ba",
   "metadata": {},
   "source": [
    "1. Verificar os objetos diferentes que compoem cada coluna e quantos se repetem"
   ]
  },
  {
   "cell_type": "markdown",
   "id": "46fda950",
   "metadata": {},
   "source": [
    "- vit_sexo"
   ]
  },
  {
   "cell_type": "code",
   "execution_count": 144,
   "id": "a13f4652",
   "metadata": {},
   "outputs": [],
   "source": [
    "crimes_df.vit_sexo.value_counts()"
   ]
  },
  {
   "cell_type": "code",
   "execution_count": 145,
   "id": "ada03c5b",
   "metadata": {},
   "outputs": [],
   "source": [
    "crimes_df[crimes_df['vit_sexo'] == 'BRANCA']"
   ]
  },
  {
   "cell_type": "markdown",
   "id": "0ae2257f",
   "metadata": {},
   "source": [
    "Nesta linha da base, é perceptivel o erro na transcrição das informações, visto que a coluna vit_cor_pel e vit_sexo estao com os valores trocados. Como se trata de um caso sobre violencia contra a mulher, será feita a correção."
   ]
  },
  {
   "cell_type": "code",
   "execution_count": 146,
   "id": "656a818d",
   "metadata": {},
   "outputs": [],
   "source": [
    "condicao_sexo_cor = (crimes_df['vit_sexo'] == 'BRANCA') & (crimes_df['vit_cor_pele'] == 'F')\n",
    "crimes_df.loc[condicao_sexo_cor, ['vit_sexo', 'vit_cor_pele']] = ['F', 'BRANCA']"
   ]
  },
  {
   "cell_type": "code",
   "execution_count": 147,
   "id": "b8c93219",
   "metadata": {},
   "outputs": [],
   "source": [
    "crimes_df[crimes_df['vit_sexo'] == 'PARDA']"
   ]
  },
  {
   "cell_type": "markdown",
   "id": "e92ce93f",
   "metadata": {},
   "source": [
    "Para tratar melhor as linhas com 'PARDA' na coluna 'vit_sexo', serão excluidos as linhas em que a vitima não é do sexo feminino e os valores 'JL', 'JA LANCADO', 'P', 'NI' E 'PJ'"
   ]
  },
  {
   "cell_type": "code",
   "execution_count": 148,
   "id": "f7051e02",
   "metadata": {},
   "outputs": [],
   "source": [
    "crimes_df.drop(crimes_df.loc[crimes_df['vit_sexo']=='PJ'].index, inplace=True)"
   ]
  },
  {
   "cell_type": "code",
   "execution_count": 149,
   "id": "31532ccf",
   "metadata": {},
   "outputs": [],
   "source": [
    "crimes_df.drop(crimes_df.loc[crimes_df['vit_sexo']=='M'].index, inplace=True)"
   ]
  },
  {
   "cell_type": "code",
   "execution_count": 150,
   "id": "42bec00f",
   "metadata": {},
   "outputs": [],
   "source": [
    "crimes_df.drop(crimes_df.loc[crimes_df['vit_sexo']=='P'].index, inplace=True)"
   ]
  },
  {
   "cell_type": "code",
   "execution_count": 151,
   "id": "f68fc8e4",
   "metadata": {},
   "outputs": [],
   "source": [
    "crimes_df.drop(crimes_df.loc[crimes_df['vit_sexo']=='JL'].index, inplace=True)"
   ]
  },
  {
   "cell_type": "code",
   "execution_count": 152,
   "id": "f6c52146",
   "metadata": {},
   "outputs": [],
   "source": [
    "crimes_df.drop(crimes_df.loc[crimes_df['vit_sexo']=='JA LANCADO'].index, inplace=True)"
   ]
  },
  {
   "cell_type": "code",
   "execution_count": 153,
   "id": "5b638a99",
   "metadata": {},
   "outputs": [],
   "source": [
    "crimes_df.drop(crimes_df.loc[crimes_df['vit_sexo']=='NI'].index, inplace=True)"
   ]
  },
  {
   "cell_type": "code",
   "execution_count": 154,
   "id": "7b5fc298",
   "metadata": {},
   "outputs": [],
   "source": [
    "crimes_df.vit_sexo.value_counts()"
   ]
  },
  {
   "cell_type": "code",
   "execution_count": 155,
   "id": "a17cad0a",
   "metadata": {},
   "outputs": [],
   "source": [
    "crimes_df[(crimes_df['vit_sexo'] == 'PARDA') & (crimes_df['vit_cor_pele'] == 'F')]"
   ]
  },
  {
   "cell_type": "code",
   "execution_count": 156,
   "id": "6e002fb7",
   "metadata": {},
   "outputs": [],
   "source": [
    "condicao_sexo_cor_1 = (crimes_df['vit_sexo'] == 'PARDA') & (crimes_df['vit_cor_pele'] == 'F')\n",
    "crimes_df.loc[condicao_sexo_cor_1, ['vit_sexo', 'vit_cor_pele']] = ['F', 'PARDA']"
   ]
  },
  {
   "cell_type": "markdown",
   "id": "64d2a4a5",
   "metadata": {},
   "source": [
    "O restante são valores que estão preenchidos com 'M' na coluna 'vit_cor_pele', serão excluidos a seguir no tratamento da coluna em questao"
   ]
  },
  {
   "cell_type": "code",
   "execution_count": 157,
   "id": "406d03c4",
   "metadata": {},
   "outputs": [],
   "source": [
    "crimes_df.vit_sexo.value_counts()"
   ]
  },
  {
   "cell_type": "markdown",
   "id": "9a4415e9",
   "metadata": {},
   "source": [
    "- vit_cor_pele"
   ]
  },
  {
   "cell_type": "code",
   "execution_count": 158,
   "id": "3e61309a",
   "metadata": {},
   "outputs": [],
   "source": [
    "crimes_df.vit_cor_pele.value_counts()"
   ]
  },
  {
   "cell_type": "code",
   "execution_count": 159,
   "id": "79856941",
   "metadata": {},
   "outputs": [],
   "source": [
    "crimes_df.loc[crimes_df.vit_cor_pele == \"Nao informado\",'vit_cor_pele']= 'PREJUDICADO'"
   ]
  },
  {
   "cell_type": "code",
   "execution_count": 160,
   "id": "3391b237",
   "metadata": {},
   "outputs": [],
   "source": [
    "crimes_df.loc[crimes_df.vit_cor_pele == \"NAO INFORMADO\",'vit_cor_pele']= 'PREJUDICADO'"
   ]
  },
  {
   "cell_type": "code",
   "execution_count": 161,
   "id": "83cbcba7",
   "metadata": {},
   "outputs": [],
   "source": [
    "crimes_df.drop(crimes_df.loc[crimes_df['vit_cor_pele']=='M'].index, inplace=True)"
   ]
  },
  {
   "cell_type": "code",
   "execution_count": 162,
   "id": "c24fd28e",
   "metadata": {},
   "outputs": [],
   "source": [
    "crimes_df.drop(crimes_df.loc[crimes_df['vit_cor_pele']=='JA LANCADO'].index, inplace=True)"
   ]
  },
  {
   "cell_type": "code",
   "execution_count": 163,
   "id": "e731b014",
   "metadata": {},
   "outputs": [],
   "source": [
    "crimes_df.drop(crimes_df.loc[crimes_df['vit_cor_pele']=='PJ, EP E OUTROS'].index, inplace=True)"
   ]
  },
  {
   "cell_type": "code",
   "execution_count": 164,
   "id": "e1cdcba3",
   "metadata": {},
   "outputs": [],
   "source": [
    "crimes_df.vit_cor_pele.value_counts()"
   ]
  },
  {
   "cell_type": "markdown",
   "id": "93df7ae6",
   "metadata": {},
   "source": [
    "- local_ocorrencia"
   ]
  },
  {
   "cell_type": "code",
   "execution_count": 165,
   "id": "295753e5",
   "metadata": {},
   "outputs": [],
   "source": [
    "local_ocorrencia_unico = crimes_df[\"local_ocorrencia\"].unique().tolist()\n",
    "print(\"Numero unico de local_ocorrencia: \", len(local_ocorrencia_unico))\n",
    "local_ocorrencia_unico"
   ]
  },
  {
   "cell_type": "code",
   "execution_count": 166,
   "id": "07d4502a",
   "metadata": {},
   "outputs": [],
   "source": [
    "crimes_df.loc[crimes_df.local_ocorrencia == \"VIA PUBLICA \",'local_ocorrencia'] = 'VIA PUBLICA'"
   ]
  },
  {
   "cell_type": "code",
   "execution_count": 167,
   "id": "48aabbde",
   "metadata": {},
   "outputs": [],
   "source": [
    "crimes_df.loc[crimes_df.local_ocorrencia == \"TRANSPORTE \",'local_ocorrencia'] = 'TRANSPORTE(PUBLICO, URBANO, ETC)'\n"
   ]
  },
  {
   "cell_type": "code",
   "execution_count": 168,
   "id": "d3786fcf",
   "metadata": {},
   "outputs": [],
   "source": [
    "crimes_df.loc[crimes_df.local_ocorrencia == \"TRANSPORTE URBANO\",'local_ocorrencia'] = 'TRANSPORTE(PUBLICO, URBANO, ETC)'\n"
   ]
  },
  {
   "cell_type": "code",
   "execution_count": 169,
   "id": "58faf5d3",
   "metadata": {},
   "outputs": [],
   "source": [
    "crimes_df.loc[crimes_df.local_ocorrencia == \"TRANSPORTE PUBLICO\",'local_ocorrencia'] = 'TRANSPORTE(PUBLICO, URBANO, ETC)'\n"
   ]
  },
  {
   "cell_type": "code",
   "execution_count": 170,
   "id": "8c9e09b6",
   "metadata": {},
   "outputs": [],
   "source": [
    "crimes_df.loc[crimes_df.local_ocorrencia == \"TRANSPORTE POR APLICATIVO\",'local_ocorrencia'] = 'TRANSPORTE(PUBLICO, URBANO, ETC)'\n"
   ]
  },
  {
   "cell_type": "code",
   "execution_count": 171,
   "id": "89a417ed",
   "metadata": {},
   "outputs": [],
   "source": [
    "crimes_df.loc[crimes_df.local_ocorrencia == \"TRANSPORTE COLETIVO\",'local_ocorrencia'] = 'TRANSPORTE(PUBLICO, URBANO, ETC)'\n"
   ]
  },
  {
   "cell_type": "code",
   "execution_count": 172,
   "id": "2f227aa1",
   "metadata": {},
   "outputs": [],
   "source": [
    "crimes_df.loc[crimes_df.local_ocorrencia == \"TRANSPOSTE PUBLICO\",'local_ocorrencia'] = 'TRANSPORTE(PUBLICO, URBANO, ETC)'\n"
   ]
  },
  {
   "cell_type": "code",
   "execution_count": 173,
   "id": "0a5ee767",
   "metadata": {},
   "outputs": [],
   "source": [
    "crimes_df.loc[crimes_df.local_ocorrencia == \"TRANPORTE COLETIVO\",'local_ocorrencia'] = 'TRANSPORTE(PUBLICO, URBANO, ETC)'\n"
   ]
  },
  {
   "cell_type": "code",
   "execution_count": 174,
   "id": "4e6332ea",
   "metadata": {},
   "outputs": [],
   "source": [
    "crimes_df.loc[crimes_df.local_ocorrencia == \"TRANSPORTE (COLETIVO, PRIVADO OU ESCOLAR)\",'local_ocorrencia'] = 'TRANSPORTE(PUBLICO, URBANO, ETC)'\n"
   ]
  },
  {
   "cell_type": "code",
   "execution_count": 175,
   "id": "b7a40a9e",
   "metadata": {},
   "outputs": [],
   "source": [
    "crimes_df.loc[crimes_df.local_ocorrencia == \"TRANSPORTE COLETVIO\",'local_ocorrencia'] = 'TRANSPORTE(PUBLICO, URBANO, ETC)'\n"
   ]
  },
  {
   "cell_type": "code",
   "execution_count": 176,
   "id": "de7a43b6",
   "metadata": {},
   "outputs": [],
   "source": [
    "crimes_df.loc[crimes_df.local_ocorrencia == \"COLETIVO\",'local_ocorrencia'] = 'TRANSPORTE(PUBLICO, URBANO, ETC)'\n"
   ]
  },
  {
   "cell_type": "code",
   "execution_count": 177,
   "id": "76fbed39",
   "metadata": {},
   "outputs": [],
   "source": [
    "crimes_df.loc[crimes_df.local_ocorrencia == \"EM COLETIVO\",'local_ocorrencia'] = 'TRANSPORTE(PUBLICO, URBANO, ETC)'\n"
   ]
  },
  {
   "cell_type": "code",
   "execution_count": 178,
   "id": "0e6b88a2",
   "metadata": {},
   "outputs": [],
   "source": [
    "crimes_df.loc[crimes_df.local_ocorrencia == \"MAR, RIO, LAGOA\",'local_ocorrencia'] = 'MAR, RIO, LAGOA'\n"
   ]
  },
  {
   "cell_type": "code",
   "execution_count": 179,
   "id": "d7332719",
   "metadata": {},
   "outputs": [],
   "source": [
    "crimes_df.loc[crimes_df.local_ocorrencia == \"MAR,RIO,LAGOA\",'local_ocorrencia'] = 'MAR, RIO, LAGOA'"
   ]
  },
  {
   "cell_type": "code",
   "execution_count": 180,
   "id": "c6a69665",
   "metadata": {},
   "outputs": [],
   "source": [
    "crimes_df.loc[crimes_df.local_ocorrencia == \"MAR, RIO E LAGOA\",'local_ocorrencia']= 'MAR, RIO, LAGOA'\n"
   ]
  },
  {
   "cell_type": "code",
   "execution_count": 181,
   "id": "7e234bc5",
   "metadata": {},
   "outputs": [],
   "source": [
    "crimes_df.loc[crimes_df.local_ocorrencia == \"PORTO\",'local_ocorrencia']=  'PORTOS / MARINAS / ATRACADOUROS',"
   ]
  },
  {
   "cell_type": "code",
   "execution_count": 182,
   "id": "13a8e976",
   "metadata": {},
   "outputs": [],
   "source": [
    "crimes_df.loc[crimes_df.local_ocorrencia == \"MAR / OCEANO\",'local_ocorrencia']='MAR, RIO, LAGOA'"
   ]
  },
  {
   "cell_type": "code",
   "execution_count": 183,
   "id": "b888bcf3",
   "metadata": {},
   "outputs": [],
   "source": [
    "crimes_df.loc[crimes_df.local_ocorrencia == \"REPRESAS\",'local_ocorrencia']='MAR, RIO, LAGOA'"
   ]
  },
  {
   "cell_type": "code",
   "execution_count": 184,
   "id": "56376f19",
   "metadata": {},
   "outputs": [],
   "source": [
    "crimes_df.loc[crimes_df.local_ocorrencia == \"RIO\",'local_ocorrencia']='MAR, RIO, LAGOA'"
   ]
  },
  {
   "cell_type": "code",
   "execution_count": 185,
   "id": "9ed47360",
   "metadata": {},
   "outputs": [],
   "source": [
    "crimes_df.loc[crimes_df.local_ocorrencia == \"IGARAPE\",'local_ocorrencia']='MAR, RIO, LAGOA'"
   ]
  },
  {
   "cell_type": "code",
   "execution_count": 186,
   "id": "ddf91c67",
   "metadata": {},
   "outputs": [],
   "source": [
    "crimes_df.loc[crimes_df.local_ocorrencia == \"RESTAURANTE \",'local_ocorrencia'] =  'CAFE, BAR, RESTAURANTE, ETC'"
   ]
  },
  {
   "cell_type": "code",
   "execution_count": 187,
   "id": "321d2aec",
   "metadata": {},
   "outputs": [],
   "source": [
    "crimes_df.loc[crimes_df.local_ocorrencia == \"HOSPITAL \",'local_ocorrencia'] = 'HOSPITAL'"
   ]
  },
  {
   "cell_type": "code",
   "execution_count": 188,
   "id": "535b9a84",
   "metadata": {},
   "outputs": [],
   "source": [
    "crimes_df.loc[crimes_df.local_ocorrencia == \"ESTABELECIMENTO DE COMERCIAL\",'local_ocorrencia'] = 'ESTABELECIMENTO COMERCIAL'"
   ]
  },
  {
   "cell_type": "code",
   "execution_count": 189,
   "id": "5a96a4ff",
   "metadata": {},
   "outputs": [],
   "source": [
    "crimes_df.loc[crimes_df.local_ocorrencia == \"ESTABELECIMENTO PRISIONAL\",'local_ocorrencia'] = 'PENITENCIARIA, REFORMATORIO'"
   ]
  },
  {
   "cell_type": "code",
   "execution_count": 190,
   "id": "1da4d1a1",
   "metadata": {},
   "outputs": [],
   "source": [
    "crimes_df.loc[crimes_df.local_ocorrencia == \"AMBIENTE VIRTUAL (INTERNET)\",'local_ocorrencia'] = 'INTERNET'"
   ]
  },
  {
   "cell_type": "code",
   "execution_count": 191,
   "id": "0f44a80f",
   "metadata": {},
   "outputs": [],
   "source": [
    "crimes_df.loc[crimes_df.local_ocorrencia == \"AMBIENTE VIRTUAL (NTERNET)\",'local_ocorrencia'] = 'INTERNET'"
   ]
  },
  {
   "cell_type": "code",
   "execution_count": 192,
   "id": "a9c89423",
   "metadata": {},
   "outputs": [],
   "source": [
    "crimes_df.loc[crimes_df.local_ocorrencia == \"AMBIENTE VIRTUAL (PIX)\",'local_ocorrencia'] = 'INTERNET'"
   ]
  },
  {
   "cell_type": "code",
   "execution_count": 193,
   "id": "cd189d4c",
   "metadata": {},
   "outputs": [],
   "source": [
    "crimes_df.loc[crimes_df.local_ocorrencia == \"AMBIENTE VIRTUAL\",'local_ocorrencia'] = 'INTERNET'"
   ]
  },
  {
   "cell_type": "code",
   "execution_count": 194,
   "id": "2685ec6f",
   "metadata": {},
   "outputs": [],
   "source": [
    "crimes_df.loc[crimes_df.local_ocorrencia == \"INTERNET (REDES SOCIAIS, APLICATIVOS DE MENSAGENS, E-MAIL, SITES, BLOGS, PORTAIS E OUTROS)\",'local_ocorrencia'] = 'INTERNET'"
   ]
  },
  {
   "cell_type": "code",
   "execution_count": 195,
   "id": "807d318a",
   "metadata": {},
   "outputs": [],
   "source": [
    "crimes_df.loc[crimes_df.local_ocorrencia == \"CASA COMERCIAL \",'local_ocorrencia'] = 'CASA COMERCIAL'"
   ]
  },
  {
   "cell_type": "code",
   "execution_count": 196,
   "id": "9fc05454",
   "metadata": {},
   "outputs": [],
   "source": [
    "crimes_df.loc[crimes_df.local_ocorrencia == \"PREDIO EM OBRAS\",'local_ocorrencia'] = 'PREDIO'\n"
   ]
  },
  {
   "cell_type": "code",
   "execution_count": 197,
   "id": "739e008d",
   "metadata": {},
   "outputs": [],
   "source": [
    "crimes_df.loc[crimes_df.local_ocorrencia == \"PREDIO DO JORNAL\",'local_ocorrencia'] = 'PREDIO'"
   ]
  },
  {
   "cell_type": "code",
   "execution_count": 198,
   "id": "3288f4f2",
   "metadata": {},
   "outputs": [],
   "source": [
    "crimes_df.loc[crimes_df.local_ocorrencia == \"PREDIO/PALACIO DO RADIO\",'local_ocorrencia'] = 'PREDIO'"
   ]
  },
  {
   "cell_type": "code",
   "execution_count": 199,
   "id": "f2033b10",
   "metadata": {},
   "outputs": [],
   "source": [
    "crimes_df.loc[crimes_df.local_ocorrencia == \"LOJA \",'local_ocorrencia'] = 'LOJA'"
   ]
  },
  {
   "cell_type": "code",
   "execution_count": 200,
   "id": "3b20ca38",
   "metadata": {},
   "outputs": [],
   "source": [
    "crimes_df.loc[crimes_df.local_ocorrencia == \"AMERICANAS\",'local_ocorrencia'] = 'LOJA'"
   ]
  },
  {
   "cell_type": "code",
   "execution_count": 201,
   "id": "1a18540c",
   "metadata": {},
   "outputs": [],
   "source": [
    "crimes_df.loc[crimes_df.local_ocorrencia == \"LOJA DE CONVENIENCIA \",'local_ocorrencia'] =  'LOJA DE CONVENIENCIA'"
   ]
  },
  {
   "cell_type": "code",
   "execution_count": 202,
   "id": "6ba8b249",
   "metadata": {},
   "outputs": [],
   "source": [
    "crimes_df.loc[crimes_df.local_ocorrencia == \"LOJAS DE CONVENIENCIA\",'local_ocorrencia'] =  'LOJA DE CONVENIENCIA'"
   ]
  },
  {
   "cell_type": "code",
   "execution_count": 203,
   "id": "396436d6",
   "metadata": {},
   "outputs": [],
   "source": [
    "crimes_df.loc[crimes_df.local_ocorrencia == \"VIA FERREA\",'local_ocorrencia'] =   'ESTACAO FERROVIARIA'"
   ]
  },
  {
   "cell_type": "code",
   "execution_count": 204,
   "id": "8f4f5f85",
   "metadata": {},
   "outputs": [],
   "source": [
    "crimes_df.loc[crimes_df.local_ocorrencia == \"FARMACIA \",'local_ocorrencia'] =   'FARMACIA'"
   ]
  },
  {
   "cell_type": "code",
   "execution_count": 205,
   "id": "d71ad294",
   "metadata": {},
   "outputs": [],
   "source": [
    "crimes_df.loc[crimes_df.local_ocorrencia == \"RESIDENCIA\",'local_ocorrencia'] = 'RESIDENCIA PARTICULAR'"
   ]
  },
  {
   "cell_type": "code",
   "execution_count": 206,
   "id": "0bf766d5",
   "metadata": {},
   "outputs": [],
   "source": [
    "crimes_df.loc[crimes_df.local_ocorrencia == \"EM RESIDENCIA\",'local_ocorrencia'] = 'RESIDENCIA PARTICULAR'"
   ]
  },
  {
   "cell_type": "code",
   "execution_count": 207,
   "id": "a3d0fb96",
   "metadata": {},
   "outputs": [],
   "source": [
    "crimes_df.loc[crimes_df.local_ocorrencia == \"PROPRIEDADE RESIDENCIAL URBANA\",'local_ocorrencia'] = 'RESIDENCIA PARTICULAR'"
   ]
  },
  {
   "cell_type": "code",
   "execution_count": 208,
   "id": "7191951f",
   "metadata": {},
   "outputs": [],
   "source": [
    "crimes_df.loc[crimes_df.local_ocorrencia == \"SUPERMERCADO \",'local_ocorrencia'] = 'SUPERMERCADO'"
   ]
  },
  {
   "cell_type": "code",
   "execution_count": 209,
   "id": "a33204ed",
   "metadata": {},
   "outputs": [],
   "source": [
    "crimes_df.loc[crimes_df.local_ocorrencia == \"SUPERMERCADO LIDER\",'local_ocorrencia'] = 'SUPERMERCADO'"
   ]
  },
  {
   "cell_type": "code",
   "execution_count": 210,
   "id": "9a79368b",
   "metadata": {},
   "outputs": [],
   "source": [
    "crimes_df.loc[crimes_df.local_ocorrencia == \"SALAO DE BELEZA \",'local_ocorrencia'] = 'SALAO DE BELEZA'"
   ]
  },
  {
   "cell_type": "code",
   "execution_count": 211,
   "id": "d6bee6d3",
   "metadata": {},
   "outputs": [],
   "source": [
    "crimes_df.loc[crimes_df.local_ocorrencia == \"POSTO DE GASOLINA \",'local_ocorrencia'] = 'POSTO DE GASOLINA'"
   ]
  },
  {
   "cell_type": "code",
   "execution_count": 212,
   "id": "32cff33c",
   "metadata": {},
   "outputs": [],
   "source": [
    "crimes_df.loc[crimes_df.local_ocorrencia == \"POSTO DE SAUDE \",'local_ocorrencia'] = 'POSTO DE SAUDE'"
   ]
  },
  {
   "cell_type": "code",
   "execution_count": 213,
   "id": "77c448a6",
   "metadata": {},
   "outputs": [],
   "source": [
    "crimes_df.loc[crimes_df.local_ocorrencia == \"CLINICA \",'local_ocorrencia'] = 'CLINICA'"
   ]
  },
  {
   "cell_type": "code",
   "execution_count": 214,
   "id": "3aa77522",
   "metadata": {},
   "outputs": [],
   "source": [
    "crimes_df.loc[crimes_df.local_ocorrencia == \"PANIFICADORA \",'local_ocorrencia'] = 'PANIFICADORA'"
   ]
  },
  {
   "cell_type": "code",
   "execution_count": 215,
   "id": "80bfed98",
   "metadata": {},
   "outputs": [],
   "source": [
    "crimes_df.loc[crimes_df.local_ocorrencia == \"CLUBE\\\\r\\\\n\",'local_ocorrencia'] = 'CLUBE'"
   ]
  },
  {
   "cell_type": "code",
   "execution_count": 216,
   "id": "ae9e6ac9",
   "metadata": {},
   "outputs": [],
   "source": [
    "crimes_df.loc[crimes_df.local_ocorrencia == \"CLUBES E AGREMIACOES\",'local_ocorrencia'] = 'CLUBE'"
   ]
  },
  {
   "cell_type": "code",
   "execution_count": 217,
   "id": "3c30509b",
   "metadata": {},
   "outputs": [],
   "source": [
    "crimes_df.loc[crimes_df.local_ocorrencia == \"INDUSTRIA\",'local_ocorrencia'] = 'ESTABELECIMENTO INDUSTRIAL'"
   ]
  },
  {
   "cell_type": "code",
   "execution_count": 218,
   "id": "286bd4c5",
   "metadata": {},
   "outputs": [],
   "source": [
    "crimes_df.loc[crimes_df.local_ocorrencia == \"ESTACIONAMENTO \",'local_ocorrencia'] = 'ESTACIONAMENTO'"
   ]
  },
  {
   "cell_type": "code",
   "execution_count": 219,
   "id": "1725332d",
   "metadata": {},
   "outputs": [],
   "source": [
    "crimes_df.loc[crimes_df.local_ocorrencia == \"ESTACIONAMENTO BANCARIO\",'local_ocorrencia'] = 'ESTACIONAMENTO'"
   ]
  },
  {
   "cell_type": "code",
   "execution_count": 220,
   "id": "74900133",
   "metadata": {},
   "outputs": [],
   "source": [
    "crimes_df.loc[crimes_df.local_ocorrencia == \"PROSTIBULO\",'local_ocorrencia'] = 'LOCAL DE PROSTITUICAO'"
   ]
  },
  {
   "cell_type": "code",
   "execution_count": 221,
   "id": "5cf8b19a",
   "metadata": {},
   "outputs": [],
   "source": [
    "crimes_df.loc[crimes_df.local_ocorrencia == \"CASA DE TOLERANCIA\",'local_ocorrencia'] = 'LOCAL DE PROSTITUICAO'"
   ]
  },
  {
   "cell_type": "code",
   "execution_count": 222,
   "id": "02047f36",
   "metadata": {},
   "outputs": [],
   "source": [
    "crimes_df.loc[crimes_df.local_ocorrencia == \"ESTADIO DE FUTEBOL\",'local_ocorrencia'] = 'ESTADIO ESPORTIVO'"
   ]
  },
  {
   "cell_type": "code",
   "execution_count": 223,
   "id": "fc2e476f",
   "metadata": {},
   "outputs": [],
   "source": [
    "crimes_df.loc[crimes_df.local_ocorrencia == \"LANCHONETE \",'local_ocorrencia'] =  'LANCHONETE'"
   ]
  },
  {
   "cell_type": "code",
   "execution_count": 224,
   "id": "4f8818fa",
   "metadata": {},
   "outputs": [],
   "source": [
    "crimes_df.loc[crimes_df.local_ocorrencia == \"SHOPPING \",'local_ocorrencia'] =  'SHOPPING'"
   ]
  },
  {
   "cell_type": "code",
   "execution_count": 225,
   "id": "dba8f945",
   "metadata": {},
   "outputs": [],
   "source": [
    "crimes_df.loc[crimes_df.local_ocorrencia == \"SHOPPING BOULEVARD\",'local_ocorrencia'] =  'SHOPPING'"
   ]
  },
  {
   "cell_type": "code",
   "execution_count": 226,
   "id": "b89f330a",
   "metadata": {},
   "outputs": [],
   "source": [
    "crimes_df.loc[crimes_df.local_ocorrencia == \"DEPOSITO \",'local_ocorrencia'] =  'DEPOSITO'"
   ]
  },
  {
   "cell_type": "code",
   "execution_count": 227,
   "id": "d5bfaccc",
   "metadata": {},
   "outputs": [],
   "source": [
    "crimes_df.loc[crimes_df.local_ocorrencia == \"DEPOSITO DE GAS \",'local_ocorrencia'] =  'DEPOSITO'"
   ]
  },
  {
   "cell_type": "code",
   "execution_count": 228,
   "id": "10ce8840",
   "metadata": {},
   "outputs": [],
   "source": [
    "crimes_df.loc[crimes_df.local_ocorrencia == \"LOCADORA DE AUTOMOVEIS\",'local_ocorrencia'] =  'LOCADORA'"
   ]
  },
  {
   "cell_type": "code",
   "execution_count": 229,
   "id": "6a7b8a90",
   "metadata": {},
   "outputs": [],
   "source": [
    "crimes_df.loc[crimes_df.local_ocorrencia == \"SINDICATO E ASSOCIACAO DE CLASSE\",'local_ocorrencia'] =  'SINDICATO'"
   ]
  },
  {
   "cell_type": "code",
   "execution_count": 230,
   "id": "668ad45f",
   "metadata": {},
   "outputs": [],
   "source": [
    "crimes_df.loc[crimes_df.local_ocorrencia == \"EM VEICULO\",'local_ocorrencia'] = 'VEICULO'"
   ]
  },
  {
   "cell_type": "code",
   "execution_count": 231,
   "id": "f69a53ce",
   "metadata": {},
   "outputs": [],
   "source": [
    "crimes_df.loc[crimes_df.local_ocorrencia == \"CARRO DE TRANSPORTE DE VALORES\",'local_ocorrencia'] = 'CARRO FORTE'"
   ]
  },
  {
   "cell_type": "code",
   "execution_count": 232,
   "id": "348919ed",
   "metadata": {},
   "outputs": [],
   "source": [
    "crimes_df.loc[crimes_df.local_ocorrencia == \"ABRIGO\",'local_ocorrencia'] = 'CASA DE ABRIGO E ASSISTENCIA'"
   ]
  },
  {
   "cell_type": "code",
   "execution_count": 233,
   "id": "339fb4ed",
   "metadata": {},
   "outputs": [],
   "source": [
    "crimes_df.loc[crimes_df.local_ocorrencia == \"ONIBUS\",'local_ocorrencia'] = 'TRANSPORTE(PUBLICO, URBANO, ETC)'"
   ]
  },
  {
   "cell_type": "code",
   "execution_count": 234,
   "id": "ee1bab98",
   "metadata": {},
   "outputs": [],
   "source": [
    "crimes_df.loc[crimes_df.local_ocorrencia == \"CENTRO LOTERICO\",'local_ocorrencia'] = 'LOTERICA'"
   ]
  },
  {
   "cell_type": "code",
   "execution_count": 235,
   "id": "c8f64a35",
   "metadata": {},
   "outputs": [],
   "source": [
    "crimes_df.loc[crimes_df.local_ocorrencia == \"ESTABELECIMENTO LOTERICO\",'local_ocorrencia'] = 'LOTERICA'"
   ]
  },
  {
   "cell_type": "code",
   "execution_count": 236,
   "id": "24b35472",
   "metadata": {},
   "outputs": [],
   "source": [
    "crimes_df.loc[crimes_df.local_ocorrencia == \"TRANSORTE\",'local_ocorrencia'] = 'TRANSPORTE(PUBLICO, URBANO, ETC)'"
   ]
  },
  {
   "cell_type": "code",
   "execution_count": 237,
   "id": "4a8b2d0e",
   "metadata": {},
   "outputs": [],
   "source": [
    "crimes_df.loc[crimes_df.local_ocorrencia == \"HOTEL\",'local_ocorrencia'] = 'HOTEL, PENSAO, ETC'"
   ]
  },
  {
   "cell_type": "code",
   "execution_count": 238,
   "id": "8bbca474",
   "metadata": {},
   "outputs": [],
   "source": [
    "crimes_df.loc[crimes_df.local_ocorrencia == \"AEROPORTOS / PISTA DE POUSO\",'local_ocorrencia'] = 'AEROPORTO'"
   ]
  },
  {
   "cell_type": "code",
   "execution_count": 239,
   "id": "fe25c5d0",
   "metadata": {},
   "outputs": [],
   "source": [
    "crimes_df.loc[crimes_df.local_ocorrencia == \"SEM INFORMACAO\",'local_ocorrencia'] =  'NAO INFORMADO'"
   ]
  },
  {
   "cell_type": "code",
   "execution_count": 240,
   "id": "d3a74593",
   "metadata": {},
   "outputs": [],
   "source": [
    "crimes_df.loc[crimes_df.local_ocorrencia == \"OUTRO\",'local_ocorrencia'] = 'OUTROS LOCAIS'\n"
   ]
  },
  {
   "cell_type": "code",
   "execution_count": 241,
   "id": "b4f5d51f",
   "metadata": {},
   "outputs": [],
   "source": [
    "novo_local_ocorrencia_unico = crimes_df[\"local_ocorrencia\"].unique()\n",
    "print(\"Numero unico de local_ocorrencia:\", len(novo_local_ocorrencia_unico))\n",
    "novo_local_ocorrencia_unico\n"
   ]
  },
  {
   "cell_type": "markdown",
   "id": "c44800f3",
   "metadata": {},
   "source": [
    "- Grau de relacionamento"
   ]
  },
  {
   "cell_type": "code",
   "execution_count": 242,
   "id": "6e8980bc",
   "metadata": {},
   "outputs": [],
   "source": [
    "grau_de_relac_unico = crimes_df[\"grau_de_relacionamento\"].unique()\n",
    "print(\"numero de itens unicos em grau_de_relacionamento:\", len(grau_de_relac_unico))\n",
    "grau_de_relac_unico"
   ]
  },
  {
   "cell_type": "code",
   "execution_count": 243,
   "id": "4b98bbf8",
   "metadata": {},
   "outputs": [],
   "source": [
    "crimes_df.loc[crimes_df.grau_de_relacionamento == \"Nao informado\",'grau_de_relacionamento'] = 'NAO INFORMADO'"
   ]
  },
  {
   "cell_type": "code",
   "execution_count": 244,
   "id": "e276a7d4",
   "metadata": {},
   "outputs": [],
   "source": [
    "crimes_df.loc[crimes_df.grau_de_relacionamento == \"EX COMPANHEIRO\",'grau_de_relacionamento'] =  'EX-COMPANHEIRO(A)'"
   ]
  },
  {
   "cell_type": "code",
   "execution_count": 245,
   "id": "9428959c",
   "metadata": {},
   "outputs": [],
   "source": [
    "crimes_df.loc[crimes_df.grau_de_relacionamento == \"TIO\",'grau_de_relacionamento'] =  'TIO(A)'"
   ]
  },
  {
   "cell_type": "code",
   "execution_count": 246,
   "id": "7bfb6b44",
   "metadata": {},
   "outputs": [],
   "source": [
    "crimes_df.loc[crimes_df.grau_de_relacionamento == \"TIO(A\",'grau_de_relacionamento'] =  'TIO(A)'"
   ]
  },
  {
   "cell_type": "code",
   "execution_count": 247,
   "id": "a2ec3efd",
   "metadata": {},
   "outputs": [],
   "source": [
    "crimes_df.loc[crimes_df.grau_de_relacionamento == \"PRIMA\",'grau_de_relacionamento'] =  'PRIMO(A)'"
   ]
  },
  {
   "cell_type": "code",
   "execution_count": 248,
   "id": "2733a4c7",
   "metadata": {},
   "outputs": [],
   "source": [
    "crimes_df.loc[crimes_df.grau_de_relacionamento == \"EX - CUNHADO(A)\",'grau_de_relacionamento'] =  'EX-CUNHADO(A)'"
   ]
  },
  {
   "cell_type": "code",
   "execution_count": 249,
   "id": "b5e284df",
   "metadata": {},
   "outputs": [],
   "source": [
    "crimes_df.loc[crimes_df.grau_de_relacionamento == \"EX-CUNHADA\",'grau_de_relacionamento'] =  'EX-CUNHADO(A)'"
   ]
  },
  {
   "cell_type": "code",
   "execution_count": 250,
   "id": "d041813c",
   "metadata": {},
   "outputs": [],
   "source": [
    "crimes_df.loc[crimes_df.grau_de_relacionamento == \"EX-CUNHADO (A)\",'grau_de_relacionamento'] =  'EX-CUNHADO(A)'"
   ]
  },
  {
   "cell_type": "code",
   "execution_count": 251,
   "id": "b1e23837",
   "metadata": {},
   "outputs": [],
   "source": [
    "crimes_df.loc[crimes_df.grau_de_relacionamento == \"EX-CUNHDO (A)\",'grau_de_relacionamento'] =  'EX-CUNHADO(A)'"
   ]
  },
  {
   "cell_type": "code",
   "execution_count": 252,
   "id": "271857e5",
   "metadata": {},
   "outputs": [],
   "source": [
    "crimes_df.loc[crimes_df.grau_de_relacionamento == \"NETO\",'grau_de_relacionamento'] =  'NETO(A)'"
   ]
  },
  {
   "cell_type": "code",
   "execution_count": 253,
   "id": "4005f312",
   "metadata": {},
   "outputs": [],
   "source": [
    "crimes_df.loc[crimes_df.grau_de_relacionamento == \"EX-PADASTRO\",'grau_de_relacionamento'] =  'EX-PADRASTO'"
   ]
  },
  {
   "cell_type": "code",
   "execution_count": 254,
   "id": "aa7a3721",
   "metadata": {},
   "outputs": [],
   "source": [
    "crimes_df.loc[crimes_df.grau_de_relacionamento == \"PARENTESCO POR AFINIDADE \",'grau_de_relacionamento'] =  'PARENTESCO POR AFINIDADE'"
   ]
  },
  {
   "cell_type": "code",
   "execution_count": 255,
   "id": "2bf3f9c2",
   "metadata": {},
   "outputs": [],
   "source": [
    "crimes_df.loc[crimes_df.grau_de_relacionamento == \"POR AFINIDADE\",'grau_de_relacionamento'] =  'PARENTESCO POR AFINIDADE'"
   ]
  },
  {
   "cell_type": "code",
   "execution_count": 256,
   "id": "fb49f4e0",
   "metadata": {},
   "outputs": [],
   "source": [
    "crimes_df.loc[crimes_df.grau_de_relacionamento == \"PARENTE POR AFINIDADE\",'grau_de_relacionamento'] =  'PARENTESCO POR AFINIDADE'"
   ]
  },
  {
   "cell_type": "code",
   "execution_count": 257,
   "id": "5902bf5f",
   "metadata": {},
   "outputs": [],
   "source": [
    "crimes_df.loc[crimes_df.grau_de_relacionamento == \"PREJUDUICADO\",'grau_de_relacionamento'] =  'PREJUDICADO'"
   ]
  },
  {
   "cell_type": "code",
   "execution_count": 258,
   "id": "dbb041ce",
   "metadata": {},
   "outputs": [],
   "source": [
    "crimes_df.loc[crimes_df.grau_de_relacionamento == \"PREJUDICAOD\",'grau_de_relacionamento'] =  'PREJUDICADO'"
   ]
  },
  {
   "cell_type": "code",
   "execution_count": 259,
   "id": "c6c73f8a",
   "metadata": {},
   "outputs": [],
   "source": [
    "crimes_df.loc[crimes_df.grau_de_relacionamento == \"PREJUICADO\",'grau_de_relacionamento'] =  'PREJUDICADO'"
   ]
  },
  {
   "cell_type": "code",
   "execution_count": 260,
   "id": "8775fc98",
   "metadata": {},
   "outputs": [],
   "source": [
    "crimes_df.loc[crimes_df.grau_de_relacionamento == \"EX-SOGRA\",'grau_de_relacionamento'] =   'EX-SOGRO(A)'"
   ]
  },
  {
   "cell_type": "code",
   "execution_count": 261,
   "id": "bd3cf73b",
   "metadata": {},
   "outputs": [],
   "source": [
    "crimes_df.loc[crimes_df.grau_de_relacionamento == \"EX-SOGRO (A)\",'grau_de_relacionamento'] =   'EX-SOGRO(A)'"
   ]
  },
  {
   "cell_type": "code",
   "execution_count": 262,
   "id": "7588fdff",
   "metadata": {},
   "outputs": [],
   "source": [
    "crimes_df[crimes_df['grau_de_relacionamento'] == \"JOSIVAN CONCEICAO DOS SANTOS\"]"
   ]
  },
  {
   "cell_type": "markdown",
   "id": "38dafe14",
   "metadata": {},
   "source": [
    "Como o crime consolidado não corresponde de fato a um crime contra a mulher, esta linha será excluida"
   ]
  },
  {
   "cell_type": "code",
   "execution_count": 263,
   "id": "9ca6b724",
   "metadata": {},
   "outputs": [],
   "source": [
    "crimes_df.drop(crimes_df[crimes_df['grau_de_relacionamento'] == \"JOSIVAN CONCEICAO DOS SANTOS\"].index, inplace=True)"
   ]
  },
  {
   "cell_type": "code",
   "execution_count": 264,
   "id": "3906265d",
   "metadata": {},
   "outputs": [],
   "source": [
    "crimes_df.reset_index(drop=True, inplace=True)"
   ]
  },
  {
   "cell_type": "code",
   "execution_count": 265,
   "id": "2f1b2b39",
   "metadata": {},
   "outputs": [],
   "source": [
    "crimes_df.loc[crimes_df['grau_de_relacionamento']=='PJ, EP E OUTROS']"
   ]
  },
  {
   "cell_type": "markdown",
   "id": "b1c10128",
   "metadata": {},
   "source": [
    "As linhas em que a coluna \"grau_de_relacionamento\" está preenchida com o valor \"PJ, EP, OUTROS\" serão removidas, dado que tal condição não possui impacto significativo na análise."
   ]
  },
  {
   "cell_type": "code",
   "execution_count": 266,
   "id": "1f85bef1",
   "metadata": {},
   "outputs": [],
   "source": [
    "crimes_df.drop(crimes_df.loc[crimes_df['grau_de_relacionamento']=='PJ, EP E OUTROS'].index, inplace=True)\n",
    "crimes_df.reset_index(drop=True, inplace=True)"
   ]
  },
  {
   "cell_type": "code",
   "execution_count": 267,
   "id": "5393487a",
   "metadata": {},
   "outputs": [],
   "source": [
    "novo_grau_de_relac_unico = crimes_df[\"grau_de_relacionamento\"].unique()\n",
    "print(\"numero de itens unicos em grau_de_relacionamento:\", len(novo_grau_de_relac_unico))\n",
    "novo_grau_de_relac_unico"
   ]
  },
  {
   "cell_type": "markdown",
   "id": "43e3317a",
   "metadata": {},
   "source": [
    "- vit_fx_etaria\t"
   ]
  },
  {
   "cell_type": "code",
   "execution_count": 268,
   "id": "8d85208b",
   "metadata": {},
   "outputs": [],
   "source": [
    "vit_fx_etaria_unico = crimes_df[\"vit_fx_etaria\"].unique()\n",
    "print(\"numero de itens unicos em vit_fx_etaria:\", len(vit_fx_etaria_unico))\n",
    "crimes_df.vit_fx_etaria.value_counts()"
   ]
  },
  {
   "cell_type": "code",
   "execution_count": 269,
   "id": "e14f7712",
   "metadata": {},
   "outputs": [],
   "source": [
    "crimes_df.loc[crimes_df['vit_fx_etaria']=='PJ, EP E OUTROS']"
   ]
  },
  {
   "cell_type": "code",
   "execution_count": 270,
   "id": "440209b6",
   "metadata": {},
   "outputs": [],
   "source": [
    "filtro_vit_fx_etaria = (crimes_df['vit_fx_etaria'] == 'PJ, EP E OUTROS')\n",
    "filtrado_vit_fx_etaria = crimes_df[filtro_vit_fx_etaria] \n",
    "tipos_consolidado = filtrado_vit_fx_etaria['consolidado'].value_counts()"
   ]
  },
  {
   "cell_type": "code",
   "execution_count": 271,
   "id": "15d6589d",
   "metadata": {},
   "outputs": [],
   "source": [
    "tipos_consolidado"
   ]
  },
  {
   "cell_type": "markdown",
   "id": "c21c88ad",
   "metadata": {},
   "source": [
    "Agora poderemos separar apenas crimes que podem ser considerados crimes contra a mulher.\n"
   ]
  },
  {
   "cell_type": "code",
   "execution_count": 272,
   "id": "3e7af2da",
   "metadata": {},
   "outputs": [],
   "source": [
    "crimes_df.drop(crimes_df[((crimes_df['vit_fx_etaria'] == 'PJ, EP E OUTROS') & (crimes_df['consolidado'].isin(['ROUBO', 'ESTELIONATO','FALSA IDENTIDADE','ACIDENTE DE TRANSITO SEM VITIMA','FURTO','PARA FINS DE DIREITO','RECUPERACAO DE VEICULOS','PESSOA ENCONTRADA','ACIDENTE FORTUITO COM LESAO','FALSIDADE IDEOLOGICA','COMUNICACAO DE OBITO'])))].index, inplace=True)\n",
    "crimes_df.reset_index(drop=True, inplace=True)"
   ]
  },
  {
   "cell_type": "code",
   "execution_count": 273,
   "id": "093cc550",
   "metadata": {},
   "outputs": [],
   "source": [
    "crimes_df.loc[crimes_df.vit_fx_etaria == \"IDOSO(A)\",'vit_fx_etaria'] = 'IDOSO (65 ANOS OU MAIS)'"
   ]
  },
  {
   "cell_type": "code",
   "execution_count": 274,
   "id": "7d6314cd",
   "metadata": {},
   "outputs": [],
   "source": [
    "crimes_df.loc[crimes_df.vit_fx_etaria == \"Nao informado\",'vit_fx_etaria'] = 'NAO INFORMADO'"
   ]
  },
  {
   "cell_type": "code",
   "execution_count": 275,
   "id": "00e45b1c",
   "metadata": {},
   "outputs": [],
   "source": [
    "crimes_df.loc[crimes_df['vit_fx_etaria']=='PREJUDICADO']"
   ]
  },
  {
   "cell_type": "code",
   "execution_count": 276,
   "id": "10df2c0f",
   "metadata": {},
   "outputs": [],
   "source": [
    "filtro_vit_fx_etaria_1 = (crimes_df['vit_fx_etaria'] == 'PREJUDICADO')\n",
    "filtrado_vit_fx_etaria_1 = crimes_df[filtro_vit_fx_etaria_1]\n",
    "idade_vit = filtrado_vit_fx_etaria_1['vit_idade'].value_counts()"
   ]
  },
  {
   "cell_type": "code",
   "execution_count": 277,
   "id": "206e0672",
   "metadata": {},
   "outputs": [],
   "source": [
    "idade_vit"
   ]
  },
  {
   "cell_type": "code",
   "execution_count": 278,
   "id": "4e6bca8c",
   "metadata": {},
   "outputs": [],
   "source": [
    "crimes_df[(crimes_df['vit_fx_etaria'] == 'PREJUDICADO') & (crimes_df['vit_idade'] == 36.0)]"
   ]
  },
  {
   "cell_type": "code",
   "execution_count": 279,
   "id": "c852549a",
   "metadata": {},
   "outputs": [],
   "source": [
    "crimes_df.loc[(crimes_df['vit_fx_etaria'] == 'PREJUDICADO') & (crimes_df['vit_idade'] == 36.0), 'vit_fx_etaria'] = 'ADULTO IV (35 A 64 ANOS)'"
   ]
  },
  {
   "cell_type": "code",
   "execution_count": 280,
   "id": "4a6ae1c6",
   "metadata": {},
   "outputs": [],
   "source": [
    "crimes_df.loc[(crimes_df['vit_fx_etaria'] == 'PREJUDICADO') & (crimes_df['vit_idade'] == 41.0), 'vit_fx_etaria'] = 'ADULTO IV (35 A 64 ANOS)'"
   ]
  },
  {
   "cell_type": "code",
   "execution_count": 281,
   "id": "f5e0a04e",
   "metadata": {},
   "outputs": [],
   "source": [
    "crimes_df.loc[(crimes_df['vit_fx_etaria'] == 'PREJUDICADO') & (crimes_df['vit_idade'] == 32.0), 'vit_fx_etaria'] = 'ADULTO III (30 A 34 ANOS)'"
   ]
  },
  {
   "cell_type": "code",
   "execution_count": 282,
   "id": "ac1e595c",
   "metadata": {},
   "outputs": [],
   "source": [
    "crimes_df.loc[(crimes_df['vit_fx_etaria'] == 'PREJUDICADO') & (crimes_df['vit_idade'] == 37.0), 'vit_fx_etaria'] = 'ADULTO IV (35 A 64 ANOS)'"
   ]
  },
  {
   "cell_type": "markdown",
   "id": "6bff6de8",
   "metadata": {},
   "source": [
    "Agora a coluna 'vit_idade' pode ser excluida "
   ]
  },
  {
   "cell_type": "code",
   "execution_count": 283,
   "id": "ed58a846",
   "metadata": {},
   "outputs": [],
   "source": [
    "crimes_df = crimes_df.drop(columns=['vit_idade'])\n",
    "crimes_df.reset_index(drop=True, inplace=True)"
   ]
  },
  {
   "cell_type": "code",
   "execution_count": 284,
   "id": "31c99351",
   "metadata": {},
   "outputs": [],
   "source": [
    "novo_vit_fx_etaria_unico = crimes_df[\"vit_fx_etaria\"].unique()\n",
    "print(\"Number of unique vit_fx_etaria:\", len(novo_vit_fx_etaria_unico))\n",
    "crimes_df.vit_fx_etaria.value_counts()"
   ]
  },
  {
   "cell_type": "code",
   "execution_count": 285,
   "id": "ebafd006",
   "metadata": {},
   "outputs": [],
   "source": [
    "filtro_vit_fx_etaria_2 = (crimes_df['vit_fx_etaria'] == 'PREJUDICADO')\n",
    "filtrado_vit_fx_etaria_2 = crimes_df[filtro_vit_fx_etaria_2]\n",
    "tipos_consolidado_1 = filtrado_vit_fx_etaria_2['consolidado'].unique()\n",
    "tipos_consolidado_1"
   ]
  },
  {
   "cell_type": "code",
   "execution_count": 286,
   "id": "6a46e54f",
   "metadata": {},
   "outputs": [],
   "source": [
    "crimes_df.drop(crimes_df[((crimes_df['vit_fx_etaria']== 'PREJUDICADO') & ~(crimes_df['consolidado'].isin(['LESAO CORPORAL', 'AMEACA', 'CONFLITOS FAMILIARES', 'ESTUPRO DE VULNERAVEL', 'TENTATIVA DE HOMICIDIO', 'MAUS TRATOS', 'LESAO CORPORAL CULPOSA', 'IMPORTUNACAO SEXUAL', 'ESTUPRO', 'INJURIA', 'VIAS DE FATO', 'HOMICIDIO', 'CONSTRANGIMENTO ILEGAL', 'TENTATIVA DE ESTUPRO DE VULNERAVEL', 'HOMICIDIO CULPOSO', 'DIFAMACAO', 'TENTATIVA DE ESTUPRO', 'ASSEDIO SEXUAL', 'INVASAO DE DISPOSITIVO INFORMATICO', 'ASSEDIO MORAL', 'VIOLACAO SEXUAL MEDIANTE FRAUDE', 'VIOLENCIA DOMESTICA E FAMILIAR CONTRA A MULHER', 'DESCUMPRIMENTO DE MEDIDAS PROTETIVAS DE URGENCIA', 'DESCUMPRIMENTO DE MEDIDAS PROTETIVAS'])))].index, inplace=True)\n",
    "crimes_df.reset_index(drop=True, inplace=True)"
   ]
  },
  {
   "cell_type": "markdown",
   "id": "b7486fa7",
   "metadata": {},
   "source": [
    "Como os valores 'PJ, EP E OUTROS', 'JA LANCADO' e  não são interessantes para a analise serão escluidos"
   ]
  },
  {
   "cell_type": "code",
   "execution_count": 287,
   "id": "64eec807",
   "metadata": {},
   "outputs": [],
   "source": [
    "crimes_df.drop(crimes_df.loc[crimes_df['vit_fx_etaria']=='JA LANCADO'].index, inplace=True)\n",
    "crimes_df.reset_index(drop=True, inplace=True)"
   ]
  },
  {
   "cell_type": "code",
   "execution_count": 288,
   "id": "c12ff589",
   "metadata": {},
   "outputs": [],
   "source": [
    "crimes_df.drop(crimes_df.loc[crimes_df['vit_fx_etaria']=='PJ, EP E OUTROS'].index, inplace=True)\n",
    "crimes_df.reset_index(drop=True, inplace=True)"
   ]
  },
  {
   "cell_type": "code",
   "execution_count": 289,
   "id": "2608db01",
   "metadata": {},
   "outputs": [],
   "source": [
    "novo_vit_fx_etaria_unico = crimes_df[\"vit_fx_etaria\"].unique()\n",
    "print(\"Number of unique vit_fx_etaria:\", len(novo_vit_fx_etaria_unico))\n",
    "crimes_df.vit_fx_etaria.value_counts()"
   ]
  },
  {
   "cell_type": "markdown",
   "id": "11e88b62",
   "metadata": {},
   "source": [
    "- meio_empregado_sisp"
   ]
  },
  {
   "cell_type": "code",
   "execution_count": 290,
   "id": "a5ef1846",
   "metadata": {},
   "outputs": [],
   "source": [
    "crimes_df.meio_empregado_sisp.value_counts()"
   ]
  },
  {
   "cell_type": "code",
   "execution_count": 291,
   "id": "2f1db215",
   "metadata": {},
   "outputs": [],
   "source": [
    "crimes_df.loc[crimes_df.meio_empregado_sisp == \"ARMA PERFURO CORTANTE_X000D_\\n\",'meio_empregado_sisp'] = 'ARMA PERFURO CORTANTE'"
   ]
  },
  {
   "cell_type": "code",
   "execution_count": 292,
   "id": "1d5eef92",
   "metadata": {},
   "outputs": [],
   "source": [
    "crimes_df.loc[crimes_df.meio_empregado_sisp == \"AUTOMÓVEL COMERCIAL\",'meio_empregado_sisp'] = 'AUTOMOVEL COMERCIAL'\n"
   ]
  },
  {
   "cell_type": "code",
   "execution_count": 293,
   "id": "510ea50a",
   "metadata": {},
   "outputs": [],
   "source": [
    "crimes_df.loc[crimes_df.meio_empregado_sisp == \"OUTROS\",'meio_empregado_sisp'] = 'OUTROS MEIOS'"
   ]
  },
  {
   "cell_type": "code",
   "execution_count": 294,
   "id": "bbd76ba6",
   "metadata": {},
   "outputs": [],
   "source": [
    "crimes_df.meio_empregado_sisp.value_counts()"
   ]
  },
  {
   "cell_type": "markdown",
   "id": "50dcc0a1",
   "metadata": {},
   "source": [
    "- causa_presumivel"
   ]
  },
  {
   "cell_type": "code",
   "execution_count": 295,
   "id": "ef5eefa8",
   "metadata": {},
   "outputs": [],
   "source": [
    "crimes_df.causa_presumivel.value_counts()"
   ]
  },
  {
   "cell_type": "code",
   "execution_count": 296,
   "id": "fc5e3511",
   "metadata": {},
   "outputs": [],
   "source": [
    "crimes_df.loc[crimes_df.causa_presumivel == \"IMPERICIA / IMPRUDENCIA / NEGLIGENCIA\",'causa_presumivel'] = 'IMPERÍCIA / IMPRUDÊNCIA / NEGLIGÊNCIA'"
   ]
  },
  {
   "cell_type": "code",
   "execution_count": 297,
   "id": "09de935e",
   "metadata": {},
   "outputs": [],
   "source": [
    "crimes_df.loc[crimes_df.causa_presumivel == \"AMBICÃO\",'causa_presumivel'] = 'AMBIÇÃO'"
   ]
  },
  {
   "cell_type": "code",
   "execution_count": 298,
   "id": "d0f5fb50",
   "metadata": {},
   "outputs": [],
   "source": [
    "crimes_df.loc[crimes_df.causa_presumivel == \"ÓDIO OU VINGANCA\",'causa_presumivel'] = 'ÓDIO OU VINGANÇA'"
   ]
  },
  {
   "cell_type": "code",
   "execution_count": 299,
   "id": "068fdad0",
   "metadata": {},
   "outputs": [],
   "source": [
    "crimes_df.loc[crimes_df.causa_presumivel == \"CIUME\",'causa_presumivel'] = 'CIÚME'"
   ]
  },
  {
   "cell_type": "code",
   "execution_count": 300,
   "id": "443f4486",
   "metadata": {},
   "outputs": [],
   "source": [
    "crimes_df.loc[crimes_df.causa_presumivel == \"ALIENACAO\",'causa_presumivel'] = 'ALIENAÇÃO'"
   ]
  },
  {
   "cell_type": "code",
   "execution_count": 301,
   "id": "8b5281e5",
   "metadata": {},
   "outputs": [],
   "source": [
    "crimes_df.loc[crimes_df.causa_presumivel == \"ALIENACÃO\",'causa_presumivel'] = 'ALIENAÇÃO'"
   ]
  },
  {
   "cell_type": "code",
   "execution_count": 302,
   "id": "aba6bd9f",
   "metadata": {},
   "outputs": [],
   "source": [
    "crimes_df.loc[crimes_df.causa_presumivel == \"DEVASSIDAO\",'causa_presumivel'] = 'DEVASSIDÃO'"
   ]
  },
  {
   "cell_type": "code",
   "execution_count": 303,
   "id": "91e0ca38",
   "metadata": {},
   "outputs": [],
   "source": [
    "crimes_df.causa_presumivel.value_counts()"
   ]
  },
  {
   "cell_type": "markdown",
   "id": "1bbf77c4",
   "metadata": {},
   "source": [
    "- fx_4_hor"
   ]
  },
  {
   "cell_type": "code",
   "execution_count": 304,
   "id": "f09fe323",
   "metadata": {},
   "outputs": [],
   "source": [
    "crimes_df.fx_4_hor.value_counts()"
   ]
  },
  {
   "cell_type": "markdown",
   "id": "1af9db1c",
   "metadata": {},
   "source": [
    "- ano_fato"
   ]
  },
  {
   "cell_type": "code",
   "execution_count": 305,
   "id": "310110d3",
   "metadata": {},
   "outputs": [],
   "source": [
    "crimes_df.ano_fato.value_counts()"
   ]
  },
  {
   "cell_type": "code",
   "execution_count": 306,
   "id": "ae1b7718",
   "metadata": {},
   "outputs": [],
   "source": [
    "crimes_df[crimes_df['ano_fato']== 2012]"
   ]
  },
  {
   "cell_type": "markdown",
   "id": "c4f10e3e",
   "metadata": {},
   "source": [
    "Devido a analise ser sobre os crimes de 2019 a 2022, as linhas que não estão neste intervalo serão removidas."
   ]
  },
  {
   "cell_type": "code",
   "execution_count": 307,
   "id": "1afdf84c",
   "metadata": {},
   "outputs": [],
   "source": [
    "crimes_df.drop(crimes_df[crimes_df['ano_fato'].isin([2012, 2018])].index, inplace=True)"
   ]
  },
  {
   "cell_type": "code",
   "execution_count": 308,
   "id": "a82011c1",
   "metadata": {},
   "outputs": [],
   "source": [
    "crimes_df.ano_fato.value_counts()"
   ]
  },
  {
   "cell_type": "code",
   "execution_count": null,
   "id": "603b8720",
   "metadata": {},
   "outputs": [],
   "source": []
  },
  {
   "cell_type": "code",
   "execution_count": null,
   "id": "62ad737d",
   "metadata": {},
   "outputs": [],
   "source": []
  },
  {
   "cell_type": "code",
   "execution_count": null,
   "id": "68c6e229",
   "metadata": {},
   "outputs": [],
   "source": []
  }
 ],
 "metadata": {
  "kernelspec": {
   "display_name": "Python 3 (ipykernel)",
   "language": "python",
   "name": "python3"
  },
  "language_info": {
   "codemirror_mode": {
    "name": "ipython",
    "version": 3
   },
   "file_extension": ".py",
   "mimetype": "text/x-python",
   "name": "python",
   "nbconvert_exporter": "python",
   "pygments_lexer": "ipython3",
   "version": "3.11.7"
  }
 },
 "nbformat": 4,
 "nbformat_minor": 5
}
