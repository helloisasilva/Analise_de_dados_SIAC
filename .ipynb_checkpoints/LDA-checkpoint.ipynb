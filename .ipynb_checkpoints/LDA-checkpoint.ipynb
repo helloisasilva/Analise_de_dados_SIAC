{
 "cells": [
  {
   "cell_type": "code",
   "execution_count": 30,
   "metadata": {},
   "outputs": [],
   "source": [
    "import pandas as pd\n",
    "import numpy as np\n",
    "import altair as alt"
   ]
  },
  {
   "cell_type": "code",
   "execution_count": 31,
   "metadata": {},
   "outputs": [
    {
     "name": "stderr",
     "output_type": "stream",
     "text": [
      "[nltk_data] Downloading package stopwords to\n",
      "[nltk_data]     C:\\Users\\carlo\\AppData\\Roaming\\nltk_data...\n",
      "[nltk_data]   Package stopwords is already up-to-date!\n"
     ]
    }
   ],
   "source": [
    "from sklearn.feature_extraction.text import CountVectorizer\n",
    "import nltk\n",
    "nltk.download('stopwords')\n",
    "from nltk.corpus import stopwords\n",
    "\n",
    "import re\n",
    "from time import time"
   ]
  },
  {
   "cell_type": "code",
   "execution_count": 32,
   "metadata": {},
   "outputs": [],
   "source": [
    "df_relatos= pd.read_csv('C:\\\\Users\\\\manut\\\\Downloads\\\\base_tratada(2019-2023).csv')\n"
   ]
  },
  {
   "cell_type": "code",
   "execution_count": null,
   "metadata": {},
   "outputs": [],
   "source": [
    "total_palavras = df_relatos['relato'].apply(lambda x: len(x.split())).sum()\n",
    "\n",
    "print(f'Total de palavras no DataFrame: {total_palavras}')"
   ]
  },
  {
   "cell_type": "code",
   "execution_count": 4,
   "metadata": {},
   "outputs": [
    {
     "data": {
      "text/plain": [
       "(47607, 21)"
      ]
     },
     "execution_count": 4,
     "metadata": {},
     "output_type": "execute_result"
    }
   ],
   "source": [
    "df_relatos.shape"
   ]
  },
  {
   "cell_type": "code",
   "execution_count": 5,
   "metadata": {},
   "outputs": [],
   "source": [
    "relatos=df_relatos[['relato']]"
   ]
  },
  {
   "cell_type": "code",
   "execution_count": 33,
   "metadata": {},
   "outputs": [
    {
     "data": {
      "text/plain": [
       "0        nacional marisangela ferreira pacheco uipp - t...\n",
       "1        relatora qualificada , seccional urbana políci...\n",
       "2        , especializada denunciar irmão ailton silva f...\n",
       "3        relator qualificado , qualidade policial milit...\n",
       "4        relatora qualificada epígrafe seccional comuni...\n",
       "                               ...                        \n",
       "47602    relatora qualificada comparece seccional polic...\n",
       "47603    casada natanael dantas rocha junior , nascido ...\n",
       "47604    relatora seccional policia civil sao bras comu...\n",
       "47605    relatora qualificada comparece seccional polic...\n",
       "47606    relatora qualificada comparece especializada c...\n",
       "Name: relato, Length: 47607, dtype: object"
      ]
     },
     "execution_count": 33,
     "metadata": {},
     "output_type": "execute_result"
    }
   ],
   "source": [
    "relatos['relato']"
   ]
  },
  {
   "cell_type": "code",
   "execution_count": 34,
   "metadata": {},
   "outputs": [
    {
     "data": {
      "text/plain": [
       "['nacional marisangela ferreira pacheco uipp terra firme comunicar citados trabalhando esposa funcinário trabalhar chamada nezia chaves gomes fazendo escândalo frente loja relatora trabalha mulher dizia vou pegar cortar toda cara desa puta vou deixar arreada chão furar todinha textuais vítima diz tempo nezia espalha relatora caso marido levy baia relatora trabalha sente constrangida fofocas ameaças tempo pede levy convencer esposa dois relação rapaz faz nada fica calado sabe suspeita reside marambaia passagem simão jatene número água cristal trabalha passagem francisco xavier final jabatiteua padaria fica esquina próximo vileta',\n",
       " 'relatora qualificada seccional urbana polícia declarar enquanto visitava tia nacional geraldina brito sales hospital saúde mulher localizada humaita marco agredida fisicamente tapas arranhões puxões socos região rosto tórax membros superiores nacional simone carla sales duarte prima contenda começou devido problemas familiares relatora revidou procurou afastar ímpeto agressivo nacional satisfeita nacional agressora proferiu impropérios dentro louca pilantra safada filha puta etc momentos antes realizou atos contra outros parentes dentro deste hospital local momento agressões presentes enfermeiras plantão estando disponíveis testemunhas findo ocorrência relatora dirigiu seccional urbana pois pretende tomar devidas providências legais registra direito',\n",
       " 'especializada denunciar irmão ailton silva farias taxista humaitá casa bairro pedreira belém comunica irmão agressivo relatora limpando residência ouviu populares gritando ailton matar marido relatora correu presenciou ailton faca tentando acertar marido relatora dentro veículo relatora ailton matar marido relatora puxou ailton braço ailton tentou furar relatora faca filha relatora correu conseguiu segurar ailton ofendeu relatora vagabunda prostituta ladrona relatora afirma ailton alcoolizado oferecido abrigo relatora interesse oferecido medidas protetivas relatora requererá seguintes aproximação ofendida familiares testemunhas limite mínimo distância agressor contato ofendida familiares testemunhas qualquer comunicação deseja representar criminalmente contra ailton silva farias taxista humaitá casa bairro pedreira belém apresentou filha testemunha vania gleyce ribeiro tavares registra',\n",
       " 'relator qualificado qualidade policial militar apresenta nessa delegacia especializada nacional david melo mamede solteiro nascido natural belém filho maria iraci oliveira melo antônio jarbas gonçalves mamede ocupação beco jorge pass nova rua iracema bairro marambaia belém virtude ter agredido fisicamente ameaçado companheira vania sousa farias solteira nascida natural augusto correa filha rosilene sousa farias antônio ferreira farias autônoma rua airton senna próximo brasil bairro horas coqueiro ananindeua horas serviço ronda bairro marambaia acionado via ciop informação havia casal discutindo residência ato contínuo dirigiu endereço informado encontrou vítima relatou desde ontem casal discutindo chegou registrar ocorrência manhã novamente ameaçado morte agredido fisicamente diante tal situação todos conduzidos apresentados autoridade policial plantonista determinou lavratura auto prisão flagrante delito crime lesão corporal ameaça violência doméstica registra providências cabíveis',\n",
       " 'relatora qualificada epígrafe seccional comunicar vítima ameças companheiro dheison rosário souza domiciliado rua santa lucia santa izabel fato recebeu ligação telefônica companheiro ameaçou relatora atual namorado walter soldado policia militar dizendo poderia colocar pra dormir residência pois pertencia relatora poderia colocar pra dormir perto filhos durante ligação dheison ameaçou dizendo textuais perdeu noção perigoso vai acabar conviveu companheiro durante relacionamento dois filhos ketheleen ramos messias ramos vivem relatora separados quatro nunca aceitou fim relacionamento relatora registrou bop ameaças agressão física tentativa estupro contra dheison aparece vez imóvel relatora pois local oficina bicicleta dheison utiliza desculpa local usar equipamentos metalúrgica fazer trabalhos oficina residência santa izabel ademais entra permissão relatora residência acesso casa mulher antonia mora lado dheison invade residência utilizando chave mestra relatora trocou cadeados fechaduras respeita domicílio sairá residência período pois sentindo ameaçada senhor marcos sebastião pereira mendes irá domiciliar temporariamente residência reparar local trabalha oficina fica térreo imóvel registra']"
      ]
     },
     "execution_count": 34,
     "metadata": {},
     "output_type": "execute_result"
    }
   ],
   "source": [
    "stop_words = set(stopwords.words(\"portuguese\"))\n",
    "stop_words.update(['fica', 'fim', 'ato', 'desde', 'pois', 'abadessa',\n",
    "                   'abaetetuba', 'abaetetuba abaetetuba', 'abaetetuba contatos',\n",
    "                   'abaixa', 'abaixada', 'abaixado', 'abaixar','abaixar som', 'abaixar volume',\n",
    "                   'abaixasse', 'abaixasse som', 'abaixo', 'abaixo assinado','abaixo elencadas', \n",
    "                   'abaixo informacoes', 'abaixo olho','abaixo proibicao', 'abaixo proibição', \n",
    "                   'abaixou', 'abaixou pegar','abaixou vidro',])\n",
    "\n",
    "stop_words = list(stop_words)\n",
    "\n",
    "\n",
    "relatos_limpos = []\n",
    "for w in range(len(relatos)):\n",
    "  Relato = relatos['relato'].iloc[w]\n",
    "\n",
    "  Relato  = re.sub(\"(\\\\d|\\\\W)+|\\w*\\d\\w*\",\" \",Relato )\n",
    "  Relato = ' '.join(s for s in Relato.split() if (not any(c.isdigit() for c in s)) and len(s) > 2)\n",
    "  relatos_limpos.append(Relato)\n",
    "\n",
    "\n",
    "relatos_limpos[0:5]"
   ]
  },
  {
   "cell_type": "markdown",
   "metadata": {},
   "source": [
    "* Processo de vetorização"
   ]
  },
  {
   "cell_type": "code",
   "execution_count": 35,
   "metadata": {},
   "outputs": [
    {
     "name": "stderr",
     "output_type": "stream",
     "text": [
      "c:\\Users\\carlo\\AppData\\Local\\Programs\\Python\\Python311\\Lib\\site-packages\\sklearn\\feature_extraction\\text.py:408: UserWarning: Your stop_words may be inconsistent with your preprocessing. Tokenizing the stop words generated tokens ['assinado', 'contatos', 'elencadas', 'informacoes', 'olho', 'pegar', 'proibicao', 'proibição', 'som', 'vidro', 'volume'] not in stop_words.\n",
      "  warnings.warn(\n"
     ]
    },
    {
     "name": "stdout",
     "output_type": "stream",
     "text": [
      "(47607, 100000)\n",
      "100000\n"
     ]
    }
   ],
   "source": [
    "tf_vectorizer = CountVectorizer(\n",
    "    min_df=5,           # Considera palavras que aparecem em pelo menos 5 documentos\n",
    "    max_df=0.5,          # Exclui termos que aparecem em mais de 50% dos documentos\n",
    "    max_features=100000,  # Limita o número de termos no vocabulário aos 100.000 mais frequentes\n",
    "    stop_words=stop_words, # Remove palavras comuns que não são úteis\n",
    "    ngram_range=(1, 2)   # Considera uni-gramas (termos únicos) e bi-gramas (pares de termos)\n",
    ")\n",
    "\n",
    "#Transformação\n",
    "vec_text = tf_vectorizer.fit_transform(relatos_limpos)\n",
    "\n",
    "#Retorna a lista de palavras\n",
    "words = tf_vectorizer.get_feature_names_out()\n",
    "\n",
    "print(vec_text.shape)\n",
    "print(len(words))"
   ]
  },
  {
   "cell_type": "code",
   "execution_count": 36,
   "metadata": {},
   "outputs": [
    {
     "data": {
      "text/plain": [
       "array(['abala', 'abalada', 'abalada chorando', 'abalada declarante',\n",
       "       'abalada devido', 'abalada emocionalmente', 'abalada medo',\n",
       "       'abalada psicologicamente', 'abalada situacao', 'abalada teme',\n",
       "       'abaladas', 'abalado', 'abalado psicologico', 'abalados',\n",
       "       'abalando', 'abalando psicologico', 'abalar', 'abalda', 'abalo',\n",
       "       'abalo emocional'], dtype=object)"
      ]
     },
     "execution_count": 36,
     "metadata": {},
     "output_type": "execute_result"
    }
   ],
   "source": [
    "words[0:20]"
   ]
  },
  {
   "cell_type": "markdown",
   "metadata": {},
   "source": [
    "* Encontrar os tópicos"
   ]
  },
  {
   "cell_type": "code",
   "execution_count": 37,
   "metadata": {},
   "outputs": [],
   "source": [
    "from sklearn.decomposition import LatentDirichletAllocation"
   ]
  },
  {
   "cell_type": "code",
   "execution_count": 47,
   "metadata": {},
   "outputs": [],
   "source": [
    "def print_top_words(model, feature_names, n_top_words):\n",
    "  for topic_idx, topic in enumerate(model.components_):\n",
    "    print(\"\\n--\\nTopic #{}: \".format(topic_idx + 1))\n",
    "    message = \", \".join([feature_names[i]\n",
    "                          for i in topic.argsort()[:-n_top_words - 1:-1]])\n",
    "    print(message)\n",
    "  print()\n",
    "\n",
    "def display_topics(W, H, feature_names, relatos, no_top_words, no_top_documents):\n",
    "    for topic_idx, topic in enumerate(H):\n",
    "        print(\"\\n--\\nTopic #{}: \".format(topic_idx + 1))\n",
    "        print(\", \".join([feature_names[i]\n",
    "                for i in topic.argsort()[:-no_top_words - 1:-1]]).upper())\n",
    "        top_d_idx = np.argsort(W[:,topic_idx])[::-1][0:no_top_documents]\n",
    "        for d in top_d_idx:\n",
    "            print('Relato índice {} : \\t{:.2f}'.format(d, W[d, topic_idx]))"
   ]
  },
  {
   "cell_type": "code",
   "execution_count": 40,
   "metadata": {},
   "outputs": [
    {
     "name": "stdout",
     "output_type": "stream",
     "text": [
      "done in 673.965s.\n"
     ]
    }
   ],
   "source": [
    "lda = LatentDirichletAllocation(n_components=20, \n",
    "                                learning_method='batch', # 'online' equivale a minibatch no k-means\n",
    "                                random_state=0)\n",
    "\n",
    "t0 = time()\n",
    "\n",
    "lda.fit(vec_text)\n",
    "doc_topic_matrix = lda.transform(vec_text)\n",
    "\n",
    "print(\"done in %0.3fs.\" % (time() - t0))"
   ]
  },
  {
   "cell_type": "markdown",
   "metadata": {},
   "source": [
    "* Palavras mais associadas com cada tópico"
   ]
  },
  {
   "cell_type": "code",
   "execution_count": 43,
   "metadata": {},
   "outputs": [
    {
     "name": "stdout",
     "output_type": "stream",
     "text": [
      "\n",
      "Topics in LDA model:\n",
      "\n",
      "--\n",
      "Topic #1: \n",
      "vitima, local, policial, militar, jurunas, silva, vtr, ciop, santos, bairro, fato, acusado, via, havia, guarnicao, relator, sido, policia, sgt, rua\n",
      "\n",
      "--\n",
      "Topic #2: \n",
      "nacional, seccional, icoaraci, urbana, seccional urbana, local, fato, companheiro, silva, carlos, comunicar, bairro, qualificada, sacramenta, rua, qualificada seccional, marambaia, passagem, momento, relatante\n",
      "\n",
      "--\n",
      "Topic #3: \n",
      "medidas, protetivas, medidas protetivas, companheiro, deseja, relacionamento, filhos, filho, criminalmente, comunicante, contra, cpf, especializada, abrigo, silva, vai, representar, bairro, meses, nascido\n",
      "\n",
      "--\n",
      "Topic #4: \n",
      "vou, textuais, filha, nacional, vai, residencia, ameaca, rua, mae, ameacas, comunicar, bairro, seguintes, maria, vem, irmao, palavras, vitima, sra, silva\n",
      "\n",
      "--\n",
      "Topic #5: \n",
      "ofendida, proibicao, ofendida familiares, familiares, familiares testemunhas, testemunhas, contato, agressor, contato ofendida, limite, qualquer, frequentar, preservar, preservar integridade, lugares, determinados lugares, determinados, frequentar determinados, integridade, medidas\n",
      "\n",
      "--\n",
      "Topic #6: \n",
      "mae, contatos, belem, nascimento, belem contatos, nascimento mae, fdata, fdata nascimento, comunicante, ameaca, fato, informacoes, crime, mencionados crime, envolvido, fato comunicante, envolvido fato, informacoes envolvido, gmail, comunicante vitima\n",
      "\n",
      "--\n",
      "Topic #7: \n",
      "momento, havia, declarante, ficou, escola, filha, pediu, passou, local, tendo, sala, hospital, trabalho, fazer, falou, chegou, seguida, perguntou, quarto, iria\n",
      "\n",
      "--\n",
      "Topic #8: \n",
      "filha, comunica, rua, fisicamente, filho, vítima, rosto, comunicar, mãe, marido, começou, socos, agrediu, direito, corporal, agredida, agredir, lesão, bairro, delegacia\n",
      "\n",
      "--\n",
      "Topic #9: \n",
      "depoente, leandro, celular, aparelho, ameaça, através, comunica, frente, veiculo, vítima, momento, mencionados vítima, comunica através, seguinte, através delegacia, ameaça seguinte, aparelho celular, iria, igor, filho\n",
      "\n",
      "--\n",
      "Topic #10: \n",
      "declarante, companheiro, filho, medidas, protetivas, medidas protetivas, contra, ofendida, agressor, bairro, belém, casal, proibição, textuais, abrigo, contato, vou, nacional, rua, filhos\n",
      "\n",
      "--\n",
      "Topic #11: \n",
      "adolescente, filha, sexual, fato, comunicante, crianca, especializada, exame, nascida, qualificada, encaminhada, criança, silva, vitima, relatora qualificada, abuso, genitora, sido, santa, encaminha\n",
      "\n",
      "--\n",
      "Topic #12: \n",
      "mensagens, nacional, afirma, whatsapp, fato, via, sra, mensagem, pedreira, seccional, recebeu, depoente, vem, numero, comunicar, fotos, vai, facebook, ameacas, tal\n",
      "\n",
      "--\n",
      "Topic #13: \n",
      "nacional, local, comunicar, seccional, informar, comunicante, vem, fato, policia, veiculo, sao, providencias, qualificada, bras, sao bras, vitima, central, vem seccional, legais, relatora vem\n",
      "\n",
      "--\n",
      "Topic #14: \n",
      "nacional, vítima, ameaças, ameaça, seccional, fato, residência, silva, local, providências, depoente, informar, comunicante, comunicar, parte, morte, ameaçada, santos, qualificada, após\n",
      "\n",
      "--\n",
      "Topic #15: \n",
      "nacional, policial, havia, delegacia, local, militar, bairro, silva, rua, sra, especializada, policiais, guarnição, vítima, souza, relator, antonio, agredido, paulo, policial militar\n",
      "\n",
      "--\n",
      "Topic #16: \n",
      "declarante, aludido, vitima, menor, bairro, dado, medidas, residencia, passou, conhecimento, declara, genitora, possui, filha, optou, relatante, rua, medidas protetivas, protetivas, sito\n",
      "\n",
      "--\n",
      "Topic #17: \n",
      "declarante, declarado, ofendida, proibicao, filho, familiares, testemunhas, medidas, protetivas, medidas protetivas, especializada, ofendida familiares, familiares testemunhas, agressor, vitima, contra, telefone, relacionamento, casa abrigo, fisica\n",
      "\n",
      "--\n",
      "Topic #18: \n",
      "vitima, filho, contra, delegacia, mulher, comunica, violencia, familiar, qualificada, domestica, relatora qualificada, violencia domestica, pra, denunciado, mencionados, seguinte, mae, dados, contra mulher, nome\n",
      "\n",
      "--\n",
      "Topic #19: \n",
      "relator, seguinte, qualificado, delegacia, relator qualificado, virtual, qualificado comunica, comunica, delegacia virtual, mencionados, virtual mencionados, ameaca, valor, ameaca seguinte, vitima, comunica delegacia, vitima ameaca, reais, mencionados vitima, pra\n",
      "\n",
      "--\n",
      "Topic #20: \n",
      "depoente, relata, vitima, relacionamento, filho, mae, jose, deseja, citado, residencia, silva, apos, chegou, filhos, telefone, nacional, local, celular, embora, iria\n",
      "\n"
     ]
    }
   ],
   "source": [
    "print(\"\\nTopics in LDA model:\")\n",
    "tf_feature_names = tf_vectorizer.get_feature_names_out()\n",
    "print_top_words(lda, tf_feature_names, 20)"
   ]
  },
  {
   "cell_type": "markdown",
   "metadata": {},
   "source": [
    "* Documentos mais associados a cada topico"
   ]
  },
  {
   "cell_type": "code",
   "execution_count": 46,
   "metadata": {},
   "outputs": [
    {
     "name": "stdout",
     "output_type": "stream",
     "text": [
      "\n",
      "--\n",
      "Topic #1: \n",
      "VITIMA, LOCAL, POLICIAL, MILITAR, JURUNAS, SILVA, VTR, CIOP, SANTOS, BAIRRO, FATO, ACUSADO, VIA, HAVIA, GUARNICAO\n",
      "Relato índice 46236 : \t0.99\n",
      "Relato índice 20186 : \t0.99\n",
      "Relato índice 45953 : \t0.99\n",
      "Relato índice 45954 : \t0.99\n",
      "Relato índice 37598 : \t0.99\n",
      "Relato índice 37033 : \t0.99\n",
      "Relato índice 35298 : \t0.99\n",
      "Relato índice 46848 : \t0.99\n",
      "Relato índice 41540 : \t0.99\n",
      "Relato índice 40374 : \t0.99\n",
      "\n",
      "--\n",
      "Topic #2: \n",
      "NACIONAL, SECCIONAL, ICOARACI, URBANA, SECCIONAL URBANA, LOCAL, FATO, COMPANHEIRO, SILVA, CARLOS, COMUNICAR, BAIRRO, QUALIFICADA, SACRAMENTA, RUA\n",
      "Relato índice 24085 : \t0.99\n",
      "Relato índice 12875 : \t0.94\n",
      "Relato índice 19521 : \t0.91\n",
      "Relato índice 37192 : \t0.91\n",
      "Relato índice 20995 : \t0.90\n",
      "Relato índice 29567 : \t0.90\n",
      "Relato índice 40004 : \t0.88\n",
      "Relato índice 33894 : \t0.87\n",
      "Relato índice 33935 : \t0.87\n",
      "Relato índice 13788 : \t0.87\n",
      "\n",
      "--\n",
      "Topic #3: \n",
      "MEDIDAS, PROTETIVAS, MEDIDAS PROTETIVAS, COMPANHEIRO, DESEJA, RELACIONAMENTO, FILHOS, FILHO, CRIMINALMENTE, COMUNICANTE, CONTRA, CPF, ESPECIALIZADA, ABRIGO, SILVA\n",
      "Relato índice 43768 : \t1.00\n",
      "Relato índice 33852 : \t1.00\n",
      "Relato índice 22109 : \t1.00\n",
      "Relato índice 38514 : \t0.99\n",
      "Relato índice 38434 : \t0.99\n",
      "Relato índice 44271 : \t0.99\n",
      "Relato índice 43825 : \t0.99\n",
      "Relato índice 45752 : \t0.99\n",
      "Relato índice 39380 : \t0.99\n",
      "Relato índice 43401 : \t0.98\n",
      "\n",
      "--\n",
      "Topic #4: \n",
      "VOU, TEXTUAIS, FILHA, NACIONAL, VAI, RESIDENCIA, AMEACA, RUA, MAE, AMEACAS, COMUNICAR, BAIRRO, SEGUINTES, MARIA, VEM\n",
      "Relato índice 29984 : \t1.00\n",
      "Relato índice 35893 : \t0.99\n",
      "Relato índice 31319 : \t0.99\n",
      "Relato índice 36629 : \t0.99\n",
      "Relato índice 44202 : \t0.99\n",
      "Relato índice 30770 : \t0.99\n",
      "Relato índice 23369 : \t0.99\n",
      "Relato índice 33655 : \t0.99\n",
      "Relato índice 32721 : \t0.99\n",
      "Relato índice 32399 : \t0.99\n",
      "\n",
      "--\n",
      "Topic #5: \n",
      "OFENDIDA, PROIBICAO, OFENDIDA FAMILIARES, FAMILIARES, FAMILIARES TESTEMUNHAS, TESTEMUNHAS, CONTATO, AGRESSOR, CONTATO OFENDIDA, LIMITE, QUALQUER, FREQUENTAR, PRESERVAR, PRESERVAR INTEGRIDADE, LUGARES\n",
      "Relato índice 36153 : \t1.00\n",
      "Relato índice 42322 : \t1.00\n",
      "Relato índice 30319 : \t1.00\n",
      "Relato índice 29915 : \t1.00\n",
      "Relato índice 19349 : \t1.00\n",
      "Relato índice 24705 : \t1.00\n",
      "Relato índice 28426 : \t1.00\n",
      "Relato índice 24559 : \t1.00\n",
      "Relato índice 26635 : \t1.00\n",
      "Relato índice 43709 : \t1.00\n",
      "\n",
      "--\n",
      "Topic #6: \n",
      "MAE, CONTATOS, BELEM, NASCIMENTO, BELEM CONTATOS, NASCIMENTO MAE, FDATA, FDATA NASCIMENTO, COMUNICANTE, AMEACA, FATO, INFORMACOES, CRIME, MENCIONADOS CRIME, ENVOLVIDO\n",
      "Relato índice 43649 : \t1.00\n",
      "Relato índice 36696 : \t1.00\n",
      "Relato índice 40201 : \t1.00\n",
      "Relato índice 41695 : \t1.00\n",
      "Relato índice 40534 : \t1.00\n",
      "Relato índice 29686 : \t1.00\n",
      "Relato índice 42404 : \t1.00\n",
      "Relato índice 47097 : \t1.00\n",
      "Relato índice 29023 : \t1.00\n",
      "Relato índice 44545 : \t1.00\n",
      "\n",
      "--\n",
      "Topic #7: \n",
      "MOMENTO, HAVIA, DECLARANTE, FICOU, ESCOLA, FILHA, PEDIU, PASSOU, LOCAL, TENDO, SALA, HOSPITAL, TRABALHO, FAZER, FALOU\n",
      "Relato índice 20465 : \t0.99\n",
      "Relato índice 33562 : \t0.99\n",
      "Relato índice 21296 : \t0.99\n",
      "Relato índice 41002 : \t0.96\n",
      "Relato índice 41001 : \t0.96\n",
      "Relato índice 42380 : \t0.95\n",
      "Relato índice 26496 : \t0.94\n",
      "Relato índice 25168 : \t0.93\n",
      "Relato índice 26942 : \t0.92\n",
      "Relato índice 8887 : \t0.92\n",
      "\n",
      "--\n",
      "Topic #8: \n",
      "FILHA, COMUNICA, RUA, FISICAMENTE, FILHO, VÍTIMA, ROSTO, COMUNICAR, MÃE, MARIDO, COMEÇOU, SOCOS, AGREDIU, DIREITO, CORPORAL\n",
      "Relato índice 4890 : \t1.00\n",
      "Relato índice 17410 : \t1.00\n",
      "Relato índice 12279 : \t0.99\n",
      "Relato índice 293 : \t0.99\n",
      "Relato índice 8260 : \t0.99\n",
      "Relato índice 5066 : \t0.99\n",
      "Relato índice 2823 : \t0.99\n",
      "Relato índice 8725 : \t0.99\n",
      "Relato índice 7285 : \t0.99\n",
      "Relato índice 1417 : \t0.99\n",
      "\n",
      "--\n",
      "Topic #9: \n",
      "DEPOENTE, LEANDRO, CELULAR, APARELHO, AMEAÇA, ATRAVÉS, COMUNICA, FRENTE, VEICULO, VÍTIMA, MOMENTO, MENCIONADOS VÍTIMA, COMUNICA ATRAVÉS, SEGUINTE, ATRAVÉS DELEGACIA\n",
      "Relato índice 18501 : \t0.99\n",
      "Relato índice 28390 : \t0.99\n",
      "Relato índice 35724 : \t0.99\n",
      "Relato índice 6415 : \t0.89\n",
      "Relato índice 43307 : \t0.89\n",
      "Relato índice 43294 : \t0.89\n",
      "Relato índice 13166 : \t0.88\n",
      "Relato índice 12890 : \t0.88\n",
      "Relato índice 10711 : \t0.88\n",
      "Relato índice 12880 : \t0.86\n",
      "\n",
      "--\n",
      "Topic #10: \n",
      "DECLARANTE, COMPANHEIRO, FILHO, MEDIDAS, PROTETIVAS, MEDIDAS PROTETIVAS, CONTRA, OFENDIDA, AGRESSOR, BAIRRO, BELÉM, CASAL, PROIBIÇÃO, TEXTUAIS, ABRIGO\n",
      "Relato índice 7193 : \t1.00\n",
      "Relato índice 4666 : \t1.00\n",
      "Relato índice 3762 : \t1.00\n",
      "Relato índice 13381 : \t1.00\n",
      "Relato índice 14585 : \t1.00\n",
      "Relato índice 9061 : \t1.00\n",
      "Relato índice 703 : \t1.00\n",
      "Relato índice 6255 : \t1.00\n",
      "Relato índice 1555 : \t1.00\n",
      "Relato índice 6987 : \t1.00\n",
      "\n",
      "--\n",
      "Topic #11: \n",
      "ADOLESCENTE, FILHA, SEXUAL, FATO, COMUNICANTE, CRIANCA, ESPECIALIZADA, EXAME, NASCIDA, QUALIFICADA, ENCAMINHADA, CRIANÇA, SILVA, VITIMA, RELATORA QUALIFICADA\n",
      "Relato índice 7145 : \t1.00\n",
      "Relato índice 4061 : \t0.99\n",
      "Relato índice 34852 : \t0.99\n",
      "Relato índice 18244 : \t0.99\n",
      "Relato índice 17161 : \t0.99\n",
      "Relato índice 32732 : \t0.99\n",
      "Relato índice 4023 : \t0.99\n",
      "Relato índice 9453 : \t0.99\n",
      "Relato índice 32733 : \t0.99\n",
      "Relato índice 12754 : \t0.99\n",
      "\n",
      "--\n",
      "Topic #12: \n",
      "MENSAGENS, NACIONAL, AFIRMA, WHATSAPP, FATO, VIA, SRA, MENSAGEM, PEDREIRA, SECCIONAL, RECEBEU, DEPOENTE, VEM, NUMERO, COMUNICAR\n",
      "Relato índice 42542 : \t1.00\n",
      "Relato índice 42794 : \t0.99\n",
      "Relato índice 37843 : \t0.99\n",
      "Relato índice 29344 : \t0.99\n",
      "Relato índice 35504 : \t0.99\n",
      "Relato índice 35793 : \t0.99\n",
      "Relato índice 31286 : \t0.99\n",
      "Relato índice 22992 : \t0.99\n",
      "Relato índice 18949 : \t0.99\n",
      "Relato índice 30390 : \t0.99\n",
      "\n",
      "--\n",
      "Topic #13: \n",
      "NACIONAL, LOCAL, COMUNICAR, SECCIONAL, INFORMAR, COMUNICANTE, VEM, FATO, POLICIA, VEICULO, SAO, PROVIDENCIAS, QUALIFICADA, BRAS, SAO BRAS\n",
      "Relato índice 35153 : \t0.99\n",
      "Relato índice 20300 : \t0.99\n",
      "Relato índice 24996 : \t0.99\n",
      "Relato índice 24286 : \t0.99\n",
      "Relato índice 38460 : \t0.99\n",
      "Relato índice 41219 : \t0.99\n",
      "Relato índice 44003 : \t0.99\n",
      "Relato índice 28624 : \t0.99\n",
      "Relato índice 32871 : \t0.98\n",
      "Relato índice 24145 : \t0.98\n",
      "\n",
      "--\n",
      "Topic #14: \n",
      "NACIONAL, VÍTIMA, AMEAÇAS, AMEAÇA, SECCIONAL, FATO, RESIDÊNCIA, SILVA, LOCAL, PROVIDÊNCIAS, DEPOENTE, INFORMAR, COMUNICANTE, COMUNICAR, PARTE\n",
      "Relato índice 2557 : \t0.99\n",
      "Relato índice 16392 : \t0.99\n",
      "Relato índice 11370 : \t0.99\n",
      "Relato índice 13332 : \t0.99\n",
      "Relato índice 2274 : \t0.99\n",
      "Relato índice 16546 : \t0.99\n",
      "Relato índice 12354 : \t0.99\n",
      "Relato índice 17334 : \t0.99\n",
      "Relato índice 7845 : \t0.99\n",
      "Relato índice 14473 : \t0.99\n",
      "\n",
      "--\n",
      "Topic #15: \n",
      "NACIONAL, POLICIAL, HAVIA, DELEGACIA, LOCAL, MILITAR, BAIRRO, SILVA, RUA, SRA, ESPECIALIZADA, POLICIAIS, GUARNIÇÃO, VÍTIMA, SOUZA\n",
      "Relato índice 18019 : \t1.00\n",
      "Relato índice 8612 : \t1.00\n",
      "Relato índice 8610 : \t1.00\n",
      "Relato índice 1268 : \t0.99\n",
      "Relato índice 4815 : \t0.99\n",
      "Relato índice 11107 : \t0.99\n",
      "Relato índice 17221 : \t0.99\n",
      "Relato índice 18057 : \t0.99\n",
      "Relato índice 16137 : \t0.99\n",
      "Relato índice 10806 : \t0.99\n",
      "\n",
      "--\n",
      "Topic #16: \n",
      "DECLARANTE, ALUDIDO, VITIMA, MENOR, BAIRRO, DADO, MEDIDAS, RESIDENCIA, PASSOU, CONHECIMENTO, DECLARA, GENITORA, POSSUI, FILHA, OPTOU\n",
      "Relato índice 33737 : \t0.99\n",
      "Relato índice 16753 : \t0.96\n",
      "Relato índice 582 : \t0.95\n",
      "Relato índice 714 : \t0.93\n",
      "Relato índice 711 : \t0.93\n",
      "Relato índice 42223 : \t0.91\n",
      "Relato índice 44228 : \t0.91\n",
      "Relato índice 42751 : \t0.89\n",
      "Relato índice 30099 : \t0.89\n",
      "Relato índice 4432 : \t0.87\n",
      "\n",
      "--\n",
      "Topic #17: \n",
      "DECLARANTE, DECLARADO, OFENDIDA, PROIBICAO, FILHO, FAMILIARES, TESTEMUNHAS, MEDIDAS, PROTETIVAS, MEDIDAS PROTETIVAS, ESPECIALIZADA, OFENDIDA FAMILIARES, FAMILIARES TESTEMUNHAS, AGRESSOR, VITIMA\n",
      "Relato índice 39742 : \t1.00\n",
      "Relato índice 41548 : \t1.00\n",
      "Relato índice 38855 : \t1.00\n",
      "Relato índice 46044 : \t1.00\n",
      "Relato índice 46134 : \t1.00\n",
      "Relato índice 37998 : \t1.00\n",
      "Relato índice 37971 : \t1.00\n",
      "Relato índice 46719 : \t1.00\n",
      "Relato índice 46927 : \t1.00\n",
      "Relato índice 46926 : \t1.00\n",
      "\n",
      "--\n",
      "Topic #18: \n",
      "VITIMA, FILHO, CONTRA, DELEGACIA, MULHER, COMUNICA, VIOLENCIA, FAMILIAR, QUALIFICADA, DOMESTICA, RELATORA QUALIFICADA, VIOLENCIA DOMESTICA, PRA, DENUNCIADO, MENCIONADOS\n",
      "Relato índice 20660 : \t0.99\n",
      "Relato índice 20267 : \t0.99\n",
      "Relato índice 24038 : \t0.99\n",
      "Relato índice 22385 : \t0.99\n",
      "Relato índice 28849 : \t0.99\n",
      "Relato índice 23859 : \t0.99\n",
      "Relato índice 27606 : \t0.99\n",
      "Relato índice 35166 : \t0.99\n",
      "Relato índice 35841 : \t0.99\n",
      "Relato índice 23779 : \t0.99\n",
      "\n",
      "--\n",
      "Topic #19: \n",
      "RELATOR, SEGUINTE, QUALIFICADO, DELEGACIA, RELATOR QUALIFICADO, VIRTUAL, QUALIFICADO COMUNICA, COMUNICA, DELEGACIA VIRTUAL, MENCIONADOS, VIRTUAL MENCIONADOS, AMEACA, VALOR, AMEACA SEGUINTE, VITIMA\n",
      "Relato índice 22951 : \t0.99\n",
      "Relato índice 22287 : \t0.99\n",
      "Relato índice 26245 : \t0.99\n",
      "Relato índice 22755 : \t0.99\n",
      "Relato índice 18780 : \t0.99\n",
      "Relato índice 22518 : \t0.99\n",
      "Relato índice 22935 : \t0.99\n",
      "Relato índice 22667 : \t0.99\n",
      "Relato índice 26897 : \t0.99\n",
      "Relato índice 25751 : \t0.99\n",
      "\n",
      "--\n",
      "Topic #20: \n",
      "DEPOENTE, RELATA, VITIMA, RELACIONAMENTO, FILHO, MAE, JOSE, DESEJA, CITADO, RESIDENCIA, SILVA, APOS, CHEGOU, FILHOS, TELEFONE\n",
      "Relato índice 21768 : \t0.96\n",
      "Relato índice 20342 : \t0.96\n",
      "Relato índice 24059 : \t0.96\n",
      "Relato índice 20181 : \t0.96\n",
      "Relato índice 26436 : \t0.96\n",
      "Relato índice 26437 : \t0.96\n",
      "Relato índice 20279 : \t0.96\n",
      "Relato índice 21439 : \t0.96\n",
      "Relato índice 20230 : \t0.96\n",
      "Relato índice 20336 : \t0.96\n"
     ]
    }
   ],
   "source": [
    "display_topics(doc_topic_matrix, lda.components_, tf_feature_names, relatos, 15, 10)\n"
   ]
  },
  {
   "cell_type": "code",
   "execution_count": 42,
   "metadata": {},
   "outputs": [
    {
     "name": "stdout",
     "output_type": "stream",
     "text": [
      "Matriz documento-tópicos:(47607, 20)\n",
      "Matriz tópicos-termos:(20, 100000)\n"
     ]
    }
   ],
   "source": [
    "print('Matriz documento-tópicos:' + str(doc_topic_matrix.shape))\n",
    "print('Matriz tópicos-termos:' + str(lda.components_.shape))"
   ]
  },
  {
   "cell_type": "code",
   "execution_count": 58,
   "metadata": {},
   "outputs": [],
   "source": [
    "main_topic = []\n",
    "mt_prob = []\n",
    "for l in range(len(relatos['relato'])):\n",
    "  main_topic.append(doc_topic_matrix[l, :].argmax() + 1)\n",
    "  mt_prob.append(doc_topic_matrix[l, :].max())\n",
    "\n",
    "relatos = relatos.assign(main_topic=main_topic, main_topic_prob=mt_prob)\n"
   ]
  },
  {
   "cell_type": "code",
   "execution_count": 61,
   "metadata": {},
   "outputs": [
    {
     "data": {
      "text/html": [
       "<div>\n",
       "<style scoped>\n",
       "    .dataframe tbody tr th:only-of-type {\n",
       "        vertical-align: middle;\n",
       "    }\n",
       "\n",
       "    .dataframe tbody tr th {\n",
       "        vertical-align: top;\n",
       "    }\n",
       "\n",
       "    .dataframe thead th {\n",
       "        text-align: right;\n",
       "    }\n",
       "</style>\n",
       "<table border=\"1\" class=\"dataframe\">\n",
       "  <thead>\n",
       "    <tr style=\"text-align: right;\">\n",
       "      <th></th>\n",
       "      <th>main_topic_prob</th>\n",
       "      <th>relato</th>\n",
       "    </tr>\n",
       "  </thead>\n",
       "  <tbody>\n",
       "    <tr>\n",
       "      <th>31536</th>\n",
       "      <td>0.849471</td>\n",
       "      <td>//////////////////// relatora seccional urbana icoaraci presente , comunicar vitima agressoes fisicas parte nacional sueli , rua chico mendes , n° 36 ( fundos ) bairro paracuri ii-icoaraci ; declina motivo agressoes pede devidas providencias . registre-se////////////////// &amp; &amp; &amp;</td>\n",
       "    </tr>\n",
       "    <tr>\n",
       "      <th>40004</th>\n",
       "      <td>0.880122</td>\n",
       "      <td>gm celio silva apresenta nacional eduardo jose malave silva , ameacou nacional delma julia torres guedes sampaio luis carlos pinho monte ; , fato interior camar-ii , eduardo venezuelano estaacolhido espaco , local ameacados trabalham . registra-se legais.////////////</td>\n",
       "    </tr>\n",
       "    <tr>\n",
       "      <th>6168</th>\n",
       "      <td>0.811794</td>\n",
       "      <td>declarante qualificada trabalha artesã 08:30hs encontrava-se encontrava-se companhia esposo sr. haroldo sebastião silva , ambos residentes rua vitor hugo , casa , _____ , invasão grão pará , bairro ariramba , ilha mosqueiro , lá chegou filho fabricio josé maciel silva , nº 6423529 brasileiro , p...</td>\n",
       "    </tr>\n",
       "    <tr>\n",
       "      <th>4081</th>\n",
       "      <td>0.836619</td>\n",
       "      <td>relatora seccional urbana icoaraci , local mencionado comunicar ameaçada leticia talita souza cantão reside rua padre julio maria 1407 , berredos souza franco , motivo ex marido sandro juliano mendes oliveira filho letícia agora descobriu juliano voltou relatora letícia 12/08/2019 12:00 mandou r...</td>\n",
       "    </tr>\n",
       "    <tr>\n",
       "      <th>24085</th>\n",
       "      <td>0.987662</td>\n",
       "      <td>relatora seccional comunicar , local supracitados filho , maycon roberto batista oliveira , 36 , rua heroes montese , nº 745 , bairro marambaia , chegou alcoolizado casa , iniciou discussao esposa , neste momento neto relator , julio cesar reis oliveira , 16 , agredido fisicamente socos maycon ,...</td>\n",
       "    </tr>\n",
       "    <tr>\n",
       "      <th>20995</th>\n",
       "      <td>0.903261</td>\n",
       "      <td>seccional icoaraci relatar agredida fisica mente caminhava via publica nacional pre elizabeth conhecida beth esperando local proximidades conjunto citado , beth faca , declarante conseguiu puxar faca maoes , agredida beth rosto , caindo chao puxou cabelo declarante , motivado beth declarante and...</td>\n",
       "    </tr>\n",
       "    <tr>\n",
       "      <th>28473</th>\n",
       "      <td>0.847871</td>\n",
       "      <td>declarante identificada seccional urbana marambaia comunicar agredida socos ameacada nacional prenome “ angela ” atual companheira pai filhos . relatante casa ex-companheiro deixar filhos menores cuidado pai enquanto iria realizar algumas compras fato desagradou “ angela ” iniciou desentendiment...</td>\n",
       "    </tr>\n",
       "    <tr>\n",
       "      <th>13788</th>\n",
       "      <td>0.873577</td>\n",
       "      <td>/// relatora qualificada seccional urbana icoaraci , comunicar supracitados surpreendida nacionais telma amador , diene amador , delma amador alexandra , parentes esposo declarante , passaram ameaçar relatora morte , seguida partiram vias fato contra relatora , telma amador ofendeu partiu vias f...</td>\n",
       "    </tr>\n",
       "    <tr>\n",
       "      <th>19521</th>\n",
       "      <td>0.911124</td>\n",
       "      <td>¿////////////////////////// nacional qualificada seccional supracitados comunicar vitima agressoes fisicas desferidas ex companheiro luiz pereira cruz 54 ( cinquenta quatro ) rua andradas 8 maio n° 11 ( vila kitnets ) , relata nacional alem agressoes fisicas agrediu palavras &amp; fato &amp; via publica...</td>\n",
       "    </tr>\n",
       "    <tr>\n",
       "      <th>2576</th>\n",
       "      <td>0.811429</td>\n",
       "      <td>relatora vem seccional juntamente companheiro bruno santos freitas , ambus vem ameaçados nacional enelyanne regina brito costa , reside marques herval nº 2526 alferes costa dr freitas , pois aceita fim relacionamento bruno motivo ciume tentou agredir relatora botando risco gravides relatora regi...</td>\n",
       "    </tr>\n",
       "  </tbody>\n",
       "</table>\n",
       "</div>"
      ],
      "text/plain": [
       "       main_topic_prob  \\\n",
       "31536         0.849471   \n",
       "40004         0.880122   \n",
       "6168          0.811794   \n",
       "4081          0.836619   \n",
       "24085         0.987662   \n",
       "20995         0.903261   \n",
       "28473         0.847871   \n",
       "13788         0.873577   \n",
       "19521         0.911124   \n",
       "2576          0.811429   \n",
       "\n",
       "                                                                                                                                                                                                                                                                                                            relato  \n",
       "31536                      //////////////////// relatora seccional urbana icoaraci presente , comunicar vitima agressoes fisicas parte nacional sueli , rua chico mendes , n° 36 ( fundos ) bairro paracuri ii-icoaraci ; declina motivo agressoes pede devidas providencias . registre-se////////////////// & & &  \n",
       "40004                                  gm celio silva apresenta nacional eduardo jose malave silva , ameacou nacional delma julia torres guedes sampaio luis carlos pinho monte ; , fato interior camar-ii , eduardo venezuelano estaacolhido espaco , local ameacados trabalham . registra-se legais.////////////  \n",
       "6168   declarante qualificada trabalha artesã 08:30hs encontrava-se encontrava-se companhia esposo sr. haroldo sebastião silva , ambos residentes rua vitor hugo , casa , _____ , invasão grão pará , bairro ariramba , ilha mosqueiro , lá chegou filho fabricio josé maciel silva , nº 6423529 brasileiro , p...  \n",
       "4081   relatora seccional urbana icoaraci , local mencionado comunicar ameaçada leticia talita souza cantão reside rua padre julio maria 1407 , berredos souza franco , motivo ex marido sandro juliano mendes oliveira filho letícia agora descobriu juliano voltou relatora letícia 12/08/2019 12:00 mandou r...  \n",
       "24085  relatora seccional comunicar , local supracitados filho , maycon roberto batista oliveira , 36 , rua heroes montese , nº 745 , bairro marambaia , chegou alcoolizado casa , iniciou discussao esposa , neste momento neto relator , julio cesar reis oliveira , 16 , agredido fisicamente socos maycon ,...  \n",
       "20995  seccional icoaraci relatar agredida fisica mente caminhava via publica nacional pre elizabeth conhecida beth esperando local proximidades conjunto citado , beth faca , declarante conseguiu puxar faca maoes , agredida beth rosto , caindo chao puxou cabelo declarante , motivado beth declarante and...  \n",
       "28473  declarante identificada seccional urbana marambaia comunicar agredida socos ameacada nacional prenome “ angela ” atual companheira pai filhos . relatante casa ex-companheiro deixar filhos menores cuidado pai enquanto iria realizar algumas compras fato desagradou “ angela ” iniciou desentendiment...  \n",
       "13788  /// relatora qualificada seccional urbana icoaraci , comunicar supracitados surpreendida nacionais telma amador , diene amador , delma amador alexandra , parentes esposo declarante , passaram ameaçar relatora morte , seguida partiram vias fato contra relatora , telma amador ofendeu partiu vias f...  \n",
       "19521  ¿////////////////////////// nacional qualificada seccional supracitados comunicar vitima agressoes fisicas desferidas ex companheiro luiz pereira cruz 54 ( cinquenta quatro ) rua andradas 8 maio n° 11 ( vila kitnets ) , relata nacional alem agressoes fisicas agrediu palavras & fato & via publica...  \n",
       "2576   relatora vem seccional juntamente companheiro bruno santos freitas , ambus vem ameaçados nacional enelyanne regina brito costa , reside marques herval nº 2526 alferes costa dr freitas , pois aceita fim relacionamento bruno motivo ciume tentou agredir relatora botando risco gravides relatora regi...  "
      ]
     },
     "execution_count": 61,
     "metadata": {},
     "output_type": "execute_result"
    }
   ],
   "source": [
    "topico = 2\n",
    "pd.options.display.max_colwidth = 300\n",
    "relatos[relatos['main_topic'] == topico].sort_values('main_topic_prob', ascending = False)[['main_topic_prob','relato']].head(20).sample(10)"
   ]
  }
 ],
 "metadata": {
  "kernelspec": {
   "display_name": "Python 3 (ipykernel)",
   "language": "python",
   "name": "python3"
  },
  "language_info": {
   "codemirror_mode": {
    "name": "ipython",
    "version": 3
   },
   "file_extension": ".py",
   "mimetype": "text/x-python",
   "name": "python",
   "nbconvert_exporter": "python",
   "pygments_lexer": "ipython3",
   "version": "3.11.7"
  }
 },
 "nbformat": 4,
 "nbformat_minor": 2
}
